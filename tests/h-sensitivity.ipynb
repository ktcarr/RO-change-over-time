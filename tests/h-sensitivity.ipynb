{
 "cells": [
  {
   "cell_type": "markdown",
   "id": "3b2f89a1-cdc7-4e87-a5d4-d9c01d2a87bb",
   "metadata": {},
   "source": [
    "## Imports\n",
    "(```XRO``` scripts are located in ```src/``` directory)"
   ]
  },
  {
   "cell_type": "code",
   "execution_count": null,
   "id": "a6b4cd66-ffe9-4231-b2f0-4653b4892508",
   "metadata": {},
   "outputs": [],
   "source": [
    "import matplotlib.pyplot as plt\n",
    "import numpy as np\n",
    "import seaborn as sns\n",
    "import xarray as xr\n",
    "import pathlib\n",
    "import os\n",
    "\n",
    "# Custom modules\n",
    "import src.XRO\n",
    "import src.XRO_utils\n",
    "\n",
    "## set plotting specs\n",
    "sns.set(rc={\"axes.facecolor\": \"white\", \"axes.grid\": False})\n",
    "\n",
    "## get filepaths\n",
    "DATA_FP = pathlib.Path(os.environ[\"DATA_FP\"])"
   ]
  },
  {
   "cell_type": "markdown",
   "id": "68b0e1b6-a70a-4578-9ecd-662fcd050a6c",
   "metadata": {},
   "source": [
    "## Detrending function"
   ]
  },
  {
   "cell_type": "code",
   "execution_count": null,
   "id": "13c97cae-a4aa-4d34-aa3e-36577769484e",
   "metadata": {},
   "outputs": [],
   "source": [
    "def detrend_dim(data, dim=\"time\", deg=1):\n",
    "    \"\"\"\n",
    "    Detrend along a single dimension.\n",
    "    'data' is an xr.Dataset or xr.DataArray\n",
    "    \"\"\"\n",
    "    ## First, check if data is a dataarray. If so,\n",
    "    ## convert to dataset\n",
    "    is_dataarray = type(data) is xr.DataArray\n",
    "    if is_dataarray:\n",
    "        data = xr.Dataset({data.name: data})\n",
    "\n",
    "    ## Compute the linear best fit\n",
    "    p = data.polyfit(dim=dim, deg=deg, skipna=True)\n",
    "    fit = xr.polyval(data[dim], p)\n",
    "\n",
    "    ## empty array to hold results\n",
    "    data_detrended = np.nan * xr.ones_like(data)\n",
    "\n",
    "    ## Subtract the linear best fit for each variable\n",
    "    varnames = list(data)\n",
    "    for varname in varnames:\n",
    "        data_detrended[varname] = data[varname] - fit[f\"{varname}_polyfit_coefficients\"]\n",
    "\n",
    "    if is_dataarray:\n",
    "        varname = list(data_detrended)[0]\n",
    "        data_detrended = data_detrended[varname]\n",
    "\n",
    "    return data_detrended"
   ]
  },
  {
   "cell_type": "markdown",
   "id": "2cf16af4-c0d1-43cc-955b-f13e44a4ea00",
   "metadata": {},
   "source": [
    "## Load data and pre-process"
   ]
  },
  {
   "cell_type": "code",
   "execution_count": null,
   "id": "2e923936-9b3d-4ecd-b582-db22ac668120",
   "metadata": {},
   "outputs": [],
   "source": [
    "## load indices\n",
    "# idx_total = xr.open_dataset(\"./RO_indices_ssh.nc\")\n",
    "idx_total = xr.open_dataset(\"./RO_indices_d20.nc\")\n",
    "\n",
    "## estimate ``forced'' signal by removing 2nd-order polynomial from each calendar month\n",
    "detrend_fn = lambda x: detrend_dim(x, dim=\"time\", deg=3)\n",
    "idx = idx_total.groupby(\"time.month\").map(detrend_fn)\n",
    "idx_forced = idx_total - idx\n",
    "\n",
    "## standardize for convenience\n",
    "idx /= idx.std()"
   ]
  },
  {
   "cell_type": "markdown",
   "id": "662d1344-288b-4716-99a8-d8f03148b680",
   "metadata": {},
   "source": [
    "## Fit RO"
   ]
  },
  {
   "cell_type": "code",
   "execution_count": null,
   "id": "842ad0d0-d022-475d-86ef-654a50e5bf2b",
   "metadata": {},
   "outputs": [],
   "source": [
    "## specify order of annual cycle\n",
    "ac_order = 2\n",
    "\n",
    "## initialize model\n",
    "model = src.XRO.XRO(ncycle=12, ac_order=ac_order, is_forward=True)\n",
    "\n",
    "## get fit\n",
    "fit_h = model.fit_matrix(idx[[\"T_34\", \"h\"]])\n",
    "fit_hw = model.fit_matrix(idx[[\"T_3\", \"h_w\"]])\n",
    "\n",
    "## extract params\n",
    "p_h = model.get_RO_parameters(fit_h)\n",
    "p_hw = model.get_RO_parameters(fit_hw)"
   ]
  },
  {
   "cell_type": "markdown",
   "id": "0f27d522-864c-45d9-8735-c86a141c7c5b",
   "metadata": {},
   "source": [
    "## Plot parameters"
   ]
  },
  {
   "cell_type": "code",
   "execution_count": null,
   "id": "e78da0c6-6cc0-45aa-b381-f2746b59d09f",
   "metadata": {},
   "outputs": [],
   "source": [
    "## colors for plotting\n",
    "col = sns.color_palette()\n",
    "\n",
    "## set up plot\n",
    "fig, axs = plt.subplots(1, 3, figsize=(6.5, 2), layout=\"constrained\")\n",
    "\n",
    "\n",
    "## plot R and eps on LHS\n",
    "axs[0].plot(p_h.cycle, p_h[\"R\"], label=r\"$h=\\overline{h}$\", c=col[0])\n",
    "axs[0].plot(p_h.cycle, p_hw[\"R\"], label=r\"$h=h_w$\", c=col[1])\n",
    "\n",
    "axs[1].plot(p_h.cycle, p_h[\"epsilon\"], c=col[0])\n",
    "axs[1].plot(p_h.cycle, p_hw[\"epsilon\"], c=col[1])\n",
    "\n",
    "axs[2].plot(p_h.cycle, p_h[\"BJ_ac\"])\n",
    "axs[2].plot(p_hw.cycle, p_hw[\"BJ_ac\"])\n",
    "\n",
    "for ax in axs:\n",
    "    ## format\n",
    "    ax.axhline(0, ls=\"-\", c=\"k\", lw=0.5)\n",
    "    ax.set_xticks([1, 7, 12], labels=[\"Jan\", \"Jul\", \"Dec\"])\n",
    "    ax.set_ylim([-4, 3.2])\n",
    "\n",
    "## label\n",
    "axs[1].set_yticks([])\n",
    "axs[2].set_yticks([])\n",
    "axs[0].set_yticks([-3, 0, 3])\n",
    "axs[0].legend(prop=dict(size=8))\n",
    "axs[0].set_ylabel(\"year$^{-1}$\")\n",
    "axs[0].set_title(r\"$R$\")\n",
    "axs[1].set_title(r\"$\\varepsilon$\")\n",
    "axs[2].set_title(r\"$BJ$\")\n",
    "\n",
    "plt.show()"
   ]
  },
  {
   "cell_type": "markdown",
   "id": "104bf498-5d2a-41bf-92e5-9f95ecde9f07",
   "metadata": {},
   "source": [
    "## supplement\n",
    "These are functions I used to compute indices"
   ]
  },
  {
   "cell_type": "code",
   "execution_count": null,
   "id": "19ae5f15-92ee-47e3-bd15-45865cb7d8ef",
   "metadata": {},
   "outputs": [],
   "source": [
    "def get_nino34(data):\n",
    "    \"\"\"compute Niño 3.4 index from data\"\"\"\n",
    "\n",
    "    ## get indexer\n",
    "    idx = dict(latitude=slice(-5, 5), longitude=slice(190, 240))\n",
    "\n",
    "    return spatial_avg(data.sel(idx))\n",
    "\n",
    "\n",
    "def get_nino3(data):\n",
    "    \"\"\"compute Niño 3 index from data\"\"\"\n",
    "\n",
    "    ## get indexer\n",
    "    idx = dict(latitude=slice(-5, 5), longitude=slice(210, 270))\n",
    "\n",
    "    return spatial_avg(data.sel(idx))\n",
    "\n",
    "\n",
    "def get_RO_h(data):\n",
    "    \"\"\"compute RO's 'h' index from data\"\"\"\n",
    "\n",
    "    ## get indexer\n",
    "    idx = dict(latitude=slice(-5, 5), longitude=slice(120, 280))\n",
    "\n",
    "    return spatial_avg(data.sel(idx))\n",
    "\n",
    "\n",
    "def get_RO_hw(data):\n",
    "    \"\"\"compute RO's 'h' index from data\"\"\"\n",
    "\n",
    "    ## get indexer\n",
    "    idx = dict(latitude=slice(-5, 5), longitude=slice(120, 210))\n",
    "\n",
    "    return spatial_avg(data.sel(idx))\n",
    "\n",
    "\n",
    "def get_RO_indices(data, h_var=\"ssh\"):\n",
    "    \"\"\"compute possible indices for RO from given dataset\"\"\"\n",
    "\n",
    "    ## specify functions and variables\n",
    "    funcs = [get_nino3, get_nino34, get_RO_h, get_RO_hw]\n",
    "    vars_ = [\"sst\", \"sst\", h_var, h_var]\n",
    "    names = [\"T_3\", \"T_34\", \"h\", \"h_w\"]\n",
    "\n",
    "    ## compute indices\n",
    "    indices = xr.merge([f(data[v]).rename(n) for f, v, n in zip(funcs, vars_, names)])\n",
    "\n",
    "    return indices"
   ]
  }
 ],
 "metadata": {
  "kernelspec": {
   "display_name": "Python 3 (ipykernel)",
   "language": "python",
   "name": "python3"
  },
  "language_info": {
   "codemirror_mode": {
    "name": "ipython",
    "version": 3
   },
   "file_extension": ".py",
   "mimetype": "text/x-python",
   "name": "python",
   "nbconvert_exporter": "python",
   "pygments_lexer": "ipython3",
   "version": "3.13.3"
  }
 },
 "nbformat": 4,
 "nbformat_minor": 5
}
