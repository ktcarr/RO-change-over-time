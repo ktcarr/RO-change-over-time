{
 "cells": [
  {
   "cell_type": "code",
   "execution_count": null,
   "id": "4c2539d4-66aa-4081-ae27-512d53f876d9",
   "metadata": {},
   "outputs": [],
   "source": [
    "import matplotlib\n",
    "import matplotlib.pyplot as plt\n",
    "import matplotlib as mpl\n",
    "import numpy as np\n",
    "import seaborn as sns\n",
    "import xarray as xr\n",
    "import warnings\n",
    "import tqdm\n",
    "import pathlib\n",
    "import cmocean\n",
    "import os\n",
    "import scipy.stats\n",
    "import copy\n",
    "\n",
    "# Import custom modules\n",
    "import src.utils\n",
    "from src.XRO import XRO, xcorr\n",
    "import src.XRO_utils\n",
    "\n",
    "## set plotting specs\n",
    "sns.set(rc={\"axes.facecolor\": \"white\", \"axes.grid\": False})\n",
    "\n",
    "## bump up DPI\n",
    "mpl.rcParams[\"figure.dpi\"] = 100\n",
    "\n",
    "## get filepaths\n",
    "DATA_FP = pathlib.Path(os.environ[\"DATA_FP\"])\n",
    "SAVE_FP = pathlib.Path(os.environ[\"SAVE_FP\"])"
   ]
  },
  {
   "cell_type": "markdown",
   "id": "8a4f23ff-2f9b-4e55-b96d-3642ed25f322",
   "metadata": {},
   "source": [
    "## funcs"
   ]
  },
  {
   "cell_type": "code",
   "execution_count": null,
   "id": "e04479f6-6db8-4fd9-8975-ed32ad32b395",
   "metadata": {},
   "outputs": [],
   "source": [
    "def get_cov(X, Y=None):\n",
    "    \"\"\"compute covariance of data\"\"\"\n",
    "\n",
    "    ## convert to dataarray\n",
    "    X_ = X.to_dataarray(dim=\"ranky\")\n",
    "\n",
    "    if Y is None:\n",
    "        Y_ = X_.rename({\"ranky\": \"rankx\"})\n",
    "    else:\n",
    "        Y_ = Y.to_dataarray(dim=\"rankx\")\n",
    "\n",
    "    ## get XXt\n",
    "    XXt = xr.cov(X_, Y_, dim=[\"member\", \"time\"])\n",
    "\n",
    "    return XXt\n",
    "\n",
    "\n",
    "def get_Q(L, X):\n",
    "    \"\"\"estimate covariance\"\"\"\n",
    "\n",
    "    ## get covariance, and swap coordinates from month to cycle (to match fits)\n",
    "    cov = X.groupby(\"time.month\").map(get_cov)\n",
    "    cov = cov.rename({\"month\": \"cycle\"}).assign_coords({\"cycle\": L.cycle})\n",
    "\n",
    "    ## differentiate WRT time\n",
    "    dCdt = cov.differentiate(\"cycle\")\n",
    "\n",
    "    ## get operator\n",
    "    Lac = copy.deepcopy(L)\n",
    "    Lac = Lac.assign_coords({\"ranky\": dCdt.ranky, \"rankx\": dCdt.rankx})\n",
    "\n",
    "    ## get components of operator\n",
    "    L_C = xr.dot(\n",
    "        Lac.rename({\"rankx\": \"rankz\"}), cov.rename({\"ranky\": \"rankz\"}), dim=\"rankz\"\n",
    "    )\n",
    "    L_C_T = L_C.rename({\"rankx\": \"ranky\", \"ranky\": \"rankx\"})\n",
    "\n",
    "    ## get Q\n",
    "    Q = dCdt - (L_C + L_C_T)\n",
    "\n",
    "    return Q * 12"
   ]
  },
  {
   "cell_type": "markdown",
   "id": "3367a78e-4933-442d-96b3-74d3ec9a8100",
   "metadata": {},
   "source": [
    "## Load data"
   ]
  },
  {
   "cell_type": "code",
   "execution_count": null,
   "id": "898182b9-6699-4c2d-b014-a8e795df67c8",
   "metadata": {},
   "outputs": [],
   "source": [
    "## open data\n",
    "Th = src.utils.load_cesm_indices()[[\"T_3\", \"h_w\"]]\n",
    "\n",
    "## standardize (for convenience)\n",
    "Th /= Th.std()"
   ]
  },
  {
   "cell_type": "markdown",
   "id": "e57cecc3-90ee-4ec8-bf43-0b5912a2bda7",
   "metadata": {},
   "source": [
    "## fit XRO"
   ]
  },
  {
   "cell_type": "code",
   "execution_count": null,
   "id": "630c8030-91a1-44ef-be3b-d01bc885cd54",
   "metadata": {
    "scrolled": true
   },
   "outputs": [],
   "source": [
    "## specify which variables to use\n",
    "varnames = [\"T_3\", \"h_w\"]\n",
    "\n",
    "# specify order of annual cycle\n",
    "ac_order = 4\n",
    "# specify fit kwargs\n",
    "fit_kwargs = dict(ac_mask_idx=None, maskNT=[])\n",
    "\n",
    "# get data for early/late period\n",
    "Th_early = Th[varnames].sel(time=slice(\"1851\", \"1900\"))\n",
    "Th_late = Th[varnames].sel(time=slice(\"2051\", \"2100\"))\n",
    "\n",
    "# specify model to use\n",
    "model = XRO(ncycle=12, ac_order=ac_order, is_forward=True)\n",
    "\n",
    "# fit models to early/late periods\n",
    "fit_early = model.fit_matrix(Th_early, **fit_kwargs)\n",
    "fit_late = model.fit_matrix(Th_late, **fit_kwargs)\n",
    "\n",
    "## sensitivity test: check center vs. forward differencing\n",
    "model_c = XRO(ncycle=12, ac_order=ac_order, is_forward=False)\n",
    "fit_early_c = model_c.fit_matrix(Th_early, **fit_kwargs)\n",
    "fit_late_c = model_c.fit_matrix(Th_late, **fit_kwargs)"
   ]
  },
  {
   "cell_type": "markdown",
   "id": "dc4d33ad-636d-472f-8926-b49501e91421",
   "metadata": {},
   "source": [
    "## diagnostics"
   ]
  },
  {
   "cell_type": "markdown",
   "id": "47e113e3-9988-481f-8905-ee24c8527dfe",
   "metadata": {},
   "source": [
    "Seems to be correlated, but off by a scaling factor..."
   ]
  },
  {
   "cell_type": "code",
   "execution_count": null,
   "id": "8518ba21-7bb8-4f16-a583-c6f523b7dda5",
   "metadata": {},
   "outputs": [],
   "source": [
    "xi_T0 = model.get_RO_parameters(fit_late).xi_T\n",
    "xi_T1 = model_c.get_RO_parameters(fit_late_c).xi_T\n",
    "\n",
    "# fits_early =\n",
    "\n",
    "fig, axs = plt.subplots(1, 2, figsize=(5, 2))\n",
    "\n",
    "for ax, fits in zip(axs, [[fit_early, fit_early_c], [fit_late, fit_late_c]]):\n",
    "\n",
    "    xi_T0 = model.get_RO_parameters(fits[0]).xi_T\n",
    "    xi_T1 = model_c.get_RO_parameters(fits[1]).xi_T\n",
    "\n",
    "    ax.plot(xi_T0.cycle, xi_T0 * 0.8)\n",
    "    ax.plot(xi_T0.cycle, xi_T1)\n",
    "\n",
    "axs[0].set_title(\"early\")\n",
    "axs[1].set_title(\"late\")\n",
    "plt.show()"
   ]
  },
  {
   "cell_type": "markdown",
   "id": "4a76073f-ad29-4278-a25d-a2caaac7c4f2",
   "metadata": {},
   "source": [
    "Plot all params"
   ]
  },
  {
   "cell_type": "code",
   "execution_count": null,
   "id": "4dfce7f4-1e75-48b8-84d3-4a09f432e87b",
   "metadata": {},
   "outputs": [],
   "source": [
    "## should we plot early or late period?\n",
    "USE_EARLY = False\n",
    "\n",
    "## select fits\n",
    "if USE_EARLY:\n",
    "    fits = [fit_early, fit_early_c]\n",
    "else:\n",
    "    fits = [fit_late, fit_late_c]\n",
    "\n",
    "## colormap\n",
    "colors = sns.color_palette(\"colorblind\")\n",
    "\n",
    "fig, axs = plt.subplots(1, 6, figsize=(13.5, 2), layout=\"constrained\")\n",
    "\n",
    "for fits, ls in zip([[fit_early, fit_early_c], [fit_late, fit_late_c]], [\"-\", \"--\"]):\n",
    "\n",
    "    for m, fit, c in zip([model, model_c], fits, colors):\n",
    "\n",
    "        p = m.get_RO_parameters(fit)\n",
    "\n",
    "        kwargs = dict(ls=ls, c=c)\n",
    "\n",
    "        axs[0].plot(fit.cycle * 12, p.R, **kwargs)\n",
    "        axs[1].plot(fit.cycle * 12, p.epsilon, **kwargs)\n",
    "        axs[2].plot(fit.cycle * 12, p.BJ_ac, **kwargs)\n",
    "        axs[3].plot(fit.cycle * 12, p.xi_T, **kwargs)\n",
    "        axs[4].plot(fit.cycle * 12, p.F1, **kwargs)\n",
    "        axs[5].plot(fit.cycle * 12, p.F2, **kwargs)\n",
    "\n",
    "\n",
    "for ax in axs:\n",
    "    ax.axhline(0, ls=\"--\", c=\"k\", lw=0.6)\n",
    "    # ax.set_yticks([])\n",
    "\n",
    "plt.show()"
   ]
  },
  {
   "cell_type": "markdown",
   "id": "22d2e972-08b4-4d2c-836f-0820ef3fd710",
   "metadata": {},
   "source": [
    "## Stochastic sims"
   ]
  },
  {
   "cell_type": "code",
   "execution_count": null,
   "id": "76950d0f-67dc-4248-84a1-35fd458c2264",
   "metadata": {},
   "outputs": [],
   "source": [
    "## generate ensemble\n",
    "## specify arguments for simulation\n",
    "simulation_kwargs = dict(\n",
    "    nyear=49,\n",
    "    ncopy=1000,\n",
    "    seed=1000,\n",
    "    X0_ds=Th_early.isel(member=0, time=0),\n",
    "    is_xi_stdac=True,\n",
    "    noise_type=\"white\",\n",
    "    use_noise_cov=False,\n",
    ")\n",
    "RO_ensemble_early = model.simulate(fit_ds=fit_early, **simulation_kwargs)\n",
    "RO_ensemble_late = model.simulate(fit_ds=fit_late, **simulation_kwargs)"
   ]
  },
  {
   "cell_type": "markdown",
   "id": "1bf7e488-4164-4daa-8f11-43f4f2eaaa0f",
   "metadata": {},
   "source": [
    "## Estimate Q"
   ]
  },
  {
   "cell_type": "code",
   "execution_count": null,
   "id": "12ecc03b-6d56-4542-b56b-1d554b8c5ab5",
   "metadata": {},
   "outputs": [],
   "source": [
    "Q_synth = get_Q(fit_early.Lac, RO_ensemble_early)\n",
    "Q_early = get_Q(fit_early.Lac, X=Th_early)"
   ]
  },
  {
   "cell_type": "markdown",
   "id": "6f2aec04-f0c3-4102-8f65-2e6a59e57f42",
   "metadata": {},
   "source": [
    "## Plot"
   ]
  },
  {
   "cell_type": "code",
   "execution_count": null,
   "id": "ff453abe-0f97-4ccc-9b10-f829ac06cd5b",
   "metadata": {},
   "outputs": [],
   "source": [
    "fig, ax = plt.subplots(figsize=(4, 3))\n",
    "ax.plot(fit_early.xi_covac.isel(ranky=0, ranky_=0))\n",
    "ax.plot(Q_early.isel(rankx=0, ranky=0))\n",
    "ax.plot(Q_synth.isel(rankx=0, ranky=0), ls=\"--\")\n",
    "\n",
    "ax.axhline(Q_synth.mean(\"cycle\").isel(rankx=0, ranky=0), ls=\"--\", c=\"gray\")\n",
    "ax.axhline(fit_early.xi_covac.isel(ranky=0, ranky_=0).mean(\"cycle\"), ls=\"--\", c=\"r\")\n",
    "ax.axhline(0, ls=\"-\", c=\"k\", lw=0.8)\n",
    "plt.show()"
   ]
  },
  {
   "cell_type": "markdown",
   "id": "6a74fff7-3d6b-4540-8848-cda5714bf92e",
   "metadata": {},
   "source": [
    "## Try estimating $L$ a different way"
   ]
  },
  {
   "cell_type": "markdown",
   "id": "c3b6a840-8acb-4d1c-a3be-e72608c5ef6e",
   "metadata": {},
   "source": [
    "Get lagged data"
   ]
  },
  {
   "cell_type": "code",
   "execution_count": null,
   "id": "b87cc3b2-40c8-4820-8aa2-4f37ad3411ac",
   "metadata": {},
   "outputs": [],
   "source": [
    "X = copy.deepcopy(Th_early).to_dataarray(dim=\"ranky\")\n",
    "X_plus = X.isel(time=slice(1, None))\n",
    "X_plus = X_plus.assign_coords({\"time\": X.time.isel(time=slice(None, -1))})\n",
    "X_ = X.isel(time=slice(None, -1))\n",
    "\n",
    "## put in dataset\n",
    "ds = xr.merge(\n",
    "    [\n",
    "        X_.to_dataset(\"ranky\"),\n",
    "        X_plus.to_dataset(\"ranky\").rename({\"T_3\": \"T_plus\", \"h_w\": \"h_plus\"}),\n",
    "    ]\n",
    ")"
   ]
  },
  {
   "cell_type": "markdown",
   "id": "dab3f6bf-cb7e-492f-86ae-8c4dc1f2c8f8",
   "metadata": {},
   "source": [
    "Fit"
   ]
  },
  {
   "cell_type": "code",
   "execution_count": null,
   "id": "98325f51-fa06-4288-abd6-15ac19d5055f",
   "metadata": {},
   "outputs": [],
   "source": [
    "fit_kwargs = dict(x_vars=[\"T_3\", \"h_w\"], max_order=3)\n",
    "\n",
    "G_top = src.utils.regress_harm_wrapper(\n",
    "    ds,\n",
    "    y_vars=[\"T_plus\"],\n",
    "    x_vars=[\"T_3\", \"h_w\"],\n",
    "    max_order=4,\n",
    ")\n",
    "G_bot = src.utils.regress_harm_wrapper(\n",
    "    ds,\n",
    "    y_vars=[\"h_plus\"],\n",
    "    x_vars=[\"T_3\", \"h_w\"],\n",
    "    max_order=4,\n",
    ")\n",
    "G = xr.merge([G_top, G_bot]).to_dataarray(\"ranky\").rename({\"ell\": \"rankx\"})\n",
    "\n",
    "## put in numpy\n",
    "G = G.transpose(\"month\", \"ranky\", \"rankx\")\n",
    "G_np = copy.deepcopy(G.values)\n",
    "\n",
    "## get operator\n",
    "Lhat = np.nan * xr.zeros_like(G)\n",
    "for i in range(12):\n",
    "\n",
    "    w, v = np.linalg.eig(G_np[i])\n",
    "    Lhat.values[i] = 12 * np.real(v @ np.diag(np.log(w)) @ np.linalg.inv(v))"
   ]
  },
  {
   "cell_type": "markdown",
   "id": "2f68dd2c-5adb-4ca2-a550-41e36c2a62b3",
   "metadata": {},
   "source": [
    "Get \"ground truth\" Lac"
   ]
  },
  {
   "cell_type": "code",
   "execution_count": null,
   "id": "d31b46c8-272b-459e-82b0-25220b547ccb",
   "metadata": {},
   "outputs": [],
   "source": [
    "fit_kwargs = dict(x_vars=[\"T_3\", \"h_w\"], max_order=4)\n",
    "Th_early_ = src.utils.get_ddt(Th_early)\n",
    "\n",
    "R_F1 = src.utils.regress_harm_wrapper(Th_early_, y_vars=[\"ddt_T_3\"], **fit_kwargs)\n",
    "F2_eps = src.utils.regress_harm_wrapper(Th_early_, y_vars=[\"ddt_h_w\"], **fit_kwargs)\n",
    "Lac_recon = xr.merge([R_F1, F2_eps]).to_dataarray(\"ranky\").rename({\"ell\": \"rankx\"})"
   ]
  },
  {
   "cell_type": "markdown",
   "id": "7d9ca650-c1c5-48b7-b372-fcdbe7f5d52c",
   "metadata": {},
   "source": [
    "Plot comparison"
   ]
  },
  {
   "cell_type": "code",
   "execution_count": null,
   "id": "cf50f44b-0e64-4e38-9b68-5dac08eb3ef5",
   "metadata": {},
   "outputs": [],
   "source": [
    "idx = dict(rankx=0, ranky=0)\n",
    "\n",
    "fig, ax = plt.subplots(figsize=(3, 2.5))\n",
    "ax.plot(Lac_recon.isel(idx), label=\"orig\")\n",
    "ax.plot(Lhat.isel(idx), label=\"green's mat\")\n",
    "ax.legend()\n",
    "plt.show()"
   ]
  },
  {
   "cell_type": "code",
   "execution_count": null,
   "id": "6eacd23f-a1e0-4551-8591-b270727babf0",
   "metadata": {},
   "outputs": [],
   "source": [
    "fig, ax = plt.subplots(figsize=(3, 2.5))\n",
    "ax.plot(get_Q(Lhat.rename({\"month\": \"cycle\"}), RO_ensemble_early).isel(idx) / 12)\n",
    "\n",
    "ax.plot(Q_synth.isel(idx))\n",
    "ax.plot(fit_early.xi_covac.isel(ranky=0, ranky_=0))\n",
    "\n",
    "plt.show()"
   ]
  },
  {
   "cell_type": "markdown",
   "id": "d3f37287-4b1f-4089-8b22-4513e153df26",
   "metadata": {},
   "source": [
    "## how to compute lagged covariance..."
   ]
  },
  {
   "cell_type": "code",
   "execution_count": null,
   "id": "a380436d-e516-4c86-87cb-846927c2f66f",
   "metadata": {},
   "outputs": [],
   "source": [
    "def get_cov2(X, Y=None):\n",
    "    \"\"\"compute covariance of data\"\"\"\n",
    "\n",
    "    if Y is None:\n",
    "        Y_ = X.rename({\"ranky\": \"rankx\"})\n",
    "    else:\n",
    "        Y_ = Y.rename({\"ranky\": \"rankx\"})\n",
    "\n",
    "    ## get XXt\n",
    "    XXt = xr.cov(X, Y_, dim=[\"member\", \"time\"])\n",
    "\n",
    "    return XXt\n",
    "\n",
    "\n",
    "def get_cov_helper(z):\n",
    "    return get_cov2(z[\"X_\"], z[\"X_plus\"])\n",
    "\n",
    "\n",
    "## get covariance by month\n",
    "X_Xplus = xr.merge([X_.rename(\"X_\"), X_plus.rename(\"X_plus\")])\n",
    "cov_bymonth = X_Xplus.groupby(\"time.month\").map(get_cov_helper).mean(\"month\")"
   ]
  }
 ],
 "metadata": {
  "kernelspec": {
   "display_name": "Python 3 (ipykernel)",
   "language": "python",
   "name": "python3"
  },
  "language_info": {
   "codemirror_mode": {
    "name": "ipython",
    "version": 3
   },
   "file_extension": ".py",
   "mimetype": "text/x-python",
   "name": "python",
   "nbconvert_exporter": "python",
   "pygments_lexer": "ipython3",
   "version": "3.13.3"
  }
 },
 "nbformat": 4,
 "nbformat_minor": 5
}
