{
 "cells": [
  {
   "cell_type": "markdown",
   "id": "3b0773d1-0f15-49cf-bd99-88c7602c1671",
   "metadata": {},
   "source": [
    "# Test EOF reconstructions"
   ]
  },
  {
   "cell_type": "markdown",
   "id": "ddc9e9a6-847c-4c1c-8746-23d1d8a35ddf",
   "metadata": {},
   "source": [
    "## Imports"
   ]
  },
  {
   "cell_type": "code",
   "execution_count": 1,
   "id": "12e41cee-9dc6-4386-b7fa-a7e8c0876353",
   "metadata": {},
   "outputs": [],
   "source": [
    "import matplotlib.pyplot as plt\n",
    "import seaborn as sns\n",
    "import numpy as np\n",
    "import xarray as xr\n",
    "import pathlib\n",
    "import os\n",
    "import src.utils\n",
    "\n",
    "## set plotting specs\n",
    "sns.set(rc={\"axes.facecolor\": \"white\", \"axes.grid\": False})\n",
    "\n",
    "## get filepaths\n",
    "DATA_FP = pathlib.Path(os.environ[\"DATA_FP\"])"
   ]
  },
  {
   "cell_type": "markdown",
   "id": "f13a3905-0610-41c1-9e2e-a57c99b14d04",
   "metadata": {},
   "source": [
    "## Load data"
   ]
  },
  {
   "cell_type": "code",
   "execution_count": 2,
   "id": "f94e7f0e-840b-4164-90cf-2c41881db6a3",
   "metadata": {},
   "outputs": [],
   "source": [
    "## MPI data\n",
    "mpi_load_fp = pathlib.Path(DATA_FP, \"mpi_Th\", \"Th.nc\")\n",
    "Th_mpi = xr.open_dataset(mpi_load_fp)\n",
    "\n",
    "## EOFs (only do sst)\n",
    "eofs_fp = pathlib.Path(DATA_FP, \"mpi\", \"eofs\")\n",
    "eofs_sst = src.utils.load_eofs(eofs_fp / \"ts.nc\")\n",
    "\n",
    "## for convenience, put PC data into single dataset\n",
    "scores = eofs_sst.scores()"
   ]
  },
  {
   "cell_type": "markdown",
   "id": "3b6b885c-3b48-462e-b207-049d57eba1f9",
   "metadata": {},
   "source": [
    "## Compute anomalies"
   ]
  },
  {
   "cell_type": "code",
   "execution_count": 3,
   "id": "e46ca819-df07-48c3-bb23-7976098dd2d7",
   "metadata": {},
   "outputs": [],
   "source": [
    "emean = scores.mean(\"member\")\n",
    "anom = scores - emean"
   ]
  },
  {
   "cell_type": "markdown",
   "id": "2aadcfec-6ec6-46fb-afde-5d1796a828c4",
   "metadata": {},
   "source": [
    "## Tests"
   ]
  },
  {
   "cell_type": "markdown",
   "id": "97afeeb0-d002-4028-9ea1-a15f05765fa3",
   "metadata": {},
   "source": [
    "### Identity reconstruction"
   ]
  },
  {
   "cell_type": "code",
   "execution_count": 4,
   "id": "b5f89ea6-064c-4810-adda-420f2473cbf3",
   "metadata": {},
   "outputs": [
    {
     "name": "stdout",
     "output_type": "stream",
     "text": [
      "All close? True\n"
     ]
    }
   ],
   "source": [
    "## get random subset for testing\n",
    "sample = scores.isel(member=slice(2, 4), time=slice(24, 60))\n",
    "\n",
    "## identity function\n",
    "identity = lambda x: x\n",
    "\n",
    "## reconstruct 2 different ways\n",
    "r0 = eofs_sst.inverse_transform(sample)\n",
    "r1 = src.utils.reconstruct_fn(eofs_sst.components(), sample, fn=identity)\n",
    "\n",
    "## check allclose\n",
    "print(f\"All close? {np.max(np.abs(r0-r1)).values < 1e-10}\")"
   ]
  },
  {
   "cell_type": "markdown",
   "id": "3eb37f7c-9809-43cd-a121-24736effa681",
   "metadata": {},
   "source": [
    "### Niño 3.4 reconstruction"
   ]
  },
  {
   "cell_type": "code",
   "execution_count": 5,
   "id": "70c46407-4b71-4476-be55-2a9f7f9339be",
   "metadata": {},
   "outputs": [
    {
     "name": "stdout",
     "output_type": "stream",
     "text": [
      "All close? True\n",
      "\n",
      "Corr w/ non-truncated Niño index: 0.96\n"
     ]
    }
   ],
   "source": [
    "## next, nino 34\n",
    "n34_r0 = src.utils.get_nino34(r0)\n",
    "n34_r1 = src.utils.reconstruct_fn(\n",
    "    eofs_sst.components(), sample, fn=src.utils.get_nino34\n",
    ")\n",
    "print(f\"All close? {np.allclose(n34_r0, n34_r1)}\\n\")\n",
    "\n",
    "## get reconstruction error on full dataset\n",
    "n34_recon = src.utils.reconstruct_fn(\n",
    "    eofs_sst.components(), anom, fn=src.utils.get_nino34\n",
    ")\n",
    "corr = xr.corr(n34_recon.sel(time=Th_mpi.time), Th_mpi[\"T_34\"])\n",
    "print(f\"Corr w/ non-truncated Niño index: {corr:.2f}\")"
   ]
  },
  {
   "cell_type": "markdown",
   "id": "e96bf11e-47b8-43b2-8e18-efc645101ded",
   "metadata": {},
   "source": [
    "### spatial variance"
   ]
  },
  {
   "cell_type": "code",
   "execution_count": 6,
   "id": "89cff7d2-78b0-4025-8f7c-308fb7178f3c",
   "metadata": {},
   "outputs": [
    {
     "name": "stdout",
     "output_type": "stream",
     "text": [
      "All close? True\n"
     ]
    }
   ],
   "source": [
    "## point to check variance at\n",
    "posn_coords = dict(latitude=-20.5, longitude=200.5)\n",
    "\n",
    "## compute using custom function\n",
    "var0_all = src.utils.reconstruct_var(anom, eofs_sst.components()).compute()\n",
    "var0 = var0_all.sel(posn_coords).values.item()\n",
    "\n",
    "## check at single point (reconstruct, then compute variance)\n",
    "sel_fn = lambda x: x.sel(posn_coords)\n",
    "recon = src.utils.reconstruct_fn(eofs_sst.components(), anom, fn=sel_fn)\n",
    "var1 = (recon**2).mean([\"time\", \"member\"]).values.item()\n",
    "\n",
    "print(f\"All close? {np.allclose(var0, var1)}\")"
   ]
  },
  {
   "cell_type": "markdown",
   "id": "77ac6685-9e99-4a57-aff8-c5287e034451",
   "metadata": {},
   "source": [
    "#### synthetic example"
   ]
  },
  {
   "cell_type": "code",
   "execution_count": 7,
   "id": "7e6990cf-4eb4-44c9-9b08-f50d04803842",
   "metadata": {},
   "outputs": [
    {
     "name": "stdout",
     "output_type": "stream",
     "text": [
      "All close? True\n"
     ]
    }
   ],
   "source": [
    "m = 100\n",
    "n = 24\n",
    "\n",
    "## generate random data\n",
    "rng = np.random.default_rng()\n",
    "X = rng.normal(size=(m, n))\n",
    "\n",
    "## get true variance\n",
    "varX = np.diag(src.utils.get_cov(X))\n",
    "\n",
    "## do SVD on data\n",
    "U, s, Vt = np.linalg.svd(X, full_matrices=False)\n",
    "S = np.diag(s)\n",
    "\n",
    "## compute covariance and reconstruct variance\n",
    "scores_cov = src.utils.get_cov(Vt)\n",
    "varXhat = np.diag(U @ S @ scores_cov @ S @ U.T)\n",
    "\n",
    "print(f\"All close? {np.allclose(varX, varXhat)}\")"
   ]
  }
 ],
 "metadata": {
  "kernelspec": {
   "display_name": "Python 3 (ipykernel)",
   "language": "python",
   "name": "python3"
  },
  "language_info": {
   "codemirror_mode": {
    "name": "ipython",
    "version": 3
   },
   "file_extension": ".py",
   "mimetype": "text/x-python",
   "name": "python",
   "nbconvert_exporter": "python",
   "pygments_lexer": "ipython3",
   "version": "3.13.2"
  }
 },
 "nbformat": 4,
 "nbformat_minor": 5
}
