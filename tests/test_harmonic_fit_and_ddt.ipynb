{
 "cells": [
  {
   "cell_type": "markdown",
   "id": "6f8858ce-969b-43ab-85a6-62e7fdc62f91",
   "metadata": {},
   "source": [
    "# test harmonic fitting for seasonal cycle"
   ]
  },
  {
   "cell_type": "markdown",
   "id": "8c8bea62-fc73-4d75-b8d5-74927be444ea",
   "metadata": {},
   "source": [
    "## Imports"
   ]
  },
  {
   "cell_type": "code",
   "execution_count": null,
   "id": "cc3ee07c-f5d5-4e6a-aaf4-6e4821c9e76e",
   "metadata": {},
   "outputs": [],
   "source": [
    "import matplotlib.pyplot as plt\n",
    "import matplotlib as mpl\n",
    "import numpy as np\n",
    "import seaborn as sns\n",
    "import xarray as xr\n",
    "import pathlib\n",
    "import cmocean\n",
    "import os\n",
    "import copy\n",
    "\n",
    "# Import custom modules\n",
    "import src.utils\n",
    "import src.XRO\n",
    "\n",
    "## set plotting specs\n",
    "sns.set(rc={\"axes.facecolor\": \"white\", \"axes.grid\": False})\n",
    "\n",
    "## bump up DPI\n",
    "mpl.rcParams[\"figure.dpi\"] = 100\n",
    "\n",
    "## get filepaths\n",
    "DATA_FP = pathlib.Path(os.environ[\"DATA_FP\"])\n",
    "SAVE_FP = pathlib.Path(os.environ[\"SAVE_FP\"])"
   ]
  },
  {
   "cell_type": "markdown",
   "id": "238575c2-b1f1-4b66-a04f-c28e755a4f1a",
   "metadata": {},
   "source": [
    "## Load"
   ]
  },
  {
   "cell_type": "code",
   "execution_count": null,
   "id": "75cf4ec6-70c0-40a9-b0da-7f08b3dfadd5",
   "metadata": {},
   "outputs": [],
   "source": [
    "## load spatial data\n",
    "_, anom = src.utils.load_consolidated()\n",
    "\n",
    "## load T,h data and add to anom\n",
    "Th = src.utils.load_cesm_indices()\n",
    "anom = xr.merge([anom[[\"sst\", \"sst_comp\", \"T\", \"T_comp\"]], Th[[\"T_3\", \"h_w\"]]])"
   ]
  },
  {
   "cell_type": "markdown",
   "id": "1d312316-c142-473c-bcb4-9976e6fe9983",
   "metadata": {},
   "source": [
    "## Differentiate"
   ]
  },
  {
   "cell_type": "code",
   "execution_count": null,
   "id": "40fdaa32-17e5-46b0-a6a8-0844a87a8bce",
   "metadata": {},
   "outputs": [],
   "source": [
    "## get sst tendency (and convert from 1/yr to 1/mo)\n",
    "for n in [\"sst\", \"T_3\"]:\n",
    "    anom[f\"ddt_{n}\"] = src.utils.get_ddt(anom[[n]])[f\"ddt_{n}\"]"
   ]
  },
  {
   "cell_type": "markdown",
   "id": "26e45a24-5aae-4bcc-95f3-be4baf00db10",
   "metadata": {},
   "source": [
    "## Early/late split"
   ]
  },
  {
   "cell_type": "code",
   "execution_count": null,
   "id": "837ec965-e7e6-4105-8b12-9d3913ae0057",
   "metadata": {},
   "outputs": [],
   "source": [
    "## split into early/late periods\n",
    "t_early = dict(time=slice(\"1851\", \"1880\"))\n",
    "t_late = dict(time=slice(\"2071\", \"2100\"))\n",
    "\n",
    "## split surface data\n",
    "anom_early = anom.sel(t_early).compute()\n",
    "anom_late = anom.sel(t_late).compute()"
   ]
  },
  {
   "cell_type": "markdown",
   "id": "e0c90da2-a717-43e6-8b8e-bcebfa5bf0aa",
   "metadata": {},
   "source": [
    "## Testing"
   ]
  },
  {
   "cell_type": "markdown",
   "id": "e33b8d7c-59d6-4b2f-9d47-83c9fe41a4b3",
   "metadata": {},
   "source": [
    "### Scalar"
   ]
  },
  {
   "cell_type": "markdown",
   "id": "421d6065-f585-42d7-98d3-0eb9b60c9fdc",
   "metadata": {},
   "source": [
    "#### Fit"
   ]
  },
  {
   "cell_type": "code",
   "execution_count": null,
   "id": "1fc76c78-0588-44e5-b65f-26c28e48f461",
   "metadata": {},
   "outputs": [],
   "source": [
    "## specify order\n",
    "ac_order = 4\n",
    "\n",
    "## specify XRO model\n",
    "model = src.XRO.XRO(ncycle=12, ac_order=ac_order, is_forward=True)\n",
    "\n",
    "## empty list to hold results\n",
    "R_recons = []\n",
    "params = []\n",
    "R_recons_bymonth = []\n",
    "\n",
    "## kwargs for fitting\n",
    "custom_kwargs = dict(y_vars=[\"ddt_T_3\"], x_vars=[\"T_3\", \"h_w\"], max_order=ac_order)\n",
    "custom_kwargs_bymonth = dict(y_var=\"ddt_T_3\", x_vars=[\"T_3\", \"h_w\"])\n",
    "xro_kwargs = dict(ac_mask_idx=None, maskNT=[])\n",
    "\n",
    "## Reconstruct scalar indices\n",
    "for x in [anom_early, anom_late]:\n",
    "\n",
    "    ## custom\n",
    "    R_recon = src.utils.regress_harm_wrapper(x, **custom_kwargs)\n",
    "    R_recons.append(R_recon[\"ddt_T_3\"].isel(ell=0))\n",
    "\n",
    "    ## custom (old)\n",
    "    R_recon_bymonth = src.utils.regress_bymonth(x, **custom_kwargs_bymonth)\n",
    "    R_recons_bymonth.append(R_recon_bymonth[\"T_3\"])\n",
    "\n",
    "    ## XRO\n",
    "    fit = model.fit_matrix(x[[\"T_3\", \"h_w\"]], **xro_kwargs)\n",
    "    params.append(model.get_RO_parameters(fit))"
   ]
  },
  {
   "cell_type": "markdown",
   "id": "718bac8b-f85d-4c46-9889-f4e3ad65fd85",
   "metadata": {},
   "source": [
    "#### Plot"
   ]
  },
  {
   "cell_type": "code",
   "execution_count": null,
   "id": "e4dd0141-89bb-4639-bc72-b2ef1cd6667e",
   "metadata": {},
   "outputs": [],
   "source": [
    "fig, axs = plt.subplots(1, 2, figsize=(6, 2.5), layout=\"constrained\")\n",
    "\n",
    "axs[0].plot(np.arange(1, 13), R_recons[0])\n",
    "axs[0].plot(np.arange(1, 13), R_recons[1])\n",
    "\n",
    "axs[1].plot(np.arange(1, 13), R_recons_bymonth[0])\n",
    "axs[1].plot(np.arange(1, 13), R_recons_bymonth[1])\n",
    "\n",
    "for ax in axs:\n",
    "    ax.plot(params[0].cycle - 0.5, params[0][\"R\"], ls=\"--\", c=\"k\", alpha=0.8)\n",
    "    ax.plot(params[1].cycle - 0.5, params[1][\"R\"], ls=\"--\", c=\"gray\")\n",
    "\n",
    "    ax.axvline(5, lw=0.6)\n",
    "    ax.axvline(6, lw=0.6)\n",
    "\n",
    "axs[0].set_ylim(axs[1].get_ylim())\n",
    "plt.show()"
   ]
  },
  {
   "cell_type": "markdown",
   "id": "68d4614c-d225-4a4c-bf13-7bd224997db5",
   "metadata": {},
   "source": [
    "### spatial"
   ]
  },
  {
   "cell_type": "markdown",
   "id": "7699e059-c975-454f-a013-1605c20c908a",
   "metadata": {},
   "source": [
    "#### Fit"
   ]
  },
  {
   "cell_type": "code",
   "execution_count": null,
   "id": "146e8cdb-f1c2-4e15-b96a-7c19fc141dd7",
   "metadata": {},
   "outputs": [],
   "source": [
    "## reconstrut spatially\n",
    "coefs_spatial = src.utils.regress_xr(\n",
    "    data=anom_late,\n",
    "    y_vars=[\"ddt_sst\"],\n",
    "    x_vars=[\"T_3\", \"h_w\"],\n",
    "    helper_fn=src.utils.regress_harm_wrapper,\n",
    "    max_order=ac_order,\n",
    ")\n",
    "R_recon_spatial = 1 / 12 * coefs_spatial[\"ddt_sst\"].isel(ell=0)"
   ]
  },
  {
   "cell_type": "markdown",
   "id": "8767d6cc-652b-4d7b-bee0-432b5b6ea7e4",
   "metadata": {},
   "source": [
    "#### Plot"
   ]
  },
  {
   "cell_type": "code",
   "execution_count": null,
   "id": "f8e21bfd-8fc6-4cc5-b0aa-d0c825491147",
   "metadata": {},
   "outputs": [],
   "source": [
    "## shared args\n",
    "kwargs = dict(amp=0.5, lat_bound=5)\n",
    "\n",
    "## set up plot\n",
    "fig, axs = plt.subplots(1, 3, figsize=(6, 2.5), layout=\"constrained\")\n",
    "\n",
    "## plot data\n",
    "cp0 = src.utils.make_cycle_hov(axs[0], data=R_recon_spatial, **kwargs)\n",
    "cp1 = src.utils.make_cycle_hov(axs[1], data=R_recon_spatial, **kwargs)\n",
    "cp2 = src.utils.make_cycle_hov(axs[2], data=R_recon_spatial, **kwargs)\n",
    "\n",
    "## make it look nicer\n",
    "cb = fig.colorbar(\n",
    "    cp0,\n",
    "    ax=axs[2],\n",
    "    ticks=[-kwargs[\"amp\"], 0, kwargs[\"amp\"]],\n",
    "    label=r\"$K~\\left(\\text{month}\\right)^{-1}$\",\n",
    ")\n",
    "src.utils.format_hov_axs(axs)\n",
    "for ax in axs:\n",
    "    ax.axhline(7, ls=\"--\", c=\"k\", lw=1)\n",
    "\n",
    "plt.show()"
   ]
  },
  {
   "cell_type": "markdown",
   "id": "f9b6be63-ad53-45b8-b5c7-daaa08936802",
   "metadata": {},
   "source": [
    "## Test gradient"
   ]
  },
  {
   "cell_type": "code",
   "execution_count": null,
   "id": "842a169a-e21b-40eb-9694-a96fd3253cdb",
   "metadata": {},
   "outputs": [],
   "source": [
    "def ddt(x, order=2):\n",
    "\n",
    "    ## empty array to hold results\n",
    "    x_ = x.transpose(\"time\", ...)\n",
    "\n",
    "    if order == 2:\n",
    "\n",
    "        ddt_x = xr.zeros_like(x_).isel(time=slice(1, -1))\n",
    "        ddt_x.values = 0.5 * (x_.values[2:] - x_.values[:-2])\n",
    "\n",
    "    else:\n",
    "        ddt_x = xr.zeros_like(x_).isel(time=slice(None, -1))\n",
    "        ddt_x.values = x_.values[1:] - x_.values[:-1]\n",
    "\n",
    "    return ddt_x * 12"
   ]
  },
  {
   "cell_type": "code",
   "execution_count": null,
   "id": "6676c0b9-ae83-48ee-969f-b16ac38e0c76",
   "metadata": {},
   "outputs": [],
   "source": [
    "ddt0 = src.utils.get_ddt(Th[[\"T_3\"]])[\"ddt_T_3\"]\n",
    "ddt0_ = src.utils.get_ddt(Th[[\"T_3\"]], is_forward=False)[\"ddt_T_3\"]\n",
    "ddt1 = ddt(Th[\"T_3\"], order=1)\n",
    "ddt2 = ddt(Th[\"T_3\"], order=2)"
   ]
  },
  {
   "cell_type": "markdown",
   "id": "c95428f0-bfbe-40bf-a37d-599eaaf7fa0c",
   "metadata": {},
   "source": [
    "## Test time stepping"
   ]
  },
  {
   "cell_type": "code",
   "execution_count": null,
   "id": "a896ddae-4c24-482c-8085-423eb35efb6c",
   "metadata": {},
   "outputs": [],
   "source": [
    "fun_2d = lambda x: x.sel(latitude=slice(-1.5, 1.5), longitude=slice(210, 270)).mean(\n",
    "    [\"latitude\", \"longitude\"]\n",
    ")\n",
    "fun_1d = (\n",
    "    lambda x: x.sel(longitude=slice(210, 270))\n",
    "    .isel(z_t=0)\n",
    "    .mean(\"longitude\")\n",
    "    .squeeze(drop=True)\n",
    ")\n",
    "\n",
    "sst_recon = src.utils.reconstruct_fn(\n",
    "    scores=anom_early[\"sst\"],\n",
    "    components=anom_early[\"sst_comp\"],\n",
    "    fn=fun_2d,\n",
    ")\n",
    "\n",
    "T_recon = src.utils.reconstruct_fn(\n",
    "    scores=anom_early[\"T\"],\n",
    "    components=anom_early[\"T_comp\"],\n",
    "    fn=fun_1d,\n",
    ")"
   ]
  },
  {
   "cell_type": "code",
   "execution_count": null,
   "id": "f190fc46-f757-433d-9e85-16cc387ebb03",
   "metadata": {},
   "outputs": [],
   "source": [
    "plot_idx = dict(time=slice(\"1851\", \"1854\"), member=9)\n",
    "shift = lambda x: x.isel(dict(time=slice(1, None)))\n",
    "\n",
    "fig, ax = plt.subplots(figsize=(7, 3))\n",
    "ax.plot(sst_recon.sel(plot_idx))\n",
    "# ax.plot(shift(T_recon.sel(plot_idx)), ls=\"--\")\n",
    "ax.plot(T_recon.sel(plot_idx), ls=\"--\")\n",
    "# ax.plot(anom_early[\"T_3\"].sel(plot_idx))\n",
    "plt.show()"
   ]
  },
  {
   "cell_type": "markdown",
   "id": "dbdc8c51-e80c-488b-8786-49fe08d0bdc6",
   "metadata": {},
   "source": [
    "## Test $\\frac{d}{dt}$ function"
   ]
  },
  {
   "cell_type": "code",
   "execution_count": null,
   "id": "890ec2dd-766f-42b7-b694-de0efb00d8f3",
   "metadata": {},
   "outputs": [],
   "source": [
    "_, budg_anom = src.utils.load_budget_data()\n",
    "budg_early = budg_anom.sel(t_early).compute()"
   ]
  },
  {
   "cell_type": "code",
   "execution_count": null,
   "id": "a2a0239e-1375-4ad9-8e82-3f789f1ec3e8",
   "metadata": {},
   "outputs": [],
   "source": [
    "adv0 = fun_1d(budg_early[\"TEND_TEMP\"])\n",
    "adv1 = 1 / 12 * src.utils.get_ddt(T_recon.rename(\"T\").to_dataset())[\"ddt_T\"]"
   ]
  },
  {
   "cell_type": "code",
   "execution_count": null,
   "id": "d5dd1b0e-3b36-4584-96b6-1121ee87a9d1",
   "metadata": {},
   "outputs": [],
   "source": [
    "adv3 = xr.zeros_like(T_recon.isel(time=slice(1, -1)))\n",
    "adv3.values = 0.5 * (T_recon.values[:, 2:] - T_recon.values[:, :-2])"
   ]
  },
  {
   "cell_type": "code",
   "execution_count": null,
   "id": "7bab835a-71fa-4f1d-a8e6-996f38f12d62",
   "metadata": {},
   "outputs": [],
   "source": [
    "plot_idx = dict(time=slice(\"1851\", \"1854\"), member=0)\n",
    "shift = lambda x: x.isel(dict(time=slice(1, None)))\n",
    "\n",
    "fig, ax = plt.subplots(figsize=(7, 3))\n",
    "ax.plot(adv0.sel(plot_idx))\n",
    "ax.plot(adv1.sel(plot_idx), ls=\"-\")\n",
    "ax.plot(adv3.sel(plot_idx), ls=\"--\")\n",
    "plt.show()"
   ]
  }
 ],
 "metadata": {
  "kernelspec": {
   "display_name": "Python 3 (ipykernel)",
   "language": "python",
   "name": "python3"
  },
  "language_info": {
   "codemirror_mode": {
    "name": "ipython",
    "version": 3
   },
   "file_extension": ".py",
   "mimetype": "text/x-python",
   "name": "python",
   "nbconvert_exporter": "python",
   "pygments_lexer": "ipython3",
   "version": "3.13.3"
  }
 },
 "nbformat": 4,
 "nbformat_minor": 5
}
