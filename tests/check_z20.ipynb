{
 "cells": [
  {
   "cell_type": "markdown",
   "id": "b070a977-a899-493a-975f-6b71a1beef78",
   "metadata": {},
   "source": [
    "# Check $Z_{20}$\n",
    "check it aligns with $T$ data"
   ]
  },
  {
   "cell_type": "code",
   "execution_count": null,
   "id": "19c5ca18-d050-4bc3-8b91-79e5c52c18c9",
   "metadata": {},
   "outputs": [],
   "source": [
    "import matplotlib.pyplot as plt\n",
    "import matplotlib as mpl\n",
    "import numpy as np\n",
    "import seaborn as sns\n",
    "import xarray as xr\n",
    "import tqdm\n",
    "import pathlib\n",
    "import cmocean\n",
    "import os\n",
    "import copy\n",
    "import time\n",
    "\n",
    "# Import custom modules\n",
    "import src.utils\n",
    "\n",
    "## set plotting specs\n",
    "sns.set(rc={\"axes.facecolor\": \"white\", \"axes.grid\": False})\n",
    "\n",
    "## bump up DPI\n",
    "mpl.rcParams[\"figure.dpi\"] = 100\n",
    "\n",
    "## get filepaths\n",
    "DATA_FP = pathlib.Path(os.environ[\"DATA_FP\"])\n",
    "SAVE_FP = pathlib.Path(os.environ[\"SAVE_FP\"])"
   ]
  },
  {
   "cell_type": "markdown",
   "id": "f69f9a5c-ff7b-4183-84ed-9f8dbbfbe2e8",
   "metadata": {},
   "source": [
    "## Load data"
   ]
  },
  {
   "cell_type": "code",
   "execution_count": null,
   "id": "818adc33-8dee-4601-9104-75689ecec2b0",
   "metadata": {},
   "outputs": [],
   "source": [
    "## load spatial data\n",
    "forced, anom = src.utils.load_consolidated()\n",
    "\n",
    "## subset\n",
    "anom = anom[[\"z20\", \"z20_comp\", \"T\", \"T_comp\"]]"
   ]
  },
  {
   "cell_type": "markdown",
   "id": "d8390780-f58e-4a54-8446-0fbf1fd8d52e",
   "metadata": {},
   "source": [
    "## subset"
   ]
  },
  {
   "cell_type": "code",
   "execution_count": null,
   "id": "55aed5a4-d262-4dbd-b7ca-56759c72bc3a",
   "metadata": {},
   "outputs": [],
   "source": [
    "sel = lambda x: x.sel(time=slice(\"1870-08\", \"1870-11\"))\n",
    "x_anom = src.utils.reconstruct_wrapper(sel(anom.sel(member=8)))\n",
    "x_forced = src.utils.reconstruct_wrapper(sel(forced))\n",
    "x = x_anom + x_forced"
   ]
  },
  {
   "cell_type": "markdown",
   "id": "fec2d320-4cb0-4e00-8c63-ee8e153d02d3",
   "metadata": {},
   "source": [
    "## Plot"
   ]
  },
  {
   "cell_type": "code",
   "execution_count": null,
   "id": "9f71b800-caa6-4ebc-a9b3-b08f0c60420c",
   "metadata": {},
   "outputs": [],
   "source": [
    "fig, ax = plt.subplots(figsize=(4, 3))\n",
    "\n",
    "ax.contourf(\n",
    "    x.longitude,\n",
    "    x.z_t,\n",
    "    x[\"T\"].isel(time=0),\n",
    "    cmap=\"cmo.thermal\",\n",
    "    levels=np.arange(10, 32, 2),\n",
    "    extend=\"both\",\n",
    ")\n",
    "\n",
    "ax.contour(\n",
    "    x.longitude,\n",
    "    x.z_t,\n",
    "    x[\"T\"].isel(time=0),\n",
    "    colors=\"white\",\n",
    "    levels=[20],\n",
    ")\n",
    "\n",
    "ax.plot(\n",
    "    x.longitude,\n",
    "    x[\"z20\"].isel(time=0).sel(latitude=slice(-2, 2)).mean(\"latitude\"),\n",
    "    c=\"k\",\n",
    "    ls=\"--\",\n",
    ")\n",
    "\n",
    "ax.set_xlim([145, 278])\n",
    "ax.set_ylim(ax.get_ylim()[::-1])\n",
    "ax.set_yticks([])\n",
    "ax.set_xlabel(\"Longitude\")\n",
    "ax.set_yticks([300, 150, 0])\n",
    "ax.set_ylabel(\"Depth (m)\")\n",
    "\n",
    "plt.show()"
   ]
  }
 ],
 "metadata": {
  "kernelspec": {
   "display_name": "Python [conda env:envs]",
   "language": "python",
   "name": "conda-env-envs-py"
  },
  "language_info": {
   "codemirror_mode": {
    "name": "ipython",
    "version": 3
   },
   "file_extension": ".py",
   "mimetype": "text/x-python",
   "name": "python",
   "nbconvert_exporter": "python",
   "pygments_lexer": "ipython3",
   "version": "3.13.5"
  }
 },
 "nbformat": 4,
 "nbformat_minor": 5
}
