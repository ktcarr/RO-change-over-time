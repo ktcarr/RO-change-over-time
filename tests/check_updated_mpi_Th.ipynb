{
 "cells": [
  {
   "cell_type": "markdown",
   "id": "8152d1af-d71a-4959-b7f1-dfdf2c2681ba",
   "metadata": {},
   "source": [
    "## Check that updated $T$, $h$ variables are the same as original"
   ]
  },
  {
   "cell_type": "code",
   "execution_count": 1,
   "id": "639e9d48-e135-4d58-b890-ec8f5956a600",
   "metadata": {},
   "outputs": [],
   "source": [
    "import xarray as xr\n",
    "import pathlib\n",
    "import os\n",
    "import numpy as np\n",
    "\n",
    "## get filepaths\n",
    "DATA_FP = pathlib.Path(os.environ[\"DATA_FP\"])"
   ]
  },
  {
   "cell_type": "code",
   "execution_count": 2,
   "id": "867c2f6c-a1e8-4c66-b2d0-5f2cefe44f72",
   "metadata": {},
   "outputs": [
    {
     "data": {
      "text/plain": [
       "True"
      ]
     },
     "execution_count": 2,
     "metadata": {},
     "output_type": "execute_result"
    }
   ],
   "source": [
    "## load data\n",
    "mpi_load_fp = pathlib.Path(DATA_FP, \"mpi_Th\", \"Th.nc\")\n",
    "Th = xr.open_dataset(mpi_load_fp)\n",
    "\n",
    "mpi_backup_fp = pathlib.Path(DATA_FP, \"mpi_Th_backup\", \"Th.nc\")\n",
    "Th_backup = xr.open_dataset(mpi_backup_fp)\n",
    "\n",
    "## check all close\n",
    "np.allclose(\n",
    "    Th.drop_vars([\"T_4\", \"h_4\"]).to_dataarray(),\n",
    "    Th_backup.to_dataarray(),\n",
    ")"
   ]
  }
 ],
 "metadata": {
  "kernelspec": {
   "display_name": "Python 3 (ipykernel)",
   "language": "python",
   "name": "python3"
  },
  "language_info": {
   "codemirror_mode": {
    "name": "ipython",
    "version": 3
   },
   "file_extension": ".py",
   "mimetype": "text/x-python",
   "name": "python",
   "nbconvert_exporter": "python",
   "pygments_lexer": "ipython3",
   "version": "3.13.3"
  }
 },
 "nbformat": 4,
 "nbformat_minor": 5
}
