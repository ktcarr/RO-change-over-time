{
 "cells": [
  {
   "cell_type": "markdown",
   "id": "4da2723b-6ec6-4046-8027-1af7cfbc0ed4",
   "metadata": {},
   "source": [
    "# Look at climate change in MPI"
   ]
  },
  {
   "cell_type": "markdown",
   "id": "f6c528d2-9c73-4b6b-8b6e-1a4cceac8886",
   "metadata": {},
   "source": [
    "## Imports"
   ]
  },
  {
   "cell_type": "code",
   "execution_count": 1,
   "id": "04247ef5-263e-4845-8476-afe6bbc39cfd",
   "metadata": {},
   "outputs": [],
   "source": [
    "import matplotlib\n",
    "import matplotlib.pyplot as plt\n",
    "import matplotlib as mpl\n",
    "import numpy as np\n",
    "import seaborn as sns\n",
    "import xarray as xr\n",
    "import warnings\n",
    "import tqdm\n",
    "import pathlib\n",
    "import cmocean\n",
    "import os\n",
    "\n",
    "# Import custom modules\n",
    "import src.utils\n",
    "from src.XRO import XRO, xcorr\n",
    "\n",
    "## set plotting specs\n",
    "sns.set(rc={\"axes.facecolor\": \"white\", \"axes.grid\": False})\n",
    "\n",
    "## bump up DPI\n",
    "mpl.rcParams[\"figure.dpi\"] = 100\n",
    "\n",
    "## get filepaths\n",
    "DATA_FP = pathlib.Path(os.environ[\"DATA_FP\"])\n",
    "SAVE_FP = pathlib.Path(os.environ[\"SAVE_FP\"])"
   ]
  },
  {
   "cell_type": "markdown",
   "id": "b1443817-c116-4214-8e32-77a24bc27d67",
   "metadata": {},
   "source": [
    "## Functions"
   ]
  },
  {
   "cell_type": "code",
   "execution_count": 2,
   "id": "a3a15dcd-322f-482a-8ff1-caba8f9be4fc",
   "metadata": {},
   "outputs": [],
   "source": [
    "def get_zonal_grad(x):\n",
    "    \"\"\"\n",
    "    Function to compute zonal gradient. Ref: Fig 7 in Maher et al, 2023.\n",
    "    \"\"\"\n",
    "\n",
    "    ## outlines for boxes\n",
    "    ebox_coords = dict(longitude=slice(210, 270), latitude=slice(-5, 5))\n",
    "    wbox_coords = dict(longitude=slice(120, 180), latitude=slice(-5, 5))\n",
    "\n",
    "    ## compute box averages\n",
    "    ebox_avg = src.utils.spatial_avg(x.sel(ebox_coords))\n",
    "    wbox_avg = src.utils.spatial_avg(x.sel(wbox_coords))\n",
    "\n",
    "    return ebox_avg - wbox_avg"
   ]
  },
  {
   "cell_type": "markdown",
   "id": "e8fb70a4-8994-4ef9-987b-f7d74fc9d1be",
   "metadata": {},
   "source": [
    "## Load spatial data"
   ]
  },
  {
   "cell_type": "code",
   "execution_count": 3,
   "id": "f0196c7a-0588-4ffc-b190-977ba69641bb",
   "metadata": {},
   "outputs": [],
   "source": [
    "## specify sliding window size for climatology\n",
    "n_years = 3\n",
    "\n",
    "## Load EOF data\n",
    "eofs_fp = pathlib.Path(DATA_FP, \"mpi\", \"eofs\")\n",
    "eofs = src.utils.load_eofs(eofs_fp / \"ts.nc\")\n",
    "\n",
    "## for convenience, put PC data into single dataset\n",
    "pc_data = eofs.scores().rename(\"sst\")\n",
    "\n",
    "## get forced/anomalous component\n",
    "forced, anom = src.utils.separate_forced(pc_data, n=n_years)"
   ]
  },
  {
   "cell_type": "markdown",
   "id": "4ca782a1-a921-49cc-9545-d5a87de97c21",
   "metadata": {},
   "source": [
    "## Warming pattern over time"
   ]
  },
  {
   "cell_type": "code",
   "execution_count": 4,
   "id": "b9bb2d2c-7bce-4fff-94ec-af59270eb605",
   "metadata": {},
   "outputs": [],
   "source": [
    "## get rolling avg\n",
    "forced_rolling = src.utils.get_rolling_avg(forced, n=1)\n",
    "\n",
    "## get NDJ season\n",
    "month = forced_rolling.time.dt.month\n",
    "forced_ndj = forced_rolling.isel(time=(month == 12))\n",
    "\n",
    "# ## reconstruct equatorial average\n",
    "eq_avg = lambda x: x.sel(latitude=slice(-2, 2)).mean(\"latitude\")\n",
    "kwargs = dict(scores=forced_ndj, components=eofs.components(), fn=eq_avg)\n",
    "forced_ndj_recon = src.utils.reconstruct_fn(**kwargs).sel(longitude=slice(125, 280))\n",
    "\n",
    "## subtract leading 30-year mean\n",
    "forced_ndj_recon -= forced_ndj_recon.isel(time=slice(None, 30)).mean(\"time\")"
   ]
  },
  {
   "cell_type": "markdown",
   "id": "0d987684-2cc8-47c7-9e62-9281391b505e",
   "metadata": {},
   "source": [
    "Make plot"
   ]
  },
  {
   "cell_type": "code",
   "execution_count": 5,
   "id": "b7861186-68bd-461c-91fd-6f98f999a708",
   "metadata": {},
   "outputs": [
    {
     "data": {
      "image/png": "[encoded data removed]",
      "text/plain": [
       "<Figure size 400x500 with 2 Axes>"
      ]
     },
     "metadata": {},
     "output_type": "display_data"
    }
   ],
   "source": [
    "## setup plot\n",
    "fig, axs = plt.subplots(1, 2, figsize=(4, 5), layout=\"constrained\")\n",
    "\n",
    "## plot mean\n",
    "kwargs = dict(levels=src.utils.make_cb_range(3, 0.3), cmap=\"cmo.balance\", extend=\"both\")\n",
    "plot_data = axs[0].contourf(\n",
    "    forced_ndj_recon.longitude,\n",
    "    forced_ndj_recon.time.dt.year,\n",
    "    forced_ndj_recon.T,\n",
    "    **kwargs\n",
    ")\n",
    "\n",
    "## plot diff from mean\n",
    "kwargs = dict(\n",
    "    levels=src.utils.make_cb_range(0.5, 0.05), cmap=\"cmo.balance\", extend=\"both\"\n",
    ")\n",
    "plot_data = axs[1].contourf(\n",
    "    forced_ndj_recon.longitude,\n",
    "    forced_ndj_recon.time.dt.year,\n",
    "    (forced_ndj_recon - forced_ndj_recon.mean(\"longitude\")).T,\n",
    "    **kwargs\n",
    ")\n",
    "\n",
    "## label\n",
    "axs[0].set_ylabel(\"Year\")\n",
    "kwargs = dict(ls=\"--\", c=\"w\", lw=0.8)\n",
    "for ax in axs:\n",
    "    ax.set_xlabel(\"Longitude\")\n",
    "    ax.set_xticks([190, 240])\n",
    "    ax.axvline(190, **kwargs)\n",
    "    ax.axvline(240, **kwargs)\n",
    "\n",
    "plt.show()"
   ]
  },
  {
   "cell_type": "markdown",
   "id": "d5e17aae-1fa4-470c-a388-a5f26a98c01f",
   "metadata": {},
   "source": [
    "## Change in zonal gradient"
   ]
  },
  {
   "cell_type": "markdown",
   "id": "cb8a907d-788b-41de-b0ab-b7f4dd06c5f6",
   "metadata": {},
   "source": [
    "### Compute zonal gradient"
   ]
  },
  {
   "cell_type": "code",
   "execution_count": 6,
   "id": "cdc7b7e9-cfdf-4f1b-94dd-feb7c7eb2691",
   "metadata": {},
   "outputs": [],
   "source": [
    "## get subset of data to look at\n",
    "anom_ = anom.sel(time=slice(\"1979\", \"2024\"))\n",
    "\n",
    "## compute zonal gradient at every time step\n",
    "zonal_grad = src.utils.reconstruct_fn(eofs.components(), anom_, fn=get_zonal_grad)\n",
    "\n",
    "## get monthly avg\n",
    "zonal_grad_by_month = zonal_grad.groupby(\"time.month\").mean()"
   ]
  },
  {
   "cell_type": "markdown",
   "id": "f7621f31-2248-4fda-a805-9b91f522a7fa",
   "metadata": {},
   "source": [
    "### Look at forced change"
   ]
  },
  {
   "cell_type": "code",
   "execution_count": 7,
   "id": "b87c6a58-97b6-43cc-bc9b-d1f61e76f91c",
   "metadata": {},
   "outputs": [],
   "source": [
    "## compute zonal gradient\n",
    "zonal_grad_forced = src.utils.reconstruct_fn(\n",
    "    eofs.components(), forced, fn=get_zonal_grad\n",
    ")\n",
    "\n",
    "## reshape from time -> (month, year)\n",
    "reshape = lambda x: x.reshape(12, -1, order=\"F\")\n",
    "zonal_grad_forced_by_month = reshape(zonal_grad_forced.values)\n",
    "\n",
    "## subtract clim\n",
    "clim = zonal_grad_forced_by_month[:, :30].mean(1, keepdims=True)\n",
    "zonal_grad_change = zonal_grad_forced_by_month - clim\n",
    "\n",
    "## get month, year dims\n",
    "month = np.unique(forced.time.dt.month.values)\n",
    "year = np.unique(forced.time.dt.year)"
   ]
  },
  {
   "cell_type": "code",
   "execution_count": 8,
   "id": "dadb3b6e-1dc1-4555-8dfc-0d59d929644f",
   "metadata": {},
   "outputs": [
    {
     "data": {
      "image/png": "[encoded data removed]",
      "text/plain": [
       "<Figure size 200x400 with 1 Axes>"
      ]
     },
     "metadata": {},
     "output_type": "display_data"
    }
   ],
   "source": [
    "## setup plot\n",
    "fig, ax = plt.subplots(figsize=(2, 4), layout=\"constrained\")\n",
    "\n",
    "## plot data\n",
    "kwargs = dict(levels=src.utils.make_cb_range(1, 0.1), cmap=\"cmo.balance\")\n",
    "plot_data = ax.contourf(month, year, zonal_grad_change.T, **kwargs)\n",
    "\n",
    "## label\n",
    "ax.set_ylabel(\"Year\")\n",
    "ax.set_xlabel(\"Month\")\n",
    "ax.set_xticks([1, 6, 12])\n",
    "ax.set_title(r\"$\\Delta \\left(\\partial_x T\\right)$\")\n",
    "ax.set_ylim([1950, None])\n",
    "\n",
    "plt.show()"
   ]
  },
  {
   "cell_type": "markdown",
   "id": "0a556474-13c3-4652-83e6-aff23e6b5a27",
   "metadata": {},
   "source": [
    "## Look at mean state-dependence"
   ]
  },
  {
   "cell_type": "markdown",
   "id": "25986b01-a732-4b02-a4a0-f5d04649e72f",
   "metadata": {},
   "source": [
    "### Compare Bjerknes growth rate to zonal gradient"
   ]
  },
  {
   "cell_type": "markdown",
   "id": "00ae78fc-a54f-4a71-b868-90f7c4dec086",
   "metadata": {},
   "source": [
    "#### Load $T,h$ data"
   ]
  },
  {
   "cell_type": "code",
   "execution_count": 9,
   "id": "db26b568-b788-48f4-b8f7-0142f843ffd2",
   "metadata": {},
   "outputs": [],
   "source": [
    "## MPI data\n",
    "mpi_load_fp = pathlib.Path(DATA_FP, \"mpi_Th\", \"Th.nc\")\n",
    "Th = xr.open_dataset(mpi_load_fp)"
   ]
  },
  {
   "cell_type": "markdown",
   "id": "91daca80-e87d-4a47-9684-a7748773ef08",
   "metadata": {},
   "source": [
    "#### Fit RO to $T,h$ data"
   ]
  },
  {
   "cell_type": "code",
   "execution_count": 10,
   "id": "c5e178bd-5d7b-4366-aae0-f1ac23695c77",
   "metadata": {},
   "outputs": [
    {
     "name": "stderr",
     "output_type": "stream",
     "text": [
      "100%|███████████████████████████████████████████████████████████████████████████████████████████████████████████████████████████████████████████████████████████████████████| 50/50 [00:04<00:00, 12.15it/s]\n"
     ]
    }
   ],
   "source": [
    "## get subset of data\n",
    "Th_sub = Th.sel(time=slice(\"1979\", \"2024\"))\n",
    "\n",
    "## initialize model\n",
    "model = XRO(ncycle=12, ac_order=3, is_forward=True)\n",
    "\n",
    "## fit to individual ensemble members\n",
    "kwargs = dict(model=model, T_var=\"T_3\", h_var=\"h_w\", verbose=True)\n",
    "_, fits = src.utils.get_RO_ensemble(Th_sub, **kwargs)\n",
    "\n",
    "## extract parameters\n",
    "params = model.get_RO_parameters(fits)"
   ]
  },
  {
   "cell_type": "markdown",
   "id": "63b7349f-a686-411f-8145-7d10004e42f1",
   "metadata": {},
   "source": [
    "#### Look at intra-ensemble spread\n",
    "$\\partial_x T$ vs. BJ index  \n",
    "Compare to Maher et al (2023)"
   ]
  },
  {
   "cell_type": "code",
   "execution_count": 11,
   "id": "af512f0f-d889-441d-b57b-aef55c39b783",
   "metadata": {},
   "outputs": [
    {
     "data": {
      "image/png": "[encoded data removed]",
      "text/plain": [
       "<Figure size 200x200 with 1 Axes>"
      ]
     },
     "metadata": {},
     "output_type": "display_data"
    }
   ],
   "source": [
    "fig, ax = plt.subplots(figsize=(2, 2))\n",
    "ax.scatter(zonal_grad_by_month.mean(\"month\"), params[\"R\"].mean(\"cycle\"), s=10)\n",
    "# ax.scatter(zonal_grad_by_month.sel(month=7), params[\"R\"].sel(cycle=7), s=10)\n",
    "ax.set_xlabel(\"Zonal SST gradient\")\n",
    "ax.set_ylabel(\"Bjerknes feedback\")\n",
    "plt.show()"
   ]
  }
 ],
 "metadata": {
  "kernelspec": {
   "display_name": "Python 3 (ipykernel)",
   "language": "python",
   "name": "python3"
  },
  "language_info": {
   "codemirror_mode": {
    "name": "ipython",
    "version": 3
   },
   "file_extension": ".py",
   "mimetype": "text/x-python",
   "name": "python",
   "nbconvert_exporter": "python",
   "pygments_lexer": "ipython3",
   "version": "3.13.3"
  }
 },
 "nbformat": 4,
 "nbformat_minor": 5
}
