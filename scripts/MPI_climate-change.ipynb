{
 "cells": [
  {
   "cell_type": "markdown",
   "id": "4da2723b-6ec6-4046-8027-1af7cfbc0ed4",
   "metadata": {},
   "source": [
    "# Look at climate change in MPI"
   ]
  },
  {
   "cell_type": "markdown",
   "id": "f6c528d2-9c73-4b6b-8b6e-1a4cceac8886",
   "metadata": {},
   "source": [
    "## Imports"
   ]
  },
  {
   "cell_type": "code",
   "execution_count": null,
   "id": "04247ef5-263e-4845-8476-afe6bbc39cfd",
   "metadata": {},
   "outputs": [],
   "source": [
    "import pandas as pd\n",
    "import matplotlib.pyplot as plt\n",
    "import matplotlib as mpl\n",
    "import numpy as np\n",
    "import scipy.stats\n",
    "import seaborn as sns\n",
    "import xarray as xr\n",
    "import warnings\n",
    "import tqdm\n",
    "import pathlib\n",
    "import cmocean\n",
    "import os\n",
    "import calendar\n",
    "\n",
    "# Import custom modules\n",
    "import src.utils\n",
    "from src.XRO import XRO, xcorr\n",
    "\n",
    "## set plotting specs\n",
    "sns.set(rc={\"axes.facecolor\": \"white\", \"axes.grid\": False})\n",
    "\n",
    "## bump up DPI\n",
    "mpl.rcParams[\"figure.dpi\"] = 100\n",
    "\n",
    "## get filepaths\n",
    "DATA_FP = pathlib.Path(os.environ[\"DATA_FP\"])\n",
    "SAVE_FP = pathlib.Path(os.environ[\"SAVE_FP\"])"
   ]
  },
  {
   "cell_type": "markdown",
   "id": "b1443817-c116-4214-8e32-77a24bc27d67",
   "metadata": {},
   "source": [
    "## Functions"
   ]
  },
  {
   "cell_type": "code",
   "execution_count": null,
   "id": "5837def3-3a35-477b-b02e-4b5373f531ce",
   "metadata": {},
   "outputs": [],
   "source": [
    "def plot_hov(ax, data, amp, label=None):\n",
    "    \"\"\"Plot hovmoller of longitude vs. year\"\"\"\n",
    "\n",
    "    # kwargs = dict(levels=src.utils.make_cb_range(3, 0.3), cmap=\"cmo.balance\", extend=\"both\")\n",
    "    plot_data = ax.contourf(\n",
    "        data.longitude,\n",
    "        data.year,\n",
    "        data.T,\n",
    "        cmap=\"cmo.balance\",\n",
    "        extend=\"both\",\n",
    "        levels=src.utils.make_cb_range(amp, amp / 10),\n",
    "    )\n",
    "    cb = fig.colorbar(\n",
    "        plot_data, orientation=\"horizontal\", ticks=[-amp, 0, amp], label=label\n",
    "    )\n",
    "\n",
    "    ## label\n",
    "    kwargs = dict(ls=\"--\", c=\"w\", lw=0.8)\n",
    "    for ax in axs:\n",
    "        ax.set_xlabel(\"Longitude\")\n",
    "        ax.set_xticks([190, 240])\n",
    "        ax.set_yticks([])\n",
    "        ax.axvline(190, **kwargs)\n",
    "        ax.axvline(240, **kwargs)\n",
    "        ax.xaxis.tick_top()\n",
    "        ax.xaxis.set_label_position(\"top\")\n",
    "\n",
    "    return\n",
    "\n",
    "\n",
    "def plot_hov2(ax, data, amp, label=None):\n",
    "    \"\"\"Plot hovmoller of longitude vs. year\"\"\"\n",
    "\n",
    "    # kwargs = dict(levels=src.utils.make_cb_range(3, 0.3), cmap=\"cmo.balance\", extend=\"both\")\n",
    "    plot_data = ax.contourf(\n",
    "        data.month,\n",
    "        data.year,\n",
    "        data.T,\n",
    "        cmap=\"cmo.balance\",\n",
    "        extend=\"max\",\n",
    "        levels=src.utils.make_cb_range(amp, amp / 10),\n",
    "    )\n",
    "    cb = fig.colorbar(\n",
    "        plot_data, orientation=\"horizontal\", ticks=[-amp, 0, amp], label=label\n",
    "    )\n",
    "\n",
    "    ## label\n",
    "    kwargs = dict(ls=\"--\", c=\"w\", lw=0.8)\n",
    "    for ax in axs:\n",
    "        ax.set_xlabel(\"Month\")\n",
    "        ax.set_xticks([1, 12])\n",
    "        ax.set_yticks([])\n",
    "        ax.xaxis.tick_top()\n",
    "        ax.xaxis.set_label_position(\"top\")\n",
    "\n",
    "    return\n",
    "\n",
    "\n",
    "def get_rolling_var(data, n=10):\n",
    "    \"\"\"\n",
    "    Get variance, computing over time and ensemble member. To increase\n",
    "    sample size for variance estimate, compute over time window of 2n+1\n",
    "    years, centered at given year.\n",
    "    \"\"\"\n",
    "\n",
    "    return src.utils.get_rolling_fn_bymonth(data, fn=np.var, n=n)"
   ]
  },
  {
   "cell_type": "markdown",
   "id": "718c1496-b530-49e9-97ee-cdf36d9c5a15",
   "metadata": {},
   "source": [
    "## Change in $T$, $h$"
   ]
  },
  {
   "cell_type": "markdown",
   "id": "ed745b78-e923-4ccd-8d3a-aea900dd9e60",
   "metadata": {},
   "source": [
    "### Load data\n",
    "And compute variance/skewness"
   ]
  },
  {
   "cell_type": "code",
   "execution_count": null,
   "id": "dbe9e533-7998-4dd6-a932-1d8118672ba4",
   "metadata": {},
   "outputs": [],
   "source": [
    "## MPI data\n",
    "mpi_load_fp = pathlib.Path(DATA_FP, \"mpi_Th\", \"Th.nc\")\n",
    "Th = xr.open_dataset(mpi_load_fp)\n",
    "\n",
    "## get rolling variance, by month\n",
    "Th_var = get_rolling_var(Th, n=15)\n",
    "Th_var_bymonth = src.utils.unstack_month_and_year(Th_var)\n",
    "\n",
    "## get rolling skew, by month\n",
    "Th_skew = src.utils.get_rolling_fn_bymonth(Th, fn=scipy.stats.skew, n=15)\n",
    "Th_skew_bymonth = src.utils.unstack_month_and_year(Th_skew)\n",
    "\n",
    "## Get % increase in variance\n",
    "baseline = Th_var_bymonth.isel(year=slice(None, 30)).mean(\"year\")\n",
    "Th_var_bymonth_pct = 100 * (Th_var_bymonth - baseline) / baseline"
   ]
  },
  {
   "cell_type": "markdown",
   "id": "65a2c74a-1203-4e35-9825-df332004d3f6",
   "metadata": {},
   "source": [
    "### Variance"
   ]
  },
  {
   "cell_type": "markdown",
   "id": "cd6f6d0b-3bee-425a-b588-3abf62dff9d7",
   "metadata": {},
   "source": [
    "Hövmöller"
   ]
  },
  {
   "cell_type": "code",
   "execution_count": null,
   "id": "4660de1b-0aa0-4f26-b121-34eba7e9ddbe",
   "metadata": {},
   "outputs": [],
   "source": [
    "## setup plot\n",
    "fig, axs = plt.subplots(1, 2, figsize=(3.6, 4), layout=\"constrained\")\n",
    "\n",
    "## plot T data\n",
    "plot_hov2(axs[0], Th_var_bymonth_pct[\"T_34\"].T, amp=100, label=\"% change (SST)\")\n",
    "plot_hov2(axs[1], Th_var_bymonth_pct[\"h\"].T, amp=100, label=\"% change (SSH)\")\n",
    "\n",
    "## label\n",
    "xticks = np.linspace(1870, 2082, 5)\n",
    "axs[0].set_yticks(xticks)\n",
    "axs[0].set_ylabel(\"Year\")\n",
    "axs[1].set_ylim(axs[0].get_ylim())\n",
    "for ax in axs:\n",
    "    ax.axvline(8, ls=\"--\", c=\"w\", alpha=1, lw=0.5)\n",
    "    ax.set_xticks([1, 8, 12])\n",
    "\n",
    "plt.show()"
   ]
  },
  {
   "cell_type": "markdown",
   "id": "0cbc4029-7b16-4274-82fd-f88b577d4eca",
   "metadata": {},
   "source": [
    "Compare August and December variance over time"
   ]
  },
  {
   "cell_type": "code",
   "execution_count": null,
   "id": "3ca4d67e-5dbc-4318-aa63-a086196e2e65",
   "metadata": {},
   "outputs": [],
   "source": [
    "fig, ax = plt.subplots(figsize=(2.5, 2))\n",
    "\n",
    "## plot data\n",
    "ax.plot(\n",
    "    Th_var_bymonth.year, Th_var_bymonth[\"T_34\"].sel(month=8), label=\"Aug\", c=\"k\", ls=\"-\"\n",
    ")\n",
    "ax.plot(\n",
    "    Th_var_bymonth.year,\n",
    "    Th_var_bymonth[\"T_34\"].sel(month=11),\n",
    "    label=\"Dec\",\n",
    "    c=\"gray\",\n",
    "    ls=\"--\",\n",
    ")\n",
    "\n",
    "## label and style\n",
    "ax.set_title(r\"$\\sigma^2\\left(\\text{Niño 3.4}\\right)$\")\n",
    "ax.set_ylim([0, None])\n",
    "ax.set_xticks(xticks[[0, -1]])\n",
    "ax.legend(prop=dict(size=8))\n",
    "ax.set_ylabel(r\"$^{\\circ}\\text{C}^2$\")\n",
    "\n",
    "plt.show()"
   ]
  },
  {
   "cell_type": "markdown",
   "id": "4c3bc180-e85f-4b2b-871e-781fde8f434b",
   "metadata": {},
   "source": [
    "### Skewness"
   ]
  },
  {
   "cell_type": "code",
   "execution_count": null,
   "id": "1258b67b-f6ff-4462-83d8-3e3d57bd561f",
   "metadata": {},
   "outputs": [],
   "source": [
    "## setup plot\n",
    "fig, axs = plt.subplots(1, 2, figsize=(3.6, 4), layout=\"constrained\")\n",
    "\n",
    "## plot T data\n",
    "plot_hov2(axs[0], Th_skew_bymonth[\"T_34\"].T, amp=0.6, label=\"SST\")\n",
    "plot_hov2(axs[1], Th_skew_bymonth[\"h\"].T, amp=0.6, label=\"SSH\")\n",
    "\n",
    "## label\n",
    "axs[0].set_yticks(np.linspace(1870, 2082, 5))\n",
    "axs[0].set_ylabel(\"Year\")\n",
    "axs[1].set_ylim(axs[0].get_ylim())\n",
    "plt.show()"
   ]
  },
  {
   "cell_type": "markdown",
   "id": "2623c08b-724b-4912-a51d-8134fa26ab62",
   "metadata": {},
   "source": [
    "### Seasonality"
   ]
  },
  {
   "cell_type": "markdown",
   "id": "e8fb70a4-8994-4ef9-987b-f7d74fc9d1be",
   "metadata": {},
   "source": [
    "## Change in spatial patterns"
   ]
  },
  {
   "cell_type": "code",
   "execution_count": null,
   "id": "f0196c7a-0588-4ffc-b190-977ba69641bb",
   "metadata": {},
   "outputs": [],
   "source": [
    "## specify sliding window size for climatology\n",
    "n_years = 3\n",
    "\n",
    "## Load EOF data\n",
    "eofs_fp = pathlib.Path(DATA_FP, \"mpi\", \"eofs300\")\n",
    "eofs_sst = src.utils.load_eofs(eofs_fp / \"ts.nc\")\n",
    "eofs_ssh = src.utils.load_eofs(eofs_fp / \"ssh.nc\")\n",
    "\n",
    "## for convenience, put components and scores into datasets\n",
    "components = xr.merge(\n",
    "    [eofs_sst.components().rename(\"sst\"), eofs_ssh.components().rename(\"ssh\")]\n",
    ")\n",
    "scores = xr.merge([eofs_sst.scores().rename(\"sst\"), eofs_ssh.scores().rename(\"ssh\")])\n",
    "\n",
    "## get forced/anomalous component\n",
    "forced, anom = src.utils.separate_forced(scores, n=n_years)"
   ]
  },
  {
   "cell_type": "markdown",
   "id": "677c4fd6-e0e3-4ae3-85ae-1a016044927f",
   "metadata": {},
   "source": [
    "### Reconstruct equatorial strip"
   ]
  },
  {
   "cell_type": "code",
   "execution_count": null,
   "id": "ffb744f9-2402-4ca0-8d1e-6ef646b05100",
   "metadata": {},
   "outputs": [],
   "source": [
    "## get rolling avg\n",
    "forced_rolling = src.utils.get_rolling_avg(forced, n=1)\n",
    "\n",
    "## get NDJ season\n",
    "month = forced_rolling.time.dt.month\n",
    "forced_ndj = forced_rolling.isel(time=(month == 12))\n",
    "\n",
    "## reconstruct equatorial average\n",
    "eq_avg = lambda x: x.sel(latitude=slice(-2, 2), longitude=slice(125, 279)).mean(\n",
    "    \"latitude\"\n",
    ")\n",
    "kwargs = dict(scores=forced_ndj, components=components, fn=eq_avg)\n",
    "forced_ndj_recon = src.utils.reconstruct_fn(**kwargs)\n",
    "\n",
    "## replace time axis with year for easier plotting\n",
    "forced_ndj_recon[\"time\"] = forced_ndj_recon[\"time\"].dt.year\n",
    "forced_ndj_recon = forced_ndj_recon.rename({\"time\": \"year\"})\n",
    "\n",
    "## subtract leading 30-year mean\n",
    "clim = forced_ndj_recon.isel(year=slice(None, 30)).mean(\"year\")\n",
    "forced_anom = forced_ndj_recon - clim"
   ]
  },
  {
   "cell_type": "markdown",
   "id": "8f7a525f-c005-4395-859e-0b5c7599eec3",
   "metadata": {},
   "source": [
    "### Hövmöller plot"
   ]
  },
  {
   "cell_type": "code",
   "execution_count": null,
   "id": "a32a2dda-132e-4f53-b416-1404f3be0889",
   "metadata": {},
   "outputs": [],
   "source": [
    "## setup plot\n",
    "fig, axs = plt.subplots(1, 4, figsize=(7.2, 4), layout=\"constrained\")\n",
    "\n",
    "for j, (varname, total_amp, diff_amp) in enumerate(\n",
    "    zip([\"sst\", \"ssh\"], [3, 8], [0.5, 2])\n",
    "):\n",
    "\n",
    "    ## get total plot and difference\n",
    "    total = forced_anom[varname]\n",
    "    diff = total - total.mean(\"longitude\")\n",
    "\n",
    "    ## plot data\n",
    "    plot_hov(axs[j], total, amp=total_amp, label=f\"{varname} (total)\")\n",
    "    plot_hov(axs[j + 2], diff, amp=diff_amp, label=f\"{varname} (diff)\")\n",
    "\n",
    "axs[0].set_yticks(np.arange(1860, 2100, 55))\n",
    "axs[0].set_ylabel(\"Year\")\n",
    "plt.show()"
   ]
  },
  {
   "cell_type": "markdown",
   "id": "67199700-b47f-4887-b0e1-0414df24f5a4",
   "metadata": {},
   "source": [
    "### Line plots"
   ]
  },
  {
   "cell_type": "markdown",
   "id": "870711a8-fa60-4de0-bd84-9171554b5571",
   "metadata": {},
   "source": [
    "Function to do formatting. Not sure about units for SSH: data attribute says \"m\", but data itself suggests \"cm\"..."
   ]
  },
  {
   "cell_type": "code",
   "execution_count": null,
   "id": "e15e257f-6f47-441c-a4dc-6f4f547fde4d",
   "metadata": {},
   "outputs": [],
   "source": [
    "def format_line_plots(axs):\n",
    "    \"\"\"format subplots\"\"\"\n",
    "\n",
    "    for ax in axs[0, :]:\n",
    "        ax.set_xticks([])\n",
    "    # for ax in axs[:, 1]:\n",
    "    #     ax.yaxis.tick_right()\n",
    "    axs[1, 0].set_xticks([1860, 1970, 2080])\n",
    "    axs[0, 2].set_yticks([-0.5, 0.5])\n",
    "    axs[1, 2].set_yticks([-4, 4])\n",
    "    axs[0, 1].set_yticks([-3, 3])\n",
    "    axs[1, 1].set_yticks([-24, 24])\n",
    "    axs[0, 0].set_yticks([25.5, 28.5])\n",
    "    axs[1, 0].set_yticks([91, 84])\n",
    "    axs[0, 0].set_ylabel(r\"SST ($^{\\circ}$C)\")\n",
    "    axs[1, 0].set_ylabel(r\"SSH (cm?)\")\n",
    "    axs[0, 0].set_title(\"Zonal mean\")\n",
    "    axs[0, 1].set_title(\"Zonal anomaly\")\n",
    "    axs[0, 2].set_title(\"Change (late minus early)\")\n",
    "    axs[1, 0].set_xlabel(\"Year\")\n",
    "    for ax in axs[1, 1:]:\n",
    "        ax.set_xticks([140, 210, 280])\n",
    "        ax.set_xlabel(\"Longitude\")\n",
    "\n",
    "    for ax in axs[:, 2]:\n",
    "        kwargs = dict(ls=\"--\", lw=0.5, c=\"k\")\n",
    "        ax.axhline(0, **kwargs)\n",
    "        ax.axvspan(160, 210, color=\"b\", alpha=0.15, label=\"4\")\n",
    "        ax.axvspan(190, 240, color=\"r\", alpha=0.15, label=\"3.4\")\n",
    "\n",
    "    ## scale axes\n",
    "    for j in [0, 1]:\n",
    "        axs[j, 2].set_ylim(1 / 6 * np.array(axs[j, 1].get_ylim()))\n",
    "\n",
    "    ## legends\n",
    "    axs[0, 1].legend(prop=dict(size=6))\n",
    "    axs[1, 2].legend(prop=dict(size=6), loc=\"upper right\")\n",
    "\n",
    "    return"
   ]
  },
  {
   "cell_type": "markdown",
   "id": "6ddfa803-afe6-4be1-90ad-d25eee38e1c9",
   "metadata": {},
   "source": [
    "Make plot"
   ]
  },
  {
   "cell_type": "code",
   "execution_count": null,
   "id": "a2176f7d-2ecc-441b-bc3f-41e23d71b137",
   "metadata": {},
   "outputs": [],
   "source": [
    "## get zonal mean, tilt, and grad\n",
    "zonal_mean = forced_ndj_recon.mean(\"longitude\")\n",
    "tilt = forced_ndj_recon - zonal_mean\n",
    "grad = tilt.differentiate(coord=\"longitude\")\n",
    "\n",
    "## get plot style for beginning/end periods\n",
    "start_kwargs = dict(color=\"b\", ls=\"-\", label=\"First 30 yrs\")\n",
    "end_kwargs = dict(color=\"r\", ls=\"--\", label=\"Last 30 yrs\")\n",
    "t_idxs = [slice(None, 30), slice(-30, None)]\n",
    "\n",
    "## make plot\n",
    "fig, axs = plt.subplots(2, 3, figsize=(6, 3), layout=\"constrained\")\n",
    "\n",
    "## plot SST and SSH on separate rows\n",
    "for j, varname in enumerate([\"sst\", \"ssh\"]):\n",
    "\n",
    "    ## plot zonal mean\n",
    "    axs[j, 0].plot(zonal_mean.year, zonal_mean[varname])\n",
    "\n",
    "    ## tilt at beginning and end of period\n",
    "    tilts = [tilt[varname].isel(year=t_).mean(\"year\") for t_ in t_idxs]\n",
    "\n",
    "    ## plot diff from zonal mean\n",
    "    for tilt_, plot_kwargs in zip(tilts, [start_kwargs, end_kwargs]):\n",
    "\n",
    "        ## tilt\n",
    "        axs[j, 1].plot(tilt.longitude, tilt_, **plot_kwargs)\n",
    "\n",
    "    ## plot change\n",
    "    axs[j, 2].plot(diff.longitude, tilts[1] - tilts[0], c=\"k\")\n",
    "\n",
    "\n",
    "## label/format plot\n",
    "format_line_plots(axs)\n",
    "\n",
    "plt.show()"
   ]
  },
  {
   "cell_type": "markdown",
   "id": "73f6f5fb-33e1-4439-9893-2de77cbe3127",
   "metadata": {},
   "source": [
    "### Change in variance"
   ]
  },
  {
   "attachments": {},
   "cell_type": "markdown",
   "id": "f4a185a0-b7a0-4d3f-8dbe-65f6f433fd9f",
   "metadata": {},
   "source": [
    "#### Equatorial region"
   ]
  },
  {
   "cell_type": "code",
   "execution_count": null,
   "id": "adce8cef-f294-49a2-ab94-1710fdf36b45",
   "metadata": {},
   "outputs": [],
   "source": [
    "def get_var(data, year_center, n=15, fn=None):\n",
    "    \"\"\"\n",
    "    Reconstruct variance for given time period.\n",
    "    Estimate variance based on window centered on `year_center'.\n",
    "    Window encompasses all samples within 'n' years of year_center.\n",
    "    \"\"\"\n",
    "\n",
    "    ## get indices of samples in window\n",
    "    in_window = np.abs(data.time.dt.year - year_center) <= n\n",
    "\n",
    "    ## get variance of samples in window\n",
    "    kwargs = dict(components=components, scores=data.isel(time=in_window), fn=fn)\n",
    "    data_var = src.utils.reconstruct_var(**kwargs)\n",
    "\n",
    "    return data_var\n",
    "\n",
    "\n",
    "def get_var_bymonth(data, year_center, n=15, fn=None):\n",
    "    \"\"\"Get variance by month\"\"\"\n",
    "\n",
    "    ## function to apply to each month\n",
    "    kwargs = dict(year_center=year_center, n=n, fn=fn)\n",
    "    get_var_ = lambda x: get_var(x, **kwargs)\n",
    "    return data.groupby(\"time.month\").map(get_var_)\n",
    "\n",
    "\n",
    "def get_var_for_periods(data, periods, n=15, fn=None, by_month=True):\n",
    "    \"\"\"get variance for specified periods\"\"\"\n",
    "\n",
    "    ## get arguments for variance reconstruction\n",
    "    kwargs = dict(data=data, n=n, fn=fn)\n",
    "\n",
    "    ## get variance recon func\n",
    "    get_var_fn = get_var_bymonth if by_month else get_var\n",
    "    var_by_period = [get_var_fn(year_center=y, **kwargs) for y in tqdm.tqdm(periods)]\n",
    "\n",
    "    ## get dimension to represent period_centers\n",
    "    period_dim = pd.Index(periods, name=\"period\")\n",
    "\n",
    "    ## put in array\n",
    "    return xr.concat(var_by_period, dim=period_dim)\n",
    "\n",
    "\n",
    "## get variance by period\n",
    "period_centers = np.array([1868, 1939, 2010, 2082])\n",
    "\n",
    "## Get equatorial strip variance\n",
    "kwargs = dict(data=anom, periods=period_centers, n=15, fn=eq_avg)\n",
    "var_by_period_eq = get_var_for_periods(**kwargs)\n",
    "\n",
    "# ## Get variance over broader range of latitudes (for all months\n",
    "kwargs = dict(kwargs, fn=None, periods=period_centers[[0, -1]], by_month=False)\n",
    "var_by_period = get_var_for_periods(**kwargs)\n",
    "# var_by_period = xr.concat([\n",
    "#     get_var(anom, year_center=p) for p in period_centers[[0,-1]]\n",
    "# ], concat_dim"
   ]
  },
  {
   "cell_type": "markdown",
   "id": "21cb3ecf-58f1-486f-9867-9488d8feb357",
   "metadata": {},
   "source": [
    "Set plot style for plots"
   ]
  },
  {
   "cell_type": "code",
   "execution_count": null,
   "id": "9f5cce5e-9547-42c5-9f2d-1e67d2d097f9",
   "metadata": {},
   "outputs": [],
   "source": [
    "def label_axs(axs):\n",
    "    \"\"\"label axs for variance plot\"\"\"\n",
    "    axs[0].legend(prop=dict(size=6))\n",
    "    axs[0].set_title(\"SST\")\n",
    "    axs[1].set_title(\"SSH\")\n",
    "    axs[0].set_ylabel(r\"$^{\\circ}$C$^2$\")\n",
    "    axs[1].set_ylabel(r\"cm$^2$\")\n",
    "    axs[0].set_yticks([0, 1, 2])\n",
    "    axs[1].set_yticks([0, 35, 70])\n",
    "    axs[1].yaxis.tick_right()\n",
    "    axs[1].yaxis.set_label_position(\"right\")\n",
    "    for ax in axs:\n",
    "        ax.set_xlabel(\"Longitude\")\n",
    "\n",
    "    return\n",
    "\n",
    "\n",
    "def add_xticks(ax, ticks):\n",
    "    \"\"\"add tick labels in specified positions\"\"\"\n",
    "    ax.set_xticks(ticks)\n",
    "    for tick in ticks:\n",
    "        ax.axvline(tick, ls=\"--\", c=\"k\", lw=0.5)\n",
    "    return"
   ]
  },
  {
   "cell_type": "code",
   "execution_count": null,
   "id": "3c6157fb-d968-424b-a21c-15ee58ef5516",
   "metadata": {},
   "outputs": [],
   "source": [
    "## select month for plot\n",
    "month = 8\n",
    "\n",
    "## colorbar\n",
    "colors = sns.color_palette(\"mako\")\n",
    "\n",
    "## set up plot\n",
    "fig, axs = plt.subplots(1, 2, figsize=(5, 2), layout=\"constrained\")\n",
    "\n",
    "for j, (p, c) in enumerate(zip(var_by_period_eq.period, colors)):\n",
    "\n",
    "    ## Get subset of data for period\n",
    "    plot_data = var_by_period_eq.sel(period=p, month=month)\n",
    "\n",
    "    ## plot\n",
    "    lon = var_by_period_eq.longitude\n",
    "    axs[0].plot(lon, plot_data[\"sst\"], label=f\"{period_centers[j]}\", c=c)\n",
    "    axs[1].plot(lon, plot_data[\"ssh\"], c=c)\n",
    "\n",
    "## format/label axes\n",
    "label_axs(axs)\n",
    "add_xticks(axs[0], [190, 240])\n",
    "add_xticks(axs[1], [160, 210])\n",
    "\n",
    "axs[0].set_ylim([0, 2.5])\n",
    "\n",
    "plt.show()"
   ]
  },
  {
   "cell_type": "markdown",
   "id": "87a77d0e-58ba-4f71-8be0-ff50eb216fe8",
   "metadata": {},
   "source": [
    "#### Spatial (Hovmoller)"
   ]
  },
  {
   "cell_type": "code",
   "execution_count": null,
   "id": "67c8f3f6-9145-489f-bdae-bde14b32e60f",
   "metadata": {},
   "outputs": [],
   "source": [
    "## get plot data\n",
    "baseline = var_by_period_eq[\"sst\"].isel(period=0)\n",
    "future = var_by_period_eq[\"sst\"].isel(period=-1)\n",
    "change = future - baseline\n",
    "\n",
    "## shared args for plotting\n",
    "plot_kwargs = dict(cmap=\"cmo.amp\", extend=\"max\")\n",
    "\n",
    "## Set up plot\n",
    "fig, axs = plt.subplots(3, 1, figsize=(4, 6), layout=\"constrained\")\n",
    "\n",
    "## make hövmöllers\n",
    "cp0 = src.utils.plot_cycle_hov(\n",
    "    axs[0], baseline, levels=np.arange(0, 3.3, 0.3), **plot_kwargs\n",
    ")\n",
    "cp1 = src.utils.plot_cycle_hov(\n",
    "    axs[1], future, levels=np.arange(0, 3.3, 0.3), **plot_kwargs\n",
    ")\n",
    "cp2 = src.utils.plot_cycle_hov(\n",
    "    axs[2],\n",
    "    change,\n",
    "    levels=src.utils.make_cb_range(1.5, 0.15),\n",
    "    cmap=\"cmo.balance\",\n",
    "    extend=\"both\",\n",
    ")\n",
    "\n",
    "## label\n",
    "axs[0].set_title(\"Baseline\")\n",
    "axs[1].set_title(\"Future\")\n",
    "axs[2].set_title(\"Difference\")\n",
    "axs[-1].set_xlabel(\"Longitude\")\n",
    "axs[-1].set_xticks([140, 190, 240])\n",
    "\n",
    "## add colorbars\n",
    "kwargs = dict(ticks=[0, 1, 2, 3], label=r\"$^{\\circ}\\text{C}^2$\")\n",
    "cb0 = fig.colorbar(cp0, ax=axs[0], **kwargs)\n",
    "cb1 = fig.colorbar(cp1, ax=axs[1], **kwargs)\n",
    "cb2 = fig.colorbar(cp2, ax=axs[2], **dict(kwargs, ticks=[-1.5, 0, 1.5]))\n",
    "\n",
    "plt.show()"
   ]
  },
  {
   "cell_type": "markdown",
   "id": "947d678e-9b42-4527-893a-4b48dcad9547",
   "metadata": {},
   "source": [
    "#### Spatial"
   ]
  },
  {
   "cell_type": "markdown",
   "id": "dc169024-0229-4802-b559-a4ad1fe66eac",
   "metadata": {},
   "source": [
    "Compute"
   ]
  },
  {
   "cell_type": "code",
   "execution_count": null,
   "id": "52526e3f-d514-45bb-8f0e-814ca1759f4a",
   "metadata": {},
   "outputs": [],
   "source": [
    "## set up paneled subplot\n",
    "fig = plt.figure(figsize=(6, 5), layout=\"constrained\")\n",
    "axs = src.utils.subplots_with_proj(\n",
    "    fig, nrows=3, ncols=1, format_func=src.utils.plot_setup_pac\n",
    ")\n",
    "\n",
    "## plot data\n",
    "kwargs = dict(\n",
    "    var0=var_by_period[\"sst\"].isel(period=0),\n",
    "    var1=var_by_period[\"sst\"].isel(period=-1),\n",
    "    amp=2,\n",
    "    amp_diff=1,\n",
    "    show_colorbars=True,\n",
    "    cbar_label=r\"$^{\\circ}$C$^2$\",\n",
    ")\n",
    "fig, axs = src.utils.make_variance_subplots(fig, axs, **kwargs)\n",
    "axs[0, 0].set_title(\"Early (1853 – 1883)\")\n",
    "axs[1, 0].set_title(\"Late (2067 – 2097)\")\n",
    "axs[2, 0].set_title(\"Difference\")\n",
    "\n",
    "plt.show()"
   ]
  },
  {
   "cell_type": "markdown",
   "id": "d577c8f2-73f3-4cd2-a9fe-cdb906998972",
   "metadata": {},
   "source": [
    "#### ENSO composite"
   ]
  },
  {
   "cell_type": "markdown",
   "id": "2697a036-de90-4390-89b1-2b68bbeefcbe",
   "metadata": {},
   "source": [
    "Function to compute composite"
   ]
  },
  {
   "cell_type": "code",
   "execution_count": null,
   "id": "68144754-f5f5-45c3-902f-21c296b33eb7",
   "metadata": {},
   "outputs": [],
   "source": [
    "def get_hov_composite(data, peak_month, q, idx_fn):\n",
    "    \"\"\"\n",
    "    Get hovmoller composite based on specified:\n",
    "    - data: used to compute index/make composite\n",
    "    - peak_month: month to center composite on\n",
    "    - q: quantile threshold for composite\n",
    "    - idx_fn: function to compute index from spatial sst anoms\n",
    "    \"\"\"\n",
    "\n",
    "    ## get data subset\n",
    "\n",
    "    ## get MPI index\n",
    "    idx = src.utils.reconstruct_fn(\n",
    "        components=components[\"sst\"], scores=data[\"sst\"], fn=idx_fn\n",
    "    )\n",
    "\n",
    "    ## kwargs for composite\n",
    "    kwargs = dict(peak_month=peak_month, q=q)\n",
    "\n",
    "    ## composite of projected data\n",
    "    comp_proj = src.utils.make_composite(idx=idx, data=data, **kwargs)\n",
    "\n",
    "    ## fn to get meridional mean\n",
    "    lat = dict(latitude=slice(-5, 5))\n",
    "    get_merimean = lambda x: x.sel(lat).mean(\"latitude\")\n",
    "\n",
    "    ## meridional mean for MPI\n",
    "    comp_merimean = src.utils.reconstruct_fn(\n",
    "        components=components, scores=comp_proj, fn=get_merimean\n",
    "    ).transpose(\"lag\", ...)\n",
    "\n",
    "    return comp_merimean"
   ]
  },
  {
   "cell_type": "markdown",
   "id": "75959419-a056-4d47-aebc-4a01912f8b1c",
   "metadata": {},
   "source": [
    "Do the computation"
   ]
  },
  {
   "cell_type": "code",
   "execution_count": null,
   "id": "3b21ea97-2ba4-4e65-926e-0ad642bbc785",
   "metadata": {},
   "outputs": [],
   "source": [
    "## specify shared args\n",
    "kwargs = dict(\n",
    "    peak_month=12,\n",
    "    q=0.95,\n",
    "    idx_fn=src.utils.get_nino4,\n",
    ")\n",
    "\n",
    "## get early/late composites\n",
    "comp_early = get_hov_composite(anom.isel(time=slice(None, 360)), **kwargs)\n",
    "comp_late = get_hov_composite(anom.isel(time=slice(-360, None)), **kwargs)"
   ]
  },
  {
   "cell_type": "markdown",
   "id": "20b8b0af-8782-417c-a961-aed2d806cdb8",
   "metadata": {},
   "source": [
    "Plot the result"
   ]
  },
  {
   "cell_type": "code",
   "execution_count": null,
   "id": "0e18fd02-6528-4436-ac6e-3ee1bf201e10",
   "metadata": {},
   "outputs": [],
   "source": [
    "## specify amplitudes for plots\n",
    "scales = np.array([1, 1, 0.5])\n",
    "\n",
    "## set up plot\n",
    "fig, axs = plt.subplots(1, 3, figsize=(6, 3), layout=\"constrained\")\n",
    "\n",
    "for ax, merimean, scale in zip(\n",
    "    axs, [comp_early, comp_late, comp_late - comp_early], scales\n",
    "):\n",
    "    cf, _ = src.utils.plot_hov(ax=ax, x=merimean, beta=scale)\n",
    "    ax.set_xticks([])\n",
    "    ax.set_yticks([])\n",
    "\n",
    "    ## label x axis\n",
    "    ax.set_xlabel(\"Longitude\")\n",
    "    ax.set_xticks([190, 240])\n",
    "    ax.set_yticks([])\n",
    "\n",
    "## label\n",
    "axs[0].set_title(\"Early (1853-1883)\")\n",
    "axs[1].set_title(\"Late (2067-2097)\")\n",
    "axs[2].set_title(\"Difference\")\n",
    "src.utils.label_hov_yaxis(axs[0], peak_mon=kwargs[\"peak_month\"])\n",
    "\n",
    "plt.show()"
   ]
  },
  {
   "cell_type": "markdown",
   "id": "d5e17aae-1fa4-470c-a388-a5f26a98c01f",
   "metadata": {},
   "source": [
    "## Change in zonal gradient"
   ]
  },
  {
   "cell_type": "markdown",
   "id": "cb8a907d-788b-41de-b0ab-b7f4dd06c5f6",
   "metadata": {},
   "source": [
    "### Compute zonal gradient"
   ]
  },
  {
   "cell_type": "code",
   "execution_count": null,
   "id": "f528fb22-209a-4b96-b244-bcfd9c09cef5",
   "metadata": {},
   "outputs": [],
   "source": [
    "def get_zonal_grad(x):\n",
    "    \"\"\"\n",
    "    Function to compute zonal gradient. Ref: Fig 7 in Maher et al, 2023.\n",
    "    \"\"\"\n",
    "\n",
    "    ## outlines for boxes\n",
    "    ebox_coords = dict(longitude=slice(210, 270), latitude=slice(-5, 5))\n",
    "    wbox_coords = dict(longitude=slice(120, 180), latitude=slice(-5, 5))\n",
    "\n",
    "    ## compute box averages\n",
    "    ebox_avg = src.utils.spatial_avg(x.sel(ebox_coords))\n",
    "    wbox_avg = src.utils.spatial_avg(x.sel(wbox_coords))\n",
    "\n",
    "    return ebox_avg - wbox_avg"
   ]
  },
  {
   "cell_type": "code",
   "execution_count": null,
   "id": "a3873738-3075-4f30-babe-2f48c84ca961",
   "metadata": {},
   "outputs": [],
   "source": [
    "## compute zonal gradient\n",
    "zonal_grad_forced = src.utils.reconstruct_fn(components, forced, fn=get_zonal_grad)\n",
    "\n",
    "## sep. time into year and month\n",
    "zonal_grad_forced_bymonth = src.utils.unstack_month_and_year(zonal_grad_forced)\n",
    "\n",
    "## get change from initial climatology\n",
    "clim = zonal_grad_forced_bymonth.isel(year=slice(None, 30)).mean(\"year\")\n",
    "zonal_grad_change = zonal_grad_forced_bymonth - clim"
   ]
  },
  {
   "cell_type": "code",
   "execution_count": null,
   "id": "317c8238-1fe5-4696-9a7b-16b9b4f92035",
   "metadata": {},
   "outputs": [],
   "source": [
    "## setup plot\n",
    "fig, ax = plt.subplots(figsize=(2, 4), layout=\"constrained\")\n",
    "\n",
    "## plot data\n",
    "kwargs = dict(levels=src.utils.make_cb_range(1, 0.1), cmap=\"cmo.balance\")\n",
    "plot_data = ax.contourf(\n",
    "    zonal_grad_change.month, zonal_grad_change.year, zonal_grad_change[\"sst\"], **kwargs\n",
    ")\n",
    "\n",
    "## label\n",
    "ax.set_ylabel(\"Year\")\n",
    "ax.set_xlabel(\"Month\")\n",
    "ax.set_xticks([1, 6, 12])\n",
    "ax.set_title(r\"$\\Delta \\left(\\partial_x T\\right)$\")\n",
    "ax.set_ylim([1950, None])\n",
    "\n",
    "plt.show()"
   ]
  },
  {
   "cell_type": "markdown",
   "id": "0a556474-13c3-4652-83e6-aff23e6b5a27",
   "metadata": {},
   "source": [
    "## Look at mean state-dependence"
   ]
  },
  {
   "cell_type": "markdown",
   "id": "25986b01-a732-4b02-a4a0-f5d04649e72f",
   "metadata": {},
   "source": [
    "### Compare Bjerknes growth rate to zonal gradient"
   ]
  },
  {
   "cell_type": "markdown",
   "id": "00ae78fc-a54f-4a71-b868-90f7c4dec086",
   "metadata": {},
   "source": [
    "#### Load $T,h$ data"
   ]
  },
  {
   "cell_type": "code",
   "execution_count": null,
   "id": "db26b568-b788-48f4-b8f7-0142f843ffd2",
   "metadata": {},
   "outputs": [],
   "source": [
    "## MPI data\n",
    "mpi_load_fp = pathlib.Path(DATA_FP, \"mpi_Th\", \"Th.nc\")\n",
    "Th = xr.open_dataset(mpi_load_fp)"
   ]
  },
  {
   "cell_type": "markdown",
   "id": "91daca80-e87d-4a47-9684-a7748773ef08",
   "metadata": {},
   "source": [
    "#### Fit RO to $T,h$ data"
   ]
  },
  {
   "cell_type": "code",
   "execution_count": null,
   "id": "c5e178bd-5d7b-4366-aae0-f1ac23695c77",
   "metadata": {},
   "outputs": [],
   "source": [
    "## get subset of data\n",
    "Th_sub = Th.sel(time=slice(\"1979\", \"2024\"))\n",
    "\n",
    "## initialize model\n",
    "model = XRO(ncycle=12, ac_order=3, is_forward=True)\n",
    "\n",
    "## fit to individual ensemble members\n",
    "kwargs = dict(model=model, T_var=\"T_3\", h_var=\"h_w\", verbose=True)\n",
    "_, fits = src.utils.get_RO_ensemble(Th_sub, **kwargs)\n",
    "\n",
    "## extract parameters\n",
    "params = model.get_RO_parameters(fits)"
   ]
  },
  {
   "cell_type": "markdown",
   "id": "63b7349f-a686-411f-8145-7d10004e42f1",
   "metadata": {},
   "source": [
    "#### Look at intra-ensemble spread\n",
    "$\\partial_x T$ vs. BJ index  \n",
    "Compare to Maher et al (2023)"
   ]
  },
  {
   "cell_type": "code",
   "execution_count": null,
   "id": "af512f0f-d889-441d-b57b-aef55c39b783",
   "metadata": {},
   "outputs": [],
   "source": [
    "## get subset of data to look at\n",
    "anom_ = anom.sel(time=slice(\"1979\", \"2024\"))\n",
    "\n",
    "## compute zonal gradient at every time step\n",
    "zonal_grad = src.utils.reconstruct_fn(components, anom_, fn=get_zonal_grad)\n",
    "\n",
    "## get monthly avg\n",
    "zonal_grad_by_month = zonal_grad.groupby(\"time.month\").mean()\n",
    "\n",
    "fig, ax = plt.subplots(figsize=(2, 2))\n",
    "ax.scatter(zonal_grad_by_month[\"sst\"].mean(\"month\"), params[\"R\"].mean(\"cycle\"), s=10)\n",
    "ax.set_xlabel(\"Zonal SST gradient\")\n",
    "ax.set_ylabel(\"Bjerknes feedback\")\n",
    "plt.show()"
   ]
  }
 ],
 "metadata": {
  "kernelspec": {
   "display_name": "Python 3 (ipykernel)",
   "language": "python",
   "name": "python3"
  },
  "language_info": {
   "codemirror_mode": {
    "name": "ipython",
    "version": 3
   },
   "file_extension": ".py",
   "mimetype": "text/x-python",
   "name": "python",
   "nbconvert_exporter": "python",
   "pygments_lexer": "ipython3",
   "version": "3.13.3"
  }
 },
 "nbformat": 4,
 "nbformat_minor": 5
}
