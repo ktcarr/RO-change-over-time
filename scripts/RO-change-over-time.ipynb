{
 "cells": [
  {
   "cell_type": "markdown",
   "id": "5a687365-6441-4125-9782-8cc9bf63cd34",
   "metadata": {
    "execution": {
     "iopub.execute_input": "2025-03-10T15:32:54.159739Z",
     "iopub.status.busy": "2025-03-10T15:32:54.159478Z",
     "iopub.status.idle": "2025-03-10T15:32:54.177370Z",
     "shell.execute_reply": "2025-03-10T15:32:54.176877Z",
     "shell.execute_reply.started": "2025-03-10T15:32:54.159723Z"
    }
   },
   "source": [
    "# ENSO Recharge Oscillator Practical: Simulations and Forecasting\n",
    "\n",
    "This notebook serves as the Recharge Oscillator (RO) Practical for the [ENSO Winter School 2025](https://sites.google.com/hawaii.edu/enso-winter-school-2025/). It covers both theoretical and computational aspects of the RO framework, demonstrating its applications in ENSO simulations and forecasting.\n",
    "\n",
    "**Instructors**\n",
    "- **Sen Zhao** (<zhaos@hawaii.edu>)\n",
    "- **Soong-Ki Kim** (<sskk503@yonsei.ac.kr>)\n",
    "- **Jérôme Vialard** (<jerome.vialard@ird.fr>)\n",
    "\n",
    "---\n",
    "\n",
    "### Overview\n",
    "\n",
    "In this notebook, we will demonstrate how to use the `XRO` framework for **Recharge-Oscillator (RO) model** fitting, simulations, and reforecasting.\n",
    "\n",
    "***Extended Nonlinear Recharge Oscillator (XRO) framework***\n",
    "\n",
    "The `XRO` framework was developed to investigate the role of climate mode interactions in ENSO dynamics and predictability ([Zhao et al. 2024](https://doi.org/10.1038/s41586-024-07534-6)). When other climate modes are not considered, it simplifies to the Recharge Oscillator (RO), making it well-suited for use in this practical context. We have designed `XRO` to be user-friendly, aiming to be a valuable tool not only for research but also for operational forecasting and as an educational resource in the classroom.\n",
    "\n",
    "> Check out the updated version of XRO at https://github.com/senclimate/XRO\n",
    "\n",
    "\n",
    "***Community Recharge Oscillator (CRO) model framework***\n",
    "\n",
    "The `CRO` code package is an easy-to-use Python/MATLAB software for solving and fitting the ENSO RO model. The `CRO` code is currently under development and is planned for release in 2025. The distributed version for the ENSO Winter School 2025 is a light Python version that includes only the essential features. While we introduce the `CRO` framework in this practical, some of its functionalities are unavailable. Therefore, for consistency, we will primarily use the `XRO` framework.\n",
    "\n",
    "For those interested in the `CRO` code, please refer to the Jupyter notebook:  \n",
    "📂 *CRO_test/RO_Practical_with_CRO_Framework.ipynb*\n",
    "\n",
    "Special thanks to **Bastien Pagli** for providing the original `CRO` code in Python.\n",
    "\n",
    "---\n",
    "\n",
    "### Run it at Google Colab\n",
    "You can easily run this notebook on [Google Colab](https://colab.research.google.com/). \n",
    "\n",
    "Simply download [this notebook](RO_parctical_with_XRO_framework.ipynb) and upload it to Google Colab. \n",
    "\n",
    "Once uploaded, you can execute the notebook directly— all required data and Python libraries will be downloaded and installed automatically.\n"
   ]
  },
  {
   "cell_type": "markdown",
   "id": "d6b14ab1-a3c4-4274-b502-80d368c2ebfd",
   "metadata": {
    "execution": {
     "iopub.execute_input": "2024-02-19T10:56:12.001434Z",
     "iopub.status.busy": "2024-02-19T10:56:12.001117Z",
     "iopub.status.idle": "2024-02-19T10:56:12.424735Z",
     "shell.execute_reply": "2024-02-19T10:56:12.424085Z",
     "shell.execute_reply.started": "2024-02-19T10:56:12.001406Z"
    }
   },
   "source": [
    "Load basic python libraries\n",
    "Include libraries for both computing and visualization"
   ]
  },
  {
   "cell_type": "code",
   "execution_count": null,
   "id": "73c8e5d3-acde-4f51-b801-c6cd4992e070",
   "metadata": {
    "editable": true,
    "slideshow": {
     "slide_type": ""
    },
    "tags": []
   },
   "outputs": [],
   "source": [
    "import importlib.util\n",
    "import subprocess\n",
    "import sys\n",
    "import warnings\n",
    "import datetime\n",
    "import matplotlib\n",
    "import matplotlib.pyplot as plt\n",
    "import numpy as np\n",
    "import seaborn as sns\n",
    "import xarray as xr\n",
    "from climpred import HindcastEnsemble\n",
    "from dateutil.relativedelta import *\n",
    "from matplotlib.ticker import AutoMinorLocator\n",
    "import warnings\n",
    "import tqdm\n",
    "import pathlib\n",
    "import cmocean\n",
    "\n",
    "## set plotting specs\n",
    "sns.set(rc={\"axes.facecolor\": \"white\", \"axes.grid\": False})\n",
    "\n",
    "## bump up DPI\n",
    "import matplotlib as mpl\n",
    "\n",
    "mpl.rcParams[\"figure.dpi\"] = 100"
   ]
  },
  {
   "cell_type": "code",
   "execution_count": null,
   "id": "9c767373-b00c-49f2-963b-7941f3f3b249",
   "metadata": {},
   "outputs": [],
   "source": [
    "# Import necessary modules after ensuring files are available\n",
    "from src.XRO import XRO, xcorr\n",
    "from src.XRO_utils import (\n",
    "    SkewAccessor,\n",
    "    plot_above_below_shading,\n",
    "    plot_fill_between,\n",
    "    pmtm,\n",
    ")\n",
    "\n",
    "print(\"All required libraries are installed and imported successfully!\")"
   ]
  },
  {
   "attachments": {},
   "cell_type": "markdown",
   "id": "37f8ac8a-6186-4e12-94fd-f05e89e76f3b",
   "metadata": {},
   "source": [
    "## 1. Observed ENSO properties related to RO\n",
    "\n",
    "Two indices are used to describe the oscillatory behaviour of ENSO. \n",
    " - **$T$**: Sea surface temperature (SST) anomalies averaged over the Niño3.4 region 170°–120° W, 5° S–5° N\n",
    " - **$h$** Thermocline depth anomalies averaged over the equatorial Pacific 120° E–80° W, 5° S–5° N, that is, the WWV index (with a constant factor of the area it covers).\n"
   ]
  },
  {
   "cell_type": "code",
   "execution_count": null,
   "id": "4ce1eb5b-7d29-420f-990f-16e564d89a00",
   "metadata": {},
   "outputs": [],
   "source": [
    "# load observed state vectors of XRO: which include ENSO, WWV, and other modes SST indices\n",
    "# the order of variables is important, with first two must be ENSO SST and WWV;\n",
    "obs_file = \"../data/XRO_indices_oras5.nc\"\n",
    "\n",
    "obs_ds = xr.open_dataset(obs_file).sel(time=slice(\"1979-01\", \"2024-12\"))\n",
    "obs_RO_ds = obs_ds[[\"Nino34\", \"WWV\"]]\n",
    "print(obs_RO_ds)"
   ]
  },
  {
   "cell_type": "markdown",
   "id": "3593d2c6-d93b-4ff6-9700-6b703f1ce671",
   "metadata": {},
   "source": [
    "### 1.1 ENSO time series"
   ]
  },
  {
   "cell_type": "code",
   "execution_count": null,
   "id": "64bd2d19-ea81-45f5-a591-2cc70756eba6",
   "metadata": {
    "editable": true,
    "slideshow": {
     "slide_type": ""
    },
    "tags": []
   },
   "outputs": [],
   "source": [
    "fig, ax = plt.subplots(1, 1, figsize=(6, 4))\n",
    "\n",
    "plot_above_below_shading(\n",
    "    obs_RO_ds[\"Nino34\"],\n",
    "    xtime=obs_RO_ds.time,\n",
    "    c=\"black\",\n",
    "    lw=0.5,\n",
    "    above=0.5,\n",
    "    above_c=\"orangered\",\n",
    "    below=-0.5,\n",
    "    below_c=\"deepskyblue\",\n",
    "    ax=ax,\n",
    ")\n",
    "# obs_RO_ds['Nino34'].plot(ax=ax, c='black', )\n",
    "ax.set_ylim([-3, 3])\n",
    "ax.set_ylabel(\"Nino34 SSTA [degC]\")\n",
    "\n",
    "axR = ax.twinx()\n",
    "obs_RO_ds[\"WWV\"].plot(ax=axR, c=\"blue\", lw=1.5)\n",
    "axR.set_ylim([-30, 30])\n",
    "axR.axhline(0, ls=\"--\", c=\"gray\", lw=0.5)\n",
    "\n",
    "ax.set_xlim([datetime.datetime(1979, 1, 1), datetime.datetime(2026, 1, 1)])\n",
    "ax.set_title(\"ORAS5 Nino3.4 and WWV indices\")"
   ]
  },
  {
   "cell_type": "markdown",
   "id": "926b84b5-e041-4453-8e8b-27651775e2b1",
   "metadata": {},
   "source": [
    "## Look at parameter variation over time"
   ]
  },
  {
   "cell_type": "markdown",
   "id": "682ffcb0-b5ad-415b-81b0-f4fec8fd3836",
   "metadata": {},
   "source": [
    "#### Fit model to 20-yr rolling windows"
   ]
  },
  {
   "cell_type": "code",
   "execution_count": null,
   "id": "126879bd-f5c6-4dbd-88e8-efff1b9600c8",
   "metadata": {},
   "outputs": [],
   "source": [
    "## Get number of timesteps in data\n",
    "n = len(obs_RO_ds.time)\n",
    "\n",
    "## specify number of samples to use in each window\n",
    "window_size = 240  # units: months\n",
    "\n",
    "## empty list to hold results and dates\n",
    "params_by_year = []\n",
    "start_dates = []\n",
    "\n",
    "## loop through rolling windows\n",
    "with warnings.catch_warnings(action=\"ignore\"):\n",
    "    for i in np.arange(0, n - 12, 12):\n",
    "\n",
    "        ## make sure there's enough samples for robust estimate\n",
    "        if (n - i) > (0.7 * window_size):\n",
    "\n",
    "            ## get subset of data for fitting model\n",
    "            data_subset = obs_RO_ds.isel(time=slice(i, i + window_size))\n",
    "\n",
    "            ## Get start date for subset\n",
    "            start_dates.append(data_subset.time.isel(time=0))\n",
    "\n",
    "            ## initialize model\n",
    "            model = XRO(ncycle=12, ac_order=1, is_forward=True)\n",
    "\n",
    "            ## fit matrix and get parameters\n",
    "            fit_LRO = model.fit_matrix(data_subset, maskNT=[], maskNH=[])\n",
    "            params_by_year.append(model.get_RO_parameters(fit_LRO))\n",
    "\n",
    "## convert from list to xarray\n",
    "start_dates = xr.concat(start_dates, dim=\"time\")\n",
    "params_by_year = xr.concat(params_by_year, dim=start_dates)"
   ]
  },
  {
   "cell_type": "markdown",
   "id": "5b9f512d-3724-432f-a1e3-499dd8177d45",
   "metadata": {},
   "source": [
    "#### Plot change over time in annual-mean $R$ and seasonal cycle"
   ]
  },
  {
   "cell_type": "code",
   "execution_count": null,
   "id": "2ef3b35a-a759-48e7-bfb3-59b898acf04c",
   "metadata": {},
   "outputs": [],
   "source": [
    "## plot annual mean growth rate\n",
    "fig, axs = plt.subplots(1, 2, figsize=(9, 3.5))\n",
    "axs[0].plot(params_by_year.time, params_by_year[\"BJ_ac\"].mean(\"cycle\"))\n",
    "axs[0].set_ylabel(r\"$R$\")\n",
    "\n",
    "## plot mean annual cycle\n",
    "axs[1].plot(params_by_year[\"BJ_ac\"].mean(\"time\"))\n",
    "axs[1].axhline(0, c=\"k\", ls=\"--\")\n",
    "\n",
    "plt.show()"
   ]
  },
  {
   "cell_type": "markdown",
   "id": "a5bed59c-9b88-441f-ba67-08a4fe6f673d",
   "metadata": {},
   "source": [
    "## fit to MPI data"
   ]
  },
  {
   "cell_type": "markdown",
   "id": "c520c8f4-45ba-4e30-9a32-e831db67ef5d",
   "metadata": {},
   "source": [
    "### Load in MPI data"
   ]
  },
  {
   "cell_type": "code",
   "execution_count": null,
   "id": "b616de36-4c1f-4e0c-8c37-ed13f8d36805",
   "metadata": {},
   "outputs": [],
   "source": [
    "load_fp = pathlib.Path(\"/Users/theo/research/enso2025_xro/data/mpi_Th/Th.nc\")\n",
    "Th = xr.open_dataset(load_fp)"
   ]
  },
  {
   "cell_type": "markdown",
   "id": "c5bbf786-4344-49be-b4c1-e2955138502a",
   "metadata": {},
   "source": [
    "### Function to fit to ensemble chunk"
   ]
  },
  {
   "cell_type": "code",
   "execution_count": null,
   "id": "27b90739-5bb4-46a5-aa7e-314e00899a21",
   "metadata": {},
   "outputs": [],
   "source": [
    "def get_ensemble_params(data, T_var=\"T_3\", h_var=\"h_w\", verbose=False):\n",
    "    \"\"\"get RO params for each ensemble member\"\"\"\n",
    "\n",
    "    ## empty list to hold params\n",
    "    params = []\n",
    "\n",
    "    ## Loop thru ensemble members\n",
    "    for m in tqdm.tqdm(data.member, disable=not (verbose)):\n",
    "\n",
    "        ## initialize model\n",
    "        model = XRO(ncycle=12, ac_order=1, is_forward=True)\n",
    "\n",
    "        ## select ensemble member and variables\n",
    "        data_subset = data[[T_var, h_var]].sel(member=m)\n",
    "\n",
    "        ## fit model\n",
    "        with warnings.catch_warnings(action=\"ignore\"):\n",
    "            fit = model.fit_matrix(data_subset, maskNT=[], maskNH=[])\n",
    "\n",
    "        ## append to list of parameters\n",
    "        params.append(model.get_RO_parameters(fit))\n",
    "\n",
    "    return xr.concat(params, dim=data.member)\n",
    "\n",
    "\n",
    "def get_ensemble_params_over_time(\n",
    "    data, T_var=\"T_3\", h_var=\"h_w\", window_size=360, step_size=60\n",
    "):\n",
    "    \"\"\"Get RO params for each ensemble member as a function of time.\n",
    "    Args:\n",
    "        window_size: size of sliding window (units: months)\n",
    "        step_size: how many months to slide the window between each calculation\n",
    "    \"\"\"\n",
    "\n",
    "    ## Get number of timesteps in data\n",
    "    n = len(data.time)\n",
    "\n",
    "    ## empty list to hold results and dates\n",
    "    params_by_year = []\n",
    "    start_dates = []\n",
    "\n",
    "    ## loop through rolling windows\n",
    "    for i in tqdm.tqdm(np.arange(0, n - step_size, step_size)):\n",
    "\n",
    "        ## make sure there's enough samples for robust estimate\n",
    "        if (n - i) > (0.7 * window_size):\n",
    "\n",
    "            ## get subset of data for fitting model\n",
    "            data_subset = data.isel(time=slice(i, i + window_size))\n",
    "\n",
    "            ## Get start date for subset\n",
    "            start_dates.append(data_subset.time.isel(time=0))\n",
    "\n",
    "            ## get parameter fit\n",
    "            params_by_year.append(\n",
    "                get_ensemble_params(\n",
    "                    data_subset, T_var=T_var, h_var=h_var, verbose=False\n",
    "                )\n",
    "            )\n",
    "\n",
    "    ## convert from list to xarray\n",
    "    start_dates = xr.concat(start_dates, dim=\"time\")\n",
    "    params_by_year = xr.concat(params_by_year, dim=start_dates)\n",
    "\n",
    "    return params_by_year"
   ]
  },
  {
   "cell_type": "markdown",
   "id": "789306c9-32bf-46ae-8532-1e79fa5400ed",
   "metadata": {},
   "source": [
    "### Compute over time"
   ]
  },
  {
   "cell_type": "code",
   "execution_count": null,
   "id": "6875e411-abb4-47bf-83c5-97471f7e54a0",
   "metadata": {},
   "outputs": [],
   "source": [
    "## specify save filepath\n",
    "save_fp = pathlib.Path(\"/Users/theo/research/enso2025_xro/results/params.nc\")\n",
    "\n",
    "## Load parameters if already computed\n",
    "if save_fp.is_file():\n",
    "    params = xr.open_dataset(save_fp)\n",
    "\n",
    "else:\n",
    "    ## compute params\n",
    "    params = get_ensemble_params_over_time(Th, window_size=360, step_size=60)\n",
    "\n",
    "    ## save to file\n",
    "    params.to_netcdf(save_fp)"
   ]
  },
  {
   "cell_type": "markdown",
   "id": "52d996d3-8d6c-4799-bd81-2ab3aab7c20e",
   "metadata": {},
   "source": [
    "### Plot diagnostics"
   ]
  },
  {
   "cell_type": "markdown",
   "id": "ff006d58-d560-41c7-a2f0-a1740ed2ac2f",
   "metadata": {},
   "source": [
    "#### Ensemble-mean growth rate as a function of seasonal cycle and time"
   ]
  },
  {
   "cell_type": "code",
   "execution_count": null,
   "id": "c29efe78-1a25-4a27-852f-24cf387e4a48",
   "metadata": {},
   "outputs": [],
   "source": [
    "fig, ax = plt.subplots(figsize=(3.5, 3.5))\n",
    "\n",
    "## plot data\n",
    "cp = ax.contourf(\n",
    "    params.cycle, params.time, params[\"BJ_ac\"].mean(\"member\"), cmap=\"cmo.amp\", levels=10\n",
    ")\n",
    "\n",
    "## set ticks and add guideline\n",
    "ax.set_xticks([1, 7, 12], labels=[\"Jan\", \"Jul\", \"Dec\"])\n",
    "ax.axvline(7, c=\"w\", ls=\"--\", lw=1, alpha=0.8)\n",
    "\n",
    "## add colorbar\n",
    "cb = fig.colorbar(cp, label=r\"Growth rate (yr$^{-1}$)\")\n",
    "\n",
    "## label\n",
    "ax.set_title(\"Ensemble-mean growth rate\")\n",
    "ax.set_xlabel(\"Month\")\n",
    "ax.set_ylabel(\"Year\")\n",
    "\n",
    "plt.show()"
   ]
  },
  {
   "cell_type": "markdown",
   "id": "2dc27e16-8b67-4200-b2a3-5200b0187096",
   "metadata": {},
   "source": [
    "#### Plot annual max growth rate"
   ]
  },
  {
   "cell_type": "code",
   "execution_count": null,
   "id": "b8cc9caf-2a07-4e87-a483-a96c90ce4560",
   "metadata": {},
   "outputs": [],
   "source": [
    "fig, ax = plt.subplots(figsize=(4, 3))\n",
    "\n",
    "## plot ensemble members\n",
    "for i, m in enumerate(params.member.values):\n",
    "\n",
    "    label = \"Ensemble members\" if (i == 50) else None\n",
    "\n",
    "    ax.plot(\n",
    "        params.time,\n",
    "        params[\"BJ_ac\"].sel(member=m).max(\"cycle\"),\n",
    "        c=\"gray\",\n",
    "        alpha=0.5,\n",
    "        lw=0.5,\n",
    "    )\n",
    "\n",
    "## plot ensemble mean\n",
    "ax.plot(\n",
    "    params.time,\n",
    "    params[\"BJ_ac\"].mean(\"member\").max(\"cycle\"),\n",
    "    c=\"k\",\n",
    "    lw=2,\n",
    "    label=\"Ensemble mean\",\n",
    ")\n",
    "\n",
    "## add labels and set plot style\n",
    "ax.axhline(0, c=\"k\", ls=\"--\", lw=1)\n",
    "ax.set_ylim([None, 0.5])\n",
    "ax.set_xlabel(\"Time\")\n",
    "ax.set_ylabel(r\"Growth rate (yr$^{-1}$)\")\n",
    "ax.set_title(\"Max annual growth rate\")\n",
    "ax.legend()\n",
    "\n",
    "plt.show()"
   ]
  },
  {
   "cell_type": "markdown",
   "id": "fda9026e-0746-4ac1-a1a4-6146e9c40fa5",
   "metadata": {},
   "source": [
    "#### Compare stats"
   ]
  },
  {
   "cell_type": "markdown",
   "id": "1286666e-89a5-4bbc-9a5a-6820fa82f745",
   "metadata": {},
   "source": [
    "### Stochastic integration"
   ]
  },
  {
   "cell_type": "code",
   "execution_count": null,
   "id": "8cd5f831-baa5-4fe9-8870-ed697ba35286",
   "metadata": {},
   "outputs": [],
   "source": [
    "## Fit model on first 30 years of dataset and last 30 years of dataset\n",
    "\n",
    "\n",
    "def get_RO_ensemble(data, T_var=\"T_3\", h_var=\"h_w\", verbose=False):\n",
    "    \"\"\"get RO params for each ensemble member\"\"\"\n",
    "\n",
    "    ## initialize model\n",
    "    model = XRO(ncycle=12, ac_order=1, is_forward=True)\n",
    "\n",
    "    ## empty list to hold model fits\n",
    "    fits = []\n",
    "\n",
    "    ## Loop thru ensemble members\n",
    "    for m in tqdm.tqdm(data.member, disable=not (verbose)):\n",
    "\n",
    "        ## select ensemble member and variables\n",
    "        data_subset = data[[T_var, h_var]].sel(member=m)\n",
    "\n",
    "        ## fit model\n",
    "        with warnings.catch_warnings(action=\"ignore\"):\n",
    "            fits.append(model.fit_matrix(data_subset, maskNT=[], maskNH=[]))\n",
    "\n",
    "    return model, xr.concat(fits, dim=data.member)"
   ]
  },
  {
   "cell_type": "markdown",
   "id": "44c50521-c5e3-4317-8d78-948777588e51",
   "metadata": {},
   "source": [
    "### Get ensemble of RO models for early/late period"
   ]
  },
  {
   "cell_type": "code",
   "execution_count": null,
   "id": "7729573c-e4b0-4e52-a591-c63879aa7836",
   "metadata": {},
   "outputs": [],
   "source": [
    "## get data for early/late period\n",
    "Th_early = Th.isel(time=slice(None, 600))\n",
    "Th_late = Th.isel(time=slice(-600, None))\n",
    "\n",
    "model, RO_params_early = get_RO_ensemble(Th_early, verbose=True)\n",
    "_, RO_params_late = get_RO_ensemble(Th_late, verbose=True)"
   ]
  },
  {
   "cell_type": "markdown",
   "id": "a6a2b832-2b44-4736-af49-aacf4608f3b8",
   "metadata": {},
   "source": [
    "### Get ensemble of RO simulations"
   ]
  },
  {
   "cell_type": "code",
   "execution_count": null,
   "id": "2d83e107-6d60-40d9-90f5-12cd59b9842c",
   "metadata": {},
   "outputs": [],
   "source": [
    "seed = 1000\n",
    "RO_ensemble_early = model.simulate(\n",
    "    fit_ds=RO_params_early.mean(\"member\"),\n",
    "    X0_ds=Th[[\"T_3\", \"h_w\"]].isel(time=0, member=0),\n",
    "    nyear=50,\n",
    "    ncopy=100,\n",
    "    noise_type=\"red\",\n",
    "    seed=seed,\n",
    "    is_xi_stdac=False,\n",
    "    xi_B=0.0,\n",
    "    is_heaviside=True,\n",
    ")"
   ]
  },
  {
   "cell_type": "markdown",
   "id": "b21acb53-7bde-4d2e-a25f-c0de3014f9a7",
   "metadata": {},
   "source": [
    "#### Seasonal synchronization"
   ]
  },
  {
   "cell_type": "code",
   "execution_count": null,
   "id": "fc793712-3e80-4144-a80b-d1937f21fef1",
   "metadata": {},
   "outputs": [],
   "source": [
    "## specify which variable to plot\n",
    "var_name = \"T_3\"\n",
    "\n",
    "## compute std for each dataset\n",
    "RO_std = RO_ensemble_early.groupby(\"time.month\").std()\n",
    "mpi_std = Th_early.groupby(\"time.month\").std()\n",
    "\n",
    "fig, ax = plt.subplots(figsize=(4, 3))\n",
    "\n",
    "ax.plot(mpi_std.month, mpi_std[var_name].mean(\"member\"))\n",
    "ax.plot(\n",
    "    mpi_std.month,\n",
    "    mpi_std[var_name].mean(\"member\") + mpi_std[var_name].std(\"member\"),\n",
    "    c=\"k\",\n",
    ")\n",
    "ax.plot(mpi_std.month, RO_std[var_name].mean(\"member\"))\n",
    "ax.plot(mpi_std.month, RO_std[var_name].mean(\"member\") + RO_std[var_name].std(\"member\"))"
   ]
  }
 ],
 "metadata": {
  "kernelspec": {
   "display_name": "Python 3 (ipykernel)",
   "language": "python",
   "name": "python3"
  },
  "language_info": {
   "codemirror_mode": {
    "name": "ipython",
    "version": 3
   },
   "file_extension": ".py",
   "mimetype": "text/x-python",
   "name": "python",
   "nbconvert_exporter": "python",
   "pygments_lexer": "ipython3",
   "version": "3.13.2"
  }
 },
 "nbformat": 4,
 "nbformat_minor": 5
}
