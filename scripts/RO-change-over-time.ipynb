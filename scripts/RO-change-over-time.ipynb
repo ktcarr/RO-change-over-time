{
 "cells": [
  {
   "cell_type": "markdown",
   "id": "5a687365-6441-4125-9782-8cc9bf63cd34",
   "metadata": {
    "execution": {
     "iopub.execute_input": "2025-03-10T15:32:54.159739Z",
     "iopub.status.busy": "2025-03-10T15:32:54.159478Z",
     "iopub.status.idle": "2025-03-10T15:32:54.177370Z",
     "shell.execute_reply": "2025-03-10T15:32:54.176877Z",
     "shell.execute_reply.started": "2025-03-10T15:32:54.159723Z"
    }
   },
   "source": [
    "# ENSO Recharge Oscillator Practical: Simulations and Forecasting\n",
    "\n",
    "This notebook serves as the Recharge Oscillator (RO) Practical for the [ENSO Winter School 2025](https://sites.google.com/hawaii.edu/enso-winter-school-2025/). It covers both theoretical and computational aspects of the RO framework, demonstrating its applications in ENSO simulations and forecasting.\n",
    "\n",
    "**Instructors**\n",
    "- **Sen Zhao** (<zhaos@hawaii.edu>)\n",
    "- **Soong-Ki Kim** (<sskk503@yonsei.ac.kr>)\n",
    "- **Jérôme Vialard** (<jerome.vialard@ird.fr>)\n",
    "\n",
    "---\n",
    "\n",
    "### Overview\n",
    "\n",
    "In this notebook, we will demonstrate how to use the `XRO` framework for **Recharge-Oscillator (RO) model** fitting, simulations, and reforecasting.\n",
    "\n",
    "***Extended Nonlinear Recharge Oscillator (XRO) framework***\n",
    "\n",
    "The `XRO` framework was developed to investigate the role of climate mode interactions in ENSO dynamics and predictability ([Zhao et al. 2024](https://doi.org/10.1038/s41586-024-07534-6)). When other climate modes are not considered, it simplifies to the Recharge Oscillator (RO), making it well-suited for use in this practical context. We have designed `XRO` to be user-friendly, aiming to be a valuable tool not only for research but also for operational forecasting and as an educational resource in the classroom.\n",
    "\n",
    "> Check out the updated version of XRO at https://github.com/senclimate/XRO\n",
    "\n",
    "\n",
    "***Community Recharge Oscillator (CRO) model framework***\n",
    "\n",
    "The `CRO` code package is an easy-to-use Python/MATLAB software for solving and fitting the ENSO RO model. The `CRO` code is currently under development and is planned for release in 2025. The distributed version for the ENSO Winter School 2025 is a light Python version that includes only the essential features. While we introduce the `CRO` framework in this practical, some of its functionalities are unavailable. Therefore, for consistency, we will primarily use the `XRO` framework.\n",
    "\n",
    "For those interested in the `CRO` code, please refer to the Jupyter notebook:  \n",
    "📂 *CRO_test/RO_Practical_with_CRO_Framework.ipynb*\n",
    "\n",
    "Special thanks to **Bastien Pagli** for providing the original `CRO` code in Python.\n",
    "\n",
    "---\n",
    "\n",
    "### Run it at Google Colab\n",
    "You can easily run this notebook on [Google Colab](https://colab.research.google.com/). \n",
    "\n",
    "Simply download [this notebook](RO_parctical_with_XRO_framework.ipynb) and upload it to Google Colab. \n",
    "\n",
    "Once uploaded, you can execute the notebook directly— all required data and Python libraries will be downloaded and installed automatically.\n"
   ]
  },
  {
   "cell_type": "markdown",
   "id": "d6b14ab1-a3c4-4274-b502-80d368c2ebfd",
   "metadata": {
    "execution": {
     "iopub.execute_input": "2024-02-19T10:56:12.001434Z",
     "iopub.status.busy": "2024-02-19T10:56:12.001117Z",
     "iopub.status.idle": "2024-02-19T10:56:12.424735Z",
     "shell.execute_reply": "2024-02-19T10:56:12.424085Z",
     "shell.execute_reply.started": "2024-02-19T10:56:12.001406Z"
    }
   },
   "source": [
    "Load basic python libraries\n",
    "Include libraries for both computing and visualization"
   ]
  },
  {
   "cell_type": "code",
   "execution_count": null,
   "id": "73c8e5d3-acde-4f51-b801-c6cd4992e070",
   "metadata": {
    "editable": true,
    "slideshow": {
     "slide_type": ""
    },
    "tags": []
   },
   "outputs": [],
   "source": [
    "import importlib.util\n",
    "import subprocess\n",
    "import sys\n",
    "import warnings\n",
    "import datetime\n",
    "import matplotlib\n",
    "import matplotlib.pyplot as plt\n",
    "import numpy as np\n",
    "import seaborn as sns\n",
    "import xarray as xr\n",
    "from climpred import HindcastEnsemble\n",
    "from dateutil.relativedelta import *\n",
    "from matplotlib.ticker import AutoMinorLocator\n",
    "import warnings\n",
    "import tqdm"
   ]
  },
  {
   "cell_type": "code",
   "execution_count": null,
   "id": "9c767373-b00c-49f2-963b-7941f3f3b249",
   "metadata": {},
   "outputs": [],
   "source": [
    "# Import necessary modules after ensuring files are available\n",
    "from src.XRO import XRO, xcorr\n",
    "from src.XRO_utils import (\n",
    "    SkewAccessor,\n",
    "    plot_above_below_shading,\n",
    "    plot_fill_between,\n",
    "    pmtm,\n",
    ")\n",
    "\n",
    "print(\"All required libraries are installed and imported successfully!\")"
   ]
  },
  {
   "attachments": {},
   "cell_type": "markdown",
   "id": "37f8ac8a-6186-4e12-94fd-f05e89e76f3b",
   "metadata": {},
   "source": [
    "## 1. Observed ENSO properties related to RO\n",
    "\n",
    "Two indices are used to describe the oscillatory behaviour of ENSO. \n",
    " - **$T$**: Sea surface temperature (SST) anomalies averaged over the Niño3.4 region 170°–120° W, 5° S–5° N\n",
    " - **$h$** Thermocline depth anomalies averaged over the equatorial Pacific 120° E–80° W, 5° S–5° N, that is, the WWV index (with a constant factor of the area it covers).\n"
   ]
  },
  {
   "cell_type": "code",
   "execution_count": null,
   "id": "4ce1eb5b-7d29-420f-990f-16e564d89a00",
   "metadata": {},
   "outputs": [],
   "source": [
    "# load observed state vectors of XRO: which include ENSO, WWV, and other modes SST indices\n",
    "# the order of variables is important, with first two must be ENSO SST and WWV;\n",
    "obs_file = \"../data/XRO_indices_oras5.nc\"\n",
    "\n",
    "obs_ds = xr.open_dataset(obs_file).sel(time=slice(\"1979-01\", \"2024-12\"))\n",
    "obs_RO_ds = obs_ds[[\"Nino34\", \"WWV\"]]\n",
    "print(obs_RO_ds)"
   ]
  },
  {
   "cell_type": "markdown",
   "id": "3593d2c6-d93b-4ff6-9700-6b703f1ce671",
   "metadata": {},
   "source": [
    "### 1.1 ENSO time series"
   ]
  },
  {
   "cell_type": "code",
   "execution_count": null,
   "id": "64bd2d19-ea81-45f5-a591-2cc70756eba6",
   "metadata": {
    "editable": true,
    "slideshow": {
     "slide_type": ""
    },
    "tags": []
   },
   "outputs": [],
   "source": [
    "fig, ax = plt.subplots(1, 1, figsize=(6, 4))\n",
    "\n",
    "plot_above_below_shading(\n",
    "    obs_RO_ds[\"Nino34\"],\n",
    "    xtime=obs_RO_ds.time,\n",
    "    c=\"black\",\n",
    "    lw=0.5,\n",
    "    above=0.5,\n",
    "    above_c=\"orangered\",\n",
    "    below=-0.5,\n",
    "    below_c=\"deepskyblue\",\n",
    "    ax=ax,\n",
    ")\n",
    "# obs_RO_ds['Nino34'].plot(ax=ax, c='black', )\n",
    "ax.set_ylim([-3, 3])\n",
    "ax.set_ylabel(\"Nino34 SSTA [degC]\")\n",
    "\n",
    "axR = ax.twinx()\n",
    "obs_RO_ds[\"WWV\"].plot(ax=axR, c=\"blue\", lw=1.5)\n",
    "axR.set_ylim([-30, 30])\n",
    "axR.axhline(0, ls=\"--\", c=\"gray\", lw=0.5)\n",
    "\n",
    "ax.set_xlim([datetime.datetime(1979, 1, 1), datetime.datetime(2026, 1, 1)])\n",
    "ax.set_title(\"ORAS5 Nino3.4 and WWV indices\")"
   ]
  },
  {
   "cell_type": "markdown",
   "id": "926b84b5-e041-4453-8e8b-27651775e2b1",
   "metadata": {},
   "source": [
    "## Look at parameter variation over time"
   ]
  },
  {
   "cell_type": "markdown",
   "id": "682ffcb0-b5ad-415b-81b0-f4fec8fd3836",
   "metadata": {},
   "source": [
    "#### Fit model to 20-yr rolling windows"
   ]
  },
  {
   "cell_type": "code",
   "execution_count": null,
   "id": "126879bd-f5c6-4dbd-88e8-efff1b9600c8",
   "metadata": {},
   "outputs": [],
   "source": [
    "## Get number of timesteps in data\n",
    "n = len(obs_RO_ds.time)\n",
    "\n",
    "## specify number of samples to use in each window\n",
    "window_size = 240  # units: months\n",
    "\n",
    "## empty list to hold results and dates\n",
    "params_by_year = []\n",
    "start_dates = []\n",
    "\n",
    "## loop through rolling windows\n",
    "with warnings.catch_warnings(action=\"ignore\"):\n",
    "    for i in np.arange(0, n - 12, 12):\n",
    "\n",
    "        ## make sure there's enough samples for robust estimate\n",
    "        if (n - i) > (0.7 * window_size):\n",
    "\n",
    "            ## get subset of data for fitting model\n",
    "            data_subset = obs_RO_ds.isel(time=slice(i, i + window_size))\n",
    "\n",
    "            ## Get start date for subset\n",
    "            start_dates.append(data_subset.time.isel(time=0))\n",
    "\n",
    "            ## initialize model\n",
    "            model = XRO(ncycle=12, ac_order=1, is_forward=True)\n",
    "\n",
    "            ## fit matrix and get parameters\n",
    "            fit_LRO = model.fit_matrix(data_subset, maskNT=[], maskNH=[])\n",
    "            params_by_year.append(model.get_RO_parameters(fit_LRO))\n",
    "\n",
    "## convert from list to xarray\n",
    "start_dates = xr.concat(start_dates, dim=\"time\")\n",
    "params_by_year = xr.concat(params_by_year, dim=start_dates)"
   ]
  },
  {
   "cell_type": "markdown",
   "id": "5b9f512d-3724-432f-a1e3-499dd8177d45",
   "metadata": {},
   "source": [
    "#### Plot annual-mean $R$ parameter"
   ]
  },
  {
   "cell_type": "code",
   "execution_count": null,
   "id": "679de948-9e17-451e-b6de-a3e889f2e90f",
   "metadata": {},
   "outputs": [],
   "source": [
    "## plot annual mean growth rate\n",
    "fig, ax = plt.subplots(figsize=(5, 3.5))\n",
    "ax.plot(params_by_year.time, params_by_year[\"R\"].mean(\"cycle\"))\n",
    "ax.set_ylabel(r\"$R$\")\n",
    "plt.show()"
   ]
  },
  {
   "cell_type": "markdown",
   "id": "a5bed59c-9b88-441f-ba67-08a4fe6f673d",
   "metadata": {},
   "source": [
    "## Test fit to MPI data"
   ]
  },
  {
   "cell_type": "markdown",
   "id": "c520c8f4-45ba-4e30-9a32-e831db67ef5d",
   "metadata": {},
   "source": [
    "### Load in MPI data"
   ]
  },
  {
   "cell_type": "code",
   "execution_count": null,
   "id": "b616de36-4c1f-4e0c-8c37-ed13f8d36805",
   "metadata": {},
   "outputs": [],
   "source": [
    "load_fp = \"/Users/theo/research/enso2025_xro/data/mpi_Th/Th.nc\"\n",
    "Th = xr.open_dataset(load_fp)"
   ]
  },
  {
   "cell_type": "markdown",
   "id": "c5bbf786-4344-49be-b4c1-e2955138502a",
   "metadata": {},
   "source": [
    "### Function to fit to ensemble chunk"
   ]
  },
  {
   "cell_type": "code",
   "execution_count": null,
   "id": "27b90739-5bb4-46a5-aa7e-314e00899a21",
   "metadata": {},
   "outputs": [],
   "source": [
    "def get_ensemble_params(data, T_var=\"T_3\", h_var=\"h_w\"):\n",
    "    \"\"\"get RO params for each ensemble member\"\"\"\n",
    "\n",
    "    ## empty list to hold params\n",
    "    params = []\n",
    "\n",
    "    ## Loop thru ensemble members\n",
    "    for m in tqdm.tqdm(data.member):\n",
    "\n",
    "        ## initialize model\n",
    "        model = XRO(ncycle=12, ac_order=1, is_forward=True)\n",
    "\n",
    "        ## select ensemble member and variables\n",
    "        data_subset = data[[T_var, h_var]].sel(member=m)\n",
    "\n",
    "        ## fit model\n",
    "        with warnings.catch_warnings(action=\"ignore\"):\n",
    "            fit = model.fit_matrix(data_subset, maskNT=[], maskNH=[])\n",
    "\n",
    "        ## append to list of parameters\n",
    "        params.append(model.get_RO_parameters(fit))\n",
    "\n",
    "    return xr.concat(params, dim=data.member)"
   ]
  },
  {
   "cell_type": "markdown",
   "id": "4dc180ea-9819-4b6e-bda1-c4b938748211",
   "metadata": {},
   "source": [
    "#### Get parameters for single ensemble member"
   ]
  },
  {
   "cell_type": "code",
   "execution_count": null,
   "id": "95f777e5-9cb7-4bc3-92f2-11419b328a33",
   "metadata": {},
   "outputs": [],
   "source": [
    "Th_ = Th.isel(member=0).isel(time=slice(0, 120))\n",
    "plt.plot(Th_.time, Th_[\"T_3\"])\n",
    "plt.plot(Th_.time, Th_[\"h_w\"])\n",
    "# plt.plot(Th[\"h_w\"].isel(member=0).isel(time=slice(0,36)))"
   ]
  },
  {
   "cell_type": "code",
   "execution_count": null,
   "id": "d6d355e7-ce6c-4802-a677-447bdc71ca69",
   "metadata": {},
   "outputs": [],
   "source": [
    "Th_norm = Th / Th.std()\n",
    "\n",
    "params_norm = get_ensemble_params(\n",
    "    Th_norm.isel(time=slice(0, 360)), T_var=\"T_34\", h_var=\"h\"\n",
    ")\n",
    "params = get_ensemble_params(Th.isel(time=slice(0, 360)), T_var=\"T_34\", h_var=\"h\")"
   ]
  },
  {
   "cell_type": "code",
   "execution_count": null,
   "id": "92df7a76-52d8-440c-9966-0557ec43fbfc",
   "metadata": {},
   "outputs": [],
   "source": [
    "fig, ax = plt.subplots(figsize=(4, 3))\n",
    "\n",
    "for m in params.member:\n",
    "\n",
    "    # ax.plot(params.cycle, params_norm[\"R\"].sel(member=m), alpha=.5, lw=1)\n",
    "    ax.plot(params.cycle, params_norm[\"BJ_ac\"].sel(member=m), alpha=0.5, lw=1)\n",
    "\n",
    "ax.axhline(0, c=\"k\", ls=\"--\")\n",
    "ax.set_ylim([None, 1])\n",
    "plt.show()"
   ]
  },
  {
   "cell_type": "code",
   "execution_count": null,
   "id": "8604f532-2383-4c36-95ba-bb4be5cde1ac",
   "metadata": {},
   "outputs": [],
   "source": [
    "fig, ax = plt.subplots(figsize=(4, 3))\n",
    "\n",
    "for m in params.member:\n",
    "\n",
    "    ax.plot(params.cycle, params[\"R\"].sel(member=m), alpha=0.5, lw=1)\n",
    "\n",
    "ax.axhline(0, c=\"k\", ls=\"--\")\n",
    "ax.set_ylim([None, 1])\n",
    "plt.show()"
   ]
  }
 ],
 "metadata": {
  "kernelspec": {
   "display_name": "Python 3 (ipykernel)",
   "language": "python",
   "name": "python3"
  },
  "language_info": {
   "codemirror_mode": {
    "name": "ipython",
    "version": 3
   },
   "file_extension": ".py",
   "mimetype": "text/x-python",
   "name": "python",
   "nbconvert_exporter": "python",
   "pygments_lexer": "ipython3",
   "version": "3.13.2"
  }
 },
 "nbformat": 4,
 "nbformat_minor": 5
}
