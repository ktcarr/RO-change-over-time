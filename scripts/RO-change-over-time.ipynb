{
 "cells": [
  {
   "cell_type": "markdown",
   "id": "5a687365-6441-4125-9782-8cc9bf63cd34",
   "metadata": {
    "execution": {
     "iopub.execute_input": "2025-03-10T15:32:54.159739Z",
     "iopub.status.busy": "2025-03-10T15:32:54.159478Z",
     "iopub.status.idle": "2025-03-10T15:32:54.177370Z",
     "shell.execute_reply": "2025-03-10T15:32:54.176877Z",
     "shell.execute_reply.started": "2025-03-10T15:32:54.159723Z"
    }
   },
   "source": [
    "# RO change over time"
   ]
  },
  {
   "cell_type": "markdown",
   "id": "d6b14ab1-a3c4-4274-b502-80d368c2ebfd",
   "metadata": {
    "execution": {
     "iopub.execute_input": "2024-02-19T10:56:12.001434Z",
     "iopub.status.busy": "2024-02-19T10:56:12.001117Z",
     "iopub.status.idle": "2024-02-19T10:56:12.424735Z",
     "shell.execute_reply": "2024-02-19T10:56:12.424085Z",
     "shell.execute_reply.started": "2024-02-19T10:56:12.001406Z"
    }
   },
   "source": [
    "## Imports"
   ]
  },
  {
   "cell_type": "code",
   "execution_count": null,
   "id": "285085cd-be8e-4811-a893-ca82043b7dad",
   "metadata": {},
   "outputs": [],
   "source": [
    "import warnings\n",
    "import datetime\n",
    "import matplotlib\n",
    "import matplotlib.pyplot as plt\n",
    "import matplotlib as mpl\n",
    "import numpy as np\n",
    "import seaborn as sns\n",
    "import xarray as xr\n",
    "from climpred import HindcastEnsemble\n",
    "from dateutil.relativedelta import *\n",
    "from matplotlib.ticker import AutoMinorLocator\n",
    "import warnings\n",
    "import tqdm\n",
    "import pathlib\n",
    "import cmocean\n",
    "\n",
    "# Import custom modules\n",
    "import src.utils\n",
    "from src.XRO import XRO, xcorr\n",
    "\n",
    "## set plotting specs\n",
    "sns.set(rc={\"axes.facecolor\": \"white\", \"axes.grid\": False})\n",
    "\n",
    "## bump up DPI\n",
    "mpl.rcParams[\"figure.dpi\"] = 100"
   ]
  },
  {
   "cell_type": "markdown",
   "id": "c520c8f4-45ba-4e30-9a32-e831db67ef5d",
   "metadata": {},
   "source": [
    "## Load data"
   ]
  },
  {
   "cell_type": "code",
   "execution_count": null,
   "id": "b616de36-4c1f-4e0c-8c37-ed13f8d36805",
   "metadata": {},
   "outputs": [],
   "source": [
    "## MPI data\n",
    "mpi_load_fp = pathlib.Path(\"/Users/theo/research/enso2025_xro/data/mpi_Th/Th.nc\")\n",
    "Th = xr.open_dataset(mpi_load_fp)"
   ]
  },
  {
   "cell_type": "markdown",
   "id": "bcdb7307-c071-4a34-8ab2-836b71d28b8f",
   "metadata": {},
   "source": [
    "## Create ensembles of RO to match MPI"
   ]
  },
  {
   "cell_type": "markdown",
   "id": "de6961a3-c148-4c5d-8419-c0c547cc7514",
   "metadata": {},
   "source": [
    "Function to fit RO to ensemble"
   ]
  },
  {
   "cell_type": "code",
   "execution_count": null,
   "id": "ae952ede-b680-4b8a-a4e7-865c84e2d8d2",
   "metadata": {},
   "outputs": [],
   "source": [
    "# def get_ensemble_params(data, T_var=\"T_3\", h_var=\"h_w\", verbose=False):\n",
    "#     \"\"\"get RO params for each ensemble member\"\"\"\n",
    "\n",
    "#     ## empty list to hold params\n",
    "#     params = []\n",
    "\n",
    "#     ## Loop thru ensemble members\n",
    "#     for m in tqdm.tqdm(data.member, disable=not (verbose)):\n",
    "\n",
    "#         ## initialize model\n",
    "#         model = XRO(ncycle=12, ac_order=1, is_forward=True)\n",
    "\n",
    "#         ## select ensemble member and variables\n",
    "#         data_subset = data[[T_var, h_var]].sel(member=m)\n",
    "\n",
    "#         ## fit model\n",
    "#         with warnings.catch_warnings(action=\"ignore\"):\n",
    "#             fit = model.fit_matrix(data_subset, maskNT=[], maskNH=[])\n",
    "\n",
    "#         ## append to list of parameters\n",
    "#         params.append(model.get_RO_parameters(fit))\n",
    "\n",
    "#     return xr.concat(params, dim=data.member)"
   ]
  },
  {
   "cell_type": "markdown",
   "id": "28727a82-c55b-411c-95c8-fa1782c1bb24",
   "metadata": {},
   "source": [
    "### Get ensemble of RO models for early/late period\n",
    "Here we fit a different RO model to each MPI ensemble member (so we have an RO ensemble with equal number of members to MPI). To increase RO ensemble size could (i) randomly draw RO member from ensemble or (ii) estimate covariance of parameters, then randomly draw set of parameters."
   ]
  },
  {
   "cell_type": "code",
   "execution_count": null,
   "id": "7729573c-e4b0-4e52-a591-c63879aa7836",
   "metadata": {},
   "outputs": [],
   "source": [
    "## specify variables to use in RO fit order of annual cycle\n",
    "T_var = \"T_3\"\n",
    "h_var = \"h_w\"\n",
    "ac_order = 0\n",
    "\n",
    "## get data for early/late period\n",
    "Th_early = Th.isel(time=slice(None, 588))\n",
    "Th_late = Th.isel(time=slice(-588, None))\n",
    "\n",
    "## specify model to use\n",
    "model = XRO(ncycle=12, ac_order=ac_order, is_forward=True)\n",
    "\n",
    "## fit to data\n",
    "kwargs = dict(model=model, T_var=T_var, h_var=h_var, verbose=True)\n",
    "model, RO_params_early = src.utils.get_RO_ensemble(Th_early, **kwargs)\n",
    "_, RO_params_late = src.utils.get_RO_ensemble(Th_late, **kwargs)"
   ]
  },
  {
   "cell_type": "code",
   "execution_count": null,
   "id": "9a2583da-b0be-4049-9002-76fa0b75f068",
   "metadata": {},
   "outputs": [],
   "source": [
    "def get_member_fit(i):\n",
    "    XY = np.stack(\n",
    "        [\n",
    "            Th_early.isel(member=i)[\"T_3\"].values,\n",
    "            Th_early.isel(member=i)[\"h_w\"].values,\n",
    "        ], \n",
    "        axis=0\n",
    "    )\n",
    "    \n",
    "    ## feature matrix\n",
    "    X = XY[:,:-2]\n",
    "    \n",
    "    ## compute derivative (dXdt)\n",
    "    Y = 6 * (XY[:,2:] - XY[:,:-2])\n",
    "    \n",
    "    Cxx = src.utils.get_cov(X, X)\n",
    "    Cyx = src.utils.get_cov(Y, X)\n",
    "    \n",
    "    return Cyx @ np.linalg.pinv(Cxx)\n",
    "\n",
    "fits = np.stack([get_member_fit(i) for i in np.arange(50)])"
   ]
  },
  {
   "cell_type": "markdown",
   "id": "548e72f4-5e9e-46d4-b3be-48086752b4fb",
   "metadata": {},
   "source": [
    "Get fit all at once"
   ]
  },
  {
   "cell_type": "code",
   "execution_count": null,
   "id": "661c789c-8019-4964-bd67-86e189418601",
   "metadata": {},
   "outputs": [],
   "source": [
    "XY = np.stack(\n",
    "    [\n",
    "        Th_early[\"T_3\"].values,\n",
    "        Th_early[\"h_w\"].values,\n",
    "    ], \n",
    "    axis=0\n",
    ")\n",
    "\n",
    "## feature matrix\n",
    "X = XY[..., :-2]\n",
    "\n",
    "## compute derivative (dXdt)\n",
    "Y = 6 * (XY[...,2:] - XY[...,:-2])\n",
    "\n",
    "## reshape\n",
    "X = X.reshape(2,-1)\n",
    "Y = Y.reshape(2,-1)\n",
    "\n",
    "Cxx = src.utils.get_cov(X, X)\n",
    "Cyx = src.utils.get_cov(Y, X)\n",
    "\n",
    "fit_all = Cyx @ np.linalg.pinv(Cxx)\n",
    "\n",
    "fits_bj = fits[:,0,0] - fits[:,1,1]\n",
    "fit_all_bj = fit_all[0,0] - fit_all[1,1]"
   ]
  },
  {
   "cell_type": "code",
   "execution_count": null,
   "id": "44c5ffe4-7436-4767-9515-9ea6eab65daf",
   "metadata": {},
   "outputs": [],
   "source": [
    "pdf, edges = src.utils.get_empirical_pdf(fits_bj, edges = np.arange(.3,1.6,.1))\n",
    "\n",
    "## plot period\n",
    "fig,ax = plt.subplots(figsize=(4,3))\n",
    "ax.stairs(pdf, edges, color=\"k\", label=\"MPI (PDF)\")\n",
    "ax.axvline(fit_all_bj, c=\"r\")\n",
    "ax.axvline(fits_bj.mean(), c=\"r\", ls=\"--\")"
   ]
  },
  {
   "cell_type": "code",
   "execution_count": null,
   "id": "27a8f7f5-5aaa-4115-9944-b1c479b15219",
   "metadata": {},
   "outputs": [],
   "source": [
    "arr = src.XRO._convert_to_numpy(Th_early.transpose(...,\"member\")[[\"T_3\",\"h_w\"]])\n",
    "print(arr[0,:10,0])\n",
    "print(arr.reshape(2,-1, order=\"F\")[0,:10])"
   ]
  },
  {
   "cell_type": "code",
   "execution_count": null,
   "id": "4bbc4947-9db6-4614-854f-6d590a5dc4dd",
   "metadata": {},
   "outputs": [],
   "source": [
    "XY = np.stack(\n",
    "    [\n",
    "        Th_early.isel(member=0)[\"T_3\"].values,\n",
    "        Th_early.isel(member=0)[\"h_w\"].values,\n",
    "    ], \n",
    "    axis=0\n",
    ")\n",
    "\n",
    "A = get_member_fit(0)\n",
    "A2 = RO_params_early.isel(member=0,cycle=0).Lac\n",
    "\n",
    "Yhat2 = A2.values @ X\n",
    "\n",
    "Yhat = A@X\n",
    "\n",
    "fig,ax = plt.subplots(figsize=(4,3))\n",
    "ax.plot(Y[0,:36], label=\"truth\")\n",
    "ax.plot(Yhat[0,:36], label=\"prediction\")\n",
    "ax.plot(Yhat2[0,:36], label=\"prediction2\", ls=\"--\")\n",
    "ax.legend()"
   ]
  },
  {
   "cell_type": "markdown",
   "id": "f5dbf2e9-693b-4c31-8899-f61a954ba35d",
   "metadata": {},
   "source": [
    "### Get ensemble of RO simulations"
   ]
  },
  {
   "cell_type": "markdown",
   "id": "2ab25c74-6e8e-4c18-ab33-b609eb785408",
   "metadata": {},
   "source": [
    "Function to generate ensemble"
   ]
  },
  {
   "cell_type": "code",
   "execution_count": null,
   "id": "ff271292-899f-4360-8ec8-a3da9d021548",
   "metadata": {},
   "outputs": [],
   "source": [
    "def generate_ensemble(params, sampling_type=\"ensemble_mean\", **simulation_kwargs):\n",
    "    \"\"\"Generate ensemble of RO simulations given parameters estimated\n",
    "    from each MPI ensemble member.\"\"\"\n",
    "\n",
    "    if sampling_type == \"ensemble_mean\":\n",
    "        RO_ensemble = model.simulate(fit_ds=params.mean(\"member\"), **simulation_kwargs)\n",
    "\n",
    "    else:\n",
    "        print(\"Not a valid sampling type\")\n",
    "\n",
    "    return RO_ensemble"
   ]
  },
  {
   "cell_type": "markdown",
   "id": "2c84095e-6b99-466f-b1ac-961df23851ff",
   "metadata": {},
   "source": [
    "Run the simulation"
   ]
  },
  {
   "cell_type": "code",
   "execution_count": null,
   "id": "4ce5d1ff-2304-42e9-be89-e31af5d81b2f",
   "metadata": {},
   "outputs": [],
   "source": [
    "## specify arguments for simulation\n",
    "simulation_kwargs = dict(\n",
    "    nyear=49, ncopy=50, seed=1000, X0_ds=Th[[T_var, h_var]].isel(member=0, time=0)\n",
    ")\n",
    "\n",
    "## run simulation\n",
    "RO_ensemble = generate_ensemble(RO_params_early, **simulation_kwargs)"
   ]
  },
  {
   "cell_type": "markdown",
   "id": "ed6ad38d-be45-4d6a-a47a-3c3478a52a7d",
   "metadata": {},
   "source": [
    "## Check if RO can reproduce MPI stats"
   ]
  },
  {
   "cell_type": "markdown",
   "id": "cc160bbd-3582-4e30-b534-db3230e25b4c",
   "metadata": {},
   "source": [
    "### Seasonality"
   ]
  },
  {
   "cell_type": "code",
   "execution_count": null,
   "id": "143f8591-e7c9-445b-a4f4-22ad373f723b",
   "metadata": {},
   "outputs": [],
   "source": [
    "## func to compute std dev as a function of month\n",
    "get_std = lambda x: x.groupby(\"time.month\").std(\"time\")\n",
    "\n",
    "## wrapper function to get mean and ± 1 std\n",
    "get_stats = lambda x: src.utils.get_ensemble_stats(get_std(x[T_var]))\n",
    "\n",
    "## compute std for each dataset\n",
    "mpi_std_plot = get_stats(Th_early)\n",
    "ro_std_plot = get_stats(RO_ensemble)\n",
    "\n",
    "## months (x-coordinate for plotting\n",
    "months = np.arange(1, 13)\n",
    "\n",
    "### Set up plot\n",
    "fig, ax = plt.subplots(figsize=(4, 3))\n",
    "\n",
    "## plot MPI ensemble mean\n",
    "mpi_plot = ax.plot(months, mpi_std_plot.sel(posn=\"center\"), label=\"MPI\")\n",
    "\n",
    "## plot MPI bounds\n",
    "kwargs = dict(c=mpi_plot[0].get_color(), ls=\"--\", lw=1)\n",
    "for bound in [\"upper\", \"lower\"]:\n",
    "    ax.plot(months, mpi_std_plot.sel(posn=bound), **kwargs)\n",
    "\n",
    "## plot RO ensemble mean\n",
    "ro_plot = ax.plot(months, ro_std_plot.sel(posn=\"center\"), label=\"RO\")\n",
    "\n",
    "## plot RO bounds\n",
    "kwargs = dict(c=ro_plot[0].get_color(), ls=\"--\", lw=1)\n",
    "for bound in [\"upper\", \"lower\"]:\n",
    "    ax.plot(months, ro_std_plot.sel(posn=bound), **kwargs)\n",
    "\n",
    "## adjust limits and label\n",
    "ax.set_ylim([0.4, None])\n",
    "ax.set_yticks([0.5, 1])\n",
    "ax.set_xticks([1, 5, 12], labels=[\"Jan\", \"May\", \"Dec\"])\n",
    "ax.set_xlabel(\"Month\")\n",
    "ax.set_ylabel(f\"$\\\\sigma(T)$\")\n",
    "ax.set_title(\"Seasonal synchronization (Niño 3)\")\n",
    "ax.legend()\n",
    "plt.show()"
   ]
  },
  {
   "cell_type": "markdown",
   "id": "d142f83e-abeb-401e-915b-8e3106c36774",
   "metadata": {},
   "source": [
    "### Power spectrum"
   ]
  },
  {
   "cell_type": "markdown",
   "id": "81a10e20-f509-46ce-ad9b-a310d2279921",
   "metadata": {},
   "source": [
    "### $T$, $h$ cross-correlation"
   ]
  },
  {
   "cell_type": "markdown",
   "id": "13c88986-d43e-43a8-9df5-0de3d96f3b0c",
   "metadata": {},
   "source": [
    "Compute cross-correlation"
   ]
  },
  {
   "cell_type": "code",
   "execution_count": null,
   "id": "3981072f-7a3e-4106-97d8-cbcf475263d9",
   "metadata": {},
   "outputs": [],
   "source": [
    "## compute cross-correlation\n",
    "xcorr_mpi = xcorr(Th_early, Th_early[T_var], maxlags=18)\n",
    "xcorr_ro = xcorr(RO_ensemble, RO_ensemble[T_var], maxlags=18)\n",
    "\n",
    "## compute stats\n",
    "xcorr_mpi_stats = src.utils.get_ensemble_stats(xcorr_mpi)\n",
    "xcorr_ro_stats = src.utils.get_ensemble_stats(xcorr_ro)"
   ]
  },
  {
   "cell_type": "markdown",
   "id": "7a41173b-57d5-4276-bed0-1dc8fbb7e866",
   "metadata": {},
   "source": [
    "Function to help with plotting"
   ]
  },
  {
   "cell_type": "code",
   "execution_count": null,
   "id": "a21246b2-3ea2-4b9c-a00b-98c22ddd225b",
   "metadata": {},
   "outputs": [],
   "source": [
    "def plot_xcorr(ax, data, color, label=None):\n",
    "    \"\"\"plot mean and bounds for data\"\"\"\n",
    "\n",
    "    ## center\n",
    "    ax.plot(\n",
    "        data.lag,\n",
    "        data.sel(posn=\"center\"),\n",
    "        c=color,\n",
    "        label=label,\n",
    "    )\n",
    "\n",
    "    ## bounds\n",
    "    ax.fill_between(\n",
    "        data.lag, data.sel(posn=\"upper\"), data.sel(posn=\"lower\"), color=color, alpha=0.2\n",
    "    )\n",
    "\n",
    "    return"
   ]
  },
  {
   "cell_type": "markdown",
   "id": "b670da78-7284-4b5e-afac-f5527853b371",
   "metadata": {},
   "source": [
    "Make plots"
   ]
  },
  {
   "cell_type": "code",
   "execution_count": null,
   "id": "8361f888-2277-43b5-9478-350e8f87b540",
   "metadata": {},
   "outputs": [],
   "source": [
    "## specify plot properties for legend\n",
    "legend_prop = dict(size=7)\n",
    "\n",
    "fig, axs = plt.subplots(1, 2, figsize=(6, 2.5), layout=\"constrained\")\n",
    "\n",
    "## plot <T,T>\n",
    "axs[0].set_title(r\"$<T, T>$\")\n",
    "plot_xcorr(axs[0], xcorr_mpi_stats[T_var], color=\"k\", label=\"MPI\")\n",
    "plot_xcorr(axs[0], xcorr_ro_stats[T_var], color=\"r\", label=\"RO\")\n",
    "axs[0].legend(prop=dict(size=7))\n",
    "\n",
    "\n",
    "## plot <T,h>\n",
    "axs[1].set_title(r\"$<T, h>$\")\n",
    "plot_xcorr(axs[1], xcorr_mpi_stats[h_var], color=\"k\", label=\"MPI\")\n",
    "plot_xcorr(axs[1], xcorr_ro_stats[h_var], color=\"r\", label=\"RO\")\n",
    "\n",
    "## clean up axes and label\n",
    "for ax in axs:\n",
    "    ax.set_ylim([-0.5, 1.05])\n",
    "    ax.set_xticks([-12, 0, 12], labels=[-1, 0, 1])\n",
    "    ax.set_xlabel(\"Lag (years)\")\n",
    "    axis_kwargs = dict(c=\"k\", lw=0.5, alpha=0.5)\n",
    "    ax.axhline(0, **axis_kwargs)\n",
    "    ax.axvline(0, **axis_kwargs)\n",
    "\n",
    "plt.show()"
   ]
  },
  {
   "cell_type": "markdown",
   "id": "c68723e3-0aec-42c1-96a8-1862b51951ce",
   "metadata": {},
   "source": [
    "## Look at parameter change over time"
   ]
  },
  {
   "cell_type": "markdown",
   "id": "65f1f0b4-1540-43b6-9b3e-d81758c2ab5b",
   "metadata": {},
   "source": [
    "Next, define a function to compute parameter changes over time"
   ]
  },
  {
   "cell_type": "code",
   "execution_count": null,
   "id": "ff127312-0b1b-4c43-8b51-be6335e207c5",
   "metadata": {},
   "outputs": [],
   "source": [
    "def get_ensemble_params_over_time(\n",
    "    data, T_var=\"T_3\", h_var=\"h_w\", window_size=360, step_size=60\n",
    "):\n",
    "    \"\"\"Get RO params for each ensemble member as a function of time.\n",
    "    Args:\n",
    "        window_size: size of sliding window (units: months)\n",
    "        step_size: how many months to slide the window between each calculation\n",
    "    \"\"\"\n",
    "\n",
    "    ## Get number of timesteps in data\n",
    "    n = len(data.time)\n",
    "\n",
    "    ## empty list to hold results and dates\n",
    "    params_by_year = []\n",
    "    start_dates = []\n",
    "\n",
    "    ## loop through rolling windows\n",
    "    for i in tqdm.tqdm(np.arange(0, n - step_size, step_size)):\n",
    "\n",
    "        ## make sure there's enough samples for robust estimate\n",
    "        if (n - i) > (0.7 * window_size):\n",
    "\n",
    "            ## get subset of data for fitting model\n",
    "            data_subset = data.isel(time=slice(i, i + window_size))\n",
    "\n",
    "            ## Get start date for subset\n",
    "            start_dates.append(data_subset.time.isel(time=0))\n",
    "\n",
    "            ## get parameter fit\n",
    "            params_by_year.append(\n",
    "                get_ensemble_params(\n",
    "                    data_subset, T_var=T_var, h_var=h_var, verbose=False\n",
    "                )\n",
    "            )\n",
    "\n",
    "    ## convert from list to xarray\n",
    "    start_dates = xr.concat(start_dates, dim=\"time\")\n",
    "    params_by_year = xr.concat(params_by_year, dim=start_dates)\n",
    "\n",
    "    return params_by_year"
   ]
  },
  {
   "cell_type": "markdown",
   "id": "789306c9-32bf-46ae-8532-1e79fa5400ed",
   "metadata": {},
   "source": [
    "### Do the computation and save parameters to file"
   ]
  },
  {
   "cell_type": "code",
   "execution_count": null,
   "id": "6875e411-abb4-47bf-83c5-97471f7e54a0",
   "metadata": {},
   "outputs": [],
   "source": [
    "## specify save filepath\n",
    "save_fp = pathlib.Path(\"/Users/theo/research/enso2025_xro/results/params.nc\")\n",
    "\n",
    "## Load parameters if already computed\n",
    "if save_fp.is_file():\n",
    "    params = xr.open_dataset(save_fp)\n",
    "\n",
    "else:\n",
    "    ## compute params\n",
    "    params = get_ensemble_params_over_time(Th, window_size=360, step_size=60)\n",
    "\n",
    "    ## save to file\n",
    "    params.to_netcdf(save_fp)"
   ]
  },
  {
   "cell_type": "markdown",
   "id": "52d996d3-8d6c-4799-bd81-2ab3aab7c20e",
   "metadata": {},
   "source": [
    "### Plot diagnostics"
   ]
  },
  {
   "cell_type": "markdown",
   "id": "ff006d58-d560-41c7-a2f0-a1740ed2ac2f",
   "metadata": {},
   "source": [
    "#### Ensemble-mean growth rate as a function of seasonal cycle and time"
   ]
  },
  {
   "cell_type": "code",
   "execution_count": null,
   "id": "c29efe78-1a25-4a27-852f-24cf387e4a48",
   "metadata": {},
   "outputs": [],
   "source": [
    "fig, ax = plt.subplots(figsize=(3.5, 3.5))\n",
    "\n",
    "## plot data\n",
    "cp = ax.contourf(\n",
    "    params.cycle, params.time, params[\"BJ_ac\"].mean(\"member\"), cmap=\"cmo.amp\", levels=10\n",
    ")\n",
    "\n",
    "## set ticks and add guideline\n",
    "ax.set_xticks([1, 7, 12], labels=[\"Jan\", \"Jul\", \"Dec\"])\n",
    "ax.axvline(7, c=\"w\", ls=\"--\", lw=1, alpha=0.8)\n",
    "\n",
    "## add colorbar\n",
    "cb = fig.colorbar(cp, label=r\"Growth rate (yr$^{-1}$)\")\n",
    "\n",
    "## label\n",
    "ax.set_title(\"Ensemble-mean growth rate\")\n",
    "ax.set_xlabel(\"Month\")\n",
    "ax.set_ylabel(\"Year\")\n",
    "\n",
    "plt.show()"
   ]
  },
  {
   "cell_type": "markdown",
   "id": "2dc27e16-8b67-4200-b2a3-5200b0187096",
   "metadata": {},
   "source": [
    "#### Plot annual max growth rate"
   ]
  },
  {
   "cell_type": "code",
   "execution_count": null,
   "id": "b8cc9caf-2a07-4e87-a483-a96c90ce4560",
   "metadata": {},
   "outputs": [],
   "source": [
    "fig, ax = plt.subplots(figsize=(4, 3))\n",
    "\n",
    "## plot ensemble members\n",
    "for i, m in enumerate(params.member.values):\n",
    "\n",
    "    label = \"Ensemble members\" if (i == 50) else None\n",
    "\n",
    "    ax.plot(\n",
    "        params.time,\n",
    "        params[\"BJ_ac\"].sel(member=m).max(\"cycle\"),\n",
    "        c=\"gray\",\n",
    "        alpha=0.5,\n",
    "        lw=0.5,\n",
    "    )\n",
    "\n",
    "## plot ensemble mean\n",
    "ax.plot(\n",
    "    params.time,\n",
    "    params[\"BJ_ac\"].mean(\"member\").max(\"cycle\"),\n",
    "    c=\"k\",\n",
    "    lw=2,\n",
    "    label=\"Ensemble mean\",\n",
    ")\n",
    "\n",
    "## add labels and set plot style\n",
    "ax.axhline(0, c=\"k\", ls=\"--\", lw=1)\n",
    "ax.set_ylim([None, 0.5])\n",
    "ax.set_xlabel(\"Time\")\n",
    "ax.set_ylabel(r\"Growth rate (yr$^{-1}$)\")\n",
    "ax.set_title(\"Max annual growth rate\")\n",
    "ax.legend()\n",
    "\n",
    "plt.show()"
   ]
  },
  {
   "cell_type": "markdown",
   "id": "1286666e-89a5-4bbc-9a5a-6820fa82f745",
   "metadata": {},
   "source": [
    "### Stochastic integration"
   ]
  },
  {
   "cell_type": "code",
   "execution_count": null,
   "id": "6498ddf4",
   "metadata": {},
   "outputs": [],
   "source": [
    "## Fit model on first 30 years of dataset and last 30 years of dataset\n",
    "\n",
    "\n",
    "def get_RO_ensemble(data, T_var=\"T_3\", h_var=\"h_w\", verbose=False):\n",
    "    \"\"\"get RO params for each ensemble member\"\"\"\n",
    "\n",
    "    ## initialize model\n",
    "    model = XRO(ncycle=12, ac_order=1, is_forward=True)\n",
    "\n",
    "    ## empty list to hold model fits\n",
    "    fits = []\n",
    "\n",
    "    ## Loop thru ensemble members\n",
    "    for m in tqdm.tqdm(data.member, disable=not (verbose)):\n",
    "\n",
    "        ## select ensemble member and variables\n",
    "        data_subset = data[[T_var, h_var]].sel(member=m)\n",
    "\n",
    "        ## fit model\n",
    "        with warnings.catch_warnings(action=\"ignore\"):\n",
    "            fits.append(model.fit_matrix(data_subset, maskNT=[], maskNH=[]))\n",
    "\n",
    "    return model, xr.concat(fits, dim=data.member)"
   ]
  },
  {
   "cell_type": "markdown",
   "id": "44c50521-c5e3-4317-8d78-948777588e51",
   "metadata": {},
   "source": [
    "### Get ensemble of RO models for early/late period"
   ]
  },
  {
   "cell_type": "code",
   "execution_count": null,
   "id": "c71d4949",
   "metadata": {},
   "outputs": [],
   "source": [
    "## get data for early/late period\n",
    "Th_early = Th.isel(time=slice(None, 600))\n",
    "Th_late = Th.isel(time=slice(-600, None))\n",
    "\n",
    "model, RO_params_early = get_RO_ensemble(Th_early, verbose=True)\n",
    "_, RO_params_late = get_RO_ensemble(Th_late, verbose=True)"
   ]
  },
  {
   "cell_type": "code",
   "execution_count": null,
   "id": "e16a709f-c2d9-4b78-8281-cabc459eaea8",
   "metadata": {},
   "outputs": [],
   "source": []
  },
  {
   "cell_type": "markdown",
   "id": "a6a2b832-2b44-4736-af49-aacf4608f3b8",
   "metadata": {},
   "source": [
    "### Get ensemble of RO simulations"
   ]
  },
  {
   "cell_type": "code",
   "execution_count": null,
   "id": "46694444",
   "metadata": {},
   "outputs": [],
   "source": [
    "seed = 1000\n",
    "RO_ensemble_early = model.simulate(\n",
    "    fit_ds=RO_params_early.mean(\"member\"),\n",
    "    X0_ds=Th[[\"T_3\", \"h_w\"]].isel(time=0, member=0),\n",
    "    nyear=50,\n",
    "    ncopy=100,\n",
    "    noise_type=\"red\",\n",
    "    seed=seed,\n",
    "    is_xi_stdac=False,\n",
    "    xi_B=0.0,\n",
    "    is_heaviside=True,\n",
    ")"
   ]
  },
  {
   "cell_type": "markdown",
   "id": "b21acb53-7bde-4d2e-a25f-c0de3014f9a7",
   "metadata": {},
   "source": [
    "#### Seasonal synchronization"
   ]
  },
  {
   "cell_type": "code",
   "execution_count": null,
   "id": "f406c752",
   "metadata": {},
   "outputs": [],
   "source": [
    "## specify which variable to plot\n",
    "var_name = \"T_3\"\n",
    "\n",
    "## compute std for each dataset\n",
    "RO_std = RO_ensemble_early.groupby(\"time.month\").std()\n",
    "mpi_std = Th_early.groupby(\"time.month\").std()\n",
    "\n",
    "fig, ax = plt.subplots(figsize=(4, 3))\n",
    "\n",
    "ax.plot(mpi_std.month, mpi_std[var_name].mean(\"member\"))\n",
    "ax.plot(\n",
    "    mpi_std.month,\n",
    "    mpi_std[var_name].mean(\"member\") + mpi_std[var_name].std(\"member\"),\n",
    "    c=\"k\",\n",
    ")\n",
    "ax.plot(mpi_std.month, RO_std[var_name].mean(\"member\"))\n",
    "ax.plot(mpi_std.month, RO_std[var_name].mean(\"member\") + RO_std[var_name].std(\"member\"))"
   ]
  }
 ],
 "metadata": {
  "kernelspec": {
   "display_name": "Python 3 (ipykernel)",
   "language": "python",
   "name": "python3"
  },
  "language_info": {
   "codemirror_mode": {
    "name": "ipython",
    "version": 3
   },
   "file_extension": ".py",
   "mimetype": "text/x-python",
   "name": "python",
   "nbconvert_exporter": "python",
   "pygments_lexer": "ipython3",
   "version": "3.13.2"
  }
 },
 "nbformat": 4,
 "nbformat_minor": 5
}
