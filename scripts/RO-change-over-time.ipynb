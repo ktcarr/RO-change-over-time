{
 "cells": [
  {
   "cell_type": "markdown",
   "id": "5a687365-6441-4125-9782-8cc9bf63cd34",
   "metadata": {
    "execution": {
     "iopub.execute_input": "2025-03-10T15:32:54.159739Z",
     "iopub.status.busy": "2025-03-10T15:32:54.159478Z",
     "iopub.status.idle": "2025-03-10T15:32:54.177370Z",
     "shell.execute_reply": "2025-03-10T15:32:54.176877Z",
     "shell.execute_reply.started": "2025-03-10T15:32:54.159723Z"
    }
   },
   "source": [
    "# RO change over time"
   ]
  },
  {
   "cell_type": "markdown",
   "id": "d6b14ab1-a3c4-4274-b502-80d368c2ebfd",
   "metadata": {
    "execution": {
     "iopub.execute_input": "2024-02-19T10:56:12.001434Z",
     "iopub.status.busy": "2024-02-19T10:56:12.001117Z",
     "iopub.status.idle": "2024-02-19T10:56:12.424735Z",
     "shell.execute_reply": "2024-02-19T10:56:12.424085Z",
     "shell.execute_reply.started": "2024-02-19T10:56:12.001406Z"
    }
   },
   "source": [
    "## Imports"
   ]
  },
  {
   "cell_type": "code",
   "execution_count": null,
   "id": "285085cd-be8e-4811-a893-ca82043b7dad",
   "metadata": {},
   "outputs": [],
   "source": [
    "import warnings\n",
    "import datetime\n",
    "import matplotlib\n",
    "import matplotlib.pyplot as plt\n",
    "import matplotlib as mpl\n",
    "import numpy as np\n",
    "import seaborn as sns\n",
    "import xarray as xr\n",
    "from climpred import HindcastEnsemble\n",
    "from dateutil.relativedelta import *\n",
    "from matplotlib.ticker import AutoMinorLocator\n",
    "import warnings\n",
    "import tqdm\n",
    "import pathlib\n",
    "import cmocean\n",
    "\n",
    "# Import custom modules\n",
    "from src.XRO import XRO, xcorr\n",
    "\n",
    "## set plotting specs\n",
    "sns.set(rc={\"axes.facecolor\": \"white\", \"axes.grid\": False})\n",
    "\n",
    "## bump up DPI\n",
    "mpl.rcParams[\"figure.dpi\"] = 100"
   ]
  },
  {
   "cell_type": "markdown",
   "id": "c520c8f4-45ba-4e30-9a32-e831db67ef5d",
   "metadata": {},
   "source": [
    "## Load data"
   ]
  },
  {
   "cell_type": "code",
   "execution_count": null,
   "id": "b616de36-4c1f-4e0c-8c37-ed13f8d36805",
   "metadata": {},
   "outputs": [],
   "source": [
    "## MPI data\n",
    "mpi_load_fp = pathlib.Path(\"/Users/theo/research/enso2025_xro/data/mpi_Th/Th.nc\")\n",
    "Th = xr.open_dataset(mpi_load_fp)\n",
    "\n",
    "## ORAS5 reanalysis (use as benchmark)\n",
    "oras_load_fp = pathlib.Path(\"../data/XRO_indices_oras5.nc\")\n",
    "Th_oras = xr.open_dataset(oras_load_fp)\n",
    "\n",
    "## rename variables for consistency\n",
    "Th_oras = Th_oras[[\"Nino34\", \"WWV\"]].rename({\"Nino34\": \"T_34\", \"WWV\": \"h\"})"
   ]
  },
  {
   "cell_type": "markdown",
   "id": "1bc77ebd-3a2c-42ce-be46-a186bbcbfdfe",
   "metadata": {},
   "source": [
    "## Evaluate ENSO in MPI"
   ]
  },
  {
   "cell_type": "markdown",
   "id": "1cdac22c-f5a1-47de-86c0-6fb6b06d6a42",
   "metadata": {},
   "source": [
    "Get subset of MPI which overlaps with RO"
   ]
  },
  {
   "cell_type": "code",
   "execution_count": null,
   "id": "0ce0c047-9c3d-425c-a9ba-2e443b94e046",
   "metadata": {},
   "outputs": [],
   "source": [
    "Th_hist = Th.sel(time=slice(\"1979\", \"2024\"))"
   ]
  },
  {
   "cell_type": "markdown",
   "id": "9eb5f17e-04e3-4405-a634-a8d089234fbc",
   "metadata": {},
   "source": [
    "### Seasonal Synchronization"
   ]
  },
  {
   "cell_type": "code",
   "execution_count": null,
   "id": "2db208a0-13ca-460e-aef3-03530a414e24",
   "metadata": {},
   "outputs": [],
   "source": [
    "## func to compute std dev as a function of month\n",
    "get_std = lambda x: x.groupby(\"time.month\").std(\"time\")\n",
    "\n",
    "## compute std for each dataset\n",
    "oras_std = get_std(Th_oras[\"T_34\"])\n",
    "mpi_std_mean = get_std(Th_hist[\"T_34\"]).mean(\"member\")\n",
    "mpi_std_std = get_std(Th_hist[\"T_34\"]).std(\"member\")\n",
    "\n",
    "## months (x-coordinate for plotting\n",
    "months = np.arange(1, 13)\n",
    "\n",
    "### Set up plot\n",
    "fig, ax = plt.subplots(figsize=(4, 3))\n",
    "\n",
    "## plot for ORAS5\n",
    "oras_plot = ax.plot(months, oras_std, label=\"ORAS5\")\n",
    "\n",
    "## plot MPI ensemble mean\n",
    "mpi_plot = ax.plot(months, mpi_std_mean, label=\"MPI\")\n",
    "\n",
    "## plot ± bounds for MPI\n",
    "kwargs = dict(c=mpi_plot[0].get_color(), ls=\"--\", lw=1)\n",
    "for s in [1, -1]:\n",
    "    ax.plot(months, s * mpi_std_std + mpi_std_mean, **kwargs)\n",
    "\n",
    "## adjust limits and label\n",
    "ax.set_ylim([0, None])\n",
    "ax.set_yticks([0.5, 1])\n",
    "ax.set_xticks([1, 5, 12], labels=[\"Jan\", \"May\", \"Dec\"])\n",
    "ax.set_xlabel(\"Month\")\n",
    "ax.set_ylabel(f\"$\\\\sigma(T)$\")\n",
    "ax.set_title(\"Seasonal synchronization\")\n",
    "ax.legend()\n",
    "plt.show()"
   ]
  },
  {
   "cell_type": "markdown",
   "id": "d142f83e-abeb-401e-915b-8e3106c36774",
   "metadata": {},
   "source": [
    "### Power spectrum"
   ]
  },
  {
   "cell_type": "markdown",
   "id": "81a10e20-f509-46ce-ad9b-a310d2279921",
   "metadata": {},
   "source": [
    "### $T$, $h$ cross-correlation"
   ]
  },
  {
   "cell_type": "markdown",
   "id": "9f0ea87a-d33b-4c70-84c2-7cd135135496",
   "metadata": {},
   "source": [
    "## Check: can RO reproduce them?"
   ]
  },
  {
   "cell_type": "markdown",
   "id": "c5bbf786-4344-49be-b4c1-e2955138502a",
   "metadata": {},
   "source": [
    "Function to fit RO to ensemble"
   ]
  },
  {
   "cell_type": "code",
   "execution_count": null,
   "id": "ae952ede-b680-4b8a-a4e7-865c84e2d8d2",
   "metadata": {},
   "outputs": [],
   "source": [
    "def get_ensemble_params(data, T_var=\"T_3\", h_var=\"h_w\", verbose=False):\n",
    "    \"\"\"get RO params for each ensemble member\"\"\"\n",
    "\n",
    "    ## empty list to hold params\n",
    "    params = []\n",
    "\n",
    "    ## Loop thru ensemble members\n",
    "    for m in tqdm.tqdm(data.member, disable=not (verbose)):\n",
    "\n",
    "        ## initialize model\n",
    "        model = XRO(ncycle=12, ac_order=1, is_forward=True)\n",
    "\n",
    "        ## select ensemble member and variables\n",
    "        data_subset = data[[T_var, h_var]].sel(member=m)\n",
    "\n",
    "        ## fit model\n",
    "        with warnings.catch_warnings(action=\"ignore\"):\n",
    "            fit = model.fit_matrix(data_subset, maskNT=[], maskNH=[])\n",
    "\n",
    "        ## append to list of parameters\n",
    "        params.append(model.get_RO_parameters(fit))\n",
    "\n",
    "    return xr.concat(params, dim=data.member)"
   ]
  },
  {
   "cell_type": "markdown",
   "id": "c68723e3-0aec-42c1-96a8-1862b51951ce",
   "metadata": {},
   "source": [
    "## Look at parameter change over time"
   ]
  },
  {
   "cell_type": "markdown",
   "id": "65f1f0b4-1540-43b6-9b3e-d81758c2ab5b",
   "metadata": {},
   "source": [
    "Next, define a function to compute parameter changes over time"
   ]
  },
  {
   "cell_type": "code",
   "execution_count": null,
   "id": "ff127312-0b1b-4c43-8b51-be6335e207c5",
   "metadata": {},
   "outputs": [],
   "source": [
    "def get_ensemble_params_over_time(\n",
    "    data, T_var=\"T_3\", h_var=\"h_w\", window_size=360, step_size=60\n",
    "):\n",
    "    \"\"\"Get RO params for each ensemble member as a function of time.\n",
    "    Args:\n",
    "        window_size: size of sliding window (units: months)\n",
    "        step_size: how many months to slide the window between each calculation\n",
    "    \"\"\"\n",
    "\n",
    "    ## Get number of timesteps in data\n",
    "    n = len(data.time)\n",
    "\n",
    "    ## empty list to hold results and dates\n",
    "    params_by_year = []\n",
    "    start_dates = []\n",
    "\n",
    "    ## loop through rolling windows\n",
    "    for i in tqdm.tqdm(np.arange(0, n - step_size, step_size)):\n",
    "\n",
    "        ## make sure there's enough samples for robust estimate\n",
    "        if (n - i) > (0.7 * window_size):\n",
    "\n",
    "            ## get subset of data for fitting model\n",
    "            data_subset = data.isel(time=slice(i, i + window_size))\n",
    "\n",
    "            ## Get start date for subset\n",
    "            start_dates.append(data_subset.time.isel(time=0))\n",
    "\n",
    "            ## get parameter fit\n",
    "            params_by_year.append(\n",
    "                get_ensemble_params(\n",
    "                    data_subset, T_var=T_var, h_var=h_var, verbose=False\n",
    "                )\n",
    "            )\n",
    "\n",
    "    ## convert from list to xarray\n",
    "    start_dates = xr.concat(start_dates, dim=\"time\")\n",
    "    params_by_year = xr.concat(params_by_year, dim=start_dates)\n",
    "\n",
    "    return params_by_year"
   ]
  },
  {
   "cell_type": "markdown",
   "id": "789306c9-32bf-46ae-8532-1e79fa5400ed",
   "metadata": {},
   "source": [
    "### Do the computation and save parameters to file"
   ]
  },
  {
   "cell_type": "code",
   "execution_count": null,
   "id": "6875e411-abb4-47bf-83c5-97471f7e54a0",
   "metadata": {},
   "outputs": [],
   "source": [
    "## specify save filepath\n",
    "save_fp = pathlib.Path(\"/Users/theo/research/enso2025_xro/results/params.nc\")\n",
    "\n",
    "## Load parameters if already computed\n",
    "if save_fp.is_file():\n",
    "    params = xr.open_dataset(save_fp)\n",
    "\n",
    "else:\n",
    "    ## compute params\n",
    "    params = get_ensemble_params_over_time(Th, window_size=360, step_size=60)\n",
    "\n",
    "    ## save to file\n",
    "    params.to_netcdf(save_fp)"
   ]
  },
  {
   "cell_type": "markdown",
   "id": "52d996d3-8d6c-4799-bd81-2ab3aab7c20e",
   "metadata": {},
   "source": [
    "### Plot diagnostics"
   ]
  },
  {
   "cell_type": "markdown",
   "id": "ff006d58-d560-41c7-a2f0-a1740ed2ac2f",
   "metadata": {},
   "source": [
    "#### Ensemble-mean growth rate as a function of seasonal cycle and time"
   ]
  },
  {
   "cell_type": "code",
   "execution_count": null,
   "id": "c29efe78-1a25-4a27-852f-24cf387e4a48",
   "metadata": {},
   "outputs": [],
   "source": [
    "fig, ax = plt.subplots(figsize=(3.5, 3.5))\n",
    "\n",
    "## plot data\n",
    "cp = ax.contourf(\n",
    "    params.cycle, params.time, params[\"BJ_ac\"].mean(\"member\"), cmap=\"cmo.amp\", levels=10\n",
    ")\n",
    "\n",
    "## set ticks and add guideline\n",
    "ax.set_xticks([1, 7, 12], labels=[\"Jan\", \"Jul\", \"Dec\"])\n",
    "ax.axvline(7, c=\"w\", ls=\"--\", lw=1, alpha=0.8)\n",
    "\n",
    "## add colorbar\n",
    "cb = fig.colorbar(cp, label=r\"Growth rate (yr$^{-1}$)\")\n",
    "\n",
    "## label\n",
    "ax.set_title(\"Ensemble-mean growth rate\")\n",
    "ax.set_xlabel(\"Month\")\n",
    "ax.set_ylabel(\"Year\")\n",
    "\n",
    "plt.show()"
   ]
  },
  {
   "cell_type": "markdown",
   "id": "2dc27e16-8b67-4200-b2a3-5200b0187096",
   "metadata": {},
   "source": [
    "#### Plot annual max growth rate"
   ]
  },
  {
   "cell_type": "code",
   "execution_count": null,
   "id": "b8cc9caf-2a07-4e87-a483-a96c90ce4560",
   "metadata": {},
   "outputs": [],
   "source": [
    "fig, ax = plt.subplots(figsize=(4, 3))\n",
    "\n",
    "## plot ensemble members\n",
    "for i, m in enumerate(params.member.values):\n",
    "\n",
    "    label = \"Ensemble members\" if (i == 50) else None\n",
    "\n",
    "    ax.plot(\n",
    "        params.time,\n",
    "        params[\"BJ_ac\"].sel(member=m).max(\"cycle\"),\n",
    "        c=\"gray\",\n",
    "        alpha=0.5,\n",
    "        lw=0.5,\n",
    "    )\n",
    "\n",
    "## plot ensemble mean\n",
    "ax.plot(\n",
    "    params.time,\n",
    "    params[\"BJ_ac\"].mean(\"member\").max(\"cycle\"),\n",
    "    c=\"k\",\n",
    "    lw=2,\n",
    "    label=\"Ensemble mean\",\n",
    ")\n",
    "\n",
    "## add labels and set plot style\n",
    "ax.axhline(0, c=\"k\", ls=\"--\", lw=1)\n",
    "ax.set_ylim([None, 0.5])\n",
    "ax.set_xlabel(\"Time\")\n",
    "ax.set_ylabel(r\"Growth rate (yr$^{-1}$)\")\n",
    "ax.set_title(\"Max annual growth rate\")\n",
    "ax.legend()\n",
    "\n",
    "plt.show()"
   ]
  },
  {
   "cell_type": "markdown",
   "id": "fda9026e-0746-4ac1-a1a4-6146e9c40fa5",
   "metadata": {},
   "source": [
    "## Compare stats b/n RO and MPI (To-do)"
   ]
  },
  {
   "cell_type": "markdown",
   "id": "1286666e-89a5-4bbc-9a5a-6820fa82f745",
   "metadata": {},
   "source": [
    "### Stochastic integration"
   ]
  },
  {
   "cell_type": "code",
   "execution_count": null,
   "id": "8cd5f831-baa5-4fe9-8870-ed697ba35286",
   "metadata": {},
   "outputs": [],
   "source": [
    "## Fit model on first 30 years of dataset and last 30 years of dataset\n",
    "\n",
    "\n",
    "def get_RO_ensemble(data, T_var=\"T_3\", h_var=\"h_w\", verbose=False):\n",
    "    \"\"\"get RO params for each ensemble member\"\"\"\n",
    "\n",
    "    ## initialize model\n",
    "    model = XRO(ncycle=12, ac_order=1, is_forward=True)\n",
    "\n",
    "    ## empty list to hold model fits\n",
    "    fits = []\n",
    "\n",
    "    ## Loop thru ensemble members\n",
    "    for m in tqdm.tqdm(data.member, disable=not (verbose)):\n",
    "\n",
    "        ## select ensemble member and variables\n",
    "        data_subset = data[[T_var, h_var]].sel(member=m)\n",
    "\n",
    "        ## fit model\n",
    "        with warnings.catch_warnings(action=\"ignore\"):\n",
    "            fits.append(model.fit_matrix(data_subset, maskNT=[], maskNH=[]))\n",
    "\n",
    "    return model, xr.concat(fits, dim=data.member)"
   ]
  },
  {
   "cell_type": "markdown",
   "id": "44c50521-c5e3-4317-8d78-948777588e51",
   "metadata": {},
   "source": [
    "### Get ensemble of RO models for early/late period"
   ]
  },
  {
   "cell_type": "code",
   "execution_count": null,
   "id": "7729573c-e4b0-4e52-a591-c63879aa7836",
   "metadata": {},
   "outputs": [],
   "source": [
    "## get data for early/late period\n",
    "Th_early = Th.isel(time=slice(None, 600))\n",
    "Th_late = Th.isel(time=slice(-600, None))\n",
    "\n",
    "model, RO_params_early = get_RO_ensemble(Th_early, verbose=True)\n",
    "_, RO_params_late = get_RO_ensemble(Th_late, verbose=True)"
   ]
  },
  {
   "cell_type": "markdown",
   "id": "a6a2b832-2b44-4736-af49-aacf4608f3b8",
   "metadata": {},
   "source": [
    "### Get ensemble of RO simulations"
   ]
  },
  {
   "cell_type": "code",
   "execution_count": null,
   "id": "2d83e107-6d60-40d9-90f5-12cd59b9842c",
   "metadata": {},
   "outputs": [],
   "source": [
    "seed = 1000\n",
    "RO_ensemble_early = model.simulate(\n",
    "    fit_ds=RO_params_early.mean(\"member\"),\n",
    "    X0_ds=Th[[\"T_3\", \"h_w\"]].isel(time=0, member=0),\n",
    "    nyear=50,\n",
    "    ncopy=100,\n",
    "    noise_type=\"red\",\n",
    "    seed=seed,\n",
    "    is_xi_stdac=False,\n",
    "    xi_B=0.0,\n",
    "    is_heaviside=True,\n",
    ")"
   ]
  },
  {
   "cell_type": "markdown",
   "id": "b21acb53-7bde-4d2e-a25f-c0de3014f9a7",
   "metadata": {},
   "source": [
    "#### Seasonal synchronization"
   ]
  },
  {
   "cell_type": "code",
   "execution_count": null,
   "id": "fc793712-3e80-4144-a80b-d1937f21fef1",
   "metadata": {},
   "outputs": [],
   "source": [
    "## specify which variable to plot\n",
    "var_name = \"T_3\"\n",
    "\n",
    "## compute std for each dataset\n",
    "RO_std = RO_ensemble_early.groupby(\"time.month\").std()\n",
    "mpi_std = Th_early.groupby(\"time.month\").std()\n",
    "\n",
    "fig, ax = plt.subplots(figsize=(4, 3))\n",
    "\n",
    "ax.plot(mpi_std.month, mpi_std[var_name].mean(\"member\"))\n",
    "ax.plot(\n",
    "    mpi_std.month,\n",
    "    mpi_std[var_name].mean(\"member\") + mpi_std[var_name].std(\"member\"),\n",
    "    c=\"k\",\n",
    ")\n",
    "ax.plot(mpi_std.month, RO_std[var_name].mean(\"member\"))\n",
    "ax.plot(mpi_std.month, RO_std[var_name].mean(\"member\") + RO_std[var_name].std(\"member\"))"
   ]
  }
 ],
 "metadata": {
  "kernelspec": {
   "display_name": "Python 3 (ipykernel)",
   "language": "python",
   "name": "python3"
  },
  "language_info": {
   "codemirror_mode": {
    "name": "ipython",
    "version": 3
   },
   "file_extension": ".py",
   "mimetype": "text/x-python",
   "name": "python",
   "nbconvert_exporter": "python",
   "pygments_lexer": "ipython3",
   "version": "3.13.2"
  }
 },
 "nbformat": 4,
 "nbformat_minor": 5
}
