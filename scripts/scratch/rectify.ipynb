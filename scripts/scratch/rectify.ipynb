{
 "cells": [
  {
   "cell_type": "markdown",
   "id": "27253066-7000-4985-8073-4130bd1fa3a8",
   "metadata": {},
   "source": [
    "# Rectify\n",
    "Does using \"normalized\" mean state improve RO's ability to simulate mean state? Based on this reference:  \n",
    "Huang, P., Chen, Y., Li, J. & Yan, H. \"Redefined background state in the tropical Pacific resolves the entanglement between the background state and ENSO\". *npj Clim Atmos Sci* 7, 147 (2024)."
   ]
  },
  {
   "cell_type": "markdown",
   "id": "b9d3f5a8-3221-4b7e-a328-f8b1365d0ab5",
   "metadata": {},
   "source": [
    "## Imports"
   ]
  },
  {
   "cell_type": "code",
   "execution_count": 1,
   "id": "f9b1dfe2-e1e1-46a4-ab27-b0acefc3ab79",
   "metadata": {},
   "outputs": [],
   "source": [
    "import warnings\n",
    "import datetime\n",
    "import matplotlib\n",
    "import matplotlib.pyplot as plt\n",
    "import matplotlib as mpl\n",
    "import cartopy.crs as ccrs\n",
    "import numpy as np\n",
    "import seaborn as sns\n",
    "import xarray as xr\n",
    "import tqdm\n",
    "import pathlib\n",
    "import cmocean\n",
    "import pandas as pd\n",
    "import os\n",
    "import scipy.stats\n",
    "import copy\n",
    "\n",
    "# Import custom modules\n",
    "from src.XRO import XRO, xcorr\n",
    "import src.utils\n",
    "\n",
    "## set plotting specs\n",
    "sns.set(rc={\"axes.facecolor\": \"white\", \"axes.grid\": False})\n",
    "\n",
    "## bump up DPI\n",
    "mpl.rcParams[\"figure.dpi\"] = 100\n",
    "\n",
    "## get filepaths\n",
    "DATA_FP = pathlib.Path(os.environ[\"DATA_FP\"])\n",
    "SAVE_FP = pathlib.Path(os.environ[\"SAVE_FP\"])"
   ]
  },
  {
   "cell_type": "markdown",
   "id": "604fd266-58e7-4650-8661-d4f85b62526d",
   "metadata": {},
   "source": [
    "## Functions"
   ]
  },
  {
   "cell_type": "code",
   "execution_count": 2,
   "id": "b0df7b3f-e4ef-4686-9bcd-b0ed1a8e60d3",
   "metadata": {},
   "outputs": [],
   "source": [
    "def plot_pdf(ax, x, edges, **plot_kwargs):\n",
    "    \"\"\"Plot empirical PDF on given ax for specified data (x),\n",
    "    using specified edges for histogram\"\"\"\n",
    "\n",
    "    ## compute pdf, skewness, and gaussian best fit\n",
    "    pdf, _ = src.utils.get_empirical_pdf(x, edges=edges)\n",
    "    skew = scipy.stats.skew(x)\n",
    "    pdf_gauss, pdf_gauss_pts = src.utils.get_gaussian_best_fit(x)\n",
    "\n",
    "    ## plot pdf\n",
    "    ax.stairs(pdf, edges, lw=1.5, label=f\"skew = {skew:.2f}\", **plot_kwargs)\n",
    "\n",
    "    ## plot gaussian best fit\n",
    "    ax.plot(pdf_gauss_pts, pdf_gauss, c=\"k\", lw=1)\n",
    "\n",
    "    ## label and hide yticks\n",
    "    ax.legend(prop=dict(size=8))\n",
    "    ax.set_yticks([])\n",
    "\n",
    "    return ax\n",
    "\n",
    "\n",
    "def label_ac_ax(ax):\n",
    "    \"\"\"add labels to growth rate annual cycle plot (ax object)\"\"\"\n",
    "\n",
    "    ax.set_ylabel(r\"Growth rate (yr$^{-1}$)\")\n",
    "    ax.axhline(0, c=\"k\", ls=\"-\", lw=0.5)\n",
    "    ax.set_xticks([1, 8, 12], labels=[\"Jan\", \"Aug\", \"Dec\"])\n",
    "\n",
    "    return"
   ]
  },
  {
   "cell_type": "markdown",
   "id": "92de1770-d8dc-4e3f-bf47-7f428b369cad",
   "metadata": {},
   "source": [
    "## Load data"
   ]
  },
  {
   "cell_type": "code",
   "execution_count": 3,
   "id": "f3fdf648-2e20-4638-ad67-9c02ab4b462c",
   "metadata": {},
   "outputs": [],
   "source": [
    "## ORAS5 reanalysis (use as benchmark)\n",
    "oras_load_fp = pathlib.Path(DATA_FP, \"XRO_indices_oras5.nc\")\n",
    "Th_oras = xr.open_dataset(oras_load_fp)\n",
    "\n",
    "## rename variables for consistency and trim so time periods covered are the same\n",
    "Th_oras = Th_oras[[\"Nino34\", \"WWV\"]].rename({\"Nino34\": \"T\", \"WWV\": \"h\"})\n",
    "\n",
    "## non-dimensionalize\n",
    "normalize = lambda x: x / x.std()\n",
    "for n in [\"T\", \"h\"]:\n",
    "    Th_oras[f\"{n}_norm\"] = normalize(Th_oras[n])"
   ]
  },
  {
   "cell_type": "markdown",
   "id": "de3abe2b-d473-4837-b71b-0c7974b5c148",
   "metadata": {},
   "source": [
    "## PDFs"
   ]
  },
  {
   "cell_type": "code",
   "execution_count": 4,
   "id": "6db82387-a140-490d-a610-1a92071fb064",
   "metadata": {},
   "outputs": [
    {
     "data": {
      "image/png": "[encoded data removed]",
      "text/plain": [
       "<Figure size 500x200 with 2 Axes>"
      ]
     },
     "metadata": {},
     "output_type": "display_data"
    }
   ],
   "source": [
    "fig, axs = plt.subplots(1, 2, figsize=(5, 2), layout=\"constrained\")\n",
    "\n",
    "## plot data\n",
    "colors = sns.color_palette()[:2]\n",
    "ax0 = plot_pdf(\n",
    "    axs[0], Th_oras[\"T\"].values, edges=np.arange(-3.4, 3.8, 0.4), color=colors[0]\n",
    ")\n",
    "ax1 = plot_pdf(\n",
    "    axs[1], Th_oras[\"h\"].values, edges=np.arange(-30, 32, 4), color=colors[1]\n",
    ")\n",
    "\n",
    "## label\n",
    "ax0.set_title(r\"$T$\")\n",
    "ax1.set_title(r\"$h$\")\n",
    "ax0.set_ylabel(\"Prob. density\")\n",
    "plt.show()"
   ]
  },
  {
   "cell_type": "markdown",
   "id": "3e3567ba-8ac3-4526-8ddd-8e413e8004b3",
   "metadata": {},
   "source": [
    "## Fit RO model"
   ]
  },
  {
   "cell_type": "code",
   "execution_count": 5,
   "id": "3e78b8d5-d8ed-458a-a0fd-6c0efe45184f",
   "metadata": {},
   "outputs": [
    {
     "name": "stderr",
     "output_type": "stream",
     "text": [
      "/Users/theo/research/enso2025_xro/envs/lib/python3.13/site-packages/xarray/core/computation.py:824: RuntimeWarning: invalid value encountered in power\n",
      "  result_data = func(*input_data)\n"
     ]
    }
   ],
   "source": [
    "## specify order of annual cycle\n",
    "ac_order = 3\n",
    "\n",
    "## specify which parameters to mask annual cycle out for [(y_idx0, x_idx0), ...]\n",
    "ac_mask_idx = [(1, 1)]\n",
    "\n",
    "# ## pull out variables for convenience\n",
    "# T = copy.deepcopy(Th_oras[\"T_norm\"])\n",
    "# h = copy.deepclpy\n",
    "\n",
    "## initialize model\n",
    "model = XRO(ncycle=12, ac_order=ac_order, is_forward=True)\n",
    "\n",
    "## get fit for reanalysis\n",
    "fit = model.fit_matrix(Th_oras[[\"T_norm\", \"h_norm\"]], ac_mask_idx=ac_mask_idx)"
   ]
  },
  {
   "cell_type": "markdown",
   "id": "868b225c-2430-48cb-823a-bbec820ec998",
   "metadata": {},
   "source": [
    "## Plot RO parameters"
   ]
  },
  {
   "cell_type": "code",
   "execution_count": 6,
   "id": "f43db6f1-6cc2-419d-8a90-00e21626231f",
   "metadata": {},
   "outputs": [
    {
     "data": {
      "image/png": "[encoded data removed]",
      "text/plain": [
       "<Figure size 500x400 with 4 Axes>"
      ]
     },
     "metadata": {},
     "output_type": "display_data"
    }
   ],
   "source": [
    "## Get parameters for ORAS and MPI\n",
    "params = model.get_RO_parameters(fit).rename({\"cycle\": \"month\"})\n",
    "\n",
    "## get labels of parameters for plotting\n",
    "labels = [r\"$R$\", r\"$F_1$\", r\"$F_2$\", r\"$\\epsilon$\"]\n",
    "var_names = [\"R\", \"F1\", \"F2\", \"epsilon\"]\n",
    "\n",
    "## set up plot\n",
    "fig, axs = plt.subplots(2, 2, figsize=(5, 4), layout=\"constrained\")\n",
    "\n",
    "## separate plo for each set of parameters\n",
    "for i, (ax, label, n) in enumerate(zip(axs.flatten(), labels, var_names)):\n",
    "\n",
    "    ### plot seasonal cycle parameter for each\n",
    "    plot_kwargs = dict(c=\"k\", ls=\"-\", lw=2, label=\"ORAS\")\n",
    "    ax.plot(params.month, params[n], **plot_kwargs)\n",
    "    ax.set_title(label)\n",
    "    ax.set_ylim([-3, 5])\n",
    "    label_ac_ax(ax)\n",
    "\n",
    "## make plot less clustered\n",
    "for ax in axs[0, :]:\n",
    "    ax.set_xlabel(None)\n",
    "    ax.set_xticks([])\n",
    "for ax in axs[:, 1]:\n",
    "    ax.set_ylabel(None)\n",
    "    ax.set_yticks([])\n",
    "for ax in axs[:, 0]:\n",
    "    ax.set_yticks([-2, 0, 2, 4])\n",
    "\n",
    "axs[0, 0].legend(prop=dict(size=8))\n",
    "plt.show()"
   ]
  },
  {
   "cell_type": "markdown",
   "id": "93ea9d5e-c0a1-4ede-b5a4-79dfc789be21",
   "metadata": {},
   "source": [
    "## Look at residuals"
   ]
  },
  {
   "cell_type": "markdown",
   "id": "3165e048-beca-4a50-b19f-bfeef84b7b3f",
   "metadata": {},
   "source": [
    "### Compute actual/predicted time derivative"
   ]
  },
  {
   "cell_type": "code",
   "execution_count": 7,
   "id": "042e8995-bca4-4f98-87a2-dc96244615c1",
   "metadata": {},
   "outputs": [],
   "source": [
    "## compute time derivatives for T and h\n",
    "Th_np = src.XRO._convert_to_numpy(Th_oras[[\"T_norm\", \"h_norm\"]])\n",
    "dx_dt = src.XRO.gradient(Th_np)\n",
    "\n",
    "## add to dataset\n",
    "Th_oras = Th_oras.assign(dict(dT_dt=(\"time\", dx_dt[0]), dh_dt=(\"time\", dx_dt[1])))\n",
    "\n",
    "## compute terms in RO\n",
    "T = copy.deepcopy(Th_oras[\"T_norm\"])\n",
    "h = copy.deepcopy(Th_oras[\"h_norm\"])\n",
    "\n",
    "RT = params[\"R\"] * T.groupby(\"time.month\")\n",
    "F1h = params[\"F1\"] * h.groupby(\"time.month\")\n",
    "F2T = params[\"F2\"] * T.groupby(\"time.month\")\n",
    "eh = params[\"epsilon\"] * T.groupby(\"time.month\")\n",
    "\n",
    "# put in xarray\n",
    "Th_oras = Th_oras.assign(\n",
    "    dict(\n",
    "        RT=(\"time\", RT.data),\n",
    "        F1h=(\"time\", F1h.data),\n",
    "        F2T=(\"time\", F2T.data),\n",
    "        eh=(\"time\", eh.data),\n",
    "    )\n",
    ")"
   ]
  },
  {
   "cell_type": "markdown",
   "id": "e8498671-c1a4-4e08-af97-48b0a0d5b9e0",
   "metadata": {},
   "source": [
    "### Compute and plot residuals"
   ]
  },
  {
   "cell_type": "code",
   "execution_count": 12,
   "id": "1502a7b1-2e7c-46c0-96c0-2eed3f9e79e3",
   "metadata": {},
   "outputs": [
    {
     "data": {
      "image/png": "[encoded data removed]",
      "text/plain": [
       "<Figure size 400x300 with 1 Axes>"
      ]
     },
     "metadata": {},
     "output_type": "display_data"
    }
   ],
   "source": [
    "## compute residual\n",
    "dTdt_res = Th_oras[\"dT_dt\"] - Th_oras[\"F1h\"]\n",
    "\n",
    "## specify month for plotting\n",
    "m = 9\n",
    "\n",
    "## function to select month\n",
    "selmon = lambda x, m: x.sel(time=(x.time.dt.month == m))\n",
    "\n",
    "## set up plot\n",
    "fig, ax = plt.subplots(figsize=(4, 3))\n",
    "\n",
    "## plot data\n",
    "ax.scatter(selmon(Th_oras[\"T_norm\"], m=m), selmon(dTdt_res, m=m))\n",
    "\n",
    "## plot best fit line\n",
    "T_test = np.linspace(-2, 2.5)\n",
    "ax.plot(T_test, params[\"R\"].sel(month=m).values.item() * T_test, c=\"k\", lw=1)\n",
    "\n",
    "## label\n",
    "ax.axvline(0, c=\"k\", lw=0.5)\n",
    "ax.axhline(0, c=\"k\", lw=0.5)\n",
    "\n",
    "plt.show()"
   ]
  }
 ],
 "metadata": {
  "kernelspec": {
   "display_name": "Python 3 (ipykernel)",
   "language": "python",
   "name": "python3"
  },
  "language_info": {
   "codemirror_mode": {
    "name": "ipython",
    "version": 3
   },
   "file_extension": ".py",
   "mimetype": "text/x-python",
   "name": "python",
   "nbconvert_exporter": "python",
   "pygments_lexer": "ipython3",
   "version": "3.13.2"
  }
 },
 "nbformat": 4,
 "nbformat_minor": 5
}
