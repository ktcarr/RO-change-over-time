{
 "cells": [
  {
   "cell_type": "markdown",
   "id": "27253066-7000-4985-8073-4130bd1fa3a8",
   "metadata": {},
   "source": [
    "# Rectify\n",
    "Does using \"normalized\" mean state improve RO's ability to simulate mean state? Based on this reference:  \n",
    "Huang, P., Chen, Y., Li, J. & Yan, H. \"Redefined background state in the tropical Pacific resolves the entanglement between the background state and ENSO\". *npj Clim Atmos Sci* 7, 147 (2024)."
   ]
  },
  {
   "cell_type": "markdown",
   "id": "b9d3f5a8-3221-4b7e-a328-f8b1365d0ab5",
   "metadata": {},
   "source": [
    "## Imports"
   ]
  },
  {
   "cell_type": "code",
   "execution_count": 1,
   "id": "f9b1dfe2-e1e1-46a4-ab27-b0acefc3ab79",
   "metadata": {},
   "outputs": [],
   "source": [
    "import warnings\n",
    "import datetime\n",
    "import matplotlib\n",
    "import matplotlib.pyplot as plt\n",
    "import matplotlib as mpl\n",
    "import cartopy.crs as ccrs\n",
    "import numpy as np\n",
    "import seaborn as sns\n",
    "import xarray as xr\n",
    "import tqdm\n",
    "import pathlib\n",
    "import cmocean\n",
    "import pandas as pd\n",
    "import os\n",
    "import scipy.stats\n",
    "\n",
    "# Import custom modules\n",
    "from src.XRO import XRO, xcorr\n",
    "import src.utils\n",
    "\n",
    "## set plotting specs\n",
    "sns.set(rc={\"axes.facecolor\": \"white\", \"axes.grid\": False})\n",
    "\n",
    "## bump up DPI\n",
    "mpl.rcParams[\"figure.dpi\"] = 100\n",
    "\n",
    "## get filepaths\n",
    "DATA_FP = pathlib.Path(os.environ[\"DATA_FP\"])\n",
    "SAVE_FP = pathlib.Path(os.environ[\"SAVE_FP\"])"
   ]
  },
  {
   "cell_type": "markdown",
   "id": "604fd266-58e7-4650-8661-d4f85b62526d",
   "metadata": {},
   "source": [
    "## Functions"
   ]
  },
  {
   "cell_type": "code",
   "execution_count": 2,
   "id": "b0df7b3f-e4ef-4686-9bcd-b0ed1a8e60d3",
   "metadata": {},
   "outputs": [],
   "source": [
    "def plot_pdf(ax, x, edges, **plot_kwargs):\n",
    "    \"\"\"Plot empirical PDF on given ax for specified data (x),\n",
    "    using specified edges for histogram\"\"\"\n",
    "\n",
    "    ## compute pdf, skewness, and gaussian best fit\n",
    "    pdf, _ = src.utils.get_empirical_pdf(x, edges=edges)\n",
    "    skew = scipy.stats.skew(x)\n",
    "    pdf_gauss, pdf_gauss_pts = src.utils.get_gaussian_best_fit(x)\n",
    "\n",
    "    ## plot pdf\n",
    "    ax.stairs(pdf, edges, lw=1.5, label=f\"skew = {skew:.2f}\", **plot_kwargs)\n",
    "\n",
    "    ## plot gaussian best fit\n",
    "    ax.plot(pdf_gauss_pts, pdf_gauss, c=\"k\", lw=1)\n",
    "\n",
    "    ## label and hide yticks\n",
    "    ax.legend(prop=dict(size=8))\n",
    "    ax.set_yticks([])\n",
    "\n",
    "    return ax"
   ]
  },
  {
   "cell_type": "markdown",
   "id": "92de1770-d8dc-4e3f-bf47-7f428b369cad",
   "metadata": {},
   "source": [
    "## Load data"
   ]
  },
  {
   "cell_type": "code",
   "execution_count": 3,
   "id": "f3fdf648-2e20-4638-ad67-9c02ab4b462c",
   "metadata": {},
   "outputs": [],
   "source": [
    "## ORAS5 reanalysis (use as benchmark)\n",
    "oras_load_fp = pathlib.Path(DATA_FP, \"XRO_indices_oras5.nc\")\n",
    "Th_oras = xr.open_dataset(oras_load_fp)\n",
    "\n",
    "## rename variables for consistency and trim so time periods covered are the same\n",
    "Th_oras = Th_oras[[\"Nino34\", \"WWV\"]].rename({\"Nino34\": \"T\", \"WWV\": \"h\"})"
   ]
  },
  {
   "cell_type": "markdown",
   "id": "de3abe2b-d473-4837-b71b-0c7974b5c148",
   "metadata": {},
   "source": [
    "## PDFs"
   ]
  },
  {
   "cell_type": "code",
   "execution_count": 4,
   "id": "6db82387-a140-490d-a610-1a92071fb064",
   "metadata": {},
   "outputs": [
    {
     "data": {
      "image/png": "[encoded data removed]",
      "text/plain": [
       "<Figure size 500x200 with 2 Axes>"
      ]
     },
     "metadata": {},
     "output_type": "display_data"
    }
   ],
   "source": [
    "fig, axs = plt.subplots(1, 2, figsize=(5, 2), layout=\"constrained\")\n",
    "\n",
    "## plot data\n",
    "colors = sns.color_palette()[:2]\n",
    "ax0 = plot_pdf(\n",
    "    axs[0], Th_oras[\"T\"].values, edges=np.arange(-3.4, 3.8, 0.4), color=colors[0]\n",
    ")\n",
    "ax1 = plot_pdf(\n",
    "    axs[1], Th_oras[\"h\"].values, edges=np.arange(-30, 32, 4), color=colors[1]\n",
    ")\n",
    "\n",
    "## label\n",
    "ax0.set_title(r\"$T$\")\n",
    "ax1.set_title(r\"$h$\")\n",
    "ax0.set_ylabel(\"Prob. density\")\n",
    "plt.show()"
   ]
  }
 ],
 "metadata": {
  "kernelspec": {
   "display_name": "Python 3 (ipykernel)",
   "language": "python",
   "name": "python3"
  },
  "language_info": {
   "codemirror_mode": {
    "name": "ipython",
    "version": 3
   },
   "file_extension": ".py",
   "mimetype": "text/x-python",
   "name": "python",
   "nbconvert_exporter": "python",
   "pygments_lexer": "ipython3",
   "version": "3.13.2"
  }
 },
 "nbformat": 4,
 "nbformat_minor": 5
}
