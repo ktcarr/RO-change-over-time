{
 "cells": [
  {
   "cell_type": "code",
   "execution_count": null,
   "id": "478e27e3-357c-4efc-893c-d2384b65a042",
   "metadata": {},
   "outputs": [],
   "source": [
    "import numpy as np\n",
    "import matplotlib.pyplot as plt\n",
    "import seaborn as sns\n",
    "\n",
    "rng = np.random.default_rng()"
   ]
  },
  {
   "cell_type": "markdown",
   "id": "1a359a67-9113-4f1c-9db3-7dfc8307c81f",
   "metadata": {},
   "source": [
    "# noise"
   ]
  },
  {
   "cell_type": "markdown",
   "id": "62758602-b6ef-42f9-b79f-61244309cb55",
   "metadata": {},
   "source": [
    "#### Fourier decomp of time-varying matrix"
   ]
  },
  {
   "cell_type": "code",
   "execution_count": null,
   "id": "80b4331d-f280-42b1-ba45-20def2f7383c",
   "metadata": {},
   "outputs": [],
   "source": [
    "## fourier coeffs\n",
    "C0, Cs1, Cc1, Cs2, Cc2 = [rng.normal(size=(2, 2)) for _ in range(5)]"
   ]
  },
  {
   "cell_type": "code",
   "execution_count": null,
   "id": "8fb0fdf8-87b0-496e-acce-a8a4359b84a7",
   "metadata": {},
   "outputs": [],
   "source": [
    "def C(t):\n",
    "    \"\"\"time-varying covariance matrix\"\"\"\n",
    "\n",
    "    ## get angle\n",
    "    theta = (t / 12) * 2 * np.pi\n",
    "\n",
    "    ## eval sin/cos\n",
    "    sin = np.sin(theta)\n",
    "    cos = np.cos(theta)\n",
    "\n",
    "    sin2 = np.sin(2 * theta)\n",
    "    cos2 = np.cos(2 * theta)\n",
    "\n",
    "    ## reconstruct\n",
    "    return C0 + 0.5 * (sin * Cs1 + cos * Cc1) + 0.2 * (sin2 * Cs2 + cos2 * Cc2)\n",
    "\n",
    "\n",
    "def C_eval(t_arr):\n",
    "    \"\"\"evaluate C at specified times\"\"\"\n",
    "    return np.stack([C(t_) for t_ in t], axis=0)"
   ]
  },
  {
   "cell_type": "code",
   "execution_count": null,
   "id": "3f2749a1-cc86-4126-985a-21dc1270a874",
   "metadata": {},
   "outputs": [],
   "source": [
    "## eval. cyclostationary covariance\n",
    "t = np.arange(12)\n",
    "C_ = C_eval(t)\n",
    "\n",
    "## do FFT\n",
    "Chat = np.fft.fft(C_, axis=0)\n",
    "omega = 2 * np.pi * np.fft.fftfreq(12)\n",
    "\n",
    "\n",
    "def C_recon(t):\n",
    "    return 1 / 12 * np.einsum(\"fij,f\", Chat, np.exp(1j * omega * t)).real\n",
    "\n",
    "\n",
    "def dCdt_recon(t):\n",
    "    return 1 / 12 * np.einsum(\"fij,f\", Chat, np.exp(1j * omega * t) * 1j * omega).real\n",
    "\n",
    "\n",
    "print(np.allclose(C_recon(2.97), C(2.97)))"
   ]
  },
  {
   "cell_type": "code",
   "execution_count": null,
   "id": "3677d5b5-27b1-4fe4-ac8b-e956a3f82d7b",
   "metadata": {},
   "outputs": [],
   "source": [
    "## index to plot\n",
    "j, i = (0, 0)\n",
    "\n",
    "## compute matrices\n",
    "t = np.linspace(0, 12)\n",
    "dCdt_ = np.array([dCdt_recon(t_) for t_ in t])\n",
    "C_ = np.array([C_recon(t_) for t_ in t])\n",
    "dCdt_est = (C_[2:] - C_[:-2]) / (t[2] - t[0])\n",
    "\n",
    "## plot results\n",
    "fig, ax = plt.subplots(figsize=(4, 3))\n",
    "ax.plot(t, C_[:, j, i])\n",
    "ax.plot(t, dCdt_[:, j, i])\n",
    "ax.plot(t[1:-1], dCdt_est[:, j, i], ls=\"--\")"
   ]
  }
 ],
 "metadata": {
  "kernelspec": {
   "display_name": "Python 3 (ipykernel)",
   "language": "python",
   "name": "python3"
  },
  "language_info": {
   "codemirror_mode": {
    "name": "ipython",
    "version": 3
   },
   "file_extension": ".py",
   "mimetype": "text/x-python",
   "name": "python",
   "nbconvert_exporter": "python",
   "pygments_lexer": "ipython3",
   "version": "3.13.3"
  }
 },
 "nbformat": 4,
 "nbformat_minor": 5
}
