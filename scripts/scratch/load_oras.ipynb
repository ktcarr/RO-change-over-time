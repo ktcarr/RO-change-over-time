{
 "cells": [
  {
   "cell_type": "markdown",
   "id": "8c6d78d7-d749-4bc5-98fe-3fcc43d40edd",
   "metadata": {},
   "source": [
    "## Imports"
   ]
  },
  {
   "cell_type": "code",
   "execution_count": 1,
   "id": "84b2a348-da69-4aa6-a05d-fcb1a6c357d6",
   "metadata": {},
   "outputs": [],
   "source": [
    "import warnings\n",
    "import datetime\n",
    "import matplotlib\n",
    "import matplotlib.pyplot as plt\n",
    "import matplotlib as mpl\n",
    "import cartopy.crs as ccrs\n",
    "import numpy as np\n",
    "import seaborn as sns\n",
    "import xarray as xr\n",
    "import tqdm\n",
    "import pathlib\n",
    "import cmocean\n",
    "import pandas as pd\n",
    "import os\n",
    "import scipy.stats\n",
    "\n",
    "# import cartopy.util\n",
    "\n",
    "# Import custom modules\n",
    "from src.XRO import XRO, xcorr\n",
    "import src.XRO_utils\n",
    "import src.utils\n",
    "\n",
    "## set plotting specs\n",
    "sns.set(rc={\"axes.facecolor\": \"white\", \"axes.grid\": False})\n",
    "\n",
    "## bump up DPI\n",
    "mpl.rcParams[\"figure.dpi\"] = 100\n",
    "\n",
    "## get filepaths\n",
    "DATA_FP = pathlib.Path(os.environ[\"DATA_FP\"])\n",
    "SAVE_FP = pathlib.Path(os.environ[\"SAVE_FP\"])"
   ]
  },
  {
   "cell_type": "markdown",
   "id": "39981047-c18c-482a-b6fb-a49f1df3afe6",
   "metadata": {},
   "source": [
    "## Load data"
   ]
  },
  {
   "cell_type": "code",
   "execution_count": 2,
   "id": "3c1ed9a3-0f2c-4f67-a2e6-d0c89d8490d6",
   "metadata": {},
   "outputs": [],
   "source": [
    "## specify filepaths\n",
    "oras_fp = DATA_FP / \"oras5\"\n",
    "sst_fp1 = oras_fp / \"sst\"\n",
    "ssh_fp1 = oras_fp / \"ssh\"\n",
    "\n",
    "## alternates\n",
    "sst_fp2 = oras_fp / \"tos_control_monthly_highres_2D_1958-2020_CONS_v0.1.nc\"\n",
    "ssh_fp2 = oras_fp / \"ssh_control_monthly_highres_2D_1958-2020_CONS_v0.1_global.nc\"\n",
    "\n",
    "## load data\n",
    "data1 = src.utils.load_oras_spatial(sst_fp1, ssh_fp1)\n",
    "data2 = src.utils.load_oras_spatial(sst_fp2, ssh_fp2, extended_record=True)"
   ]
  },
  {
   "cell_type": "markdown",
   "id": "63e4630f-1c94-4f55-a350-737da6a4dd71",
   "metadata": {},
   "source": [
    "#### check they're close..."
   ]
  },
  {
   "cell_type": "code",
   "execution_count": 3,
   "id": "954688f0-8ca1-4391-93e9-da215bfd050e",
   "metadata": {},
   "outputs": [
    {
     "name": "stdout",
     "output_type": "stream",
     "text": [
      "3.62e-05\n",
      "8.43e-06\n"
     ]
    }
   ],
   "source": [
    "diff = lambda n: np.max(np.abs(data1[n] - data2[n])).values.item()\n",
    "print(f\"{diff(\"sst\"):.2e}\")\n",
    "print(f\"{diff(\"ssh\"):.2e}\")"
   ]
  }
 ],
 "metadata": {
  "kernelspec": {
   "display_name": "Python 3 (ipykernel)",
   "language": "python",
   "name": "python3"
  },
  "language_info": {
   "codemirror_mode": {
    "name": "ipython",
    "version": 3
   },
   "file_extension": ".py",
   "mimetype": "text/x-python",
   "name": "python",
   "nbconvert_exporter": "python",
   "pygments_lexer": "ipython3",
   "version": "3.13.3"
  }
 },
 "nbformat": 4,
 "nbformat_minor": 5
}
