{
 "cells": [
  {
   "cell_type": "code",
   "execution_count": 1,
   "id": "1da56cd6-ef0b-4cef-99f7-32dcafed05c1",
   "metadata": {},
   "outputs": [],
   "source": [
    "import matplotlib.pyplot as plt\n",
    "import matplotlib as mpl\n",
    "import numpy as np\n",
    "import seaborn as sns\n",
    "import cmocean\n",
    "\n",
    "## set plotting specs\n",
    "sns.set(rc={\"axes.facecolor\": \"white\", \"axes.grid\": False})\n",
    "\n",
    "## bump up DPI\n",
    "mpl.rcParams[\"figure.dpi\"] = 100"
   ]
  },
  {
   "cell_type": "code",
   "execution_count": 7,
   "id": "4ec0a97a-e8f7-4790-b94b-49f151801b3a",
   "metadata": {},
   "outputs": [],
   "source": [
    "def Te_struct(h, dT, dz, ds):\n",
    "    \"\"\"structure of thermocline\"\"\"\n",
    "    ds_nondim = (h - ds) / dz\n",
    "    # print(dT * np.tanh(ds_nondim))\n",
    "    return dT * np.tanh(ds_nondim)\n",
    "\n",
    "\n",
    "def get_Te(h=np.linspace(40, 60), dT=10, dz1=5, ds=50, k=1 / 2):\n",
    "    \"\"\"return function to get entrainment temperature as a function of thermocline depth\"\"\"\n",
    "\n",
    "    ## get anomaly at depth\n",
    "    dT1 = dT / 50 * dz1\n",
    "\n",
    "    ## get structure of top of thermocline\n",
    "    dT2 = dT1 * k\n",
    "    dz2 = dz1 * k\n",
    "\n",
    "    if type(h) in [float, int]:\n",
    "        dT, dz = (dT1, dz1) if (h > ds) else (dT2, dz2)\n",
    "        Te = Te_struct(h, dT, dz, ds)\n",
    "\n",
    "    else:\n",
    "        ## empty array to hold results\n",
    "        Te = np.zeros(len(h), dtype=float)\n",
    "\n",
    "        ## find indices below ds\n",
    "        is_below = h > ds\n",
    "\n",
    "        ## compute Te\n",
    "        Te[is_below] = Te_struct(h[is_below], dT1, dz1, ds)\n",
    "        Te[~is_below] = Te_struct(h[~is_below], dT2, dz2, ds)\n",
    "\n",
    "    return Te"
   ]
  },
  {
   "cell_type": "code",
   "execution_count": 25,
   "id": "d3b1191a-72ef-43e4-94f9-cb43e9af9f8c",
   "metadata": {},
   "outputs": [
    {
     "data": {
      "text/plain": [
       "np.float64(-0.9640275800758169)"
      ]
     },
     "execution_count": 25,
     "metadata": {},
     "output_type": "execute_result"
    }
   ],
   "source": [
    "np.tanh(-2)"
   ]
  },
  {
   "cell_type": "code",
   "execution_count": 28,
   "id": "18ac2183-89c3-47c7-a47b-90763e5f249f",
   "metadata": {},
   "outputs": [
    {
     "data": {
      "text/plain": [
       "array([0.04079368, 0.12184064, 0.20129477, 0.27818549, 0.35166893,\n",
       "       0.42105987, 0.48584895, 0.54570541, 0.60046723, 0.65012212,\n",
       "       0.69478267, 0.73465916, 0.77003273, 0.80123089, 0.82860643,\n",
       "       0.85252036, 0.87332881, 0.89137347, 0.90697526, 0.92043047,\n",
       "       0.9320089 , 0.94195343, 0.95048074, 0.95778257, 0.96402758])"
      ]
     },
     "execution_count": 28,
     "metadata": {},
     "output_type": "execute_result"
    }
   ],
   "source": [
    "Te[h > 50]"
   ]
  },
  {
   "cell_type": "code",
   "execution_count": 23,
   "id": "e09f82e2-3bbd-48df-9aff-20c194154796",
   "metadata": {},
   "outputs": [
    {
     "data": {
      "image/png": "[encoded data removed]",
      "text/plain": [
       "<Figure size 150x300 with 1 Axes>"
      ]
     },
     "metadata": {},
     "output_type": "display_data"
    }
   ],
   "source": [
    "## get h values\n",
    "h = np.linspace(40, 60)\n",
    "\n",
    "## get profiles\n",
    "dT_vals = np.arange(5, 15)\n",
    "Te_profiles = np.stack([get_Te(dT=dT, h=h) for dT in dT_vals], axis=1)\n",
    "\n",
    "## specify dT/dz ratio\n",
    "Te = get_Te(dT=10, h=h)\n",
    "\n",
    "fig, ax = plt.subplots(figsize=(1.5, 3))\n",
    "ax.plot(Te_profiles[:, 0], h, label=f\"$\\\\Delta T=${dT_vals[0]}\")\n",
    "ax.plot(Te_profiles[:, 5], h, label=f\"$\\\\Delta T=${dT_vals[5]}\")\n",
    "ax.plot(Te_profiles[:, -1], h, label=f\"$\\\\Delta T=${dT_vals[-1]}\")\n",
    "ax.axhline(50, ls=\"-\", c=\"k\", lw=0.5, label=r\"$d_s$\")\n",
    "ax.set_ylim(ax.get_ylim()[::-1])\n",
    "ax.axvline(0, ls=\"--\", c=\"k\", lw=0.5)\n",
    "ax.set_xlabel(r\"$T_e$\")\n",
    "ax.set_ylabel(r\"$h$\")\n",
    "ax.legend(prop=dict(size=6))\n",
    "plt.show()"
   ]
  },
  {
   "cell_type": "code",
   "execution_count": 10,
   "id": "05845e85-3231-4c39-92cd-bdb27ce5cffa",
   "metadata": {},
   "outputs": [
    {
     "data": {
      "text/plain": [
       "(50, 10)"
      ]
     },
     "execution_count": 10,
     "metadata": {},
     "output_type": "execute_result"
    }
   ],
   "source": [
    "Te_profiles.shape"
   ]
  }
 ],
 "metadata": {
  "kernelspec": {
   "display_name": "Python 3 (ipykernel)",
   "language": "python",
   "name": "python3"
  },
  "language_info": {
   "codemirror_mode": {
    "name": "ipython",
    "version": 3
   },
   "file_extension": ".py",
   "mimetype": "text/x-python",
   "name": "python",
   "nbconvert_exporter": "python",
   "pygments_lexer": "ipython3",
   "version": "3.13.3"
  }
 },
 "nbformat": 4,
 "nbformat_minor": 5
}
