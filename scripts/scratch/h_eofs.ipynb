{
 "cells": [
  {
   "cell_type": "markdown",
   "id": "597e1a27-e24f-4652-810f-2e88f33276d0",
   "metadata": {},
   "source": [
    "# RO reference\n",
    "Fit RO on observations to get \"ground truth\" behavior"
   ]
  },
  {
   "cell_type": "markdown",
   "id": "c7c7fa21-6df5-4876-925c-a3cb75e71a54",
   "metadata": {},
   "source": [
    "## Imports"
   ]
  },
  {
   "cell_type": "code",
   "execution_count": null,
   "id": "df1ac922-8f5c-4019-9893-e5a8bcf434f0",
   "metadata": {},
   "outputs": [],
   "source": [
    "import warnings\n",
    "import copy\n",
    "import datetime\n",
    "import matplotlib\n",
    "import matplotlib.pyplot as plt\n",
    "import matplotlib as mpl\n",
    "import cartopy.crs as ccrs\n",
    "import numpy as np\n",
    "import seaborn as sns\n",
    "import xarray as xr\n",
    "import tqdm\n",
    "import pathlib\n",
    "import cmocean\n",
    "import pandas as pd\n",
    "import os\n",
    "import scipy.stats\n",
    "\n",
    "# Import custom modules\n",
    "import src.XRO\n",
    "import src.XRO_utils\n",
    "import src.utils\n",
    "\n",
    "## set plotting specs\n",
    "sns.set(rc={\"axes.facecolor\": \"white\", \"axes.grid\": False})\n",
    "\n",
    "## bump up DPI\n",
    "mpl.rcParams[\"figure.dpi\"] = 100\n",
    "\n",
    "## get filepaths\n",
    "DATA_FP = pathlib.Path(os.environ[\"DATA_FP\"])\n",
    "SAVE_FP = pathlib.Path(os.environ[\"SAVE_FP\"])\n",
    "\n",
    "## get RNG\n",
    "rng = np.random.default_rng()"
   ]
  },
  {
   "cell_type": "markdown",
   "id": "f62138e3-f1a9-4c9d-9536-e0290c8b6abd",
   "metadata": {},
   "source": [
    "## Load data"
   ]
  },
  {
   "cell_type": "code",
   "execution_count": null,
   "id": "0c75abc3-d092-4d6d-b226-9622af9f2618",
   "metadata": {},
   "outputs": [],
   "source": [
    "## specify filepaths\n",
    "oras_fp = DATA_FP / \"oras5\"\n",
    "\n",
    "## load data\n",
    "data = src.utils.load_oras_spatial_extended(oras_fp, varnames=[\"tos\", \"d20\"])\n",
    "\n",
    "## compute indices\n",
    "idx_total = src.utils.get_RO_indices(data, h_var=\"d20\")\n",
    "\n",
    "## compute \"wide\" hbar\n",
    "idx_total[\"h_\"] = src.utils.spatial_avg(\n",
    "    data[\"d20\"].sel(longitude=slice(120, 280), latitude=slice(-15, 15))\n",
    ")"
   ]
  },
  {
   "cell_type": "markdown",
   "id": "692d5539-8130-4f46-bd98-bc5b2d09aea8",
   "metadata": {},
   "source": [
    "## Detrend / pre-process"
   ]
  },
  {
   "cell_type": "code",
   "execution_count": null,
   "id": "cc87f13e-28be-47fd-9bd6-7b303ee92e32",
   "metadata": {},
   "outputs": [],
   "source": [
    "## estimate forced signal by removing 2nd-order polynomial from each calendar month\n",
    "detrend_fn = lambda x: src.utils.detrend_dim(x, dim=\"time\", deg=3)\n",
    "idx = idx_total.groupby(\"time.month\").map(detrend_fn)\n",
    "idx_forced = idx_total - idx\n",
    "\n",
    "## standardize for convenience\n",
    "idx /= idx.std()"
   ]
  },
  {
   "cell_type": "markdown",
   "id": "d9cd5635-cd60-4f5d-b57a-8a0e42c073e5",
   "metadata": {},
   "source": [
    "## Cross correlation stats"
   ]
  },
  {
   "cell_type": "markdown",
   "id": "d1a765ef-b10b-48a6-bdcc-edfdf0320fb1",
   "metadata": {},
   "source": [
    "Plotting function"
   ]
  },
  {
   "cell_type": "code",
   "execution_count": null,
   "id": "34ba43a6-f0ea-4835-9069-02e1c52f9b0e",
   "metadata": {},
   "outputs": [],
   "source": [
    "def format_xcorr_ax(ax):\n",
    "    \"\"\"make xcorr plot look nice\"\"\"\n",
    "\n",
    "    axis_kwargs = dict(c=\"k\", lw=0.5, alpha=0.5)\n",
    "    ax.axhline(0, **axis_kwargs)\n",
    "    ax.axvline(0, **axis_kwargs)\n",
    "    ax.set_ylim([-0.9, 1.1])\n",
    "    ax.set_xlabel(\"Lag (years)\")\n",
    "    ax.set_xticks([-24, -12, 0, 12, 24], labels=[-2, -1, 0, 1, 2])\n",
    "    ax.set_yticks([-0.5, 0, 0.5, 1])\n",
    "    ax.set_ylabel(\"Correlation\")\n",
    "    return"
   ]
  },
  {
   "cell_type": "markdown",
   "id": "20f66150-10ec-4af0-8d55-0f3f483a9412",
   "metadata": {},
   "source": [
    "Make the plot"
   ]
  },
  {
   "cell_type": "code",
   "execution_count": null,
   "id": "c6c3864f-ffd9-46e8-8ce9-9702fea10f91",
   "metadata": {},
   "outputs": [],
   "source": [
    "## compute cross-corr\n",
    "xcorr = src.XRO.xcorr(idx, idx[\"T_3\"], maxlags=36)\n",
    "\n",
    "## plot result\n",
    "fig, ax = plt.subplots(figsize=(5, 3.5))\n",
    "\n",
    "## plot data\n",
    "ax.plot(xcorr.lag, xcorr[\"T_3\"], label=r\"$T_3$\", c=\"k\")\n",
    "ax.plot(xcorr.lag, xcorr[\"T_34\"], label=r\"$T_{3.4}$\", c=\"k\", ls=\"--\")\n",
    "ax.plot(xcorr.lag, xcorr[\"h\"], label=r\"$h$\")\n",
    "ax.plot(xcorr.lag, xcorr[\"h_w\"], label=r\"$h_w$\")\n",
    "ax.plot(xcorr.lag, xcorr[\"h_\"], label=r\"$h_{wide}$\")\n",
    "\n",
    "## format plot\n",
    "ax.set_title(\"Corr. with Niño 3\")\n",
    "ax.legend()\n",
    "format_xcorr_ax(ax)\n",
    "\n",
    "plt.show()"
   ]
  },
  {
   "cell_type": "markdown",
   "id": "93348d38-4b72-4629-9de9-527ecd090d63",
   "metadata": {},
   "source": [
    "## Fit RO models"
   ]
  },
  {
   "cell_type": "code",
   "execution_count": null,
   "id": "39a7f537-f562-47e9-bb2c-eecaed29821b",
   "metadata": {},
   "outputs": [],
   "source": [
    "## specify order of annual cycle, mask parameters\n",
    "ac_order = 3\n",
    "ac_mask_idx = [(1, 1)]  # epsilon\n",
    "# ac_mask_idx = [(1,0), (1, 1)] # epsilon and F2\n",
    "# ac_mask_idx = [(0,1),(1,0),(1, 1)] # all except R\n",
    "# ac_mask_idx = None\n",
    "\n",
    "## initialize model\n",
    "model = src.XRO.XRO(ncycle=12, ac_order=ac_order, is_forward=True)\n",
    "\n",
    "## get fit for reanalysis\n",
    "fit_h = model.fit_matrix(idx[[\"T_34\", \"h\"]], ac_mask_idx=ac_mask_idx)\n",
    "fit_hw = model.fit_matrix(idx[[\"T_34\", \"h_\"]], ac_mask_idx=ac_mask_idx)\n",
    "\n",
    "## extract params\n",
    "p_h = model.get_RO_parameters(fit_h)\n",
    "p_hw = model.get_RO_parameters(fit_hw)"
   ]
  },
  {
   "cell_type": "code",
   "execution_count": null,
   "id": "61aa096f-e3bc-4a2b-a607-5722b4b15a81",
   "metadata": {},
   "outputs": [],
   "source": [
    "fig, axs = plt.subplots(1, 2, figsize=(4.5, 2), layout=\"constrained\")\n",
    "\n",
    "for i, (ax, n) in enumerate(zip(axs, [\"R\", \"BJ_ac\"])):\n",
    "    ax.plot(p_h.cycle, p_h[n], label=r\"$h$\")\n",
    "    ax.plot(p_hw.cycle, p_hw[n], label=r\"$h_w$\")\n",
    "\n",
    "    ## format\n",
    "    ax.axhline(0, ls=\"-\", c=\"k\", lw=0.5)\n",
    "    ax.set_xticks([1, 7, 12], labels=[\"Jan\", \"Jul\", \"Dec\"])\n",
    "\n",
    "## plot epsilon values as well\n",
    "kwargs = dict(lw=1, ls=\"--\")\n",
    "axs[0].plot(p_h.cycle, p_h[\"epsilon\"], c=sns.color_palette()[0], **kwargs)\n",
    "axs[0].plot(p_h.cycle, p_hw[\"epsilon\"], c=sns.color_palette()[1], **kwargs)\n",
    "\n",
    "## label\n",
    "axs[1].set_yticks([])\n",
    "axs[0].set_yticks([-4, -2, 0, 2])\n",
    "axs[0].set_title(r\"$R$\")\n",
    "axs[1].set_title(r\"$2\\left(R-\\varepsilon\\right)$\")\n",
    "axs[0].legend(prop=dict(size=8))\n",
    "axs[0].set_ylim([-6, 3])\n",
    "axs[1].set_ylim(0.5 * np.array(axs[0].get_ylim()))\n",
    "\n",
    "plt.show()"
   ]
  },
  {
   "cell_type": "markdown",
   "id": "9156b1e5-b570-4c78-9f1f-214b23b87c44",
   "metadata": {},
   "source": [
    "## check stats "
   ]
  },
  {
   "cell_type": "markdown",
   "id": "b6d21b52-ed30-43e3-9bdc-1618c7584ad5",
   "metadata": {},
   "source": [
    "Generate simulations"
   ]
  },
  {
   "cell_type": "code",
   "execution_count": null,
   "id": "96ffbfc6-6c9c-44e2-bfd0-d04c0ed4ba8d",
   "metadata": {},
   "outputs": [],
   "source": [
    "## specify random IC\n",
    "x0 = idx.isel(time=rng.choice(np.arange(len(idx.time))))\n",
    "\n",
    "## simulation specs\n",
    "simulation_kwargs = dict(\n",
    "    nyear=63,\n",
    "    ncopy=1000,\n",
    "    is_xi_stdac=False,\n",
    ")\n",
    "\n",
    "## do simulations\n",
    "kwargs_h = dict(simulation_kwargs, fit_ds=fit_h, X0_ds=x0[[\"T_34\", \"h\"]])\n",
    "X_h = model.simulate(**kwargs_h)\n",
    "\n",
    "kwargs_hw = dict(simulation_kwargs, fit_ds=fit_hw, X0_ds=x0[[\"T_34\", \"h_\"]])\n",
    "X_hw = model.simulate(**kwargs_hw)"
   ]
  },
  {
   "cell_type": "code",
   "execution_count": null,
   "id": "bdd976eb-e15e-4920-be35-ebc23d8f1669",
   "metadata": {},
   "outputs": [],
   "source": [
    "### Set up plot\n",
    "fig, axs = plt.subplots(1, 2, figsize=(4.5, 2), layout=\"constrained\")\n",
    "\n",
    "## plot RO with h (early period)\n",
    "plot_data_early = src.utils.plot_seasonal_comp(\n",
    "    axs[0],\n",
    "    x0=idx.expand_dims(\"member\"),\n",
    "    x1=X_h,\n",
    "    plot_kwargs0=dict(label=\"ORAS\"),\n",
    "    plot_kwargs1=dict(label=\"RO\"),\n",
    "    varname=\"T_34\",\n",
    "    use_quantile=True,\n",
    ")\n",
    "\n",
    "## plot RO with h (early period)\n",
    "plot_data_early = src.utils.plot_seasonal_comp(\n",
    "    axs[1],\n",
    "    x0=idx.expand_dims(\"member\"),\n",
    "    x1=X_hw,\n",
    "    plot_kwargs0=dict(label=\"ORAS\"),\n",
    "    plot_kwargs1=dict(label=\"RO\"),\n",
    "    varname=\"T_34\",\n",
    "    use_quantile=True,\n",
    ")\n",
    "\n",
    "axs[1].legend(prop=dict(size=8))\n",
    "\n",
    "for ax in axs:\n",
    "    ax.set_ylim([0, 2])\n",
    "\n",
    "plt.show()"
   ]
  },
  {
   "cell_type": "markdown",
   "id": "6641e1e9-e41a-49fe-8de7-5ae7176a950b",
   "metadata": {},
   "source": [
    "## Compute $R$ explicitly"
   ]
  },
  {
   "cell_type": "code",
   "execution_count": null,
   "id": "4fec4d19-ec4c-494c-9dd6-e3de371998c5",
   "metadata": {},
   "outputs": [],
   "source": [
    "## compute gradients\n",
    "grads = src.XRO.gradient(src.XRO._convert_to_numpy(idx))\n",
    "\n",
    "## add to array\n",
    "for i, n in enumerate(list(idx)):\n",
    "    idx.update({f\"{n}_grad\": xr.DataArray(grads[i], coords=dict(time=idx.time))})\n",
    "\n",
    "\n",
    "def get_stats(T_var, h_var, month):\n",
    "    \"\"\"Get statistics needed to compute R\"\"\"\n",
    "\n",
    "    ## indexer\n",
    "    t_idx = dict(time=idx.time.dt.month == month)\n",
    "\n",
    "    ## get subset of array\n",
    "    sel_vars = [T_var, h_var, f\"{T_var}_grad\", f\"{h_var}_grad\"]\n",
    "    names = {\n",
    "        T_var: \"T\",\n",
    "        h_var: \"h\",\n",
    "        f\"{T_var}_grad\": \"T_grad\",\n",
    "        f\"{h_var}_grad\": \"h_grad\",\n",
    "    }\n",
    "    X = idx.isel(t_idx)[sel_vars].rename(names)\n",
    "\n",
    "    ## compute stats\n",
    "    sigma_T = np.std(X[\"T\"].values)\n",
    "    sigma_h = np.std(X[\"h\"].values)\n",
    "    r = scipy.stats.pearsonr(X[\"T\"].values, X[\"h\"].values)[0]\n",
    "\n",
    "    ## compute covariance\n",
    "    TtT = np.mean(X[\"T_grad\"] * X[\"T\"]).values.item() * np.pow(sigma_T, -2)\n",
    "    Tth = (\n",
    "        np.mean(X[\"T_grad\"] * X[\"h\"]).values.item()\n",
    "        * np.pow(sigma_T, -1)\n",
    "        * np.pow(sigma_h, -1)\n",
    "    )\n",
    "\n",
    "    return dict(r=r, TtT=TtT, Tth=Tth)\n",
    "\n",
    "\n",
    "def get_R(T_var, h_var, month):\n",
    "    \"\"\"function to compute estimate of R for given variables and month\"\"\"\n",
    "\n",
    "    ## compute stats\n",
    "    stats = get_stats(T_var=T_var, h_var=h_var, month=month)\n",
    "    r = stats[\"r\"]\n",
    "    TtT = stats[\"TtT\"]\n",
    "    Tth = stats[\"Tth\"]\n",
    "\n",
    "    ## compute estimate for R\n",
    "    Rhat = 1 / (1 - r**2) * (TtT - r * Tth)\n",
    "\n",
    "    return Rhat"
   ]
  },
  {
   "cell_type": "markdown",
   "id": "fd8a0090-d169-46d7-ad6a-a1aeeca587bc",
   "metadata": {},
   "source": [
    "\\begin{align}\n",
    "    R &= \\frac{\\sigma_T^{-1}}{1-r^2}\\left[\\left<T_t,\\tilde{T}\\right> - r\\left<T_t,\\tilde{h}\\right>\\right]\n",
    "\\end{align}"
   ]
  },
  {
   "cell_type": "code",
   "execution_count": null,
   "id": "25dc41ed-2d02-44fa-a6b5-e36532888cfe",
   "metadata": {},
   "outputs": [],
   "source": [
    "#### compute\n",
    "## kwargs\n",
    "kwargs_h = dict(T_var=\"T_34\", h_var=\"h\")\n",
    "kwargs_hw = dict(T_var=\"T_34\", h_var=\"h_\")\n",
    "\n",
    "## compute estimates\n",
    "Rhats_h = np.array([get_R(month=m, **kwargs_h) for m in np.arange(1, 13)])\n",
    "Rhats_hw = np.array([get_R(month=m, **kwargs_hw) for m in np.arange(1, 13)])\n",
    "\n",
    "\n",
    "#### plot\n",
    "colors = sns.color_palette()\n",
    "fig, ax = plt.subplots(figsize=(4, 3))\n",
    "\n",
    "## plot first version\n",
    "ax.plot(p_h.cycle, Rhats_h, c=colors[0], ls=\"--\")\n",
    "ax.plot(p_h.cycle, p_h[\"R\"], c=colors[0], label=r\"$h$\")\n",
    "\n",
    "## plot second version\n",
    "ax.plot(p_h.cycle, Rhats_hw, c=colors[1], ls=\"--\")\n",
    "ax.plot(p_h.cycle, p_hw[\"R\"], c=colors[1], label=r\"$h_w$\")\n",
    "\n",
    "## label\n",
    "ax.legend(prop=dict(size=8))\n",
    "ax.axhline(0, lw=1, c=\"k\", zorder=0.5)\n",
    "\n",
    "plt.show()"
   ]
  },
  {
   "cell_type": "markdown",
   "id": "3530b6af-d4fc-4396-ade5-32a62b517f3f",
   "metadata": {},
   "source": [
    "## Scatter plots"
   ]
  },
  {
   "cell_type": "markdown",
   "id": "4f6f0b08-821f-407a-b9b0-7916827db6bd",
   "metadata": {},
   "source": [
    "Look at relationship between $T_e$ and $\\overline{h}-h_w$"
   ]
  },
  {
   "cell_type": "code",
   "execution_count": null,
   "id": "5ca30886-b6ac-4169-8c23-64ff13fe8e1c",
   "metadata": {},
   "outputs": [],
   "source": [
    "m = 10\n",
    "t_idx = dict(time=idx.time.dt.month == m)\n",
    "\n",
    "fig, ax = plt.subplots(figsize=(3, 3))\n",
    "ax.scatter(\n",
    "    # idx[\"h\"].isel(t_idx) - idx[\"h_w\"].isel(t_idx),\n",
    "    # idx[\"T_3\"].isel(t_idx),\n",
    "    idx[\"T_34\"].isel(t_idx),\n",
    "    # idx[\"h_\"].isel(t_idx),# - idx[\"h\"].isel(t_idx),\n",
    "    idx[\"h\"].isel(t_idx),\n",
    "    # idx[\"h_\"].isel(t_idx), idx[\"h\"].isel(t_idx)\n",
    ")\n",
    "\n",
    "\n",
    "## label\n",
    "ax.set_ylabel(r\"$\\overline{h}_{wide} - \\overline{h}$\")\n",
    "ax.set_xlabel(r\"$T_e$\")\n",
    "kwargs = dict(c=\"k\", lw=0.8, zorder=0.5)\n",
    "ax.axvline(0, **kwargs)\n",
    "ax.axhline(0, **kwargs)\n",
    "plt.show()"
   ]
  },
  {
   "cell_type": "code",
   "execution_count": null,
   "id": "396afc29-3f2d-42e3-bcf9-97fb448cde74",
   "metadata": {},
   "outputs": [],
   "source": [
    "m = 1\n",
    "t_idx = dict(time=idx.time.dt.month == m)\n",
    "\n",
    "fig, ax = plt.subplots(figsize=(3, 3))\n",
    "ax.scatter(\n",
    "    # idx[\"h\"].isel(t_idx) - idx[\"h_w\"].isel(t_idx),\n",
    "    # idx[\"T_3\"].isel(t_idx),\n",
    "    # idx[\"h_\"].isel(t_idx) - idx[\"h\"].isel(t_idx),\n",
    "    idx[\"T_3\"].isel(t_idx),\n",
    "    idx[\"h\"].isel(t_idx) - idx[\"h_w\"].isel(t_idx),\n",
    ")\n",
    "\n",
    "\n",
    "## label\n",
    "ax.set_ylabel(r\"$\\overline{h}-h_w$\")\n",
    "ax.set_xlabel(r\"$T_e$\")\n",
    "kwargs = dict(c=\"k\", lw=0.8, zorder=0.5)\n",
    "ax.axvline(0, **kwargs)\n",
    "ax.axhline(0, **kwargs)\n",
    "plt.show()"
   ]
  }
 ],
 "metadata": {
  "kernelspec": {
   "display_name": "Python 3 (ipykernel)",
   "language": "python",
   "name": "python3"
  },
  "language_info": {
   "codemirror_mode": {
    "name": "ipython",
    "version": 3
   },
   "file_extension": ".py",
   "mimetype": "text/x-python",
   "name": "python",
   "nbconvert_exporter": "python",
   "pygments_lexer": "ipython3",
   "version": "3.13.3"
  }
 },
 "nbformat": 4,
 "nbformat_minor": 5
}
