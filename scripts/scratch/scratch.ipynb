{
 "cells": [
  {
   "cell_type": "markdown",
   "id": "0c1c631c-a27b-4a71-adef-4b52a86580ac",
   "metadata": {},
   "source": [
    "# Scratch\n",
    "Code scraps which might be useful later..."
   ]
  },
  {
   "cell_type": "markdown",
   "id": "b9a077d9-7449-424f-9641-212ad59dfb43",
   "metadata": {},
   "source": [
    "## Imports"
   ]
  },
  {
   "cell_type": "code",
   "execution_count": null,
   "id": "1601fb6c-2b57-4e92-b2fe-be5daae467af",
   "metadata": {},
   "outputs": [],
   "source": [
    "import importlib.util\n",
    "import subprocess\n",
    "import sys\n",
    "import warnings\n",
    "import datetime\n",
    "import matplotlib\n",
    "import matplotlib.pyplot as plt\n",
    "import numpy as np\n",
    "import seaborn as sns\n",
    "import xarray as xr\n",
    "from climpred import HindcastEnsemble\n",
    "from dateutil.relativedelta import *\n",
    "from matplotlib.ticker import AutoMinorLocator\n",
    "import warnings\n",
    "import tqdm\n",
    "import pathlib\n",
    "import cmocean\n",
    "\n",
    "## set plotting specs\n",
    "sns.set(rc={\"axes.facecolor\": \"white\", \"axes.grid\": False})\n",
    "\n",
    "## bump up DPI\n",
    "import matplotlib as mpl\n",
    "\n",
    "mpl.rcParams[\"figure.dpi\"] = 100\n",
    "\n",
    "# Import necessary modules after ensuring files are available\n",
    "from src.XRO import XRO, xcorr\n",
    "from src.XRO_utils import (\n",
    "    SkewAccessor,\n",
    "    plot_above_below_shading,\n",
    "    plot_fill_between,\n",
    "    pmtm,\n",
    ")\n",
    "\n",
    "print(\"All required libraries are installed and imported successfully!\")"
   ]
  },
  {
   "attachments": {},
   "cell_type": "markdown",
   "id": "8da0328e-f86e-4c37-9673-1f01be51190f",
   "metadata": {},
   "source": [
    "## Observed ENSO properties related to RO\n",
    "\n",
    "Two indices are used to describe the oscillatory behaviour of ENSO. \n",
    " - **$T$**: Sea surface temperature (SST) anomalies averaged over the Niño3.4 region 170°–120° W, 5° S–5° N\n",
    " - **$h$** Thermocline depth anomalies averaged over the equatorial Pacific 120° E–80° W, 5° S–5° N, that is, the WWV index (with a constant factor of the area it covers).\n"
   ]
  },
  {
   "cell_type": "code",
   "execution_count": null,
   "id": "c6d4dcf5-3ac1-4584-9f9b-e3434fc51f9d",
   "metadata": {},
   "outputs": [],
   "source": [
    "# load observed state vectors of XRO: which include ENSO, WWV, and other modes SST indices\n",
    "# the order of variables is important, with first two must be ENSO SST and WWV;\n",
    "obs_file = \"../data/XRO_indices_oras5.nc\"\n",
    "\n",
    "obs_ds = xr.open_dataset(obs_file).sel(time=slice(\"1979-01\", \"2024-12\"))\n",
    "obs_RO_ds = obs_ds[[\"Nino34\", \"WWV\"]]\n",
    "print(obs_RO_ds)"
   ]
  },
  {
   "cell_type": "markdown",
   "id": "806ed9f2-6ccf-48c8-ba63-e4d5f765fef0",
   "metadata": {},
   "source": [
    "### 1 ENSO time series"
   ]
  },
  {
   "cell_type": "code",
   "execution_count": null,
   "id": "2b288079-2cfa-48ef-8393-c662709c931a",
   "metadata": {
    "editable": true,
    "slideshow": {
     "slide_type": ""
    },
    "tags": []
   },
   "outputs": [],
   "source": [
    "fig, ax = plt.subplots(1, 1, figsize=(6, 4))\n",
    "\n",
    "plot_above_below_shading(\n",
    "    obs_RO_ds[\"Nino34\"],\n",
    "    xtime=obs_RO_ds.time,\n",
    "    c=\"black\",\n",
    "    lw=0.5,\n",
    "    above=0.5,\n",
    "    above_c=\"orangered\",\n",
    "    below=-0.5,\n",
    "    below_c=\"deepskyblue\",\n",
    "    ax=ax,\n",
    ")\n",
    "# obs_RO_ds['Nino34'].plot(ax=ax, c='black', )\n",
    "ax.set_ylim([-3, 3])\n",
    "ax.set_ylabel(\"Nino34 SSTA [degC]\")\n",
    "\n",
    "axR = ax.twinx()\n",
    "obs_RO_ds[\"WWV\"].plot(ax=axR, c=\"blue\", lw=1.5)\n",
    "axR.set_ylim([-30, 30])\n",
    "axR.axhline(0, ls=\"--\", c=\"gray\", lw=0.5)\n",
    "\n",
    "ax.set_xlim([datetime.datetime(1979, 1, 1), datetime.datetime(2026, 1, 1)])\n",
    "ax.set_title(\"ORAS5 Nino3.4 and WWV indices\")"
   ]
  },
  {
   "cell_type": "markdown",
   "id": "7f659a18-e169-4da6-be93-5d7a80f262d0",
   "metadata": {},
   "source": [
    "## Look at parameter variation over time"
   ]
  },
  {
   "cell_type": "markdown",
   "id": "ebb82f33-d133-4dbb-8b3c-548fd09cbb3e",
   "metadata": {},
   "source": [
    "#### Fit model to 20-yr rolling windows"
   ]
  },
  {
   "cell_type": "code",
   "execution_count": null,
   "id": "34cef0df-e6e5-4136-bd11-e382f899fab4",
   "metadata": {},
   "outputs": [],
   "source": [
    "## Get number of timesteps in data\n",
    "n = len(obs_RO_ds.time)\n",
    "\n",
    "## specify number of samples to use in each window\n",
    "window_size = 240  # units: months\n",
    "\n",
    "## empty list to hold results and dates\n",
    "params_by_year = []\n",
    "start_dates = []\n",
    "\n",
    "## loop through rolling windows\n",
    "with warnings.catch_warnings(action=\"ignore\"):\n",
    "    for i in np.arange(0, n - 12, 12):\n",
    "\n",
    "        ## make sure there's enough samples for robust estimate\n",
    "        if (n - i) > (0.7 * window_size):\n",
    "\n",
    "            ## get subset of data for fitting model\n",
    "            data_subset = obs_RO_ds.isel(time=slice(i, i + window_size))\n",
    "\n",
    "            ## Get start date for subset\n",
    "            start_dates.append(data_subset.time.isel(time=0))\n",
    "\n",
    "            ## initialize model\n",
    "            model = XRO(ncycle=12, ac_order=1, is_forward=True)\n",
    "\n",
    "            ## fit matrix and get parameters\n",
    "            fit_LRO = model.fit_matrix(data_subset, maskNT=[], maskNH=[])\n",
    "            params_by_year.append(model.get_RO_parameters(fit_LRO))\n",
    "\n",
    "## convert from list to xarray\n",
    "start_dates = xr.concat(start_dates, dim=\"time\")\n",
    "params_by_year = xr.concat(params_by_year, dim=start_dates)"
   ]
  },
  {
   "cell_type": "markdown",
   "id": "2a7fa586-d076-4ef8-a444-6655429adefa",
   "metadata": {},
   "source": [
    "#### Plot change over time in annual-mean $R$ and seasonal cycle"
   ]
  },
  {
   "cell_type": "code",
   "execution_count": null,
   "id": "1eb079a4-514e-4f61-997f-a3f672e8ef39",
   "metadata": {},
   "outputs": [],
   "source": [
    "## plot annual mean growth rate\n",
    "fig, axs = plt.subplots(1, 2, figsize=(9, 3.5))\n",
    "axs[0].plot(params_by_year.time, params_by_year[\"BJ_ac\"].mean(\"cycle\"))\n",
    "axs[0].set_ylabel(r\"$R$\")\n",
    "\n",
    "## plot mean annual cycle\n",
    "axs[1].plot(params_by_year[\"BJ_ac\"].mean(\"time\"))\n",
    "axs[1].axhline(0, c=\"k\", ls=\"--\")\n",
    "\n",
    "plt.show()"
   ]
  },
  {
   "cell_type": "markdown",
   "id": "caa9ab33-db3d-4f6e-9859-e59e545f9d7e",
   "metadata": {},
   "source": [
    "#### Partial corr vs linear regression"
   ]
  },
  {
   "cell_type": "code",
   "execution_count": null,
   "id": "057fe5e1-ab6e-45aa-83d4-4f7c5bb4d6ae",
   "metadata": {},
   "outputs": [],
   "source": [
    "import numpy as np\n",
    "import scipy.stats\n",
    "import copy\n",
    "corr = lambda x, y : scipy.stats.pearsonr(x,y)[0]\n",
    "rng = np.random.default_rng()"
   ]
  },
  {
   "cell_type": "markdown",
   "id": "d7c23e0b-eda4-4fa4-9a1a-b4995644599a",
   "metadata": {},
   "source": [
    "Consider finding $R$ and $F$ to approximate:\n",
    "\\begin{align}\n",
    "    y &= RT + Fh\n",
    "\\end{align}\n",
    "Standardize data such that:\n",
    "\\begin{align}\n",
    "    1 &= \\left<y,y\\right> = \\left<T,T\\right> =\\left<h,h\\right>=\\\\\n",
    "    r &\\equiv \\left<T,h\\right>\n",
    "\\end{align}\n",
    "Define $\\hat{h}$ such that:\n",
    "\\begin{align}\n",
    "    0 &= \\left<\\hat{h}, T\\right>\\\\\n",
    "    \\implies \\hat{h} &= h-rT\n",
    "\\end{align}\n",
    "Then we have:\n",
    "\\begin{align}\n",
    "    R &= \\left<y,T\\right> - \\frac{r}{1-r^2}\\left<y,\\hat{h}\\right>\\\\\n",
    "    F &= \\frac{1}{1-r^2}\\left<y,\\hat{h}\\right>\n",
    "\\end{align}"
   ]
  },
  {
   "cell_type": "markdown",
   "id": "f7b91550-497d-45df-aba7-23016c738125",
   "metadata": {},
   "source": [
    "Next, consider partial correlation of $h$ with $y$. Define component of $y$ independent of $T$ as:\n",
    "\\begin{align}\n",
    "    \\hat{y}\\equiv y-\\left<y,T\\right>T\n",
    "\\end{align}\n",
    "Then partial correlation for $h$ is defined as:\n",
    "\\begin{align}\n",
    "    r_{p,h} &= \\frac{\\left<\\hat{y}, \\hat{h}\\right>}{\\sigma_{\\hat{y}}\\sigma_{\\hat{h}}}\n",
    "\\end{align}"
   ]
  },
  {
   "attachments": {},
   "cell_type": "markdown",
   "id": "003cf31f-b6a5-4a4b-9cbf-8e1bc1a8641e",
   "metadata": {},
   "source": [
    "Note for the **numerator**, we have:\n",
    "\\begin{align}\n",
    "    \\left<\\hat{y},\\hat{h}\\right> &= \\left<y-\\left<y,T\\right>T, \\hat{h}\\right>\\\\\n",
    "    &= \\left<y,\\hat{h}\\right> - \\left<y,T\\right>\\left<T,\\hat{h}\\right>\\\\\n",
    "    &= \\left<y,\\hat{h}\\right>,\n",
    "\\end{align}\n",
    "because $\\left<T,\\hat{h}\\right>=0$ by definition. For the **denominator**, we have:\n",
    "\\begin{align}\n",
    "    \\sigma_{\\hat{y}}^2 &= \\sigma_y^2 - 2\\left<y,T\\right>\\left<y,T\\right> + \\left<y,T\\right>^2\\sigma_T^2\\\\\n",
    "    &= 1-\\left<y,T\\right>^2\\\\\n",
    "    \\sigma_{\\hat{h}}^2 &= \\sigma_h^2 - 2r\\left<T,h\\right> + r^2\\sigma_T^2\\\\\n",
    "    &= 1 - r^2\n",
    "\\end{align}"
   ]
  },
  {
   "cell_type": "markdown",
   "id": "62f7caee-5518-456a-be01-b94deb4a8c7d",
   "metadata": {},
   "source": [
    "We can write this as:\n",
    "\\begin{align}\n",
    "    r_{p,h} &= \\frac{\\left<y,\\hat{h}\\right>}{\\sqrt{\\left(1-\\left<y,T\\right>^2\\right)\\left(1-r^2\\right)}}\\\\\n",
    "    &= F\\left[ \\frac{1-r^2}{1-\\left<y,T\\right>^2} \\right]^{1/2}\n",
    "\\end{align}"
   ]
  },
  {
   "cell_type": "markdown",
   "id": "380b7244-264d-4a05-aef7-cfd543bb4eac",
   "metadata": {},
   "source": [
    "Similarly, we have:\n",
    "\\begin{align}\n",
    "    r_{p,T} &= R\\left[\\frac{1-r^2}{1-\\left<y,h\\right>^2}\\right]^{1/2}\n",
    "\\end{align}"
   ]
  },
  {
   "cell_type": "markdown",
   "id": "59e8e391-a9a2-406d-8d41-3ec2c40e4d7c",
   "metadata": {},
   "source": [
    "Similarly, we have:\n",
    "\\begin{align}\n",
    "    r_{p,T} &= R\\left[\\frac{1-r^2}{1-\\left<y,h\\right>^2}\\right]^{1/2}\n",
    "\\end{align}"
   ]
  },
  {
   "cell_type": "markdown",
   "id": "8caaed95-02c8-47ff-9b9b-4ff93d1d003b",
   "metadata": {},
   "source": [
    "#### summarizing:"
   ]
  },
  {
   "cell_type": "markdown",
   "id": "80961db5-4850-47b4-a383-8f8c7fad7fdf",
   "metadata": {},
   "source": [
    "\\begin{align}\n",
    "    R &= \\left<y,T\\right> - \\frac{r}{1-r^2}\\left<y,\\hat{h}\\right>\\\\\n",
    "    F &= \\frac{1}{1-r^2}\\left<y,\\hat{h}\\right>\\\\\n",
    "    r_{p,h} &= F\\left[ \\frac{1-r^2}{1-\\left<y,T\\right>^2} \\right]^{1/2}\\\\\n",
    "    r_{p,T} &= R\\left[\\frac{1-r^2}{1-\\left<y,h\\right>^2}\\right]^{1/2}\n",
    "\\end{align}"
   ]
  },
  {
   "cell_type": "code",
   "execution_count": null,
   "id": "5d46b604-9719-4a2d-a3f2-1e36a12a6d8f",
   "metadata": {},
   "outputs": [],
   "source": [
    "## random data\n",
    "n = 100\n",
    "y = rng.normal(size=(n))\n",
    "X = rng.normal(size=(2,n))\n",
    "\n",
    "## standardize\n",
    "norm = lambda Z : (Z-Z.mean(-1,keepdims=True)) / Z.std(-1, keepdims=True)\n",
    "y = norm(y)\n",
    "X = norm(X)\n",
    "\n",
    "## true solution\n",
    "RF = y[None,:] @ np.linalg.pinv(X)\n",
    "\n",
    "## split into T and h (for convenience)\n",
    "T = copy.deepcopy(X[0])\n",
    "h = copy.deepcopy(X[1])\n",
    "\n",
    "# ## \"analytic\" solution\n",
    "cov = lambda x0, x1 : np.mean(x0*x1)\n",
    "r = cov(T,h)\n",
    "h_hat = h-r*T\n",
    "R = cov(y,T) - r/(1-r**2) * cov(y, h_hat)\n",
    "F = 1/(1-r**2) * cov(y, h_hat)\n",
    "\n",
    "## compute partial correlations\n",
    "y_hat = y - cov(y,T)*T\n",
    "rph = corr(y_hat, h_hat)\n",
    "rph2 = F * np.sqrt((1-r**2) / (1-cov(y,T)**2))\n",
    "\n",
    "y_tilde = y - cov(y,h)*h\n",
    "T_tilde = T - r*h\n",
    "rpT = corr(y_tilde, T_tilde)\n",
    "rpT2 = R * np.sqrt((1-r**2) / (1-cov(y,h)**2))\n",
    "\n",
    "## check stuff worked\n",
    "print(np.allclose(RF.squeeze(), np.array([R,F])))\n",
    "print(np.allclose(rph, rph2))\n",
    "print(np.allclose(rpT, rpT2))\n",
    "print(np.allclose(cov(y, T), R + r*F))\n",
    "print(np.allclose(cov(y, h), F + r*R))"
   ]
  }
 ],
 "metadata": {
  "kernelspec": {
   "display_name": "Python 3 (ipykernel)",
   "language": "python",
   "name": "python3"
  },
  "language_info": {
   "codemirror_mode": {
    "name": "ipython",
    "version": 3
   },
   "file_extension": ".py",
   "mimetype": "text/x-python",
   "name": "python",
   "nbconvert_exporter": "python",
   "pygments_lexer": "ipython3",
   "version": "3.13.3"
  }
 },
 "nbformat": 4,
 "nbformat_minor": 5
}
