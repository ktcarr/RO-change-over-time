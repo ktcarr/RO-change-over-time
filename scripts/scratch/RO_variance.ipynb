{
 "cells": [
  {
   "cell_type": "markdown",
   "id": "597e1a27-e24f-4652-810f-2e88f33276d0",
   "metadata": {},
   "source": [
    "# RO reference\n",
    "Fit RO on observations to get \"ground truth\" behavior"
   ]
  },
  {
   "cell_type": "markdown",
   "id": "c7c7fa21-6df5-4876-925c-a3cb75e71a54",
   "metadata": {},
   "source": [
    "## Imports"
   ]
  },
  {
   "cell_type": "code",
   "execution_count": null,
   "id": "df1ac922-8f5c-4019-9893-e5a8bcf434f0",
   "metadata": {},
   "outputs": [],
   "source": [
    "import warnings\n",
    "import copy\n",
    "import datetime\n",
    "import matplotlib\n",
    "import matplotlib.pyplot as plt\n",
    "import matplotlib as mpl\n",
    "import cartopy.crs as ccrs\n",
    "import numpy as np\n",
    "import seaborn as sns\n",
    "import xarray as xr\n",
    "import tqdm\n",
    "import pathlib\n",
    "import cmocean\n",
    "import pandas as pd\n",
    "import os\n",
    "import scipy.stats\n",
    "\n",
    "# Import custom modules\n",
    "import src.XRO\n",
    "import src.XRO_utils\n",
    "import src.utils\n",
    "\n",
    "## set plotting specs\n",
    "sns.set(rc={\"axes.facecolor\": \"white\", \"axes.grid\": False})\n",
    "\n",
    "## bump up DPI\n",
    "mpl.rcParams[\"figure.dpi\"] = 100\n",
    "\n",
    "## get filepaths\n",
    "DATA_FP = pathlib.Path(os.environ[\"DATA_FP\"])\n",
    "SAVE_FP = pathlib.Path(os.environ[\"SAVE_FP\"])\n",
    "\n",
    "## get RNG\n",
    "rng = np.random.default_rng()"
   ]
  },
  {
   "cell_type": "markdown",
   "id": "f62138e3-f1a9-4c9d-9536-e0290c8b6abd",
   "metadata": {},
   "source": [
    "## Load data"
   ]
  },
  {
   "cell_type": "code",
   "execution_count": null,
   "id": "aca1d412-1064-4008-82a7-b75b7c5a87c8",
   "metadata": {},
   "outputs": [],
   "source": [
    "## use XRO indices\n",
    "idx = xr.open_dataset(DATA_FP / \"XRO_indices_oras5.nc\")"
   ]
  },
  {
   "cell_type": "markdown",
   "id": "93348d38-4b72-4629-9de9-527ecd090d63",
   "metadata": {},
   "source": [
    "## Fit RO models"
   ]
  },
  {
   "cell_type": "code",
   "execution_count": null,
   "id": "39a7f537-f562-47e9-bb2c-eecaed29821b",
   "metadata": {},
   "outputs": [],
   "source": [
    "## other variables\n",
    "other_vars = [\"Nino34\", \"WWV\", \"NPMM\", \"SPMM\"]\n",
    "\n",
    "## specify order of annual cycle, mask parameters\n",
    "ac_order = 3\n",
    "ac_mask_idx = None\n",
    "\n",
    "## initialize model\n",
    "model = src.XRO.XRO(ncycle=12, ac_order=ac_order, is_forward=True)\n",
    "\n",
    "## get fit for reanalysis\n",
    "fit = model.fit_matrix(idx[[\"Nino34\", \"WWV\"]], ac_mask_idx=ac_mask_idx)\n",
    "fit_all = model.fit_matrix(idx[other_vars], ac_mask_idx=ac_mask_idx)\n",
    "\n",
    "## extract params\n",
    "p = model.get_RO_parameters(fit)\n",
    "p_all = model.get_RO_parameters(fit_all)"
   ]
  },
  {
   "cell_type": "markdown",
   "id": "4b564922-684c-44a2-a3df-efae0992e04a",
   "metadata": {},
   "source": [
    "#### interlude: noise covariance:"
   ]
  },
  {
   "cell_type": "code",
   "execution_count": null,
   "id": "171234f3-c652-4600-a3aa-79d35341702a",
   "metadata": {},
   "outputs": [],
   "source": [
    "def cov_xr(data, outer_dim = \"ranky\", cov_dim=\"time\"):\n",
    "    \"\"\"compute covariance of 2-D data along specified dimension\"\"\"\n",
    "\n",
    "    ## get number of samples\n",
    "    n = len(data[cov_dim])\n",
    "\n",
    "    ## remove mean\n",
    "    X = data - data.mean(cov_dim)\n",
    "    Xt = X.rename({outer_dim:f\"{outer_dim}_\"})\n",
    "\n",
    "    ## outer product\n",
    "    XXt = (X * Xt).sum(cov_dim)\n",
    "\n",
    "    return 1/n * XXt\n",
    "\n",
    "def get_M_helper(Cxx, dim = \"ranky\"):\n",
    "    \"\"\"Find matrix M satsifying M @ M.T = Cxx\"\"\"\n",
    "\n",
    "    ## get empty array to hold M\n",
    "    M = np.nan * xr.zeros_like(Cxx)\n",
    "\n",
    "    ## compute svd\n",
    "    U, s, _ = np.linalg.svd(Cxx.values)\n",
    "\n",
    "    ## get M\n",
    "    M.values = U @ np.diag(np.sqrt(s))\n",
    "\n",
    "    return M\n",
    "\n",
    "def get_M(data, outer_dim = \"ranky\", cov_dim=\"time\"):\n",
    "    \"\"\"Find matrix M satsifying M @ M.T = Cxx,\n",
    "    where Cxx is covariance of data\"\"\"\n",
    "\n",
    "    ## compute covariance\n",
    "    Cxx = cov_xr(data, outer_dim=outer_dim, cov_dim=cov_dim)\n",
    "\n",
    "    ## compute M\n",
    "    M = get_M_helper(Cxx, dim=outer_dim)\n",
    "\n",
    "    return M"
   ]
  },
  {
   "cell_type": "markdown",
   "id": "946e02aa-0055-4c2b-99e1-ba8d04d43776",
   "metadata": {},
   "source": [
    "test it works"
   ]
  },
  {
   "cell_type": "code",
   "execution_count": null,
   "id": "2cd9b7de-1e55-4fff-88a7-ea2377b6b73c",
   "metadata": {},
   "outputs": [],
   "source": [
    "## get data\n",
    "X_ = copy.deepcopy(fit.X)\n",
    "X_ = X_.assign_coords(dict(cycle = (\"time\", np.mod(np.arange(X_.shape[1]), 12))))\n",
    "\n",
    "## kwargs for cov\n",
    "kwargs = dict(outer_dim=\"rankx\")\n",
    "\n",
    "## covariance by month\n",
    "Cxx = X_.groupby(\"cycle\").map(lambda x : cov_xr(x, **kwargs))\n",
    "M = X_.groupby(\"cycle\").map(lambda x : get_M(x, **kwargs))\n",
    "\n",
    "## check it works\n",
    "mi = 7\n",
    "M_ = M.isel(cycle=mi).values\n",
    "Cxx_ = Cxx.isel(cycle=mi).values\n",
    "print(np.allclose( M_@M_.T, Cxx_))"
   ]
  },
  {
   "cell_type": "code",
   "execution_count": null,
   "id": "4b9560a0-c18d-4b83-ae3f-aca163db09c7",
   "metadata": {},
   "outputs": [],
   "source": [
    "Cxx[["
   ]
  },
  {
   "cell_type": "code",
   "execution_count": null,
   "id": "d85da6f2-4afa-45f8-bb5b-4ea3717355d0",
   "metadata": {},
   "outputs": [],
   "source": [
    "src.XRO.gen_noise(Cxx.values[...,0])"
   ]
  },
  {
   "cell_type": "markdown",
   "id": "9156b1e5-b570-4c78-9f1f-214b23b87c44",
   "metadata": {},
   "source": [
    "## check stats "
   ]
  },
  {
   "cell_type": "markdown",
   "id": "b6d21b52-ed30-43e3-9bdc-1618c7584ad5",
   "metadata": {},
   "source": [
    "Generate simulations"
   ]
  },
  {
   "cell_type": "code",
   "execution_count": null,
   "id": "96ffbfc6-6c9c-44e2-bfd0-d04c0ed4ba8d",
   "metadata": {},
   "outputs": [],
   "source": [
    "## specify random IC\n",
    "x0 = idx.isel(time=rng.choice(np.arange(len(idx.time))))\n",
    "\n",
    "## simulation specs\n",
    "simulation_kwargs = dict(\n",
    "    nyear=63,\n",
    "    ncopy=1000,\n",
    "    is_xi_stdac=True,\n",
    ")\n",
    "\n",
    "## do simulations\n",
    "kwargs_h = dict(simulation_kwargs, fit_ds=fit, X0_ds=x0[[\"Nino34\", \"WWV\"]])\n",
    "X = model.simulate(**kwargs_h)\n",
    "\n",
    "kwargs_hw = dict(simulation_kwargs, fit_ds=fit_all, X0_ds=x0[other_vars])\n",
    "X_all = model.simulate(**kwargs_hw)"
   ]
  },
  {
   "cell_type": "markdown",
   "id": "274bcec4-d723-4a03-ac68-88dda4b248dd",
   "metadata": {},
   "source": [
    "#### Seasonal synchronization"
   ]
  },
  {
   "cell_type": "code",
   "execution_count": null,
   "id": "bdd976eb-e15e-4920-be35-ebc23d8f1669",
   "metadata": {},
   "outputs": [],
   "source": [
    "### Set up plot\n",
    "fig, axs = plt.subplots(1, 2, figsize=(4.5, 2), layout=\"constrained\")\n",
    "\n",
    "## plot RO with h (early period)\n",
    "plot_data_early = src.utils.plot_seasonal_comp(\n",
    "    axs[0],\n",
    "    x0=idx.expand_dims(\"member\"),\n",
    "    x1=X,\n",
    "    plot_kwargs0=dict(label=\"ORAS\"),\n",
    "    plot_kwargs1=dict(label=\"RO\"),\n",
    "    varname=\"Nino34\",\n",
    "    use_quantile=True,\n",
    ")\n",
    "\n",
    "## plot RO with h (early period)\n",
    "plot_data_early = src.utils.plot_seasonal_comp(\n",
    "    axs[1],\n",
    "    x0=idx.expand_dims(\"member\"),\n",
    "    x1=X_all,\n",
    "    plot_kwargs0=dict(label=\"ORAS\"),\n",
    "    plot_kwargs1=dict(label=\"RO\"),\n",
    "    varname=\"Nino34\",\n",
    "    use_quantile=True,\n",
    ")\n",
    "\n",
    "## label\n",
    "axs[1].legend(prop=dict(size=8))\n",
    "axs[0].set_yticks([0, 1, 2])\n",
    "axs[0].set_ylabel(r\"$\\sigma(T)$\")\n",
    "axs[0].set_title(r\"Niño 3.4, $h=\\overline{h}$\")\n",
    "axs[1].set_title(r\"Niño 3, $h=h_w$\")\n",
    "for ax in axs:\n",
    "    ax.set_ylim([0, 2])\n",
    "    ax.set_xticks([1, 4, 12], labels=[\"Jan\", \"Apr\", \"Dec\"])\n",
    "\n",
    "plt.show()"
   ]
  },
  {
   "cell_type": "markdown",
   "id": "1f4190bd-2028-4bc1-864f-2c50c60b1605",
   "metadata": {},
   "source": [
    "#### Power spectrum"
   ]
  },
  {
   "cell_type": "markdown",
   "id": "9fb2930a-ce03-48bd-ae38-8431bd276df5",
   "metadata": {},
   "source": [
    "Compute"
   ]
  },
  {
   "cell_type": "code",
   "execution_count": null,
   "id": "cb9769cb-9f78-4c14-9ac4-6c29f96bbb40",
   "metadata": {},
   "outputs": [],
   "source": [
    "## specify args for psd\n",
    "psd_kwargs = dict(dim=\"time\", dt=1 / 12, nw=5)\n",
    "\n",
    "## compute PSD\n",
    "compute_psd = lambda x: src.XRO_utils.pmtm(x, **psd_kwargs)\n",
    "psd_oras = compute_psd(idx[\"Nino34\"])\n",
    "psd_RO_h = compute_psd(X[\"Nino34\"])\n",
    "psd_RO_hw = compute_psd(X_all[\"Nino34\"])"
   ]
  },
  {
   "cell_type": "markdown",
   "id": "b146ac70-de45-4ed8-95bb-364ef232c171",
   "metadata": {},
   "source": [
    "Plot"
   ]
  },
  {
   "cell_type": "code",
   "execution_count": null,
   "id": "1f3fde4f-edcc-4e75-a994-e85baf949f62",
   "metadata": {},
   "outputs": [],
   "source": [
    "fig, axs = plt.subplots(1, 2, figsize=(6.5, 3), layout=\"constrained\")\n",
    "\n",
    "## plot data (T34)\n",
    "src.utils.plot_psd(axs[0], psd_oras, label=r\"ORAS\", color=\"k\")\n",
    "src.utils.plot_psd(axs[0], psd_RO_h, label=r\"RO\", color=sns.color_palette()[1])\n",
    "\n",
    "## plot data(T3)\n",
    "src.utils.plot_psd(axs[1], psd_oras, label=r\"ORAS\", color=\"k\")\n",
    "src.utils.plot_psd(axs[1], psd_RO_hw, label=r\"RO\", color=sns.color_palette()[1])\n",
    "\n",
    "## label\n",
    "axs[0].set_ylabel(r\"PSD ($^{\\circ}$C$^2$/cpm)\")\n",
    "axs[0].set_title(r\"Niño 3.4 spectrum (using $h=\\overline{h}$)\")\n",
    "axs[1].set_title(r\"Niño 3 spectrum (using $h=h_w$)\")\n",
    "axs[0].legend(prop=dict(size=6))\n",
    "axs[1].legend(prop=dict(size=6))\n",
    "# for ax in axs:\n",
    "#     ax.set_ylim([None,None])\n",
    "\n",
    "plt.show()"
   ]
  },
  {
   "cell_type": "code",
   "execution_count": null,
   "id": "4d3f30d2-14e1-42f1-ac53-21d1448b0f76",
   "metadata": {},
   "outputs": [],
   "source": [
    "plt.plot(fit[\"normxi_stdac\"].isel(ranky=0))\n",
    "plt.plot(fit_all[\"normxi_stdac\"].isel(ranky=0))"
   ]
  },
  {
   "cell_type": "markdown",
   "id": "10b4d06b-1bf2-4f12-9f07-082d11026cc7",
   "metadata": {},
   "source": [
    "## Cross-correlation"
   ]
  },
  {
   "cell_type": "code",
   "execution_count": null,
   "id": "6c5142be-a857-4884-bf48-d82491c78d3b",
   "metadata": {},
   "outputs": [],
   "source": [
    "def format_xcorr_ax(ax):\n",
    "    \"\"\"make xcorr plot look nice\"\"\"\n",
    "\n",
    "    axis_kwargs = dict(c=\"k\", lw=0.5, alpha=0.5)\n",
    "    ax.axhline(0, **axis_kwargs)\n",
    "    ax.axvline(0, **axis_kwargs)\n",
    "    ax.set_ylim([-0.9, 1.1])\n",
    "    ax.set_xlabel(\"Lag (years)\")\n",
    "    ax.set_xticks([-24, -12, 0, 12, 24], labels=[-2, -1, 0, 1, 2])\n",
    "    ax.set_yticks([-0.5, 0, 0.5, 1])\n",
    "    ax.set_ylabel(\"Correlation\")\n",
    "    return"
   ]
  },
  {
   "cell_type": "code",
   "execution_count": null,
   "id": "6fa1c303-c004-49bd-b245-79775dcf1f2c",
   "metadata": {},
   "outputs": [],
   "source": [
    "## specify T variable to use\n",
    "T_var = \"Nino34\"\n",
    "\n",
    "## function to compute cross-corr\n",
    "get_xcorr = lambda x: src.XRO.xcorr(x, x[T_var], maxlags=18)\n",
    "\n",
    "## compute\n",
    "xcorr = get_xcorr(idx)\n",
    "xcorr0 = get_xcorr(X)\n",
    "xcorr1 = get_xcorr(X_all)"
   ]
  },
  {
   "cell_type": "code",
   "execution_count": null,
   "id": "57514c1c-1e8d-433f-8f45-a3d2318a97fb",
   "metadata": {},
   "outputs": [],
   "source": [
    "## compute cross-corr\n",
    "# xcorr = src.XRO.xcorr(idx, idx[\"Nino34\"], maxlags=24)\n",
    "# xcorr0 = src.XRO.xcorr(idx, idx[\"Nino34\"], maxlags=24)\n",
    "\n",
    "## plot result\n",
    "fig, ax = plt.subplots(figsize=(3.5, 3))\n",
    "\n",
    "## plot data\n",
    "ax.plot(xcorr.lag, xcorr[\"Nino34\"], label=r\"actual\", c=\"k\")\n",
    "ax.plot(xcorr.lag, xcorr0[\"Nino34\"].mean(\"member\"), label=r\"first\")\n",
    "ax.plot(xcorr.lag, xcorr1[\"Nino34\"].mean(\"member\"), label=r\"second\")\n",
    "\n",
    "ax.plot(xcorr.lag, xcorr[\"WWV\"], label=r\"actual\", c=\"k\")\n",
    "ax.plot(xcorr.lag, xcorr0[\"WWV\"].mean(\"member\"), label=r\"first\")\n",
    "ax.plot(xcorr.lag, xcorr1[\"WWV\"].mean(\"member\"), label=r\"second\")\n",
    "# ax.plot(xcorr.lag, xcorr[\"T_34\"], label=r\"$T_{3.4}$\", c=\"k\", ls=\"--\")\n",
    "# ax.plot(xcorr.lag, xcorr[\"WWV\"], label=r\"$h$\")\n",
    "# ax.plot(xcorr.lag, xcorr[\"h_w\"], label=r\"$h_w$\")\n",
    "\n",
    "## format plot\n",
    "ax.set_title(\"Corr. with Niño 3.4\")\n",
    "ax.legend(prop=dict(size=8))\n",
    "format_xcorr_ax(ax)\n",
    "\n",
    "plt.show()"
   ]
  },
  {
   "cell_type": "code",
   "execution_count": null,
   "id": "34225205-e781-4a2c-a491-b46f510f6834",
   "metadata": {},
   "outputs": [],
   "source": []
  }
 ],
 "metadata": {
  "kernelspec": {
   "display_name": "Python 3 (ipykernel)",
   "language": "python",
   "name": "python3"
  },
  "language_info": {
   "codemirror_mode": {
    "name": "ipython",
    "version": 3
   },
   "file_extension": ".py",
   "mimetype": "text/x-python",
   "name": "python",
   "nbconvert_exporter": "python",
   "pygments_lexer": "ipython3",
   "version": "3.13.3"
  }
 },
 "nbformat": 4,
 "nbformat_minor": 5
}
