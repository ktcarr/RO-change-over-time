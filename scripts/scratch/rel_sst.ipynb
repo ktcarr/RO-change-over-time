{
 "cells": [
  {
   "cell_type": "markdown",
   "id": "73157c1b-4cba-4a85-86de-41013f0b60db",
   "metadata": {},
   "source": [
    "# Check computation of relative SST"
   ]
  },
  {
   "cell_type": "markdown",
   "id": "82434de2-1943-4f49-acf1-21b624536446",
   "metadata": {},
   "source": [
    "## Imports"
   ]
  },
  {
   "cell_type": "code",
   "execution_count": null,
   "id": "425bc0d2-0b96-443f-a7bf-ea81a36fe219",
   "metadata": {},
   "outputs": [],
   "source": [
    "import xarray as xr\n",
    "import pathlib\n",
    "import os\n",
    "import matplotlib.pyplot as plt\n",
    "import seaborn as sns\n",
    "\n",
    "sns.set(rc={\"axes.facecolor\": \"white\", \"axes.grid\": False})"
   ]
  },
  {
   "cell_type": "markdown",
   "id": "edad53f4-1c17-413f-97b3-1bc70a916752",
   "metadata": {},
   "source": [
    "## Load data"
   ]
  },
  {
   "cell_type": "code",
   "execution_count": null,
   "id": "810054e8-a542-4dc3-8684-86a2a78c0c2e",
   "metadata": {},
   "outputs": [],
   "source": [
    "## open data\n",
    "sst = xr.open_dataset(\n",
    "    list(pathlib.Path(os.environ[\"DATA_FP\"], \"mpi\", \"ts\").glob(\"*.nc\"))[0],\n",
    ")"
   ]
  },
  {
   "cell_type": "code",
   "execution_count": null,
   "id": "58031031-b301-46c8-b947-4ac92b80d1fd",
   "metadata": {},
   "outputs": [],
   "source": [
    "## get bounds for defining sst\n",
    "bnds = [5, 10, 15, 20, 25, 30]\n",
    "\n",
    "## compute tropical pacific sst\n",
    "for bnd in bnds:\n",
    "    sst[f\"sst_trop_{bnd:02d}\"] = (\n",
    "        sst[\"sst\"].sel(latitude=slice(-bnd, bnd)).mean([\"latitude\", \"longitude\"])\n",
    "    )\n",
    "\n",
    "## drop spatial info\n",
    "sst = sst.drop_vars([\"sst\", \"time_bnds\", \"bounds_longitude\", \"bounds_latitude\"])\n",
    "\n",
    "## compute annual mean\n",
    "sst_am = sst.groupby(\"time.year\").mean()"
   ]
  },
  {
   "cell_type": "markdown",
   "id": "45afe96e-3056-430b-8ea1-db4854a8f141",
   "metadata": {},
   "source": [
    "## check corr. when including seasonal cycle"
   ]
  },
  {
   "cell_type": "code",
   "execution_count": null,
   "id": "ca15b2c4-beea-4ac3-b179-34d9a304f3a3",
   "metadata": {},
   "outputs": [],
   "source": [
    "for bnd in bnds:\n",
    "    corr = xr.corr(sst[f\"sst_trop_{bnd:02d}\"], sst[\"sst_trop\"]).values.item()\n",
    "    print(f\"{bnd:02d}: {corr:.3f}\")\n",
    "\n",
    "print()\n",
    "print(f\"glob: {xr.corr( sst[f\"ts_glob\"], sst[\"sst_trop\"]).values.item():.3f}\")"
   ]
  },
  {
   "cell_type": "markdown",
   "id": "30798c43-2520-4cf3-a078-2fe79d27607c",
   "metadata": {},
   "source": [
    "## Check for annual mean"
   ]
  },
  {
   "cell_type": "code",
   "execution_count": null,
   "id": "7e0b3d63-787e-4652-ab05-8ce15d738cde",
   "metadata": {},
   "outputs": [],
   "source": [
    "for bnd in bnds:\n",
    "    corr = xr.corr(sst_am[f\"sst_trop_{bnd:02d}\"], sst_am[\"sst_trop\"]).values.item()\n",
    "    print(f\"{bnd:02d}: {corr:.3f}\")\n",
    "print()\n",
    "print(f\"glob: {xr.corr( sst_am[f\"ts_glob\"], sst_am[\"sst_trop\"]).values.item():.3f}\")"
   ]
  },
  {
   "cell_type": "markdown",
   "id": "83f8c2ce-644d-4924-ad28-1c36340dfd8c",
   "metadata": {},
   "source": [
    "Plot"
   ]
  },
  {
   "cell_type": "code",
   "execution_count": null,
   "id": "0e407b91-aa15-47c3-a0b2-b713f3d5b1f9",
   "metadata": {},
   "outputs": [],
   "source": [
    "sel = lambda x: x\n",
    "fig, ax = plt.subplots(figsize=(8, 3))\n",
    "\n",
    "ax.plot(sst_am.year, sel(sst_am[\"sst_trop\"]))\n",
    "ax.plot(sst_am.year, sel(sst_am[\"sst_trop_30\"]))\n",
    "ax.plot(sst_am.year, 10.6 + sel(sst_am[\"ts_glob\"]))\n",
    "\n",
    "plt.show()"
   ]
  },
  {
   "cell_type": "code",
   "execution_count": null,
   "id": "da1f024a-12c0-4ec0-bbda-924c58a2b557",
   "metadata": {},
   "outputs": [],
   "source": [
    "sel = lambda x: x.sel(time=x.time.dt.month == 9)\n",
    "fig, ax = plt.subplots(figsize=(8, 3))\n",
    "\n",
    "ax.plot(sel(sst[\"sst_trop\"]).time, sel(sst[\"sst_trop\"]))\n",
    "ax.plot(sel(sst[\"sst_trop_30\"]).time, sel(sst[\"sst_trop_30\"]))\n",
    "\n",
    "plt.show()"
   ]
  }
 ],
 "metadata": {
  "kernelspec": {
   "display_name": "Python 3 (ipykernel)",
   "language": "python",
   "name": "python3"
  },
  "language_info": {
   "codemirror_mode": {
    "name": "ipython",
    "version": 3
   },
   "file_extension": ".py",
   "mimetype": "text/x-python",
   "name": "python",
   "nbconvert_exporter": "python",
   "pygments_lexer": "ipython3",
   "version": "3.13.3"
  }
 },
 "nbformat": 4,
 "nbformat_minor": 5
}
