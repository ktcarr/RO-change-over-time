{
 "cells": [
  {
   "cell_type": "code",
   "execution_count": null,
   "id": "8ca558b0-72d9-4e1a-bc33-52f7885b73be",
   "metadata": {},
   "outputs": [],
   "source": [
    "import warnings\n",
    "import datetime\n",
    "import matplotlib\n",
    "import matplotlib.pyplot as plt\n",
    "import matplotlib as mpl\n",
    "import cartopy.crs as ccrs\n",
    "import numpy as np\n",
    "import seaborn as sns\n",
    "import xarray as xr\n",
    "import tqdm\n",
    "import pathlib\n",
    "import cmocean\n",
    "import pandas as pd\n",
    "import os\n",
    "import scipy.stats\n",
    "\n",
    "# import cartopy.util\n",
    "\n",
    "# Import custom modules\n",
    "from src.XRO import XRO, xcorr\n",
    "import src.XRO_utils\n",
    "import src.utils\n",
    "\n",
    "## set plotting specs\n",
    "sns.set(rc={\"axes.facecolor\": \"white\", \"axes.grid\": False})\n",
    "\n",
    "## bump up DPI\n",
    "mpl.rcParams[\"figure.dpi\"] = 100\n",
    "\n",
    "## get filepaths\n",
    "DATA_FP = pathlib.Path(os.environ[\"DATA_FP\"])\n",
    "SAVE_FP = pathlib.Path(os.environ[\"SAVE_FP\"])"
   ]
  },
  {
   "cell_type": "code",
   "execution_count": null,
   "id": "d20238f8-789e-455f-922c-3e326ae9117e",
   "metadata": {},
   "outputs": [],
   "source": [
    "## MPI data\n",
    "mpi_load_fp = pathlib.Path(DATA_FP, \"mpi_Th\", \"Th.nc\")\n",
    "Th_mpi = xr.open_dataset(mpi_load_fp)\n",
    "\n",
    "## rename variables for consistency and trim so time periods covered are the same\n",
    "Th_mpi = Th_mpi.sel(time=slice(\"2070\", \"2100\"))"
   ]
  },
  {
   "cell_type": "code",
   "execution_count": null,
   "id": "7b48e31c-92fd-48ad-a7e0-8fb671c16a82",
   "metadata": {},
   "outputs": [],
   "source": [
    "## specify T and h variables to use for MPI\n",
    "T_var_mpi = \"T_34\"\n",
    "h_var_mpi = \"h\"\n",
    "\n",
    "## specify order of annual cycle\n",
    "ac_order = 3\n",
    "\n",
    "## specify which parameters to mask annual cycle out for [(y_idx0, x_idx0), ...]\n",
    "ac_mask_idx = [(1, 1)]\n",
    "\n",
    "## initialize model\n",
    "model = XRO(ncycle=12, ac_order=ac_order, is_forward=True)\n",
    "\n",
    "\n",
    "## get fit for MPI (ensemble fit)\n",
    "fit = model.fit_matrix(\n",
    "    Th_mpi[[T_var_mpi, h_var_mpi]],\n",
    "    ac_mask_idx=ac_mask_idx,  # , maskNT=['T2', 'TH'],\n",
    ")"
   ]
  },
  {
   "cell_type": "markdown",
   "id": "1c6c9d05-1dae-424a-aff4-bafdc037c56e",
   "metadata": {},
   "source": [
    "#### Put data in matrix form"
   ]
  },
  {
   "cell_type": "code",
   "execution_count": null,
   "id": "5ec3f08a-e6ad-4023-af62-f5ca5ce5b2fc",
   "metadata": {},
   "outputs": [],
   "source": [
    "month = 6\n",
    "t_idx_X0 = dict(time=Th_mpi.time.dt.month==month)\n",
    "t_idx_X1 = dict(time=Th_mpi.time.dt.month==(month+1))\n",
    "\n",
    "## put in array form\n",
    "stack = lambda Z : Z.to_dataarray().stack(sample = [\"member\",\"time\"]).values\n",
    "X0 = stack(Th_mpi.isel(t_idx_X0)[[T_var_mpi,h_var_mpi]])\n",
    "X1 = stack(Th_mpi.isel(t_idx_X1)[[T_var_mpi,h_var_mpi]])\n",
    "\n",
    "dX = X1-X0\n",
    "dt = 1/12\n",
    "dXdt = dX / dt\n",
    "\n",
    "## compute operator\n",
    "Lhat = dXdt @ np.linalg.pinv(X0)\n",
    "\n",
    "## compute a different way\n",
    "G = X1 @ np.linalg.pinv(X0)\n",
    "w,v = np.linalg.eig(G)\n",
    "L = v @ np.diag(1/dt * np.log(w)) @ np.linalg.inv(v)\n",
    "\n",
    "## check relationship holds\n",
    "print(np.allclose(G, dt * Lhat + np.eye(2)))\n",
    "print()\n",
    "\n",
    "## print out matrices\n",
    "print(np.round(L.real,2))\n",
    "print()\n",
    "print(np.round(Lhat.real,2))"
   ]
  }
 ],
 "metadata": {
  "kernelspec": {
   "display_name": "Python 3 (ipykernel)",
   "language": "python",
   "name": "python3"
  },
  "language_info": {
   "codemirror_mode": {
    "name": "ipython",
    "version": 3
   },
   "file_extension": ".py",
   "mimetype": "text/x-python",
   "name": "python",
   "nbconvert_exporter": "python",
   "pygments_lexer": "ipython3",
   "version": "3.13.3"
  }
 },
 "nbformat": 4,
 "nbformat_minor": 5
}
