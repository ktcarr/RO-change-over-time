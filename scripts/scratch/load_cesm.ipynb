{
 "cells": [
  {
   "cell_type": "markdown",
   "id": "6668fab9-314e-46be-9207-6876b6a232ef",
   "metadata": {},
   "source": [
    "# Load CESM\n",
    "following example here: ```https://github.com/ckaramp-research/code-snippets?tab=readme-ov-file```"
   ]
  },
  {
   "cell_type": "code",
   "execution_count": 1,
   "id": "3f19b614-0548-4083-b7c9-c2f73afd38ac",
   "metadata": {},
   "outputs": [],
   "source": [
    "import pandas as pd\n",
    "import s3fs\n",
    "import xarray as xr"
   ]
  },
  {
   "cell_type": "markdown",
   "id": "5b7a1e1a-10c1-4020-8323-60e8f519c212",
   "metadata": {},
   "source": [
    "## Print out information"
   ]
  },
  {
   "cell_type": "code",
   "execution_count": null,
   "id": "ccd8057e-85eb-4b5d-a01f-6638ffb30acc",
   "metadata": {},
   "outputs": [],
   "source": [
    "fs = s3fs.S3FileSystem(anon=True)\n",
    "\n",
    "df = pd.read_csv(\n",
    "    \"https://ncar-cesm2-lens.s3-us-west-2.amazonaws.com/catalogs/aws-cesm2-le.csv\"\n",
    ")\n",
    "\n",
    "## get variable names and remove nan\n",
    "var_names = df.long_name.unique()\n",
    "var_names = [v for v in var_names if (type(v) is str)]\n",
    "\n",
    "for v in np.sort(var_names):\n",
    "    print(v)"
   ]
  },
  {
   "cell_type": "markdown",
   "id": "e76091cf-1eb4-48da-818a-a6ab8dc72a72",
   "metadata": {},
   "source": [
    "## Example of filtering"
   ]
  },
  {
   "cell_type": "code",
   "execution_count": 6,
   "id": "1050e720-9c30-483d-afd3-a8b53302b9e4",
   "metadata": {},
   "outputs": [
    {
     "data": {
      "text/html": [
       "<div>\n",
       "<style scoped>\n",
       "    .dataframe tbody tr th:only-of-type {\n",
       "        vertical-align: middle;\n",
       "    }\n",
       "\n",
       "    .dataframe tbody tr th {\n",
       "        vertical-align: top;\n",
       "    }\n",
       "\n",
       "    .dataframe thead th {\n",
       "        text-align: right;\n",
       "    }\n",
       "</style>\n",
       "<table border=\"1\" class=\"dataframe\">\n",
       "  <thead>\n",
       "    <tr style=\"text-align: right;\">\n",
       "      <th></th>\n",
       "      <th>variable</th>\n",
       "      <th>long_name</th>\n",
       "      <th>component</th>\n",
       "      <th>experiment</th>\n",
       "      <th>forcing_variant</th>\n",
       "      <th>frequency</th>\n",
       "      <th>vertical_levels</th>\n",
       "      <th>spatial_domain</th>\n",
       "      <th>units</th>\n",
       "      <th>start_time</th>\n",
       "      <th>end_time</th>\n",
       "      <th>path</th>\n",
       "    </tr>\n",
       "  </thead>\n",
       "  <tbody>\n",
       "    <tr>\n",
       "      <th>94</th>\n",
       "      <td>PRECC</td>\n",
       "      <td>convective precipitation rate (liq + ice)</td>\n",
       "      <td>atm</td>\n",
       "      <td>historical</td>\n",
       "      <td>cmip6</td>\n",
       "      <td>monthly</td>\n",
       "      <td>1.0</td>\n",
       "      <td>global</td>\n",
       "      <td>m/s</td>\n",
       "      <td>1850-01-16 12:00:00</td>\n",
       "      <td>2014-12-16 12:00:00</td>\n",
       "      <td>s3://ncar-cesm2-lens/atm/monthly/cesm2LE-histo...</td>\n",
       "    </tr>\n",
       "  </tbody>\n",
       "</table>\n",
       "</div>"
      ],
      "text/plain": [
       "   variable                                  long_name component  experiment  \\\n",
       "94    PRECC  convective precipitation rate (liq + ice)       atm  historical   \n",
       "\n",
       "   forcing_variant frequency  vertical_levels spatial_domain units  \\\n",
       "94           cmip6   monthly              1.0         global   m/s   \n",
       "\n",
       "             start_time             end_time  \\\n",
       "94  1850-01-16 12:00:00  2014-12-16 12:00:00   \n",
       "\n",
       "                                                 path  \n",
       "94  s3://ncar-cesm2-lens/atm/monthly/cesm2LE-histo...  "
      ]
     },
     "execution_count": 6,
     "metadata": {},
     "output_type": "execute_result"
    }
   ],
   "source": [
    "filter_df = df.query(\n",
    "    \"variable == 'PRECC' and experiment == 'historical' and frequency == 'monthly' and forcing_variant == 'cmip6'\"\n",
    ")\n",
    "filter_df"
   ]
  },
  {
   "cell_type": "markdown",
   "id": "d67ebd29-65a0-4909-bb25-b2c532183b23",
   "metadata": {},
   "source": [
    "## Example of loading"
   ]
  },
  {
   "cell_type": "code",
   "execution_count": null,
   "id": "16831bc0-571e-461d-b568-e004180c30bb",
   "metadata": {},
   "outputs": [],
   "source": [
    "mapper = fs.get_mapper(filter_df.path.values[0])\n",
    "xrdata = xr.open_zarr(mapper, consolidated=True)"
   ]
  }
 ],
 "metadata": {
  "kernelspec": {
   "display_name": "Python 3 (ipykernel)",
   "language": "python",
   "name": "python3"
  },
  "language_info": {
   "codemirror_mode": {
    "name": "ipython",
    "version": 3
   },
   "file_extension": ".py",
   "mimetype": "text/x-python",
   "name": "python",
   "nbconvert_exporter": "python",
   "pygments_lexer": "ipython3",
   "version": "3.13.2"
  }
 },
 "nbformat": 4,
 "nbformat_minor": 5
}
