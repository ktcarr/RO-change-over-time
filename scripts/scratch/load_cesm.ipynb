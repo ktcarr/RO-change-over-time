{
 "cells": [
  {
   "cell_type": "markdown",
   "id": "6668fab9-314e-46be-9207-6876b6a232ef",
   "metadata": {},
   "source": [
    "# Load CESM\n",
    "following example here: ```https://github.com/ckaramp-research/code-snippets?tab=readme-ov-file```"
   ]
  },
  {
   "cell_type": "code",
   "execution_count": null,
   "id": "3f19b614-0548-4083-b7c9-c2f73afd38ac",
   "metadata": {},
   "outputs": [],
   "source": [
    "import pandas as pd\n",
    "import s3fs\n",
    "import xarray as xr\n",
    "import numpy as np"
   ]
  },
  {
   "cell_type": "markdown",
   "id": "5b7a1e1a-10c1-4020-8323-60e8f519c212",
   "metadata": {},
   "source": [
    "## Print out information"
   ]
  },
  {
   "cell_type": "code",
   "execution_count": null,
   "id": "ccd8057e-85eb-4b5d-a01f-6638ffb30acc",
   "metadata": {},
   "outputs": [],
   "source": [
    "fs = s3fs.S3FileSystem(anon=True)\n",
    "\n",
    "df = pd.read_csv(\n",
    "    \"https://ncar-cesm2-lens.s3-us-west-2.amazonaws.com/catalogs/aws-cesm2-le.csv\"\n",
    ")\n",
    "\n",
    "## get variable names and remove nan\n",
    "var_names = df.long_name.unique()\n",
    "var_names = [v for v in var_names if (type(v) is str)]\n",
    "\n",
    "for v in np.sort(var_names):\n",
    "    print(v)"
   ]
  },
  {
   "cell_type": "markdown",
   "id": "e76091cf-1eb4-48da-818a-a6ab8dc72a72",
   "metadata": {},
   "source": [
    "## Example of filtering"
   ]
  },
  {
   "cell_type": "code",
   "execution_count": null,
   "id": "1050e720-9c30-483d-afd3-a8b53302b9e4",
   "metadata": {},
   "outputs": [],
   "source": [
    "filter_df = df.query(\n",
    "    \"long_name == 'potential temperature' and experiment == 'historical' and frequency == 'monthly' and forcing_variant == 'cmip6'\"\n",
    ")\n",
    "filter_df"
   ]
  },
  {
   "cell_type": "markdown",
   "id": "d67ebd29-65a0-4909-bb25-b2c532183b23",
   "metadata": {},
   "source": [
    "## Example of loading"
   ]
  },
  {
   "cell_type": "code",
   "execution_count": null,
   "id": "16831bc0-571e-461d-b568-e004180c30bb",
   "metadata": {},
   "outputs": [],
   "source": [
    "mapper = fs.get_mapper(filter_df.path.values[0])\n",
    "xrdata = xr.open_zarr(mapper, consolidated=True)"
   ]
  }
 ],
 "metadata": {
  "kernelspec": {
   "display_name": "Python 3 (ipykernel)",
   "language": "python",
   "name": "python3"
  },
  "language_info": {
   "codemirror_mode": {
    "name": "ipython",
    "version": 3
   },
   "file_extension": ".py",
   "mimetype": "text/x-python",
   "name": "python",
   "nbconvert_exporter": "python",
   "pygments_lexer": "ipython3",
   "version": "3.13.3"
  }
 },
 "nbformat": 4,
 "nbformat_minor": 5
}
