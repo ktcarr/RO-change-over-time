{
 "cells": [
  {
   "cell_type": "markdown",
   "id": "a1fa60ac-6649-470d-a5e9-aacacff5a428",
   "metadata": {},
   "source": [
    "# Predictability"
   ]
  },
  {
   "cell_type": "markdown",
   "id": "d49649d9-0d9c-4379-8948-9805d506b432",
   "metadata": {},
   "source": [
    "## Imports"
   ]
  },
  {
   "cell_type": "code",
   "execution_count": null,
   "id": "e461d7ff-9751-4975-87df-bb7920fc8305",
   "metadata": {},
   "outputs": [],
   "source": [
    "import datetime\n",
    "import matplotlib\n",
    "import matplotlib.pyplot as plt\n",
    "import matplotlib as mpl\n",
    "import numpy as np\n",
    "import seaborn as sns\n",
    "import xarray as xr\n",
    "import tqdm\n",
    "import pathlib\n",
    "import cmocean\n",
    "import os\n",
    "import src.XRO\n",
    "import copy\n",
    "import scipy.stats\n",
    "import warnings\n",
    "import calendar\n",
    "import gsw\n",
    "\n",
    "## set plotting specs\n",
    "sns.set(rc={\"axes.facecolor\": \"white\", \"axes.grid\": False})\n",
    "\n",
    "## bump up DPI\n",
    "mpl.rcParams[\"figure.dpi\"] = 100\n",
    "\n",
    "## get filepaths\n",
    "DATA_FP = pathlib.Path(os.environ[\"DATA_FP\"])\n",
    "SAVE_FP = pathlib.Path(os.environ[\"SAVE_FP\"])"
   ]
  },
  {
   "cell_type": "markdown",
   "id": "ae93cc59-ba68-4d8b-99c7-14ae22079b1f",
   "metadata": {},
   "source": [
    "## Load data"
   ]
  },
  {
   "cell_type": "code",
   "execution_count": null,
   "id": "41ea460d-a9db-4897-a92b-3081b0bba682",
   "metadata": {},
   "outputs": [],
   "source": [
    "## open data\n",
    "Th = src.utils.load_cesm_indices()\n",
    "\n",
    "## rename indices for convenience\n",
    "Th = Th.rename(\n",
    "    {\n",
    "        \"north_tropical_atlantic\": \"natl\",\n",
    "        \"atlantic_nino\": \"nino_atl\",\n",
    "        \"tropical_indian_ocean\": \"iobm\",\n",
    "        \"indian_ocean_dipole\": \"iod\",\n",
    "        \"north_pacific_meridional_mode\": \"npmm\",\n",
    "        \"south_pacific_meridional_mode\": \"spmm\",\n",
    "    }\n",
    ")\n",
    "\n",
    "## standardize (for convenience)\n",
    "Th /= Th.std()"
   ]
  },
  {
   "cell_type": "markdown",
   "id": "16935257-b995-44dc-9bdd-6828a527080a",
   "metadata": {},
   "source": [
    "### Predictability"
   ]
  },
  {
   "cell_type": "markdown",
   "id": "40bc744d-2cad-4d2a-a4b3-55b0354338eb",
   "metadata": {},
   "source": [
    "1. Fit RO to (i) early and (ii) late data\n",
    "2. Assess forecast skill in both (compare difference)\n",
    "3. Perfect model forecasts with RO"
   ]
  },
  {
   "cell_type": "markdown",
   "id": "c2b02b8e-af04-46f4-b21a-2ef2a585afee",
   "metadata": {},
   "source": [
    "#### Fit models"
   ]
  },
  {
   "cell_type": "code",
   "execution_count": null,
   "id": "cce6dbe5-9cb0-47ec-b299-02583f70f48e",
   "metadata": {},
   "outputs": [],
   "source": [
    "def calc_forecast_skill(fcst_ds, ref_ds, metric=\"acc\", is_mv3=False):\n",
    "    try:\n",
    "        fcst_ds = fcst_ds.squeeze().drop(\"member\")\n",
    "    except:\n",
    "        pass\n",
    "\n",
    "    if is_mv3:\n",
    "        fcst_ds = fcst_ds.rolling(init=3, center=True, min_periods=1).mean(\"init\")\n",
    "        ref_mv3 = (\n",
    "            ref_ds.rolling(time=3, center=True, min_periods=1).mean().dropna(dim=\"time\")\n",
    "        )\n",
    "    else:\n",
    "        ref_mv3 = ref_ds\n",
    "\n",
    "    ## hindcast\n",
    "    hc_XRO = climpred.HindcastEnsemble(fcst_ds)\n",
    "    hc_XRO = hc_XRO.add_observations(ref_mv3)\n",
    "\n",
    "    ## compute skill\n",
    "    skill_XRO = hc_XRO.verify(\n",
    "        metric=metric,\n",
    "        comparison=\"e2o\",\n",
    "        alignment=\"maximize\",\n",
    "        dim=[\"sample\"],\n",
    "        skipna=True,\n",
    "        groupby=\"month\",\n",
    "    )\n",
    "\n",
    "    ## not sure\n",
    "    try:\n",
    "        del skill_XRO.attrs[\"skipna\"]\n",
    "        skill_XRO = skill_XRO.drop(\"skill\")\n",
    "    except:\n",
    "        pass\n",
    "\n",
    "    for var in skill_XRO.data_vars:\n",
    "        if var != \"model\":\n",
    "            skill_XRO[var].encoding[\"dtype\"] = \"float32\"\n",
    "            skill_XRO[var].encoding[\"_FillValue\"] = 1e20\n",
    "\n",
    "    return skill_XRO"
   ]
  },
  {
   "cell_type": "code",
   "execution_count": null,
   "id": "b50da11b-4b89-48c3-9c36-212cd16bda6a",
   "metadata": {},
   "outputs": [],
   "source": [
    "## get early/late data\n",
    "varnames = [\"T_34\", \"h_w\"]\n",
    "Th0 = Th[varnames].isel(time=slice(12, 372))\n",
    "Th1 = Th[varnames].isel(time=slice(-360, None))\n",
    "\n",
    "## specify model\n",
    "model = src.XRO.XRO(ncycle=12, ac_order=3, is_forward=True)\n",
    "\n",
    "## fit model\n",
    "fit_kwargs = dict(ac_mask_idx=None, maskNT=[])\n",
    "fit0 = model.fit_matrix(Th0, **fit_kwargs)\n",
    "fit1 = model.fit_matrix(Th1, **fit_kwargs)"
   ]
  },
  {
   "cell_type": "markdown",
   "id": "705c594c-bffe-40e8-b5f3-1899316dd7da",
   "metadata": {},
   "source": [
    "#### Make forecasts"
   ]
  },
  {
   "cell_type": "markdown",
   "id": "625902c9-3de4-45d0-ab24-68fcc570c6f8",
   "metadata": {},
   "source": [
    "Function to get forecast data"
   ]
  },
  {
   "cell_type": "code",
   "execution_count": null,
   "id": "e063b7aa-e6c4-4166-9d29-3549419a442e",
   "metadata": {},
   "outputs": [],
   "source": [
    "def get_forecast_data(\n",
    "    model, fit, data, max_lead=28, n_members=5, perfect_model=False, save_fp=None\n",
    "):\n",
    "    \"\"\"Get forecasts and verification data for given model, fit, and data\"\"\"\n",
    "\n",
    "    ## try to open data\n",
    "    if save_fp.is_file():\n",
    "        time_coder = xr.coders.CFDatetimeCoder(use_cftime=True)\n",
    "        forecast_data = xr.open_dataset(save_fp, decode_times=time_coder)\n",
    "\n",
    "    else:\n",
    "\n",
    "        ## stochastic simulation data\n",
    "        if perfect_model:\n",
    "            data = model.simulate(\n",
    "                fit_ds=fit,\n",
    "                X0_ds=data.isel(member=0, time=0),\n",
    "                nyear=len(np.unique(data.time.dt.year)),\n",
    "                ncopy=n_members,\n",
    "            )\n",
    "\n",
    "        ## trim and reshape for forecasting\n",
    "        data_ = data.isel(member=slice(None, n_members))\n",
    "        data_ = data_.stack(sample=[\"member\", \"time\"]).transpose(..., \"sample\")\n",
    "\n",
    "        ## make forecasts\n",
    "        # forecast = model.reforecast(\n",
    "        #     fit_ds=fit,\n",
    "        #     init_ds=data_,\n",
    "        #     n_month=max_lead,\n",
    "        #     ncopy=1,\n",
    "        #     noise_type=\"zero\",\n",
    "        # )\n",
    "        forecast = model.reforecast(\n",
    "            fit_ds=fit,\n",
    "            init_ds=data_,\n",
    "            n_month=max_lead,\n",
    "            ncopy=100,\n",
    "        ).mean(\"member\")\n",
    "\n",
    "        ## massage into xarray\n",
    "        forecast = forecast.swap_dims({\"sample\": \"init\"}).unstack(\"init\")\n",
    "        forecast = forecast.rename({n: f\"{n}_hat\" for n in list(forecast)})\n",
    "        forecast = forecast.isel(time=slice(None, -max_lead))\n",
    "\n",
    "        #### verification data\n",
    "\n",
    "        ## get time index\n",
    "        time_idx = forecast.time\n",
    "        n_time = len(time_idx)\n",
    "\n",
    "        ## loop thru lead times\n",
    "        target = []\n",
    "        for l in forecast.lead.values:\n",
    "\n",
    "            target_ = data.sel(member=forecast.member).isel(time=slice(l, n_time + l))\n",
    "            target_ = target_.assign_coords(dict(time=time_idx))\n",
    "            target.append(target_)\n",
    "\n",
    "        ## convert to xr\n",
    "        target = xr.concat(target, dim=forecast.lead)\n",
    "        forecast_data = xr.merge([forecast, target])\n",
    "\n",
    "        ## save to file\n",
    "        # forecast_data.to_netcdf(save_fp)\n",
    "\n",
    "    return forecast_data"
   ]
  },
  {
   "cell_type": "markdown",
   "id": "06cc27f0-1a75-458b-83af-f662127218d2",
   "metadata": {},
   "source": [
    "Compute forecasts"
   ]
  },
  {
   "cell_type": "code",
   "execution_count": null,
   "id": "4c04310f-783e-4807-a090-891d1aed45cd",
   "metadata": {},
   "outputs": [],
   "source": [
    "## should we do perfect model forecast?\n",
    "PERFECT_MODEL = True\n",
    "\n",
    "## directory for forecast data\n",
    "if PERFECT_MODEL:\n",
    "    FNAME0 = \"forecast_pm_data0.nc\"\n",
    "    FNAME1 = \"forecast_pm_data1.nc\"\n",
    "    # FNAME0 = \"test0.nc\"\n",
    "    # FNAME1 = \"test1.nc\"\n",
    "\n",
    "else:\n",
    "    FNAME0 = \"forecast_data0.nc\"\n",
    "    FNAME1 = \"forecast_data1.nc\"\n",
    "\n",
    "## get filepaths\n",
    "FORECAST_DIR = pathlib.Path(os.environ[\"SAVE_FP\"], \"forecast_data\")\n",
    "FP0 = FORECAST_DIR / FNAME0\n",
    "FP1 = FORECAST_DIR / FNAME1\n",
    "\n",
    "## specified shared args\n",
    "kwargs = dict(model=model, n_members=100, perfect_model=PERFECT_MODEL)\n",
    "\n",
    "## load data\n",
    "forecast_data0 = get_forecast_data(fit=fit0, data=Th0, save_fp=FP0, **kwargs)\n",
    "forecast_data1 = get_forecast_data(fit=fit1, data=Th1, save_fp=FP1, **kwargs)"
   ]
  },
  {
   "cell_type": "markdown",
   "id": "b115f2d1-4154-41cc-9d31-faa382568bf9",
   "metadata": {},
   "source": [
    "#### Evaluate"
   ]
  },
  {
   "cell_type": "markdown",
   "id": "3fd78095-d7d0-4c84-a5dd-0c40dddd8b10",
   "metadata": {},
   "source": [
    "Funcs to compute correlation"
   ]
  },
  {
   "cell_type": "code",
   "execution_count": null,
   "id": "60f6907a-595a-40fe-8852-d841f7389073",
   "metadata": {},
   "outputs": [],
   "source": [
    "def get_corr(ds, varname):\n",
    "    \"\"\"Get correlation for given variable in dataset\"\"\"\n",
    "\n",
    "    return xr.corr(ds[varname], ds[f\"{varname}_hat\"], dim=[\"member\", \"time\"])\n",
    "\n",
    "\n",
    "def get_corr_bymonth(ds, varname):\n",
    "    \"\"\"Get correlation by month for given variable in dataset\"\"\"\n",
    "\n",
    "    return ds.groupby(\"time.month\").map(get_corr, varname=varname)"
   ]
  },
  {
   "cell_type": "markdown",
   "id": "bc679119-8256-4884-9291-4d5b05380052",
   "metadata": {},
   "source": [
    "Compute"
   ]
  },
  {
   "cell_type": "code",
   "execution_count": null,
   "id": "d1f4f23a-db0b-426f-aa0e-27617324fb64",
   "metadata": {},
   "outputs": [],
   "source": [
    "## specify plot variable\n",
    "plot_var = \"T_34\"\n",
    "\n",
    "## compute\n",
    "corr0 = get_corr_bymonth(forecast_data0, plot_var).sel(lead=slice(1, None))\n",
    "corr1 = get_corr_bymonth(forecast_data1, plot_var).sel(lead=slice(1, None))"
   ]
  },
  {
   "cell_type": "markdown",
   "id": "32c5de38-9e31-4a6b-b5b2-d41f5fc5523c",
   "metadata": {},
   "source": [
    "#### Plot difference"
   ]
  },
  {
   "cell_type": "markdown",
   "id": "20f6f41c-3851-471c-abe1-27c5b073cc67",
   "metadata": {},
   "source": [
    "Plotting functions"
   ]
  },
  {
   "cell_type": "code",
   "execution_count": null,
   "id": "958dd93e-813b-4e0c-863a-2f25f2ee56fb",
   "metadata": {},
   "outputs": [],
   "source": [
    "def contourf_skill(ax, skill, **kwargs):\n",
    "    \"\"\"filled contour plot of correlation\"\"\"\n",
    "\n",
    "    plot_data = ax.contourf(\n",
    "        skill.lead,\n",
    "        skill.month,\n",
    "        skill,\n",
    "        **kwargs,\n",
    "    )\n",
    "\n",
    "    return plot_data\n",
    "\n",
    "\n",
    "def contour_cutoff(ax, skill, cutoff=0.5, **kwargs):\n",
    "    \"\"\"plot single contour to show cutoff\"\"\"\n",
    "\n",
    "    plot_data = ax.contour(\n",
    "        skill.lead,\n",
    "        skill.month,\n",
    "        skill,\n",
    "        colors=\"k\",\n",
    "        levels=[cutoff],\n",
    "        **kwargs,\n",
    "    )\n",
    "\n",
    "    return plot_data\n",
    "\n",
    "\n",
    "def format_ax(ax):\n",
    "    \"\"\"make ax look nicer\"\"\"\n",
    "    for ax in axs:\n",
    "        ax.set_aspect(\"equal\")\n",
    "        ax.set_xticks([])\n",
    "        ax.set_yticks([1, 5, 9, 12], labels=[\"Jan\", \"May\", \"Sep\", \"Dec\"])\n",
    "        ax.set_ylabel(\"Init.\")\n",
    "        ax.set_xlim([None, 24.5])\n",
    "    axs[-1].set_xticks([1, 8, 16, 24])\n",
    "    axs[-1].set_xlabel(\"Lead\")\n",
    "\n",
    "    return"
   ]
  },
  {
   "cell_type": "markdown",
   "id": "6d9ba3d1-ac0f-43eb-808b-fd59419be3b0",
   "metadata": {},
   "source": [
    "Make the plot"
   ]
  },
  {
   "cell_type": "code",
   "execution_count": null,
   "id": "b60a5524-4694-47c5-b990-2378c0a0cc87",
   "metadata": {},
   "outputs": [],
   "source": [
    "fig, axs = plt.subplots(3, 1, figsize=(4, 4), layout=\"constrained\")\n",
    "\n",
    "for (\n",
    "    ax,\n",
    "    corr,\n",
    "    ls,\n",
    ") in zip(axs[:2], [corr0, corr1], [\"solid\", \"dashed\"]):\n",
    "\n",
    "    ## plot\n",
    "    plot_data0 = contourf_skill(ax, corr, cmap=\"cmo.amp\", levels=np.arange(0, 1.1, 0.1))\n",
    "    contour_cutoff(ax, corr, linestyles=ls)\n",
    "\n",
    "## plot difference\n",
    "plot_data_diff = contourf_skill(\n",
    "    axs[-1],\n",
    "    corr1 - corr0,\n",
    "    cmap=\"cmo.balance\",\n",
    "    levels=src.utils.make_cb_range(0.5, 0.1),\n",
    "    extend=\"both\",\n",
    "    alpha=0.8,\n",
    ")\n",
    "\n",
    "## plot cutoffs\n",
    "contour_cutoff(axs[-1], corr0, linestyles=\"solid\")\n",
    "contour_cutoff(axs[-1], corr1, linestyles=\"dashed\")\n",
    "\n",
    "fig.colorbar(plot_data0, ax=axs[:2], ticks=[0, 0.5, 1], label=\"ACC\")\n",
    "fig.colorbar(plot_data_diff, ax=axs[-1], ticks=[-0.5, 0, 0.5], label=\"Diff.\")\n",
    "\n",
    "## label\n",
    "for ax in axs:\n",
    "    format_ax(ax)\n",
    "\n",
    "plt.show()"
   ]
  },
  {
   "cell_type": "markdown",
   "id": "79444658-8212-4b7e-a5c1-bcc6eefbb5e2",
   "metadata": {},
   "source": [
    "#### Composite evolution of $T$ and $h$"
   ]
  },
  {
   "cell_type": "code",
   "execution_count": null,
   "id": "ca404cfc-b9e6-43db-b94a-d1aac0a12113",
   "metadata": {},
   "outputs": [],
   "source": [
    "def get_samples(forecast_data, q=0.9, is_warm=True, month=1):\n",
    "    \"\"\"function to get quantile of samples from data\"\"\"\n",
    "\n",
    "    ## get Dec. initial conditions and reshape\n",
    "    data_dec = forecast_data.isel(time=forecast_data.time.dt.month == month)\n",
    "    data_dec = data_dec.stack(sample=[\"member\", \"time\"])\n",
    "\n",
    "    ## get indices to sort data\n",
    "    T34_init = data_dec[\"T_34\"].isel(lead=0).drop_vars(\"lead\")\n",
    "\n",
    "    ## select for quantile\n",
    "    if is_warm:\n",
    "        cutoff = T34_init.quantile(q=q)\n",
    "        samples = data_dec.isel(sample=(T34_init >= cutoff))\n",
    "    else:\n",
    "        cutoff = T34_init.quantile(q=1 - q)\n",
    "        samples = data_dec.isel(sample=(T34_init <= cutoff))\n",
    "\n",
    "    return samples\n",
    "\n",
    "\n",
    "## get trajectories in early/late period\n",
    "warm0 = get_samples(forecast_data0, is_warm=True)\n",
    "warm1 = get_samples(forecast_data1, is_warm=True)\n",
    "\n",
    "cold0 = get_samples(forecast_data0, is_warm=False)\n",
    "cold1 = get_samples(forecast_data1, is_warm=False)"
   ]
  },
  {
   "cell_type": "code",
   "execution_count": null,
   "id": "7fef3ff6-175d-4d4d-aede-bf11240e4be1",
   "metadata": {},
   "outputs": [],
   "source": [
    "def format_axs(axs):\n",
    "    \"\"\"format axs in preferred style\"\"\"\n",
    "    for ax in axs[0, :]:\n",
    "        ax.set_ylim([-2.5, 3])\n",
    "\n",
    "    for ax in axs[1, :]:\n",
    "        ax.set_ylim([-2.5, 4])\n",
    "\n",
    "    for ax in axs[:, 1]:\n",
    "        ax.set_yticks([])\n",
    "        ax.yaxis.set_label_position(\"right\")\n",
    "\n",
    "    for ax in axs[0, :]:\n",
    "        ax.set_xticks([])\n",
    "\n",
    "    for ax in axs[1, :]:\n",
    "        ax.set_xticks([0, 12, 24], labels=[0, 1, 2])\n",
    "\n",
    "    for ax in axs.flatten():\n",
    "        ax.axhline(0, c=\"k\", lw=0.7)\n",
    "        for m in [0, 12, 24]:\n",
    "            ax.scatter(m, 0, c=\"k\", s=20, zorder=10)\n",
    "\n",
    "    return"
   ]
  },
  {
   "cell_type": "markdown",
   "id": "0a8d0093-f441-4909-ad22-6cb1676f669d",
   "metadata": {},
   "source": [
    "Plot historical vs. future composites"
   ]
  },
  {
   "cell_type": "code",
   "execution_count": null,
   "id": "06835441-e0e6-4a9c-be4d-abb948a37ac6",
   "metadata": {},
   "outputs": [],
   "source": [
    "colors = sns.color_palette(\"colorblind\")\n",
    "\n",
    "fig, axs = plt.subplots(2, 2, figsize=(6, 5))\n",
    "\n",
    "for lw, ls, q in zip([1.5, 1.5, 4], [\"--\", \"--\", \"-\"], [0.1, 0.9, 0.5]):\n",
    "\n",
    "    for ci, (warm, label) in enumerate(zip([warm0, warm1], [\"hist\", \"fut\"])):\n",
    "        plot_data = warm.quantile(q=q, dim=\"sample\")\n",
    "        plot_kwargs = dict(lw=lw, ls=ls, c=colors[ci], alpha=0.8)\n",
    "\n",
    "        if not (q == 0.5):\n",
    "            label = None\n",
    "\n",
    "        axs[0, 0].plot(plot_data.lead, plot_data[\"T_34\"], label=label, **plot_kwargs)\n",
    "        axs[1, 0].plot(plot_data.lead, -plot_data[\"h_w\"], label=label, **plot_kwargs)\n",
    "\n",
    "    for ci, warm in enumerate([cold0, cold1]):\n",
    "        plot_data = warm.quantile(q=q, dim=\"sample\")\n",
    "        plot_kwargs = dict(lw=lw, ls=ls, c=colors[ci], alpha=0.8)\n",
    "\n",
    "        axs[0, 1].plot(plot_data.lead, -plot_data[\"T_34\"], **plot_kwargs)\n",
    "        axs[1, 1].plot(plot_data.lead, plot_data[\"h_w\"], **plot_kwargs)\n",
    "\n",
    "axs[0, 1].set_ylabel(r\"$T$\")\n",
    "axs[1, 1].set_ylabel(r\"$h_w$\")\n",
    "axs[0, 0].set_title(\"El Niño\")\n",
    "axs[0, 1].set_title(\"La Niña\")\n",
    "axs[0, 0].legend(prop=dict(size=8))\n",
    "format_axs(axs)\n",
    "\n",
    "plt.show()"
   ]
  },
  {
   "cell_type": "markdown",
   "id": "51772455-b1e5-4b1f-b307-1fc2f4e69bd9",
   "metadata": {},
   "source": [
    "Plot actual vs forecast in hist and future"
   ]
  },
  {
   "cell_type": "code",
   "execution_count": null,
   "id": "f36501a4-e52a-4bf9-a786-5e7945098cf4",
   "metadata": {},
   "outputs": [],
   "source": [
    "colors = sns.color_palette(\"colorblind\")\n",
    "\n",
    "fig, axs = plt.subplots(2, 2, figsize=(5, 4), layout=\"constrained\")\n",
    "\n",
    "for lw, ls, q in zip([1.5, 1.5, 4], [\"--\", \"--\", \"-\"], [0.1, 0.9, 0.5]):\n",
    "\n",
    "    for ci, (n, label) in enumerate(zip([\"h_w\", \"h_w_hat\"], [\"actual\", \"forecast\"])):\n",
    "\n",
    "        ## args for plotting\n",
    "        sel = lambda x: x[n].quantile(q=q, dim=\"sample\")\n",
    "        plot_kwargs = dict(\n",
    "            lw=lw, ls=ls, c=colors[ci], alpha=0.8, label=(label if (q == 0.5) else None)\n",
    "        )\n",
    "\n",
    "        ## plot data\n",
    "        axs[0, 0].plot(warm0.lead, sel(warm0), **plot_kwargs)\n",
    "        axs[1, 0].plot(warm1.lead, sel(warm1), **plot_kwargs)\n",
    "\n",
    "        ## plot data\n",
    "        axs[0, 1].plot(cold0.lead, -sel(cold0), **plot_kwargs)\n",
    "        axs[1, 1].plot(cold1.lead, -sel(cold1), **plot_kwargs)\n",
    "\n",
    "\n",
    "axs[0, 1].set_ylabel(r\"Hist\")\n",
    "axs[1, 1].set_ylabel(r\"Future\")\n",
    "axs[0, 0].set_title(\"El Niño\")\n",
    "axs[0, 1].set_title(\"La Niña\")\n",
    "axs[0, 0].legend(prop=dict(size=8))\n",
    "format_axs(axs)\n",
    "for ax in axs.flatten():\n",
    "    ax.set_ylim([-3, 3])\n",
    "\n",
    "plt.show()"
   ]
  },
  {
   "cell_type": "code",
   "execution_count": null,
   "id": "259cd267-c26b-4449-bd0d-8173e7c6977f",
   "metadata": {
    "scrolled": true
   },
   "outputs": [],
   "source": [
    "## get Dec. initial conditions and reshape\n",
    "data_dec = forecast_data1.isel(time=forecast_data1.time.dt.month == 1)\n",
    "data_dec = data_dec.stack(sample=[\"member\", \"time\"])\n",
    "\n",
    "## get indices to sort data\n",
    "T34_init = data_dec[\"T_34\"].isel(lead=0).drop_vars(\"lead\")\n",
    "\n",
    "## select for quantile\n",
    "cutoff = T34_init.quantile(q=0.1)\n",
    "samples = data_dec.isel(sample=(T34_init >= cutoff))"
   ]
  },
  {
   "cell_type": "markdown",
   "id": "8aa7a976-3a6a-483a-826d-acb06e556da0",
   "metadata": {},
   "source": [
    "Try to de-bug mismatch.  \n",
    "Looks like months are off-by-one"
   ]
  },
  {
   "cell_type": "code",
   "execution_count": null,
   "id": "a3bf6f66-345c-4d76-bd63-14af6688609f",
   "metadata": {},
   "outputs": [],
   "source": [
    "plt.plot(forecast_data1.isel(lead=1)[\"T_34\"].groupby(\"time.month\").var().mean(\"member\"))\n",
    "plt.plot(\n",
    "    forecast_data1.isel(lead=1)[\"T_34_hat\"].groupby(\"time.month\").var().mean(\"member\")\n",
    ")"
   ]
  },
  {
   "cell_type": "code",
   "execution_count": null,
   "id": "27014a92-dc14-42b5-ad5e-cda17ee7f9e4",
   "metadata": {},
   "outputs": [],
   "source": [
    "samples"
   ]
  },
  {
   "cell_type": "code",
   "execution_count": null,
   "id": "368cae00-5017-4bb5-af1b-b6d93030245f",
   "metadata": {},
   "outputs": [],
   "source": [
    "PLOT_VAR = \"h_w\"\n",
    "\n",
    "import datetime\n",
    "\n",
    "x = warm1.mean(\"sample\")[[\"T_34\", \"h_w\"]]\n",
    "xhat = warm1.mean(\"sample\")[[\"T_34_hat\", \"h_w_hat\"]]\n",
    "\n",
    "time_coord = dict(time=[datetime.datetime(1990, 2, 1)])\n",
    "X0 = x.isel(lead=slice(0, 1)).rename({\"lead\": \"time\"}).assign_coords(time_coord)\n",
    "v0 = model.reforecast(\n",
    "    fit_ds=fit1,\n",
    "    init_ds=X0,\n",
    "    n_month=28,\n",
    "    ncopy=1000,\n",
    "    noise_type=\"red\",\n",
    ")\n",
    "\n",
    "fig, ax = plt.subplots(figsize=(4, 3))\n",
    "ax.plot(x.lead, x[PLOT_VAR], label=\"true evo\")\n",
    "ax.plot(x.lead, xhat[f\"{PLOT_VAR}_hat\"], label=\"forecast evo\")\n",
    "ax.plot(x.lead, v0[f\"{PLOT_VAR}\"].mean(\"member\"), ls=\"--\", label=\"fixed forecast\")\n",
    "ax.legend()\n",
    "plt.show()"
   ]
  },
  {
   "cell_type": "code",
   "execution_count": null,
   "id": "03282749-a1db-4fa3-b63a-594c5e5dd603",
   "metadata": {},
   "outputs": [],
   "source": [
    "data_"
   ]
  },
  {
   "cell_type": "code",
   "execution_count": null,
   "id": "2ec23635-a4a8-48fd-b9b1-8394ef42ad60",
   "metadata": {},
   "outputs": [],
   "source": [
    "## stochastic simulation data\n",
    "data = model.simulate(\n",
    "    fit_ds=fit1,\n",
    "    X0_ds=Th1.isel(member=0, time=0),\n",
    "    nyear=len(np.unique(Th1.time.dt.year)),\n",
    "    ncopy=2,\n",
    ")\n",
    "\n",
    "## trim and reshape for forecasting\n",
    "data_ = data.stack(sample=[\"member\", \"time\"]).transpose(..., \"sample\")\n",
    "\n",
    "## do reforecast\n",
    "forecast = model.reforecast(\n",
    "    fit_ds=fit1,\n",
    "    init_ds=data_,\n",
    "    n_month=29,\n",
    "    ncopy=100,\n",
    ").mean(\"member\")"
   ]
  },
  {
   "cell_type": "code",
   "execution_count": null,
   "id": "dae6f4f9-9029-4ccb-bc19-706df526b419",
   "metadata": {},
   "outputs": [],
   "source": [
    "## massage into xarray\n",
    "forecast = forecast.swap_dims({\"sample\": \"init\"}).unstack(\"init\")\n",
    "forecast = forecast.rename({n: f\"{n}_hat\" for n in list(forecast)})\n",
    "forecast = forecast.isel(time=slice(None, -29))\n",
    "\n",
    "# #### verification data"
   ]
  },
  {
   "cell_type": "code",
   "execution_count": null,
   "id": "7e3935d9-adf1-44b7-8de7-caf359ac1852",
   "metadata": {},
   "outputs": [],
   "source": [
    "## get time index\n",
    "time_idx = forecast.time\n",
    "n_time = len(time_idx)\n",
    "\n",
    "## loop thru lead times\n",
    "target = []\n",
    "for l in forecast.lead.values:\n",
    "\n",
    "    target_ = data.sel(member=forecast.member).isel(time=slice(l, n_time + l))\n",
    "    target_ = target_.assign_coords(dict(time=time_idx))\n",
    "    target.append(target_)\n",
    "\n",
    "## convert to xr\n",
    "target = xr.concat(target, dim=forecast.lead)\n",
    "# forecast_data = xr.merge([forecast, target])"
   ]
  },
  {
   "cell_type": "code",
   "execution_count": null,
   "id": "db9f54fb-1c78-4bd5-9dbc-09f359dbe31b",
   "metadata": {},
   "outputs": [],
   "source": [
    "forecast.shap"
   ]
  },
  {
   "cell_type": "code",
   "execution_count": null,
   "id": "4bc9d97a-932f-4a9b-a937-cf9418efcd5b",
   "metadata": {},
   "outputs": [],
   "source": [
    "plt.plot(\n",
    "    target.isel(lead=1).groupby(\"time.month\").var().mean(\"member\")[\"T_34\"],\n",
    ")\n",
    "plt.plot(\n",
    "    forecast.isel(lead=1).groupby(\"time.month\").var().mean(\"member\")[\"T_34_hat\"],\n",
    ")"
   ]
  },
  {
   "cell_type": "code",
   "execution_count": null,
   "id": "28b0331f-a459-4492-a625-0ba296438016",
   "metadata": {},
   "outputs": [],
   "source": [
    "forecast.time"
   ]
  },
  {
   "cell_type": "code",
   "execution_count": null,
   "id": "3480e021-d843-42b7-8428-928046eccb4a",
   "metadata": {},
   "outputs": [],
   "source": [
    "data_.time"
   ]
  },
  {
   "cell_type": "code",
   "execution_count": null,
   "id": "c9892e24-db66-4d3c-a6d0-deaf988ee8d5",
   "metadata": {},
   "outputs": [],
   "source": [
    "data.time"
   ]
  },
  {
   "cell_type": "markdown",
   "id": "1586dacc-6a35-42be-aeac-fc011b3b5418",
   "metadata": {},
   "source": [
    "Scatter plot of predictions vs actual"
   ]
  },
  {
   "cell_type": "code",
   "execution_count": null,
   "id": "8fc8be7e-fbbd-4639-88c6-ffce4bd95fcc",
   "metadata": {},
   "outputs": [],
   "source": [
    "lead = 7\n",
    "\n",
    "plot_data = warm0.isel(lead=lead)\n",
    "plot_var = \"T_34\"\n",
    "\n",
    "fig, ax = plt.subplots(figsize=(3, 3))\n",
    "ax.set_aspect(\"equal\")\n",
    "\n",
    "ax.scatter(\n",
    "    plot_data[plot_var],\n",
    "    plot_data[f\"{plot_var}_hat\"],\n",
    "    s=10,\n",
    ")\n",
    "\n",
    "## 1-1 line\n",
    "min_ = plot_data[plot_var].min().values.item()\n",
    "max_ = plot_data[plot_var].max().values.item()\n",
    "z = np.linspace(min_, max_)\n",
    "ax.plot(z, z, c=\"k\", lw=1.5)\n",
    "\n",
    "## axes\n",
    "kwargs = dict(ls=\"--\", c=\"k\", lw=1)\n",
    "ax.axhline(0, **kwargs)\n",
    "ax.axvline(0, **kwargs)\n",
    "ax.set_xlim([-4, 4])\n",
    "ax.set_ylim([-4, 4])\n",
    "ax.set_xlabel(\"actual\")\n",
    "ax.set_ylabel(\"Predicted\")\n",
    "\n",
    "plt.show()\n",
    "# ax.set_ylim"
   ]
  }
 ],
 "metadata": {
  "kernelspec": {
   "display_name": "Python [conda env:envs]",
   "language": "python",
   "name": "conda-env-envs-py"
  },
  "language_info": {
   "codemirror_mode": {
    "name": "ipython",
    "version": 3
   },
   "file_extension": ".py",
   "mimetype": "text/x-python",
   "name": "python",
   "nbconvert_exporter": "python",
   "pygments_lexer": "ipython3",
   "version": "3.13.5"
  }
 },
 "nbformat": 4,
 "nbformat_minor": 5
}
