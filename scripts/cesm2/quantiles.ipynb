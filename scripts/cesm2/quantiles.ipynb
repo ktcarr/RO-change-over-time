{
 "cells": [
  {
   "cell_type": "markdown",
   "id": "e387950a-e4ed-420b-875a-803820fc34e1",
   "metadata": {},
   "source": [
    "# Quantiles\n",
    "How do ENSO quantiles change over time?"
   ]
  },
  {
   "cell_type": "code",
   "execution_count": null,
   "id": "faee9b37-4f2e-492e-9cfb-954fb73638f2",
   "metadata": {},
   "outputs": [],
   "source": [
    "import pandas as pd\n",
    "import matplotlib.pyplot as plt\n",
    "import matplotlib as mpl\n",
    "import cartopy.crs as ccrs\n",
    "import numpy as np\n",
    "import scipy.stats\n",
    "import seaborn as sns\n",
    "import xarray as xr\n",
    "import tqdm\n",
    "import pathlib\n",
    "import cmocean\n",
    "import os\n",
    "import cartopy.util\n",
    "import copy\n",
    "\n",
    "# Import custom modules\n",
    "import src.utils\n",
    "from src.XRO import XRO, xcorr\n",
    "\n",
    "## set plotting specs\n",
    "sns.set(rc={\"axes.facecolor\": \"white\", \"axes.grid\": False})\n",
    "\n",
    "## bump up DPI\n",
    "mpl.rcParams[\"figure.dpi\"] = 100\n",
    "\n",
    "## get filepaths\n",
    "DATA_FP = pathlib.Path(os.environ[\"DATA_FP\"])\n",
    "SAVE_FP = pathlib.Path(os.environ[\"SAVE_FP\"])"
   ]
  },
  {
   "cell_type": "markdown",
   "id": "50ef2066-ad4a-4d6d-9c0d-7217d2b580fd",
   "metadata": {},
   "source": [
    "## Load data"
   ]
  },
  {
   "cell_type": "code",
   "execution_count": null,
   "id": "6cbc63be-cfc3-4587-adb4-5626cad195ac",
   "metadata": {},
   "outputs": [],
   "source": [
    "## Load T,h (total)\n",
    "Th_total = xr.open_dataset(DATA_FP / \"cesm\" / \"Th.nc\")\n",
    "\n",
    "## get windowed data\n",
    "Th_total = src.utils.get_windowed(Th_total, stride=60)\n",
    "\n",
    "## seasonal mean\n",
    "Th_total = Th_total.resample({\"time\": \"QS-DEC\"}).mean()\n",
    "\n",
    "## compute quantiles\n",
    "quant = Th_total.groupby(\"time.season\").quantile(\n",
    "    q=[0.05, 0.5, 0.95], dim=[\"time\", \"member\"]\n",
    ")\n",
    "quant = quant.rename({\"quantile\": \"q\"})\n",
    "\n",
    "## compute difference\n",
    "delta_q = quant - quant.isel(year=0)\n",
    "\n",
    "## get spread\n",
    "spread = quant.sel(q=0.95) - quant.sel(q=0.05)\n",
    "delta_spread = spread - spread.isel(year=0)"
   ]
  },
  {
   "cell_type": "markdown",
   "id": "f231ce2c-6d6f-4b39-8b8e-ba569b492ede",
   "metadata": {},
   "source": [
    "## Analysis"
   ]
  },
  {
   "cell_type": "markdown",
   "id": "ac8732f5-8f42-4d62-b398-538210de4a1e",
   "metadata": {},
   "source": [
    "### Plot quantiles over time"
   ]
  },
  {
   "cell_type": "code",
   "execution_count": null,
   "id": "eaace450-f344-45dd-9c71-2ba89a379437",
   "metadata": {},
   "outputs": [],
   "source": [
    "VARNAME = \"T_3\"\n",
    "SEASON = \"DJF\"\n",
    "\n",
    "fig, ax = plt.subplots(figsize=(4, 3))\n",
    "\n",
    "## plot data\n",
    "ax.plot(delta_q.year, delta_q[VARNAME].sel(season=SEASON, q=0.05), c=\"b\")\n",
    "ax.plot(delta_q.year, delta_q[VARNAME].sel(season=SEASON, q=0.50), c=\"gray\")\n",
    "ax.plot(delta_q.year, delta_q[VARNAME].sel(season=SEASON, q=0.95), c=\"r\")\n",
    "\n",
    "ax.plot(\n",
    "    quant.year,\n",
    "    delta_spread[VARNAME].sel(season=SEASON),\n",
    "    ls=\"--\",\n",
    "    c=\"k\",\n",
    ")\n",
    "# ax.plot(delta_q.year, delta_q[\"T_34\"].sel(season=SEASON, q=0.95))\n",
    "\n",
    "## format\n",
    "ax.set_xlim([None, 2000])\n",
    "ax.set_ylim([-0.2, 1])\n",
    "ax.axhline(0, c=\"k\", lw=0.5)\n",
    "plt.show()"
   ]
  },
  {
   "cell_type": "markdown",
   "id": "e4311d05-1fdd-487f-9b85-2b3753bc23ba",
   "metadata": {},
   "source": [
    "### Plot PDFs over time"
   ]
  },
  {
   "cell_type": "code",
   "execution_count": null,
   "id": "684385fe-2d4a-41ce-ba8a-482035eed2db",
   "metadata": {},
   "outputs": [],
   "source": [
    "## specify variable\n",
    "VARNAME = \"T_3\"\n",
    "\n",
    "## specify season\n",
    "QS = 12\n",
    "\n",
    "## edges for PDF\n",
    "edges = np.arange(21, 36, 0.5)\n",
    "\n",
    "## empty array to hold pdfs\n",
    "pdfs = []\n",
    "\n",
    "for year in Th_total.year:\n",
    "\n",
    "    ## get data\n",
    "    y = src.utils.sel_month(Th_total.sel(year=year), QS)[VARNAME]\n",
    "\n",
    "    ## compute pdf\n",
    "    pdfs.append(src.utils.get_empirical_pdf(y, edges=edges)[0])\n",
    "\n",
    "## put in dataset\n",
    "pdfs = xr.Dataset(\n",
    "    data_vars=dict(\n",
    "        pdf=((\"year\", \"bin_idx\"), np.stack(pdfs, axis=0)),\n",
    "        lb=(\"bin_idx\", edges[:-1]),\n",
    "        ub=(\"bin_idx\", edges[1:]),\n",
    "    ),\n",
    "    coords=dict(year=Th_total.year.values, bin_idx=np.arange(len(edges) - 1)),\n",
    ")\n",
    "\n",
    "colors = sns.color_palette(\"mako\")[::3]\n",
    "\n",
    "fig, ax = plt.subplots(figsize=(5, 4))\n",
    "\n",
    "# for year, c in zip([1870, 1970], colors):\n",
    "ax.stairs(pdfs[\"pdf\"].sel(year=1870), edges=edges, fill=True, alpha=0.3)\n",
    "ax.stairs(pdfs[\"pdf\"].sel(year=1970), edges=edges, lw=2)\n",
    "\n",
    "ax.set_xlim([None, 31.5])\n",
    "plt.show()"
   ]
  }
 ],
 "metadata": {
  "kernelspec": {
   "display_name": "Python 3 (ipykernel)",
   "language": "python",
   "name": "python3"
  },
  "language_info": {
   "codemirror_mode": {
    "name": "ipython",
    "version": 3
   },
   "file_extension": ".py",
   "mimetype": "text/x-python",
   "name": "python",
   "nbconvert_exporter": "python",
   "pygments_lexer": "ipython3",
   "version": "3.13.3"
  }
 },
 "nbformat": 4,
 "nbformat_minor": 5
}
