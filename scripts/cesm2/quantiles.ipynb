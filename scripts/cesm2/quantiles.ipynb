{
 "cells": [
  {
   "cell_type": "markdown",
   "id": "e387950a-e4ed-420b-875a-803820fc34e1",
   "metadata": {},
   "source": [
    "# Quantiles\n",
    "How do ENSO quantiles change over time?"
   ]
  },
  {
   "cell_type": "code",
   "execution_count": null,
   "id": "faee9b37-4f2e-492e-9cfb-954fb73638f2",
   "metadata": {},
   "outputs": [],
   "source": [
    "import pandas as pd\n",
    "import matplotlib.pyplot as plt\n",
    "import matplotlib as mpl\n",
    "import cartopy.crs as ccrs\n",
    "import numpy as np\n",
    "import scipy.stats\n",
    "import seaborn as sns\n",
    "import xarray as xr\n",
    "import tqdm\n",
    "import pathlib\n",
    "import cmocean\n",
    "import os\n",
    "import cartopy.util\n",
    "import copy\n",
    "\n",
    "# Import custom modules\n",
    "import src.utils\n",
    "from src.XRO import XRO, xcorr\n",
    "\n",
    "## set plotting specs\n",
    "sns.set(rc={\"axes.facecolor\": \"white\", \"axes.grid\": False})\n",
    "\n",
    "## bump up DPI\n",
    "mpl.rcParams[\"figure.dpi\"] = 100\n",
    "\n",
    "## get filepaths\n",
    "DATA_FP = pathlib.Path(os.environ[\"DATA_FP\"])\n",
    "SAVE_FP = pathlib.Path(os.environ[\"SAVE_FP\"])"
   ]
  },
  {
   "cell_type": "markdown",
   "id": "50ef2066-ad4a-4d6d-9c0d-7217d2b580fd",
   "metadata": {},
   "source": [
    "## Load data"
   ]
  },
  {
   "cell_type": "code",
   "execution_count": null,
   "id": "6cbc63be-cfc3-4587-adb4-5626cad195ac",
   "metadata": {},
   "outputs": [],
   "source": [
    "## Load T,h (total)\n",
    "Th_total = xr.open_dataset(DATA_FP / \"cesm\" / \"Th.nc\")\n",
    "\n",
    "## get windowed data\n",
    "Th_total = src.utils.get_windowed(Th_total, stride=60)\n",
    "\n",
    "## compute quantiles\n",
    "quant = Th_total.groupby(\"time.season\").quantile(\n",
    "    q=[0.05, 0.5, 0.95], dim=[\"time\", \"member\"]\n",
    ")\n",
    "quant = quant.rename({\"quantile\": \"q\"})\n",
    "\n",
    "## compute difference\n",
    "delta_q = quant - quant.isel(year=0)"
   ]
  },
  {
   "cell_type": "code",
   "execution_count": null,
   "id": "eaace450-f344-45dd-9c71-2ba89a379437",
   "metadata": {},
   "outputs": [],
   "source": [
    "VARNAME = \"T_3\"\n",
    "SEASON = \"SON\"\n",
    "\n",
    "fig, ax = plt.subplots(figsize=(4, 3))\n",
    "\n",
    "## plot data\n",
    "ax.plot(delta_q.year, delta_q[VARNAME].sel(season=SEASON, q=0.05))\n",
    "ax.plot(delta_q.year, delta_q[VARNAME].sel(season=SEASON, q=0.5))\n",
    "ax.plot(delta_q.year, delta_q[VARNAME].sel(season=SEASON, q=0.95))\n",
    "\n",
    "## format\n",
    "ax.set_xlim([1850, 2000])\n",
    "ax.set_ylim([-0.2, 1])"
   ]
  }
 ],
 "metadata": {
  "kernelspec": {
   "display_name": "Python 3 (ipykernel)",
   "language": "python",
   "name": "python3"
  },
  "language_info": {
   "codemirror_mode": {
    "name": "ipython",
    "version": 3
   },
   "file_extension": ".py",
   "mimetype": "text/x-python",
   "name": "python",
   "nbconvert_exporter": "python",
   "pygments_lexer": "ipython3",
   "version": "3.13.3"
  }
 },
 "nbformat": 4,
 "nbformat_minor": 5
}
