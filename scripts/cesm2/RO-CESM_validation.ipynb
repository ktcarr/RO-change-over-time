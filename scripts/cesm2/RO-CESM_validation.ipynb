{
 "cells": [
  {
   "cell_type": "markdown",
   "id": "5a687365-6441-4125-9782-8cc9bf63cd34",
   "metadata": {
    "execution": {
     "iopub.execute_input": "2025-03-10T15:32:54.159739Z",
     "iopub.status.busy": "2025-03-10T15:32:54.159478Z",
     "iopub.status.idle": "2025-03-10T15:32:54.177370Z",
     "shell.execute_reply": "2025-03-10T15:32:54.176877Z",
     "shell.execute_reply.started": "2025-03-10T15:32:54.159723Z"
    }
   },
   "source": [
    "# RO-CESM validation"
   ]
  },
  {
   "cell_type": "markdown",
   "id": "456ab79f-ce80-4180-b71a-68ef2269a112",
   "metadata": {},
   "source": [
    "Should we shut off seasonal variation of noise term in equation for $\\frac{dh}{dt}$? Maybe not, because it would remove seasonal predictability barrier for $h$ (note even though $\\varepsilon$ has no seasonal cycle, $F_2$ *does*)."
   ]
  },
  {
   "cell_type": "markdown",
   "id": "d6b14ab1-a3c4-4274-b502-80d368c2ebfd",
   "metadata": {
    "execution": {
     "iopub.execute_input": "2024-02-19T10:56:12.001434Z",
     "iopub.status.busy": "2024-02-19T10:56:12.001117Z",
     "iopub.status.idle": "2024-02-19T10:56:12.424735Z",
     "shell.execute_reply": "2024-02-19T10:56:12.424085Z",
     "shell.execute_reply.started": "2024-02-19T10:56:12.001406Z"
    }
   },
   "source": [
    "## Imports"
   ]
  },
  {
   "cell_type": "code",
   "execution_count": null,
   "id": "285085cd-be8e-4811-a893-ca82043b7dad",
   "metadata": {},
   "outputs": [],
   "source": [
    "import matplotlib\n",
    "import matplotlib.pyplot as plt\n",
    "import matplotlib as mpl\n",
    "import numpy as np\n",
    "import seaborn as sns\n",
    "import xarray as xr\n",
    "import warnings\n",
    "import tqdm\n",
    "import pathlib\n",
    "import cmocean\n",
    "import os\n",
    "import scipy.stats\n",
    "\n",
    "# Import custom modules\n",
    "import src.utils\n",
    "from src.XRO import XRO, xcorr\n",
    "import src.XRO_utils\n",
    "\n",
    "## set plotting specs\n",
    "sns.set(rc={\"axes.facecolor\": \"white\", \"axes.grid\": False})\n",
    "\n",
    "## bump up DPI\n",
    "mpl.rcParams[\"figure.dpi\"] = 100\n",
    "\n",
    "## get filepaths\n",
    "DATA_FP = pathlib.Path(os.environ[\"DATA_FP\"])\n",
    "SAVE_FP = pathlib.Path(os.environ[\"SAVE_FP\"])\n",
    "\n",
    "## load mixed layer depth EOFs\n",
    "MLD_EOFS = src.utils.load_eofs(pathlib.Path(DATA_FP, \"cesm\", \"eofs_mlotst.nc\"))"
   ]
  },
  {
   "cell_type": "markdown",
   "id": "dddfe37e-9d16-4d80-916a-0e206581b61d",
   "metadata": {},
   "source": [
    "## Functions"
   ]
  },
  {
   "cell_type": "code",
   "execution_count": null,
   "id": "1c629f85-2995-4aa2-8e68-b988210cb5f4",
   "metadata": {
    "jupyter": {
     "source_hidden": true
    }
   },
   "outputs": [],
   "source": [
    "def fit_RO_to_ensemble(\n",
    "    model, Th_data, T_var, h_var, fit_to_members=False, **fit_kwargs\n",
    "):\n",
    "    \"\"\"Fit RO parameters to ensemble\"\"\"\n",
    "\n",
    "    ## fit model and generate synthetic ensemble\n",
    "    if fit_to_members:\n",
    "\n",
    "        ## fit to individual ensemble members\n",
    "        kwargs = dict(model=model, T_var=T_var, h_var=h_var, verbose=True)\n",
    "        _, params = src.utils.get_RO_ensemble(Th_data, **kwargs)\n",
    "\n",
    "    else:\n",
    "\n",
    "        ## fit to all ensemble members simultaneously\n",
    "        params = model.fit_matrix(\n",
    "            Th_data[[T_var, h_var]], **fit_kwargs\n",
    "        )  # ac_mask_idx=ac_mask_idx, maskNT=[])\n",
    "\n",
    "    return params\n",
    "\n",
    "\n",
    "def generate_RO_ensemble(model, params, fit_to_members=False, **simulation_kwargs):\n",
    "    \"\"\"generate RO ensemble using given model and parameters\"\"\"\n",
    "\n",
    "    if fit_to_members:\n",
    "\n",
    "        RO_ensemble = src.utils.generate_ensemble(model, params, **simulation_kwargs)\n",
    "\n",
    "    else:\n",
    "\n",
    "        RO_ensemble = model.simulate(fit_ds=params, **simulation_kwargs)\n",
    "\n",
    "    return RO_ensemble\n",
    "\n",
    "\n",
    "def format_axs_cyc(axs):\n",
    "    \"\"\"add formatting to paneled subplot of seasonal cycle\"\"\"\n",
    "\n",
    "    axs[0].set_yticks([0, 1, 2, 3])\n",
    "    axs[0].set_ylabel(r\"$^{\\circ}$C\")\n",
    "    axs[0].set_title(r\"1850-1889\")\n",
    "    axs[1].set_title(r\"2051-2100\")\n",
    "    axs[2].set_title(r\"Early vs. Late (model)\")\n",
    "    axs[2].set_yticks([0, 1, 2, 3])\n",
    "    axs[2].yaxis.set_ticks_position(\"right\")\n",
    "    axs[0].legend(prop=dict(size=8))\n",
    "    axs[1].legend(prop=dict(size=8))\n",
    "    axs[2].legend(prop=dict(size=8))\n",
    "    return\n",
    "\n",
    "\n",
    "def format_axs_autocorr(axs):\n",
    "    \"\"\"make axes nice for plot\"\"\"\n",
    "\n",
    "    for ax in axs[1, :]:\n",
    "        ax.set_xticks([-12, 0, 12], labels=[-1, 0, 1])\n",
    "        ax.set_xlabel(\"Lag (years)\")\n",
    "    for ax in axs[:, 0]:\n",
    "        ax.set_yticks([0, 0.5, 1])\n",
    "    axs[0, 0].set_title(r\"1850-1889\")\n",
    "    axs[0, 1].set_title(r\"2051-2100\")\n",
    "    axs[0, 2].set_title(r\"Early vs. Late (Model)\")\n",
    "    axs[0, 0].set_ylabel(r\"Corr$(T,T)$ \")\n",
    "    axs[1, 0].set_ylabel(r\"Corr$(T,h)$ \")\n",
    "    return\n",
    "\n",
    "\n",
    "def plot_xcorr2(axs, xcorr_eval, T_var=\"T_3\", h_var=\"h_w\", **plot_kwargs):\n",
    "    \"\"\"plot <T,T> and <h,T> correlation on set of axs\"\"\"\n",
    "\n",
    "    ## compute cross correlation and get ensemble stats\n",
    "    xcorr_stats = src.utils.get_ensemble_stats(xcorr_eval)\n",
    "\n",
    "    ## plot autocorrelation/cross correlation on separate axes\n",
    "    src.utils.plot_xcorr(axs[0], xcorr_stats[T_var], **plot_kwargs)\n",
    "    src.utils.plot_xcorr(axs[1], xcorr_stats[h_var], **plot_kwargs)\n",
    "\n",
    "    return\n",
    "\n",
    "\n",
    "def remove_sst_dependence_core(h, T, dims=[\"time\", \"member\"]):\n",
    "    \"\"\"function to remove linear dependence of h on T\"\"\"\n",
    "\n",
    "    ## get covariance/variance\n",
    "    cov = xr.cov(h, T, dim=[\"time\", \"member\"], ddof=0)\n",
    "    var = T.var(dim=[\"time\", \"member\"])\n",
    "\n",
    "    ## remove linear dependence\n",
    "    return h - cov / var * T\n",
    "\n",
    "\n",
    "def remove_sst_dependence(Th, T_var=\"T_3\", h_var=\"h_w\", dims=[\"time\", \"member\"]):\n",
    "    \"\"\"remove sst dependence by month\"\"\"\n",
    "\n",
    "    helper_fn = lambda x: remove_sst_dependence_core(h=x[h_var], T=x[T_var], dims=dims)\n",
    "\n",
    "    ## apply to each month\n",
    "    return Th.groupby(\"time.month\").map(helper_fn)"
   ]
  },
  {
   "cell_type": "markdown",
   "id": "c520c8f4-45ba-4e30-9a32-e831db67ef5d",
   "metadata": {},
   "source": [
    "## Load data"
   ]
  },
  {
   "cell_type": "code",
   "execution_count": null,
   "id": "2ea7275c-2eb3-42ff-acf3-b45270be4b56",
   "metadata": {},
   "outputs": [],
   "source": [
    "## load ELI data\n",
    "eli = xr.open_dataset(pathlib.Path(DATA_FP, \"cesm/eli.nc\"))\n",
    "\n",
    "## get forced/anomalous component\n",
    "_, eli_anom = src.utils.separate_forced(eli)\n",
    "\n",
    "## open data\n",
    "Th = src.utils.load_cesm_indices(load_z20=True)\n",
    "\n",
    "## rename indices for convenience\n",
    "Th = Th.rename(\n",
    "    {\n",
    "        \"north_tropical_atlantic\": \"natl\",\n",
    "        \"atlantic_nino\": \"nino_atl\",\n",
    "        \"tropical_indian_ocean\": \"iobm\",\n",
    "        \"indian_ocean_dipole\": \"iod\",\n",
    "        \"north_pacific_meridional_mode\": \"npmm\",\n",
    "        \"south_pacific_meridional_mode\": \"spmm\",\n",
    "    }\n",
    ")\n",
    "\n",
    "## add ELI\n",
    "Th[\"eli\"] = eli_anom[\"eli_05\"]\n",
    "\n",
    "## standardize (for convenience)\n",
    "Th /= Th.std()\n",
    "\n",
    "## remove linear dependence\n",
    "Th[\"h_w_hat\"] = remove_sst_dependence(Th)"
   ]
  },
  {
   "cell_type": "code",
   "execution_count": null,
   "id": "ac9b59be-9ba6-4c56-8b3e-f1691b62da26",
   "metadata": {},
   "outputs": [],
   "source": [
    "## specify T_var\n",
    "T_var = \"T_3\"\n",
    "\n",
    "sel = lambda x: x.sel(time=x.time.dt.month == 3)\n",
    "\n",
    "fig, axs = plt.subplots(1, 3, figsize=(7, 2), layout=\"constrained\")\n",
    "\n",
    "axs[0].scatter(\n",
    "    sel(Th[T_var]),\n",
    "    sel(Th[\"h\"] - Th[\"h_w\"]),\n",
    "    s=1,\n",
    ")\n",
    "\n",
    "axs[1].scatter(\n",
    "    sel(Th[T_var]),\n",
    "    sel(Th[\"h_w\"]),\n",
    "    s=1,\n",
    ")\n",
    "\n",
    "axs[2].scatter(\n",
    "    sel(Th[T_var]),\n",
    "    sel(Th[\"h_w_hat\"]),\n",
    "    s=1,\n",
    ")\n",
    "\n",
    "axs[0].set_title(r\"$h-h_w$\")\n",
    "axs[1].set_title(r\"$h_w$\")\n",
    "axs[2].set_title(r\"$\\hat{h}_w$\")\n",
    "\n",
    "plt.show()"
   ]
  },
  {
   "cell_type": "markdown",
   "id": "970725fc-e3b2-4845-bee3-cf55c03f95fc",
   "metadata": {},
   "source": [
    "## Fit XRO"
   ]
  },
  {
   "cell_type": "markdown",
   "id": "9573e2bc-d210-43a4-b47e-a2d5718ece81",
   "metadata": {},
   "source": [
    "For ELI, use:  \n",
    "```python\n",
    "varnames = [\"eli\",\"h_w\"]\n",
    "maskNT = [\"T2\"]\n",
    "```\n",
    "For RO, use:\n",
    "```python\n",
    "varnames = [\"T_3\",\"h_w\"]\n",
    "maskNT = []\n",
    "```"
   ]
  },
  {
   "cell_type": "code",
   "execution_count": null,
   "id": "7729573c-e4b0-4e52-a591-c63879aa7836",
   "metadata": {},
   "outputs": [],
   "source": [
    "## specify which variables to use\n",
    "# varnames = [\"T_34\", \"h_w\"]\n",
    "# varnames = [\"T_3\", \"h_w\"]\n",
    "varnames = [\"T_34\", \"h_w_z20\"]\n",
    "# varnames = [\"eli\", \"h_w\"]\n",
    "\n",
    "# specify order of annual cycle\n",
    "ac_order = 4\n",
    "\n",
    "# specify whether to fit parameters to each ens. member individually\n",
    "# if False, fit single set of parameters to all ensemble members\n",
    "fit_to_members = False\n",
    "\n",
    "# specify fit kwargs\n",
    "fit_kwargs = dict(ac_mask_idx=None, maskNT=[])\n",
    "\n",
    "# get data for early/late period\n",
    "Th_early = Th[varnames].sel(time=slice(\"1851\", \"1900\"))\n",
    "Th_late = Th[varnames].sel(time=slice(\"2051\", \"2100\"))\n",
    "\n",
    "# specify model to use\n",
    "model = XRO(ncycle=12, ac_order=ac_order, is_forward=True)\n",
    "\n",
    "# fit models to early/late periods\n",
    "fit_early = model.fit_matrix(Th_early, **fit_kwargs)\n",
    "fit_late = model.fit_matrix(Th_late, **fit_kwargs)\n",
    "\n",
    "## sensitivity test: check center vs. forward differencing\n",
    "model_c = XRO(ncycle=12, ac_order=ac_order, is_forward=False)\n",
    "fit_early_c = model_c.fit_matrix(Th_early, **fit_kwargs)\n",
    "fit_late_c = model_c.fit_matrix(Th_late, **fit_kwargs)"
   ]
  },
  {
   "cell_type": "markdown",
   "id": "b23b94c0-3cae-4c2b-aeb5-7cfcf4d60729",
   "metadata": {},
   "source": [
    "### check sensitivity to differencing scheme\n",
    "(see ```tests/test_Q.ipynb``` for more)"
   ]
  },
  {
   "cell_type": "code",
   "execution_count": null,
   "id": "7d2dca67-2d12-423a-b5f6-89bb4800cda6",
   "metadata": {},
   "outputs": [],
   "source": [
    "## should we plot early or late period?\n",
    "USE_EARLY = True\n",
    "\n",
    "## select fits\n",
    "if USE_EARLY:\n",
    "    fits = [fit_early, fit_early_c]\n",
    "else:\n",
    "    fits = [fit_late, fit_late_c]\n",
    "\n",
    "## colormap\n",
    "colors = sns.color_palette(\"colorblind\")\n",
    "\n",
    "fig, axs = plt.subplots(1, 4, figsize=(9, 2), layout=\"constrained\")\n",
    "\n",
    "for m, fit, c in zip([model, model_c], fits, colors):\n",
    "\n",
    "    p = m.get_RO_parameters(fit)\n",
    "\n",
    "    axs[0].plot(fit.cycle * 12, p.R, c=c)\n",
    "    axs[1].plot(fit.cycle * 12, p.epsilon, c=c)\n",
    "    axs[2].plot(fit.cycle * 12, p.BJ_ac, c=c)\n",
    "    axs[2].axhline(p.BJ_ac.mean(\"cycle\"), c=c, ls=\"--\")\n",
    "    axs[3].plot(fit.cycle * 12, p.xi_T, c=c)\n",
    "    axs[3].axhline(p.xi_T.mean(\"cycle\"), c=c, ls=\"--\")\n",
    "\n",
    "\n",
    "for ax, t in zip(axs, [\"R\", \"eps\", \"BJ\", \"noise\"]):\n",
    "    ax.axhline(0, ls=\"--\", c=\"k\", lw=0.6)\n",
    "    ax.set_title(t)\n",
    "    # ax.set_yticks([])\n",
    "\n",
    "plt.show()"
   ]
  },
  {
   "cell_type": "markdown",
   "id": "f5dbf2e9-693b-4c31-8899-f61a954ba35d",
   "metadata": {},
   "source": [
    "## Stochastic simulations"
   ]
  },
  {
   "cell_type": "code",
   "execution_count": null,
   "id": "4ce5d1ff-2304-42e9-be89-e31af5d81b2f",
   "metadata": {},
   "outputs": [],
   "source": [
    "## generate ensemble\n",
    "## specify arguments for simulation\n",
    "simulation_kwargs = dict(\n",
    "    nyear=49,\n",
    "    ncopy=1000,\n",
    "    seed=1000,\n",
    "    X0_ds=Th_early.isel(member=0, time=0),\n",
    "    is_xi_stdac=True,\n",
    "    noise_type=\"white\",\n",
    "    use_noise_cov=False,\n",
    ")\n",
    "RO_ensemble_early = model.simulate(fit_ds=fit_early, **simulation_kwargs)\n",
    "RO_ensemble_late = model.simulate(fit_ds=fit_late, **simulation_kwargs)"
   ]
  },
  {
   "cell_type": "markdown",
   "id": "ed6ad38d-be45-4d6a-a47a-3c3478a52a7d",
   "metadata": {},
   "source": [
    "## Diagnostics"
   ]
  },
  {
   "cell_type": "markdown",
   "id": "cc160bbd-3582-4e30-b534-db3230e25b4c",
   "metadata": {},
   "source": [
    "### Seasonality"
   ]
  },
  {
   "cell_type": "code",
   "execution_count": null,
   "id": "3b5d5984-6aec-42ad-9ea7-c15188674a1f",
   "metadata": {},
   "outputs": [],
   "source": [
    "def plot_seasonal_stats(fn, var_idx, ylim=[None, None], yticks=[]):\n",
    "    \"\"\"plot seasonal cycle of given variable\"\"\"\n",
    "\n",
    "    print(varnames[var_idx])\n",
    "\n",
    "    ## kwargs\n",
    "    kwargs = dict(fn=fn, varname=varnames[var_idx])\n",
    "\n",
    "    ### Set up plot\n",
    "    fig, axs = plt.subplots(1, 3, figsize=(7, 2), layout=\"constrained\")\n",
    "\n",
    "    ## plot MPI vs. RO (early period)\n",
    "    plot_data_early = src.utils.plot_seasonal_comp(\n",
    "        axs[0],\n",
    "        x0=Th_early,\n",
    "        x1=RO_ensemble_early,\n",
    "        plot_kwargs0=dict(label=\"CESM\"),\n",
    "        plot_kwargs1=dict(label=\"RO\"),\n",
    "        **kwargs,\n",
    "    )\n",
    "\n",
    "    ## Plot MPI vs RO (late period)\n",
    "    plot_data_late = src.utils.plot_seasonal_comp(\n",
    "        axs[1],\n",
    "        x0=Th_late,\n",
    "        x1=RO_ensemble_late,\n",
    "        plot_kwargs0=dict(label=\"CESM\"),\n",
    "        plot_kwargs1=dict(label=\"RO\"),\n",
    "        **kwargs,\n",
    "    )\n",
    "\n",
    "    ## Plot early vs late (MPI)\n",
    "    plot_data_delta = src.utils.plot_seasonal_comp(\n",
    "        axs[2],\n",
    "        x0=Th_early,\n",
    "        x1=Th_late,\n",
    "        plot_kwargs0=dict(label=\"1850-1889\", c=\"k\"),\n",
    "        plot_kwargs1=dict(label=\"2051-2100\", c=\"r\"),\n",
    "        **kwargs,\n",
    "    )\n",
    "\n",
    "    ## label plot\n",
    "    format_axs_cyc(axs)\n",
    "\n",
    "    for ax in axs:\n",
    "        ax.set_ylim(ylim)\n",
    "        ax.set_yticks(yticks)\n",
    "        ax.axhline(0, c=\"k\", lw=0.5, ls=\"-\")\n",
    "    axs[1].set_yticks([])\n",
    "\n",
    "    return fig, axs"
   ]
  },
  {
   "cell_type": "markdown",
   "id": "0ee7fa83-2175-4a04-8fd9-7d6d5166880b",
   "metadata": {},
   "source": [
    "Std dev."
   ]
  },
  {
   "cell_type": "code",
   "execution_count": null,
   "id": "ba5c0154-b638-484d-9551-b1acf5731915",
   "metadata": {},
   "outputs": [],
   "source": [
    "kwargs = dict(fn=np.std, ylim=[0.5, 2], yticks=[0.5, 2])\n",
    "\n",
    "fig, axs = plot_seasonal_stats(var_idx=0, **kwargs)\n",
    "plt.show()\n",
    "\n",
    "fig, axs = plot_seasonal_stats(var_idx=1, **kwargs)\n",
    "plt.show()"
   ]
  },
  {
   "cell_type": "markdown",
   "id": "18c2f9d0-25e0-47ad-bc97-0966bbe5be9b",
   "metadata": {},
   "source": [
    "Skewness"
   ]
  },
  {
   "cell_type": "code",
   "execution_count": null,
   "id": "3c7af953-8ca5-4bd0-99f4-3370af26d1fd",
   "metadata": {},
   "outputs": [],
   "source": [
    "kwargs = dict(fn=scipy.stats.skew, ylim=[-1.5, 1.5], yticks=[-1.5, 1.5])\n",
    "\n",
    "fig, axs = plot_seasonal_stats(var_idx=0, **kwargs)\n",
    "plt.show()\n",
    "\n",
    "fig, axs = plot_seasonal_stats(var_idx=1, **kwargs)\n",
    "plt.show()"
   ]
  },
  {
   "cell_type": "markdown",
   "id": "f9315761-d7d1-4088-a3b2-6f3b0c1aaaa2",
   "metadata": {},
   "source": [
    "Scaling factor (to look at effect of shallower MLD)"
   ]
  },
  {
   "cell_type": "code",
   "execution_count": null,
   "id": "99c8f37d-b467-4206-bcf9-288407fe05be",
   "metadata": {},
   "outputs": [],
   "source": [
    "def get_H(t_bnds):\n",
    "    \"\"\"get Niño 3.4 MLD for given bounds\"\"\"\n",
    "\n",
    "    ## get scores in given subset of data\n",
    "    scores_ = MLD_EOFS.scores().isel(time=slice(*t_bnds)).mean(\"member\")\n",
    "\n",
    "    ## get clim\n",
    "    scores_clim = scores_.groupby(\"time.month\").mean()\n",
    "\n",
    "    ## reconstruct nino MLD\n",
    "    mld = src.utils.reconstruct_fn(\n",
    "        scores=scores_clim, components=MLD_EOFS.components(), fn=src.utils.get_nino34\n",
    "    )\n",
    "\n",
    "    return mld.rename({\"month\": \"cycle\"})\n",
    "\n",
    "\n",
    "## computation\n",
    "H_early = get_H((None, 600))\n",
    "H_late = get_H((-612, -12))\n",
    "\n",
    "## get difference\n",
    "delta_H = H_late - H_early\n",
    "\n",
    "## scaling factor\n",
    "gamma = 1 + delta_H / H_early"
   ]
  },
  {
   "cell_type": "markdown",
   "id": "207a8061-5e1c-4291-9713-5c96d2038d03",
   "metadata": {},
   "source": [
    "Get (and plot) parameters"
   ]
  },
  {
   "cell_type": "code",
   "execution_count": null,
   "id": "69076d3f-d707-4c7c-9a45-b18f407c37be",
   "metadata": {},
   "outputs": [],
   "source": [
    "## get parameters\n",
    "p0 = model.get_RO_parameters(fit_early)\n",
    "p1 = model.get_RO_parameters(fit_late)\n",
    "\n",
    "\n",
    "## plot them\n",
    "c = sns.color_palette()\n",
    "months = np.arange(1, 13)\n",
    "fig, ax = plt.subplots(figsize=(4, 3))\n",
    "\n",
    "ax.plot(months, fit_early[\"xi_stdac\"].isel(ranky=0), c=c[0], label=\"noise\")\n",
    "ax.plot(months, fit_late[\"xi_stdac\"].isel(ranky=0), c=c[0], ls=\"--\")\n",
    "\n",
    "# ax.plot(months, fit_early[\"xi_std\"].isel(ranky=0), c=c[0], label=\"noise\")\n",
    "# ax.plot(months, fit_late[\"xi_std\"].isel(ranky=0), c=c[0], ls=\"--\")\n",
    "\n",
    "ax.plot(months, p0[\"R\"], c=c[1], label=r\"$R$\")\n",
    "ax.plot(months, p1[\"R\"], c=c[1], ls=\"--\")\n",
    "ax.plot(months, p1[\"R\"] * gamma, c=c[1], ls=\":\")\n",
    "\n",
    "ax.plot(months, p0[\"epsilon\"], c=c[2], label=r\"$\\varepsilon$\")\n",
    "ax.plot(months, p1[\"epsilon\"], c=c[2], ls=\"--\")\n",
    "\n",
    "ax.plot(months, p0[\"BJ_ac\"], c=\"k\", label=r\"$BJ$\")\n",
    "ax.plot(months, p1[\"BJ_ac\"], c=\"k\", ls=\"--\")\n",
    "\n",
    "\n",
    "ax.axhline(0, ls=\"--\", c=\"k\", lw=1)\n",
    "ax.legend(prop=dict(size=6))\n",
    "\n",
    "plt.show()"
   ]
  },
  {
   "cell_type": "markdown",
   "id": "81a10e20-f509-46ce-ad9b-a310d2279921",
   "metadata": {},
   "source": [
    "### $T$, $h$ cross-correlation"
   ]
  },
  {
   "cell_type": "markdown",
   "id": "7556504f-810a-4756-a751-26d2d8b72493",
   "metadata": {},
   "source": [
    "Plotting functions"
   ]
  },
  {
   "cell_type": "markdown",
   "id": "a1df39b9-06cf-4bf9-be49-1b004eee7333",
   "metadata": {},
   "source": [
    "Compute cross-correlation stats"
   ]
  },
  {
   "cell_type": "code",
   "execution_count": null,
   "id": "3a3554e5-074e-4e36-9e01-6df47b4b8c6a",
   "metadata": {},
   "outputs": [],
   "source": [
    "## function to compute cross-corr\n",
    "get_xcorr = lambda x: src.XRO.xcorr(x, x[varnames[0]], maxlags=18)\n",
    "\n",
    "## compute\n",
    "xcorr_Th_early = get_xcorr(Th_early)\n",
    "xcorr_Th_late = get_xcorr(Th_late)\n",
    "xcorr_RO_early = get_xcorr(RO_ensemble_early)\n",
    "xcorr_RO_late = get_xcorr(RO_ensemble_late)"
   ]
  },
  {
   "cell_type": "markdown",
   "id": "b670da78-7284-4b5e-afac-f5527853b371",
   "metadata": {},
   "source": [
    "Make plot"
   ]
  },
  {
   "cell_type": "code",
   "execution_count": null,
   "id": "1c60c66f-1ce6-4383-b538-c91ef9ae8e9f",
   "metadata": {},
   "outputs": [],
   "source": [
    "## specify which variables to plot\n",
    "kwargs = dict(T_var=varnames[0], h_var=varnames[1])\n",
    "\n",
    "fig, axs = plt.subplots(2, 3, figsize=(7, 4.5), layout=\"constrained\")\n",
    "\n",
    "plot_xcorr2(axs[:, 0], xcorr_Th_early, label=\"model\", **kwargs)\n",
    "plot_xcorr2(axs[:, 0], xcorr_RO_early, label=\"RO\", **kwargs)\n",
    "\n",
    "plot_xcorr2(axs[:, 1], xcorr_Th_late, **kwargs)\n",
    "plot_xcorr2(axs[:, 1], xcorr_RO_late, **kwargs)\n",
    "\n",
    "plot_xcorr2(axs[:, 2], xcorr_Th_early, **kwargs, c=\"k\", label=\"1850-1889\")\n",
    "plot_xcorr2(axs[:, 2], xcorr_Th_late, **kwargs, c=\"r\", label=\"2051-2100\")\n",
    "\n",
    "## label axes\n",
    "format_axs_autocorr(axs)\n",
    "axs[0, 0].legend(prop=dict(size=8))\n",
    "axs[0, 2].legend(prop=dict(size=8))\n",
    "\n",
    "for ax in axs[1, :]:\n",
    "    ax.set_ylim([-1, None])\n",
    "    ax.set_yticks([-0.8, 0, 0.8])\n",
    "\n",
    "plt.show()"
   ]
  },
  {
   "cell_type": "markdown",
   "id": "e47da32c-d8f5-4eff-be2c-56eb5a8a6eba",
   "metadata": {},
   "source": [
    "### Power spectrum"
   ]
  },
  {
   "cell_type": "markdown",
   "id": "bdd77d34-7084-47f7-9c23-450d153438aa",
   "metadata": {},
   "source": [
    "Plotting functions"
   ]
  },
  {
   "cell_type": "markdown",
   "id": "5f8f169f-c54c-4c87-bc86-44613465ba9e",
   "metadata": {},
   "source": [
    "Compute PSD"
   ]
  },
  {
   "cell_type": "code",
   "execution_count": null,
   "id": "b6db3b90-29d6-419e-9523-47833486b372",
   "metadata": {},
   "outputs": [],
   "source": [
    "## specify args for psd\n",
    "psd_kwargs = dict(dim=\"time\", dt=1 / 12, nw=5)\n",
    "\n",
    "## compute PSD\n",
    "compute_psd = lambda x: src.XRO_utils.pmtm(x[varnames[0]], **psd_kwargs)\n",
    "psd_mpi_early = compute_psd(Th_early)\n",
    "psd_RO_early = compute_psd(RO_ensemble_early)\n",
    "psd_mpi_late = compute_psd(Th_late)\n",
    "psd_RO_late = compute_psd(RO_ensemble_late)"
   ]
  },
  {
   "cell_type": "markdown",
   "id": "49e2e6a7-8de0-44cd-a505-33e1e1e17837",
   "metadata": {},
   "source": [
    "Plot PSD"
   ]
  },
  {
   "cell_type": "code",
   "execution_count": null,
   "id": "b41d73ec-989c-4d0c-8e64-1b7f3f144acb",
   "metadata": {},
   "outputs": [],
   "source": [
    "fig, axs = plt.subplots(1, 3, figsize=(7, 2.5), layout=\"constrained\")\n",
    "\n",
    "## plot early\n",
    "src.utils.plot_psd(axs[0], psd_mpi_early, label=\"CESM\")\n",
    "src.utils.plot_psd(axs[0], psd_RO_early, label=\"RO\")\n",
    "\n",
    "# ## plot late\n",
    "src.utils.plot_psd(axs[1], psd_mpi_late, label=\"CESM\")\n",
    "src.utils.plot_psd(axs[1], psd_RO_late, label=\"RO\")\n",
    "\n",
    "# ## plot late\n",
    "src.utils.plot_psd(axs[2], psd_mpi_early, label=\"1850-1889\", color=\"k\")\n",
    "src.utils.plot_psd(axs[2], psd_mpi_late, label=\"2051-2100\", color=\"r\")\n",
    "\n",
    "\n",
    "## label\n",
    "axs[0].set_ylabel(r\"PSD ($^{\\circ}$C$^2$/cpm)\")\n",
    "axs[0].legend(prop=dict(size=6))\n",
    "axs[2].legend(prop=dict(size=6))\n",
    "for ax in axs[1:]:\n",
    "    ax.set_yticks([])\n",
    "\n",
    "\n",
    "plt.show()"
   ]
  }
 ],
 "metadata": {
  "kernelspec": {
   "display_name": "Python 3 (ipykernel)",
   "language": "python",
   "name": "python3"
  },
  "language_info": {
   "codemirror_mode": {
    "name": "ipython",
    "version": 3
   },
   "file_extension": ".py",
   "mimetype": "text/x-python",
   "name": "python",
   "nbconvert_exporter": "python",
   "pygments_lexer": "ipython3",
   "version": "3.13.3"
  }
 },
 "nbformat": 4,
 "nbformat_minor": 5
}
