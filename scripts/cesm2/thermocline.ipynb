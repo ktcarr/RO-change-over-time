{
 "cells": [
  {
   "cell_type": "markdown",
   "id": "0b20046d-f082-455a-83aa-ecc2259b9b08",
   "metadata": {},
   "source": [
    "# Thermocline\n",
    "Compute thermocline depth, look at sensitivity to definition and changes over time"
   ]
  },
  {
   "cell_type": "code",
   "execution_count": null,
   "id": "c02f28c3-1df7-4ea5-abf6-aca8d3a8a87b",
   "metadata": {},
   "outputs": [],
   "source": [
    "import matplotlib.pyplot as plt\n",
    "import matplotlib as mpl\n",
    "import numpy as np\n",
    "import seaborn as sns\n",
    "import xarray as xr\n",
    "import tqdm\n",
    "import pathlib\n",
    "import cmocean\n",
    "import os\n",
    "import copy\n",
    "import time\n",
    "import pandas as pd\n",
    "\n",
    "# Import custom modules\n",
    "import src.utils\n",
    "\n",
    "## set plotting specs\n",
    "sns.set(rc={\"axes.facecolor\": \"white\", \"axes.grid\": False})\n",
    "\n",
    "## bump up DPI\n",
    "mpl.rcParams[\"figure.dpi\"] = 100\n",
    "\n",
    "## get filepaths\n",
    "DATA_FP = pathlib.Path(os.environ[\"DATA_FP\"])\n",
    "SAVE_FP = pathlib.Path(os.environ[\"SAVE_FP\"])"
   ]
  },
  {
   "cell_type": "markdown",
   "id": "5cddf887-0532-4f0c-a46b-bf4876290f58",
   "metadata": {},
   "source": [
    "## Functions"
   ]
  },
  {
   "cell_type": "code",
   "execution_count": null,
   "id": "729ed239-515b-4af0-8178-040e23beeaf5",
   "metadata": {},
   "outputs": [],
   "source": [
    "def get_H(T):\n",
    "    \"\"\"compute thermocline depth\"\"\"\n",
    "\n",
    "    ## find index for max (negative gradient)\n",
    "    min_idx = T.differentiate(\"z_t\").argmin(\"z_t\")\n",
    "\n",
    "    return T.z_t.isel(z_t=min_idx)\n",
    "\n",
    "\n",
    "def frac_change(x, inv=True):\n",
    "    \"\"\"get fractional change\"\"\"\n",
    "\n",
    "    ## get inverse if desired\n",
    "    if inv:\n",
    "        x_ = 1 / x\n",
    "    else:\n",
    "        x_ = x\n",
    "\n",
    "    ## compute initial value and change\n",
    "    x0_ = x_.isel(year=0)\n",
    "\n",
    "    return (x_ - x0_) / x0_"
   ]
  },
  {
   "cell_type": "markdown",
   "id": "3fb05d79-a4cf-4218-a0d1-c55f431ff3f1",
   "metadata": {},
   "source": [
    "## Load data"
   ]
  },
  {
   "cell_type": "code",
   "execution_count": null,
   "id": "e83835c6-4707-493e-a656-d9d8a9e8bfbf",
   "metadata": {},
   "outputs": [],
   "source": [
    "## load spatial data\n",
    "CONS_DIR = pathlib.Path(DATA_FP, \"cesm\", \"consolidated\")\n",
    "forced = xr.open_dataset(CONS_DIR / \"forced.nc\")\n",
    "T = forced[[\"T\", \"T_comp\"]]\n",
    "MLD = forced[[\"mld\", \"mld_comp\"]]"
   ]
  },
  {
   "cell_type": "markdown",
   "id": "37358ab2-bbdb-49cd-a56b-6c5b56c5cae7",
   "metadata": {},
   "source": [
    "## Compute thermocline depth"
   ]
  },
  {
   "cell_type": "code",
   "execution_count": null,
   "id": "9a202964-b1e3-40a8-bf73-3eb5887f0f94",
   "metadata": {},
   "outputs": [],
   "source": [
    "## specify time interval\n",
    "t_early = dict(time=slice(\"1850\", \"1879\"))\n",
    "\n",
    "## get climatology\n",
    "T_early = src.utils.reconstruct_clim(\n",
    "    data=T.sel(time=slice(\"1850\", \"1881\")),\n",
    ")[\"T\"]\n",
    "\n",
    "## compute thermocline depth\n",
    "H_early = get_H(T_early)"
   ]
  },
  {
   "cell_type": "markdown",
   "id": "3c6144bb-4938-4678-8bde-11f9b8bc4f11",
   "metadata": {},
   "source": [
    "### Plot"
   ]
  },
  {
   "cell_type": "code",
   "execution_count": null,
   "id": "db3567e3-b5a6-4e11-8e22-28564a936808",
   "metadata": {},
   "outputs": [],
   "source": [
    "## function to select data\n",
    "sel = lambda x: x.sel(month=[3]).mean(\"month\")\n",
    "\n",
    "fig, ax = plt.subplots(figsize=(5, 3), layout=\"constrained\")\n",
    "\n",
    "## plot temperature\n",
    "cp = ax.contourf(\n",
    "    T_early.longitude,\n",
    "    T_early.z_t,\n",
    "    sel(T_early),\n",
    "    levels=np.arange(10, 32, 2),\n",
    "    cmap=\"cmo.thermal\",\n",
    "    extend=\"both\",\n",
    ")\n",
    "\n",
    "## plot estimated thermocline\n",
    "ax.plot(\n",
    "    H_early.longitude,\n",
    "    sel(H_early),\n",
    "    c=\"w\",\n",
    "    ls=\"--\",\n",
    ")\n",
    "\n",
    "## formatting\n",
    "src.utils.format_subsurf_axs([ax])\n",
    "ax.set_xlim([140, 280])\n",
    "fig.colorbar(cp, ticks=[10, 30], label=r\"$^{\\circ}$C\")\n",
    "\n",
    "plt.show()"
   ]
  },
  {
   "cell_type": "markdown",
   "id": "e2ba8fd0-2500-46f3-9453-25e7a6bff57c",
   "metadata": {},
   "source": [
    "## Change over time"
   ]
  },
  {
   "cell_type": "markdown",
   "id": "8e205626-0292-41a2-a0d5-bd78e6891395",
   "metadata": {},
   "source": [
    "### Compute"
   ]
  },
  {
   "cell_type": "code",
   "execution_count": null,
   "id": "550b2793-0990-4a90-9e3a-3e1c5bed85b4",
   "metadata": {},
   "outputs": [],
   "source": [
    "T_rolling = []\n",
    "years = np.arange(1865, 2090, 5)\n",
    "for y in tqdm.tqdm(years):\n",
    "    t_idx = dict(time=slice(f\"{y-15}\", f\"{y+15}\"))\n",
    "    T_rolling.append(src.utils.reconstruct_clim(T.sel(t_idx))[\"T\"])\n",
    "\n",
    "## convert to xr\n",
    "T_rolling = xr.concat(T_rolling, dim=pd.Index(years, name=\"year\"))\n",
    "\n",
    "## compute thermocline depth\n",
    "H_rolling = get_H(T_rolling)\n",
    "\n",
    "## average over Niño 3.4 region\n",
    "H_n34 = H_rolling.sel(longitude=slice(190, 240)).mean(\"longitude\")\n",
    "# H_n34 = H_rolling.sel(longitude=slice(140, 280)).mean(\"longitude\")\n",
    "\n",
    "## Get fractional change\n",
    "delta_H = frac_change(H_n34)"
   ]
  },
  {
   "cell_type": "code",
   "execution_count": null,
   "id": "8049f178-dc93-4a1b-b78f-1e44e0563ff2",
   "metadata": {},
   "outputs": [],
   "source": [
    "## Get MLD in Niño 3.4 region\n",
    "MLD_n34 = src.utils.reconstruct_wrapper(MLD, fn=src.utils.get_nino34)\n",
    "\n",
    "## get 30-year rolling mean (by month)\n",
    "MLD_n34 = MLD_n34.groupby(\"time.month\").map(\n",
    "    lambda x: x.rolling({\"time\": 30}, center=True).mean()\n",
    ")\n",
    "\n",
    "## subset to match thermocline\n",
    "MLD_n34 = src.utils.unstack_month_and_year(MLD_n34).sel(year=H_n34.year)[\"mld\"]\n",
    "delta_MLD = frac_change(MLD_n34)"
   ]
  },
  {
   "cell_type": "markdown",
   "id": "be22f312-3683-47dd-a378-3e47004ca273",
   "metadata": {},
   "source": [
    "### Plot"
   ]
  },
  {
   "cell_type": "markdown",
   "id": "674adb1c-eb9a-4fe2-b432-6e4762e641be",
   "metadata": {},
   "source": [
    "#### Hovmoller"
   ]
  },
  {
   "cell_type": "code",
   "execution_count": null,
   "id": "d6ebb48c-201d-4cea-a8d3-3b7f91832876",
   "metadata": {},
   "outputs": [],
   "source": [
    "14 / 2.5"
   ]
  },
  {
   "cell_type": "code",
   "execution_count": null,
   "id": "0dc50fa4-da16-46b8-8695-1dbeaec814ec",
   "metadata": {},
   "outputs": [],
   "source": [
    "## setup plot\n",
    "fig, axs = plt.subplots(1, 2, figsize=(4, 4), layout=\"constrained\")\n",
    "\n",
    "for ax, delta in zip(axs, [delta_H, delta_MLD]):\n",
    "\n",
    "    ## plot data\n",
    "    src.utils.plot_hov2(\n",
    "        fig,\n",
    "        ax,\n",
    "        delta.transpose(\"month\", \"year\"),\n",
    "        amp=0.6,\n",
    "        label=r\"$\\frac{\\Delta~H^{-1}}{H_0^{-1}}$\",\n",
    "    )\n",
    "\n",
    "    ax.axvline(4, c=\"k\", lw=1, ls=\"--\")\n",
    "    ax.axvline(7, c=\"k\", lw=1, ls=\"--\")\n",
    "    ax.set_ylim([1975, None])\n",
    "    ax.set_yticks([])\n",
    "\n",
    "## label\n",
    "axs[0].set_yticks(np.arange(1975, 2090, 30))\n",
    "axs[0].set_ylabel(\"Year\")\n",
    "axs[0].set_title(\"Thermocline depth\")\n",
    "axs[1].set_title(\"MLD depth\")\n",
    "\n",
    "\n",
    "plt.show()"
   ]
  },
  {
   "cell_type": "markdown",
   "id": "34518424-8c42-4e9a-aa8c-583e26551746",
   "metadata": {},
   "source": [
    "#### Line plots"
   ]
  },
  {
   "cell_type": "code",
   "execution_count": null,
   "id": "6f0dc09a-fb24-43a7-82cc-49f7c76f7db5",
   "metadata": {},
   "outputs": [],
   "source": [
    "## function to select may/jun\n",
    "sel_mj = lambda x: x.sel(month=[5, 6]).mean(\"month\")\n",
    "\n",
    "## set up plot\n",
    "fig, axs = plt.subplots(1, 2, figsize=(6, 3), layout=\"constrained\")\n",
    "\n",
    "## plot data\n",
    "for ax, x in zip(axs, [H_n34, delta_H]):\n",
    "    p0 = ax.plot(x.year, sel_mj(x), label=\"May/June\")\n",
    "    p1 = ax.plot(x.year, x.mean(\"month\"), label=\"All months\")\n",
    "\n",
    "## plot MLD fractional change\n",
    "axs[1].plot(\n",
    "    delta_MLD.year, sel_mj(delta_MLD), c=p0[0].get_color(), ls=\"--\", label=\"MLD\"\n",
    ")\n",
    "axs[1].plot(delta_MLD.year, delta_MLD.mean(\"month\"), c=p1[0].get_color(), ls=\"--\")\n",
    "\n",
    "\n",
    "## format axes\n",
    "axs[0].set_ylim(axs[0].get_ylim()[::-1])\n",
    "axs[0].legend()\n",
    "axs[1].legend()\n",
    "axs[0].set_title(\"Thermocline depth\")\n",
    "axs[1].set_title(\"Frac. change\")\n",
    "\n",
    "plt.show()"
   ]
  }
 ],
 "metadata": {
  "kernelspec": {
   "display_name": "Python 3 (ipykernel)",
   "language": "python",
   "name": "python3"
  },
  "language_info": {
   "codemirror_mode": {
    "name": "ipython",
    "version": 3
   },
   "file_extension": ".py",
   "mimetype": "text/x-python",
   "name": "python",
   "nbconvert_exporter": "python",
   "pygments_lexer": "ipython3",
   "version": "3.13.3"
  }
 },
 "nbformat": 4,
 "nbformat_minor": 5
}
