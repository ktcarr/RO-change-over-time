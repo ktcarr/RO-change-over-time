{
 "cells": [
  {
   "cell_type": "markdown",
   "id": "0b20046d-f082-455a-83aa-ecc2259b9b08",
   "metadata": {},
   "source": [
    "# Thermocline\n",
    "Compute thermocline depth, look at sensitivity to definition and changes over time"
   ]
  },
  {
   "cell_type": "markdown",
   "id": "2e018230-477f-4627-b8a9-09ffe7754ece",
   "metadata": {},
   "source": [
    "## Imports"
   ]
  },
  {
   "cell_type": "code",
   "execution_count": null,
   "id": "c02f28c3-1df7-4ea5-abf6-aca8d3a8a87b",
   "metadata": {},
   "outputs": [],
   "source": [
    "import matplotlib.pyplot as plt\n",
    "import matplotlib as mpl\n",
    "import numpy as np\n",
    "import seaborn as sns\n",
    "import xarray as xr\n",
    "import tqdm\n",
    "import pathlib\n",
    "import cmocean\n",
    "import os\n",
    "import copy\n",
    "import time\n",
    "import pandas as pd\n",
    "\n",
    "# Import custom modules\n",
    "import src.utils\n",
    "\n",
    "## set plotting specs\n",
    "sns.set(rc={\"axes.facecolor\": \"white\", \"axes.grid\": False})\n",
    "\n",
    "## bump up DPI\n",
    "mpl.rcParams[\"figure.dpi\"] = 100\n",
    "\n",
    "## get filepaths\n",
    "DATA_FP = pathlib.Path(os.environ[\"DATA_FP\"])\n",
    "SAVE_FP = pathlib.Path(os.environ[\"SAVE_FP\"])"
   ]
  },
  {
   "cell_type": "markdown",
   "id": "45e2960b-8ade-4ace-aca8-52708335bf23",
   "metadata": {},
   "source": [
    "## Math..."
   ]
  },
  {
   "cell_type": "markdown",
   "id": "7d7f79ec-5571-4841-bc9e-ea87aa915d69",
   "metadata": {},
   "source": [
    "Center of mass\n",
    "\\begin{align}\n",
    "    \\left(\\int m(x)~dx\\right)^{-1}\\int x \\cdot m(x)~dx\n",
    "\\end{align}"
   ]
  },
  {
   "cell_type": "markdown",
   "id": "e1f96a37-bf1e-4d78-83bf-b03779932c20",
   "metadata": {},
   "source": [
    "\\begin{align}\n",
    "    \\int_{300}^0 \\frac{dT}{dz} ~dz = T(z=0)-T(z=300)\n",
    "\\end{align}"
   ]
  },
  {
   "cell_type": "markdown",
   "id": "3fb05d79-a4cf-4218-a0d1-c55f431ff3f1",
   "metadata": {},
   "source": [
    "## Load data"
   ]
  },
  {
   "cell_type": "code",
   "execution_count": null,
   "id": "e83835c6-4707-493e-a656-d9d8a9e8bfbf",
   "metadata": {},
   "outputs": [],
   "source": [
    "## load spatial data\n",
    "forced, _ = src.utils.load_consolidated()\n",
    "T = forced[[\"T\", \"T_comp\"]]\n",
    "MLD = forced[[\"mld\", \"mld_comp\"]]"
   ]
  },
  {
   "cell_type": "markdown",
   "id": "37358ab2-bbdb-49cd-a56b-6c5b56c5cae7",
   "metadata": {},
   "source": [
    "## Compute thermocline depth"
   ]
  },
  {
   "cell_type": "code",
   "execution_count": null,
   "id": "9a202964-b1e3-40a8-bf73-3eb5887f0f94",
   "metadata": {},
   "outputs": [],
   "source": [
    "## specify time interval\n",
    "t_early = dict(time=slice(\"1850\", \"1879\"))\n",
    "t_late = dict(time=slice(\"2070\", \"2099\"))\n",
    "\n",
    "## get climatology\n",
    "T_early = src.utils.reconstruct_clim(data=T.sel(t_early))[\"T\"]\n",
    "T_late = src.utils.reconstruct_clim(data=T.sel(t_late))[\"T\"]\n",
    "\n",
    "## compute thermocline depth (early & late)\n",
    "H_early = src.utils.get_H(T_early)\n",
    "H_early_int = src.utils.get_H_int(T_early, thresh=0.04)\n",
    "\n",
    "H_late = src.utils.get_H(T_late)\n",
    "H_late_int = src.utils.get_H_int(T_late, thresh=0.04)\n",
    "\n",
    "## compute MLD (early and late)\n",
    "MLD_early = src.utils.reconstruct_clim(\n",
    "    MLD.sel(t_early),\n",
    "    fn=lambda x: x.sel(latitude=slice(-2, 2)).mean(\"latitude\"),\n",
    ")[\"mld\"]\n",
    "MLD_late = src.utils.reconstruct_clim(\n",
    "    MLD.sel(t_late),\n",
    "    fn=lambda x: x.sel(latitude=slice(-2, 2)).mean(\"latitude\"),\n",
    ")[\"mld\"]"
   ]
  },
  {
   "cell_type": "markdown",
   "id": "3c6144bb-4938-4678-8bde-11f9b8bc4f11",
   "metadata": {},
   "source": [
    "### Plot climatology (early vs. late)"
   ]
  },
  {
   "cell_type": "code",
   "execution_count": null,
   "id": "db3567e3-b5a6-4e11-8e22-28564a936808",
   "metadata": {},
   "outputs": [],
   "source": [
    "## function to select data\n",
    "sel = lambda x: x.sel(month=[1, 2, 3]).mean(\"month\")\n",
    "# sel = lambda x: x.mean(\"month\")\n",
    "\n",
    "fig, axs = plt.subplots(1, 3, figsize=(12, 3), layout=\"constrained\")\n",
    "\n",
    "for ax, T_, H_, H_int_, mld_ in zip(\n",
    "    axs,\n",
    "    [T_early, T_late],\n",
    "    [H_early, H_late],\n",
    "    [H_early_int, H_late_int],\n",
    "    [MLD_early, MLD_late],\n",
    "):\n",
    "\n",
    "    ## plot temperature\n",
    "    cp = ax.contourf(\n",
    "        T_.longitude,\n",
    "        T_.z_t,\n",
    "        sel(T_),\n",
    "        levels=np.arange(10, 34, 2),\n",
    "        cmap=\"cmo.thermal\",\n",
    "        extend=\"both\",\n",
    "    )\n",
    "\n",
    "    ## plot estimated thermocline\n",
    "    ax.plot(\n",
    "        H_.longitude,\n",
    "        sel(H_),\n",
    "        c=\"w\",\n",
    "        ls=\"--\",\n",
    "    )\n",
    "    ax.plot(\n",
    "        H_int_.longitude,\n",
    "        sel(H_int_),\n",
    "        c=\"w\",\n",
    "        ls=\":\",\n",
    "    )\n",
    "\n",
    "    ## plot MLD\n",
    "    ax.plot(\n",
    "        mld_.longitude,\n",
    "        sel(mld_),\n",
    "        c=\"gray\",\n",
    "        ls=\"--\",\n",
    "    )\n",
    "\n",
    "## plot difference\n",
    "cp_diff = axs[-1].contourf(\n",
    "    T_early.longitude,\n",
    "    T_early.z_t,\n",
    "    sel(T_late - T_early),\n",
    "    levels=src.utils.make_cb_range(5, 0.5),\n",
    "    cmap=\"cmo.balance\",\n",
    "    extend=\"both\",\n",
    ")\n",
    "\n",
    "for H_int_, mld_, ls in zip(\n",
    "    [H_early_int, H_late_int], [MLD_early, MLD_late], [\"-\", \"--\"]\n",
    "):\n",
    "    axs[-1].plot(H_int_.longitude, sel(H_int_), c=\"k\", ls=ls)\n",
    "    axs[-1].plot(mld_.longitude, sel(mld_), c=\"gray\", ls=ls)\n",
    "\n",
    "## formatting\n",
    "for ax in axs:\n",
    "    src.utils.format_subsurf_axs([ax])\n",
    "    ax.set_xlim([140, 280])\n",
    "\n",
    "for ax in axs[1:]:\n",
    "    ax.set_yticks([])\n",
    "    ax.set_ylabel(None)\n",
    "\n",
    "## add colorbar\n",
    "fig.colorbar(cp_diff, ticks=[-5, 0, 5], label=r\"$^{\\circ}$C\")\n",
    "\n",
    "plt.show()"
   ]
  },
  {
   "cell_type": "markdown",
   "id": "f91d3a83-194d-4c4d-972a-5c093dd80f42",
   "metadata": {},
   "source": [
    "### Early vs. late comparison"
   ]
  },
  {
   "cell_type": "markdown",
   "id": "069e96bb-5f60-4640-99fb-35584f4dd613",
   "metadata": {},
   "source": [
    "Look at some profiles"
   ]
  },
  {
   "cell_type": "code",
   "execution_count": null,
   "id": "37438864-c984-498f-9b16-09efbb3a8588",
   "metadata": {},
   "outputs": [],
   "source": [
    "def sel_mj(x):\n",
    "    \"\"\"select may, june, and Niño 3.4 region\"\"\"\n",
    "    return x.sel(month=[5, 6], longitude=slice(190, 240)).mean([\"month\", \"longitude\"])\n",
    "\n",
    "\n",
    "def sel_year(x, yr, n=15):\n",
    "    \"\"\"select range of 2n+1 years around given year)\"\"\"\n",
    "\n",
    "    ## trim in time\n",
    "    x_subset = x.sel(time=slice(f\"{yr-n}\", f\"{yr+n}\"))\n",
    "\n",
    "    return src.utils.reconstruct_clim(x_subset).to_dataarray().squeeze()\n",
    "\n",
    "\n",
    "def sel(x, yr):\n",
    "    \"\"\"wrapper function to select mj and yr\"\"\"\n",
    "    return sel_mj(sel_year(x, yr))\n",
    "\n",
    "\n",
    "## colorbar\n",
    "colors = sns.color_palette(\"mako\")\n",
    "\n",
    "## specify years to plot\n",
    "yrs = np.round(np.linspace(2000, 2085, 6)).astype(\"int\")\n",
    "yrs = pd.Index(yrs, name=\"year\")\n",
    "\n",
    "## compute\n",
    "profs = xr.concat([sel(T, y) for y in yrs], dim=yrs)\n",
    "dTdz = profs.differentiate(\"z_t\")\n",
    "H0 = src.utils.get_H(profs)\n",
    "H1 = src.utils.get_H_int(profs, thresh=0.06)\n",
    "\n",
    "## set up plot\n",
    "fig, axs = plt.subplots(\n",
    "    1, 2, figsize=(5, 2.5), width_ratios=[1.5, 3.5], layout=\"constrained\"\n",
    ")\n",
    "\n",
    "for i, y in enumerate((dTdz.year)):\n",
    "    axs[0].plot(dTdz.sel(year=y), T.z_t, c=colors[i])\n",
    "    axs[0].scatter(0, H0.sel(year=y), color=colors[i], s=25)\n",
    "    axs[0].scatter(0.03, H1.sel(year=y), color=colors[i], s=25)\n",
    "\n",
    "## format\n",
    "axs[0].set_ylim(axs[0].get_ylim()[::-1])\n",
    "axs[0].axvline(-0.1)\n",
    "\n",
    "## line plot\n",
    "axs[1].plot(profs.year, H0)\n",
    "axs[1].plot(profs.year, H1)\n",
    "\n",
    "plt.show()"
   ]
  },
  {
   "cell_type": "markdown",
   "id": "e2ba8fd0-2500-46f3-9453-25e7a6bff57c",
   "metadata": {},
   "source": [
    "## Change over time"
   ]
  },
  {
   "cell_type": "markdown",
   "id": "8e205626-0292-41a2-a0d5-bd78e6891395",
   "metadata": {},
   "source": [
    "### Compute rolling $T$"
   ]
  },
  {
   "cell_type": "code",
   "execution_count": null,
   "id": "450cf86c-efd3-4a3c-b10c-813ccb2c38b2",
   "metadata": {},
   "outputs": [],
   "source": [
    "T_rolling = []\n",
    "years = np.arange(1865, 2090, 5)\n",
    "for y in tqdm.tqdm(years):\n",
    "    t_idx = dict(time=slice(f\"{y-15}\", f\"{y+15}\"))\n",
    "    T_rolling.append(src.utils.reconstruct_clim(T.sel(t_idx))[\"T\"])\n",
    "\n",
    "## convert to xr\n",
    "T_rolling = xr.concat(T_rolling, dim=pd.Index(years, name=\"year\"))"
   ]
  },
  {
   "cell_type": "markdown",
   "id": "50454357-465e-4961-bb77-36dba492ea07",
   "metadata": {},
   "source": [
    "### Compute $H$"
   ]
  },
  {
   "cell_type": "code",
   "execution_count": null,
   "id": "c504dc23-cfcf-459a-8cb9-a2a406faef74",
   "metadata": {},
   "outputs": [],
   "source": [
    "## compute thermocline depth\n",
    "# H_rolling = src.utils.get_H(T_rolling)\n",
    "H_rolling = src.utils.get_H_int(T_rolling, thresh=0.04)\n",
    "\n",
    "## average over Niño 3.4 region\n",
    "# H_n34 = H_rolling.sel(longitude=slice(190, 240)).mean(\"longitude\")\n",
    "H_n34 = H_rolling.sel(longitude=slice(160, 210)).mean(\"longitude\")\n",
    "\n",
    "## Get fractional change\n",
    "delta_H = src.utils.frac_change(H_n34)\n",
    "\n",
    "## Get MLD in Niño 3.4 region\n",
    "MLD_n34 = src.utils.reconstruct_wrapper(MLD, fn=src.utils.get_nino34)\n",
    "\n",
    "## get 30-year rolling mean (by month)\n",
    "MLD_n34 = MLD_n34.groupby(\"time.month\").map(\n",
    "    lambda x: x.rolling({\"time\": 30}, center=True).mean()\n",
    ")\n",
    "\n",
    "## subset to match thermocline\n",
    "MLD_n34 = src.utils.unstack_month_and_year(MLD_n34).sel(year=H_n34.year)[\"mld\"]\n",
    "delta_MLD = src.utils.frac_change(MLD_n34)"
   ]
  },
  {
   "cell_type": "markdown",
   "id": "be22f312-3683-47dd-a378-3e47004ca273",
   "metadata": {},
   "source": [
    "### Plot"
   ]
  },
  {
   "cell_type": "markdown",
   "id": "674adb1c-eb9a-4fe2-b432-6e4762e641be",
   "metadata": {},
   "source": [
    "#### Hovmoller"
   ]
  },
  {
   "cell_type": "code",
   "execution_count": null,
   "id": "0dc50fa4-da16-46b8-8695-1dbeaec814ec",
   "metadata": {},
   "outputs": [],
   "source": [
    "## setup plot\n",
    "fig, axs = plt.subplots(1, 2, figsize=(4, 4), layout=\"constrained\")\n",
    "\n",
    "for ax, delta in zip(axs, [delta_H, delta_MLD]):\n",
    "\n",
    "    ## plot data\n",
    "    src.utils.plot_hov2(\n",
    "        fig,\n",
    "        ax,\n",
    "        delta.transpose(\"month\", \"year\"),\n",
    "        amp=0.4,\n",
    "        label=r\"$\\frac{\\Delta~H^{-1}}{H_0^{-1}}$\",\n",
    "    )\n",
    "\n",
    "    ax.axvline(6, c=\"k\", lw=1, ls=\"--\")\n",
    "    ax.set_ylim([1975, None])\n",
    "    ax.set_yticks([])\n",
    "\n",
    "## label\n",
    "axs[0].set_yticks(np.arange(1975, 2090, 30))\n",
    "axs[0].set_ylabel(\"Year\")\n",
    "axs[0].set_title(\"Thermocline depth\")\n",
    "axs[1].set_title(\"MLD depth\")\n",
    "\n",
    "\n",
    "plt.show()"
   ]
  },
  {
   "cell_type": "markdown",
   "id": "34518424-8c42-4e9a-aa8c-583e26551746",
   "metadata": {},
   "source": [
    "#### Line plots"
   ]
  },
  {
   "cell_type": "code",
   "execution_count": null,
   "id": "6f0dc09a-fb24-43a7-82cc-49f7c76f7db5",
   "metadata": {},
   "outputs": [],
   "source": [
    "## function to select may/jun\n",
    "sel_mj = lambda x: x.sel(month=[4]).mean(\"month\")\n",
    "\n",
    "## set up plot\n",
    "fig, axs = plt.subplots(1, 2, figsize=(6, 3), layout=\"constrained\")\n",
    "\n",
    "## plot data\n",
    "for ax, x in zip(axs, [H_n34, delta_H]):\n",
    "    p0 = ax.plot(x.year, sel_mj(x), label=\"May/June\")\n",
    "    p1 = ax.plot(x.year, x.mean(\"month\"), label=\"All months\")\n",
    "\n",
    "## plot MLD fractional change\n",
    "axs[1].plot(\n",
    "    delta_MLD.year, sel_mj(delta_MLD), c=p0[0].get_color(), ls=\"--\", label=\"MLD\"\n",
    ")\n",
    "axs[1].plot(delta_MLD.year, delta_MLD.mean(\"month\"), c=p1[0].get_color(), ls=\"--\")\n",
    "\n",
    "\n",
    "## format axes\n",
    "axs[0].set_ylim(axs[0].get_ylim()[::-1])\n",
    "axs[0].legend()\n",
    "axs[1].legend()\n",
    "axs[0].set_title(\"Thermocline depth\")\n",
    "axs[1].set_title(\"Frac. change\")\n",
    "\n",
    "plt.show()"
   ]
  },
  {
   "cell_type": "markdown",
   "id": "2477ee37-1585-4758-ba08-3ed37aea041b",
   "metadata": {},
   "source": [
    "#### Seasonal hovmoller"
   ]
  },
  {
   "cell_type": "markdown",
   "id": "12d029f3-e5ca-488d-b4ef-32294672d2f2",
   "metadata": {},
   "source": [
    "##### Absolute difference"
   ]
  },
  {
   "cell_type": "code",
   "execution_count": null,
   "id": "346e555d-9283-4f0b-adec-81accf96f26c",
   "metadata": {},
   "outputs": [],
   "source": [
    "## get samples to compare\n",
    "H0 = H_rolling.isel(year=0)\n",
    "H1 = H_rolling.isel(year=-1)\n",
    "\n",
    "## get fractional changle\n",
    "delta_H_inv = src.utils.frac_change(H_rolling, inv=True).isel(year=-1)\n",
    "\n",
    "## make hövmöllers\n",
    "fig, axs = plt.subplots(4, 1, figsize=(3.5, 7), layout=\"constrained\")\n",
    "\n",
    "## kwargs\n",
    "kwargs = dict(cmap=\"cmo.amp\", levels=np.arange(0, 220, 20), extend=\"max\")\n",
    "cb_kwargs = dict(ticks=[0, 100, 200], label=r\"m\")\n",
    "\n",
    "## plot early\n",
    "cp0 = src.utils.plot_cycle_hov(axs[0], H0, **kwargs)\n",
    "cb0 = fig.colorbar(cp0, ax=axs[0], **cb_kwargs)\n",
    "\n",
    "## plot late\n",
    "kwargs[\"levels\"] = kwargs[\"levels\"] + 3\n",
    "cp1 = src.utils.plot_cycle_hov(axs[1], H1, **kwargs)\n",
    "cb1 = fig.colorbar(cp1, ax=axs[1], **cb_kwargs)\n",
    "\n",
    "## plot difference\n",
    "cp2 = src.utils.plot_cycle_hov(\n",
    "    axs[2],\n",
    "    H1 - H0,\n",
    "    cmap=\"cmo.balance\",\n",
    "    levels=src.utils.make_cb_range(80, 8),\n",
    "    extend=\"both\",\n",
    ")\n",
    "cb2 = fig.colorbar(cp2, ax=axs[2], ticks=[-80, 0, 80], label=\"change (m)\")\n",
    "\n",
    "## plot fractional change\n",
    "cp3 = src.utils.plot_cycle_hov(\n",
    "    axs[3],\n",
    "    100 * delta_H_inv,\n",
    "    cmap=\"cmo.balance\",\n",
    "    levels=src.utils.make_cb_range(50, 5),\n",
    "    extend=\"both\",\n",
    ")\n",
    "cb3 = fig.colorbar(cp3, ax=axs[3], ticks=[-50, 0, 50], label=\"% change\")\n",
    "\n",
    "## label\n",
    "axs[0].set_title(\"Early\")\n",
    "axs[1].set_title(\"Late\")\n",
    "axs[2].set_title(\"Diff.\")\n",
    "axs[3].set_title(\"% Diff.\")\n",
    "axs[-1].set_xlabel(\"Longitude\")\n",
    "axs[-1].set_xticks([140, 190, 240])\n",
    "\n",
    "plt.show()"
   ]
  }
 ],
 "metadata": {
  "kernelspec": {
   "display_name": "Python [conda env:envs]",
   "language": "python",
   "name": "conda-env-envs-py"
  },
  "language_info": {
   "codemirror_mode": {
    "name": "ipython",
    "version": 3
   },
   "file_extension": ".py",
   "mimetype": "text/x-python",
   "name": "python",
   "nbconvert_exporter": "python",
   "pygments_lexer": "ipython3",
   "version": "3.13.5"
  }
 },
 "nbformat": 4,
 "nbformat_minor": 5
}
