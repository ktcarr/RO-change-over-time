{
 "cells": [
  {
   "cell_type": "markdown",
   "id": "2d2d2cf3-6ba8-4d0e-9d42-216ba6461f7b",
   "metadata": {},
   "source": [
    "# ENSO diversity over time"
   ]
  },
  {
   "cell_type": "markdown",
   "id": "462b4464-4c44-4d32-8fd4-1a3a634aae23",
   "metadata": {},
   "source": [
    "## Imports"
   ]
  },
  {
   "cell_type": "code",
   "execution_count": null,
   "id": "f76937ba-c596-425c-b849-6034cad11789",
   "metadata": {},
   "outputs": [],
   "source": [
    "import matplotlib.pyplot as plt\n",
    "import matplotlib as mpl\n",
    "import numpy as np\n",
    "import seaborn as sns\n",
    "import xarray as xr\n",
    "import tqdm\n",
    "import pathlib\n",
    "import cmocean\n",
    "import os\n",
    "import copy\n",
    "import time\n",
    "\n",
    "# Import custom modules\n",
    "import src.utils\n",
    "\n",
    "## set plotting specs\n",
    "sns.set(rc={\"axes.facecolor\": \"white\", \"axes.grid\": False})\n",
    "\n",
    "## bump up DPI\n",
    "mpl.rcParams[\"figure.dpi\"] = 100\n",
    "\n",
    "## get filepaths\n",
    "DATA_FP = pathlib.Path(os.environ[\"DATA_FP\"])\n",
    "SAVE_FP = pathlib.Path(os.environ[\"SAVE_FP\"])"
   ]
  },
  {
   "cell_type": "markdown",
   "id": "eddc801d-f815-456c-9b9f-4003a692e286",
   "metadata": {},
   "source": [
    "## Funcs"
   ]
  },
  {
   "cell_type": "markdown",
   "id": "f8b26caf-1931-4e5f-8abc-2982641c9b08",
   "metadata": {},
   "source": [
    "## Load data"
   ]
  },
  {
   "cell_type": "code",
   "execution_count": null,
   "id": "2f433d1a-ee87-4aa5-b2e8-23f7c1da6603",
   "metadata": {},
   "outputs": [],
   "source": [
    "## Load data\n",
    "_, anom = src.utils.load_consolidated()\n",
    "\n",
    "## subset for SST\n",
    "data = anom[[\"sst\", \"sst_comp\"]]\n",
    "\n",
    "## subset for early\n",
    "t_early = dict(time=slice(\"1850\", \"1881\"))\n",
    "data_early = data.sel(t_early).compute()\n",
    "\n",
    "## subset for DJF\n",
    "data_djf = src.utils.sel_month(\n",
    "    data_early[\"sst\"].resample({\"time\": \"QS-DEC\"}).mean(),\n",
    "    months=12,\n",
    ")\n",
    "data_djf = data_djf.isel(time=slice(1, -1))"
   ]
  },
  {
   "cell_type": "code",
   "execution_count": null,
   "id": "28864077-1eb5-4e62-91e5-109da6e3aae2",
   "metadata": {},
   "outputs": [],
   "source": [
    "# src.utils.reconstruct_fn(\n",
    "#     scores=data_djf, components=data[\"sst_comp\"], fn=lambda x : x,\n",
    "# )"
   ]
  },
  {
   "cell_type": "markdown",
   "id": "99f3097c-f0db-4be0-83fa-83c36f1ada81",
   "metadata": {},
   "source": [
    "## Compute EOFs"
   ]
  },
  {
   "cell_type": "code",
   "execution_count": null,
   "id": "6fca4fd9-6acd-4425-bc4b-57b66ce18bde",
   "metadata": {},
   "outputs": [],
   "source": [
    "X = data_djf.stack(sample=[\"member\", \"time\"])\n",
    "U, s, Vt = np.linalg.svd(X.transpose(\"mode\", \"sample\").values, full_matrices=False)\n",
    "\n",
    "## put results in xr\n",
    "eofs = xr.Dataset(\n",
    "    data_vars=dict(\n",
    "        U=((\"mode\", \"eof_mode\"), U),\n",
    "        V=((\"sample\", \"eof_mode\"), Vt.T),\n",
    "        s=(\"eof_mode\", s),\n",
    "    ),\n",
    "    coords=dict(\n",
    "        mode=X.mode,\n",
    "        sample=X.sample,\n",
    "        eof_mode=np.arange(300),\n",
    "    ),\n",
    ")\n",
    "\n",
    "## get spatial patterns\n",
    "eofs[\"patterns\"] = src.utils.reconstruct_fn(\n",
    "    scores=eofs[\"U\"],\n",
    "    components=data[\"sst_comp\"],\n",
    "    fn=lambda x: x,\n",
    ")\n",
    "\n",
    "## normalize spatial patterns\n",
    "scale = eofs[\"patterns\"].std([\"latitude\", \"longitude\"])\n",
    "eofs[\"patterns\"] = eofs[\"patterns\"] / scale"
   ]
  },
  {
   "cell_type": "markdown",
   "id": "a67b76ea-1ad0-452f-983b-06d145b23dee",
   "metadata": {},
   "source": [
    "### Plot PC space"
   ]
  },
  {
   "cell_type": "code",
   "execution_count": null,
   "id": "cfc7a6fb-2016-49b5-9a65-9c7549cebc3a",
   "metadata": {},
   "outputs": [],
   "source": [
    "fig, ax = plt.subplots(figsize=(3, 3))\n",
    "\n",
    "ax.scatter(eofs[\"V\"].isel(eof_mode=0), eofs[\"V\"].isel(eof_mode=1), s=1)\n",
    "plt.show()"
   ]
  },
  {
   "cell_type": "markdown",
   "id": "cb6cf30a-e16b-4efa-a84c-1c8c4e40795d",
   "metadata": {},
   "source": [
    "### Plot spatial pattern"
   ]
  },
  {
   "cell_type": "code",
   "execution_count": null,
   "id": "b401242d-26cd-495c-b1af-72120b27c78c",
   "metadata": {},
   "outputs": [],
   "source": [
    "import cartopy.crs as ccrs\n",
    "\n",
    "fig = plt.figure(figsize=(6, 10 / 3), layout=\"constrained\")\n",
    "axs = src.utils.subplots_with_proj(\n",
    "    fig, nrows=2, ncols=1, format_func=src.utils.plot_setup_pac\n",
    ")\n",
    "\n",
    "for j, i in enumerate([0, 2]):\n",
    "    cp = axs[j, 0].contourf(\n",
    "        eofs.longitude,\n",
    "        eofs.latitude,\n",
    "        eofs[\"patterns\"].isel(eof_mode=i),\n",
    "        transform=ccrs.PlateCarree(),\n",
    "        cmap=\"cmo.balance\",\n",
    "        levels=src.utils.make_cb_range(4, 0.4),\n",
    "        extend=\"both\",\n",
    "    )\n",
    "\n",
    "cb = fig.colorbar(cp)"
   ]
  }
 ],
 "metadata": {
  "kernelspec": {
   "display_name": "Python [conda env:envs]",
   "language": "python",
   "name": "conda-env-envs-py"
  },
  "language_info": {
   "codemirror_mode": {
    "name": "ipython",
    "version": 3
   },
   "file_extension": ".py",
   "mimetype": "text/x-python",
   "name": "python",
   "nbconvert_exporter": "python",
   "pygments_lexer": "ipython3",
   "version": "3.13.5"
  }
 },
 "nbformat": 4,
 "nbformat_minor": 5
}
