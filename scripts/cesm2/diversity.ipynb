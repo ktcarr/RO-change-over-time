{
 "cells": [
  {
   "cell_type": "markdown",
   "id": "2d2d2cf3-6ba8-4d0e-9d42-216ba6461f7b",
   "metadata": {},
   "source": [
    "# ENSO diversity over time"
   ]
  },
  {
   "cell_type": "markdown",
   "id": "462b4464-4c44-4d32-8fd4-1a3a634aae23",
   "metadata": {},
   "source": [
    "## Imports"
   ]
  },
  {
   "cell_type": "code",
   "execution_count": null,
   "id": "f76937ba-c596-425c-b849-6034cad11789",
   "metadata": {},
   "outputs": [],
   "source": [
    "import matplotlib.pyplot as plt\n",
    "import matplotlib as mpl\n",
    "import numpy as np\n",
    "import seaborn as sns\n",
    "import xarray as xr\n",
    "import pathlib\n",
    "import cmocean\n",
    "import os\n",
    "import cartopy.crs as ccrs\n",
    "\n",
    "# Import custom modules\n",
    "import src.utils\n",
    "\n",
    "## set plotting specs\n",
    "sns.set(rc={\"axes.facecolor\": \"white\", \"axes.grid\": False})\n",
    "\n",
    "## bump up DPI\n",
    "mpl.rcParams[\"figure.dpi\"] = 100\n",
    "\n",
    "## get filepaths\n",
    "DATA_FP = pathlib.Path(os.environ[\"DATA_FP\"])\n",
    "SAVE_FP = pathlib.Path(os.environ[\"SAVE_FP\"])"
   ]
  },
  {
   "cell_type": "markdown",
   "id": "eddc801d-f815-456c-9b9f-4003a692e286",
   "metadata": {},
   "source": [
    "## Funcs"
   ]
  },
  {
   "cell_type": "code",
   "execution_count": null,
   "id": "3bd3df27-c1ae-448b-b725-a1fb8a9d59ec",
   "metadata": {},
   "outputs": [],
   "source": [
    "def get_djf(data):\n",
    "    \"\"\"Get djf data\"\"\"\n",
    "\n",
    "    ## subset for DJF\n",
    "    data_djf = src.utils.sel_month(\n",
    "        data.resample({\"time\": \"QS-DEC\"}).mean(),\n",
    "        months=12,\n",
    "    )\n",
    "    return data_djf.isel(time=slice(1, -1))\n",
    "\n",
    "\n",
    "def get_trim(data_proj, v=\"sst\"):\n",
    "    \"\"\"Get DJF data trimmed to [-5,5] latitude\"\"\"\n",
    "\n",
    "    ## trim to [-5,5]\n",
    "    data_trim = src.utils.reconstruct_fn(\n",
    "        scores=data_proj[v],\n",
    "        components=data_proj[f\"{v}_comp\"],\n",
    "        fn=lambda x: x.sel(latitude=slice(-15, 15)),\n",
    "    )\n",
    "\n",
    "    ## project back on EOFs\n",
    "    data_proj_trim = (data_trim * data_proj[f\"{v}_comp\"]).sum([\"longitude\", \"latitude\"])\n",
    "\n",
    "    return data_proj_trim\n",
    "\n",
    "\n",
    "def compute_eofs(data, v=\"sst\"):\n",
    "    \"\"\"compute eofs from data\"\"\"\n",
    "\n",
    "    ## subset for djf\n",
    "    data_djf = get_djf(data)\n",
    "\n",
    "    ## get trimmed version\n",
    "    data_djf_trim = get_trim(data_djf, v=v)\n",
    "\n",
    "    ## stack data\n",
    "    X = data_djf_trim.stack(sample=[\"member\", \"time\"]).transpose(\"mode\", \"sample\")\n",
    "\n",
    "    ## Do SVD\n",
    "    U, s, Vt = np.linalg.svd(X.values, full_matrices=False)\n",
    "\n",
    "    ## put results in xr\n",
    "    eofs = xr.Dataset(\n",
    "        data_vars=dict(\n",
    "            U=((\"mode\", \"eof_mode\"), U),\n",
    "            V=((\"sample\", \"eof_mode\"), Vt.T),\n",
    "            s=(\"eof_mode\", s),\n",
    "        ),\n",
    "        coords=dict(\n",
    "            mode=X.mode,\n",
    "            sample=X.sample,\n",
    "            eof_mode=np.arange(300),\n",
    "        ),\n",
    "    )\n",
    "\n",
    "    ## get equally-weighted projection\n",
    "    eofs[\"Vs\"] = eofs[\"V\"] * eofs[\"s\"]\n",
    "\n",
    "    ## get \"full\" spatial patterns\n",
    "    U_full = (data_djf[f\"{v}\"].stack(sample=[\"member\", \"time\"]) * eofs[\"V\"]).sum(\n",
    "        \"sample\"\n",
    "    )\n",
    "    eofs[\"patterns\"] = src.utils.reconstruct_fn(\n",
    "        scores=U_full,\n",
    "        components=data[f\"{v}_comp\"],\n",
    "        fn=lambda x: x,\n",
    "    )\n",
    "\n",
    "    ## normalize spatial patterns\n",
    "    scale = eofs[\"patterns\"].sel(latitude=slice(-5, 5)).std([\"latitude\", \"longitude\"])\n",
    "    eofs[\"patterns\"] = eofs[\"patterns\"] / scale\n",
    "\n",
    "    ## get explained variance\n",
    "    eofs[\"exp_var\"] = eofs[\"s\"] ** 2 / (eofs[\"s\"] ** 2).sum()\n",
    "\n",
    "    return eofs"
   ]
  },
  {
   "cell_type": "markdown",
   "id": "f8b26caf-1931-4e5f-8abc-2982641c9b08",
   "metadata": {},
   "source": [
    "## Load data"
   ]
  },
  {
   "cell_type": "code",
   "execution_count": null,
   "id": "b9cbd58b-fcd3-44c8-a5b7-2de488d9a258",
   "metadata": {},
   "outputs": [],
   "source": [
    "## Load data\n",
    "_, anom = src.utils.load_consolidated()\n",
    "\n",
    "## subset for SST\n",
    "# data = anom[[\"sst\", \"sst_comp\"]]\n",
    "data = anom[[\"pr\", \"pr_comp\"]]\n",
    "\n",
    "## open data\n",
    "Th = src.utils.load_cesm_indices()"
   ]
  },
  {
   "cell_type": "markdown",
   "id": "2d9caa82-f8b6-45e3-ba05-2fb55161348b",
   "metadata": {},
   "source": [
    "### Subset for early/late"
   ]
  },
  {
   "cell_type": "code",
   "execution_count": null,
   "id": "fa489e87-99f5-4d0b-8af3-afb54e138006",
   "metadata": {},
   "outputs": [],
   "source": [
    "## specify early/late\n",
    "t_early = dict(time=slice(\"1850\", \"1881\"))\n",
    "t_late = dict(time=slice(\"2069\", \"2100\"))\n",
    "\n",
    "## subset for early/late\n",
    "data_early = data.sel(t_early).compute()\n",
    "data_late = data.sel(t_late).compute()\n",
    "\n",
    "Th_early = Th.sel(t_early)\n",
    "Th_late = Th.sel(t_late)"
   ]
  },
  {
   "cell_type": "markdown",
   "id": "58bbd1ce-4d52-47e0-b357-ba17519d1c3a",
   "metadata": {},
   "source": [
    "## Compute EOFs"
   ]
  },
  {
   "cell_type": "code",
   "execution_count": null,
   "id": "cdaffd30-6b11-4588-9837-39ffc61878bc",
   "metadata": {},
   "outputs": [],
   "source": [
    "eofs_early = compute_eofs(data_early, v=\"pr\")\n",
    "eofs_late = compute_eofs(data_late, v=\"pr\")"
   ]
  },
  {
   "cell_type": "markdown",
   "id": "99f3097c-f0db-4be0-83fa-83c36f1ada81",
   "metadata": {},
   "source": [
    "## Plot"
   ]
  },
  {
   "cell_type": "markdown",
   "id": "a9c93f1a-c39d-4b10-b236-0f2e9d9434da",
   "metadata": {},
   "source": [
    "### Plot variance"
   ]
  },
  {
   "cell_type": "code",
   "execution_count": null,
   "id": "0c531873-dccb-4363-a5a3-66b3796ec39b",
   "metadata": {},
   "outputs": [],
   "source": [
    "## specify markers/labels\n",
    "markers = [\"o\", \"x\"]\n",
    "labels = [\"early\", \"late\"]\n",
    "\n",
    "fig, ax = plt.subplots(figsize=(3, 2.5))\n",
    "\n",
    "for eofs, m, l in zip([eofs_early, eofs_late], markers, labels):\n",
    "\n",
    "    ## plot data\n",
    "    ax.scatter(eofs.eof_mode, eofs[\"exp_var\"], marker=m, label=l)\n",
    "    # ax.plot(eofs.eof_mode, eofs[\"exp_var\"], alpha=.5)\n",
    "\n",
    "    ## format\n",
    "    ax.set_xlim([-0.5, 5.5])\n",
    "\n",
    "plt.show()"
   ]
  },
  {
   "cell_type": "code",
   "execution_count": null,
   "id": "a408a7ae-3c14-4a40-8f79-2bf33f50c0c7",
   "metadata": {},
   "outputs": [],
   "source": [
    "proj_early = (eofs_early[\"U\"] * data_early[\"pr\"]).sum(\"mode\")\n",
    "proj_late = (eofs_early[\"U\"] * data_late[\"pr\"]).sum(\"mode\")"
   ]
  },
  {
   "cell_type": "code",
   "execution_count": null,
   "id": "b99ffa0b-8984-403d-ae29-061df126740c",
   "metadata": {},
   "outputs": [],
   "source": [
    "proj_early"
   ]
  },
  {
   "cell_type": "markdown",
   "id": "a67b76ea-1ad0-452f-983b-06d145b23dee",
   "metadata": {},
   "source": [
    "### Plot PC space"
   ]
  },
  {
   "cell_type": "code",
   "execution_count": null,
   "id": "cfc7a6fb-2016-49b5-9a65-9c7549cebc3a",
   "metadata": {},
   "outputs": [],
   "source": [
    "fig, axs = plt.subplots(1, 2, figsize=(8, 1.5), layout=\"constrained\")\n",
    "\n",
    "for ax, eofs in zip(axs, [eofs_early, eofs_late]):\n",
    "    ax.scatter(eofs[\"Vs\"].isel(eof_mode=0), eofs[\"Vs\"].isel(eof_mode=1), s=1)\n",
    "    ax.set_aspect(\"equal\")\n",
    "    kwargs = dict(ls=\"--\", lw=0.8, c=\"k\")\n",
    "    ax.axvline(0, **kwargs)\n",
    "    ax.axhline(0, **kwargs)\n",
    "\n",
    "src.utils.set_lims(axs)\n",
    "\n",
    "plt.show()"
   ]
  },
  {
   "cell_type": "markdown",
   "id": "d78276cc-c954-4685-842b-d7b261125b90",
   "metadata": {},
   "source": [
    "### Compare to ($T,h$) space"
   ]
  },
  {
   "cell_type": "code",
   "execution_count": null,
   "id": "e0bcb62e-2e26-44b3-9fdc-69bf84eb6dd5",
   "metadata": {},
   "outputs": [],
   "source": [
    "## func to subset data\n",
    "sel = get_djf\n",
    "# sel = lambda x : src.utils.sel_month(x, months=12)\n",
    "\n",
    "fig, axs = plt.subplots(1, 2, figsize=(5.5, 2.5), layout=\"constrained\")\n",
    "\n",
    "for ax, Th_ in zip(axs, [Th_early, Th_late]):\n",
    "    ax.scatter(sel(Th_[\"T_3\"]), sel(Th_[\"h_w\"]), s=1)\n",
    "    # ax.scatter(sel(Th_[\"T_3\"]), sel(Th_[\"h\"]-Th_[\"h_w\"]), s=1)\n",
    "    kwargs = dict(ls=\"--\", lw=0.8, c=\"k\")\n",
    "    ax.axvline(0, **kwargs)\n",
    "    ax.axhline(0, **kwargs)\n",
    "\n",
    "src.utils.set_lims(axs)\n",
    "\n",
    "plt.show()"
   ]
  },
  {
   "cell_type": "markdown",
   "id": "cb6cf30a-e16b-4efa-a84c-1c8c4e40795d",
   "metadata": {},
   "source": [
    "### Plot spatial pattern"
   ]
  },
  {
   "cell_type": "markdown",
   "id": "27994c87-981f-46d2-9060-bd70bcb6d262",
   "metadata": {},
   "source": [
    "#### plot pair of modes"
   ]
  },
  {
   "cell_type": "code",
   "execution_count": null,
   "id": "b401242d-26cd-495c-b1af-72120b27c78c",
   "metadata": {},
   "outputs": [],
   "source": [
    "# PLOT_EOFS = eofs_early\n",
    "PLOT_EOFS = eofs_late\n",
    "\n",
    "fig = plt.figure(figsize=(6, 10 / 3), layout=\"constrained\")\n",
    "axs = src.utils.subplots_with_proj(\n",
    "    fig, nrows=2, ncols=1, format_func=src.utils.plot_setup_pac\n",
    ")\n",
    "\n",
    "for j, i in enumerate([0, 1]):\n",
    "    cp = axs[j, 0].contourf(\n",
    "        PLOT_EOFS.longitude,\n",
    "        PLOT_EOFS.latitude,\n",
    "        PLOT_EOFS[\"patterns\"].isel(eof_mode=i),\n",
    "        transform=ccrs.PlateCarree(),\n",
    "        cmap=\"cmo.balance\",\n",
    "        levels=src.utils.make_cb_range(3, 0.3),\n",
    "        extend=\"both\",\n",
    "    )\n",
    "\n",
    "cb = fig.colorbar(cp, ax=axs[:, 0])"
   ]
  },
  {
   "cell_type": "markdown",
   "id": "69487405-384c-4188-adbc-6e04cc21dcb7",
   "metadata": {},
   "source": [
    "#### corresponding modes for diff. EOFs"
   ]
  },
  {
   "cell_type": "code",
   "execution_count": null,
   "id": "8253f4a1-5a63-4144-97d5-6ffe80c5951a",
   "metadata": {},
   "outputs": [],
   "source": [
    "## which EOF mode to plot\n",
    "MODE = 0\n",
    "\n",
    "fig = plt.figure(figsize=(6, 10 / 3), layout=\"constrained\")\n",
    "axs = src.utils.subplots_with_proj(\n",
    "    fig, nrows=2, ncols=1, format_func=src.utils.plot_setup_pac\n",
    ")\n",
    "\n",
    "for j, eofs in enumerate([eofs_early, eofs_late]):\n",
    "    cp = axs[j, 0].contourf(\n",
    "        eofs.longitude,\n",
    "        eofs.latitude,\n",
    "        eofs[\"patterns\"].isel(eof_mode=MODE),\n",
    "        transform=ccrs.PlateCarree(),\n",
    "        cmap=\"cmo.balance\",\n",
    "        levels=src.utils.make_cb_range(3, 0.3),\n",
    "        extend=\"both\",\n",
    "    )\n",
    "\n",
    "cb = fig.colorbar(cp, ax=axs[:, 0])"
   ]
  }
 ],
 "metadata": {
  "kernelspec": {
   "display_name": "Python 3 (ipykernel)",
   "language": "python",
   "name": "python3"
  },
  "language_info": {
   "codemirror_mode": {
    "name": "ipython",
    "version": 3
   },
   "file_extension": ".py",
   "mimetype": "text/x-python",
   "name": "python",
   "nbconvert_exporter": "python",
   "pygments_lexer": "ipython3",
   "version": "3.13.3"
  }
 },
 "nbformat": 4,
 "nbformat_minor": 5
}
