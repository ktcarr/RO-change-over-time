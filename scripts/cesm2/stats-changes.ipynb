{
 "cells": [
  {
   "cell_type": "markdown",
   "id": "f25e70b4-947c-4856-92df-105d59fe89c5",
   "metadata": {},
   "source": [
    "# Stats changes"
   ]
  },
  {
   "cell_type": "markdown",
   "id": "ae01d152-ab13-4b93-bdd7-fbc01178dd86",
   "metadata": {},
   "source": [
    "Look at how stats change over time"
   ]
  },
  {
   "cell_type": "markdown",
   "id": "2c8bf896-2535-4269-b223-95479b502bce",
   "metadata": {},
   "source": [
    "## Imports"
   ]
  },
  {
   "cell_type": "code",
   "execution_count": null,
   "id": "60392585-34f6-4bd9-9913-dceaaebcdeba",
   "metadata": {},
   "outputs": [],
   "source": [
    "import datetime\n",
    "import matplotlib\n",
    "import matplotlib.pyplot as plt\n",
    "import matplotlib as mpl\n",
    "import numpy as np\n",
    "import seaborn as sns\n",
    "import xarray as xr\n",
    "import tqdm\n",
    "import pathlib\n",
    "import cmocean\n",
    "import os\n",
    "import src.XRO\n",
    "import copy\n",
    "import scipy.stats\n",
    "import warnings\n",
    "import calendar\n",
    "import pandas as pd\n",
    "import cartopy.util\n",
    "\n",
    "# import gsw\n",
    "\n",
    "## set plotting specs\n",
    "sns.set(rc={\"axes.facecolor\": \"white\", \"axes.grid\": False}, palette=\"colorblind\")\n",
    "\n",
    "## bump up DPI\n",
    "mpl.rcParams[\"figure.dpi\"] = 100\n",
    "\n",
    "## get filepaths\n",
    "DATA_FP = pathlib.Path(os.environ[\"DATA_FP\"])\n",
    "SAVE_FP = pathlib.Path(os.environ[\"SAVE_FP\"])\n",
    "\n",
    "## set style specs\n",
    "ax_kwargs = dict(ls=\"--\", c=\"gray\", lw=0.8)"
   ]
  },
  {
   "cell_type": "markdown",
   "id": "3550e9f0-0e4b-4249-9f32-30141e7cc677",
   "metadata": {},
   "source": [
    "## Load data"
   ]
  },
  {
   "cell_type": "markdown",
   "id": "b48b1b07-14b5-4b81-8a33-1439c6a382b0",
   "metadata": {},
   "source": [
    "Function to get windowed data"
   ]
  },
  {
   "cell_type": "code",
   "execution_count": null,
   "id": "e3d7e7e7-2650-4f63-8658-6d93ce929017",
   "metadata": {},
   "outputs": [],
   "source": [
    "def get_windowed(x):\n",
    "    return src.utils.get_windowed(x, stride=120)"
   ]
  },
  {
   "cell_type": "code",
   "execution_count": null,
   "id": "7b12b5cb-d83f-4d6a-a0fc-a8b9aa584cbb",
   "metadata": {},
   "outputs": [],
   "source": [
    "## load spatial data\n",
    "forced, anom = src.utils.load_consolidated()\n",
    "\n",
    "## load Th data\n",
    "Th = src.utils.load_cesm_indices()\n",
    "\n",
    "## load ELI\n",
    "eli = xr.open_dataset(pathlib.Path(DATA_FP, \"cesm/eli.nc\"))\n",
    "_, eli_anom = src.utils.separate_forced(eli)\n",
    "\n",
    "## merge\n",
    "Th = xr.merge([Th, eli_anom])"
   ]
  },
  {
   "cell_type": "markdown",
   "id": "b757bb2b-2c05-40c9-9bee-c195a3e97ad6",
   "metadata": {},
   "source": [
    "Compute relative SST"
   ]
  },
  {
   "cell_type": "code",
   "execution_count": null,
   "id": "92ac7b78-f495-450b-995e-3f83e61bf5e7",
   "metadata": {},
   "outputs": [],
   "source": [
    "## load tropical SST data and total data\n",
    "Th_total = xr.open_dataset(DATA_FP / \"cesm\" / \"Th.nc\")\n",
    "trop_sst = xr.open_dataset(pathlib.Path(DATA_FP, \"cesm/trop_sst.nc\"))\n",
    "\n",
    "for v in [\"T_3\", \"T_34\", \"T_4\"]:\n",
    "    Th[f\"{v}_rel\"] = Th_total[v] - trop_sst[\"trop_sst_15\"]"
   ]
  },
  {
   "cell_type": "markdown",
   "id": "3a50fd8b-6770-428e-80df-72f31bf3211f",
   "metadata": {},
   "source": [
    "Get windowed data"
   ]
  },
  {
   "cell_type": "code",
   "execution_count": null,
   "id": "16fb3bee-3a7c-408f-a5b5-9e502fbbddb9",
   "metadata": {},
   "outputs": [],
   "source": [
    "## merge, and get windowed data\n",
    "Th = get_windowed(Th)"
   ]
  },
  {
   "cell_type": "markdown",
   "id": "221568e3-6cf9-4300-8a5a-56c4eb129dd1",
   "metadata": {},
   "source": [
    "## Analysis"
   ]
  },
  {
   "cell_type": "markdown",
   "id": "eae7e7c0-81fc-4b3e-8259-0d488764df10",
   "metadata": {},
   "source": [
    "### Heat flux"
   ]
  },
  {
   "cell_type": "code",
   "execution_count": null,
   "id": "6caec149-f3dd-4ced-9563-9dd78281f7e2",
   "metadata": {},
   "outputs": [],
   "source": [
    "prQ_n34 = get_windowed(\n",
    "    src.utils.reconstruct_wrapper(\n",
    "        anom[[\"pr\", \"pr_comp\", \"nhf\", \"nhf_comp\"]],\n",
    "        fn=src.utils.get_nino34,\n",
    "    ),\n",
    ")"
   ]
  },
  {
   "cell_type": "markdown",
   "id": "f3368968-fc78-4474-a165-554acf9a27e6",
   "metadata": {},
   "source": [
    "Plot data from all years"
   ]
  },
  {
   "cell_type": "code",
   "execution_count": null,
   "id": "28ab7b1e-7f84-4af6-ad0f-0880d3f4d5a9",
   "metadata": {},
   "outputs": [],
   "source": [
    "## plot var\n",
    "PLOT_VAR = \"nhf\"\n",
    "\n",
    "## get plot data\n",
    "sel = lambda x: src.utils.sel_month(x, 12).transpose(\"time\", \"member\", ...)\n",
    "# x0 = sel(Th[\"T_34_rel\"])\n",
    "x0 = sel(Th[\"T_34_rel\"])\n",
    "x1 = sel(prQ_n34[PLOT_VAR])\n",
    "\n",
    "## make plot\n",
    "fig, ax = plt.subplots(1, 1, figsize=(3, 2.5), layout=\"constrained\")\n",
    "\n",
    "# for ax, y_ in zip(axs, [1870,2030]):\n",
    "ax.scatter(x0, x1, s=1, alpha=0.2)\n",
    "ax.axhline(0, **ax_kwargs)\n",
    "ax.axvline(0, **ax_kwargs)\n",
    "\n",
    "# src.utils.set_lims(axs)\n",
    "# axs[1].set_yticks([])\n",
    "plt.show()"
   ]
  },
  {
   "cell_type": "markdown",
   "id": "f468814e-8046-43c3-8d51-7afe2f868189",
   "metadata": {},
   "source": [
    "Plot beginning/end years"
   ]
  },
  {
   "cell_type": "code",
   "execution_count": null,
   "id": "b37683cc-6067-4b1c-9967-743378520406",
   "metadata": {},
   "outputs": [],
   "source": [
    "## plot var\n",
    "PLOT_VAR = \"nhf\"\n",
    "\n",
    "## get plot data\n",
    "sel = lambda x: src.utils.sel_month(x, 12).transpose(\"time\", \"member\", ...)\n",
    "x0 = sel(Th[\"T_34_rel\"])\n",
    "x1 = sel(prQ_n34[PLOT_VAR])\n",
    "\n",
    "## make plot\n",
    "fig, axs = plt.subplots(1, 2, figsize=(5.5, 2.5), layout=\"constrained\")\n",
    "\n",
    "for ax, y_ in zip(axs, [1870, 2030]):\n",
    "    ax.scatter(x0.sel(year=y_), x1.sel(year=y_), s=3, alpha=0.5)\n",
    "    ax.axhline(0, **ax_kwargs)\n",
    "    ax.axvline(0, **ax_kwargs)\n",
    "\n",
    "src.utils.set_lims(axs)\n",
    "axs[1].set_yticks([])\n",
    "plt.show()"
   ]
  },
  {
   "cell_type": "markdown",
   "id": "361f981e-cc5a-4a12-b2b1-0b4876b33118",
   "metadata": {},
   "source": [
    "#### Fig"
   ]
  },
  {
   "cell_type": "code",
   "execution_count": null,
   "id": "1840a7d7-98d1-4a62-a9f8-aa44ad9c4da9",
   "metadata": {},
   "outputs": [],
   "source": [
    "## plot var\n",
    "PLOT_VAR = \"nhf\"\n",
    "\n",
    "## get plot data\n",
    "sel = lambda x: src.utils.sel_month(x, 12).transpose(\"time\", \"member\", ...)\n",
    "x0 = sel(Th[\"T_34_rel\"])\n",
    "x1 = sel(prQ_n34[\"nhf\"])"
   ]
  },
  {
   "cell_type": "code",
   "execution_count": null,
   "id": "c752c1ce-0b25-49e0-bf0a-b345f748885d",
   "metadata": {},
   "outputs": [],
   "source": [
    "fig, ax = plt.subplots(figsize=(4, 4))\n",
    "ax.scatter(sel(prQ_n34[\"pr\"]).isel(year=0), sel(prQ_n34[\"nhf\"]).isel(year=0), s=10)"
   ]
  },
  {
   "cell_type": "code",
   "execution_count": null,
   "id": "a42c2eb1-f6c4-4ee3-ab80-ea971436ef07",
   "metadata": {},
   "outputs": [],
   "source": [
    "n_bins = 20\n",
    "nhf_bins = np.linspace(-75, 40, n_bins)\n",
    "sst_bins = np.linspace(-5, 3, n_bins)\n",
    "\n",
    "get_pdf = lambda x, bins: src.utils.get_empirical_pdf(\n",
    "    x.stack(samp=[\"time\", \"member\"]).values, bins\n",
    ")[0]\n",
    "\n",
    "## empty array to hold PDFs\n",
    "pdfs_sst = []\n",
    "pdfs_nhf = []\n",
    "\n",
    "for y_ in [1870, 1980, 2080]:\n",
    "    pdfs_sst.append(get_pdf(x0.sel(year=y_), sst_bins))\n",
    "    pdfs_nhf.append(get_pdf(x0.sel(year=y_), sst_bins))"
   ]
  },
  {
   "cell_type": "code",
   "execution_count": null,
   "id": "2d93753f-483f-43b2-8f70-2ddd8087e8a7",
   "metadata": {},
   "outputs": [],
   "source": [
    "fig, axs = plt.subplots(1, 2, figsize=(6.5, 3), layout=\"constrained\")\n",
    "\n",
    "# for ax, y_ in zip(axs, [1870,2030]):\n",
    "axs[0].scatter(x0, x1, s=1, alpha=0.2, c=\"k\")\n",
    "\n",
    "\n",
    "axs[0].axhline(0, **ax_kwargs)\n",
    "for ax in axs:\n",
    "    ax.axvline(0, **ax_kwargs)\n",
    "    ax.set_xticks([-4, -2, 0, 2])\n",
    "\n",
    "## plot PDFs\n",
    "axs[1].stairs(pdfs_sst[0], sst_bins, fill=True, alpha=0.1, color=\"k\", label=1870)\n",
    "axs[1].stairs(pdfs_sst[1], sst_bins, lw=2, label=1980)\n",
    "axs[1].stairs(pdfs_sst[2], sst_bins, lw=2, label=2080)\n",
    "# axs[0].set_yticks([-75, -25, 25])\n",
    "axs[1].set_yticks([])\n",
    "axs[0].set_ylabel(r\"$W~m^{-2}$\")\n",
    "axs[1].set_ylabel(r\"Prob. density\")\n",
    "axs[0].set_xlabel(r\"$^{\\circ}C$\")\n",
    "axs[1].set_xlabel(r\"$^{\\circ}C$\")\n",
    "axs[1].yaxis.set_label_position(\"right\")\n",
    "axs[1].legend()\n",
    "\n",
    "plt.show()"
   ]
  }
 ],
 "metadata": {
  "kernelspec": {
   "display_name": "Python 3 (ipykernel)",
   "language": "python",
   "name": "python3"
  },
  "language_info": {
   "codemirror_mode": {
    "name": "ipython",
    "version": 3
   },
   "file_extension": ".py",
   "mimetype": "text/x-python",
   "name": "python",
   "nbconvert_exporter": "python",
   "pygments_lexer": "ipython3",
   "version": "3.13.3"
  }
 },
 "nbformat": 4,
 "nbformat_minor": 5
}
