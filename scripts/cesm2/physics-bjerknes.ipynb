{
 "cells": [
  {
   "cell_type": "markdown",
   "id": "22516693-2eb8-45f7-b9d4-4511a195a408",
   "metadata": {},
   "source": [
    "# Bjerknes feedback changes over time"
   ]
  },
  {
   "cell_type": "markdown",
   "id": "0e795c63-4ea6-4623-b0a2-e33656d4c420",
   "metadata": {},
   "source": [
    "## imports"
   ]
  },
  {
   "cell_type": "code",
   "execution_count": null,
   "id": "42d155a1-2906-4d88-9022-b7996ecf7560",
   "metadata": {},
   "outputs": [],
   "source": [
    "import matplotlib.pyplot as plt\n",
    "import matplotlib as mpl\n",
    "import numpy as np\n",
    "import seaborn as sns\n",
    "import xarray as xr\n",
    "import tqdm\n",
    "import pathlib\n",
    "import cmocean\n",
    "import os\n",
    "import copy\n",
    "import time\n",
    "\n",
    "# Import custom modules\n",
    "import src.utils\n",
    "\n",
    "## set plotting specs\n",
    "sns.set(rc={\"axes.facecolor\": \"white\", \"axes.grid\": False})\n",
    "\n",
    "## bump up DPI\n",
    "mpl.rcParams[\"figure.dpi\"] = 100\n",
    "\n",
    "## get filepaths\n",
    "DATA_FP = pathlib.Path(os.environ[\"DATA_FP\"])\n",
    "SAVE_FP = pathlib.Path(os.environ[\"SAVE_FP\"])"
   ]
  },
  {
   "cell_type": "markdown",
   "id": "8382b7b8-eac8-4cf0-8ad1-4632a36727b9",
   "metadata": {},
   "source": [
    "## Funcs"
   ]
  },
  {
   "cell_type": "code",
   "execution_count": null,
   "id": "9874f9c6-8fd1-4c20-abb1-98e3e4962768",
   "metadata": {},
   "outputs": [],
   "source": [
    "def get_dT_sub(Tsub, Hm, delta=25):\n",
    "    \"\"\"\n",
    "    Get temperature difference b/n entrainment zone and mixed layer.\n",
    "    (positive if entrainment zone is warmer than ML)\n",
    "    \"\"\"\n",
    "\n",
    "    ## find indices in ML and entrainment zone (ez)\n",
    "    in_ml = Tsub.z_t <= Hm\n",
    "    in_ez = (Tsub.z_t > Hm) & (Tsub.z_t < (delta + Hm))\n",
    "\n",
    "    ## get Tbar and Tplus (following Frankignoul et al paper)\n",
    "    Tbar = Tsub.where(in_ml).mean(\"z_t\")\n",
    "    Tplus = Tsub.where(in_ez).mean(\"z_t\")\n",
    "\n",
    "    ## get gradient\n",
    "    dT = Tplus - Tbar\n",
    "\n",
    "    return dT\n",
    "\n",
    "\n",
    "def prep(data):\n",
    "    \"\"\"remove sst dependence and compute tendencies\"\"\"\n",
    "\n",
    "    ## remove from h indices\n",
    "    for h_idx in [\"h_w\", \"h\", \"h_w_z20\"]:\n",
    "        data[f\"{h_idx}_hat\"] = src.utils.remove_sst_dependence_v2(\n",
    "            data, h_var=h_idx, T_var=\"T_34\"\n",
    "        )\n",
    "\n",
    "    return data\n",
    "\n",
    "\n",
    "def load_budget_data(t_early, t_late, target_grid):\n",
    "    \"\"\"load ground truth heat budget data\"\"\"\n",
    "\n",
    "    def load_var(varname):\n",
    "        \"\"\"load variable from prepped folder\"\"\"\n",
    "\n",
    "        ## open data\n",
    "        data = xr.open_mfdataset(\n",
    "            sorted(list(pathlib.Path(DATA_FP, \"cesm\", f\"{varname}_temp\").glob(\"*.nc\"))),\n",
    "            concat_dim=\"member\",\n",
    "            combine=\"nested\",\n",
    "            parallel=True,\n",
    "        )\n",
    "\n",
    "        return data.assign_coords({\"member\": np.arange(100)})\n",
    "\n",
    "    ## load data\n",
    "    budget_data = xr.merge([load_var(v) for v in [\"adv\", \"ddt_T\"]])\n",
    "\n",
    "    ## get difference\n",
    "    budget_data[\"diff\"] = budget_data[\"TEND_TEMP\"] - budget_data[\"ADV_3D_TEMP\"]\n",
    "\n",
    "    ## convert z coord from cm to m, and unit from K/s to K/mo\n",
    "    M_PER_CM = 1e-2\n",
    "    SEC_PER_MO = 8.64e4 * 30\n",
    "\n",
    "    ## convert from (i) cm to m and (ii) K/s to K/mo\n",
    "    budget_data = budget_data.assign_coords({\"z_t\": budget_data.z_t * M_PER_CM})\n",
    "    budget_data = budget_data * SEC_PER_MO\n",
    "\n",
    "    ## fix longitude coordinate\n",
    "    budget_data = budget_data.assign_coords({\"nlon\": budget_data.lon.values})\n",
    "    budget_data = budget_data.drop_vars(\"lon\").rename({\"nlon\": \"longitude\"})\n",
    "\n",
    "    ## trim in time\n",
    "    budget_data = xr.concat(\n",
    "        [budget_data.sel(t_early), budget_data.sel(t_late)], dim=\"time\"\n",
    "    )\n",
    "\n",
    "    ## interpolate\n",
    "    budget_data = budget_data.interp_like(target_grid)\n",
    "\n",
    "    # ## separate forced/anomalies\n",
    "    forced_bud, anom_bud = src.utils.separate_forced(budget_data)\n",
    "\n",
    "    return forced_bud, anom_bud\n",
    "\n",
    "\n",
    "def plot_mlds(axs, bar_early, bar_late, month=None):\n",
    "    \"\"\"plot mixed layer depth on pair of axs objects\"\"\"\n",
    "\n",
    "    ## get longitude\n",
    "    lon = src.utils.merimean(bar_early).longitude\n",
    "\n",
    "    ## helper function to get month\n",
    "    if month is None:\n",
    "        sel = lambda x: x.mean(\"month\")\n",
    "    else:\n",
    "        sel = lambda x: x.sel(month=month)\n",
    "\n",
    "    ## plot\n",
    "    axs[0].plot(lon, sel(src.utils.merimean(bar_early[\"mld\"])), c=\"k\")\n",
    "    axs[1].plot(lon, sel(src.utils.merimean(bar_late[\"mld\"])), c=\"k\", ls=\"--\")\n",
    "    axs[2].plot(lon, sel(src.utils.merimean(bar_early[\"mld\"])), c=\"k\")\n",
    "    axs[2].plot(lon, sel(src.utils.merimean(bar_late[\"mld\"])), c=\"k\", ls=\"--\")\n",
    "\n",
    "    return\n",
    "\n",
    "\n",
    "def plot_level(ax, data, level, ls=\"-\", c=\"w\"):\n",
    "    \"\"\"plot single level on hovmoller\"\"\"\n",
    "    ax.contour(\n",
    "        data.longitude,\n",
    "        data.z_t,\n",
    "        data,\n",
    "        levels=[level],\n",
    "        colors=c,\n",
    "        linestyles=ls,\n",
    "        linewidths=1,\n",
    "    )\n",
    "    return"
   ]
  },
  {
   "cell_type": "markdown",
   "id": "e7e6f806-7cb2-446a-a9c1-63adc1930685",
   "metadata": {},
   "source": [
    "## Load data"
   ]
  },
  {
   "cell_type": "markdown",
   "id": "8d81b793-263e-47ed-8a47-72859ffcbe5f",
   "metadata": {},
   "source": [
    "#### $T$, $h$"
   ]
  },
  {
   "cell_type": "code",
   "execution_count": null,
   "id": "eccc268a-e60d-45bb-b68d-acd3860e5eb0",
   "metadata": {},
   "outputs": [],
   "source": [
    "## open data\n",
    "Th = src.utils.load_cesm_indices(load_z20=True)"
   ]
  },
  {
   "cell_type": "markdown",
   "id": "23f711ba-bc31-42a3-9154-6ef25c986fb3",
   "metadata": {},
   "source": [
    "### Spatial data"
   ]
  },
  {
   "cell_type": "markdown",
   "id": "68218dec-2a10-4157-9706-029462439ac1",
   "metadata": {},
   "source": [
    "#### Load"
   ]
  },
  {
   "cell_type": "code",
   "execution_count": null,
   "id": "d67f1548-0928-4142-b1ce-7e027937464b",
   "metadata": {},
   "outputs": [],
   "source": [
    "## load spatial data\n",
    "forced, anom = src.utils.load_consolidated()\n",
    "\n",
    "## add T,h information\n",
    "for n in [\"T_3\", \"T_34\", \"T_4\", \"h\", \"h_w\", \"h_w_z20\", \"h_z20\"]:\n",
    "    # anom[n] = Th[n] / Th[n].std()\n",
    "    anom[n] = Th[n]"
   ]
  },
  {
   "cell_type": "markdown",
   "id": "0cce985e-5d04-4e07-bfc0-baadebc41cfc",
   "metadata": {},
   "source": [
    "#### compute some indices"
   ]
  },
  {
   "cell_type": "code",
   "execution_count": null,
   "id": "9ed7d076-a841-413d-b1d8-26f95973851c",
   "metadata": {},
   "outputs": [],
   "source": [
    "## get sst tendency (and convert from 1/yr to 1/mo)\n",
    "anom[\"ddt_sst\"] = 1 / 12 * src.utils.get_ddt(anom[[\"sst\"]], is_forward=True)[\"ddt_sst\"]"
   ]
  },
  {
   "cell_type": "markdown",
   "id": "b3e1c3dd-5c48-42cf-993d-ac44516ab62d",
   "metadata": {},
   "source": [
    "#### early/late split"
   ]
  },
  {
   "cell_type": "code",
   "execution_count": null,
   "id": "93d3ba4c-0e7e-4bb0-8a2a-89b8fceb52ae",
   "metadata": {},
   "outputs": [],
   "source": [
    "## split into early/late periods\n",
    "t_early = dict(time=slice(\"1851\", \"1880\"))\n",
    "# t_late = dict(time=slice(\"1981\", \"2010\"))\n",
    "t_late = dict(time=slice(\"2071\", \"2100\"))\n",
    "\n",
    "## split surface data\n",
    "anom_early = anom.sel(t_early)\n",
    "anom_late = anom.sel(t_late)\n",
    "\n",
    "## preprocess\n",
    "anom_early = prep(anom_early).compute()\n",
    "anom_late = prep(anom_late).compute()"
   ]
  },
  {
   "cell_type": "markdown",
   "id": "bc2859c3-7c70-4c91-8c9f-e24ab3b04b25",
   "metadata": {},
   "source": [
    "## Compute/plot"
   ]
  },
  {
   "cell_type": "code",
   "execution_count": null,
   "id": "e4d809f4-214b-435d-a438-6dbb203119fa",
   "metadata": {},
   "outputs": [],
   "source": [
    "def get_slope_bymonth(x, **kwargs):\n",
    "    \"\"\"get slope for each month separately\"\"\"\n",
    "    return x.groupby(\"time.month\").map(src.utils.regress_proj, **kwargs)"
   ]
  },
  {
   "cell_type": "markdown",
   "id": "33a4f119-d707-4ba1-bb0d-e59591434d1a",
   "metadata": {},
   "source": [
    "### SST - SST"
   ]
  },
  {
   "cell_type": "code",
   "execution_count": null,
   "id": "2c387d7c-19bb-43af-9d1f-c1206bda0f9a",
   "metadata": {},
   "outputs": [],
   "source": [
    "## shared kwargs\n",
    "kwargs = dict(x_var=\"sst\", y_var=\"sst\", fn_x=src.utils.get_nino3)\n",
    "\n",
    "## function to get slope\n",
    "# get_slope = lambda x: x.groupby(\"time.month\").map(src.utils.regress_proj, **kwargs)\n",
    "\n",
    "## then, reconstruct regression coefficient\n",
    "m_early = get_slope_bymonth(anom_early, **kwargs)\n",
    "m_late = get_slope_bymonth(anom_late, **kwargs)"
   ]
  },
  {
   "cell_type": "markdown",
   "id": "436bf4ff-53d5-4d56-bde6-c9d4f0ef3749",
   "metadata": {},
   "source": [
    "Hovmoller"
   ]
  },
  {
   "cell_type": "code",
   "execution_count": null,
   "id": "a0c0ba4d-d968-452d-945c-d82400218c1e",
   "metadata": {},
   "outputs": [],
   "source": [
    "## shared args\n",
    "kwargs = dict(amp=1.5, lat_bound=1.5)\n",
    "\n",
    "fig, axs = plt.subplots(1, 3, figsize=(6, 2.5), layout=\"constrained\")\n",
    "\n",
    "## plot data\n",
    "cp0 = src.utils.make_cycle_hov(axs[0], data=m_early, **kwargs)\n",
    "cp1 = src.utils.make_cycle_hov(axs[1], data=m_late, **kwargs)\n",
    "cp2 = src.utils.make_cycle_hov(axs[2], data=2 * (m_late - m_early), **kwargs)\n",
    "\n",
    "## make it look nicer\n",
    "cb = fig.colorbar(\n",
    "    cp0,\n",
    "    ax=axs[2],\n",
    "    ticks=[-kwargs[\"amp\"], 0, kwargs[\"amp\"]],\n",
    "    label=r\"$W~m^{-2}~K^{-1}$\",\n",
    ")\n",
    "src.utils.format_hov_axs(axs)\n",
    "for ax in axs:\n",
    "    ax.axhline(7, ls=\"--\", c=\"k\", lw=1)\n",
    "\n",
    "plt.show()"
   ]
  },
  {
   "cell_type": "markdown",
   "id": "b651b3dc-19db-4d04-8337-8d22cf4e7d52",
   "metadata": {},
   "source": [
    "Spatial"
   ]
  },
  {
   "cell_type": "code",
   "execution_count": null,
   "id": "746ff205-6e68-4c0f-806b-eaf46fa82440",
   "metadata": {},
   "outputs": [],
   "source": [
    "## select month\n",
    "sel = lambda x: x.sel(month=6)\n",
    "\n",
    "## set up plot\n",
    "fig = plt.figure(figsize=(7, 3.9), layout=\"constrained\")\n",
    "format_func = lambda ax,: src.utils.plot_setup_pac(ax, max_lat=20)\n",
    "axs = src.utils.subplots_with_proj(fig, nrows=3, ncols=1, format_func=format_func)\n",
    "\n",
    "contour_kwargs = dict(amp=2, sel=sel)\n",
    "cp0 = src.utils.make_contour_plot(axs[0, 0], m_early, **contour_kwargs)\n",
    "cp1 = src.utils.make_contour_plot(axs[1, 0], m_late, **contour_kwargs)\n",
    "cp2 = src.utils.make_contour_plot(\n",
    "    axs[2, 0], (m_late - m_early), **dict(contour_kwargs, amp=1)\n",
    ")\n",
    "\n",
    "## colorbar\n",
    "lab = r\"$Pa~K^{-1}$\"\n",
    "cb0 = fig.colorbar(cp0, ax=axs[:2], ticks=[-2, 0, 2], label=lab)\n",
    "cb2 = fig.colorbar(cp2, ax=axs[-1], ticks=[-1, 0, 1], label=lab)\n",
    "\n",
    "## Niño 3 box\n",
    "box_kwargs = dict(c=\"k\", linewidth=0.9, alpha=0.5)\n",
    "for ax in axs.flatten():\n",
    "    src.utils.plot_nino34_box(ax, **box_kwargs)\n",
    "\n",
    "plt.show()"
   ]
  },
  {
   "cell_type": "markdown",
   "id": "f40dfcc1-20e0-4b67-a460-e516e06c1db2",
   "metadata": {},
   "source": [
    "Scatter"
   ]
  },
  {
   "cell_type": "code",
   "execution_count": null,
   "id": "53e81bd0-e9ee-4451-8c7d-e935fc610e3a",
   "metadata": {},
   "outputs": [],
   "source": [
    "## specify func\n",
    "grad = lambda x: src.utils.get_nino3(x) - src.utils.get_nino4(x)\n",
    "\n",
    "## kwargs for plotting\n",
    "kwargs = dict(months=6, scale=1, x_var=\"T_3\", y_var=\"sst\", fn_y=grad)\n",
    "\n",
    "## set up plot\n",
    "fig, axs = plt.subplots(1, 2, figsize=(5, 2.5), layout=\"constrained\")\n",
    "m0 = src.utils.make_scatter2(axs[0], anom_early, **kwargs)\n",
    "m1 = src.utils.make_scatter2(axs[1], anom_late, **kwargs)\n",
    "\n",
    "## label\n",
    "axs[0].set_title(f\"{m0:.1f}\" + r\" $W~m^{-2}~K^{-1}$\")\n",
    "axs[1].set_title(f\"{m1:.1f}\" + r\" $W~m^{-2}~K^{-1}$\")\n",
    "axs[1].set_yticks([])\n",
    "\n",
    "src.utils.set_lims(axs)"
   ]
  },
  {
   "cell_type": "markdown",
   "id": "9b67ce4a-337f-4d3a-a2ea-fa1a16d52d6b",
   "metadata": {},
   "source": [
    "### SST - NHF"
   ]
  },
  {
   "cell_type": "code",
   "execution_count": null,
   "id": "0005b0e9-47d1-4435-ae90-201216f1fcca",
   "metadata": {},
   "outputs": [],
   "source": [
    "## shared kwargs\n",
    "kwargs = dict(x_var=\"sst\", y_var=\"nhf\", fn_x=src.utils.get_nino34)\n",
    "\n",
    "## then, reconstruct regression coefficient\n",
    "m_early = get_slope_bymonth(anom_early, **kwargs)\n",
    "m_late = get_slope_bymonth(anom_late, **kwargs)\n",
    "alpha = xr.merge([m_early.rename(\"early\"), m_late.rename(\"late\")])"
   ]
  },
  {
   "cell_type": "code",
   "execution_count": null,
   "id": "38508efa-ac43-4df6-b2aa-a5336965b3d5",
   "metadata": {},
   "outputs": [],
   "source": [
    "## shared args\n",
    "kwargs = dict(amp=40, lat_bound=1.5)\n",
    "\n",
    "fig, axs = plt.subplots(1, 3, figsize=(6, 2.5), layout=\"constrained\")\n",
    "\n",
    "## plot data\n",
    "cp0 = src.utils.make_cycle_hov(axs[0], data=alpha[\"early\"], **kwargs)\n",
    "cp1 = src.utils.make_cycle_hov(axs[1], data=alpha[\"late\"], **kwargs)\n",
    "cp2 = src.utils.make_cycle_hov(\n",
    "    axs[2], data=2 * (alpha[\"late\"] - alpha[\"early\"]), **kwargs\n",
    ")\n",
    "\n",
    "## make it look nicer\n",
    "cb = fig.colorbar(\n",
    "    cp0,\n",
    "    ax=axs[2],\n",
    "    ticks=[-kwargs[\"amp\"], 0, kwargs[\"amp\"]],\n",
    "    label=r\"$W~m^{-2}~K^{-1}$\",\n",
    ")\n",
    "src.utils.format_hov_axs(axs)\n",
    "for ax in axs:\n",
    "    ax.axhline(7, ls=\"--\", c=\"k\", lw=1)\n",
    "\n",
    "plt.show()"
   ]
  },
  {
   "cell_type": "code",
   "execution_count": null,
   "id": "975a553a-439b-4332-b8b6-88beaa962d79",
   "metadata": {},
   "outputs": [],
   "source": [
    "## kwargs for plotting\n",
    "kwargs = dict(months=4, scale=1, x_var=\"T_34\", y_var=\"nhf\", fn_y=src.utils.get_nino34)\n",
    "\n",
    "## set up plot\n",
    "fig, axs = plt.subplots(1, 2, figsize=(5, 2.5), layout=\"constrained\")\n",
    "m0 = src.utils.make_scatter2(axs[0], anom_early, **kwargs)\n",
    "m1 = src.utils.make_scatter2(axs[1], anom_late, **kwargs)\n",
    "\n",
    "## label\n",
    "axs[0].set_title(f\"{m0:.1f}\" + r\" $W~m^{-2}~K^{-1}$\")\n",
    "axs[1].set_title(f\"{m1:.1f}\" + r\" $W~m^{-2}~K^{-1}$\")\n",
    "axs[1].set_yticks([])\n",
    "\n",
    "src.utils.set_lims(axs)"
   ]
  },
  {
   "cell_type": "markdown",
   "id": "aa85c11f-9505-4ed7-b691-6b57f81b6baa",
   "metadata": {},
   "source": [
    "### SST-$\\tau_x$"
   ]
  },
  {
   "cell_type": "code",
   "execution_count": null,
   "id": "0100ecbd-09d2-4cd2-8c45-2a0a0626cf07",
   "metadata": {},
   "outputs": [],
   "source": [
    "## shared kwargs\n",
    "kwargs = dict(x_var=\"sst\", y_var=\"taux\", fn_x=src.utils.get_nino34)\n",
    "\n",
    "## then, reconstruct regression coefficient\n",
    "m_early = get_slope_bymonth(anom_early, **kwargs)\n",
    "m_late = get_slope_bymonth(anom_late, **kwargs)\n",
    "mu_a = xr.merge([m_early.rename(\"early\"), m_late.rename(\"late\")])"
   ]
  },
  {
   "cell_type": "code",
   "execution_count": null,
   "id": "91b4a51c-75db-43e1-b6b4-f116aace19cf",
   "metadata": {},
   "outputs": [],
   "source": [
    "## shared args\n",
    "kwargs = dict(amp=0.02, lat_bound=1.5)\n",
    "\n",
    "fig, axs = plt.subplots(1, 3, figsize=(6, 2.5), layout=\"constrained\")\n",
    "\n",
    "## plot data\n",
    "cp0 = src.utils.make_cycle_hov(axs[0], data=mu_a[\"early\"], **kwargs)\n",
    "cp1 = src.utils.make_cycle_hov(axs[1], data=mu_a[\"late\"], **kwargs)\n",
    "cp2 = src.utils.make_cycle_hov(\n",
    "    axs[2], data=2 * (mu_a[\"late\"] - mu_a[\"early\"]), **kwargs\n",
    ")\n",
    "\n",
    "## make it look nicer\n",
    "cb = fig.colorbar(\n",
    "    cp0,\n",
    "    ax=axs[2],\n",
    "    ticks=[-kwargs[\"amp\"], 0, kwargs[\"amp\"]],\n",
    "    label=r\"$K~\\left(\\text{month}\\right)^{-1}$\",\n",
    ")\n",
    "src.utils.format_hov_axs(axs)\n",
    "for ax in axs:\n",
    "    for t in [5, 7]:\n",
    "        ax.axhline(t, ls=\"--\", c=\"k\", lw=1)\n",
    "\n",
    "plt.show()"
   ]
  },
  {
   "cell_type": "markdown",
   "id": "bda41a22-9518-41d7-b306-b954129cc288",
   "metadata": {},
   "source": [
    "##### Spatial plot"
   ]
  },
  {
   "cell_type": "code",
   "execution_count": null,
   "id": "005d634e-6be9-4d44-bd8b-93ad49236ed7",
   "metadata": {},
   "outputs": [],
   "source": [
    "## select month\n",
    "sel = lambda x: x.sel(month=6)\n",
    "\n",
    "## set up plot\n",
    "fig = plt.figure(figsize=(7, 3.9), layout=\"constrained\")\n",
    "format_func = lambda ax,: src.utils.plot_setup_pac(ax, max_lat=20)\n",
    "axs = src.utils.subplots_with_proj(fig, nrows=3, ncols=1, format_func=format_func)\n",
    "\n",
    "contour_kwargs = dict(amp=3e-2, sel=sel)\n",
    "cp0 = src.utils.make_contour_plot(axs[0, 0], mu_a[\"early\"], **contour_kwargs)\n",
    "cp1 = src.utils.make_contour_plot(axs[1, 0], mu_a[\"late\"], **contour_kwargs)\n",
    "cp2 = src.utils.make_contour_plot(\n",
    "    axs[2, 0], (mu_a[\"late\"] - mu_a[\"early\"]), **dict(contour_kwargs, amp=1.5e-2)\n",
    ")\n",
    "\n",
    "## colorbar\n",
    "lab = r\"$Pa~K^{-1}$\"\n",
    "cb0 = fig.colorbar(cp0, ax=axs[:2], ticks=[-3e-2, 0, 3e-2], label=lab)\n",
    "cb2 = fig.colorbar(cp2, ax=axs[-1], ticks=[-1.5e-2, 0, 1.5e-2], label=lab)\n",
    "\n",
    "## Niño 3 box\n",
    "box_kwargs = dict(c=\"k\", linewidth=0.9, alpha=0.5)\n",
    "src.utils.plot_nino4_box(axs[0, 0], **box_kwargs)\n",
    "for ax in axs[1:].flatten():\n",
    "    src.utils.plot_nino34_box(ax, **box_kwargs)\n",
    "\n",
    "plt.show()"
   ]
  },
  {
   "cell_type": "code",
   "execution_count": null,
   "id": "e5ab5769-9c9c-4aeb-a3d4-73bc0cd8f350",
   "metadata": {},
   "outputs": [],
   "source": [
    "sel = lambda x: x.sel(month=6, latitude=slice(-5, 5)).mean(\"latitude\")\n",
    "\n",
    "fig, ax = plt.subplots(figsize=(3, 2.5))\n",
    "ax.plot(mu_a.longitude, sel(mu_a[\"late\"] - mu_a[\"early\"]))\n",
    "ax.axhline(0, ls=\"--\", c=\"k\", lw=0.8)\n",
    "ax.set_xlim([140, 280])\n",
    "plt.show()"
   ]
  },
  {
   "cell_type": "code",
   "execution_count": null,
   "id": "d95fa8cc-0eef-4620-abc8-0e8a97313545",
   "metadata": {},
   "outputs": [],
   "source": [
    "## kwargs for plotting\n",
    "kwargs = dict(months=6, scale=1e3, x_var=\"T_34\", y_var=\"taux\")\n",
    "\n",
    "## set up plot\n",
    "fig, axs = plt.subplots(1, 2, figsize=(5, 2.5), layout=\"constrained\")\n",
    "m0 = src.utils.make_scatter2(axs[0], anom_early, fn_y=src.utils.get_nino4, **kwargs)\n",
    "m1 = src.utils.make_scatter2(axs[1], anom_late, fn_y=src.utils.get_nino34, **kwargs)\n",
    "\n",
    "## label\n",
    "axs[0].set_title(f\"{m0:.1f}\" + r\" $mPa~K^{-1}$\")\n",
    "axs[1].set_title(f\"{m1:.1f}\" + r\" $mPa~K^{-1}$\")\n",
    "axs[1].set_yticks([])\n",
    "\n",
    "src.utils.set_lims(axs)"
   ]
  },
  {
   "cell_type": "markdown",
   "id": "643664e8-7352-4cbe-94d7-d0b76ea6f402",
   "metadata": {},
   "source": [
    "### $\\tau_x$ - $Z_{20}$"
   ]
  },
  {
   "cell_type": "code",
   "execution_count": null,
   "id": "655c0302-0f0e-42b3-80f0-b7518b763dca",
   "metadata": {},
   "outputs": [],
   "source": [
    "## shared kwargs\n",
    "kwargs = dict(x_var=\"taux\", y_var=\"z20\")\n",
    "\n",
    "## then, reconstruct regression coefficient\n",
    "m_early = get_slope_bymonth(anom_early, fn_x=src.utils.get_nino4, **kwargs)\n",
    "m_late = get_slope_bymonth(anom_late, fn_x=src.utils.get_nino34, **kwargs)\n",
    "beta_h_int = xr.merge([m_early.rename(\"early\"), m_late.rename(\"late\")])\n",
    "beta_h_grad = beta_h_int.differentiate(\"longitude\")"
   ]
  },
  {
   "cell_type": "markdown",
   "id": "2242c71f-61b2-42b4-82d1-a5f9780e4311",
   "metadata": {},
   "source": [
    "##### Hovmoller"
   ]
  },
  {
   "cell_type": "markdown",
   "id": "214380d4-5884-4efe-b85a-4784833082ec",
   "metadata": {},
   "source": [
    "Note: could plot $\\frac{dh}{dx}$ here...lines up better with shift in wind pattern..."
   ]
  },
  {
   "cell_type": "code",
   "execution_count": null,
   "id": "a9867dd2-49b9-42bc-9603-218e8eb94caf",
   "metadata": {},
   "outputs": [],
   "source": [
    "## shared args\n",
    "kwargs = dict(amp=2e3, lat_bound=1.5)\n",
    "\n",
    "fig, axs = plt.subplots(1, 3, figsize=(6, 2.5), layout=\"constrained\")\n",
    "\n",
    "## plot data\n",
    "cp0 = src.utils.make_cycle_hov(axs[0], data=beta_h_int[\"early\"], **kwargs)\n",
    "cp1 = src.utils.make_cycle_hov(axs[1], data=beta_h_int[\"late\"], **kwargs)\n",
    "cp2 = src.utils.make_cycle_hov(\n",
    "    axs[2], data=2 * (beta_h_int[\"late\"] - beta_h_int[\"early\"]), **kwargs\n",
    ")\n",
    "\n",
    "axs[2].contour(\n",
    "    mu_a.longitude,\n",
    "    mu_a.month,\n",
    "    (mu_a[\"late\"] - mu_a[\"early\"]).sel(latitude=slice(-5, 5)).mean(\"latitude\"),\n",
    "    colors=\"k\",\n",
    "    linewidths=1,\n",
    ")\n",
    "\n",
    "## make it look nicer\n",
    "cb = fig.colorbar(\n",
    "    cp0,\n",
    "    ax=axs[2],\n",
    "    ticks=[-kwargs[\"amp\"], 0, kwargs[\"amp\"]],\n",
    "    label=r\"$cm~\\left(\\text{Pa}\\right)^{-1}$\",\n",
    ")\n",
    "src.utils.format_hov_axs(axs)\n",
    "for ax in axs:\n",
    "    for t in [5, 7]:\n",
    "        ax.axhline(t, ls=\"--\", c=\"k\", lw=1)\n",
    "\n",
    "plt.show()"
   ]
  },
  {
   "cell_type": "markdown",
   "id": "6cc9301c-6191-41f0-9e3c-9aff2e296b93",
   "metadata": {},
   "source": [
    "Scatter"
   ]
  },
  {
   "cell_type": "code",
   "execution_count": null,
   "id": "37d2ef72-161b-443c-8cb1-ac31f9b035fe",
   "metadata": {},
   "outputs": [],
   "source": [
    "## select regions for beta h\n",
    "sel_eq = lambda x: x.sel(latitude=slice(-2, 2)).mean(\"latitude\")\n",
    "# sel_e_beta_h = lambda x: sel_eq(x).sel(longitude=slice(210, 270)).mean(\"longitude\")\n",
    "# sel_w_beta_h = lambda x: sel_eq(x).sel(longitude=slice(140, 210)).mean(\"longitude\")\n",
    "sel_w_beta_h = lambda x: sel_eq(x).sel(longitude=slice(120, 210)).mean(\"longitude\")\n",
    "sel_e_beta_h = lambda x: sel_eq(x).sel(longitude=slice(210, 270)).mean(\"longitude\")\n",
    "get_beta_h_grad = lambda x: sel_e_beta_h(x) - sel_w_beta_h(x)\n",
    "\n",
    "## kwargs for plotting\n",
    "kwargs = dict(months=6, scale=1e-3, x_var=\"taux\", y_var=\"z20\", fn_y=get_beta_h_grad)\n",
    "\n",
    "## set up plot\n",
    "fig, axs = plt.subplots(1, 2, figsize=(5, 2.5), layout=\"constrained\")\n",
    "m0 = src.utils.make_scatter2(axs[0], anom_early, fn_x=src.utils.get_nino4, **kwargs)\n",
    "m1 = src.utils.make_scatter2(axs[1], anom_late, fn_x=src.utils.get_nino34, **kwargs)\n",
    "\n",
    "## label\n",
    "axs[0].set_title(f\"{m0:.2f}\" + r\" $cm~mPa^{-1}$\")\n",
    "axs[1].set_title(f\"{m1:.2f}\" + r\" $cm~mPa^{-1}$\")\n",
    "axs[1].set_yticks([])\n",
    "\n",
    "src.utils.set_lims(axs)"
   ]
  },
  {
   "cell_type": "markdown",
   "id": "b199fa58-6d9d-4299-980f-51060c477062",
   "metadata": {},
   "source": [
    "Spatial plot"
   ]
  },
  {
   "cell_type": "code",
   "execution_count": null,
   "id": "c5da7d91-9456-487a-b06b-75416dde3711",
   "metadata": {},
   "outputs": [],
   "source": [
    "import cartopy.crs as ccrs\n",
    "\n",
    "## specify plot var and amplitude\n",
    "# PLOT_VAR = beta_h_grad\n",
    "# AMP = 5e1\n",
    "PLOT_VAR = beta_h_int\n",
    "AMP = 1e3\n",
    "\n",
    "## select month\n",
    "sel = lambda x: x.sel(month=6)\n",
    "\n",
    "## set up plot\n",
    "fig = plt.figure(figsize=(7, 3.9), layout=\"constrained\")\n",
    "format_func = lambda ax,: src.utils.plot_setup_pac(ax, max_lat=20)\n",
    "axs = src.utils.subplots_with_proj(fig, nrows=3, ncols=1, format_func=format_func)\n",
    "\n",
    "contour_kwargs = dict(amp=AMP, sel=sel)\n",
    "cp0 = src.utils.make_contour_plot(axs[0, 0], PLOT_VAR[\"early\"], **contour_kwargs)\n",
    "cp1 = src.utils.make_contour_plot(axs[1, 0], PLOT_VAR[\"late\"], **contour_kwargs)\n",
    "cp2 = src.utils.make_contour_plot(\n",
    "    axs[2, 0],\n",
    "    (PLOT_VAR[\"late\"] - PLOT_VAR[\"early\"]),\n",
    "    **dict(contour_kwargs, amp=AMP / 2)\n",
    ")\n",
    "\n",
    "## colorbar\n",
    "lab = r\"$cm~Pa^{-1}$\"\n",
    "cb0 = fig.colorbar(cp0, ax=axs[:2], ticks=[-AMP, 0, AMP], label=lab)\n",
    "cb2 = fig.colorbar(cp2, ax=axs[-1], ticks=[-AMP / 2, 0, AMP / 2], label=lab)\n",
    "\n",
    "## Niño 3 box\n",
    "box_kwargs = dict(c=\"k\", linewidth=0.9, alpha=0.5)\n",
    "src.utils.plot_nino4_box(axs[0, 0], **box_kwargs)\n",
    "for ax in axs[1:].flatten():\n",
    "    src.utils.plot_nino34_box(ax, **box_kwargs)\n",
    "    src.utils.plot_hw_box(ax, **box_kwargs)\n",
    "    # src.utils.plot_nino3_box(ax, **box_kwargs)\n",
    "\n",
    "plt.show()"
   ]
  },
  {
   "cell_type": "code",
   "execution_count": null,
   "id": "47a6136d-b5ca-4dc5-822f-6c0df8f62a6c",
   "metadata": {},
   "outputs": [],
   "source": [
    "sel = lambda x: x.sel(month=6, latitude=slice(-5, 5)).mean(\"latitude\")\n",
    "\n",
    "fig, axs = plt.subplots(1, 2, figsize=(5.5, 2.5))\n",
    "\n",
    "## plot wind\n",
    "axs[0].plot(mu_a.longitude, sel(mu_a[\"early\"]))\n",
    "axs[0].plot(mu_a.longitude, sel(mu_a[\"late\"]))\n",
    "\n",
    "## plot thermocline\n",
    "axs[1].plot(mu_a.longitude, sel(beta_h_grad[\"early\"]))\n",
    "axs[1].plot(mu_a.longitude, sel(beta_h_grad[\"late\"]))\n",
    "axs[1].set_ylim([-40, 40])\n",
    "\n",
    "## plot thermocline\n",
    "# ax2 = ax.twinx()\n",
    "# ax2.plot(mu_a.longitude, sel(beta_h_int[\"late\"]))\n",
    "\n",
    "\n",
    "## format\n",
    "for ax in axs:\n",
    "    ax.axhline(0, ls=\"--\", c=\"k\", lw=0.8)\n",
    "    ax.set_xlim([120, 280])\n",
    "plt.show()"
   ]
  },
  {
   "cell_type": "markdown",
   "id": "32794d70-56d1-47e9-91eb-8cc298dc8129",
   "metadata": {},
   "source": [
    "Subsurface plot"
   ]
  },
  {
   "cell_type": "code",
   "execution_count": null,
   "id": "4520d566-39df-42a7-8775-2462642514c3",
   "metadata": {},
   "outputs": [],
   "source": [
    "## shared kwargs\n",
    "kwargs = dict(x_var=\"taux\", y_var=\"T\")\n",
    "\n",
    "## then, reconstruct regression coefficient\n",
    "m_early = get_slope_bymonth(anom_early, fn_x=src.utils.get_nino4, **kwargs)\n",
    "m_late = get_slope_bymonth(anom_late, fn_x=src.utils.get_nino34, **kwargs)"
   ]
  },
  {
   "cell_type": "code",
   "execution_count": null,
   "id": "4f3de7a3-38ba-425d-86f6-e3c483d7ecc7",
   "metadata": {},
   "outputs": [],
   "source": [
    "## get climatologies\n",
    "T_forced = forced[[\"T\", \"T_comp\", \"z20\", \"z20_comp\"]]\n",
    "T_forced = src.utils.sel_month(T_forced, 6).sel(latitude=slice(-2, 2)).mean(\"latitude\")\n",
    "T_clim_early = src.utils.reconstruct_wrapper(T_forced.sel(t_early).mean(\"time\"))\n",
    "T_clim_late = src.utils.reconstruct_wrapper(T_forced.sel(t_late).mean(\"time\"))\n",
    "\n",
    "## get scale for taux\n",
    "sigma_taux = src.utils.reconstruct_std(\n",
    "    scores=anom_early[\"taux\"],\n",
    "    components=anom_early[\"taux_comp\"],\n",
    "    fn=src.utils.get_nino4,\n",
    ")\n",
    "\n",
    "# ## Get typical thermocline deviation\n",
    "SCALE = sigma_taux * 3\n",
    "sel_ = lambda x: x.sel(latitude=slice(-2, 2), month=6).mean(\"latitude\")\n",
    "z20_early = T_clim_early[\"z20\"] + sel_(beta_h_int[\"early\"]) * SCALE\n",
    "z20_late = T_clim_late[\"z20\"] + sel_(beta_h_int[\"late\"]) * SCALE\n",
    "\n",
    "## scale T anomalies by same amount\n",
    "m_early_ = m_early.sel(month=6) * SCALE\n",
    "m_late_ = m_late.sel(month=6) * SCALE\n",
    "\n",
    "## put everything in xr.datasets\n",
    "T_early = xr.merge([T_clim_early[\"T\"].rename(\"clim\"), m_early_.rename(\"anom\")])\n",
    "T_late = xr.merge([T_clim_late[\"T\"].rename(\"clim\"), m_late_.rename(\"anom\")])"
   ]
  },
  {
   "cell_type": "code",
   "execution_count": null,
   "id": "69ab047d-f44c-4099-a40a-ac1f35d73d32",
   "metadata": {},
   "outputs": [],
   "source": [
    "## specify amplitude\n",
    "amp = 4\n",
    "\n",
    "fig, axs = plt.subplots(1, 3, figsize=(8, 2.5), layout=\"constrained\")\n",
    "\n",
    "for ax, T_, lev in zip(axs[:2], [T_early, T_late], [20, 20]):\n",
    "\n",
    "    ## temperature\n",
    "    cp = ax.contourf(\n",
    "        T_.longitude,\n",
    "        T_.z_t,\n",
    "        T_[\"clim\"],\n",
    "        cmap=\"cmo.thermal\",\n",
    "        levels=np.arange(10, 34, 2),\n",
    "        extend=\"both\",\n",
    "    )\n",
    "\n",
    "    ## warming pattern\n",
    "    ax.contour(\n",
    "        T_.longitude,\n",
    "        T_.z_t,\n",
    "        T_[\"anom\"],\n",
    "        colors=\"k\",\n",
    "        levels=src.utils.make_cb_range(amp, amp / 5),\n",
    "        extend=\"both\",\n",
    "        linewidths=1,\n",
    "    )\n",
    "\n",
    "    ## highlight z20\n",
    "    plot_level(ax, T_[\"clim\"], level=lev)\n",
    "    plot_level(ax, T_[\"clim\"] + T_[\"anom\"], level=lev, ls=\"--\")\n",
    "\n",
    "## difference\n",
    "axs[2].contourf(\n",
    "    m_early.longitude,\n",
    "    m_early.z_t,\n",
    "    (T_late - T_early)[\"anom\"],\n",
    "    cmap=\"cmo.balance\",\n",
    "    levels=src.utils.make_cb_range(amp, amp / 10),\n",
    "    extend=\"both\",\n",
    ")\n",
    "\n",
    "## set ax limit and plot Niño 3.4 bounds\n",
    "cb = fig.colorbar(\n",
    "    cp, ax=axs[2], ticks=[-amp, 0, amp], label=r\"$K~\\left(\\text{Niño 3}\\right)^{-1}$\"\n",
    ")\n",
    "src.utils.format_subsurf_axs(axs)\n",
    "for ax in axs:\n",
    "    ax.set_xlim([125, 280])\n",
    "    ax.set_ylim([200, 5])\n",
    "\n",
    "plt.show()"
   ]
  },
  {
   "cell_type": "markdown",
   "id": "e572bcda-cf79-44a5-84da-8b412b5865b5",
   "metadata": {},
   "source": [
    "### $Z_{20} - T_{sub}$"
   ]
  },
  {
   "cell_type": "code",
   "execution_count": null,
   "id": "5c708a62-96e7-4343-93f8-92ef4ea6250b",
   "metadata": {},
   "outputs": [],
   "source": [
    "## shared kwargs\n",
    "kwargs = dict(x_var=\"z20\", y_var=\"T\")\n",
    "\n",
    "## then, reconstruct regression coefficient\n",
    "m_early = get_slope_bymonth(anom_early, fn_x=src.utils.get_nino34, **kwargs)\n",
    "m_late = get_slope_bymonth(anom_late, fn_x=src.utils.get_nino34, **kwargs)\n",
    "a_h = xr.merge([m_early.rename(\"early\"), m_late.rename(\"late\")])"
   ]
  },
  {
   "cell_type": "code",
   "execution_count": null,
   "id": "1e327911-9025-4552-bc42-fc5c6fc852b9",
   "metadata": {},
   "outputs": [],
   "source": [
    "## specify Hm\n",
    "Hm = 70\n",
    "sel = lambda x: x.sel(z_t=Hm, method=\"nearest\")\n",
    "\n",
    "## shared args\n",
    "kwargs = dict(amp=0.3, lat_bound=1.5)\n",
    "\n",
    "fig, axs = plt.subplots(1, 3, figsize=(6, 2.5), layout=\"constrained\")\n",
    "\n",
    "## plot data\n",
    "cp0 = src.utils.make_cycle_hov(axs[0], data=sel(a_h[\"early\"]), **kwargs)\n",
    "cp1 = src.utils.make_cycle_hov(axs[1], data=sel(a_h[\"late\"]), **kwargs)\n",
    "cp2 = src.utils.make_cycle_hov(\n",
    "    axs[2], data=2 * sel(a_h[\"late\"] - a_h[\"early\"]), **kwargs\n",
    ")\n",
    "\n",
    "## make it look nicer\n",
    "cb = fig.colorbar(\n",
    "    cp0,\n",
    "    ax=axs[2],\n",
    "    ticks=[-kwargs[\"amp\"], 0, kwargs[\"amp\"]],\n",
    "    label=r\"$K~\\left(\\text{month}\\right)^{-1}$\",\n",
    ")\n",
    "src.utils.format_hov_axs(axs)\n",
    "for ax in axs:\n",
    "    for t in [5, 7]:\n",
    "        ax.axhline(t, ls=\"--\", c=\"k\", lw=1)\n",
    "\n",
    "plt.show()"
   ]
  },
  {
   "cell_type": "code",
   "execution_count": null,
   "id": "c756019e-dead-478f-8894-b138a72a7856",
   "metadata": {},
   "outputs": [],
   "source": [
    "sel_lon = lambda x: x.sel(longitude=slice(210, 280)).mean(\"longitude\")\n",
    "sel_z20 = lambda x: sel_lon(x).sel(latitude=slice(-2, 2)).mean(\"latitude\")\n",
    "sel_T = lambda x: sel_lon(x).sel(z_t=Hm, method=\"nearest\")\n",
    "\n",
    "## kwargs for plotting\n",
    "kwargs = dict(months=6, scale=1e1, x_var=\"z20\", y_var=\"T\", fn_x=sel_z20, fn_y=sel_T)\n",
    "\n",
    "## set up plot\n",
    "fig, axs = plt.subplots(1, 2, figsize=(5, 2.5), layout=\"constrained\")\n",
    "m0 = src.utils.make_scatter2(axs[0], anom_early, **kwargs)\n",
    "m1 = src.utils.make_scatter2(axs[1], anom_late, **kwargs)\n",
    "\n",
    "## label\n",
    "axs[0].set_title(f\"{m0:.1f}\" + r\" $K~cm^{-1}$\")\n",
    "axs[1].set_title(f\"{m1:.1f}\" + r\" $K~cm^{-1}$\")\n",
    "axs[1].set_yticks([])\n",
    "\n",
    "src.utils.set_lims(axs)"
   ]
  },
  {
   "cell_type": "markdown",
   "id": "bf399378-966e-4bfe-a43b-0eb7381bb9e2",
   "metadata": {},
   "source": [
    "#### $T_{sub}$ vs $T_e$ and $h_w$"
   ]
  },
  {
   "cell_type": "code",
   "execution_count": null,
   "id": "08d9975d-7591-44d0-bed6-92c5ffa6969c",
   "metadata": {},
   "outputs": [],
   "source": [
    "# get_beta_h_grad = lambda x: sel_e_beta_h(x) - sel_w_beta_h(x)\n",
    "## specify early/late funcs\n",
    "tau_fn_early = src.utils.get_nino4\n",
    "tau_fn_late = src.utils.get_nino34\n",
    "\n",
    "## get area-averaged coefficients\n",
    "MONTH = 6\n",
    "mu_a_ = xr.merge([tau_fn_early(mu_a[\"early\"]), tau_fn_late(mu_a[\"late\"])]).sel(\n",
    "    month=MONTH\n",
    ")\n",
    "beta_h_ = get_beta_h_grad(beta_h_int).sel(month=MONTH)\n",
    "a_h_ = sel_T(a_h).sel(month=MONTH)\n",
    "\n",
    "## compute variables\n",
    "recon = lambda x: src.utils.reconstruct_wrapper(x[[\"T\", \"T_comp\"]], fn=sel_T)[\"T\"]\n",
    "T_sub_early = src.utils.sel_month(recon(anom_early), MONTH)\n",
    "T_sub_late = src.utils.sel_month(recon(anom_late), MONTH)\n",
    "\n",
    "## thermocline slope\n",
    "get_dh = lambda x: src.utils.reconstruct_wrapper(\n",
    "    x[[\"z20\", \"z20_comp\"]], fn=get_beta_h_grad\n",
    ")[\"z20\"]\n",
    "dh_early = src.utils.sel_month(get_dh(anom_early), MONTH)\n",
    "dh_late = src.utils.sel_month(get_dh(anom_late), MONTH)\n",
    "\n",
    "## thermocline in east\n",
    "get_he = lambda x: src.utils.reconstruct_wrapper(\n",
    "    x[[\"z20\", \"z20_comp\"]], fn=sel_e_beta_h\n",
    ")[\"z20\"]\n",
    "get_hw = lambda x: src.utils.reconstruct_wrapper(\n",
    "    x[[\"z20\", \"z20_comp\"]], fn=sel_w_beta_h\n",
    ")[\"z20\"]\n",
    "he_early = src.utils.sel_month(get_he(anom_early), MONTH)\n",
    "he_late = src.utils.sel_month(get_he(anom_late), MONTH)\n",
    "hw_early = src.utils.sel_month(get_hw(anom_early), MONTH)\n",
    "hw_late = src.utils.sel_month(get_hw(anom_late), MONTH)\n",
    "\n",
    "## Niño 3.4\n",
    "T_early = src.utils.sel_month(anom_early[\"T_34\"], MONTH)\n",
    "T_late = src.utils.sel_month(anom_late[\"T_34\"], MONTH)\n",
    "\n",
    "## get predicted thermocline slope\n",
    "dh_early_hat = (beta_h_ * mu_a_)[\"early\"] * T_early\n",
    "dh_early_hat_est = 1.6 * dh_early_hat  ## this gives better estimate\n",
    "dh_late_hat = (beta_h_ * mu_a_)[\"late\"] * T_late\n",
    "\n",
    "## get predicted subsurface temperature\n",
    "he_hat_early = hw_early + dh_early_hat\n",
    "he_hat_late = hw_late + dh_late_hat\n",
    "T_sub_early_hat = he_hat_early * a_h_[\"early\"]\n",
    "T_sub_late_hat = he_hat_late * a_h_[\"late\"]\n",
    "\n",
    "# ## merge for easier plotting\n",
    "# dh_early = xr.merge([dh_early.rename(\"actual\"), dh_early_hat.rename(\"hat\")])\n",
    "# he_early = xr.merge([he_early.rename(\"actual\"), he_early_hat.rename(\"hat\")])\n",
    "# hw_early = xr.merge([hw_early.rename(\"actual\"), hw_early_hat.rename(\"hat\")])\n",
    "# T_sub_early = xr.merge([T_sub_early.rename(\"actual\"), T_sub_early_hat.rename(\"hat\")])"
   ]
  },
  {
   "cell_type": "markdown",
   "id": "aedfecb9-b343-43ee-becc-112a8a749bb2",
   "metadata": {},
   "source": [
    "Plot slope prediction"
   ]
  },
  {
   "cell_type": "code",
   "execution_count": null,
   "id": "7956fcfe-6632-40f6-b866-200fbf1e174d",
   "metadata": {},
   "outputs": [],
   "source": [
    "fig, axs = plt.subplots(1, 2, figsize=(5.5, 2.5))\n",
    "# for dh, dh_hat in zip([[dh_early, dh_late], [\n",
    "axs[0].scatter(\n",
    "    dh_early,\n",
    "    dh_early_hat,\n",
    "    s=3,\n",
    "    alpha=0.5,\n",
    ")\n",
    "zz = np.linspace(-20, 20)\n",
    "axs[0].plot(zz, zz, c=\"k\")\n",
    "plt.show()"
   ]
  },
  {
   "cell_type": "markdown",
   "id": "04ab93d7-cfbc-4612-b5c0-b3a2d807acf3",
   "metadata": {},
   "source": [
    "Plot $h_e$ prediction"
   ]
  },
  {
   "cell_type": "code",
   "execution_count": null,
   "id": "cc80554d-6ac2-43f4-bd9a-f2e3705490f2",
   "metadata": {},
   "outputs": [],
   "source": [
    "fig, ax = plt.subplots(figsize=(2.5, 2.5))\n",
    "ax.scatter(\n",
    "    he_early,\n",
    "    he_hat_early,\n",
    "    s=3,\n",
    "    alpha=0.5,\n",
    ")\n",
    "zz = np.linspace(-20, 20)\n",
    "ax.plot(zz, zz, c=\"k\")\n",
    "plt.show()"
   ]
  },
  {
   "cell_type": "code",
   "execution_count": null,
   "id": "e34c8380-8b30-4706-b138-8610b1a0e283",
   "metadata": {},
   "outputs": [],
   "source": [
    "h_e_est = dh_early_hat_est + anom_early[\"h_w_z20\"]\n",
    "fig, ax = plt.subplots(figsize=(4, 4))\n",
    "ax.scatter(\n",
    "    src.utils.sel_month(T_sub_early, 6),\n",
    "    T_sub_early_hat,\n",
    "    s=3,\n",
    "    alpha=0.5,\n",
    ")\n",
    "zz = np.linspace(-4, 4)\n",
    "ax.plot(zz, zz, c=\"k\")"
   ]
  },
  {
   "cell_type": "markdown",
   "id": "c54e987a-9777-41c2-9bf0-17731f10a0c9",
   "metadata": {},
   "source": [
    "Compute differently"
   ]
  },
  {
   "cell_type": "code",
   "execution_count": null,
   "id": "f0b8ea1a-4757-4c06-b019-002a04725cb5",
   "metadata": {},
   "outputs": [],
   "source": [
    "# for x in [anom_early, anom_late]:\n",
    "#     x[\"T_e\"] ="
   ]
  },
  {
   "cell_type": "code",
   "execution_count": null,
   "id": "c6bd35df-6f75-4604-86be-c7efaca5882b",
   "metadata": {},
   "outputs": [],
   "source": [
    "kwargs = dict(y_vars=[\"T\"], x_vars=[\"T_34\"])\n",
    "coefs = src.utils.regress_xr_bymonth(data, **kwargs)"
   ]
  },
  {
   "cell_type": "markdown",
   "id": "9958299a-12a0-47e4-bf81-b5ae4fdea479",
   "metadata": {},
   "source": [
    "## Scratch"
   ]
  },
  {
   "cell_type": "markdown",
   "id": "5cd7fb59-aab7-4c98-947c-5c2920ce9a68",
   "metadata": {},
   "source": [
    "### $\\tau_x-T_{sub}$\n",
    "Note: there's no quasi-balance condition for this; $\\tau_x$ tells us tilt of the thermocline, not depth"
   ]
  },
  {
   "cell_type": "code",
   "execution_count": null,
   "id": "956b150a-2804-4188-bb39-64c7ef35de3e",
   "metadata": {},
   "outputs": [],
   "source": [
    "## shared kwargs\n",
    "kwargs = dict(x_var=\"taux\", y_var=\"T\")\n",
    "\n",
    "## then, reconstruct regression coefficient\n",
    "m_early = get_slope_bymonth(anom_early, fn_x=src.utils.get_nino4, **kwargs)\n",
    "m_late = get_slope_bymonth(anom_late, fn_x=src.utils.get_nino34, **kwargs)"
   ]
  },
  {
   "cell_type": "code",
   "execution_count": null,
   "id": "fbee1ff5-ff16-4bf3-af22-e963f7a3ae33",
   "metadata": {},
   "outputs": [],
   "source": [
    "## specify Hm\n",
    "Hm = 70\n",
    "sel = lambda x: x.sel(z_t=Hm, method=\"nearest\")\n",
    "\n",
    "## shared args\n",
    "kwargs = dict(amp=3e2, lat_bound=1.5)\n",
    "\n",
    "fig, axs = plt.subplots(1, 3, figsize=(6, 2.5), layout=\"constrained\")\n",
    "\n",
    "## plot data\n",
    "cp0 = src.utils.make_cycle_hov(axs[0], data=sel(m_early), **kwargs)\n",
    "cp1 = src.utils.make_cycle_hov(axs[1], data=sel(m_late), **kwargs)\n",
    "cp2 = src.utils.make_cycle_hov(axs[2], data=2 * sel(m_late - m_early), **kwargs)\n",
    "\n",
    "## make it look nicer\n",
    "cb = fig.colorbar(\n",
    "    cp0,\n",
    "    ax=axs[2],\n",
    "    ticks=[-kwargs[\"amp\"], 0, kwargs[\"amp\"]],\n",
    "    label=r\"$K~\\left(\\text{month}\\right)^{-1}$\",\n",
    ")\n",
    "src.utils.format_hov_axs(axs)\n",
    "for ax in axs:\n",
    "    for t in [5, 7]:\n",
    "        ax.axhline(t, ls=\"--\", c=\"k\", lw=1)\n",
    "\n",
    "plt.show()"
   ]
  },
  {
   "cell_type": "code",
   "execution_count": null,
   "id": "1e6a8ab6-f337-4567-833d-8341e2c64e16",
   "metadata": {},
   "outputs": [],
   "source": [
    "sel_T = (\n",
    "    lambda x: x.sel(longitude=slice(210, 280))\n",
    "    .mean(\"longitude\")\n",
    "    .sel(z_t=Hm, method=\"nearest\")\n",
    ")\n",
    "\n",
    "## kwargs for plotting\n",
    "kwargs = dict(months=6, scale=1e-2, x_var=\"taux\", y_var=\"T\", fn_y=sel_T)\n",
    "\n",
    "## set up plot\n",
    "fig, axs = plt.subplots(1, 2, figsize=(5, 2.5), layout=\"constrained\")\n",
    "m0 = src.utils.make_scatter2(axs[0], anom_early, fn_x=src.utils.get_nino4, **kwargs)\n",
    "m1 = src.utils.make_scatter2(axs[1], anom_late, fn_x=src.utils.get_nino34, **kwargs)\n",
    "\n",
    "## label\n",
    "axs[0].set_title(f\"{m0:.1f}\" + r\" $K~hPa^{-1}$\")\n",
    "axs[1].set_title(f\"{m1:.1f}\" + r\" $K~hPa^{-1}$\")\n",
    "axs[1].set_yticks([])\n",
    "\n",
    "src.utils.set_lims(axs)"
   ]
  }
 ],
 "metadata": {
  "kernelspec": {
   "display_name": "Python [conda env:envs]",
   "language": "python",
   "name": "conda-env-envs-py"
  },
  "language_info": {
   "codemirror_mode": {
    "name": "ipython",
    "version": 3
   },
   "file_extension": ".py",
   "mimetype": "text/x-python",
   "name": "python",
   "nbconvert_exporter": "python",
   "pygments_lexer": "ipython3",
   "version": "3.13.5"
  }
 },
 "nbformat": 4,
 "nbformat_minor": 5
}
