{
 "cells": [
  {
   "cell_type": "markdown",
   "id": "22516693-2eb8-45f7-b9d4-4511a195a408",
   "metadata": {},
   "source": [
    "# Bjerknes feedback changes over time"
   ]
  },
  {
   "cell_type": "markdown",
   "id": "0e795c63-4ea6-4623-b0a2-e33656d4c420",
   "metadata": {},
   "source": [
    "## imports"
   ]
  },
  {
   "cell_type": "code",
   "execution_count": null,
   "id": "42d155a1-2906-4d88-9022-b7996ecf7560",
   "metadata": {},
   "outputs": [],
   "source": [
    "import matplotlib.pyplot as plt\n",
    "import matplotlib as mpl\n",
    "import numpy as np\n",
    "import seaborn as sns\n",
    "import xarray as xr\n",
    "import tqdm\n",
    "import pathlib\n",
    "import cmocean\n",
    "import os\n",
    "import copy\n",
    "import time\n",
    "\n",
    "# Import custom modules\n",
    "import src.utils\n",
    "\n",
    "## set plotting specs\n",
    "sns.set(rc={\"axes.facecolor\": \"white\", \"axes.grid\": False})\n",
    "\n",
    "## bump up DPI\n",
    "mpl.rcParams[\"figure.dpi\"] = 100\n",
    "\n",
    "## get filepaths\n",
    "DATA_FP = pathlib.Path(os.environ[\"DATA_FP\"])\n",
    "SAVE_FP = pathlib.Path(os.environ[\"SAVE_FP\"])"
   ]
  },
  {
   "cell_type": "markdown",
   "id": "8382b7b8-eac8-4cf0-8ad1-4632a36727b9",
   "metadata": {},
   "source": [
    "## Funcs"
   ]
  },
  {
   "cell_type": "code",
   "execution_count": null,
   "id": "9874f9c6-8fd1-4c20-abb1-98e3e4962768",
   "metadata": {},
   "outputs": [],
   "source": [
    "def get_dT_sub(Tsub, Hm, delta=25):\n",
    "    \"\"\"\n",
    "    Get temperature difference b/n entrainment zone and mixed layer.\n",
    "    (positive if entrainment zone is warmer than ML)\n",
    "    \"\"\"\n",
    "\n",
    "    ## find indices in ML and entrainment zone (ez)\n",
    "    in_ml = Tsub.z_t <= Hm\n",
    "    in_ez = (Tsub.z_t > Hm) & (Tsub.z_t < (delta + Hm))\n",
    "\n",
    "    ## get Tbar and Tplus (following Frankignoul et al paper)\n",
    "    Tbar = Tsub.where(in_ml).mean(\"z_t\")\n",
    "    Tplus = Tsub.where(in_ez).mean(\"z_t\")\n",
    "\n",
    "    ## get gradient\n",
    "    dT = Tplus - Tbar\n",
    "\n",
    "    return dT\n",
    "\n",
    "\n",
    "def prep(data):\n",
    "    \"\"\"remove sst dependence and compute tendencies\"\"\"\n",
    "\n",
    "    ## remove from h indices\n",
    "    for h_idx in [\"h_w\", \"h\", \"h_w_z20\"]:\n",
    "        data[f\"{h_idx}_hat\"] = src.utils.remove_sst_dependence_v2(\n",
    "            data, h_var=h_idx, T_var=\"T_34\"\n",
    "        )\n",
    "\n",
    "    return data\n",
    "\n",
    "\n",
    "def load_budget_data(t_early, t_late, target_grid):\n",
    "    \"\"\"load ground truth heat budget data\"\"\"\n",
    "\n",
    "    def load_var(varname):\n",
    "        \"\"\"load variable from prepped folder\"\"\"\n",
    "\n",
    "        ## open data\n",
    "        data = xr.open_mfdataset(\n",
    "            sorted(list(pathlib.Path(DATA_FP, \"cesm\", f\"{varname}_temp\").glob(\"*.nc\"))),\n",
    "            concat_dim=\"member\",\n",
    "            combine=\"nested\",\n",
    "            parallel=True,\n",
    "        )\n",
    "\n",
    "        return data.assign_coords({\"member\": np.arange(100)})\n",
    "\n",
    "    ## load data\n",
    "    budget_data = xr.merge([load_var(v) for v in [\"adv\", \"ddt_T\"]])\n",
    "\n",
    "    ## get difference\n",
    "    budget_data[\"diff\"] = budget_data[\"TEND_TEMP\"] - budget_data[\"ADV_3D_TEMP\"]\n",
    "\n",
    "    ## convert z coord from cm to m, and unit from K/s to K/mo\n",
    "    M_PER_CM = 1e-2\n",
    "    SEC_PER_MO = 8.64e4 * 30\n",
    "\n",
    "    ## convert from (i) cm to m and (ii) K/s to K/mo\n",
    "    budget_data = budget_data.assign_coords({\"z_t\": budget_data.z_t * M_PER_CM})\n",
    "    budget_data = budget_data * SEC_PER_MO\n",
    "\n",
    "    ## fix longitude coordinate\n",
    "    budget_data = budget_data.assign_coords({\"nlon\": budget_data.lon.values})\n",
    "    budget_data = budget_data.drop_vars(\"lon\").rename({\"nlon\": \"longitude\"})\n",
    "\n",
    "    ## trim in time\n",
    "    budget_data = xr.concat(\n",
    "        [budget_data.sel(t_early), budget_data.sel(t_late)], dim=\"time\"\n",
    "    )\n",
    "\n",
    "    ## interpolate\n",
    "    budget_data = budget_data.interp_like(target_grid)\n",
    "\n",
    "    # ## separate forced/anomalies\n",
    "    forced_bud, anom_bud = src.utils.separate_forced(budget_data)\n",
    "\n",
    "    return forced_bud, anom_bud\n",
    "\n",
    "\n",
    "def plot_mlds(axs, bar_early, bar_late, month=None):\n",
    "    \"\"\"plot mixed layer depth on pair of axs objects\"\"\"\n",
    "\n",
    "    ## get longitude\n",
    "    lon = src.utils.merimean(bar_early).longitude\n",
    "\n",
    "    ## helper function to get month\n",
    "    if month is None:\n",
    "        sel = lambda x: x.mean(\"month\")\n",
    "    else:\n",
    "        sel = lambda x: x.sel(month=month)\n",
    "\n",
    "    ## plot\n",
    "    axs[0].plot(lon, sel(src.utils.merimean(bar_early[\"mld\"])), c=\"k\")\n",
    "    axs[1].plot(lon, sel(src.utils.merimean(bar_late[\"mld\"])), c=\"k\", ls=\"--\")\n",
    "    axs[2].plot(lon, sel(src.utils.merimean(bar_early[\"mld\"])), c=\"k\")\n",
    "    axs[2].plot(lon, sel(src.utils.merimean(bar_late[\"mld\"])), c=\"k\", ls=\"--\")\n",
    "\n",
    "    return"
   ]
  },
  {
   "cell_type": "markdown",
   "id": "e7e6f806-7cb2-446a-a9c1-63adc1930685",
   "metadata": {},
   "source": [
    "## Load data"
   ]
  },
  {
   "cell_type": "markdown",
   "id": "8d81b793-263e-47ed-8a47-72859ffcbe5f",
   "metadata": {},
   "source": [
    "#### $T$, $h$"
   ]
  },
  {
   "cell_type": "code",
   "execution_count": null,
   "id": "eccc268a-e60d-45bb-b68d-acd3860e5eb0",
   "metadata": {},
   "outputs": [],
   "source": [
    "## open data\n",
    "Th = src.utils.load_cesm_indices(load_z20=True)"
   ]
  },
  {
   "cell_type": "markdown",
   "id": "23f711ba-bc31-42a3-9154-6ef25c986fb3",
   "metadata": {},
   "source": [
    "### Spatial data"
   ]
  },
  {
   "cell_type": "markdown",
   "id": "68218dec-2a10-4157-9706-029462439ac1",
   "metadata": {},
   "source": [
    "#### Load"
   ]
  },
  {
   "cell_type": "code",
   "execution_count": null,
   "id": "d67f1548-0928-4142-b1ce-7e027937464b",
   "metadata": {},
   "outputs": [],
   "source": [
    "## load spatial data\n",
    "forced, anom = src.utils.load_consolidated()\n",
    "\n",
    "## add T,h information\n",
    "for n in [\"T_3\", \"T_34\", \"T_4\", \"h\", \"h_w\", \"h_w_z20\", \"h_z20\"]:\n",
    "    anom[n] = Th[n] / Th[n].std()"
   ]
  },
  {
   "cell_type": "markdown",
   "id": "0cce985e-5d04-4e07-bfc0-baadebc41cfc",
   "metadata": {},
   "source": [
    "#### compute some indices"
   ]
  },
  {
   "cell_type": "code",
   "execution_count": null,
   "id": "9ed7d076-a841-413d-b1d8-26f95973851c",
   "metadata": {},
   "outputs": [],
   "source": [
    "## get sst tendency (and convert from 1/yr to 1/mo)\n",
    "anom[\"ddt_sst\"] = 1 / 12 * src.utils.get_ddt(anom[[\"sst\"]], is_forward=True)[\"ddt_sst\"]"
   ]
  },
  {
   "cell_type": "markdown",
   "id": "b3e1c3dd-5c48-42cf-993d-ac44516ab62d",
   "metadata": {},
   "source": [
    "#### early/late split"
   ]
  },
  {
   "cell_type": "code",
   "execution_count": null,
   "id": "93d3ba4c-0e7e-4bb0-8a2a-89b8fceb52ae",
   "metadata": {},
   "outputs": [],
   "source": [
    "## split into early/late periods\n",
    "t_early = dict(time=slice(\"1851\", \"1880\"))\n",
    "# t_late = dict(time=slice(\"1981\", \"2010\"))\n",
    "t_late = dict(time=slice(\"2071\", \"2100\"))\n",
    "\n",
    "## split surface data\n",
    "anom_early = anom.sel(t_early)\n",
    "anom_late = anom.sel(t_late)\n",
    "\n",
    "## preprocess\n",
    "anom_early = prep(anom_early).compute()\n",
    "anom_late = prep(anom_late).compute()"
   ]
  },
  {
   "cell_type": "markdown",
   "id": "bc2859c3-7c70-4c91-8c9f-e24ab3b04b25",
   "metadata": {},
   "source": [
    "## Compute/plot"
   ]
  },
  {
   "cell_type": "code",
   "execution_count": null,
   "id": "e4d809f4-214b-435d-a438-6dbb203119fa",
   "metadata": {},
   "outputs": [],
   "source": [
    "def get_slope_bymonth(x, **kwargs):\n",
    "    \"\"\"get slope for each month separately\"\"\"\n",
    "    return x.groupby(\"time.month\").map(src.utils.regress_proj, **kwargs)"
   ]
  },
  {
   "cell_type": "markdown",
   "id": "33a4f119-d707-4ba1-bb0d-e59591434d1a",
   "metadata": {},
   "source": [
    "### SST - SST"
   ]
  },
  {
   "cell_type": "code",
   "execution_count": null,
   "id": "2c387d7c-19bb-43af-9d1f-c1206bda0f9a",
   "metadata": {},
   "outputs": [],
   "source": [
    "## shared kwargs\n",
    "kwargs = dict(x_var=\"sst\", y_var=\"sst\", fn_x=src.utils.get_nino3)\n",
    "\n",
    "## function to get slope\n",
    "# get_slope = lambda x: x.groupby(\"time.month\").map(src.utils.regress_proj, **kwargs)\n",
    "\n",
    "## then, reconstruct regression coefficient\n",
    "m_early = get_slope_bymonth(anom_early, **kwargs)\n",
    "m_late = get_slope_bymonth(anom_late, **kwargs)"
   ]
  },
  {
   "cell_type": "markdown",
   "id": "436bf4ff-53d5-4d56-bde6-c9d4f0ef3749",
   "metadata": {},
   "source": [
    "Hovmoller"
   ]
  },
  {
   "cell_type": "code",
   "execution_count": null,
   "id": "a0c0ba4d-d968-452d-945c-d82400218c1e",
   "metadata": {},
   "outputs": [],
   "source": [
    "## shared args\n",
    "kwargs = dict(amp=1.5, lat_bound=1.5)\n",
    "\n",
    "fig, axs = plt.subplots(1, 3, figsize=(6, 2.5), layout=\"constrained\")\n",
    "\n",
    "## plot data\n",
    "cp0 = src.utils.make_cycle_hov(axs[0], data=m_early, **kwargs)\n",
    "cp1 = src.utils.make_cycle_hov(axs[1], data=m_late, **kwargs)\n",
    "cp2 = src.utils.make_cycle_hov(axs[2], data=2 * (m_late - m_early), **kwargs)\n",
    "\n",
    "## make it look nicer\n",
    "cb = fig.colorbar(\n",
    "    cp0,\n",
    "    ax=axs[2],\n",
    "    ticks=[-kwargs[\"amp\"], 0, kwargs[\"amp\"]],\n",
    "    label=r\"$W~m^{-2}~K^{-1}$\",\n",
    ")\n",
    "src.utils.format_hov_axs(axs)\n",
    "for ax in axs:\n",
    "    ax.axhline(7, ls=\"--\", c=\"k\", lw=1)\n",
    "\n",
    "plt.show()"
   ]
  },
  {
   "cell_type": "markdown",
   "id": "b651b3dc-19db-4d04-8337-8d22cf4e7d52",
   "metadata": {},
   "source": [
    "Spatial"
   ]
  },
  {
   "cell_type": "code",
   "execution_count": null,
   "id": "746ff205-6e68-4c0f-806b-eaf46fa82440",
   "metadata": {},
   "outputs": [],
   "source": [
    "## select month\n",
    "sel = lambda x: x.sel(month=6)\n",
    "\n",
    "## set up plot\n",
    "fig = plt.figure(figsize=(7, 3.9), layout=\"constrained\")\n",
    "format_func = lambda ax,: src.utils.plot_setup_pac(ax, max_lat=20)\n",
    "axs = src.utils.subplots_with_proj(fig, nrows=3, ncols=1, format_func=format_func)\n",
    "\n",
    "contour_kwargs = dict(amp=2, sel=sel)\n",
    "cp0 = src.utils.make_contour_plot(axs[0, 0], m_early, **contour_kwargs)\n",
    "cp1 = src.utils.make_contour_plot(axs[1, 0], m_late, **contour_kwargs)\n",
    "cp2 = src.utils.make_contour_plot(\n",
    "    axs[2, 0], (m_late - m_early), **dict(contour_kwargs, amp=1.5)\n",
    ")\n",
    "\n",
    "## colorbar\n",
    "lab = r\"$Pa~K^{-1}$\"\n",
    "cb0 = fig.colorbar(cp0, ax=axs[:2], ticks=[-3e-2, 0, 3e-2], label=lab)\n",
    "cb2 = fig.colorbar(cp2, ax=axs[-1], ticks=[-1.5e-2, 0, 1.5e-2], label=lab)\n",
    "\n",
    "## Niño 3 box\n",
    "box_kwargs = dict(c=\"k\", linewidth=0.9, alpha=0.5)\n",
    "for ax in axs.flatten():\n",
    "    src.utils.plot_nino34_box(ax, **box_kwargs)\n",
    "\n",
    "plt.show()"
   ]
  },
  {
   "cell_type": "markdown",
   "id": "f40dfcc1-20e0-4b67-a460-e516e06c1db2",
   "metadata": {},
   "source": [
    "Scatter"
   ]
  },
  {
   "cell_type": "code",
   "execution_count": null,
   "id": "53e81bd0-e9ee-4451-8c7d-e935fc610e3a",
   "metadata": {},
   "outputs": [],
   "source": [
    "## specify func\n",
    "grad = lambda x: src.utils.get_nino3(x) - src.utils.get_nino4(x)\n",
    "\n",
    "## kwargs for plotting\n",
    "kwargs = dict(months=5, scale=1, x_var=\"T_3\", y_var=\"sst\", fn_y=src.utils.get_nino34)\n",
    "\n",
    "## set up plot\n",
    "fig, axs = plt.subplots(1, 2, figsize=(5, 2.5), layout=\"constrained\")\n",
    "m0 = src.utils.make_scatter2(axs[0], anom_early, **kwargs)\n",
    "m1 = src.utils.make_scatter2(axs[1], anom_late, **kwargs)\n",
    "\n",
    "## label\n",
    "axs[0].set_title(f\"{m0:.1f}\" + r\" $W~m^{-2}~K^{-1}$\")\n",
    "axs[1].set_title(f\"{m1:.1f}\" + r\" $W~m^{-2}~K^{-1}$\")\n",
    "axs[1].set_yticks([])\n",
    "\n",
    "src.utils.set_lims(axs)"
   ]
  },
  {
   "cell_type": "markdown",
   "id": "9b67ce4a-337f-4d3a-a2ea-fa1a16d52d6b",
   "metadata": {},
   "source": [
    "### SST - NHF"
   ]
  },
  {
   "cell_type": "code",
   "execution_count": null,
   "id": "0005b0e9-47d1-4435-ae90-201216f1fcca",
   "metadata": {},
   "outputs": [],
   "source": [
    "## shared kwargs\n",
    "kwargs = dict(x_var=\"sst\", y_var=\"nhf\", fn_x=src.utils.get_nino34)\n",
    "\n",
    "## then, reconstruct regression coefficient\n",
    "m_early = get_slope_bymonth(anom_early, **kwargs)\n",
    "m_late = get_slope_bymonth(anom_late, **kwargs)"
   ]
  },
  {
   "cell_type": "code",
   "execution_count": null,
   "id": "38508efa-ac43-4df6-b2aa-a5336965b3d5",
   "metadata": {},
   "outputs": [],
   "source": [
    "## shared args\n",
    "kwargs = dict(amp=40, lat_bound=1.5)\n",
    "\n",
    "fig, axs = plt.subplots(1, 3, figsize=(6, 2.5), layout=\"constrained\")\n",
    "\n",
    "## plot data\n",
    "cp0 = src.utils.make_cycle_hov(axs[0], data=m_early, **kwargs)\n",
    "cp1 = src.utils.make_cycle_hov(axs[1], data=m_late, **kwargs)\n",
    "cp2 = src.utils.make_cycle_hov(axs[2], data=2 * (m_late - m_early), **kwargs)\n",
    "\n",
    "## make it look nicer\n",
    "cb = fig.colorbar(\n",
    "    cp0,\n",
    "    ax=axs[2],\n",
    "    ticks=[-kwargs[\"amp\"], 0, kwargs[\"amp\"]],\n",
    "    label=r\"$W~m^{-2}~K^{-1}$\",\n",
    ")\n",
    "src.utils.format_hov_axs(axs)\n",
    "for ax in axs:\n",
    "    ax.axhline(7, ls=\"--\", c=\"k\", lw=1)\n",
    "\n",
    "plt.show()"
   ]
  },
  {
   "cell_type": "code",
   "execution_count": null,
   "id": "975a553a-439b-4332-b8b6-88beaa962d79",
   "metadata": {},
   "outputs": [],
   "source": [
    "## kwargs for plotting\n",
    "kwargs = dict(months=4, scale=1, x_var=\"T_34\", y_var=\"nhf\", fn_y=src.utils.get_nino34)\n",
    "\n",
    "## set up plot\n",
    "fig, axs = plt.subplots(1, 2, figsize=(5, 2.5), layout=\"constrained\")\n",
    "m0 = src.utils.make_scatter2(axs[0], anom_early, **kwargs)\n",
    "m1 = src.utils.make_scatter2(axs[1], anom_late, **kwargs)\n",
    "\n",
    "## label\n",
    "axs[0].set_title(f\"{m0:.1f}\" + r\" $W~m^{-2}~K^{-1}$\")\n",
    "axs[1].set_title(f\"{m1:.1f}\" + r\" $W~m^{-2}~K^{-1}$\")\n",
    "axs[1].set_yticks([])\n",
    "\n",
    "src.utils.set_lims(axs)"
   ]
  },
  {
   "cell_type": "markdown",
   "id": "aa85c11f-9505-4ed7-b691-6b57f81b6baa",
   "metadata": {},
   "source": [
    "### SST-$\\tau_x$"
   ]
  },
  {
   "cell_type": "code",
   "execution_count": null,
   "id": "0100ecbd-09d2-4cd2-8c45-2a0a0626cf07",
   "metadata": {},
   "outputs": [],
   "source": [
    "## shared kwargs\n",
    "kwargs = dict(x_var=\"sst\", y_var=\"taux\", fn_x=src.utils.get_nino34)\n",
    "\n",
    "## then, reconstruct regression coefficient\n",
    "m_early = get_slope_bymonth(anom_early, **kwargs)\n",
    "m_late = get_slope_bymonth(anom_late, **kwargs)"
   ]
  },
  {
   "cell_type": "code",
   "execution_count": null,
   "id": "91b4a51c-75db-43e1-b6b4-f116aace19cf",
   "metadata": {},
   "outputs": [],
   "source": [
    "## shared args\n",
    "kwargs = dict(amp=0.02, lat_bound=1.5)\n",
    "\n",
    "fig, axs = plt.subplots(1, 3, figsize=(6, 2.5), layout=\"constrained\")\n",
    "\n",
    "## plot data\n",
    "cp0 = src.utils.make_cycle_hov(axs[0], data=m_early, **kwargs)\n",
    "cp1 = src.utils.make_cycle_hov(axs[1], data=m_late, **kwargs)\n",
    "cp2 = src.utils.make_cycle_hov(axs[2], data=2 * (m_late - m_early), **kwargs)\n",
    "\n",
    "## make it look nicer\n",
    "cb = fig.colorbar(\n",
    "    cp0,\n",
    "    ax=axs[2],\n",
    "    ticks=[-kwargs[\"amp\"], 0, kwargs[\"amp\"]],\n",
    "    label=r\"$K~\\left(\\text{month}\\right)^{-1}$\",\n",
    ")\n",
    "src.utils.format_hov_axs(axs)\n",
    "for ax in axs:\n",
    "    for t in [5, 7]:\n",
    "        ax.axhline(t, ls=\"--\", c=\"k\", lw=1)\n",
    "\n",
    "plt.show()"
   ]
  },
  {
   "cell_type": "markdown",
   "id": "bda41a22-9518-41d7-b306-b954129cc288",
   "metadata": {},
   "source": [
    "##### Spatial plot"
   ]
  },
  {
   "cell_type": "code",
   "execution_count": null,
   "id": "005d634e-6be9-4d44-bd8b-93ad49236ed7",
   "metadata": {},
   "outputs": [],
   "source": [
    "## select month\n",
    "sel = lambda x: x.sel(month=6)\n",
    "\n",
    "## set up plot\n",
    "fig = plt.figure(figsize=(7, 3.9), layout=\"constrained\")\n",
    "format_func = lambda ax,: src.utils.plot_setup_pac(ax, max_lat=20)\n",
    "axs = src.utils.subplots_with_proj(fig, nrows=3, ncols=1, format_func=format_func)\n",
    "\n",
    "contour_kwargs = dict(amp=3e-2, sel=sel)\n",
    "cp0 = src.utils.make_contour_plot(axs[0, 0], m_early, **contour_kwargs)\n",
    "cp1 = src.utils.make_contour_plot(axs[1, 0], m_late, **contour_kwargs)\n",
    "cp2 = src.utils.make_contour_plot(\n",
    "    axs[2, 0], (m_late - m_early), **dict(contour_kwargs, amp=1.5e-2)\n",
    ")\n",
    "\n",
    "## colorbar\n",
    "lab = r\"$Pa~K^{-1}$\"\n",
    "cb0 = fig.colorbar(cp0, ax=axs[:2], ticks=[-3e-2, 0, 3e-2], label=lab)\n",
    "cb2 = fig.colorbar(cp2, ax=axs[-1], ticks=[-1.5e-2, 0, 1.5e-2], label=lab)\n",
    "\n",
    "## Niño 3 box\n",
    "box_kwargs = dict(c=\"k\", linewidth=0.9, alpha=0.5)\n",
    "for ax in axs.flatten():\n",
    "    src.utils.plot_nino34_box(ax, **box_kwargs)\n",
    "\n",
    "plt.show()"
   ]
  },
  {
   "cell_type": "code",
   "execution_count": null,
   "id": "e5ab5769-9c9c-4aeb-a3d4-73bc0cd8f350",
   "metadata": {},
   "outputs": [],
   "source": [
    "sel = lambda x: x.sel(month=6, latitude=slice(-5, 5)).mean(\"latitude\")\n",
    "\n",
    "fig, ax = plt.subplots(figsize=(3, 2.5))\n",
    "ax.plot(m_early.longitude, sel(m_late - m_early))\n",
    "ax.axhline(0, ls=\"--\", c=\"k\", lw=0.8)\n",
    "ax.set_xlim([140, 280])\n",
    "plt.show()"
   ]
  },
  {
   "cell_type": "code",
   "execution_count": null,
   "id": "d95fa8cc-0eef-4620-abc8-0e8a97313545",
   "metadata": {},
   "outputs": [],
   "source": [
    "## kwargs for plotting\n",
    "kwargs = dict(\n",
    "    months=6, scale=1e3, x_var=\"T_34\", y_var=\"taux\", fn_y=src.utils.get_nino34\n",
    ")\n",
    "\n",
    "## set up plot\n",
    "fig, axs = plt.subplots(1, 2, figsize=(5, 2.5), layout=\"constrained\")\n",
    "m0 = src.utils.make_scatter2(axs[0], anom_early, **kwargs)\n",
    "m1 = src.utils.make_scatter2(axs[1], anom_late, **kwargs)\n",
    "\n",
    "## label\n",
    "axs[0].set_title(f\"{m0:.1f}\" + r\" $mPa~K^{-1}$\")\n",
    "axs[1].set_title(f\"{m1:.1f}\" + r\" $mPa~K^{-1}$\")\n",
    "axs[1].set_yticks([])\n",
    "\n",
    "src.utils.set_lims(axs)"
   ]
  },
  {
   "cell_type": "markdown",
   "id": "8ba09f44-9a9b-4306-90c6-cfec2d825a3e",
   "metadata": {},
   "source": [
    "### $\\tau_x-T_{sub}$"
   ]
  },
  {
   "cell_type": "code",
   "execution_count": null,
   "id": "956b150a-2804-4188-bb39-64c7ef35de3e",
   "metadata": {},
   "outputs": [],
   "source": [
    "## shared kwargs\n",
    "kwargs = dict(x_var=\"taux\", y_var=\"T\")\n",
    "\n",
    "## then, reconstruct regression coefficient\n",
    "m_early = get_slope_bymonth(anom_early, fn_x=src.utils.get_nino4, **kwargs)\n",
    "m_late = get_slope_bymonth(anom_late, fn_x=src.utils.get_nino34, **kwargs)"
   ]
  },
  {
   "cell_type": "code",
   "execution_count": null,
   "id": "fbee1ff5-ff16-4bf3-af22-e963f7a3ae33",
   "metadata": {},
   "outputs": [],
   "source": [
    "## specify Hm\n",
    "Hm = 70\n",
    "sel = lambda x: x.sel(z_t=Hm, method=\"nearest\")\n",
    "\n",
    "## shared args\n",
    "kwargs = dict(amp=3e2, lat_bound=1.5)\n",
    "\n",
    "fig, axs = plt.subplots(1, 3, figsize=(6, 2.5), layout=\"constrained\")\n",
    "\n",
    "## plot data\n",
    "cp0 = src.utils.make_cycle_hov(axs[0], data=sel(m_early), **kwargs)\n",
    "cp1 = src.utils.make_cycle_hov(axs[1], data=sel(m_late), **kwargs)\n",
    "cp2 = src.utils.make_cycle_hov(axs[2], data=2 * sel(m_late - m_early), **kwargs)\n",
    "\n",
    "## make it look nicer\n",
    "cb = fig.colorbar(\n",
    "    cp0,\n",
    "    ax=axs[2],\n",
    "    ticks=[-kwargs[\"amp\"], 0, kwargs[\"amp\"]],\n",
    "    label=r\"$K~\\left(\\text{month}\\right)^{-1}$\",\n",
    ")\n",
    "src.utils.format_hov_axs(axs)\n",
    "for ax in axs:\n",
    "    for t in [5, 7]:\n",
    "        ax.axhline(t, ls=\"--\", c=\"k\", lw=1)\n",
    "\n",
    "plt.show()"
   ]
  },
  {
   "cell_type": "code",
   "execution_count": null,
   "id": "1e6a8ab6-f337-4567-833d-8341e2c64e16",
   "metadata": {},
   "outputs": [],
   "source": [
    "sel_T = (\n",
    "    lambda x: x.sel(longitude=slice(210, 280))\n",
    "    .mean(\"longitude\")\n",
    "    .sel(z_t=Hm, method=\"nearest\")\n",
    ")\n",
    "\n",
    "## kwargs for plotting\n",
    "kwargs = dict(months=6, scale=1e-2, x_var=\"taux\", y_var=\"T\", fn_y=sel_T)\n",
    "\n",
    "## set up plot\n",
    "fig, axs = plt.subplots(1, 2, figsize=(5, 2.5), layout=\"constrained\")\n",
    "m0 = src.utils.make_scatter2(axs[0], anom_early, fn_x=src.utils.get_nino4, **kwargs)\n",
    "m1 = src.utils.make_scatter2(axs[1], anom_late, fn_x=src.utils.get_nino34, **kwargs)\n",
    "\n",
    "## label\n",
    "axs[0].set_title(f\"{m0:.1f}\" + r\" $K~hPa^{-1}$\")\n",
    "axs[1].set_title(f\"{m1:.1f}\" + r\" $K~hPa^{-1}$\")\n",
    "axs[1].set_yticks([])\n",
    "\n",
    "src.utils.set_lims(axs)"
   ]
  },
  {
   "cell_type": "markdown",
   "id": "643664e8-7352-4cbe-94d7-d0b76ea6f402",
   "metadata": {},
   "source": [
    "### $\\tau_x$ - $Z_{20}$"
   ]
  },
  {
   "cell_type": "code",
   "execution_count": null,
   "id": "655c0302-0f0e-42b3-80f0-b7518b763dca",
   "metadata": {},
   "outputs": [],
   "source": [
    "## shared kwargs\n",
    "kwargs = dict(x_var=\"taux\", y_var=\"z20\")\n",
    "\n",
    "## then, reconstruct regression coefficient\n",
    "m_early = get_slope_bymonth(anom_early, fn_x=src.utils.get_nino4, **kwargs)\n",
    "m_late = get_slope_bymonth(anom_late, fn_x=src.utils.get_nino34, **kwargs)"
   ]
  },
  {
   "cell_type": "markdown",
   "id": "2242c71f-61b2-42b4-82d1-a5f9780e4311",
   "metadata": {},
   "source": [
    "##### Hovmoller"
   ]
  },
  {
   "cell_type": "code",
   "execution_count": null,
   "id": "a9867dd2-49b9-42bc-9603-218e8eb94caf",
   "metadata": {},
   "outputs": [],
   "source": [
    "## shared args\n",
    "kwargs = dict(amp=2e3, lat_bound=1.5)\n",
    "\n",
    "fig, axs = plt.subplots(1, 3, figsize=(6, 2.5), layout=\"constrained\")\n",
    "\n",
    "## plot data\n",
    "cp0 = src.utils.make_cycle_hov(axs[0], data=m_early, **kwargs)\n",
    "cp1 = src.utils.make_cycle_hov(axs[1], data=m_late, **kwargs)\n",
    "cp2 = src.utils.make_cycle_hov(axs[2], data=2 * (m_late - m_early), **kwargs)\n",
    "\n",
    "## make it look nicer\n",
    "cb = fig.colorbar(\n",
    "    cp0,\n",
    "    ax=axs[2],\n",
    "    ticks=[-kwargs[\"amp\"], 0, kwargs[\"amp\"]],\n",
    "    label=r\"$K~\\left(\\text{month}\\right)^{-1}$\",\n",
    ")\n",
    "src.utils.format_hov_axs(axs)\n",
    "for ax in axs:\n",
    "    for t in [5, 7]:\n",
    "        ax.axhline(t, ls=\"--\", c=\"k\", lw=1)\n",
    "\n",
    "plt.show()"
   ]
  },
  {
   "cell_type": "markdown",
   "id": "6cc9301c-6191-41f0-9e3c-9aff2e296b93",
   "metadata": {},
   "source": [
    "Scatter"
   ]
  },
  {
   "cell_type": "code",
   "execution_count": null,
   "id": "37d2ef72-161b-443c-8cb1-ac31f9b035fe",
   "metadata": {},
   "outputs": [],
   "source": [
    "sel_e = lambda x: x.sel(\n",
    "    latitude=slice(-5, 5),\n",
    "    longitude=slice(210, 280),\n",
    ").mean([\"latitude\", \"longitude\"])\n",
    "sel_w = lambda x: x.sel(\n",
    "    latitude=slice(-5, 5),\n",
    "    longitude=slice(140, 210),\n",
    ").mean([\"latitude\", \"longitude\"])\n",
    "\n",
    "grad = lambda x: sel_e(x) - sel_w(x)\n",
    "# grad = lambda x : src.utils.get_nino3(x) - src.utils.get_nino4(x)\n",
    "\n",
    "## kwargs for plotting\n",
    "kwargs = dict(months=6, scale=1e-3, x_var=\"taux\", y_var=\"z20\", fn_y=grad)\n",
    "\n",
    "## set up plot\n",
    "fig, axs = plt.subplots(1, 2, figsize=(5, 2.5), layout=\"constrained\")\n",
    "m0 = src.utils.make_scatter2(axs[0], anom_early, fn_x=src.utils.get_nino4, **kwargs)\n",
    "m1 = src.utils.make_scatter2(axs[1], anom_late, fn_x=src.utils.get_nino34, **kwargs)\n",
    "\n",
    "## label\n",
    "axs[0].set_title(f\"{m0:.2f}\" + r\" $cm~mPa^{-1}$\")\n",
    "axs[1].set_title(f\"{m1:.2f}\" + r\" $cm~mPa^{-1}$\")\n",
    "axs[1].set_yticks([])\n",
    "\n",
    "src.utils.set_lims(axs)"
   ]
  },
  {
   "cell_type": "markdown",
   "id": "e572bcda-cf79-44a5-84da-8b412b5865b5",
   "metadata": {},
   "source": [
    "### $Z_{20} - T_{sub}$"
   ]
  },
  {
   "cell_type": "code",
   "execution_count": null,
   "id": "5c708a62-96e7-4343-93f8-92ef4ea6250b",
   "metadata": {},
   "outputs": [],
   "source": [
    "## shared kwargs\n",
    "kwargs = dict(x_var=\"z20\", y_var=\"T\")\n",
    "\n",
    "## then, reconstruct regression coefficient\n",
    "m_early = get_slope_bymonth(anom_early, fn_x=src.utils.get_nino34, **kwargs)\n",
    "m_late = get_slope_bymonth(anom_late, fn_x=src.utils.get_nino34, **kwargs)"
   ]
  },
  {
   "cell_type": "code",
   "execution_count": null,
   "id": "1e327911-9025-4552-bc42-fc5c6fc852b9",
   "metadata": {},
   "outputs": [],
   "source": [
    "## specify Hm\n",
    "Hm = 50\n",
    "sel = lambda x: x.sel(z_t=Hm, method=\"nearest\")\n",
    "\n",
    "## shared args\n",
    "kwargs = dict(amp=0.3, lat_bound=1.5)\n",
    "\n",
    "fig, axs = plt.subplots(1, 3, figsize=(6, 2.5), layout=\"constrained\")\n",
    "\n",
    "## plot data\n",
    "cp0 = src.utils.make_cycle_hov(axs[0], data=sel(m_early), **kwargs)\n",
    "cp1 = src.utils.make_cycle_hov(axs[1], data=sel(m_late), **kwargs)\n",
    "cp2 = src.utils.make_cycle_hov(axs[2], data=2 * sel(m_late - m_early), **kwargs)\n",
    "\n",
    "## make it look nicer\n",
    "cb = fig.colorbar(\n",
    "    cp0,\n",
    "    ax=axs[2],\n",
    "    ticks=[-kwargs[\"amp\"], 0, kwargs[\"amp\"]],\n",
    "    label=r\"$K~\\left(\\text{month}\\right)^{-1}$\",\n",
    ")\n",
    "src.utils.format_hov_axs(axs)\n",
    "for ax in axs:\n",
    "    for t in [5, 7]:\n",
    "        ax.axhline(t, ls=\"--\", c=\"k\", lw=1)\n",
    "\n",
    "plt.show()"
   ]
  },
  {
   "cell_type": "code",
   "execution_count": null,
   "id": "c756019e-dead-478f-8894-b138a72a7856",
   "metadata": {},
   "outputs": [],
   "source": [
    "sel_lon = lambda x: x.sel(longitude=slice(210, 280)).mean(\"longitude\")\n",
    "sel_z20 = lambda x: sel_lon(x).sel(latitude=slice(-2, 2)).mean(\"latitude\")\n",
    "sel_T = lambda x: sel_lon(x).sel(z_t=Hm, method=\"nearest\")\n",
    "\n",
    "# ## kwargs for plotting\n",
    "# kwargs = dict(months=6, scale=1e-3, x_var=\"z20\", y_var=\"z20\", fn_y=src.utils.get_nino34)\n",
    "\n",
    "## kwargs for plotting\n",
    "kwargs = dict(months=6, scale=1e1, x_var=\"z20\", y_var=\"T\", fn_x=sel_z20, fn_y=sel_T)\n",
    "\n",
    "## set up plot\n",
    "fig, axs = plt.subplots(1, 2, figsize=(5, 2.5), layout=\"constrained\")\n",
    "m0 = src.utils.make_scatter2(axs[0], anom_early, **kwargs)\n",
    "m1 = src.utils.make_scatter2(axs[1], anom_late, **kwargs)\n",
    "\n",
    "## label\n",
    "axs[0].set_title(f\"{m0:.1f}\" + r\" $K~cm^{-1}$\")\n",
    "axs[1].set_title(f\"{m1:.1f}\" + r\" $K~cm^{-1}$\")\n",
    "axs[1].set_yticks([])\n",
    "\n",
    "src.utils.set_lims(axs)"
   ]
  }
 ],
 "metadata": {
  "kernelspec": {
   "display_name": "Python [conda env:envs]",
   "language": "python",
   "name": "conda-env-envs-py"
  },
  "language_info": {
   "codemirror_mode": {
    "name": "ipython",
    "version": 3
   },
   "file_extension": ".py",
   "mimetype": "text/x-python",
   "name": "python",
   "nbconvert_exporter": "python",
   "pygments_lexer": "ipython3",
   "version": "3.13.5"
  }
 },
 "nbformat": 4,
 "nbformat_minor": 5
}
