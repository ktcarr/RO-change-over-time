{
 "cells": [
  {
   "cell_type": "markdown",
   "id": "421a5b20-426b-4f3f-90ed-555331b78a2e",
   "metadata": {},
   "source": [
    "# Mean-state changes\n",
    "Look at how mean state changes over time"
   ]
  },
  {
   "cell_type": "code",
   "execution_count": null,
   "id": "3d7611d4-ad11-46c3-bd50-31baa8d09d93",
   "metadata": {},
   "outputs": [],
   "source": [
    "import datetime\n",
    "import matplotlib\n",
    "import matplotlib.pyplot as plt\n",
    "import matplotlib as mpl\n",
    "import numpy as np\n",
    "import seaborn as sns\n",
    "import xarray as xr\n",
    "import tqdm\n",
    "import pathlib\n",
    "import cmocean\n",
    "import os\n",
    "import src.XRO\n",
    "import copy\n",
    "import scipy.stats\n",
    "import warnings\n",
    "import calendar\n",
    "\n",
    "# import gsw\n",
    "\n",
    "## set plotting specs\n",
    "sns.set(rc={\"axes.facecolor\": \"white\", \"axes.grid\": False})\n",
    "\n",
    "## bump up DPI\n",
    "mpl.rcParams[\"figure.dpi\"] = 100\n",
    "\n",
    "## get filepaths\n",
    "DATA_FP = pathlib.Path(os.environ[\"DATA_FP\"])\n",
    "SAVE_FP = pathlib.Path(os.environ[\"SAVE_FP\"])"
   ]
  },
  {
   "cell_type": "markdown",
   "id": "0a001bbb-6018-45dd-b6a9-f76e33458fd1",
   "metadata": {},
   "source": [
    "## Load data"
   ]
  },
  {
   "cell_type": "code",
   "execution_count": null,
   "id": "af9d9418-126a-4a46-bcf2-36e31ee02d3e",
   "metadata": {},
   "outputs": [],
   "source": [
    "## load spatial data\n",
    "forced, _ = src.utils.load_consolidated()\n",
    "\n",
    "## get windowed data\n",
    "forced = src.utils.get_windowed(forced).groupby(\"time.month\").mean()\n",
    "\n",
    "## reconstruct data\n",
    "forced = src.utils.reconstruct_wrapper(forced)\n",
    "\n",
    "## slice longitude\n",
    "forced = forced.sel(longitude=slice(120, 280))\n",
    "\n",
    "# ## load tropical SST avg\n",
    "trop_sst = xr.open_dataset(pathlib.Path(DATA_FP, \"cesm/trop_sst.nc\"))\n",
    "\n",
    "## Load T,h (total)\n",
    "Th_total = xr.open_dataset(DATA_FP / \"cesm\" / \"Th.nc\")\n",
    "Th_total = xr.merge([Th_total, trop_sst])\n",
    "\n",
    "## compute dTdx\n",
    "Th_total[\"dTdx\"] = Th_total[\"T_4\"] - Th_total[\"T_3\"]\n",
    "\n",
    "## load ELI\n",
    "eli = xr.open_dataset(pathlib.Path(DATA_FP, \"cesm/eli.nc\"))\n",
    "Th_total = xr.merge([Th_total, eli])\n",
    "\n",
    "## ensemble mean\n",
    "Th_total = Th_total.mean(\"member\")\n",
    "\n",
    "## get windowed\n",
    "Th_total = src.utils.get_windowed(Th_total).groupby(\"time.month\").mean()\n",
    "\n",
    "## merge with spatial data\n",
    "forced = xr.merge([forced, Th_total])"
   ]
  },
  {
   "cell_type": "markdown",
   "id": "f10f81fb-b197-4eec-9627-961ff2991791",
   "metadata": {},
   "source": [
    "#### Compute variance"
   ]
  },
  {
   "cell_type": "code",
   "execution_count": null,
   "id": "acbbb1fa-98f7-402d-8bcb-a12067480af6",
   "metadata": {},
   "outputs": [],
   "source": [
    "## open data\n",
    "Th = src.utils.load_cesm_indices()\n",
    "\n",
    "## get windowed\n",
    "Th = src.utils.get_windowed(Th)\n",
    "\n",
    "## get variance by month\n",
    "Th_sigma = Th.groupby(\"time.month\").std([\"time\", \"member\"])\n",
    "\n",
    "## fractional change\n",
    "Th_delta_sigma = (Th_sigma - Th_sigma.isel(year=0)) / Th_sigma.isel(year=0)"
   ]
  },
  {
   "cell_type": "markdown",
   "id": "0c0cedc3-6c80-4993-8837-d5d71daa0349",
   "metadata": {},
   "source": [
    "## Analysis"
   ]
  },
  {
   "cell_type": "markdown",
   "id": "9f7bb7e4-4d70-4b63-84ce-ddb7f76b6202",
   "metadata": {},
   "source": [
    "### Precip / $\\tau_x$ on the equator"
   ]
  },
  {
   "cell_type": "code",
   "execution_count": null,
   "id": "febfe53c-a41e-4736-9853-b4b1a18705a2",
   "metadata": {},
   "outputs": [],
   "source": [
    "## specify month and lat bound for averaging\n",
    "MONTH = 5\n",
    "LAT_BOUND = 5\n",
    "\n",
    "## func to select data\n",
    "merimean = lambda x, lat_bound=5: x.sel(latitude=slice(-lat_bound, lat_bound)).mean(\n",
    "    \"latitude\"\n",
    ")\n",
    "sel = lambda x: merimean(x, lat_bound=LAT_BOUND).sel(month=MONTH).transpose(\"year\", ...)\n",
    "\n",
    "## get longitude for convenience\n",
    "LON = forced.longitude\n",
    "\n",
    "## compute center of mass\n",
    "com = sel(forced * LON).integrate(\"longitude\") / sel(forced).integrate(\"longitude\")\n",
    "\n",
    "## get argmin\n",
    "taux_argmin = forced.longitude.isel(longitude=sel(forced[\"taux\"]).argmin(\"longitude\"))\n",
    "\n",
    "fig, axs = plt.subplots(1, 2, figsize=(4, 4), layout=\"constrained\")\n",
    "\n",
    "## precip\n",
    "axs[0].contourf(\n",
    "    forced.longitude,\n",
    "    forced.year,\n",
    "    8.6e4 * sel(forced[\"pr\"]),\n",
    "    cmap=\"cmo.rain\",\n",
    "    levels=np.arange(0, 13.5, 1.5),\n",
    ")\n",
    "\n",
    "## wind\n",
    "axs[1].contourf(\n",
    "    forced.longitude,\n",
    "    forced.year,\n",
    "    sel(forced[\"taux\"]),\n",
    "    cmap=\"cmo.balance\",\n",
    "    levels=src.utils.make_cb_range(0.075, 0.0075),\n",
    ")\n",
    "\n",
    "## plot longitude of max grad\n",
    "axs[1].plot(\n",
    "    taux_argmin,\n",
    "    forced.year,\n",
    "    c=\"w\",\n",
    "    ls=\"--\",\n",
    "    alpha=1,\n",
    "    lw=1,\n",
    ")\n",
    "\n",
    "\n",
    "## formatting\n",
    "for ax in axs:\n",
    "    ax.set_xlim([140, 280])\n",
    "for ax in axs[1:]:\n",
    "    ax.set_yticks([])\n",
    "\n",
    "plt.show()"
   ]
  },
  {
   "cell_type": "markdown",
   "id": "4096c690-3c79-4e6c-881e-b126d5996040",
   "metadata": {},
   "source": [
    "### Stratification by season over time"
   ]
  },
  {
   "cell_type": "code",
   "execution_count": null,
   "id": "0c78377e-e9ba-4d0a-83b8-64d9a8319c36",
   "metadata": {},
   "outputs": [],
   "source": [
    "def get_dTdz_sub(Tsub, mld, delta=25):\n",
    "    \"\"\"get velocity at base of mixed layer\"\"\"\n",
    "\n",
    "    ## get temperature difference\n",
    "    dT = src.utils.get_dT_sub(Tsub=Tsub, Hm=mld, delta=delta)\n",
    "\n",
    "    ## get gradient\n",
    "    dTdz = -dT / mld\n",
    "\n",
    "    return dTdz"
   ]
  },
  {
   "cell_type": "code",
   "execution_count": null,
   "id": "5ac18913-a417-482d-8829-266668a543c9",
   "metadata": {},
   "outputs": [],
   "source": [
    "## compute strat\n",
    "dTdz = get_dTdz_sub(Tsub=forced.T, mld=50, delta=20)\n",
    "\n",
    "## average over Niño 3\n",
    "dTdz_n3 = dTdz.sel(longitude=slice(210, 270)).mean(\"longitude\")\n",
    "\n",
    "## get fractional change\n",
    "get_frac_change = lambda x: (x - x.isel(year=0)) / x.isel(year=0)\n",
    "\n",
    "\n",
    "## make plot\n",
    "fig, ax = plt.subplots(figsize=(2, 4), layout=\"constrained\")\n",
    "\n",
    "## precip\n",
    "ax.contourf(\n",
    "    dTdz_n3.month,\n",
    "    dTdz_n3.year,\n",
    "    (dTdz_n3 - dTdz_n3.isel(year=0)).transpose(\"year\", ...),\n",
    "    cmap=\"cmo.balance\",\n",
    "    levels=src.utils.make_cb_range(0.04, 0.004),\n",
    "    extend=\"both\",\n",
    ")\n",
    "\n",
    "## formatting\n",
    "ax.axvline(5, ls=\"--\", lw=0.8, c=\"k\")\n",
    "\n",
    "plt.show()"
   ]
  },
  {
   "cell_type": "code",
   "execution_count": null,
   "id": "33620dd4-5a8b-4bda-a2fd-2bc453af3e64",
   "metadata": {},
   "outputs": [],
   "source": [
    "## specify reference coordinate and inflection pt\n",
    "ref = forced[\"trop_sst_15\"]\n",
    "ref_year = 1980\n",
    "\n",
    "## specify plot style for reference line\n",
    "ref_kwargs = dict(ls=\"--\", c=\"gray\", lw=0.8)"
   ]
  },
  {
   "cell_type": "markdown",
   "id": "a530b4f7-da11-4556-8e18-34527ffa0953",
   "metadata": {},
   "source": [
    "### Timeseries"
   ]
  },
  {
   "cell_type": "markdown",
   "id": "7ad48f3f-8c35-4e7f-af1e-1b7b7de52ef8",
   "metadata": {},
   "source": [
    "#### Tropical SST over time"
   ]
  },
  {
   "cell_type": "code",
   "execution_count": null,
   "id": "5888e16e-52cb-4d4a-a62f-6538f0a67e2f",
   "metadata": {},
   "outputs": [],
   "source": [
    "sel = lambda x: x.mean(\"month\")\n",
    "# sel = lambda x : x.sel(month=12)\n",
    "\n",
    "fig, ax = plt.subplots(figsize=(4, 3))\n",
    "# ax.plot(forced.year, sel(forced[\"trop_sst_15\"]), label=\"tropical SST\", c=\"k\")\n",
    "ax.plot(forced.year, sel(ref), label=\"tropical SST\", c=\"k\")\n",
    "ax.plot(forced.year, sel(forced[\"T_4\"]), label=\"Niño 4\", c=\"r\")\n",
    "ax.plot(forced.year, sel(forced[\"T_3\"]), label=\"Niño 3\", c=\"b\")\n",
    "ax.axvline(ref_year, **ref_kwargs)\n",
    "ax.legend()\n",
    "plt.show()"
   ]
  },
  {
   "cell_type": "markdown",
   "id": "1d064bdf-5662-4ebe-84f7-1a5a94fc2233",
   "metadata": {},
   "source": [
    "#### Mean state quantities, plotted against tropical SST"
   ]
  },
  {
   "cell_type": "code",
   "execution_count": null,
   "id": "b49ff4ae-6ba8-40ac-8fc3-f59be34dd972",
   "metadata": {},
   "outputs": [],
   "source": [
    "sel = lambda x: x.sel(month=5)\n",
    "# sel = lambda x : x.mean(\"month\")\n",
    "\n",
    "fig, ax = plt.subplots(figsize=(4, 3))\n",
    "ax.plot(sel(ref), sel(forced[\"T_4\"] - forced[\"T_3\"]))\n",
    "ax.axvline(sel(ref.sel(year=ref_year)).values.item(), **ref_kwargs)\n",
    "ax.set_title(r\"$\\frac{dT}{dx}$\")\n",
    "plt.show()\n",
    "\n",
    "fig, ax = plt.subplots(figsize=(4, 3))\n",
    "ax.plot(sel(ref), sel(dTdz_n3))\n",
    "ax.axvline(sel(ref.sel(year=ref_year)).values.item(), **ref_kwargs)\n",
    "ax.set_title(r\"$\\frac{dT}{dz}$\")\n",
    "plt.show()\n",
    "\n",
    "\n",
    "fig, ax = plt.subplots(figsize=(4, 3))\n",
    "ax.plot(sel(ref), sel(forced[\"T_3\"] - forced[\"trop_sst_15\"]))\n",
    "ax.axvline(sel(ref.sel(year=ref_year)).values.item(), **ref_kwargs)\n",
    "ax.set_title(r\"Niño 3 relative SST\")\n",
    "# ax.set_ylim([0,None])\n",
    "plt.show()\n",
    "\n",
    "fig, ax = plt.subplots(figsize=(4, 3))\n",
    "ax.plot(sel(ref), sel(forced[\"trop_sst_15\"] - forced[\"trop_sst_05\"]))\n",
    "ax.axvline(sel(ref.sel(year=ref_year)).values.item(), **ref_kwargs)\n",
    "ax.set_title(r\"Niño 3 relative SST\")\n",
    "# ax.set_ylim([0,None])\n",
    "plt.show()"
   ]
  },
  {
   "cell_type": "code",
   "execution_count": null,
   "id": "aed0a9f8-d33d-4842-9482-547aee0dee1b",
   "metadata": {},
   "outputs": [],
   "source": [
    "## specify which variable to plot\n",
    "VARNAME = \"T_34\"\n",
    "\n",
    "## make colormap\n",
    "CMAP = cmocean.cm.amp\n",
    "CMAP_NORM = plt.Normalize(vmin=-1, vmax=3)\n",
    "\n",
    "#### plot variance over time\n",
    "fig, ax = plt.subplots(figsize=(4, 3))\n",
    "for i, m_ in enumerate([1, 4, 7, 10]):\n",
    "    sel_ = lambda x: x.sel(month=m_)\n",
    "    ax.plot(\n",
    "        sel(ref),\n",
    "        sel_(Th_delta_sigma[VARNAME]),\n",
    "        c=CMAP(CMAP_NORM(i)),\n",
    "        label=f\"Month {m_}\",\n",
    "    )\n",
    "\n",
    "\n",
    "ax.axvline(sel(ref.sel(year=ref_year)).values.item(), **ref_kwargs)\n",
    "ax.set_title(r\"Niño variance\")\n",
    "# ax.set_ylim([0,None])\n",
    "plt.show()\n",
    "\n",
    "fig, ax = plt.subplots(figsize=(4, 3))\n",
    "for i, m_ in enumerate([1, 4, 7, 10]):\n",
    "    sel_ = lambda x: x.sel(month=m_)\n",
    "    ax.plot(\n",
    "        Th_delta_sigma.year,\n",
    "        sel_(Th_delta_sigma[VARNAME]),\n",
    "        c=CMAP(CMAP_NORM(i)),\n",
    "        label=f\"Month {m_}\",\n",
    "    )\n",
    "\n",
    "\n",
    "# ax.axvline(sel(ref.sel(year=ref_year)).values.item(), **ref_kwargs)\n",
    "ax.set_title(r\"Niño variance\")\n",
    "# ax.set_ylim([0,None])\n",
    "ax.legend()\n",
    "plt.show()"
   ]
  },
  {
   "cell_type": "code",
   "execution_count": null,
   "id": "72d58bdb-7b3b-4d31-8b75-02f1dfa19efa",
   "metadata": {},
   "outputs": [],
   "source": []
  }
 ],
 "metadata": {
  "kernelspec": {
   "display_name": "Python 3 (ipykernel)",
   "language": "python",
   "name": "python3"
  },
  "language_info": {
   "codemirror_mode": {
    "name": "ipython",
    "version": 3
   },
   "file_extension": ".py",
   "mimetype": "text/x-python",
   "name": "python",
   "nbconvert_exporter": "python",
   "pygments_lexer": "ipython3",
   "version": "3.13.3"
  }
 },
 "nbformat": 4,
 "nbformat_minor": 5
}
