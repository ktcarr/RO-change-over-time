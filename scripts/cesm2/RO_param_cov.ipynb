{
 "cells": [
  {
   "cell_type": "markdown",
   "id": "a3343515-d158-420d-b159-ceffb8ff633a",
   "metadata": {},
   "source": [
    "# RO param. covariance"
   ]
  },
  {
   "cell_type": "code",
   "execution_count": null,
   "id": "e996ad28-9eef-4f0c-a3cc-d0215519c17c",
   "metadata": {},
   "outputs": [],
   "source": [
    "import pandas as pd\n",
    "import matplotlib.pyplot as plt\n",
    "import matplotlib as mpl\n",
    "import cartopy.crs as ccrs\n",
    "import numpy as np\n",
    "import scipy.stats\n",
    "import seaborn as sns\n",
    "import xarray as xr\n",
    "import tqdm\n",
    "import pathlib\n",
    "import cmocean\n",
    "import os\n",
    "import cartopy.util\n",
    "import copy\n",
    "\n",
    "# Import custom modules\n",
    "import src.utils\n",
    "from src.XRO import XRO, xcorr\n",
    "\n",
    "## set plotting specs\n",
    "sns.set(rc={\"axes.facecolor\": \"white\", \"axes.grid\": False})\n",
    "\n",
    "## bump up DPI\n",
    "mpl.rcParams[\"figure.dpi\"] = 100\n",
    "\n",
    "## get filepaths\n",
    "DATA_FP = pathlib.Path(os.environ[\"DATA_FP\"])\n",
    "SAVE_FP = pathlib.Path(os.environ[\"SAVE_FP\"])"
   ]
  },
  {
   "cell_type": "markdown",
   "id": "34cb4844-4f1f-41af-85bf-313bdd7304e6",
   "metadata": {},
   "source": [
    "## Load data"
   ]
  },
  {
   "cell_type": "code",
   "execution_count": null,
   "id": "8514b6c3-3a61-45ae-868b-5e6d5b51d65f",
   "metadata": {},
   "outputs": [],
   "source": [
    "## fits\n",
    "save_fp = pathlib.Path(SAVE_FP, \"fits_cesm\", \"T3_hw_bymember.nc\")\n",
    "fits = xr.open_dataset(save_fp)\n",
    "\n",
    "## Th data\n",
    "Th = src.utils.load_cesm_indices()\n",
    "\n",
    "## omit first year (bc of NaN in h,hw vars)\n",
    "Th = Th.sel(time=slice(\"1851\", None))\n",
    "\n",
    "## standardize (for convenience)\n",
    "Th /= Th.std()\n",
    "\n",
    "## get windowed data (used to estimate change in parameters over time)\n",
    "Th_rolling = src.utils.get_windowed(Th, window_size=480, stride=120)"
   ]
  },
  {
   "cell_type": "markdown",
   "id": "23162c41-46da-431d-acfe-da4c69690d48",
   "metadata": {},
   "source": [
    "## extract param values"
   ]
  },
  {
   "cell_type": "code",
   "execution_count": null,
   "id": "5f9e3d83-15eb-4f51-9040-15b7ed938e84",
   "metadata": {},
   "outputs": [],
   "source": [
    "## specify model\n",
    "MODEL = src.XRO.XRO(ncycle=12, ac_order=3, is_forward=True)\n",
    "\n",
    "## extract parameters\n",
    "params = src.utils.get_params(fits=fits, model=MODEL)\n",
    "\n",
    "## get change from initial period\n",
    "delta_params = params - params.isel(year=0)"
   ]
  },
  {
   "cell_type": "markdown",
   "id": "ed1037a2-cc36-4989-9650-c6fb7bba5e67",
   "metadata": {},
   "source": [
    "## Plot stats"
   ]
  },
  {
   "cell_type": "code",
   "execution_count": null,
   "id": "989e9935-d25f-4c0d-838e-f8b151b65278",
   "metadata": {},
   "outputs": [],
   "source": [
    "def scatter_params(ax, p0, p1, params, **scatter_kwargs):\n",
    "    \"\"\"scatter params on ax object\"\"\"\n",
    "\n",
    "    ## helper func to select data\n",
    "    sel = lambda n: params[n].isel(year=-1).mean(\"cycle\")\n",
    "\n",
    "    ## scatter data\n",
    "    ax.scatter(sel(p0), sel(p1), **scatter_kwargs)\n",
    "\n",
    "    ## title\n",
    "    r = xr.corr(sel(p0), sel(p1)).values.item()\n",
    "    ax.set_title(f\"$r$({p0}, {p1})$=${r:.2f}\")\n",
    "\n",
    "    ## label\n",
    "    ax.set_xlabel(p0)\n",
    "    ax.set_ylabel(p1)\n",
    "\n",
    "    return ax"
   ]
  },
  {
   "cell_type": "code",
   "execution_count": null,
   "id": "31a1e933-3442-4ccc-b7ee-1a311658a117",
   "metadata": {},
   "outputs": [],
   "source": [
    "fig, axs = plt.subplots(1, 4, figsize=(9, 2), layout=\"constrained\")\n",
    "\n",
    "kwargs = dict(params=delta_params, s=15)\n",
    "scatter_params(axs[0], \"R\", \"F1\", **kwargs)\n",
    "scatter_params(axs[1], \"epsilon\", \"F2\", **kwargs)\n",
    "scatter_params(axs[2], \"F1\", \"F2\", **kwargs)\n",
    "scatter_params(axs[3], \"R\", \"epsilon\", **kwargs)\n",
    "\n",
    "ax_kwargs = dict(ls=\"--\", c=\"k\", lw=0.8)\n",
    "for ax in axs:\n",
    "    ax.axhline(0, **ax_kwargs)\n",
    "    ax.axvline(0, **ax_kwargs)\n",
    "\n",
    "plt.show()"
   ]
  },
  {
   "cell_type": "code",
   "execution_count": null,
   "id": "4d657738-e1ae-4dbd-9049-d322fe68cc21",
   "metadata": {},
   "outputs": [],
   "source": []
  }
 ],
 "metadata": {
  "kernelspec": {
   "display_name": "Python 3 (ipykernel)",
   "language": "python",
   "name": "python3"
  },
  "language_info": {
   "codemirror_mode": {
    "name": "ipython",
    "version": 3
   },
   "file_extension": ".py",
   "mimetype": "text/x-python",
   "name": "python",
   "nbconvert_exporter": "python",
   "pygments_lexer": "ipython3",
   "version": "3.13.3"
  }
 },
 "nbformat": 4,
 "nbformat_minor": 5
}
