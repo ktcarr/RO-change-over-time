{
 "cells": [
  {
   "cell_type": "markdown",
   "id": "a3343515-d158-420d-b159-ceffb8ff633a",
   "metadata": {},
   "source": [
    "# RO param. covariance"
   ]
  },
  {
   "cell_type": "code",
   "execution_count": null,
   "id": "e996ad28-9eef-4f0c-a3cc-d0215519c17c",
   "metadata": {},
   "outputs": [],
   "source": [
    "import pandas as pd\n",
    "import matplotlib.pyplot as plt\n",
    "import matplotlib as mpl\n",
    "import cartopy.crs as ccrs\n",
    "import numpy as np\n",
    "import scipy.stats\n",
    "import seaborn as sns\n",
    "import xarray as xr\n",
    "import tqdm\n",
    "import pathlib\n",
    "import cmocean\n",
    "import os\n",
    "import cartopy.util\n",
    "import copy\n",
    "import time\n",
    "\n",
    "# Import custom modules\n",
    "import src.utils\n",
    "from src.XRO import XRO, xcorr\n",
    "\n",
    "## set plotting specs\n",
    "sns.set(rc={\"axes.facecolor\": \"white\", \"axes.grid\": False})\n",
    "\n",
    "## bump up DPI\n",
    "mpl.rcParams[\"figure.dpi\"] = 100\n",
    "\n",
    "## get filepaths\n",
    "DATA_FP = pathlib.Path(os.environ[\"DATA_FP\"])\n",
    "SAVE_FP = pathlib.Path(os.environ[\"SAVE_FP\"])"
   ]
  },
  {
   "cell_type": "markdown",
   "id": "3e53148f-a6df-4ead-b5e6-0e3a0b7d04e0",
   "metadata": {},
   "source": [
    "## Functions"
   ]
  },
  {
   "cell_type": "code",
   "execution_count": null,
   "id": "350af7b1-d7ff-4a61-9592-950124ff8ba3",
   "metadata": {},
   "outputs": [],
   "source": [
    "def format_subsurf_ax(ax):\n",
    "    \"\"\"set up ax for plotting subsurface data\"\"\"\n",
    "\n",
    "    ax.set_ylim(ax.get_ylim()[::-1])\n",
    "    ax.set_xlim([140, 280])\n",
    "    ax.set_yticks([])\n",
    "    ax.set_xlabel(\"Longitude\")\n",
    "    ax.set_yticks([300, 150, 0])\n",
    "    ax.set_ylabel(\"Depth (m)\")\n",
    "\n",
    "    return"
   ]
  },
  {
   "cell_type": "markdown",
   "id": "34cb4844-4f1f-41af-85bf-313bdd7304e6",
   "metadata": {},
   "source": [
    "## Load data"
   ]
  },
  {
   "cell_type": "markdown",
   "id": "d7755347-8bd3-46bd-9276-4d7e7a2dccdf",
   "metadata": {},
   "source": [
    "### T,h, and fits"
   ]
  },
  {
   "cell_type": "code",
   "execution_count": null,
   "id": "8514b6c3-3a61-45ae-868b-5e6d5b51d65f",
   "metadata": {},
   "outputs": [],
   "source": [
    "## fits\n",
    "save_fp = pathlib.Path(SAVE_FP, \"fits_cesm\", \"T3_hw_bymember.nc\")\n",
    "# save_fp = pathlib.Path(SAVE_FP, \"fits_cesm\", \"T3_hwhat_bymember.nc\")\n",
    "fits = xr.open_dataset(save_fp)\n",
    "\n",
    "## Th data\n",
    "Th = src.utils.load_cesm_indices()\n",
    "\n",
    "## omit first year (bc of NaN in h,hw vars)\n",
    "Th = Th.sel(time=slice(\"1851\", None))\n",
    "\n",
    "## standardize (for convenience)\n",
    "Th /= Th.std()\n",
    "\n",
    "## get windowed data (used to estimate change in parameters over time)\n",
    "Th_rolling = src.utils.get_windowed(Th, window_size=480, stride=120)"
   ]
  },
  {
   "cell_type": "markdown",
   "id": "e078220d-939a-4a11-b86c-9e9b9f4cf491",
   "metadata": {},
   "source": [
    "## extract param values"
   ]
  },
  {
   "cell_type": "code",
   "execution_count": null,
   "id": "5f9e3d83-15eb-4f51-9040-15b7ed938e84",
   "metadata": {},
   "outputs": [],
   "source": [
    "## specify model\n",
    "MODEL = src.XRO.XRO(ncycle=12, ac_order=3, is_forward=True)\n",
    "\n",
    "## extract parameters\n",
    "params = src.utils.get_params(fits=fits, model=MODEL)\n",
    "params = params.rename({\"cycle\": \"month\"})\n",
    "\n",
    "## get early/late\n",
    "params_early = params.isel(year=0)\n",
    "params_late = params.isel(year=-1)\n",
    "\n",
    "## get change from initial period\n",
    "delta_params = params_late - params_early"
   ]
  },
  {
   "cell_type": "markdown",
   "id": "33907864-99ee-4c47-ae53-040c92fa6112",
   "metadata": {},
   "source": [
    "### thermocline depth, etc."
   ]
  },
  {
   "cell_type": "code",
   "execution_count": null,
   "id": "511aa9d8-f144-403f-86ee-fefa0d586de8",
   "metadata": {},
   "outputs": [],
   "source": [
    "## load spatial data\n",
    "forced, anom = src.utils.load_consolidated()\n",
    "\n",
    "## specify which variables to look at\n",
    "VARNAMES = [\"T\", \"sst\", \"mld\"]\n",
    "total = []\n",
    "for v in VARNAMES:\n",
    "    total.append(forced[v] + anom[v])\n",
    "    total.append(forced[f\"{v}_comp\"])\n",
    "total = xr.merge(total)"
   ]
  },
  {
   "cell_type": "code",
   "execution_count": null,
   "id": "b19998e4-e1b7-4906-b3dd-671b37ae64bc",
   "metadata": {},
   "outputs": [],
   "source": [
    "## split into early/late periods (to match RO)\n",
    "t_early = dict(time=slice(\"1851\", \"1890\"))\n",
    "t_late = dict(time=slice(\"2061\", \"2100\"))\n",
    "\n",
    "## split surface data\n",
    "total_early = total.sel(t_early).compute()\n",
    "total_late = total.sel(t_late).compute()\n",
    "\n",
    "## reconstruct climatologies\n",
    "clim_early = src.utils.reconstruct_clim(total_early)\n",
    "clim_late = src.utils.reconstruct_clim(total_late)"
   ]
  },
  {
   "cell_type": "markdown",
   "id": "62217f6a-e2e2-424f-9474-fc75ebc2350c",
   "metadata": {},
   "source": [
    "Compute mean state stuff"
   ]
  },
  {
   "cell_type": "code",
   "execution_count": null,
   "id": "d79522b5-d2a2-4c30-b9ad-646924b54ee0",
   "metadata": {},
   "outputs": [],
   "source": [
    "get_dTdx = lambda x: src.utils.get_nino4(x[\"sst\"]) - src.utils.get_nino3(x[\"sst\"])\n",
    "lon_avg = lambda x: x.sel(longitude=slice(120, 210)).mean(\"longitude\")\n",
    "get_H = lambda x: src.utils.get_H_int(x[\"T\"], thresh=0.08)\n",
    "\n",
    "## compute thermocline depth\n",
    "for clim in [clim_early, clim_late]:\n",
    "    clim[\"dTdx\"] = get_dTdx(clim)\n",
    "    clim[\"H\"] = get_H(clim)\n",
    "    clim[\"H_hw\"] = lon_avg(get_H(clim))\n",
    "    clim[\"H_inv\"] = 1 / clim[\"H\"]\n",
    "    clim[\"H_hw_inv\"] = 1 / clim[\"H_hw\"]\n",
    "    clim[\"mld_eq\"] = clim[\"mld\"].mean(\"latitude\")\n",
    "    clim[\"mld_eq_inv\"] = 1 / clim[\"mld_eq\"]\n",
    "\n",
    "## get change in climatology\n",
    "delta_clim = clim_late - clim_early"
   ]
  },
  {
   "cell_type": "markdown",
   "id": "ed1037a2-cc36-4989-9650-c6fb7bba5e67",
   "metadata": {},
   "source": [
    "## Plot stats"
   ]
  },
  {
   "cell_type": "markdown",
   "id": "3ba4b7f7-902a-41e1-bdca-f50f044b5784",
   "metadata": {},
   "source": [
    "### RO parameter covariance"
   ]
  },
  {
   "cell_type": "markdown",
   "id": "ee60178c-1b00-47e9-b60a-e52c33541972",
   "metadata": {},
   "source": [
    "#### Plotting funcs"
   ]
  },
  {
   "cell_type": "code",
   "execution_count": null,
   "id": "989e9935-d25f-4c0d-838e-f8b151b65278",
   "metadata": {},
   "outputs": [],
   "source": [
    "def scatter_params(ax, p0, p1, params, **scatter_kwargs):\n",
    "    \"\"\"scatter params on ax object\"\"\"\n",
    "\n",
    "    ## helper func to select data\n",
    "    sel = lambda n: params[n].mean(\"month\")\n",
    "\n",
    "    ## scatter data\n",
    "    ax.scatter(sel(p0), sel(p1), **scatter_kwargs)\n",
    "\n",
    "    ## title\n",
    "    r = xr.corr(sel(p0), sel(p1)).values.item()\n",
    "    ax.set_title(f\"$r$({p0}, {p1})$=${r:.2f}\")\n",
    "\n",
    "    ## label\n",
    "    ax.set_xlabel(p0)\n",
    "    ax.set_ylabel(p1)\n",
    "\n",
    "    return ax\n",
    "\n",
    "\n",
    "def compare_scatter_params(axs, params, **scatter_kwargs):\n",
    "    \"\"\"comparison plot of parameters\"\"\"\n",
    "\n",
    "    ## shared args\n",
    "    kwargs = dict(params=params, **scatter_kwargs)\n",
    "\n",
    "    ## scatter the parameters\n",
    "    scatter_params(axs[0], \"R\", \"F1\", **kwargs)\n",
    "    scatter_params(axs[1], \"epsilon\", \"F2\", **kwargs)\n",
    "    scatter_params(axs[2], \"F1\", \"F2\", **kwargs)\n",
    "    scatter_params(axs[3], \"R\", \"epsilon\", **kwargs)\n",
    "    scatter_params(axs[4], \"BJ_ac\", \"wyrtki\", **kwargs)\n",
    "\n",
    "    return"
   ]
  },
  {
   "cell_type": "markdown",
   "id": "f2b8cdea-9159-4ae6-b7ed-89f93af234b4",
   "metadata": {},
   "source": [
    "#### make plots"
   ]
  },
  {
   "cell_type": "code",
   "execution_count": null,
   "id": "bafb99a1-e43b-43ff-847a-55b9c8f52bb1",
   "metadata": {},
   "outputs": [],
   "source": [
    "print(f\"Early:\")\n",
    "fig, axs = plt.subplots(1, 5, figsize=(11, 2), layout=\"constrained\")\n",
    "compare_scatter_params(axs, params_early, s=15)\n",
    "plt.show()\n",
    "\n",
    "print(f\"\\n\\nLate:\")\n",
    "fig, axs = plt.subplots(1, 5, figsize=(11, 2), layout=\"constrained\")\n",
    "compare_scatter_params(axs, params_late, s=15)\n",
    "plt.show()\n",
    "\n",
    "print(f\"\\n\\nChange:\")\n",
    "fig, axs = plt.subplots(1, 5, figsize=(11, 2), layout=\"constrained\")\n",
    "compare_scatter_params(axs, delta_params, s=15)\n",
    "ax_kwargs = dict(ls=\"--\", c=\"k\", lw=0.8)\n",
    "for ax in axs:\n",
    "    ax.axhline(0, **ax_kwargs)\n",
    "    ax.axvline(0, **ax_kwargs)\n",
    "\n",
    "plt.show()"
   ]
  },
  {
   "cell_type": "markdown",
   "id": "2eda1930-0c3d-47bf-b929-b219163de8b1",
   "metadata": {},
   "source": [
    "### Mean state and RO param covariance"
   ]
  },
  {
   "cell_type": "code",
   "execution_count": null,
   "id": "f4a5a810-2ac6-43b8-a6f4-be1bf4422994",
   "metadata": {},
   "outputs": [],
   "source": [
    "## param to plot\n",
    "p = \"H_hw_inv\"\n",
    "\n",
    "## how to reduce over months\n",
    "sel = lambda x: x.mean(\"month\")\n",
    "# sel = lambda x : x.sel(month=slice(5,8)).mean(\"month\")\n",
    "\n",
    "fig, axs = plt.subplots(3, 2, figsize=(6, 7.5), layout=\"constrained\")\n",
    "\n",
    "axs[0, 0].scatter(sel(clim_early[p]), sel(params_late[\"BJ_ac\"]))\n",
    "axs[0, 1].scatter(sel(clim_early[p]), sel(params_early[\"wyrtki\"]))\n",
    "\n",
    "axs[1, 0].scatter(sel(clim_late[p]), sel(delta_params[\"BJ_ac\"]))\n",
    "axs[1, 1].scatter(sel(clim_late[p]), sel(delta_params[\"wyrtki\"]))\n",
    "\n",
    "axs[2, 0].scatter(sel(delta_clim[p]), sel(delta_params[\"BJ_ac\"]))\n",
    "axs[2, 1].scatter(sel(delta_clim[p]), sel(delta_params[\"wyrtki\"]))\n",
    "\n",
    "axs[0, 0].set_title(\"BJ\")\n",
    "axs[0, 1].set_title(\"Wyrtki\")\n",
    "axs[-1, 0].set_xlabel(p)\n",
    "axs[-1, 1].set_xlabel(p)\n",
    "\n",
    "axs[0, 1].set_ylabel(\"early\")\n",
    "axs[1, 1].set_ylabel(\"late\")\n",
    "axs[2, 1].set_ylabel(\"Change\")\n",
    "\n",
    "for ax in axs[:, 1]:\n",
    "    ax.yaxis.set_label_position(\"right\")\n",
    "\n",
    "plt.show()"
   ]
  },
  {
   "cell_type": "markdown",
   "id": "b3289c82-56dd-4c54-b96d-7aef334c058a",
   "metadata": {},
   "source": [
    "### Plot mean state correlation with param change"
   ]
  },
  {
   "cell_type": "code",
   "execution_count": null,
   "id": "8c70552a-bbbf-4a28-82e4-3f60213d97cf",
   "metadata": {},
   "outputs": [],
   "source": [
    "# sel = lambda x : x.sel(month=5)\n",
    "sel = lambda x: x.mean(\"month\")\n",
    "\n",
    "## compute\n",
    "corr_BJ = xr.corr(\n",
    "    # delta_clim[\"T\"].mean(\"month\"),\n",
    "    sel(delta_clim[\"T\"]),\n",
    "    delta_params[\"BJ_ac\"].mean(\"month\"),\n",
    "    dim=\"member\",\n",
    ")\n",
    "\n",
    "corr_wyrtki = xr.corr(\n",
    "    sel(delta_clim[\"T\"]), delta_params[\"wyrtki\"].mean(\"month\"), dim=\"member\"\n",
    ")\n",
    "\n",
    "## plot\n",
    "fig, axs = plt.subplots(1, 2, figsize=(8, 3), layout=\"constrained\")\n",
    "\n",
    "## kwargs for plotting\n",
    "plot_kwargs = dict(levels=src.utils.make_cb_range(0.6, 0.06), cmap=\"cmo.balance\")\n",
    "\n",
    "for ax, corr in zip(axs, [corr_BJ, corr_wyrtki]):\n",
    "\n",
    "    cp = ax.contourf(\n",
    "        delta_clim.longitude,\n",
    "        delta_clim.z_t,\n",
    "        corr,\n",
    "        **plot_kwargs,\n",
    "    )\n",
    "\n",
    "    ax.plot(\n",
    "        clim_early.longitude, sel(clim_early[\"mld_eq\"]).mean(\"member\"), c=\"k\", ls=\"--\"\n",
    "    )\n",
    "    ax.plot(clim_early.longitude, sel(clim_early[\"H\"]).mean(\"member\"), c=\"k\")\n",
    "\n",
    "for ax in axs:\n",
    "    format_subsurf_ax(ax)\n",
    "axs[1].set_yticks([])\n",
    "axs[1].set_ylabel(None)\n",
    "fig.colorbar(cp, ax=axs[1], label=\"corr\", ticks=[-0.6, 0, 0.6])\n",
    "plt.show()"
   ]
  },
  {
   "cell_type": "code",
   "execution_count": null,
   "id": "40971f80-7c1c-4dc6-8363-fdae8511c333",
   "metadata": {},
   "outputs": [],
   "source": [
    "# sel = lambda x : x.sel(month=6)\n",
    "sel = lambda x: x.mean(\"month\")\n",
    "\n",
    "## compute\n",
    "corr_BJ = xr.corr(\n",
    "    # delta_clim[\"T\"].mean(\"month\"),\n",
    "    sel(delta_clim[\"sst\"]),\n",
    "    delta_params[\"BJ_ac\"].mean(\"month\"),\n",
    "    dim=\"member\",\n",
    ")\n",
    "\n",
    "corr_wyrtki = xr.corr(\n",
    "    sel(delta_clim[\"sst\"]), delta_params[\"wyrtki\"].mean(\"month\"), dim=\"member\"\n",
    ")\n",
    "\n",
    "fig = plt.figure(figsize=(6, 10 / 3), layout=\"constrained\")\n",
    "axs = src.utils.subplots_with_proj(\n",
    "    fig, nrows=2, ncols=1, format_func=src.utils.plot_setup_pac\n",
    ")\n",
    "\n",
    "## kwargs for plotting\n",
    "plot_kwargs = dict(\n",
    "    levels=src.utils.make_cb_range(0.6, 0.06),\n",
    "    cmap=\"cmo.balance\",\n",
    "    transform=ccrs.PlateCarree(),\n",
    ")\n",
    "\n",
    "for ax, corr in zip(axs.flatten(), [corr_BJ, corr_wyrtki]):\n",
    "\n",
    "    cp = ax.contourf(\n",
    "        delta_clim.longitude,\n",
    "        delta_clim.latitude,\n",
    "        corr,\n",
    "        **plot_kwargs,\n",
    "    )\n",
    "\n",
    "\n",
    "plt.show()"
   ]
  },
  {
   "cell_type": "code",
   "execution_count": null,
   "id": "72d57403-2edb-493c-a9f1-582ac65cb47f",
   "metadata": {},
   "outputs": [],
   "source": [
    "# sel = lambda x : x.sel(month=4)\n",
    "sel = lambda x: x.mean(\"month\")\n",
    "\n",
    "## compute\n",
    "corr_BJ = xr.corr(\n",
    "    # delta_clim[\"T\"].mean(\"month\"),\n",
    "    sel(delta_clim[\"H_inv\"]),\n",
    "    delta_params[\"BJ_ac\"].mean(\"month\"),\n",
    "    dim=\"member\",\n",
    ")\n",
    "\n",
    "corr_wyrtki = xr.corr(\n",
    "    sel(delta_clim[\"H_inv\"]), delta_params[\"wyrtki\"].mean(\"month\"), dim=\"member\"\n",
    ")\n",
    "\n",
    "fig, axs = plt.subplots(2, 1, figsize=(3, 4.5), layout=\"constrained\")\n",
    "\n",
    "axs[0].plot(delta_clim.longitude, corr_BJ)\n",
    "axs[1].plot(delta_clim.longitude, corr_wyrtki)\n",
    "\n",
    "plt.show()"
   ]
  }
 ],
 "metadata": {
  "kernelspec": {
   "display_name": "Python [conda env:envs]",
   "language": "python",
   "name": "conda-env-envs-py"
  },
  "language_info": {
   "codemirror_mode": {
    "name": "ipython",
    "version": 3
   },
   "file_extension": ".py",
   "mimetype": "text/x-python",
   "name": "python",
   "nbconvert_exporter": "python",
   "pygments_lexer": "ipython3",
   "version": "3.13.5"
  }
 },
 "nbformat": 4,
 "nbformat_minor": 5
}
