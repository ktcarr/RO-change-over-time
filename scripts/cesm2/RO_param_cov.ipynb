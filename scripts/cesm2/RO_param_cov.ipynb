{
 "cells": [
  {
   "cell_type": "markdown",
   "id": "a3343515-d158-420d-b159-ceffb8ff633a",
   "metadata": {},
   "source": [
    "# RO param. covariance"
   ]
  },
  {
   "cell_type": "code",
   "execution_count": null,
   "id": "e996ad28-9eef-4f0c-a3cc-d0215519c17c",
   "metadata": {},
   "outputs": [],
   "source": [
    "import pandas as pd\n",
    "import matplotlib.pyplot as plt\n",
    "import matplotlib as mpl\n",
    "import cartopy.crs as ccrs\n",
    "import numpy as np\n",
    "import scipy.stats\n",
    "import seaborn as sns\n",
    "import xarray as xr\n",
    "import tqdm\n",
    "import pathlib\n",
    "import cmocean\n",
    "import os\n",
    "import cartopy.util\n",
    "import copy\n",
    "import time\n",
    "\n",
    "# Import custom modules\n",
    "import src.utils\n",
    "from src.XRO import XRO, xcorr\n",
    "\n",
    "## set plotting specs\n",
    "sns.set(rc={\"axes.facecolor\": \"white\", \"axes.grid\": False})\n",
    "\n",
    "## bump up DPI\n",
    "mpl.rcParams[\"figure.dpi\"] = 100\n",
    "\n",
    "## get filepaths\n",
    "DATA_FP = pathlib.Path(os.environ[\"DATA_FP\"])\n",
    "SAVE_FP = pathlib.Path(os.environ[\"SAVE_FP\"])"
   ]
  },
  {
   "cell_type": "markdown",
   "id": "3e53148f-a6df-4ead-b5e6-0e3a0b7d04e0",
   "metadata": {},
   "source": [
    "## Functions"
   ]
  },
  {
   "cell_type": "code",
   "execution_count": null,
   "id": "350af7b1-d7ff-4a61-9592-950124ff8ba3",
   "metadata": {},
   "outputs": [],
   "source": [
    "# ## specify which variables to look at\n",
    "# VARNAMES = [\"T\"]\n",
    "# total = []\n",
    "# for v in VARNAMES:\n",
    "#     total.append(forced[v] + anom[v])\n",
    "#     total.append(forced[f\"{v}_comp\"])\n",
    "# total = xr.merge(total)"
   ]
  },
  {
   "cell_type": "markdown",
   "id": "34cb4844-4f1f-41af-85bf-313bdd7304e6",
   "metadata": {},
   "source": [
    "## Load data"
   ]
  },
  {
   "cell_type": "markdown",
   "id": "d7755347-8bd3-46bd-9276-4d7e7a2dccdf",
   "metadata": {},
   "source": [
    "### T,h, and fits"
   ]
  },
  {
   "cell_type": "code",
   "execution_count": null,
   "id": "8514b6c3-3a61-45ae-868b-5e6d5b51d65f",
   "metadata": {},
   "outputs": [],
   "source": [
    "## fits\n",
    "save_fp = pathlib.Path(SAVE_FP, \"fits_cesm\", \"T3_hw_bymember.nc\")\n",
    "# save_fp = pathlib.Path(SAVE_FP, \"fits_cesm\", \"T3_hwhat_bymember.nc\")\n",
    "fits = xr.open_dataset(save_fp)\n",
    "\n",
    "## Th data\n",
    "Th = src.utils.load_cesm_indices()\n",
    "\n",
    "## omit first year (bc of NaN in h,hw vars)\n",
    "Th = Th.sel(time=slice(\"1851\", None))\n",
    "\n",
    "## standardize (for convenience)\n",
    "Th /= Th.std()\n",
    "\n",
    "## get windowed data (used to estimate change in parameters over time)\n",
    "Th_rolling = src.utils.get_windowed(Th, window_size=480, stride=120)"
   ]
  },
  {
   "cell_type": "markdown",
   "id": "33907864-99ee-4c47-ae53-040c92fa6112",
   "metadata": {},
   "source": [
    "### thermocline depth, etc."
   ]
  },
  {
   "cell_type": "code",
   "execution_count": null,
   "id": "e4f57524-50ae-4304-9788-43414434aa8a",
   "metadata": {},
   "outputs": [],
   "source": [
    "## load spatial data\n",
    "_, anom = src.utils.load_consolidated()\n",
    "\n",
    "## specify which variables to look at\n",
    "VARNAMES = [\"T\"]\n",
    "total = []\n",
    "for v in VARNAMES:\n",
    "    total.append(forced[v] + anom[v])\n",
    "    total.append(forced[f\"{v}_comp\"])\n",
    "total = xr.merge(total)\n",
    "\n",
    "## split into early/late periods\n",
    "t_early = dict(time=slice(\"1851\", \"1880\"))\n",
    "t_late = dict(time=slice(\"2071\", \"2100\"))\n",
    "\n",
    "## split surface data\n",
    "total_early = total.sel(t_early).compute()\n",
    "total_late = total.sel(t_late).compute()"
   ]
  },
  {
   "cell_type": "markdown",
   "id": "442dd39a-f11d-4646-b9a6-25a719481ad1",
   "metadata": {},
   "source": [
    "Compute climatology for each ensemble member (note: this is slow if doing \"bymonth\")"
   ]
  },
  {
   "cell_type": "code",
   "execution_count": null,
   "id": "45fc34db-7d5b-4550-b5a0-0b2aa6451ea4",
   "metadata": {},
   "outputs": [],
   "source": [
    "t0 = time.time()\n",
    "# clim_early = src.utils.reconstruct_clim(total_early)\n",
    "# clim_late = src.utils.reconstruct_clim(total_late)\n",
    "clim_early = src.utils.reconstruct_wrapper(total_early.mean(\"time\"))\n",
    "clim_late = src.utils.reconstruct_wrapper(total_late.mean(\"time\"))\n",
    "t1 = time.time()\n",
    "print(f\"Elapsed time: {t1-t0:.2f} seconds\")"
   ]
  },
  {
   "cell_type": "code",
   "execution_count": null,
   "id": "1acbb552-510d-49b4-8421-884a791cdd4b",
   "metadata": {},
   "outputs": [],
   "source": [
    "## get change in H\n",
    "H_early = src.utils.get_H_int(clim_early[\"T\"], thresh=0.08)\n",
    "H_late = src.utils.get_H_int(clim_late[\"T\"], thresh=0.08)\n",
    "# H_early = src.utils.get_H(clim_early[\"T\"])\n",
    "# H_late = src.utils.get_H(clim_late[\"T\"])\n",
    "delta_H = H_late - H_early"
   ]
  },
  {
   "cell_type": "markdown",
   "id": "23162c41-46da-431d-acfe-da4c69690d48",
   "metadata": {},
   "source": [
    "## extract param values"
   ]
  },
  {
   "cell_type": "code",
   "execution_count": null,
   "id": "5f9e3d83-15eb-4f51-9040-15b7ed938e84",
   "metadata": {},
   "outputs": [],
   "source": [
    "## specify model\n",
    "MODEL = src.XRO.XRO(ncycle=12, ac_order=3, is_forward=True)\n",
    "\n",
    "## extract parameters\n",
    "params = src.utils.get_params(fits=fits, model=MODEL)\n",
    "\n",
    "## get change from initial period\n",
    "delta_params = params - params.isel(year=0)"
   ]
  },
  {
   "cell_type": "markdown",
   "id": "ed1037a2-cc36-4989-9650-c6fb7bba5e67",
   "metadata": {},
   "source": [
    "## Plot stats"
   ]
  },
  {
   "cell_type": "markdown",
   "id": "3ba4b7f7-902a-41e1-bdca-f50f044b5784",
   "metadata": {},
   "source": [
    "### RO parameter covariance"
   ]
  },
  {
   "cell_type": "markdown",
   "id": "ee60178c-1b00-47e9-b60a-e52c33541972",
   "metadata": {},
   "source": [
    "#### Plotting funcs"
   ]
  },
  {
   "cell_type": "code",
   "execution_count": null,
   "id": "989e9935-d25f-4c0d-838e-f8b151b65278",
   "metadata": {},
   "outputs": [],
   "source": [
    "def scatter_params(ax, p0, p1, params, **scatter_kwargs):\n",
    "    \"\"\"scatter params on ax object\"\"\"\n",
    "\n",
    "    ## helper func to select data\n",
    "    sel = lambda n: params[n].mean(\"cycle\")\n",
    "\n",
    "    ## scatter data\n",
    "    ax.scatter(sel(p0), sel(p1), **scatter_kwargs)\n",
    "\n",
    "    ## title\n",
    "    r = xr.corr(sel(p0), sel(p1)).values.item()\n",
    "    ax.set_title(f\"$r$({p0}, {p1})$=${r:.2f}\")\n",
    "\n",
    "    ## label\n",
    "    ax.set_xlabel(p0)\n",
    "    ax.set_ylabel(p1)\n",
    "\n",
    "    return ax\n",
    "\n",
    "\n",
    "def compare_scatter_params(axs, params, **scatter_kwargs):\n",
    "    \"\"\"comparison plot of parameters\"\"\"\n",
    "\n",
    "    ## shared args\n",
    "    kwargs = dict(params=params, **scatter_kwargs)\n",
    "\n",
    "    ## scatter the parameters\n",
    "    scatter_params(axs[0], \"R\", \"F1\", **kwargs)\n",
    "    scatter_params(axs[1], \"epsilon\", \"F2\", **kwargs)\n",
    "    scatter_params(axs[2], \"F1\", \"F2\", **kwargs)\n",
    "    scatter_params(axs[3], \"R\", \"epsilon\", **kwargs)\n",
    "    scatter_params(axs[4], \"BJ_ac\", \"wyrtki\", **kwargs)\n",
    "\n",
    "    return"
   ]
  },
  {
   "cell_type": "markdown",
   "id": "f2b8cdea-9159-4ae6-b7ed-89f93af234b4",
   "metadata": {},
   "source": [
    "#### make plots"
   ]
  },
  {
   "cell_type": "code",
   "execution_count": null,
   "id": "bafb99a1-e43b-43ff-847a-55b9c8f52bb1",
   "metadata": {},
   "outputs": [],
   "source": [
    "print(f\"Early:\")\n",
    "fig, axs = plt.subplots(1, 5, figsize=(11, 2), layout=\"constrained\")\n",
    "compare_scatter_params(axs, params.isel(year=0), s=15)\n",
    "plt.show()\n",
    "\n",
    "print(f\"\\n\\nLate:\")\n",
    "fig, axs = plt.subplots(1, 5, figsize=(11, 2), layout=\"constrained\")\n",
    "compare_scatter_params(axs, params.isel(year=-1), s=15)\n",
    "plt.show()\n",
    "\n",
    "print(f\"\\n\\nChange:\")\n",
    "fig, axs = plt.subplots(1, 5, figsize=(11, 2), layout=\"constrained\")\n",
    "compare_scatter_params(axs, delta_params.isel(year=-1), s=15)\n",
    "ax_kwargs = dict(ls=\"--\", c=\"k\", lw=0.8)\n",
    "for ax in axs:\n",
    "    ax.axhline(0, **ax_kwargs)\n",
    "    ax.axvline(0, **ax_kwargs)\n",
    "\n",
    "plt.show()"
   ]
  },
  {
   "cell_type": "markdown",
   "id": "2eda1930-0c3d-47bf-b929-b219163de8b1",
   "metadata": {},
   "source": [
    "### Mean state and RO param covariance"
   ]
  },
  {
   "cell_type": "code",
   "execution_count": null,
   "id": "7f5c1434-9e7f-4b15-9ca2-8166742d38b2",
   "metadata": {},
   "outputs": [],
   "source": [
    "xr.corr(\n",
    "    params[\"F2\"].isel(year=0).mean(\"cycle\"),\n",
    "    H_early.sel(longitude=slice(190, 240)).mean(\"longitude\"),\n",
    ")"
   ]
  },
  {
   "cell_type": "code",
   "execution_count": null,
   "id": "c1d3e261-f742-42ab-b8ee-68e4c4aac43c",
   "metadata": {},
   "outputs": [],
   "source": [
    "fig, ax = plt.subplots(figsize=(2.5, 2.5))\n",
    "\n",
    "ax.scatter(\n",
    "    params[\"xi_h\"].isel(year=0).mean(\"cycle\"),\n",
    "    H_early.sel(longitude=slice(190, 240)).mean(\"longitude\"),\n",
    ")\n",
    "\n",
    "plt.show()"
   ]
  },
  {
   "cell_type": "code",
   "execution_count": null,
   "id": "a094ab89-4cfa-4ab5-a24b-72eda84212be",
   "metadata": {},
   "outputs": [],
   "source": [
    "fig, ax = plt.subplots(figsize=(2.5, 2.5))\n",
    "\n",
    "ax.scatter(\n",
    "    delta_params[\"xi_T\"].isel(year=-1).mean(\"cycle\"),\n",
    "    delta_H.sel(longitude=slice(190, 240)).mean(\"longitude\"),\n",
    ")\n",
    "\n",
    "plt.show()"
   ]
  },
  {
   "cell_type": "code",
   "execution_count": null,
   "id": "8c70552a-bbbf-4a28-82e4-3f60213d97cf",
   "metadata": {},
   "outputs": [],
   "source": []
  }
 ],
 "metadata": {
  "kernelspec": {
   "display_name": "Python 3 (ipykernel)",
   "language": "python",
   "name": "python3"
  },
  "language_info": {
   "codemirror_mode": {
    "name": "ipython",
    "version": 3
   },
   "file_extension": ".py",
   "mimetype": "text/x-python",
   "name": "python",
   "nbconvert_exporter": "python",
   "pygments_lexer": "ipython3",
   "version": "3.13.3"
  }
 },
 "nbformat": 4,
 "nbformat_minor": 5
}
