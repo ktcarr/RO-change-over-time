{
 "cells": [
  {
   "cell_type": "markdown",
   "id": "37c3f22b-cfd4-4db2-83fd-0beb3bd950f8",
   "metadata": {},
   "source": [
    "# Spaghetti\n",
    "Make spaghetti plots for ENSO events"
   ]
  },
  {
   "cell_type": "markdown",
   "id": "49541ccb-b69e-4b04-b712-3a64f1e69aa1",
   "metadata": {},
   "source": [
    "## Imports"
   ]
  },
  {
   "cell_type": "code",
   "execution_count": null,
   "id": "90ad3eb1-1852-418b-a20d-a1a1d08aa8ca",
   "metadata": {},
   "outputs": [],
   "source": [
    "import matplotlib.pyplot as plt\n",
    "import cartopy.crs as ccrs\n",
    "import matplotlib as mpl\n",
    "import numpy as np\n",
    "import seaborn as sns\n",
    "import xarray as xr\n",
    "import tqdm\n",
    "import pathlib\n",
    "import cmocean\n",
    "import os\n",
    "import copy\n",
    "import pandas as pd\n",
    "\n",
    "# Import custom modules\n",
    "import src.utils\n",
    "\n",
    "## set plotting specs\n",
    "sns.set(rc={\"axes.facecolor\": \"white\", \"axes.grid\": False})\n",
    "\n",
    "## bump up DPI\n",
    "mpl.rcParams[\"figure.dpi\"] = 100\n",
    "\n",
    "## get filepaths\n",
    "DATA_FP = pathlib.Path(os.environ[\"DATA_FP\"])\n",
    "SAVE_FP = pathlib.Path(os.environ[\"SAVE_FP\"])"
   ]
  },
  {
   "cell_type": "markdown",
   "id": "98abffa8-7ccd-4b33-9cc8-13acd006984a",
   "metadata": {},
   "source": [
    "## Funcs"
   ]
  },
  {
   "cell_type": "code",
   "execution_count": null,
   "id": "4354960e-2049-4644-b2f6-58d0337c14c9",
   "metadata": {},
   "outputs": [],
   "source": [
    "def get_spaghetti(idx, data, peak_month, event_type=None, q=0.95, is_warm=True):\n",
    "    \"\"\"\n",
    "    Get hovmoller composite based on specified:\n",
    "    - data: used to compute index/make composite\n",
    "    - peak_month: month to center composite on\n",
    "    - q: quantile threshold for composite\n",
    "    \"\"\"\n",
    "\n",
    "    ## handle warm/cold case\n",
    "    if is_warm:\n",
    "        kwargs = dict(q=q, check_cutoff=lambda x, cut: x > cut)\n",
    "    else:\n",
    "        kwargs = dict(q=1 - q, check_cutoff=lambda x, cut: x < cut)\n",
    "\n",
    "    ## kwargs for composite\n",
    "    kwargs = dict(\n",
    "        kwargs,\n",
    "        avg=False,\n",
    "        peak_month=peak_month,\n",
    "        idx=idx,\n",
    "        data=data,\n",
    "        event_type=event_type,\n",
    "    )\n",
    "\n",
    "    ## composite of projected data\n",
    "    spag = src.utils.make_composite(**kwargs)\n",
    "\n",
    "    return spag"
   ]
  },
  {
   "cell_type": "markdown",
   "id": "5e742dbf-9f2f-46cc-8723-893c3193519f",
   "metadata": {},
   "source": [
    "## Load data"
   ]
  },
  {
   "cell_type": "markdown",
   "id": "97486f9f-1459-496c-b3a8-d12218fb3126",
   "metadata": {},
   "source": [
    "### T, h"
   ]
  },
  {
   "cell_type": "code",
   "execution_count": null,
   "id": "296233e4-03d3-44b6-bc8d-37011f2303a2",
   "metadata": {},
   "outputs": [],
   "source": [
    "## fits\n",
    "\n",
    "## Th data\n",
    "Th = src.utils.load_cesm_indices(load_z20=True)\n",
    "\n",
    "## omit first year (bc of NaN in h,hw vars)\n",
    "Th = Th.sel(time=slice(\"1851\", None))\n",
    "\n",
    "## standardize (for convenience)\n",
    "Th /= Th.std()\n",
    "\n",
    "## get windowed data (used to estimate change in parameters over time)\n",
    "Th_rolling = src.utils.get_windowed(Th, window_size=480, stride=120)\n",
    "\n",
    "## get h_e\n",
    "Th_rolling[\"h_e\"] = Th_rolling[\"h\"] - Th_rolling[\"h_w\"]\n",
    "\n",
    "## remove T dependence on h\n",
    "Th_rolling[\"h_w_hat\"] = src.utils.remove_sst_dependence_v2(\n",
    "    Th_rolling,\n",
    "    T_var=\"T_3\",\n",
    "    h_var=\"h_w\",\n",
    "    dims=[\"time\", \"member\"],\n",
    ")\n",
    "\n",
    "Th_rolling[\"h_w_z20_hat\"] = src.utils.remove_sst_dependence_v2(\n",
    "    Th_rolling,\n",
    "    T_var=\"T_34\",\n",
    "    h_var=\"h_w_z20\",\n",
    "    dims=[\"time\", \"member\"],\n",
    ")"
   ]
  },
  {
   "cell_type": "markdown",
   "id": "31a01a59-11c1-40c3-9420-4910ae9b1d98",
   "metadata": {},
   "source": [
    "### Fits"
   ]
  },
  {
   "cell_type": "code",
   "execution_count": null,
   "id": "0f71731f-6baa-44d0-b1b1-7443c690944d",
   "metadata": {},
   "outputs": [],
   "source": [
    "## specify variables\n",
    "T_VAR = \"T_34\"\n",
    "H_VAR = \"h_w_z20_hat\"\n",
    "\n",
    "## get name of file\n",
    "if T_VAR == \"T_34\":\n",
    "    if H_VAR == \"h\":\n",
    "        fname = \"T34_h.nc\"\n",
    "    elif H_VAR == \"h_w\":\n",
    "        fname = \"T34_hw_bymember.nc\"\n",
    "    elif H_VAR == \"h_w_z20\":\n",
    "        fname = \"T34_hw_z20\"\n",
    "    elif H_VAR == \"h_w_z20_hat\":\n",
    "        fname = \"T34_hw_z20_hat_nsr\"\n",
    "\n",
    "else:\n",
    "    if H_VAR == \"h_w\":\n",
    "        fname = \"T3_hw_bymember.nc\"\n",
    "    elif H_VAR == \"h_w_hat\":\n",
    "        fname = \"T3_hwhat_bymember.nc\"\n",
    "    elif H_VAR == \"h_w_z20\":\n",
    "        fname = \"T3_hw_z20\"\n",
    "\n",
    "## get filepath\n",
    "save_fp = pathlib.Path(SAVE_FP, \"fits_cesm\", fname)\n",
    "fits = xr.open_dataset(save_fp)\n",
    "\n",
    "## compute params\n",
    "model = src.XRO.XRO(ncycle=12, ac_order=3, is_forward=True)\n",
    "params = model.get_RO_parameters(fits)\n",
    "\n",
    "## ensemble avg if necessary\n",
    "if \"member\" in params.dims:\n",
    "    params = params.mean(\"member\")\n",
    "\n",
    "## convert to composite lags\n",
    "months = 1 + np.mod(np.arange(12, 37) - 1, 12)\n",
    "params = xr.concat(\n",
    "    [params.sel(cycle=m) for m in months],\n",
    "    dim=pd.Index(np.arange(-12, 13), name=\"lag\"),\n",
    ")"
   ]
  },
  {
   "cell_type": "markdown",
   "id": "a2726ece-3538-419c-8bde-e440328fe758",
   "metadata": {},
   "source": [
    "### Early and late"
   ]
  },
  {
   "cell_type": "code",
   "execution_count": null,
   "id": "ed94b10e-bcf9-4c7b-b82a-2400d8a32316",
   "metadata": {},
   "outputs": [],
   "source": [
    "## get early and late\n",
    "Th_early = Th_rolling.isel(year=0)\n",
    "Th_late = Th_rolling.isel(year=-1)\n",
    "params_early = params.isel(year=0)\n",
    "params_late = params.isel(year=-1)"
   ]
  },
  {
   "cell_type": "markdown",
   "id": "054f8a65-600a-4a43-b9e8-1fe08c08e733",
   "metadata": {},
   "source": [
    "## compute spaghetti/composite"
   ]
  },
  {
   "cell_type": "code",
   "execution_count": null,
   "id": "e0d084e0-7dac-4e19-86e8-93f77ea734df",
   "metadata": {},
   "outputs": [],
   "source": [
    "## specify composite specs\n",
    "comp_kwargs = dict(\n",
    "    is_warm=False,\n",
    "    event_type=1,\n",
    "    peak_month=12,\n",
    "    q=0.95,\n",
    ")\n",
    "\n",
    "## specify variable to use for composite\n",
    "VARNAME = \"T_34\"\n",
    "\n",
    "## do the compute\n",
    "spag_early = get_spaghetti(idx=Th_early[VARNAME], data=Th_early, **comp_kwargs)\n",
    "spag_late = get_spaghetti(idx=Th_late[VARNAME], data=Th_late, **comp_kwargs)\n",
    "\n",
    "## get composites\n",
    "comp_early = spag_early.mean(\"sample\")\n",
    "comp_late = spag_late.mean(\"sample\")"
   ]
  },
  {
   "cell_type": "markdown",
   "id": "d96dd89a-1c6e-4ca2-96fa-f0532b7f71ee",
   "metadata": {},
   "source": [
    "## plots"
   ]
  },
  {
   "cell_type": "markdown",
   "id": "69b1998e-84ad-46ae-8648-441d37bd1315",
   "metadata": {},
   "source": [
    "### Mean"
   ]
  },
  {
   "cell_type": "markdown",
   "id": "804f07cc-f441-4887-893c-8b681a9c8f5c",
   "metadata": {},
   "source": [
    "#### T, h"
   ]
  },
  {
   "cell_type": "code",
   "execution_count": null,
   "id": "1ddb6379-79ac-490c-8ee3-3a28b79d90d8",
   "metadata": {},
   "outputs": [],
   "source": [
    "fig, axs = plt.subplots(1, 2, figsize=(6, 2.5), layout=\"constrained\")\n",
    "\n",
    "for ax, v in zip(axs, [T_VAR, H_VAR]):\n",
    "    for comp, l in zip([comp_early, comp_late], [\"early\", \"late\"]):\n",
    "        ax.plot(comp.lag, comp[v], label=l)\n",
    "\n",
    "    ## formatting\n",
    "    f_kwargs = dict(ls=\"--\", c=\"k\", lw=0.8)\n",
    "    ax.axhline(0, **f_kwargs)\n",
    "    ax.axvline(0, **f_kwargs)\n",
    "    ax.set_xlabel(\"Lag (months)\")\n",
    "    ax.axvline(6, c=\"gray\", lw=0.5)\n",
    "    ax.set_xticks([-12, 0, 6, 12])\n",
    "\n",
    "## formattings\n",
    "axs[0].set_title(T_VAR)\n",
    "axs[1].set_title(H_VAR)\n",
    "axs[1].set_ylabel(\"m\")\n",
    "axs[0].set_ylabel(\"K\")\n",
    "axs[1].legend(prop=dict(size=8))\n",
    "axs[1].yaxis.set_label_position(\"right\")\n",
    "axs[1].yaxis.tick_right()\n",
    "\n",
    "plt.show()"
   ]
  },
  {
   "cell_type": "markdown",
   "id": "c99d38df-f469-4ced-bfe9-b89e17fcacd7",
   "metadata": {},
   "source": [
    "#### $\\frac{dh}{dt}$ terms"
   ]
  },
  {
   "cell_type": "markdown",
   "id": "7ff783e3-b217-42f6-848a-fdc0e00fa99f",
   "metadata": {},
   "source": [
    "##### early v. late"
   ]
  },
  {
   "cell_type": "code",
   "execution_count": null,
   "id": "bd759dac-de86-4938-8898-749c1f69a861",
   "metadata": {},
   "outputs": [],
   "source": [
    "fig, axs = plt.subplots(1, 2, figsize=(6, 2.5), layout=\"constrained\")\n",
    "\n",
    "for (\n",
    "    ax,\n",
    "    v,\n",
    "    n,\n",
    ") in zip(axs, [\"F2\", \"epsilon\"], [T_VAR, H_VAR]):\n",
    "    for comp, params_, l in zip(\n",
    "        [comp_early, comp_late],\n",
    "        [params_early, params_late],\n",
    "        [\"early\", \"late\"],\n",
    "    ):\n",
    "\n",
    "        ax.plot(comp.lag, -comp[n] * params_[v], label=l)\n",
    "\n",
    "    ## formatting\n",
    "    f_kwargs = dict(ls=\"--\", c=\"k\", lw=0.8)\n",
    "    ax.axhline(0, **f_kwargs)\n",
    "    ax.axvline(0, **f_kwargs)\n",
    "    ax.set_xlabel(\"Lag (months)\")\n",
    "    ax.axvline(6, c=\"gray\", lw=0.5)\n",
    "    ax.set_xticks([-12, 0, 6, 12])\n",
    "\n",
    "## formattings\n",
    "axs[0].set_title(r\"Recharge ($-F_2 \\cdot T$)\")\n",
    "axs[1].set_title(r\"Damping ($-\\varepsilon \\cdot h$)\")\n",
    "# axs[1].set_ylabel(\"\")/)\n",
    "axs[1].legend(prop=dict(size=8))\n",
    "axs[1].yaxis.set_label_position(\"right\")\n",
    "axs[1].yaxis.tick_right()\n",
    "src.utils.set_lims(axs)\n",
    "\n",
    "plt.show()"
   ]
  },
  {
   "cell_type": "markdown",
   "id": "8d928589-b348-4b6b-af2e-9da84817ebc1",
   "metadata": {},
   "source": [
    "##### recharge vs damping"
   ]
  },
  {
   "cell_type": "code",
   "execution_count": null,
   "id": "3720181c-ee9b-4e0a-97dc-2e753d8146f6",
   "metadata": {
    "jupyter": {
     "source_hidden": true
    }
   },
   "outputs": [],
   "source": [
    "fig, axs = plt.subplots(1, 2, figsize=(6, 2.5), layout=\"constrained\")\n",
    "\n",
    "for ax, comp, params_, c in zip(\n",
    "    axs,\n",
    "    [comp_early, comp_late],\n",
    "    [params_early, params_late],\n",
    "    sns.color_palette()[:2],\n",
    "):\n",
    "\n",
    "    for v, n, ls, l in zip(\n",
    "        [\"F2\", \"epsilon\"], [T_VAR, H_VAR], [\"-\", \"--\"], [\"discharge\", \"damping\"]\n",
    "    ):\n",
    "\n",
    "        ax.plot(comp.lag, -comp[n] * params_[v], ls=ls, c=c, label=l)\n",
    "\n",
    "    ## formatting\n",
    "    f_kwargs = dict(ls=\"--\", c=\"k\", lw=0.8)\n",
    "    ax.axhline(0, **f_kwargs)\n",
    "    ax.axvline(0, **f_kwargs)\n",
    "    ax.set_xlabel(\"Lag (months)\")\n",
    "    ax.axvline(6, c=\"gray\", lw=0.5)\n",
    "    ax.set_xticks([-12, 0, 6, 12])\n",
    "\n",
    "## formattings\n",
    "axs[0].set_title(r\"Early\")\n",
    "axs[1].set_title(r\"Late\")\n",
    "axs[1].yaxis.set_label_position(\"right\")\n",
    "axs[1].yaxis.tick_right()\n",
    "axs[0].legend(prop=dict(size=8))\n",
    "src.utils.set_lims(axs)\n",
    "\n",
    "plt.show()"
   ]
  },
  {
   "cell_type": "markdown",
   "id": "ed1fd654-36f4-45e8-97b5-b031c1acbcb7",
   "metadata": {},
   "source": [
    "#### $\\frac{dT}{dt}$ terms"
   ]
  },
  {
   "cell_type": "markdown",
   "id": "e39abd9b-a9b4-47ee-8fe3-d5d3d2baf02a",
   "metadata": {},
   "source": [
    "##### Early vs. Late"
   ]
  },
  {
   "cell_type": "code",
   "execution_count": null,
   "id": "700dfb94-40ff-4a72-8c4a-98b1bf58ea6d",
   "metadata": {},
   "outputs": [],
   "source": [
    "fig, axs = plt.subplots(1, 2, figsize=(6, 2.5), layout=\"constrained\")\n",
    "\n",
    "for (\n",
    "    ax,\n",
    "    v,\n",
    "    n,\n",
    ") in zip(axs, [\"R\", \"F1\"], [T_VAR, H_VAR]):\n",
    "    for comp, params_, l in zip(\n",
    "        [comp_early, comp_late],\n",
    "        [params_early, params_late],\n",
    "        [\"early\", \"late\"],\n",
    "    ):\n",
    "\n",
    "        ax.plot(comp.lag, comp[n] * params_[v], label=l)\n",
    "\n",
    "    ## formatting\n",
    "    f_kwargs = dict(ls=\"--\", c=\"k\", lw=0.8)\n",
    "    ax.axhline(0, **f_kwargs)\n",
    "    ax.axvline(0, **f_kwargs)\n",
    "    ax.set_xlabel(\"Lag (months)\")\n",
    "    ax.axvline(6, c=\"gray\", lw=0.5)\n",
    "    ax.set_xticks([-12, 0, 6, 12])\n",
    "\n",
    "## formattings\n",
    "axs[0].set_title(r\"Bjerknes ($R \\cdot T$)\")\n",
    "axs[1].set_title(r\"Coupling ($F_1 \\cdot h$)\")\n",
    "# axs[1].set_ylabel(\"\")/)\n",
    "axs[1].legend(prop=dict(size=8))\n",
    "axs[1].yaxis.set_label_position(\"right\")\n",
    "axs[1].yaxis.tick_right()\n",
    "src.utils.set_lims(axs)\n",
    "\n",
    "plt.show()"
   ]
  },
  {
   "cell_type": "markdown",
   "id": "1b5162a6-a7bf-4ee2-8919-b7dcb2d4a322",
   "metadata": {},
   "source": [
    "##### growth vs. coupling"
   ]
  },
  {
   "cell_type": "code",
   "execution_count": null,
   "id": "886857f9-eec0-4aad-b578-e199219b9256",
   "metadata": {},
   "outputs": [],
   "source": [
    "fig, axs = plt.subplots(1, 2, figsize=(6, 2.5), layout=\"constrained\")\n",
    "\n",
    "for ax, comp, params_, c in zip(\n",
    "    axs,\n",
    "    [comp_early, comp_late],\n",
    "    [params_early, params_late],\n",
    "    sns.color_palette()[:2],\n",
    "):\n",
    "\n",
    "    for v, n, ls, l in zip(\n",
    "        [\"R\", \"F1\"], [T_VAR, H_VAR], [\"-\", \"--\"], [\"Bjerknes\", \"coupling\"]\n",
    "    ):\n",
    "\n",
    "        ax.plot(comp.lag, comp[n] * params_[v], ls=ls, c=c, label=l)\n",
    "\n",
    "    ## formatting\n",
    "    f_kwargs = dict(ls=\"--\", c=\"k\", lw=0.8)\n",
    "    ax.axhline(0, **f_kwargs)\n",
    "    ax.axvline(0, **f_kwargs)\n",
    "    ax.set_xlabel(\"Lag (months)\")\n",
    "    ax.axvline(6, c=\"gray\", lw=0.5)\n",
    "    ax.set_xticks([-12, 0, 6, 12])\n",
    "\n",
    "## formattings\n",
    "axs[0].set_title(r\"Early\")\n",
    "axs[1].set_title(r\"Late\")\n",
    "axs[1].yaxis.set_label_position(\"right\")\n",
    "axs[1].yaxis.tick_right()\n",
    "axs[0].legend(prop=dict(size=8))\n",
    "src.utils.set_lims(axs)\n",
    "\n",
    "plt.show()"
   ]
  },
  {
   "cell_type": "markdown",
   "id": "2bcbc700-fc45-4b4f-9888-449e6c39e59e",
   "metadata": {},
   "source": [
    "### spaghetti"
   ]
  },
  {
   "cell_type": "code",
   "execution_count": null,
   "id": "f46b8b92-f72c-43ea-b5c5-0f448892a05d",
   "metadata": {},
   "outputs": [],
   "source": [
    "## specify variable to plot\n",
    "PLOT_VAR = \"T_4\"\n",
    "YLABEL = \"K\"\n",
    "\n",
    "## plot style for spaghetti\n",
    "spag_kwargs = dict(c=\"gray\", lw=0.5, alpha=0.5)\n",
    "comp_kwargs = dict(c=\"k\", lw=2)\n",
    "\n",
    "fig, axs = plt.subplots(1, 2, figsize=(5, 2.5), layout=\"constrained\")\n",
    "\n",
    "for ax, spag, ls in zip(axs, [spag_early, spag_late], [\"-\", \"--\"]):\n",
    "\n",
    "    ## plot data\n",
    "    ax.plot(comp.lag, spag[PLOT_VAR], label=l, **spag_kwargs)\n",
    "    ax.plot(comp.lag, spag[PLOT_VAR].mean(\"sample\"), ls=ls, **comp_kwargs)\n",
    "\n",
    "    ## formatting\n",
    "    f_kwargs = dict(ls=\"--\", c=\"k\", lw=0.8)\n",
    "    ax.axhline(0, **f_kwargs)\n",
    "    ax.axvline(0, **f_kwargs)\n",
    "    ax.set_xticks([-12, 0, 12])\n",
    "    ax.set_xlabel(\"Lag (months)\")\n",
    "\n",
    "## plot early composite in late\n",
    "axs[1].plot(spag_early.lag, spag_early[PLOT_VAR].mean(\"sample\"), ls=\"-\", **comp_kwargs)\n",
    "\n",
    "## formattings\n",
    "axs[0].set_title(f\"{PLOT_VAR} (Early)\")\n",
    "axs[1].set_title(f\"{PLOT_VAR} (Late)\")\n",
    "axs[0].set_ylabel(YLABEL)\n",
    "axs[0].set_ylabel(\"K\")\n",
    "axs[1].set_yticks([])\n",
    "src.utils.set_lims(axs)\n",
    "\n",
    "plt.show()"
   ]
  },
  {
   "cell_type": "markdown",
   "id": "2ddde973-adfc-4756-9423-669f0103296d",
   "metadata": {},
   "source": [
    "### Statistics"
   ]
  },
  {
   "cell_type": "code",
   "execution_count": null,
   "id": "a4bb8efd-870f-4c1f-9524-fb733fbd0401",
   "metadata": {
    "jupyter": {
     "source_hidden": true
    }
   },
   "outputs": [],
   "source": [
    "def get_pdf(x, edges, lag=12):\n",
    "\n",
    "    ## compute pdf\n",
    "    pdf, _ = src.utils.get_empirical_pdf(x.sel(lag=lag), edges=edges)\n",
    "\n",
    "    ## get center points\n",
    "    bin_centers = 0.5 * (edges[1:] + edges[:-1])\n",
    "\n",
    "    ## return in DataArray format\n",
    "    return xr.DataArray(pdf, coords=dict(centers=bin_centers))\n",
    "\n",
    "\n",
    "def plot_pdf_on_ax(ax, name, pdf0, pdf1, edges):\n",
    "    \"\"\"plot PDFs for given name on given ax object\"\"\"\n",
    "\n",
    "    ## plot data\n",
    "    ax.stairs(pdf0[name], EDGES, lw=1.5, label=\"early\")\n",
    "    ax.stairs(pdf1[name], EDGES, fill=True, alpha=0.3, label=\"late\")\n",
    "\n",
    "    ## format\n",
    "    ax.axvline(0, ls=\"-\", c=\"k\")\n",
    "    ax.set_title(name)\n",
    "    ax.set_yticks([])\n",
    "    ax.set_xticks([-2, 0, 2])\n",
    "    ax.set_ylim([0, 0.9])\n",
    "\n",
    "    return"
   ]
  },
  {
   "cell_type": "markdown",
   "id": "e0a03101-4f97-42af-b484-3649590b1d99",
   "metadata": {},
   "source": [
    "#### Compute PDFs"
   ]
  },
  {
   "cell_type": "code",
   "execution_count": null,
   "id": "ab2fc016-f45a-48ad-b3dd-c0e87ed38cbb",
   "metadata": {},
   "outputs": [],
   "source": [
    "## specify lag\n",
    "LAG = 12\n",
    "\n",
    "## specify edges for pdf\n",
    "EDGES = np.arange(-3.75, 4.25, 0.5)\n",
    "# EDGES = np.arange(-4.75, 5.25, 0.5)\n",
    "\n",
    "## compute\n",
    "pdf_early_post = spag_early.apply(get_pdf, edges=EDGES, lag=LAG)\n",
    "pdf_late_post = spag_late.apply(get_pdf, edges=EDGES, lag=LAG)\n",
    "\n",
    "pdf_early_pre = spag_early.apply(get_pdf, edges=EDGES, lag=-LAG)\n",
    "pdf_late_pre = spag_late.apply(get_pdf, edges=EDGES, lag=-LAG)"
   ]
  },
  {
   "cell_type": "markdown",
   "id": "ebbe8cd3-96c7-4959-ae3d-c35ab087cef5",
   "metadata": {},
   "source": [
    "#### Plot"
   ]
  },
  {
   "cell_type": "code",
   "execution_count": null,
   "id": "5f69ba9d-b59d-4ff0-ba1d-d9e4e455dee9",
   "metadata": {},
   "outputs": [],
   "source": [
    "## specify variables to plot\n",
    "# PLOT_VARS = [\"h_w\", \"h\", \"h_e\"]\n",
    "PLOT_VARS = [\"T_4\", \"T_34\", \"T_3\"]\n",
    "\n",
    "## set up plot\n",
    "fig, axs = plt.subplots(2, 3, figsize=(8, 4), layout=\"constrained\")\n",
    "\n",
    "pdf_kwargs_pre = dict(pdf0=pdf_early_pre, pdf1=pdf_late_pre, edges=EDGES)\n",
    "pdf_kwargs_post = dict(pdf0=pdf_early_post, pdf1=pdf_late_post, edges=EDGES)\n",
    "\n",
    "## loop thru before/after\n",
    "for j, pdf_kwargs in enumerate([pdf_kwargs_pre, pdf_kwargs_post]):\n",
    "\n",
    "    ## loop thru variables\n",
    "    for i, name in enumerate(PLOT_VARS):\n",
    "\n",
    "        ## plot data\n",
    "        plot_pdf_on_ax(axs[j, i], name=name, **pdf_kwargs)\n",
    "\n",
    "## legend / formatting\n",
    "axs[0, 0].legend(prop=dict(size=8))\n",
    "for ax in axs[0, :]:\n",
    "    ax.set_xticks([])\n",
    "for ax in axs[1, :]:\n",
    "    ax.set_title(None)\n",
    "\n",
    "\n",
    "plt.show()"
   ]
  }
 ],
 "metadata": {
  "kernelspec": {
   "display_name": "Python [conda env:envs]",
   "language": "python",
   "name": "conda-env-envs-py"
  },
  "language_info": {
   "codemirror_mode": {
    "name": "ipython",
    "version": 3
   },
   "file_extension": ".py",
   "mimetype": "text/x-python",
   "name": "python",
   "nbconvert_exporter": "python",
   "pygments_lexer": "ipython3",
   "version": "3.13.5"
  }
 },
 "nbformat": 4,
 "nbformat_minor": 5
}
