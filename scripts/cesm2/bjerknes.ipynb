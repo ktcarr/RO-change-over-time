{
 "cells": [
  {
   "cell_type": "markdown",
   "id": "22516693-2eb8-45f7-b9d4-4511a195a408",
   "metadata": {},
   "source": [
    "# Bjerknes feedback changes over time"
   ]
  },
  {
   "cell_type": "markdown",
   "id": "0e795c63-4ea6-4623-b0a2-e33656d4c420",
   "metadata": {},
   "source": [
    "## imports"
   ]
  },
  {
   "cell_type": "code",
   "execution_count": null,
   "id": "42d155a1-2906-4d88-9022-b7996ecf7560",
   "metadata": {},
   "outputs": [],
   "source": [
    "import matplotlib.pyplot as plt\n",
    "import matplotlib as mpl\n",
    "import numpy as np\n",
    "import seaborn as sns\n",
    "import xarray as xr\n",
    "import tqdm\n",
    "import pathlib\n",
    "import cmocean\n",
    "import os\n",
    "import copy\n",
    "import time\n",
    "\n",
    "# Import custom modules\n",
    "import src.utils\n",
    "\n",
    "## set plotting specs\n",
    "sns.set(rc={\"axes.facecolor\": \"white\", \"axes.grid\": False})\n",
    "\n",
    "## bump up DPI\n",
    "mpl.rcParams[\"figure.dpi\"] = 100\n",
    "\n",
    "## get filepaths\n",
    "DATA_FP = pathlib.Path(os.environ[\"DATA_FP\"])\n",
    "SAVE_FP = pathlib.Path(os.environ[\"SAVE_FP\"])"
   ]
  },
  {
   "cell_type": "markdown",
   "id": "8382b7b8-eac8-4cf0-8ad1-4632a36727b9",
   "metadata": {},
   "source": [
    "## Funcs"
   ]
  },
  {
   "cell_type": "code",
   "execution_count": null,
   "id": "9874f9c6-8fd1-4c20-abb1-98e3e4962768",
   "metadata": {},
   "outputs": [],
   "source": [
    "def get_dT_sub(Tsub, Hm, delta=25):\n",
    "    \"\"\"\n",
    "    Get temperature difference b/n entrainment zone and mixed layer.\n",
    "    (positive if entrainment zone is warmer than ML)\n",
    "    \"\"\"\n",
    "\n",
    "    ## find indices in ML and entrainment zone (ez)\n",
    "    in_ml = Tsub.z_t <= Hm\n",
    "    in_ez = (Tsub.z_t > Hm) & (Tsub.z_t < (delta + Hm))\n",
    "\n",
    "    ## get Tbar and Tplus (following Frankignoul et al paper)\n",
    "    Tbar = Tsub.where(in_ml).mean(\"z_t\")\n",
    "    Tplus = Tsub.where(in_ez).mean(\"z_t\")\n",
    "\n",
    "    ## get gradient\n",
    "    dT = Tplus - Tbar\n",
    "\n",
    "    return dT\n",
    "\n",
    "\n",
    "def prep(data):\n",
    "    \"\"\"remove sst dependence and compute tendencies\"\"\"\n",
    "\n",
    "    ## remove from h indices\n",
    "    for h_idx in [\"h_w\", \"h\"]:\n",
    "        data[f\"{h_idx}_hat\"] = src.utils.remove_sst_dependence_v2(\n",
    "            data, h_var=h_idx, T_var=\"T_34\"\n",
    "        )\n",
    "\n",
    "    return data\n",
    "\n",
    "\n",
    "def load_budget_data(t_early, t_late, target_grid):\n",
    "    \"\"\"load ground truth heat budget data\"\"\"\n",
    "\n",
    "    def load_var(varname):\n",
    "        \"\"\"load variable from prepped folder\"\"\"\n",
    "\n",
    "        ## open data\n",
    "        data = xr.open_mfdataset(\n",
    "            sorted(list(pathlib.Path(DATA_FP, \"cesm\", f\"{varname}_temp\").glob(\"*.nc\"))),\n",
    "            concat_dim=\"member\",\n",
    "            combine=\"nested\",\n",
    "            parallel=True,\n",
    "        )\n",
    "\n",
    "        return data.assign_coords({\"member\": np.arange(100)})\n",
    "\n",
    "    ## load data\n",
    "    budget_data = xr.merge([load_var(v) for v in [\"adv\", \"ddt_T\"]])\n",
    "\n",
    "    ## get difference\n",
    "    budget_data[\"diff\"] = budget_data[\"TEND_TEMP\"] - budget_data[\"ADV_3D_TEMP\"]\n",
    "\n",
    "    ## convert z coord from cm to m, and unit from K/s to K/mo\n",
    "    M_PER_CM = 1e-2\n",
    "    SEC_PER_MO = 8.64e4 * 30\n",
    "\n",
    "    ## convert from (i) cm to m and (ii) K/s to K/mo\n",
    "    budget_data = budget_data.assign_coords({\"z_t\": budget_data.z_t * M_PER_CM})\n",
    "    budget_data = budget_data * SEC_PER_MO\n",
    "\n",
    "    ## fix longitude coordinate\n",
    "    budget_data = budget_data.assign_coords({\"nlon\": budget_data.lon.values})\n",
    "    budget_data = budget_data.drop_vars(\"lon\").rename({\"nlon\": \"longitude\"})\n",
    "\n",
    "    ## trim in time\n",
    "    budget_data = xr.concat(\n",
    "        [budget_data.sel(t_early), budget_data.sel(t_late)], dim=\"time\"\n",
    "    )\n",
    "\n",
    "    ## interpolate\n",
    "    budget_data = budget_data.interp_like(target_grid)\n",
    "\n",
    "    # ## separate forced/anomalies\n",
    "    forced_bud, anom_bud = src.utils.separate_forced(budget_data)\n",
    "\n",
    "    return forced_bud, anom_bud\n",
    "\n",
    "\n",
    "def plot_mlds(axs, bar_early, bar_late, sel):\n",
    "    \"\"\"plot mixed layer depth on pair of axs objects\"\"\"\n",
    "\n",
    "    ## get longitude\n",
    "    lon = src.utils.merimean(bar_early).longitude\n",
    "\n",
    "    ## plot\n",
    "    axs[0].plot(lon, sel(src.utils.merimean(bar_early[\"mld\"])), c=\"k\")\n",
    "    axs[1].plot(lon, sel(src.utils.merimean(bar_late[\"mld\"])), c=\"k\", ls=\"--\")\n",
    "    axs[2].plot(lon, sel(src.utils.merimean(bar_early[\"mld\"])), c=\"k\")\n",
    "    axs[2].plot(lon, sel(src.utils.merimean(bar_late[\"mld\"])), c=\"k\", ls=\"--\")\n",
    "\n",
    "    return"
   ]
  },
  {
   "cell_type": "markdown",
   "id": "e7e6f806-7cb2-446a-a9c1-63adc1930685",
   "metadata": {},
   "source": [
    "## Load data"
   ]
  },
  {
   "cell_type": "markdown",
   "id": "8d81b793-263e-47ed-8a47-72859ffcbe5f",
   "metadata": {},
   "source": [
    "### $T$, $h$"
   ]
  },
  {
   "cell_type": "code",
   "execution_count": null,
   "id": "eccc268a-e60d-45bb-b68d-acd3860e5eb0",
   "metadata": {},
   "outputs": [],
   "source": [
    "## open data\n",
    "Th = src.utils.load_cesm_indices()\n",
    "\n",
    "## rename indices for convenience\n",
    "Th = Th.rename(\n",
    "    {\n",
    "        \"north_tropical_atlantic\": \"natl\",\n",
    "        \"atlantic_nino\": \"nino_atl\",\n",
    "        \"tropical_indian_ocean\": \"iobm\",\n",
    "        \"indian_ocean_dipole\": \"iod\",\n",
    "        \"north_pacific_meridional_mode\": \"npmm\",\n",
    "        \"south_pacific_meridional_mode\": \"spmm\",\n",
    "    }\n",
    ")\n",
    "\n",
    "## load tropical SST avg\n",
    "trop_sst = xr.open_dataset(pathlib.Path(DATA_FP, \"cesm/trop_sst.nc\"))\n",
    "\n",
    "## Load T,h (total)\n",
    "Th_total = xr.open_dataset(DATA_FP / \"cesm\" / \"Th.nc\")\n",
    "\n",
    "## compute relative sst\n",
    "for n in [\"T_3\", \"T_34\", \"T_4\"]:\n",
    "    Th[f\"{n}_rel\"] = Th_total[n] - trop_sst[\"trop_sst_10\"]"
   ]
  },
  {
   "cell_type": "markdown",
   "id": "23f711ba-bc31-42a3-9154-6ef25c986fb3",
   "metadata": {},
   "source": [
    "### Spatial data"
   ]
  },
  {
   "cell_type": "markdown",
   "id": "68218dec-2a10-4157-9706-029462439ac1",
   "metadata": {},
   "source": [
    "#### Load"
   ]
  },
  {
   "cell_type": "code",
   "execution_count": null,
   "id": "d67f1548-0928-4142-b1ce-7e027937464b",
   "metadata": {},
   "outputs": [],
   "source": [
    "## load spatial data\n",
    "CONS_DIR = pathlib.Path(DATA_FP, \"cesm\", \"consolidated\")\n",
    "forced = xr.open_dataset(CONS_DIR / \"forced.nc\")\n",
    "anom = xr.open_dataset(CONS_DIR / \"anom.nc\")\n",
    "\n",
    "## add T,h information\n",
    "for n in [\"T_3\", \"T_34\", \"T_4\", \"h\", \"h_w\"]:\n",
    "    anom[n] = Th[n]"
   ]
  },
  {
   "cell_type": "markdown",
   "id": "0cce985e-5d04-4e07-bfc0-baadebc41cfc",
   "metadata": {},
   "source": [
    "#### compute some indices"
   ]
  },
  {
   "cell_type": "code",
   "execution_count": null,
   "id": "9ed7d076-a841-413d-b1d8-26f95973851c",
   "metadata": {},
   "outputs": [],
   "source": [
    "## add other variables used in BJ computation\n",
    "fns = [src.utils.get_nino3, src.utils.get_nino34, src.utils.get_nino4]\n",
    "labels = [\"3\", \"34\", \"4\"]\n",
    "for fn, label in zip(fns, labels):\n",
    "    for n in [\"nhf\", \"ssh\", \"taux\"]:\n",
    "        kwargs = dict(components=anom[f\"{n}_comp\"], scores=anom[n], fn=fn)\n",
    "        anom[f\"{n}_{label}\"] = src.utils.reconstruct_fn(**kwargs)\n",
    "\n",
    "## get sst tendency (and convert from 1/yr to 1/mo)\n",
    "anom[\"ddt_sst\"] = 1 / 12 * src.utils.get_ddt(anom[[\"sst\"]])[\"ddt_sst\"]"
   ]
  },
  {
   "cell_type": "markdown",
   "id": "b3e1c3dd-5c48-42cf-993d-ac44516ab62d",
   "metadata": {},
   "source": [
    "#### early/late split"
   ]
  },
  {
   "cell_type": "code",
   "execution_count": null,
   "id": "93d3ba4c-0e7e-4bb0-8a2a-89b8fceb52ae",
   "metadata": {},
   "outputs": [],
   "source": [
    "## split into early/late periods\n",
    "t_early = dict(time=slice(\"1851\", \"1880\"))\n",
    "t_late = dict(time=slice(\"2071\", \"2100\"))\n",
    "\n",
    "## split surface data\n",
    "anom_early = anom.sel(t_early)\n",
    "anom_late = anom.sel(t_late)\n",
    "\n",
    "## preprocess\n",
    "anom_early = prep(anom_early)\n",
    "anom_late = prep(anom_late)\n",
    "\n",
    "## load to memory\n",
    "anom_early.load()\n",
    "anom_late.load();"
   ]
  },
  {
   "cell_type": "markdown",
   "id": "08bbaa34-6236-476c-8dba-e20c1ef9be9a",
   "metadata": {},
   "source": [
    "## BJ couplings"
   ]
  },
  {
   "cell_type": "code",
   "execution_count": null,
   "id": "bffd8a91-9d35-44d5-8033-c2abb0a6f252",
   "metadata": {
    "jupyter": {
     "source_hidden": true
    }
   },
   "outputs": [],
   "source": [
    "def get_alpha(data, dim, r=\"34\"):\n",
    "    \"\"\"compute mu: linear dependence of nhf on sst\"\"\"\n",
    "\n",
    "    return src.utils.regress_core(Y=data[f\"nhf_{r}\"], X=data[f\"T_{r}\"], dim=dim)\n",
    "\n",
    "\n",
    "def get_mu(data, dim, r=\"34\"):\n",
    "    \"\"\"compute mu: linear dependence of taux on sst\"\"\"\n",
    "\n",
    "    return src.utils.regress_core(Y=data[\"taux_4\"], X=data[f\"T_{r}\"], dim=dim)\n",
    "\n",
    "\n",
    "def get_beta(data, dim, r=\"34\"):\n",
    "    \"\"\"compute mu: linear dependence of ssh on taux\"\"\"\n",
    "\n",
    "    return src.utils.regress_core(Y=data[f\"ssh_{r}\"], X=data[\"taux_4\"], dim=dim)\n",
    "\n",
    "\n",
    "def get_xi(data, dim, r=\"34\"):\n",
    "    \"\"\"compute mu: linear dependence of sst on ssh\"\"\"\n",
    "\n",
    "    return src.utils.regress_core(Y=data[f\"T_{r}\"], X=data[f\"ssh_{r}\"], dim=dim)\n",
    "\n",
    "\n",
    "def get_params(data, dim=\"time\", r=\"34\"):\n",
    "    \"\"\"compute all parameters\"\"\"\n",
    "    params = xr.merge(\n",
    "        [\n",
    "            get_alpha(data, dim=dim, r=r).rename(\"alpha\"),\n",
    "            get_mu(data, dim=dim, r=r).rename(\"mu\"),\n",
    "            get_beta(data, dim=dim, r=r).rename(\"beta\"),\n",
    "            get_xi(data, dim=dim, r=r).rename(\"xi\"),\n",
    "        ]\n",
    "    )\n",
    "\n",
    "    params[\"coupling\"] = params[\"mu\"] * params[\"beta\"] * params[\"xi\"]\n",
    "\n",
    "    return params\n",
    "\n",
    "\n",
    "def get_rolling_params(data, n=10, reduce_ensemble=True):\n",
    "    \"\"\"get rolling parameters\"\"\"\n",
    "\n",
    "    ## get rolling data\n",
    "    idx_rolling = data.rolling({\"time\": 2 * n + 1}, center=True)\n",
    "\n",
    "    ## expand rolling object along \"window\" dimension\n",
    "    idx_rolling = idx_rolling.construct(\"window\")\n",
    "\n",
    "    ## stack member/window if desired\n",
    "    if reduce_ensemble:\n",
    "        idx_rolling = idx_rolling.stack(sample=[\"member\", \"window\"])\n",
    "\n",
    "    else:\n",
    "        idx_rolling = idx_rolling.rename({\"window\": \"sample\"})\n",
    "\n",
    "    return get_params(idx_rolling, dim=\"sample\")\n",
    "\n",
    "\n",
    "def get_rolling_params_bymonth(data, **kwargs):\n",
    "    \"\"\"get rolling parameters for each month separately...\"\"\"\n",
    "\n",
    "    return data.groupby(\"time.month\").map(get_rolling_params, **kwargs)"
   ]
  },
  {
   "cell_type": "code",
   "execution_count": null,
   "id": "b78ebbde-1dff-4bcc-b599-3f0c7581db0c",
   "metadata": {},
   "outputs": [],
   "source": [
    "## get names of 'index' variables (scalars)\n",
    "idx_vars = [n for n in list(anom) if n[-1].isdigit()]\n",
    "\n",
    "## get params over time\n",
    "params = get_rolling_params_bymonth(anom[idx_vars], n=16)\n",
    "\n",
    "## unstack month and year to separate dims\n",
    "params = src.utils.unstack_month_and_year(params)\n",
    "\n",
    "## subtract off climatology\n",
    "delta_params = params - params.isel(year=slice(None, 30)).mean(\"year\")"
   ]
  },
  {
   "cell_type": "code",
   "execution_count": null,
   "id": "7f26ea1b-9413-488c-b607-82b67464ae16",
   "metadata": {},
   "outputs": [],
   "source": [
    "## setup plot\n",
    "fig, axs = plt.subplots(1, 5, figsize=(7, 3), layout=\"constrained\")\n",
    "\n",
    "## plot T data\n",
    "src.utils.plot_hov2(\n",
    "    fig, axs[0], delta_params[\"alpha\"].T, amp=20, label=r\"$\\Delta~ \\alpha$\"\n",
    ")\n",
    "src.utils.plot_hov2(\n",
    "    fig, axs[1], delta_params[\"mu\"].T, amp=0.01, label=r\"$\\tau_x-\\text{SST}$\"\n",
    ")\n",
    "src.utils.plot_hov2(\n",
    "    fig, axs[2], delta_params[\"beta\"].T, amp=200, label=r\"$\\text{SSH}-\\tau_x$\"\n",
    ")\n",
    "src.utils.plot_hov2(\n",
    "    fig, axs[3], delta_params[\"xi\"].T, amp=7e-2, label=r\"$\\text{SST}-\\text{SSH}$\"\n",
    ")\n",
    "src.utils.plot_hov2(fig, axs[4], delta_params[\"coupling\"].T, amp=0.5, label=r\"coupling\")\n",
    "\n",
    "for ax in axs:\n",
    "    ax.axvline(7, c=\"k\", lw=1, ls=\"--\")\n",
    "\n",
    "## label\n",
    "axs[0].set_yticks(np.linspace(1870, 2082, 5))\n",
    "axs[0].set_ylabel(\"Year\")\n",
    "axs[1].set_ylim(axs[0].get_ylim())\n",
    "plt.show()"
   ]
  },
  {
   "cell_type": "markdown",
   "id": "c26c8419-cae2-428a-8667-7e9827734a4e",
   "metadata": {},
   "source": [
    "## Compute BJ coefficients"
   ]
  },
  {
   "cell_type": "markdown",
   "id": "35507d25-095d-446d-8628-7c5007f1b344",
   "metadata": {},
   "source": [
    "#### Components of BJ feedback"
   ]
  },
  {
   "cell_type": "markdown",
   "id": "6eb85976-3f5a-4059-9fce-28a5e162e98c",
   "metadata": {},
   "source": [
    "Function"
   ]
  },
  {
   "cell_type": "code",
   "execution_count": null,
   "id": "3a311175-8a3a-4f82-a1c4-f66f6ef3796e",
   "metadata": {},
   "outputs": [],
   "source": [
    "def get_bj_coupling(data):\n",
    "    \"\"\"get couplings needed to compute bjerknes feedback\"\"\"\n",
    "\n",
    "    ## empty dataset to hold results\n",
    "    couplings = xr.Dataset()\n",
    "\n",
    "    ## get variables\n",
    "    y_vars = [\"taux\", \"ssh\", \"sst\", \"T\"]\n",
    "    x_vars = [\"T_34\", \"taux_4\", \"ssh_3\", \"taux_4\"]\n",
    "\n",
    "    ## loop thru variables\n",
    "    for y_var, x_var in tqdm.tqdm(zip(y_vars, x_vars)):\n",
    "        kwargs = dict(data=data, y_vars=[y_var], x_vars=[x_var])\n",
    "        coefs = src.utils.regress_xr_bymonth(**kwargs)[y_var].squeeze(drop=True)\n",
    "        couplings[f\"{x_var}-{y_var}\"] = coefs\n",
    "\n",
    "    return couplings"
   ]
  },
  {
   "cell_type": "markdown",
   "id": "adefa81a-9941-4fc4-a0ed-61c7bd640573",
   "metadata": {},
   "source": [
    "Compute"
   ]
  },
  {
   "cell_type": "code",
   "execution_count": null,
   "id": "22f01e3b-e937-4075-9ae8-54ef6f7ce3ac",
   "metadata": {},
   "outputs": [],
   "source": [
    "m_early_bj = get_bj_coupling(anom_early)\n",
    "m_late_bj = get_bj_coupling(anom_late)"
   ]
  },
  {
   "cell_type": "markdown",
   "id": "48512486-f56b-4da3-9037-a3715c2f780a",
   "metadata": {},
   "source": [
    "#### Regression on $T_{34}$ and $\\hat{h}_w$"
   ]
  },
  {
   "cell_type": "markdown",
   "id": "f22980a8-c3be-49a4-b0b7-f6e9efc1cf49",
   "metadata": {},
   "source": [
    "helper function"
   ]
  },
  {
   "cell_type": "code",
   "execution_count": null,
   "id": "5afbeffd-ca64-43a3-994a-6f34f18e30b9",
   "metadata": {},
   "outputs": [],
   "source": [
    "def fit_wrapper(data, y_vars, x_vars=[\"T_34\", \"h_w_hat\"]):\n",
    "    \"\"\"fit linear regression model to data\"\"\"\n",
    "\n",
    "    ## get coeffs\n",
    "    kwargs = dict(y_vars=y_vars, x_vars=x_vars)\n",
    "    coefs = src.utils.regress_xr_bymonth(data, **kwargs)\n",
    "\n",
    "    ## get first coefficient\n",
    "    return coefs.sel(j=x_vars[0])"
   ]
  },
  {
   "cell_type": "markdown",
   "id": "29d13256-39e2-440c-82a7-811569d60a07",
   "metadata": {},
   "source": [
    "Compute"
   ]
  },
  {
   "cell_type": "code",
   "execution_count": null,
   "id": "8d15810a-4463-4f3f-a004-758e32cb46e4",
   "metadata": {},
   "outputs": [],
   "source": [
    "## keep track of time\n",
    "t0 = time.time()\n",
    "\n",
    "## do regression\n",
    "fit_kwargs = dict(\n",
    "    y_vars=[\"ddt_sst\", \"sst\", \"nhf\", \"taux\", \"T\", \"w\", \"u\", \"uvel\", \"vvel\"],\n",
    "    x_vars=[\"T_34\", \"h_w_hat\"],\n",
    ")\n",
    "m_early = fit_wrapper(anom_early, **fit_kwargs)\n",
    "m_late = fit_wrapper(anom_late, **fit_kwargs)\n",
    "\n",
    "## print out elapsed time\n",
    "t1 = time.time()\n",
    "print(f\"Elapsed time: {t1-t0:.1f} seconds\")"
   ]
  },
  {
   "cell_type": "markdown",
   "id": "0b876dc0-c8b9-4c9d-bdf4-a09fc60bac78",
   "metadata": {},
   "source": [
    "#### compute feedback terms"
   ]
  },
  {
   "cell_type": "markdown",
   "id": "59f61b3e-5685-4ac6-886b-5d6126631629",
   "metadata": {},
   "source": [
    "##### Subsurface"
   ]
  },
  {
   "cell_type": "code",
   "execution_count": null,
   "id": "32244e87-c150-44d9-9d45-f10e305dbf21",
   "metadata": {},
   "outputs": [],
   "source": [
    "## get mean-state for each period\n",
    "sub_vars = [\"u\", \"w\", \"T\", \"sst\", \"uvel\", \"vvel\", \"mld\"]\n",
    "sub_vars += [f\"{s}_comp\" for s in sub_vars]\n",
    "bar_early = src.utils.reconstruct_clim(forced[sub_vars].sel(t_early))\n",
    "bar_late = src.utils.reconstruct_clim(forced[sub_vars].sel(t_late))\n",
    "\n",
    "## get early/late feedbacks\n",
    "feedbacks_early = src.utils.get_feedbacks(bar=bar_early, prime=m_early)\n",
    "feedbacks_late = src.utils.get_feedbacks(bar=bar_late, prime=m_late)\n",
    "\n",
    "## decompose changes\n",
    "feedback_changes = src.utils.decompose_feedback_changes(\n",
    "    bar_early=bar_early,\n",
    "    bar_late=bar_late,\n",
    "    prime_early=m_early,\n",
    "    prime_late=m_late,\n",
    ")\n",
    "\n",
    "## merge with other data\n",
    "m_early = xr.merge([m_early, feedbacks_early])\n",
    "m_late = xr.merge([m_late, feedbacks_late, feedback_changes])"
   ]
  },
  {
   "cell_type": "markdown",
   "id": "08c5b892-3f81-4573-9ed9-3be1ca5ba748",
   "metadata": {},
   "source": [
    "Compute things which *do* depend on MLD"
   ]
  },
  {
   "cell_type": "code",
   "execution_count": null,
   "id": "083deca6-56a0-4d45-a97f-8922f90558ba",
   "metadata": {},
   "outputs": [],
   "source": [
    "## specify mixed layer kwargs\n",
    "ml_early_kwargs = dict(H0=70, Hm=None)\n",
    "ml_late_kwargs = dict(H0=70, Hm=None)\n",
    "\n",
    "## Integrate over mixed layer\n",
    "m_early = src.utils.get_ml_avg_ds(m_early, **ml_early_kwargs)\n",
    "m_late = src.utils.get_ml_avg_ds(m_late, **ml_late_kwargs)"
   ]
  },
  {
   "cell_type": "markdown",
   "id": "e17c08f0-c0e9-4470-8c77-ccf752678a2c",
   "metadata": {},
   "source": [
    "##### Surface (advection)"
   ]
  },
  {
   "cell_type": "code",
   "execution_count": null,
   "id": "dd51bf04-00a8-4136-82a9-b06323fe89bb",
   "metadata": {},
   "outputs": [],
   "source": [
    "## compute surface feedbacks\n",
    "feedbacks_surf_early = src.utils.get_surface_feedbacks(bar_early, m_early)\n",
    "feedbacks_surf_late = src.utils.get_surface_feedbacks(bar_late, m_late)\n",
    "\n",
    "## add to array\n",
    "m_early = xr.merge([m_early, feedbacks_surf_early])\n",
    "m_late = xr.merge([m_late, feedbacks_surf_late])"
   ]
  },
  {
   "cell_type": "markdown",
   "id": "cd1f528a-dfbc-45ad-b15d-e4e3075fc3fb",
   "metadata": {},
   "source": [
    "#### Compute $T_{sub}$"
   ]
  },
  {
   "cell_type": "code",
   "execution_count": null,
   "id": "63c7502c-3a91-4ce2-b9c2-fa97342df876",
   "metadata": {},
   "outputs": [],
   "source": [
    "## height of entrainment zone (from base of ML)\n",
    "ez_height = 20\n",
    "\n",
    "## set kwargs\n",
    "dT_kwargs_early = dict(Hm=ml_early_kwargs[\"H0\"], delta=ez_height)\n",
    "dT_kwargs_late = dict(Hm=ml_late_kwargs[\"H0\"], delta=ez_height)\n",
    "\n",
    "## T_ml - T_sub (regr on Niño 3.4 and taux)\n",
    "m_early[\"dT_n34\"] = get_dT_sub(Tsub=m_early[\"T\"], **dT_kwargs_early)\n",
    "m_late[\"dT_n34\"] = get_dT_sub(Tsub=m_late[\"T\"], **dT_kwargs_late)\n",
    "m_early_bj[\"dT_taux\"] = get_dT_sub(Tsub=m_early_bj[\"taux_4-T\"], **dT_kwargs_late)\n",
    "m_late_bj[\"dT_taux\"] = get_dT_sub(Tsub=m_late_bj[\"taux_4-T\"], **dT_kwargs_late)"
   ]
  },
  {
   "cell_type": "markdown",
   "id": "171dc450-f2c9-442a-9218-4c4125b3774a",
   "metadata": {},
   "source": [
    "## Plot feedback hovmollers \n",
    "E.g., thermocline ($\\overline{w}~\\frac{\\partial T'}{\\partial z}$) and Ekman feedback ($w'~\\frac{\\partial \\overline{T}}{\\partial z}$)"
   ]
  },
  {
   "cell_type": "markdown",
   "id": "e675e54e-f080-4906-9092-4b27037d453e",
   "metadata": {},
   "source": [
    "### Plot mixed layer integral"
   ]
  },
  {
   "cell_type": "code",
   "execution_count": null,
   "id": "01cdf37b-ce4f-4561-8254-3c97e7774f9a",
   "metadata": {},
   "outputs": [],
   "source": [
    "## specify plot amplitude\n",
    "amp = 1\n",
    "\n",
    "for n in [\"THF_ml\", \"EKM_ml\", \"ADV_ml\"]:\n",
    "\n",
    "    print(f\"\\n{n}\")\n",
    "    fig, axs = plt.subplots(1, 3, figsize=(6, 2.5), layout=\"constrained\")\n",
    "\n",
    "    ## plot data\n",
    "    cp0 = src.utils.make_cycle_hov(axs[0], data=m_early[n], amp=amp)\n",
    "    cp1 = src.utils.make_cycle_hov(axs[1], data=m_late[n], amp=amp)\n",
    "    cp2 = src.utils.make_cycle_hov(axs[2], data=(m_late - m_early)[n], amp=amp * 0.75)\n",
    "\n",
    "    ## make it look nicer\n",
    "    cb = fig.colorbar(\n",
    "        cp0,\n",
    "        ax=axs[2],\n",
    "        ticks=[-amp, 0, amp],\n",
    "        label=r\"$K~\\left(\\text{month}\\right)^{-1}$\",\n",
    "    )\n",
    "    src.utils.format_hov_axs(axs)\n",
    "    for ax in axs:\n",
    "        ax.axhline(7, ls=\"--\", c=\"k\", lw=1)\n",
    "\n",
    "    plt.show()"
   ]
  },
  {
   "cell_type": "markdown",
   "id": "042f2133-4cf6-4e96-a101-05128ab2a51e",
   "metadata": {},
   "source": [
    "### Decomp. Ekman feedback"
   ]
  },
  {
   "cell_type": "code",
   "execution_count": null,
   "id": "1ca046b9-03d8-44c6-af1a-8fe1863230dc",
   "metadata": {},
   "outputs": [],
   "source": [
    "## specify colorbar amp\n",
    "amp = 0.5\n",
    "\n",
    "## specify plot data and titles\n",
    "plot_data = [\n",
    "    (m_late - m_early)[\"EKM_ml\"],\n",
    "    m_late[\"delta_EKM_mean_ml\"],\n",
    "    m_late[\"delta_EKM_anom_ml\"],\n",
    "    m_late[\"delta_EKM_nl_ml\"],\n",
    "]\n",
    "titles = [\n",
    "    r\"$\\Delta\\left(w~\\frac{\\partial \\overline{T}}{\\partial z}\\right)$\",\n",
    "    r\"$w_0'~\\Delta\\left(\\frac{\\partial \\overline{T}}{\\partial z}\\right)$\",\n",
    "    r\"$\\Delta\\left(w'\\right)~\\frac{\\partial \\overline{T}_0}{\\partial z}$\",\n",
    "    r\"$\\Delta\\left(w'\\right)~\\Delta\\left(\\frac{\\partial \\overline{T}}{\\partial z}\\right)$\",\n",
    "]\n",
    "\n",
    "fig, axs = plt.subplots(1, 4, figsize=(8, 2.5), layout=\"constrained\")\n",
    "\n",
    "src.utils.format_hov_axs(axs)\n",
    "\n",
    "## plot data\n",
    "for ax, p, t in zip(axs, plot_data, titles):\n",
    "    cp = src.utils.make_cycle_hov(ax, data=p, amp=amp)\n",
    "    ax.set_title(t)\n",
    "    ax.axhline(7, ls=\"--\", c=\"k\", lw=1)\n",
    "\n",
    "for ax in axs[3:]:\n",
    "    ax.set_yticks([])\n",
    "\n",
    "## make it look nicer\n",
    "cb = fig.colorbar(\n",
    "    cp,\n",
    "    ax=axs[-1],\n",
    "    ticks=[-amp, 0, amp],\n",
    "    label=r\"$K~\\left(\\text{month}\\right)^{-1}$\",\n",
    ")\n",
    "\n",
    "plt.show()"
   ]
  },
  {
   "cell_type": "markdown",
   "id": "6c76bf3d-1b57-4420-ad2f-82764f73a1f1",
   "metadata": {},
   "source": [
    "### Decomp. thermocline feedback"
   ]
  },
  {
   "cell_type": "code",
   "execution_count": null,
   "id": "50ed9ef0-a0fb-46f4-aac8-08abf5085907",
   "metadata": {},
   "outputs": [],
   "source": [
    "## specify colorbar amp\n",
    "amp = 0.5\n",
    "\n",
    "## specify plot data and titles\n",
    "plot_data = [\n",
    "    (m_late - m_early)[\"THF_ml\"],\n",
    "    m_late[\"delta_THF_mean_ml\"],\n",
    "    m_late[\"delta_THF_anom_ml\"],\n",
    "    m_late[\"delta_THF_nl_ml\"],\n",
    "]\n",
    "titles = [\n",
    "    r\"$\\Delta\\left(\\overline{w}~\\frac{\\partial T'}{\\partial z}\\right)$\",\n",
    "    r\"$\\Delta\\left(\\overline{w}\\right)~\\frac{\\partial T_0}{\\partial z}$\",\n",
    "    r\"$\\overline{w}_0~\\Delta\\left(\\frac{\\partial T'}{\\partial z}\\right)$\",\n",
    "    r\"$\\Delta\\left(\\overline{w}\\right)~\\Delta\\left(\\frac{\\partial T'}{\\partial z}\\right)$\",\n",
    "]\n",
    "\n",
    "fig, axs = plt.subplots(1, 4, figsize=(8, 2.5), layout=\"constrained\")\n",
    "\n",
    "src.utils.format_hov_axs(axs)\n",
    "\n",
    "## plot data\n",
    "for ax, p, t in zip(axs, plot_data, titles):\n",
    "    cp = src.utils.make_cycle_hov(ax, data=p, amp=amp)\n",
    "    ax.set_title(t)\n",
    "    ax.axhline(7, ls=\"--\", c=\"k\", lw=1)\n",
    "\n",
    "for ax in axs[3:]:\n",
    "    ax.set_yticks([])\n",
    "\n",
    "## make it look nicer\n",
    "cb = fig.colorbar(\n",
    "    cp,\n",
    "    ax=axs[-1],\n",
    "    ticks=[-amp, 0, amp],\n",
    "    label=r\"$K~\\left(\\text{month}\\right)^{-1}$\",\n",
    ")\n",
    "\n",
    "plt.show()"
   ]
  },
  {
   "cell_type": "markdown",
   "id": "55575e34-4a1b-47d1-ba9c-ddc73d858348",
   "metadata": {},
   "source": [
    "### Decomp. ZAF feedback"
   ]
  },
  {
   "cell_type": "code",
   "execution_count": null,
   "id": "bb65c4b4-30c4-4257-8eb6-7b6f4d5aa6d0",
   "metadata": {},
   "outputs": [],
   "source": [
    "## specify colorbar amp\n",
    "amp = 0.25\n",
    "\n",
    "## specify plot data and titles\n",
    "plot_data = [\n",
    "    (m_late - m_early)[\"ZAF_ml\"],\n",
    "    m_late[\"delta_ZAF_mean_ml\"],\n",
    "    m_late[\"delta_ZAF_anom_ml\"],\n",
    "    m_late[\"delta_ZAF_nl_ml\"],\n",
    "]\n",
    "titles = [\n",
    "    r\"$\\Delta\\left(u'~\\frac{\\partial \\overline{T}}{\\partial x}\\right)$\",\n",
    "    r\"$u_0'~\\Delta\\left(\\frac{\\partial \\overline{T}}{\\partial x}\\right)$\",\n",
    "    r\"$\\Delta\\left(u'\\right)~\\frac{\\partial \\overline{T}_0}{\\partial x}$\",\n",
    "    r\"$\\Delta\\left(u'\\right)~\\Delta\\left(\\frac{\\partial \\overline{T}}{\\partial x}\\right)$\",\n",
    "]\n",
    "\n",
    "fig, axs = plt.subplots(1, 4, figsize=(8, 2.5), layout=\"constrained\")\n",
    "\n",
    "src.utils.format_hov_axs(axs)\n",
    "\n",
    "## plot data\n",
    "for ax, p, t in zip(axs, plot_data, titles):\n",
    "    cp = src.utils.make_cycle_hov(ax, data=p, amp=amp)\n",
    "    ax.set_title(t)\n",
    "    ax.axhline(7, ls=\"--\", c=\"k\", lw=1)\n",
    "\n",
    "for ax in axs[3:]:\n",
    "    ax.set_yticks([])\n",
    "\n",
    "## make it look nicer\n",
    "cb = fig.colorbar(\n",
    "    cp,\n",
    "    ax=axs[-1],\n",
    "    ticks=[-amp, 0, amp],\n",
    "    label=r\"$K~\\left(\\text{month}\\right)^{-1}$\",\n",
    ")\n",
    "\n",
    "plt.show()"
   ]
  },
  {
   "cell_type": "markdown",
   "id": "3bd398ee-0778-4005-8c43-987bd530bb5a",
   "metadata": {},
   "source": [
    "### Decomp. DD feedback"
   ]
  },
  {
   "cell_type": "code",
   "execution_count": null,
   "id": "ea9ebb10-a07d-4abe-91d6-c249c2b44b28",
   "metadata": {},
   "outputs": [],
   "source": [
    "## specify colorbar amp\n",
    "amp = 0.25\n",
    "\n",
    "## specify plot data and titles\n",
    "plot_data = [\n",
    "    (m_late - m_early)[\"DD_ml\"],\n",
    "    m_late[\"delta_DD_mean_ml\"],\n",
    "    m_late[\"delta_DD_anom_ml\"],\n",
    "    m_late[\"delta_DD_nl_ml\"],\n",
    "]\n",
    "titles = [\n",
    "    r\"$\\Delta\\left(\\overline{u}~\\frac{\\partial T'}{\\partial x}\\right)$\",\n",
    "    r\"$\\Delta\\left(\\overline{u}\\right)~\\frac{\\partial T_0}{\\partial x}$\",\n",
    "    r\"$\\overline{u}_0~\\Delta\\left(\\frac{\\partial T'}{\\partial x}\\right)$\",\n",
    "    r\"$\\Delta\\left(\\overline{u}\\right)~\\Delta\\left(\\frac{\\partial T'}{\\partial x}\\right)$\",\n",
    "]\n",
    "\n",
    "fig, axs = plt.subplots(1, 4, figsize=(8, 2.5), layout=\"constrained\")\n",
    "\n",
    "src.utils.format_hov_axs(axs)\n",
    "\n",
    "## plot data\n",
    "for ax, p, t in zip(axs, plot_data, titles):\n",
    "    cp = src.utils.make_cycle_hov(ax, data=p, amp=amp)\n",
    "    ax.set_title(t)\n",
    "    ax.axhline(7, ls=\"--\", c=\"k\", lw=1)\n",
    "\n",
    "for ax in axs[3:]:\n",
    "    ax.set_yticks([])\n",
    "\n",
    "## make it look nicer\n",
    "cb = fig.colorbar(\n",
    "    cp,\n",
    "    ax=axs[-1],\n",
    "    ticks=[-amp, 0, amp],\n",
    "    label=r\"$K~\\left(\\text{month}\\right)^{-1}$\",\n",
    ")\n",
    "\n",
    "plt.show()"
   ]
  },
  {
   "cell_type": "markdown",
   "id": "2721803b-b3be-4a68-8087-8eac9f2db23a",
   "metadata": {},
   "source": [
    "### Ground truth budget"
   ]
  },
  {
   "cell_type": "code",
   "execution_count": null,
   "id": "7c12ef5c-668a-4830-abae-c0d7c5d2ac22",
   "metadata": {},
   "outputs": [],
   "source": [
    "## should we compute/plot this? (time-consuming)\n",
    "PLOT_BUDGET = False"
   ]
  },
  {
   "cell_type": "markdown",
   "id": "26648580-f16c-4adb-8e80-a0b4321538bf",
   "metadata": {},
   "source": [
    "Load data"
   ]
  },
  {
   "cell_type": "code",
   "execution_count": null,
   "id": "85085507-5c12-4590-b9b1-a26aa70d64fc",
   "metadata": {},
   "outputs": [],
   "source": [
    "if PLOT_BUDGET:\n",
    "\n",
    "    ## load budget data\n",
    "    budg_forced, budg_anom = load_budget_data(\n",
    "        t_early=t_early,\n",
    "        t_late=t_late,\n",
    "        target_grid=anom[[\"longitude\", \"z_t\"]],\n",
    "    )\n",
    "\n",
    "    ## split into early/late\n",
    "    budg_early = budg_anom.sel(t_early).compute()\n",
    "    budg_late = budg_anom.sel(t_late).compute()\n",
    "\n",
    "    ## add T,h information\n",
    "    for n in [\"T_34\", \"h_w_hat\"]:\n",
    "        budg_early[n] = anom_early[n]\n",
    "        budg_late[n] = anom_late[n]"
   ]
  },
  {
   "cell_type": "markdown",
   "id": "2bd941bd-3d19-466e-af0e-199719244970",
   "metadata": {},
   "source": [
    "Compute regression coefficients"
   ]
  },
  {
   "cell_type": "code",
   "execution_count": null,
   "id": "02cc7a78-2ef3-45f2-bbdd-c04efa0e1f06",
   "metadata": {},
   "outputs": [],
   "source": [
    "if PLOT_BUDGET:\n",
    "\n",
    "    ## get datasets to hold budget coefficients\n",
    "    m_early_bud = xr.Dataset()\n",
    "    m_late_bud = xr.Dataset()\n",
    "\n",
    "    ## get ground truth tendencies\n",
    "    for n in [\"TEND_TEMP\", \"ADV_3D_TEMP\"]:\n",
    "\n",
    "        ## regression coefficients\n",
    "        kwargs = dict(x_vars=[\"T_34\", \"h_w_hat\"], y_var=n)\n",
    "        m_early_bud[n] = src.utils.regress_bymonth(budg_early, **kwargs)[\"T_34\"]\n",
    "        m_late_bud[n] = src.utils.regress_bymonth(budg_late, **kwargs)[\"T_34\"]\n",
    "\n",
    "        ## mixed layer avg\n",
    "        m_early_bud[f\"{n}_ml\"] = src.utils.get_ml_avg(m_early_bud[n], **ml_early_kwargs)\n",
    "        m_late_bud[f\"{n}_ml\"] = src.utils.get_ml_avg(m_late_bud[n], **ml_late_kwargs)\n",
    "\n",
    "    ## get d/dt(SST)\n",
    "    m_early_bud[\"ddt_sst\"] = m_early_bud[\"TEND_TEMP\"].isel(z_t=0)\n",
    "    m_late_bud[\"ddt_sst\"] = m_late_bud[\"TEND_TEMP\"].isel(z_t=0)"
   ]
  },
  {
   "cell_type": "markdown",
   "id": "2db2f7c0-f683-4f07-8fd7-2efef096fc3e",
   "metadata": {},
   "source": [
    "Plot"
   ]
  },
  {
   "cell_type": "code",
   "execution_count": null,
   "id": "e224c2ad-af89-49d6-951c-3a08bffe14ae",
   "metadata": {},
   "outputs": [],
   "source": [
    "if PLOT_BUDGET:\n",
    "\n",
    "    amp = 1\n",
    "\n",
    "    for n in [\"ADV_3D_TEMP_ml\", \"ddt_sst\"]:\n",
    "\n",
    "        print(f\"\\n{n}\")\n",
    "        fig, axs = plt.subplots(1, 3, figsize=(6, 2.5), layout=\"constrained\")\n",
    "\n",
    "        ## plot data\n",
    "        cp0 = src.utils.make_cycle_hov(axs[0], data=m_early_bud[n], amp=amp)\n",
    "        cp1 = src.utils.make_cycle_hov(axs[1], data=m_late_bud[n], amp=amp)\n",
    "        cp2 = src.utils.make_cycle_hov(\n",
    "            axs[2], data=(m_late_bud - m_early_bud)[n], amp=amp * 0.75\n",
    "        )\n",
    "\n",
    "        ## make it look nicer\n",
    "        cb = fig.colorbar(\n",
    "            cp0,\n",
    "            ax=axs[2],\n",
    "            ticks=[-amp, 0, amp],\n",
    "            label=r\"$K~\\left(\\text{month}\\right)^{-1}$\",\n",
    "        )\n",
    "        src.utils.format_hov_axs(axs)\n",
    "        for ax in axs:\n",
    "            ax.axhline(7, ls=\"--\", c=\"k\", lw=1)\n",
    "\n",
    "        plt.show()"
   ]
  },
  {
   "cell_type": "markdown",
   "id": "59b8590c-6ece-48e7-87cf-756dd7d0ddb6",
   "metadata": {},
   "source": [
    "## Plot BJ couplings"
   ]
  },
  {
   "cell_type": "markdown",
   "id": "164c0c25-5647-49ef-be19-54199002ff12",
   "metadata": {},
   "source": [
    "### $R$"
   ]
  },
  {
   "cell_type": "markdown",
   "id": "fe5d606b-2893-4cb1-90d9-0664b7c14536",
   "metadata": {},
   "source": [
    "##### Hovmoller"
   ]
  },
  {
   "cell_type": "code",
   "execution_count": null,
   "id": "9eb5aa42-9bfb-404b-a590-f929fe990c73",
   "metadata": {},
   "outputs": [],
   "source": [
    "## shared args\n",
    "kwargs = dict(amp=0.5, lat_bound=1.5)\n",
    "\n",
    "fig, axs = plt.subplots(1, 3, figsize=(6, 2.5), layout=\"constrained\")\n",
    "\n",
    "## plot data\n",
    "cp0 = src.utils.make_cycle_hov(axs[0], data=m_early[\"ddt_sst\"], **kwargs)\n",
    "cp1 = src.utils.make_cycle_hov(axs[1], data=m_late[\"ddt_sst\"], **kwargs)\n",
    "cp2 = src.utils.make_cycle_hov(axs[2], data=(m_late - m_early)[\"ddt_sst\"], **kwargs)\n",
    "\n",
    "## make it look nicer\n",
    "cb = fig.colorbar(\n",
    "    cp0,\n",
    "    ax=axs[2],\n",
    "    ticks=[-kwargs[\"amp\"], 0, kwargs[\"amp\"]],\n",
    "    label=r\"$K~\\left(\\text{month}\\right)^{-1}$\",\n",
    ")\n",
    "src.utils.format_hov_axs(axs)\n",
    "for ax in axs:\n",
    "    ax.axhline(7, ls=\"--\", c=\"k\", lw=1)\n",
    "\n",
    "plt.show()"
   ]
  },
  {
   "cell_type": "markdown",
   "id": "2f672bd9-84f3-4b54-b5c5-d37f1d4bba6e",
   "metadata": {},
   "source": [
    "##### Spatial plot"
   ]
  },
  {
   "cell_type": "code",
   "execution_count": null,
   "id": "fedde1e8-8755-4c70-ac65-ef5d0f010266",
   "metadata": {},
   "outputs": [],
   "source": [
    "## select month\n",
    "sel = lambda x: x.sel(month=7)\n",
    "\n",
    "## set up plot\n",
    "fig = plt.figure(figsize=(7, 3.9), layout=\"constrained\")\n",
    "format_func = lambda ax,: src.utils.plot_setup_pac(ax, max_lat=20)\n",
    "axs = src.utils.subplots_with_proj(fig, nrows=3, ncols=1, format_func=format_func)\n",
    "\n",
    "contour_kwargs = dict(amp=0.5, sel=sel)\n",
    "cp0 = src.utils.make_contour_plot(axs[0, 0], m_early[\"ddt_sst\"], **contour_kwargs)\n",
    "cp1 = src.utils.make_contour_plot(axs[1, 0], m_late[\"ddt_sst\"], **contour_kwargs)\n",
    "cp2 = src.utils.make_contour_plot(\n",
    "    axs[2, 0], (m_late - m_early)[\"ddt_sst\"], **contour_kwargs\n",
    ")\n",
    "\n",
    "## colorbar\n",
    "cb_kwargs = dict(\n",
    "    label=r\"$K ~\\text{yr}^{-1}~ \\left(T_{34}\\right)^{-1}$\", ticks=[-0.5, 0, 0.5]\n",
    ")\n",
    "cb0 = fig.colorbar(cp0, ax=axs[:2], **cb_kwargs)\n",
    "cb2 = fig.colorbar(cp2, ax=axs[-1], **cb_kwargs)\n",
    "\n",
    "## Niño 3 box\n",
    "box_kwargs = dict(c=\"k\", linewidth=0.9, alpha=0.5)\n",
    "for ax in axs.flatten():\n",
    "    src.utils.plot_nino34_box(ax, **box_kwargs)\n",
    "\n",
    "plt.show()"
   ]
  },
  {
   "cell_type": "markdown",
   "id": "474560e4-adaa-4d18-b77d-073185fca925",
   "metadata": {},
   "source": [
    "##### Scatter plot"
   ]
  },
  {
   "cell_type": "code",
   "execution_count": null,
   "id": "09ee95d0-0655-4261-aa29-4fe50bbbae91",
   "metadata": {},
   "outputs": [],
   "source": [
    "## kwargs for plotting\n",
    "kwargs = dict(months=7, x_var=\"T_34\", y_var=\"ddt_sst\", fn_y=src.utils.get_nino34)\n",
    "\n",
    "# kwargs = dict(\n",
    "#     months=7, x_var=\"sst\", y_var=\"ddt_sst\", fn_x=src.utils.get_nino4, fn_y=src.utils.get_nino4\n",
    "# )\n",
    "\n",
    "## set up plot\n",
    "fig, axs = plt.subplots(1, 2, figsize=(5, 2.5), layout=\"constrained\")\n",
    "m0 = src.utils.make_scatter2(axs[0], anom_early, **kwargs)\n",
    "m1 = src.utils.make_scatter2(axs[1], anom_late, **kwargs)\n",
    "\n",
    "## label\n",
    "axs[0].set_title(f\"{m0:.2f}\" + r\" $mo^{-1}$\")\n",
    "axs[1].set_title(f\"{m1:.2f}\" + r\" $mo^{-1}$\")\n",
    "axs[1].set_yticks([])\n",
    "\n",
    "src.utils.set_lims(axs)"
   ]
  },
  {
   "cell_type": "markdown",
   "id": "0ec794e9-a8ee-4c20-b8c9-3ceba383a87f",
   "metadata": {},
   "source": [
    "### Surface feedbacks"
   ]
  },
  {
   "cell_type": "code",
   "execution_count": null,
   "id": "a973b331-a676-43d9-ae75-7d71fa29819d",
   "metadata": {},
   "outputs": [],
   "source": [
    "## specify which feedback to plot\n",
    "PLOTVAR = \"ADV_\"\n",
    "\n",
    "## shared args\n",
    "kwargs = dict(amp=0.5, lat_bound=1.5)\n",
    "\n",
    "fig, axs = plt.subplots(1, 3, figsize=(6, 2.5), layout=\"constrained\")\n",
    "\n",
    "## plot data\n",
    "cp0 = src.utils.make_cycle_hov(axs[0], data=m_early[PLOTVAR], **kwargs)\n",
    "cp1 = src.utils.make_cycle_hov(axs[1], data=m_late[PLOTVAR], **kwargs)\n",
    "cp2 = src.utils.make_cycle_hov(axs[2], data=(m_late - m_early)[PLOTVAR], **kwargs)\n",
    "\n",
    "## make it look nicer\n",
    "cb = fig.colorbar(\n",
    "    cp0,\n",
    "    ax=axs[2],\n",
    "    ticks=[-kwargs[\"amp\"], 0, kwargs[\"amp\"]],\n",
    "    label=r\"$K~\\left(\\text{month}\\right)^{-1}$\",\n",
    ")\n",
    "src.utils.format_hov_axs(axs)\n",
    "for ax in axs:\n",
    "    ax.axhline(7, ls=\"--\", c=\"k\", lw=1)\n",
    "\n",
    "plt.show()"
   ]
  },
  {
   "cell_type": "code",
   "execution_count": null,
   "id": "792d8654-fb81-47a3-ad53-b425a9aad7e4",
   "metadata": {},
   "outputs": [],
   "source": [
    "## select month\n",
    "sel = lambda x: x.sel(month=7)\n",
    "\n",
    "## set up plot\n",
    "fig = plt.figure(figsize=(7, 3.9), layout=\"constrained\")\n",
    "format_func = lambda ax,: src.utils.plot_setup_pac(ax, max_lat=20)\n",
    "axs = src.utils.subplots_with_proj(fig, nrows=3, ncols=1, format_func=format_func)\n",
    "\n",
    "contour_kwargs = dict(amp=0.5, sel=sel)\n",
    "cp0 = src.utils.make_contour_plot(axs[0, 0], m_early[PLOTVAR], **contour_kwargs)\n",
    "cp1 = src.utils.make_contour_plot(axs[1, 0], m_late[PLOTVAR], **contour_kwargs)\n",
    "cp2 = src.utils.make_contour_plot(\n",
    "    axs[2, 0], (m_late - m_early)[PLOTVAR], **contour_kwargs\n",
    ")\n",
    "\n",
    "## colorbar\n",
    "cb_kwargs = dict(\n",
    "    label=r\"$K ~\\text{yr}^{-1}~ \\left(T_{34}\\right)^{-1}$\", ticks=[-0.5, 0, 0.5]\n",
    ")\n",
    "cb0 = fig.colorbar(cp0, ax=axs[:2], **cb_kwargs)\n",
    "cb2 = fig.colorbar(cp2, ax=axs[-1], **cb_kwargs)\n",
    "\n",
    "## Niño 3 box\n",
    "box_kwargs = dict(c=\"k\", linewidth=0.9, alpha=0.5)\n",
    "for ax in axs.flatten():\n",
    "    src.utils.plot_nino34_box(ax, **box_kwargs)\n",
    "\n",
    "plt.show()"
   ]
  },
  {
   "cell_type": "markdown",
   "id": "f9940a57-390e-40c2-942c-f062770635f2",
   "metadata": {},
   "source": [
    "### Niño 3.4 - SST"
   ]
  },
  {
   "cell_type": "code",
   "execution_count": null,
   "id": "ec552cf1-734e-45d6-be4c-2fecf76809ee",
   "metadata": {},
   "outputs": [],
   "source": [
    "## shared args\n",
    "kwargs = dict(amp=1.5, lat_bound=1.5)\n",
    "\n",
    "fig, axs = plt.subplots(1, 3, figsize=(6, 2.5), layout=\"constrained\")\n",
    "\n",
    "## plot data\n",
    "cp0 = src.utils.make_cycle_hov(axs[0], data=m_early[\"sst\"], **kwargs)\n",
    "cp1 = src.utils.make_cycle_hov(axs[1], data=m_late[\"sst\"], **kwargs)\n",
    "cp2 = src.utils.make_cycle_hov(axs[2], data=2 * (m_late - m_early)[\"sst\"], **kwargs)\n",
    "\n",
    "## make it look nicer\n",
    "cb = fig.colorbar(\n",
    "    cp0,\n",
    "    ax=axs[2],\n",
    "    ticks=[-kwargs[\"amp\"], 0, kwargs[\"amp\"]],\n",
    "    label=r\"$K~K^{-1}$\",\n",
    ")\n",
    "src.utils.format_hov_axs(axs)\n",
    "for ax in axs:\n",
    "    ax.axhline(7, ls=\"--\", c=\"k\", lw=1)\n",
    "\n",
    "plt.show()"
   ]
  },
  {
   "cell_type": "markdown",
   "id": "9b67ce4a-337f-4d3a-a2ea-fa1a16d52d6b",
   "metadata": {},
   "source": [
    "### SST - NHF"
   ]
  },
  {
   "cell_type": "code",
   "execution_count": null,
   "id": "38508efa-ac43-4df6-b2aa-a5336965b3d5",
   "metadata": {},
   "outputs": [],
   "source": [
    "## shared args\n",
    "kwargs = dict(amp=40, lat_bound=1.5)\n",
    "\n",
    "fig, axs = plt.subplots(1, 3, figsize=(6, 2.5), layout=\"constrained\")\n",
    "\n",
    "## plot data\n",
    "cp0 = src.utils.make_cycle_hov(axs[0], data=m_early[\"nhf\"], **kwargs)\n",
    "cp1 = src.utils.make_cycle_hov(axs[1], data=m_late[\"nhf\"], **kwargs)\n",
    "cp2 = src.utils.make_cycle_hov(axs[2], data=2 * (m_late - m_early)[\"nhf\"], **kwargs)\n",
    "\n",
    "## make it look nicer\n",
    "cb = fig.colorbar(\n",
    "    cp0,\n",
    "    ax=axs[2],\n",
    "    ticks=[-kwargs[\"amp\"], 0, kwargs[\"amp\"]],\n",
    "    label=r\"$W~m^{-2}~K^{-1}$\",\n",
    ")\n",
    "src.utils.format_hov_axs(axs)\n",
    "for ax in axs:\n",
    "    ax.axhline(7, ls=\"--\", c=\"k\", lw=1)\n",
    "\n",
    "plt.show()"
   ]
  },
  {
   "cell_type": "markdown",
   "id": "aa85c11f-9505-4ed7-b691-6b57f81b6baa",
   "metadata": {},
   "source": [
    "### SST-$\\tau_x$"
   ]
  },
  {
   "cell_type": "markdown",
   "id": "3d773f05-3f33-4448-b643-0e12e81f5a28",
   "metadata": {},
   "source": [
    "##### Hovmoller"
   ]
  },
  {
   "cell_type": "code",
   "execution_count": null,
   "id": "f1fbc198-0228-42fd-9391-6fd24ce2864a",
   "metadata": {},
   "outputs": [],
   "source": [
    "## shared args\n",
    "kwargs = dict(amp=0.02, lat_bound=1.5)\n",
    "\n",
    "fig, axs = plt.subplots(1, 3, figsize=(6, 2.5), layout=\"constrained\")\n",
    "\n",
    "## plot data\n",
    "cp0 = src.utils.make_cycle_hov(axs[0], data=m_early[\"taux\"], **kwargs)\n",
    "cp1 = src.utils.make_cycle_hov(axs[1], data=m_late[\"taux\"], **kwargs)\n",
    "cp2 = src.utils.make_cycle_hov(axs[2], data=2 * (m_late - m_early)[\"taux\"], **kwargs)\n",
    "\n",
    "## make it look nicer\n",
    "cb = fig.colorbar(\n",
    "    cp0,\n",
    "    ax=axs[2],\n",
    "    ticks=[-kwargs[\"amp\"], 0, kwargs[\"amp\"]],\n",
    "    label=r\"$K~\\left(\\text{month}\\right)^{-1}$\",\n",
    ")\n",
    "src.utils.format_hov_axs(axs)\n",
    "for ax in axs:\n",
    "    ax.axhline(7, ls=\"--\", c=\"k\", lw=1)\n",
    "\n",
    "plt.show()"
   ]
  },
  {
   "cell_type": "markdown",
   "id": "bda41a22-9518-41d7-b306-b954129cc288",
   "metadata": {},
   "source": [
    "##### Spatial plot"
   ]
  },
  {
   "cell_type": "code",
   "execution_count": null,
   "id": "005d634e-6be9-4d44-bd8b-93ad49236ed7",
   "metadata": {},
   "outputs": [],
   "source": [
    "## select month\n",
    "sel = lambda x: x.sel(month=6)\n",
    "\n",
    "## set up plot\n",
    "fig = plt.figure(figsize=(7, 3.9), layout=\"constrained\")\n",
    "format_func = lambda ax,: src.utils.plot_setup_pac(ax, max_lat=20)\n",
    "axs = src.utils.subplots_with_proj(fig, nrows=3, ncols=1, format_func=format_func)\n",
    "\n",
    "contour_kwargs = dict(amp=3e-2, sel=sel)\n",
    "cp0 = src.utils.make_contour_plot(axs[0, 0], m_early[\"taux\"], **contour_kwargs)\n",
    "cp1 = src.utils.make_contour_plot(axs[1, 0], m_late[\"taux\"], **contour_kwargs)\n",
    "cp2 = src.utils.make_contour_plot(\n",
    "    axs[2, 0], (m_late - m_early)[\"taux\"], **dict(contour_kwargs, amp=1.5e-2)\n",
    ")\n",
    "\n",
    "## colorbar\n",
    "lab = r\"$Pa~K^{-1}$\"\n",
    "cb0 = fig.colorbar(cp0, ax=axs[:2], ticks=[-3e-2, 0, 3e-2], label=lab)\n",
    "cb2 = fig.colorbar(cp2, ax=axs[-1], ticks=[-1.5e-2, 0, 1.5e-2], label=lab)\n",
    "\n",
    "## Niño 3 box\n",
    "box_kwargs = dict(c=\"k\", linewidth=0.9, alpha=0.5)\n",
    "for ax in axs.flatten():\n",
    "    src.utils.plot_nino34_box(ax, **box_kwargs)\n",
    "\n",
    "plt.show()"
   ]
  },
  {
   "cell_type": "code",
   "execution_count": null,
   "id": "e5ab5769-9c9c-4aeb-a3d4-73bc0cd8f350",
   "metadata": {},
   "outputs": [],
   "source": [
    "sel = lambda x: x.sel(month=6, latitude=slice(-5, 5)).mean(\"latitude\")\n",
    "\n",
    "fig, ax = plt.subplots(figsize=(3, 2.5))\n",
    "ax.plot(m_early[\"taux\"].longitude, sel(m_late[\"taux\"] - m_early[\"taux\"]))\n",
    "ax.axhline(0, ls=\"--\", c=\"k\", lw=0.8)\n",
    "ax.set_xlim([140, 280])"
   ]
  },
  {
   "cell_type": "code",
   "execution_count": null,
   "id": "d95fa8cc-0eef-4620-abc8-0e8a97313545",
   "metadata": {},
   "outputs": [],
   "source": [
    "## kwargs for plotting\n",
    "kwargs = dict(\n",
    "    months=7, scale=1e3, x_var=\"T_34\", y_var=\"taux\", fn_y=src.utils.get_nino34\n",
    ")\n",
    "\n",
    "## set up plot\n",
    "fig, axs = plt.subplots(1, 2, figsize=(5, 2.5), layout=\"constrained\")\n",
    "m0 = src.utils.make_scatter2(axs[0], anom_early, **kwargs)\n",
    "m1 = src.utils.make_scatter2(axs[1], anom_late, **kwargs)\n",
    "\n",
    "## label\n",
    "axs[0].set_title(f\"{m0:.1f}\" + r\" $mPa~K^{-1}$\")\n",
    "axs[1].set_title(f\"{m1:.1f}\" + r\" $mPa~K^{-1}$\")\n",
    "axs[1].set_yticks([])\n",
    "\n",
    "src.utils.set_lims(axs)"
   ]
  },
  {
   "cell_type": "markdown",
   "id": "643664e8-7352-4cbe-94d7-d0b76ea6f402",
   "metadata": {},
   "source": [
    "### $\\tau_x$ - SSH"
   ]
  },
  {
   "cell_type": "markdown",
   "id": "2242c71f-61b2-42b4-82d1-a5f9780e4311",
   "metadata": {},
   "source": [
    "##### Hovmoller"
   ]
  },
  {
   "cell_type": "code",
   "execution_count": null,
   "id": "a9867dd2-49b9-42bc-9603-218e8eb94caf",
   "metadata": {},
   "outputs": [],
   "source": [
    "## shared args\n",
    "kwargs = dict(amp=800, lat_bound=1.5)\n",
    "\n",
    "fig, axs = plt.subplots(1, 3, figsize=(6, 2.5), layout=\"constrained\")\n",
    "\n",
    "## plot data\n",
    "cp0 = src.utils.make_cycle_hov(axs[0], data=m_early_bj[\"taux_4-ssh\"], **kwargs)\n",
    "cp1 = src.utils.make_cycle_hov(axs[1], data=m_late_bj[\"taux_4-ssh\"], **kwargs)\n",
    "cp2 = src.utils.make_cycle_hov(\n",
    "    axs[2], data=2 * (m_late_bj - m_early_bj)[\"taux_4-ssh\"], **kwargs\n",
    ")\n",
    "\n",
    "## make it look nicer\n",
    "cb = fig.colorbar(\n",
    "    cp0,\n",
    "    ax=axs[2],\n",
    "    ticks=[-kwargs[\"amp\"], 0, kwargs[\"amp\"]],\n",
    "    label=r\"$cm~\\left(\\text{Pa}\\right)^{-1}$\",\n",
    ")\n",
    "src.utils.format_hov_axs(axs)\n",
    "for ax in axs:\n",
    "    ax.axhline(7, ls=\"--\", c=\"k\", lw=1)\n",
    "\n",
    "plt.show()"
   ]
  },
  {
   "cell_type": "markdown",
   "id": "13d4cc2c-0741-4e41-a0b8-1bd626aedb06",
   "metadata": {},
   "source": [
    "##### Scatter"
   ]
  },
  {
   "cell_type": "code",
   "execution_count": null,
   "id": "806aa228-33ef-4acb-9078-26e4e5788a6a",
   "metadata": {},
   "outputs": [],
   "source": [
    "## kwargs for plotting\n",
    "kwargs = dict(\n",
    "    months=7,\n",
    "    scale=1e-2,\n",
    "    x_var=\"taux_4\",\n",
    "    y_var=\"ssh_3\",\n",
    ")\n",
    "\n",
    "## set up plot\n",
    "fig, axs = plt.subplots(1, 2, figsize=(5, 2.5), layout=\"constrained\")\n",
    "m0 = src.utils.make_scatter2(axs[0], anom_early, **kwargs)\n",
    "m1 = src.utils.make_scatter2(axs[1], anom_late, **kwargs)\n",
    "\n",
    "## label\n",
    "axs[0].set_title(f\"{m0:.1f}\" + r\" $m~\\text{Pa}^{-1}$\")\n",
    "axs[1].set_title(f\"{m1:.1f}\" + r\" $m~\\text{Pa}^{-1}$\")\n",
    "axs[1].set_yticks([])\n",
    "\n",
    "src.utils.set_lims(axs)"
   ]
  },
  {
   "cell_type": "markdown",
   "id": "32cd8239-9dca-4e97-af5d-0925d7afc859",
   "metadata": {},
   "source": [
    "### $T_{sub}-$Niño3.4"
   ]
  },
  {
   "cell_type": "code",
   "execution_count": null,
   "id": "3ef83326-f75b-4e72-a178-59e52f943856",
   "metadata": {},
   "outputs": [],
   "source": [
    "## shared args\n",
    "kwargs = dict(amp=2, lat_bound=1.5)\n",
    "\n",
    "fig, axs = plt.subplots(1, 3, figsize=(6, 2.5), layout=\"constrained\")\n",
    "\n",
    "## plot data\n",
    "cp0 = src.utils.make_cycle_hov(axs[0], data=m_early[\"dT_n34\"], **kwargs)\n",
    "cp1 = src.utils.make_cycle_hov(axs[1], data=m_late[\"dT_n34\"], **kwargs)\n",
    "cp2 = src.utils.make_cycle_hov(axs[2], data=2 * (m_late - m_early)[\"dT_n34\"], **kwargs)\n",
    "\n",
    "## make it look nicer\n",
    "cb = fig.colorbar(\n",
    "    cp0,\n",
    "    ax=axs[2],\n",
    "    ticks=[-kwargs[\"amp\"], 0, kwargs[\"amp\"]],\n",
    "    label=r\"$K~\\left(\\text{month}\\right)^{-1}$\",\n",
    ")\n",
    "src.utils.format_hov_axs(axs)\n",
    "for ax in axs:\n",
    "    ax.axhline(7, ls=\"--\", c=\"k\", lw=1)\n",
    "\n",
    "plt.show()"
   ]
  },
  {
   "cell_type": "markdown",
   "id": "cc638aaf-8853-43f7-9ebc-34ba9de06bbe",
   "metadata": {},
   "source": [
    "### $T_{sub}-\\tau_x$"
   ]
  },
  {
   "cell_type": "code",
   "execution_count": null,
   "id": "d668724f-a641-455e-8ad6-b1bbca7c49a3",
   "metadata": {},
   "outputs": [],
   "source": [
    "## specify which period/month to plot\n",
    "sel = lambda x: x.sel(month=7)\n",
    "\n",
    "fig, axs = plt.subplots(1, 3, figsize=(8, 2.5), layout=\"constrained\")\n",
    "\n",
    "for ax, m in zip(axs[:2], [m_early_bj, m_late_bj]):\n",
    "\n",
    "    ## temperature\n",
    "    cp = ax.contourf(\n",
    "        m.longitude,\n",
    "        m.z_t,\n",
    "        sel(m[\"taux_4-T\"]),\n",
    "        cmap=\"cmo.balance\",\n",
    "        levels=src.utils.make_cb_range(200, 20),\n",
    "        extend=\"both\",\n",
    "    )\n",
    "\n",
    "## difference\n",
    "axs[2].contourf(\n",
    "    m.longitude,\n",
    "    m.z_t,\n",
    "    sel(m_late_bj - m_early_bj)[\"taux_4-T\"],\n",
    "    cmap=\"cmo.balance\",\n",
    "    levels=src.utils.make_cb_range(100, 10),\n",
    "    extend=\"both\",\n",
    ")\n",
    "## plot MLD\n",
    "# plot_mlds(axs=axs, bar_early=bar_early, bar_late=bar_late, sel=sel)\n",
    "\n",
    "## label\n",
    "cb = fig.colorbar(cp, ax=axs[2], ticks=[-200, 0, 200], label=r\"$K~\\text{Pa}^{-1}$\")\n",
    "src.utils.format_subsurf_axs(axs)\n",
    "for ax in axs:\n",
    "    ax.set_ylim([100, 5])\n",
    "    ax.set_xlim([140, 280])\n",
    "    ax.axvline(190, ls=\"--\", c=\"w\", lw=0.8)\n",
    "    ax.axvline(240, ls=\"--\", c=\"w\", lw=0.8)\n",
    "\n",
    "plt.show()"
   ]
  },
  {
   "cell_type": "code",
   "execution_count": null,
   "id": "a5d19458-b6f6-481b-aecf-995b6bc4abd8",
   "metadata": {},
   "outputs": [],
   "source": [
    "## shared args\n",
    "kwargs = dict(amp=150, lat_bound=1.5)\n",
    "\n",
    "fig, axs = plt.subplots(1, 3, figsize=(6, 2.5), layout=\"constrained\")\n",
    "\n",
    "## plot data\n",
    "cp0 = src.utils.make_cycle_hov(axs[0], data=m_early_bj[\"dT_taux\"], **kwargs)\n",
    "cp1 = src.utils.make_cycle_hov(axs[1], data=m_late_bj[\"dT_taux\"], **kwargs)\n",
    "cp2 = src.utils.make_cycle_hov(\n",
    "    axs[2], data=(m_late_bj - m_early_bj)[\"dT_taux\"], **kwargs\n",
    ")\n",
    "\n",
    "## make it look nicer\n",
    "cb = fig.colorbar(\n",
    "    cp0,\n",
    "    ax=axs[2],\n",
    "    ticks=[-kwargs[\"amp\"], 0, kwargs[\"amp\"]],\n",
    "    label=r\"$K~Pa^{-1}$\",\n",
    ")\n",
    "src.utils.format_hov_axs(axs)\n",
    "for ax in axs:\n",
    "    ax.axhline(7, ls=\"--\", c=\"k\", lw=1)\n",
    "\n",
    "plt.show()"
   ]
  },
  {
   "cell_type": "markdown",
   "id": "104f7674-7ef3-44b0-a548-a33e78bd0ff5",
   "metadata": {},
   "source": [
    "### Subsurface terms"
   ]
  },
  {
   "cell_type": "markdown",
   "id": "c3949f8d-9a9d-4f5a-9531-b9a736a62395",
   "metadata": {},
   "source": [
    "#### Budget terms"
   ]
  },
  {
   "cell_type": "code",
   "execution_count": null,
   "id": "9caed31f-ea66-4f38-b61f-c8112af21814",
   "metadata": {},
   "outputs": [],
   "source": [
    "## specify vars to plot\n",
    "if PLOT_BUDGET:\n",
    "    plot_vars = [\"THF\", \"EKM\", \"ZAF\", \"ADV\", \"ADV_3D_TEMP\"]\n",
    "else:\n",
    "    plot_vars = [\"THF\", \"EKM\", \"ZAF\", \"ADV\"]\n",
    "\n",
    "\n",
    "for n in plot_vars:\n",
    "\n",
    "    print(f\"\\n\\n{n}\")\n",
    "\n",
    "    ## specify which period/month to plot\n",
    "    sel = lambda x: x.sel(month=8)\n",
    "\n",
    "    fig, axs = plt.subplots(1, 3, figsize=(8, 2.5), layout=\"constrained\")\n",
    "\n",
    "    for ax, m in zip(axs[:2], [m_early, m_late]):\n",
    "\n",
    "        ## temperature\n",
    "        cp = ax.contourf(\n",
    "            m.longitude,\n",
    "            m.z_t,\n",
    "            sel(m)[n],\n",
    "            cmap=\"cmo.balance\",\n",
    "            levels=src.utils.make_cb_range(2, 0.2),\n",
    "            extend=\"both\",\n",
    "        )\n",
    "\n",
    "    ## difference\n",
    "    axs[2].contourf(\n",
    "        m_early.longitude,\n",
    "        m_early.z_t,\n",
    "        sel(m_late - m_early)[n],\n",
    "        cmap=\"cmo.balance\",\n",
    "        levels=src.utils.make_cb_range(1, 0.1),\n",
    "        extend=\"both\",\n",
    "    )\n",
    "\n",
    "    ## plot MLD\n",
    "    plot_mlds(axs, bar_early=bar_early, bar_late=bar_late, sel=sel)\n",
    "\n",
    "    ## set ax limit and plot Niño 3.4 bounds\n",
    "    cb = fig.colorbar(\n",
    "        cp, ax=axs[2], ticks=[-2, 0, 2], label=r\"$K~\\left(\\text{month}\\right)^{-1}$\"\n",
    "    )\n",
    "    src.utils.format_subsurf_axs(axs)\n",
    "    for ax in axs:\n",
    "        ax.set_xlim([145, 280])\n",
    "        ax.set_ylim([100, 5])\n",
    "        ax.axvline(190, ls=\"--\", c=\"w\", lw=0.8)\n",
    "        ax.axvline(240, ls=\"--\", c=\"w\", lw=0.8)\n",
    "\n",
    "    plt.show()"
   ]
  },
  {
   "cell_type": "markdown",
   "id": "2b670714-477e-478b-b5e6-3fd980e8e5ce",
   "metadata": {},
   "source": [
    "#### Ekman / ZAF"
   ]
  },
  {
   "cell_type": "code",
   "execution_count": null,
   "id": "9e632df1-19ed-42b7-a1f2-485827d441b6",
   "metadata": {},
   "outputs": [],
   "source": [
    "## specify which period/month to plot\n",
    "sel = lambda x: x.sel(month=7)\n",
    "\n",
    "## get aspect ratio (for scaling arrows)\n",
    "dz = 300  # units: m\n",
    "dx = src.utils.get_dx(lat_deg=0, dlon_deg=150)\n",
    "aspect = dx / dz\n",
    "\n",
    "fig, axs = plt.subplots(1, 3, figsize=(12, 3.5), layout=\"constrained\")\n",
    "\n",
    "for ax, bar, prime in zip(axs[:2], [bar_early, bar_late], [m_early, m_late]):\n",
    "\n",
    "    ## temperature\n",
    "    ax.contourf(\n",
    "        bar.longitude,\n",
    "        bar.z_t,\n",
    "        sel(bar[\"T\"]),\n",
    "        cmap=\"cmo.thermal\",\n",
    "        levels=np.arange(10, 34, 2),\n",
    "        extend=\"both\",\n",
    "    )\n",
    "\n",
    "    ## u and w\n",
    "    ax.quiver(\n",
    "        prime.longitude.values[::4],\n",
    "        prime.z_t.values[::2],\n",
    "        sel(prime[\"u\"]).values[::2, ::4],\n",
    "        sel(prime[\"w\"]).values[::2, ::4] * aspect,\n",
    "        pivot=\"middle\",\n",
    "        alpha=0.7,\n",
    "        scale=1.5e7,\n",
    "    )\n",
    "\n",
    "\n",
    "## plot difference\n",
    "delta_bar = bar_late - bar_early\n",
    "\n",
    "## temperature\n",
    "axs[2].contourf(\n",
    "    delta_bar.longitude,\n",
    "    delta_bar.z_t,\n",
    "    sel(delta_bar[\"T\"]),\n",
    "    cmap=\"cmo.balance\",\n",
    "    levels=src.utils.make_cb_range(5, 0.5),\n",
    "    extend=\"both\",\n",
    ")\n",
    "\n",
    "# ## vertical velocity\n",
    "# ## u and w\n",
    "axs[2].quiver(\n",
    "    m_early.longitude.values[::4],\n",
    "    m_early.z_t.values[::2],\n",
    "    sel(m_early[\"u\"]).values[::2, ::4],\n",
    "    sel(m_early[\"w\"]).values[::2, ::4] * aspect,\n",
    "    pivot=\"middle\",\n",
    "    alpha=0.7,\n",
    "    scale=1.5e7,\n",
    ")\n",
    "\n",
    "## label\n",
    "plot_mlds(axs=axs, bar_early=bar_early, bar_late=bar_late, sel=sel)\n",
    "src.utils.format_subsurf_axs(axs)\n",
    "for ax in axs:\n",
    "    ax.set_ylim([305, 10])\n",
    "    ax.set_xlim([140, 279])\n",
    "\n",
    "\n",
    "plt.show()"
   ]
  }
 ],
 "metadata": {
  "kernelspec": {
   "display_name": "Python [conda env:envs]",
   "language": "python",
   "name": "conda-env-envs-py"
  },
  "language_info": {
   "codemirror_mode": {
    "name": "ipython",
    "version": 3
   },
   "file_extension": ".py",
   "mimetype": "text/x-python",
   "name": "python",
   "nbconvert_exporter": "python",
   "pygments_lexer": "ipython3",
   "version": "3.13.5"
  }
 },
 "nbformat": 4,
 "nbformat_minor": 5
}
