{
 "cells": [
  {
   "cell_type": "markdown",
   "id": "00a1a48a-5cc0-4640-a3d9-aed41344e521",
   "metadata": {},
   "source": [
    "# Sverdrup balance\n",
    "How well does it hold by season? More efficient in future?"
   ]
  },
  {
   "cell_type": "markdown",
   "id": "b3f33ba2-e7e8-4d4f-95cf-e3612ace83d7",
   "metadata": {},
   "source": [
    "## Imports"
   ]
  },
  {
   "cell_type": "code",
   "execution_count": null,
   "id": "292cf6dd-fd06-49d4-bed0-1888da45e7da",
   "metadata": {},
   "outputs": [],
   "source": [
    "import matplotlib.pyplot as plt\n",
    "import cartopy.crs as ccrs\n",
    "import matplotlib as mpl\n",
    "import numpy as np\n",
    "import seaborn as sns\n",
    "import xarray as xr\n",
    "import tqdm\n",
    "import pathlib\n",
    "import cmocean\n",
    "import os\n",
    "import copy\n",
    "import pandas as pd\n",
    "\n",
    "# Import custom modules\n",
    "import src.utils\n",
    "\n",
    "## set plotting specs\n",
    "sns.set(rc={\"axes.facecolor\": \"white\", \"axes.grid\": False})\n",
    "\n",
    "## bump up DPI\n",
    "mpl.rcParams[\"figure.dpi\"] = 100\n",
    "\n",
    "## get filepaths\n",
    "DATA_FP = pathlib.Path(os.environ[\"DATA_FP\"])\n",
    "SAVE_FP = pathlib.Path(os.environ[\"SAVE_FP\"])"
   ]
  },
  {
   "cell_type": "markdown",
   "id": "7b851b4c-c0a0-4635-9632-0c45a5bf742f",
   "metadata": {},
   "source": [
    "## Funcs"
   ]
  },
  {
   "cell_type": "code",
   "execution_count": null,
   "id": "19f0aed6-1e56-4f36-9be8-7ffe828d671f",
   "metadata": {},
   "outputs": [],
   "source": [
    "def make_scatter(ax, data, x_var, y_var, scale=1, months=None):\n",
    "    \"\"\"scatter plot data on axis\"\"\"\n",
    "\n",
    "    ## helper function to stack time/member dims\n",
    "    stack = lambda x: x.stack(sample=[\"member\", \"time\"])\n",
    "    prep = lambda x: stack(src.utils.sel_month(x, months=months))\n",
    "\n",
    "    ## evaluate data\n",
    "    x = prep(data[x_var])\n",
    "    y = prep(data[y_var]) * scale\n",
    "\n",
    "    ## compute slope for best fit line\n",
    "    slope = src.utils.regress_core(X=x, Y=y, dim=\"sample\")\n",
    "\n",
    "    ## convert to numpy\n",
    "    slope = slope.values.item()\n",
    "\n",
    "    ## plot data\n",
    "    ax.scatter(x, y, s=0.5)\n",
    "\n",
    "    ## plot best fit\n",
    "    xtest = np.linspace(x.values.min(), x.values.max())\n",
    "    ax.plot(xtest, slope * xtest, c=\"k\", lw=1)\n",
    "\n",
    "    ## plot some guidelines\n",
    "    ax.axhline(0, ls=\"--\", lw=0.8, c=\"k\")\n",
    "    ax.axvline(0, ls=\"--\", lw=0.8, c=\"k\")\n",
    "\n",
    "    return slope"
   ]
  },
  {
   "cell_type": "markdown",
   "id": "bbd028f0-f0e6-4780-b9d6-4e9e9c5cc800",
   "metadata": {},
   "source": [
    "## Load data"
   ]
  },
  {
   "cell_type": "code",
   "execution_count": null,
   "id": "08a02a28-8044-4a21-8c09-98802b270ab4",
   "metadata": {},
   "outputs": [],
   "source": [
    "## load spatial data\n",
    "forced, anom = src.utils.load_consolidated()"
   ]
  },
  {
   "cell_type": "markdown",
   "id": "e57be1dd-951f-4a1e-a2e5-ec3d0189ab66",
   "metadata": {},
   "source": [
    "### Compute indices"
   ]
  },
  {
   "cell_type": "code",
   "execution_count": null,
   "id": "af662dbb-1846-4c7d-875e-559c5ae52cb6",
   "metadata": {},
   "outputs": [],
   "source": [
    "sel_e = lambda x: x.sel(\n",
    "    latitude=slice(-5, 5),\n",
    "    longitude=slice(210, 280),\n",
    ").mean([\"latitude\", \"longitude\"])\n",
    "sel_w = lambda x: x.sel(\n",
    "    latitude=slice(-5, 5),\n",
    "    longitude=slice(120, 210),\n",
    ").mean([\"latitude\", \"longitude\"])\n",
    "\n",
    "## specify funcs and variables\n",
    "varnames = [\"ssh\", \"ssh\", \"taux\", \"sst\", \"z20\", \"z20\"]\n",
    "fns = [sel_e, sel_w, src.utils.get_nino4, src.utils.get_nino34, sel_e, sel_w]\n",
    "newnames = [\"h_e\", \"h_w\", \"taux4\", \"T_34\", \"h_e_z20\", \"h_w_z20\"]\n",
    "\n",
    "## compute indices\n",
    "idxs = []\n",
    "for v, fn, n in zip(varnames, fns, newnames):\n",
    "    idxs.append(\n",
    "        src.utils.reconstruct_wrapper(anom[[v, f\"{v}_comp\"]], fn=fn).rename({v: n})\n",
    "    )\n",
    "idxs = xr.merge(idxs)\n",
    "\n",
    "## get ssh grad\n",
    "idxs[\"dh\"] = idxs[\"h_e\"] - idxs[\"h_w\"]\n",
    "idxs[\"dh_z20\"] = idxs[\"h_e_z20\"] - idxs[\"h_w_z20\"]"
   ]
  },
  {
   "cell_type": "markdown",
   "id": "40387feb-ce8e-41c4-923d-4b480c19558d",
   "metadata": {},
   "source": [
    "### Split by period"
   ]
  },
  {
   "cell_type": "code",
   "execution_count": null,
   "id": "5a0e28e5-099f-4dfb-8993-18fd5fb79db9",
   "metadata": {},
   "outputs": [],
   "source": [
    "t_early = dict(time=slice(\"1851\", \"1880\"))\n",
    "t_late = dict(time=slice(\"2071\", \"2100\"))\n",
    "\n",
    "idxs_early = idxs.sel(t_early)\n",
    "idxs_late = idxs.sel(t_late)"
   ]
  },
  {
   "cell_type": "markdown",
   "id": "50ee83b0-1798-4679-82c6-606060402db5",
   "metadata": {},
   "source": [
    "### Thermocline in each period"
   ]
  },
  {
   "cell_type": "code",
   "execution_count": null,
   "id": "bada9113-9057-4d6c-8f8d-e1a7f6cdfc75",
   "metadata": {},
   "outputs": [],
   "source": [
    "## get climatology\n",
    "T_forced = forced[[\"T\", \"T_comp\"]]\n",
    "T_early = src.utils.reconstruct_clim(data=T_forced.sel(t_early))[\"T\"]\n",
    "T_late = src.utils.reconstruct_clim(data=T_forced.sel(t_late))[\"T\"]\n",
    "\n",
    "## compute thermocline depth (early & late)\n",
    "sel = lambda x: x.sel(longitude=slice(140, 280)).mean(\"longitude\")\n",
    "H_early = sel(src.utils.get_H_int(T_early, thresh=0.08))\n",
    "H_late = sel(src.utils.get_H_int(T_late, thresh=0.08))\n",
    "\n",
    "## get fractional change\n",
    "H = xr.concat([H_early, H_late], dim=pd.Index([0, 1], name=\"year\"))\n",
    "delta_H = src.utils.frac_change(H).isel(year=-1).squeeze(drop=True)"
   ]
  },
  {
   "cell_type": "markdown",
   "id": "cc278ca5-1d29-441e-828a-034717943eb9",
   "metadata": {},
   "source": [
    "## Analysis"
   ]
  },
  {
   "cell_type": "markdown",
   "id": "91707f25-da6b-4f7c-bef2-886165a38400",
   "metadata": {},
   "source": [
    "### Scatter plot"
   ]
  },
  {
   "cell_type": "code",
   "execution_count": null,
   "id": "04ad7e45-d291-4038-a863-0f0e9cd9e4df",
   "metadata": {},
   "outputs": [],
   "source": [
    "## shared args\n",
    "kwargs = dict(\n",
    "    scale=1e-2,\n",
    "    x_var=\"taux4\",\n",
    "    y_var=\"dh_z20\",\n",
    ")\n",
    "\n",
    "## set up plot\n",
    "fig, axs = plt.subplots(2, 2, figsize=(5, 5), layout=\"constrained\")\n",
    "\n",
    "## plot data and best fit\n",
    "for j, month in enumerate([12, 5]):\n",
    "    for i, idxs_ in enumerate([idxs_early, idxs_late]):\n",
    "\n",
    "        ## plot data\n",
    "        m = make_scatter(axs[j, i], idxs_, months=month, **kwargs)\n",
    "\n",
    "        ## plot best fit\n",
    "        zz = np.linspace(*axs[j, i].get_xlim())\n",
    "        axs[j, i].plot(zz, m * zz, c=\"k\", ls=\"-\", alpha=0.5)\n",
    "\n",
    "        ## label\n",
    "        axs[j, i].set_title(f\"{m:.1f}\" + r\" $m~\\text{Pa}^{-1}$\")\n",
    "\n",
    "## formatting\n",
    "src.utils.set_lims(axs)\n",
    "for ax in axs[0, :]:\n",
    "    ax.set_xticks([])\n",
    "for ax in axs[:, 1]:\n",
    "    ax.set_yticks([])\n",
    "\n",
    "plt.show()"
   ]
  },
  {
   "cell_type": "markdown",
   "id": "e053d16b-8f32-444c-ad6d-e79b573dbd78",
   "metadata": {},
   "source": [
    "### Line plot by season"
   ]
  },
  {
   "cell_type": "code",
   "execution_count": null,
   "id": "3df3e90d-9911-458f-9ed9-fd09a62b5478",
   "metadata": {},
   "outputs": [],
   "source": [
    "## shared args\n",
    "kwargs = dict(\n",
    "    scale=1e-2,\n",
    "    x_var=\"taux4\",\n",
    "    y_var=\"dh_z20\",\n",
    "    # y_var=\"h_e\",\n",
    ")\n",
    "\n",
    "## empty array to hold results\n",
    "m = xr.zeros_like(H)\n",
    "\n",
    "## loop thru\n",
    "fig, ax = plt.subplots()\n",
    "for i, month in enumerate(H.month):\n",
    "    for j, idxs_ in enumerate([idxs_early, idxs_late]):\n",
    "        m.values[j, i] = make_scatter(ax, idxs_, months=month, **kwargs)\n",
    "plt.close()\n",
    "\n",
    "## get fractional change\n",
    "delta_m = src.utils.frac_change(m, inv=False).isel(year=-1)"
   ]
  },
  {
   "cell_type": "code",
   "execution_count": null,
   "id": "f85d034c-a2fb-4dc8-b798-ba1b5a5e9cf9",
   "metadata": {},
   "outputs": [],
   "source": [
    "fig, ax = plt.subplots(figsize=(3, 2.5))\n",
    "\n",
    "## plot data\n",
    "ax.plot(m.month, m.isel(year=0), label=\"early\")\n",
    "ax.plot(m.month, m.isel(year=-1), label=\"late\")\n",
    "ax.plot(m.month, m.isel(year=0) * (delta_H + 1), ls=\"--\", label=\"predicted\")\n",
    "\n",
    "## legend\n",
    "ax.legend(prop=dict(size=8))\n",
    "\n",
    "plt.show()"
   ]
  }
 ],
 "metadata": {
  "kernelspec": {
   "display_name": "Python [conda env:envs]",
   "language": "python",
   "name": "conda-env-envs-py"
  },
  "language_info": {
   "codemirror_mode": {
    "name": "ipython",
    "version": 3
   },
   "file_extension": ".py",
   "mimetype": "text/x-python",
   "name": "python",
   "nbconvert_exporter": "python",
   "pygments_lexer": "ipython3",
   "version": "3.13.5"
  }
 },
 "nbformat": 4,
 "nbformat_minor": 5
}
