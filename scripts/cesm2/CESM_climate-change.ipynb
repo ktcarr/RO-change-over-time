{
 "cells": [
  {
   "cell_type": "markdown",
   "id": "4da2723b-6ec6-4046-8027-1af7cfbc0ed4",
   "metadata": {},
   "source": [
    "# Look at climate change in CESM"
   ]
  },
  {
   "cell_type": "markdown",
   "id": "f6c528d2-9c73-4b6b-8b6e-1a4cceac8886",
   "metadata": {},
   "source": [
    "## Imports"
   ]
  },
  {
   "cell_type": "code",
   "execution_count": null,
   "id": "04247ef5-263e-4845-8476-afe6bbc39cfd",
   "metadata": {},
   "outputs": [],
   "source": [
    "import pandas as pd\n",
    "import matplotlib.pyplot as plt\n",
    "import matplotlib as mpl\n",
    "import numpy as np\n",
    "import scipy.stats\n",
    "import seaborn as sns\n",
    "import xarray as xr\n",
    "import warnings\n",
    "import tqdm\n",
    "import pathlib\n",
    "import cmocean\n",
    "import os\n",
    "import calendar\n",
    "\n",
    "# Import custom modules\n",
    "import src.utils\n",
    "from src.XRO import XRO, xcorr\n",
    "\n",
    "## set plotting specs\n",
    "sns.set(rc={\"axes.facecolor\": \"white\", \"axes.grid\": False})\n",
    "\n",
    "## bump up DPI\n",
    "mpl.rcParams[\"figure.dpi\"] = 100\n",
    "\n",
    "## get filepaths\n",
    "DATA_FP = pathlib.Path(os.environ[\"DATA_FP\"])\n",
    "SAVE_FP = pathlib.Path(os.environ[\"SAVE_FP\"])"
   ]
  },
  {
   "cell_type": "markdown",
   "id": "b1443817-c116-4214-8e32-77a24bc27d67",
   "metadata": {},
   "source": [
    "## Functions"
   ]
  },
  {
   "cell_type": "code",
   "execution_count": null,
   "id": "5837def3-3a35-477b-b02e-4b5373f531ce",
   "metadata": {},
   "outputs": [],
   "source": [
    "def plot_hov(ax, data, amp, label=None):\n",
    "    \"\"\"Plot hovmoller of longitude vs. year\"\"\"\n",
    "\n",
    "    # kwargs = dict(levels=src.utils.make_cb_range(3, 0.3), cmap=\"cmo.balance\", extend=\"both\")\n",
    "    plot_data = ax.contourf(\n",
    "        data.longitude,\n",
    "        data.year,\n",
    "        data.T,\n",
    "        cmap=\"cmo.balance\",\n",
    "        extend=\"both\",\n",
    "        levels=src.utils.make_cb_range(amp, amp / 10),\n",
    "    )\n",
    "    cb = fig.colorbar(\n",
    "        plot_data, orientation=\"horizontal\", ticks=[-amp, 0, amp], label=label\n",
    "    )\n",
    "\n",
    "    ## label\n",
    "    kwargs = dict(ls=\"--\", c=\"w\", lw=0.8)\n",
    "    for ax in axs:\n",
    "        ax.set_xlabel(\"Longitude\")\n",
    "        ax.set_xticks([190, 240])\n",
    "        ax.set_yticks([])\n",
    "        ax.axvline(190, **kwargs)\n",
    "        ax.axvline(240, **kwargs)\n",
    "        ax.xaxis.tick_top()\n",
    "        ax.xaxis.set_label_position(\"top\")\n",
    "\n",
    "    return\n",
    "\n",
    "\n",
    "def plot_hov2(ax, data, amp, label=None):\n",
    "    \"\"\"Plot hovmoller of longitude vs. year\"\"\"\n",
    "\n",
    "    # kwargs = dict(levels=src.utils.make_cb_range(3, 0.3), cmap=\"cmo.balance\", extend=\"both\")\n",
    "    plot_data = ax.contourf(\n",
    "        data.month,\n",
    "        data.year,\n",
    "        data.T,\n",
    "        cmap=\"cmo.balance\",\n",
    "        extend=\"max\",\n",
    "        levels=src.utils.make_cb_range(amp, amp / 10),\n",
    "    )\n",
    "    # cb = fig.colorbar(\n",
    "    #     # plot_data, orientation=\"horizontal\", ticks=[-amp, 0, amp], label=label\n",
    "    #     plot_data, orientation=\"horizontal\", ticks=[], label=None\n",
    "    # )\n",
    "\n",
    "    ## label\n",
    "    kwargs = dict(ls=\"--\", c=\"w\", lw=0.8)\n",
    "    for ax in axs:\n",
    "        # ax.set_xlabel(\"Month\")\n",
    "        # ax.set_xticks([1, 12])\n",
    "        ax.set_xticks([])\n",
    "        ax.set_yticks([])\n",
    "        ax.xaxis.tick_top()\n",
    "        ax.xaxis.set_label_position(\"top\")\n",
    "\n",
    "    return\n",
    "\n",
    "\n",
    "def get_rolling_var(data, n=10):\n",
    "    \"\"\"\n",
    "    Get variance, computing over time and ensemble member. To increase\n",
    "    sample size for variance estimate, compute over time window of 2n+1\n",
    "    years, centered at given year.\n",
    "    \"\"\"\n",
    "\n",
    "    return src.utils.get_rolling_fn_bymonth(data, fn=np.var, n=n)"
   ]
  },
  {
   "cell_type": "markdown",
   "id": "718c1496-b530-49e9-97ee-cdf36d9c5a15",
   "metadata": {},
   "source": [
    "## Change in $T$, $h$"
   ]
  },
  {
   "cell_type": "markdown",
   "id": "ed745b78-e923-4ccd-8d3a-aea900dd9e60",
   "metadata": {},
   "source": [
    "### Load data\n",
    "And compute variance/skewness"
   ]
  },
  {
   "cell_type": "code",
   "execution_count": null,
   "id": "dbe9e533-7998-4dd6-a932-1d8118672ba4",
   "metadata": {},
   "outputs": [],
   "source": [
    "## open data\n",
    "Th = src.utils.load_cesm_indices()\n",
    "\n",
    "## rename indices for convenience\n",
    "Th = Th.rename(\n",
    "    {\n",
    "        \"north_tropical_atlantic\": \"natl\",\n",
    "        \"atlantic_nino\": \"nino_atl\",\n",
    "        \"tropical_indian_ocean\": \"iobm\",\n",
    "        \"indian_ocean_dipole\": \"iod\",\n",
    "        \"north_pacific_meridional_mode\": \"npmm\",\n",
    "        \"south_pacific_meridional_mode\": \"spmm\",\n",
    "    }\n",
    ")\n",
    "\n",
    "## get rolling variance, by month\n",
    "Th_var = get_rolling_var(Th, n=15)\n",
    "Th_var_bymonth = src.utils.unstack_month_and_year(Th_var)\n",
    "\n",
    "## get rolling skew, by month\n",
    "Th_skew = src.utils.get_rolling_fn_bymonth(Th, fn=scipy.stats.skew, n=15)\n",
    "Th_skew_bymonth = src.utils.unstack_month_and_year(Th_skew)\n",
    "\n",
    "## Get % increase in variance\n",
    "baseline = Th_var_bymonth.isel(year=slice(None, 30)).mean(\"year\")\n",
    "Th_var_bymonth_pct = 100 * (Th_var_bymonth - baseline) / baseline"
   ]
  },
  {
   "cell_type": "markdown",
   "id": "65a2c74a-1203-4e35-9825-df332004d3f6",
   "metadata": {},
   "source": [
    "### Variance"
   ]
  },
  {
   "cell_type": "markdown",
   "id": "cd6f6d0b-3bee-425a-b588-3abf62dff9d7",
   "metadata": {},
   "source": [
    "Hövmöller"
   ]
  },
  {
   "cell_type": "code",
   "execution_count": null,
   "id": "4660de1b-0aa0-4f26-b121-34eba7e9ddbe",
   "metadata": {},
   "outputs": [],
   "source": [
    "## setup plot\n",
    "fig, axs = plt.subplots(\n",
    "    1, len(list(Th)), figsize=(0.9 * len(list(Th)), 2), layout=\"constrained\"\n",
    ")\n",
    "\n",
    "## plot T data\n",
    "for ax, n in zip(axs, list(Th)):\n",
    "    plot_hov2(ax, Th_var_bymonth_pct[n].T, amp=100)\n",
    "    ax.set_title(n, fontsize=9)\n",
    "    ax.axvline(8, ls=\"--\", c=\"w\", lw=1)\n",
    "\n",
    "\n",
    "plt.show()"
   ]
  },
  {
   "cell_type": "markdown",
   "id": "0cbc4029-7b16-4274-82fd-f88b577d4eca",
   "metadata": {},
   "source": [
    "Compare August and December variance over time"
   ]
  },
  {
   "cell_type": "code",
   "execution_count": null,
   "id": "3ca4d67e-5dbc-4318-aa63-a086196e2e65",
   "metadata": {},
   "outputs": [],
   "source": [
    "fig, ax = plt.subplots(figsize=(2.5, 2))\n",
    "\n",
    "## plot data\n",
    "ax.plot(\n",
    "    Th_var_bymonth.year, Th_var_bymonth[\"T_34\"].sel(month=8), label=\"Aug\", c=\"k\", ls=\"-\"\n",
    ")\n",
    "ax.plot(\n",
    "    Th_var_bymonth.year,\n",
    "    Th_var_bymonth[\"T_34\"].sel(month=11),\n",
    "    label=\"Dec\",\n",
    "    c=\"gray\",\n",
    "    ls=\"--\",\n",
    ")\n",
    "\n",
    "## label and style\n",
    "ax.set_title(r\"$\\sigma^2\\left(\\text{Niño 3.4}\\right)$\")\n",
    "ax.set_ylim([0, None])\n",
    "ax.legend(prop=dict(size=8))\n",
    "ax.set_ylabel(r\"$^{\\circ}\\text{C}^2$\")\n",
    "\n",
    "plt.show()"
   ]
  },
  {
   "cell_type": "markdown",
   "id": "4c3bc180-e85f-4b2b-871e-781fde8f434b",
   "metadata": {},
   "source": [
    "### Skewness"
   ]
  },
  {
   "cell_type": "code",
   "execution_count": null,
   "id": "1258b67b-f6ff-4462-83d8-3e3d57bd561f",
   "metadata": {},
   "outputs": [],
   "source": [
    "## setup plot\n",
    "fig, axs = plt.subplots(1, 5, figsize=(3.6, 2), layout=\"constrained\")\n",
    "\n",
    "## plot T data\n",
    "for i, n in enumerate([\"T_4\", \"T_34\", \"T_3\", \"h\", \"h_w\"]):\n",
    "    plot_hov2(axs[i], Th_skew_bymonth[n].T, amp=1.5)\n",
    "    axs[i].set_title(n, fontsize=9)\n",
    "    axs[i].axvline(5, ls=\"--\", c=\"w\", lw=1, alpha=0.5)\n",
    "\n",
    "plt.show()"
   ]
  },
  {
   "cell_type": "markdown",
   "id": "2623c08b-724b-4912-a51d-8134fa26ab62",
   "metadata": {},
   "source": [
    "### Seasonality"
   ]
  },
  {
   "cell_type": "markdown",
   "id": "e8fb70a4-8994-4ef9-987b-f7d74fc9d1be",
   "metadata": {},
   "source": [
    "## Change in spatial patterns"
   ]
  },
  {
   "cell_type": "code",
   "execution_count": null,
   "id": "f0196c7a-0588-4ffc-b190-977ba69641bb",
   "metadata": {},
   "outputs": [],
   "source": [
    "## path to EOF data\n",
    "eofs_fp = pathlib.Path(DATA_FP, \"cesm\")\n",
    "\n",
    "## variables to load (and how to rename them)\n",
    "names = [\"tos\", \"zos\", \"tauu\", \"nhf\"]\n",
    "newnames = [\"sst\", \"ssh\", \"taux\", \"nhf\"]\n",
    "\n",
    "## load the EOFs\n",
    "load_var = lambda x: src.utils.load_eofs(pathlib.Path(eofs_fp, f\"eofs_{x}.nc\"))\n",
    "eofs = {y: load_var(x) for (y, x) in zip(newnames, names)}\n",
    "\n",
    "## for convenience, put spatial patterns / components in single dataset\n",
    "components = xr.merge([eofs_.components().rename(y) for (y, eofs_) in eofs.items()])\n",
    "\n",
    "# reset member dimension so they all match (NHF labeled differently...)\n",
    "member_coord = dict(member=np.arange(100))\n",
    "get_scores = lambda x, n: x.scores().assign_coords(member_coord).rename(n)\n",
    "scores = xr.merge([get_scores(eofs_, n) for (n, eofs_) in eofs.items()])\n",
    "\n",
    "## convert ssh from m to cm\n",
    "scores[\"ssh\"].values *= 100\n",
    "\n",
    "## convert from stress on atm to stress on ocn\n",
    "scores[\"taux\"].values *= -1\n",
    "\n",
    "## get forced/anomalous component\n",
    "forced, anom = src.utils.separate_forced(scores)"
   ]
  },
  {
   "cell_type": "markdown",
   "id": "677c4fd6-e0e3-4ae3-85ae-1a016044927f",
   "metadata": {},
   "source": [
    "### Reconstruct equatorial strip"
   ]
  },
  {
   "cell_type": "code",
   "execution_count": null,
   "id": "ffb744f9-2402-4ca0-8d1e-6ef646b05100",
   "metadata": {},
   "outputs": [],
   "source": [
    "## specify which month\n",
    "month = 3\n",
    "\n",
    "## get rolling avg\n",
    "forced_rolling = src.utils.get_rolling_avg(forced, n=1)\n",
    "\n",
    "## get NDJ season\n",
    "month = forced_rolling.time.dt.month\n",
    "forced_ndj = forced_rolling.isel(time=(month == month))\n",
    "\n",
    "## reconstruct equatorial average\n",
    "eq_avg = lambda x: x.sel(latitude=slice(-5, 5), longitude=slice(125, 279)).mean(\n",
    "    \"latitude\"\n",
    ")\n",
    "kwargs = dict(scores=forced_ndj, components=components, fn=eq_avg)\n",
    "forced_ndj_recon = src.utils.reconstruct_fn(**kwargs)\n",
    "\n",
    "## replace time axis with year for easier plotting\n",
    "forced_ndj_recon[\"time\"] = forced_ndj_recon[\"time\"].dt.year\n",
    "forced_ndj_recon = forced_ndj_recon.rename({\"time\": \"year\"})\n",
    "\n",
    "## subtract leading 30-year mean\n",
    "clim = forced_ndj_recon.isel(year=slice(None, 30)).mean(\"year\")\n",
    "forced_anom = forced_ndj_recon - clim"
   ]
  },
  {
   "cell_type": "markdown",
   "id": "8f7a525f-c005-4395-859e-0b5c7599eec3",
   "metadata": {},
   "source": [
    "### Hövmöller plot"
   ]
  },
  {
   "cell_type": "code",
   "execution_count": null,
   "id": "a32a2dda-132e-4f53-b416-1404f3be0889",
   "metadata": {},
   "outputs": [],
   "source": [
    "## setup plot\n",
    "fig, axs = plt.subplots(1, 4, figsize=(7.2, 4), layout=\"constrained\")\n",
    "\n",
    "for j, (varname, total_amp, diff_amp) in enumerate(zip([\"sst\", \"ssh\"], [3, 5], [1, 4])):\n",
    "\n",
    "    ## get total plot and difference\n",
    "    total = forced_anom[varname]\n",
    "    diff = total - total.mean(\"longitude\")\n",
    "\n",
    "    ## plot data\n",
    "    plot_hov(axs[j], total, amp=total_amp, label=f\"{varname} (total)\")\n",
    "    plot_hov(axs[j + 2], diff, amp=diff_amp, label=f\"{varname} (diff)\")\n",
    "\n",
    "axs[0].set_yticks(np.arange(1860, 2100, 55))\n",
    "axs[0].set_ylabel(\"Year\")\n",
    "plt.show()"
   ]
  },
  {
   "cell_type": "markdown",
   "id": "67199700-b47f-4887-b0e1-0414df24f5a4",
   "metadata": {},
   "source": [
    "### Line plots"
   ]
  },
  {
   "cell_type": "markdown",
   "id": "870711a8-fa60-4de0-bd84-9171554b5571",
   "metadata": {},
   "source": [
    "Function to do formatting. Not sure about units for SSH: data attribute says \"m\", but data itself suggests \"cm\"..."
   ]
  },
  {
   "cell_type": "markdown",
   "id": "b1394b91-be8d-418c-93db-0ede4ce6d8da",
   "metadata": {},
   "source": [
    "### Change in mean"
   ]
  },
  {
   "cell_type": "code",
   "execution_count": null,
   "id": "82142022-de81-446c-8fb0-160d935d6145",
   "metadata": {},
   "outputs": [],
   "source": [
    "def recon_clim(data, components):\n",
    "    \"\"\"reconstruct climatology for data\"\"\"\n",
    "\n",
    "    ## get climatolgoy in PC space\n",
    "    monthly_clim = data.groupby(\"time.month\").mean()\n",
    "\n",
    "    ## function to compute equatorial mean\n",
    "    equatorial_mean = lambda x: x.sel(latitude=slice(-2, 2)).mean(\"latitude\")\n",
    "\n",
    "    ## reconstruct\n",
    "    recon = src.utils.reconstruct_fn(\n",
    "        components[\"sst\"], monthly_clim[\"sst\"], fn=equatorial_mean\n",
    "    )\n",
    "\n",
    "    ## fill zero values with NaN\n",
    "    recon.values[recon.values == 0] = np.nan\n",
    "\n",
    "    return recon\n",
    "\n",
    "\n",
    "## compute clims\n",
    "clim_early = recon_clim(forced.isel(time=slice(None, 360)), components)\n",
    "clim_late = recon_clim(forced.isel(time=slice(-360, None)), components)\n",
    "\n",
    "## get difference\n",
    "clim_diff = clim_late - clim_early"
   ]
  },
  {
   "cell_type": "code",
   "execution_count": null,
   "id": "c9aca700-35e8-4ed1-b237-85672dd0b588",
   "metadata": {},
   "outputs": [],
   "source": [
    "## make hövmöllers\n",
    "fig, axs = plt.subplots(3, 1, figsize=(3.5, 5), layout=\"constrained\")\n",
    "\n",
    "## kwargs\n",
    "kwargs = dict(cmap=\"cmo.thermal\", levels=np.arange(23, 32), extend=\"both\")\n",
    "\n",
    "## plot early\n",
    "cp0 = src.utils.plot_cycle_hov(axs[0], clim_early, **kwargs)\n",
    "\n",
    "## plot late\n",
    "kwargs[\"levels\"] = kwargs[\"levels\"] + 3\n",
    "cp1 = src.utils.plot_cycle_hov(axs[1], clim_late, **kwargs)\n",
    "\n",
    "## plot bias\n",
    "cp2 = src.utils.plot_cycle_hov(\n",
    "    axs[2],\n",
    "    clim_diff,\n",
    "    cmap=\"cmo.amp\",\n",
    "    levels=np.arange(2.6, 5.2, 0.2),\n",
    "    extend=\"both\",\n",
    ")\n",
    "\n",
    "## label\n",
    "axs[0].set_title(\"Early\")\n",
    "axs[1].set_title(\"Late\")\n",
    "axs[2].set_title(\"Difference\")\n",
    "axs[-1].set_xlabel(\"Longitude\")\n",
    "axs[-1].set_xticks([140, 190, 240])\n",
    "\n",
    "cb0 = fig.colorbar(cp0, ax=axs[0], ticks=[23, 27, 31], label=r\"$^{\\circ}C$\")\n",
    "cb1 = fig.colorbar(cp1, ax=axs[1], ticks=[26, 30, 34], label=r\"$^{\\circ}C$\")\n",
    "cb2 = fig.colorbar(cp2, ax=axs[2], ticks=[3, 4, 5], label=r\"$^{\\circ}C$\")\n",
    "\n",
    "plt.show()"
   ]
  },
  {
   "cell_type": "markdown",
   "id": "73f6f5fb-33e1-4439-9893-2de77cbe3127",
   "metadata": {},
   "source": [
    "### Change in variance"
   ]
  },
  {
   "attachments": {},
   "cell_type": "markdown",
   "id": "f4a185a0-b7a0-4d3f-8dbe-65f6f433fd9f",
   "metadata": {},
   "source": [
    "#### Equatorial region"
   ]
  },
  {
   "cell_type": "code",
   "execution_count": null,
   "id": "ef468c2c-7ca7-400e-940f-a3fcb6ab6c3c",
   "metadata": {},
   "outputs": [],
   "source": [
    "def get_var(data, year_center, n=15, fn=None):\n",
    "    \"\"\"\n",
    "    Reconstruct variance for given time period.\n",
    "    Estimate variance based on window centered on `year_center'.\n",
    "    Window encompasses all samples within 'n' years of year_center.\n",
    "    \"\"\"\n",
    "\n",
    "    ## get indices of samples in window\n",
    "    in_window = np.abs(data.time.dt.year - year_center) <= n\n",
    "\n",
    "    ## get variance of samples in window\n",
    "    kwargs = dict(components=components, scores=data.isel(time=in_window), fn=fn)\n",
    "    data_var = src.utils.reconstruct_var(**kwargs)\n",
    "\n",
    "    return data_var\n",
    "\n",
    "\n",
    "def get_var_bymonth(data, year_center, n=15, fn=None):\n",
    "    \"\"\"Get variance by month\"\"\"\n",
    "\n",
    "    ## function to apply to each month\n",
    "    kwargs = dict(year_center=year_center, n=n, fn=fn)\n",
    "    get_var_ = lambda x: get_var(x, **kwargs)\n",
    "    return data.groupby(\"time.month\").map(get_var_)\n",
    "\n",
    "\n",
    "def get_var_for_periods(data, periods, n=15, fn=None, by_month=True):\n",
    "    \"\"\"get variance for specified periods\"\"\"\n",
    "\n",
    "    ## get arguments for variance reconstruction\n",
    "    kwargs = dict(data=data, n=n, fn=fn)\n",
    "\n",
    "    ## get variance recon func\n",
    "    get_var_fn = get_var_bymonth if by_month else get_var\n",
    "    var_by_period = [get_var_fn(year_center=y, **kwargs) for y in tqdm.tqdm(periods)]\n",
    "\n",
    "    ## get dimension to represent period_centers\n",
    "    period_dim = pd.Index(periods, name=\"period\")\n",
    "\n",
    "    ## put in array\n",
    "    return xr.concat(var_by_period, dim=period_dim)\n",
    "\n",
    "\n",
    "## get variance by period\n",
    "period_centers = np.array([1868, 1939, 2010, 2082])\n",
    "\n",
    "## Get equatorial strip variance\n",
    "kwargs = dict(data=anom, periods=period_centers, n=15, fn=eq_avg)\n",
    "var_by_period_eq = get_var_for_periods(**kwargs)\n",
    "\n",
    "## get full variance\n",
    "kwargs = dict(kwargs, fn=None, periods=period_centers[[0, -1]], by_month=True)\n",
    "var_by_period = get_var_for_periods(**kwargs)"
   ]
  },
  {
   "cell_type": "markdown",
   "id": "21cb3ecf-58f1-486f-9867-9488d8feb357",
   "metadata": {},
   "source": [
    "Set plot style for plots"
   ]
  },
  {
   "cell_type": "markdown",
   "id": "87a77d0e-58ba-4f71-8be0-ff50eb216fe8",
   "metadata": {},
   "source": [
    "#### Spatial (Hovmoller)"
   ]
  },
  {
   "cell_type": "code",
   "execution_count": null,
   "id": "67c8f3f6-9145-489f-bdae-bde14b32e60f",
   "metadata": {},
   "outputs": [],
   "source": [
    "## get plot data\n",
    "baseline = var_by_period_eq[\"sst\"].isel(period=0)\n",
    "future = var_by_period_eq[\"sst\"].isel(period=-1)\n",
    "change = future - baseline\n",
    "\n",
    "## shared args for plotting\n",
    "plot_kwargs = dict(cmap=\"cmo.amp\", extend=\"max\")\n",
    "\n",
    "## Set up plot\n",
    "fig, axs = plt.subplots(3, 1, figsize=(4, 6), layout=\"constrained\")\n",
    "\n",
    "## make hövmöllers\n",
    "cp0 = src.utils.plot_cycle_hov(\n",
    "    axs[0], baseline, levels=np.arange(0, 3.3, 0.3), **plot_kwargs\n",
    ")\n",
    "cp1 = src.utils.plot_cycle_hov(\n",
    "    axs[1], future, levels=np.arange(0, 3.3, 0.3), **plot_kwargs\n",
    ")\n",
    "cp2 = src.utils.plot_cycle_hov(\n",
    "    axs[2],\n",
    "    change,\n",
    "    levels=src.utils.make_cb_range(1.5, 0.15),\n",
    "    cmap=\"cmo.balance\",\n",
    "    extend=\"both\",\n",
    ")\n",
    "\n",
    "## label\n",
    "axs[0].set_title(\"Baseline\")\n",
    "axs[1].set_title(\"Future\")\n",
    "axs[2].set_title(\"Difference\")\n",
    "axs[-1].set_xlabel(\"Longitude\")\n",
    "axs[-1].set_xticks([140, 190, 240])\n",
    "\n",
    "## add colorbars\n",
    "kwargs = dict(ticks=[0, 1, 2, 3], label=r\"$^{\\circ}\\text{C}^2$\")\n",
    "cb0 = fig.colorbar(cp0, ax=axs[0], **kwargs)\n",
    "cb1 = fig.colorbar(cp1, ax=axs[1], **kwargs)\n",
    "cb2 = fig.colorbar(cp2, ax=axs[2], **dict(kwargs, ticks=[-1.5, 0, 1.5]))\n",
    "\n",
    "plt.show()"
   ]
  },
  {
   "cell_type": "markdown",
   "id": "947d678e-9b42-4527-893a-4b48dcad9547",
   "metadata": {},
   "source": [
    "#### Spatial"
   ]
  },
  {
   "cell_type": "markdown",
   "id": "dc169024-0229-4802-b559-a4ad1fe66eac",
   "metadata": {},
   "source": [
    "Compute"
   ]
  },
  {
   "cell_type": "code",
   "execution_count": null,
   "id": "52526e3f-d514-45bb-8f0e-814ca1759f4a",
   "metadata": {},
   "outputs": [],
   "source": [
    "## specify month\n",
    "month = 5\n",
    "\n",
    "## set up paneled subplot\n",
    "fig = plt.figure(figsize=(6, 5), layout=\"constrained\")\n",
    "axs = src.utils.subplots_with_proj(\n",
    "    fig, nrows=3, ncols=1, format_func=src.utils.plot_setup_pac\n",
    ")\n",
    "\n",
    "## plot data\n",
    "kwargs = dict(\n",
    "    var0=var_by_period[\"sst\"].isel(period=0).sel(month=month),\n",
    "    var1=var_by_period[\"sst\"].isel(period=-1).sel(month=month),\n",
    "    amp=2,\n",
    "    amp_diff=1,\n",
    "    show_colorbars=True,\n",
    "    cbar_label=r\"$^{\\circ}$C$^2$\",\n",
    ")\n",
    "fig, axs = src.utils.make_variance_subplots(fig, axs, **kwargs)\n",
    "axs[0, 0].set_title(\"Early (1853 – 1883)\")\n",
    "axs[1, 0].set_title(\"Late (2067 – 2097)\")\n",
    "axs[2, 0].set_title(\"Difference\")\n",
    "\n",
    "plt.show()"
   ]
  },
  {
   "cell_type": "markdown",
   "id": "d577c8f2-73f3-4cd2-a9fe-cdb906998972",
   "metadata": {},
   "source": [
    "#### ENSO composite"
   ]
  },
  {
   "cell_type": "markdown",
   "id": "2697a036-de90-4390-89b1-2b68bbeefcbe",
   "metadata": {},
   "source": [
    "Function to compute composite"
   ]
  },
  {
   "cell_type": "code",
   "execution_count": null,
   "id": "68144754-f5f5-45c3-902f-21c296b33eb7",
   "metadata": {},
   "outputs": [],
   "source": [
    "def get_hov_composite(data, peak_month, q, idx_fn, is_warm=True):\n",
    "    \"\"\"\n",
    "    Get hovmoller composite based on specified:\n",
    "    - data: used to compute index/make composite\n",
    "    - peak_month: month to center composite on\n",
    "    - q: quantile threshold for composite\n",
    "    - idx_fn: function to compute index from spatial sst anoms\n",
    "    \"\"\"\n",
    "\n",
    "    ## get data subset\n",
    "\n",
    "    ## get index\n",
    "    idx = src.utils.reconstruct_fn(\n",
    "        components=components[\"sst\"], scores=data[\"sst\"], fn=idx_fn\n",
    "    )\n",
    "\n",
    "    ## handle warm/cold case\n",
    "    if is_warm:\n",
    "        kwargs = dict(q=q, check_cutoff=lambda x, cut: x > cut)\n",
    "    else:\n",
    "        kwargs = dict(q=1 - q, check_cutoff=lambda x, cut: x < cut)\n",
    "\n",
    "    ## kwargs for composite\n",
    "    kwargs = dict(kwargs, peak_month=peak_month, idx=idx, data=data)\n",
    "\n",
    "    ## composite of projected data\n",
    "    comp_proj = src.utils.make_composite(**kwargs)\n",
    "\n",
    "    ## fn to get meridional mean\n",
    "    lat = dict(latitude=slice(-5, 5))\n",
    "    get_merimean = lambda x: x.sel(lat).mean(\"latitude\")\n",
    "\n",
    "    ## meridional mean for MPI\n",
    "    comp_merimean = src.utils.reconstruct_fn(\n",
    "        components=components, scores=comp_proj, fn=get_merimean\n",
    "    ).transpose(\"lag\", ...)\n",
    "\n",
    "    return comp_merimean"
   ]
  },
  {
   "cell_type": "markdown",
   "id": "75959419-a056-4d47-aebc-4a01912f8b1c",
   "metadata": {},
   "source": [
    "Do the computation"
   ]
  },
  {
   "cell_type": "code",
   "execution_count": null,
   "id": "3b21ea97-2ba4-4e65-926e-0ad642bbc785",
   "metadata": {},
   "outputs": [],
   "source": [
    "## specify shared args\n",
    "kwargs = dict(\n",
    "    peak_month=12,\n",
    "    q=0.95,\n",
    "    idx_fn=src.utils.get_nino34,\n",
    "    is_warm=True,\n",
    ")\n",
    "\n",
    "## get early/late composites\n",
    "comp_early = get_hov_composite(anom.isel(time=slice(None, 360)), **kwargs)\n",
    "comp_late = get_hov_composite(anom.isel(time=slice(-361, -1)), **kwargs)"
   ]
  },
  {
   "cell_type": "markdown",
   "id": "20b8b0af-8782-417c-a961-aed2d806cdb8",
   "metadata": {},
   "source": [
    "Plot the result"
   ]
  },
  {
   "cell_type": "code",
   "execution_count": null,
   "id": "0e18fd02-6528-4436-ac6e-3ee1bf201e10",
   "metadata": {},
   "outputs": [],
   "source": [
    "## specify amplitudes for plots\n",
    "scales = np.array([1.5, 1.5, 0.5])\n",
    "\n",
    "## set up plot\n",
    "fig, axs = plt.subplots(1, 3, figsize=(6, 3), layout=\"constrained\")\n",
    "\n",
    "for ax, merimean, scale in zip(\n",
    "    axs, [comp_early, comp_late, comp_late - comp_early], scales\n",
    "):\n",
    "    cf, _ = src.utils.plot_hov(ax=ax, x=merimean, beta=scale)\n",
    "    ax.set_xticks([])\n",
    "    ax.set_yticks([])\n",
    "\n",
    "    ## label x axis\n",
    "    ax.set_xlabel(\"Longitude\")\n",
    "    ax.set_xticks([190, 240])\n",
    "    ax.set_yticks([])\n",
    "\n",
    "## label\n",
    "axs[0].set_title(\"Early (1853-1883)\")\n",
    "axs[1].set_title(\"Late (2067-2097)\")\n",
    "axs[2].set_title(\"Difference\")\n",
    "src.utils.label_hov_yaxis(axs[0], peak_mon=kwargs[\"peak_month\"])\n",
    "\n",
    "plt.show()"
   ]
  },
  {
   "cell_type": "code",
   "execution_count": null,
   "id": "5ca51144-bfd3-4164-a4aa-c28096afc301",
   "metadata": {},
   "outputs": [],
   "source": [
    "## specify variable\n",
    "varname = \"T_3\"\n",
    "\n",
    "## specify month idx\n",
    "m_idx = 1\n",
    "\n",
    "if \"h\" in varname:\n",
    "    edges = np.arange(-10e-2, 11e-2, 1e-2)\n",
    "else:\n",
    "    edges = np.arange(-4, 4.25, 0.25)\n",
    "\n",
    "\n",
    "## get data\n",
    "y0 = Th[varname].isel(time=slice(m_idx, 600, 12)).values.flatten()\n",
    "y1 = Th[varname].isel(time=slice(-600 + m_idx, None, 12)).values.flatten()\n",
    "\n",
    "## compute pdfs\n",
    "pdf0, _ = src.utils.get_empirical_pdf(\n",
    "    y0,\n",
    "    edges=edges,\n",
    ")\n",
    "pdf1, _ = src.utils.get_empirical_pdf(\n",
    "    y1,\n",
    "    edges=edges,\n",
    ")\n",
    "\n",
    "## compute skewness\n",
    "s0 = scipy.stats.skew(y0)\n",
    "s1 = scipy.stats.skew(y1)\n",
    "\n",
    "fig, ax = plt.subplots(figsize=(4, 3))\n",
    "ax.stairs(pdf0, edges, label=f\"skew = {s0:.2f}\")\n",
    "ax.stairs(pdf1, edges, label=f\"skew = {s1:.2f}\")\n",
    "ax.axvline(0, c=\"k\", lw=1)\n",
    "ax.legend(prop=dict(size=8))\n",
    "\n",
    "plt.show()"
   ]
  },
  {
   "cell_type": "markdown",
   "id": "fa75beb4-e889-46f0-bd3c-f54ba5930ad7",
   "metadata": {},
   "source": [
    "### Change in Bjerknes coupling"
   ]
  },
  {
   "cell_type": "code",
   "execution_count": null,
   "id": "8a6254dc-003e-4d0d-8897-018e773c8c6c",
   "metadata": {},
   "outputs": [],
   "source": [
    "def merimean(x):\n",
    "    return x.sel(longitude=slice(140, 285), latitude=slice(-5, 5)).mean(\"latitude\")\n",
    "\n",
    "\n",
    "def plot_cycle_hov(ax, data, amp, is_filled=True):\n",
    "    \"\"\"plot data on ax object\"\"\"\n",
    "\n",
    "    ## specify shared kwargs\n",
    "    shared_kwargs = dict(levels=src.utils.make_cb_range(amp, amp / 5), extend=\"both\")\n",
    "\n",
    "    ## specify kwargs\n",
    "    if is_filled:\n",
    "        plot_fn = ax.contourf\n",
    "        kwargs = dict(cmap=\"cmo.balance\")\n",
    "\n",
    "    else:\n",
    "        plot_fn = ax.contour\n",
    "        kwargs = dict(colors=\"k\", linewidths=0.8)\n",
    "\n",
    "    ## do the plotting\n",
    "    cp = plot_fn(\n",
    "        merimean(data).longitude,\n",
    "        merimean(data).month,\n",
    "        merimean(data),\n",
    "        **kwargs,\n",
    "        **shared_kwargs,\n",
    "    )\n",
    "\n",
    "    ## format ax object\n",
    "    xticks = [160, 210]\n",
    "    kwargs = dict(c=\"w\", ls=\"--\", lw=1)\n",
    "    ax.set_xlabel(\"Lon\")\n",
    "    ax.set_xticks(xticks)\n",
    "    for tick in xticks:\n",
    "        ax.axvline(tick, **kwargs)\n",
    "\n",
    "    return cp"
   ]
  },
  {
   "cell_type": "markdown",
   "id": "7d9d74e6-7649-46ce-810b-70d84197c33e",
   "metadata": {},
   "source": [
    "Add EOF info to dataset"
   ]
  },
  {
   "cell_type": "code",
   "execution_count": null,
   "id": "ba5899dd-89b6-4144-b257-c14952deaff0",
   "metadata": {},
   "outputs": [],
   "source": [
    "for v in list(components):\n",
    "    if f\"{v}_comp\" not in list(anom):\n",
    "        anom[f\"{v}_comp\"] = components[v]\n",
    "\n",
    "## add nino3 to data\n",
    "names = [\"nino3\", \"nino34\", \"nino4\"]\n",
    "fns = [src.utils.get_nino3, src.utils.get_nino34, src.utils.get_nino4]\n",
    "for n, fn in zip(names, fns):\n",
    "    if n not in list(anom):\n",
    "        anom[n] = src.utils.reconstruct_fn(\n",
    "            scores=anom[\"sst\"], components=anom[\"sst_comp\"], fn=fn\n",
    "        )"
   ]
  },
  {
   "cell_type": "markdown",
   "id": "9e06fe79-b100-42d7-982b-721ee695b094",
   "metadata": {},
   "source": [
    "Partition into early/late"
   ]
  },
  {
   "cell_type": "code",
   "execution_count": null,
   "id": "300efd59-0603-40e3-ac11-b071c74aa1bc",
   "metadata": {},
   "outputs": [],
   "source": [
    "anom_early = anom.isel(time=slice(12, 372))\n",
    "anom_late = anom.isel(time=slice(-372, -12))"
   ]
  },
  {
   "cell_type": "markdown",
   "id": "68341234-af0c-46c7-94c3-ab038c068625",
   "metadata": {},
   "source": [
    "#### $\\tau_x$-SST"
   ]
  },
  {
   "cell_type": "markdown",
   "id": "09b10941-94b6-49c3-ab0e-be10968d9690",
   "metadata": {},
   "source": [
    "Compute slope"
   ]
  },
  {
   "cell_type": "code",
   "execution_count": null,
   "id": "becfe109-4c66-4edf-a94a-22e36b433c83",
   "metadata": {},
   "outputs": [],
   "source": [
    "## shared kwargs\n",
    "kwargs = dict(x_var=\"sst\", y_var=\"taux\", fn_x=src.utils.get_nino3)\n",
    "\n",
    "## function to get slope\n",
    "get_slope = lambda x: x.groupby(\"time.month\").map(src.utils.regress_proj, **kwargs)\n",
    "\n",
    "## then, reconstruct regression coefficient\n",
    "m_early = get_slope(anom_early)\n",
    "m_late = get_slope(anom_late)"
   ]
  },
  {
   "cell_type": "markdown",
   "id": "479176bb-8cf5-4bb1-91eb-13322fda1c15",
   "metadata": {},
   "source": [
    "Plot hovmoller"
   ]
  },
  {
   "cell_type": "code",
   "execution_count": null,
   "id": "16f6392f-1837-4101-b458-58fd28b1bd84",
   "metadata": {},
   "outputs": [],
   "source": [
    "fig, axs = plt.subplots(1, 2, figsize=(4, 2.5), layout=\"constrained\")\n",
    "\n",
    "## plot data\n",
    "cp0 = plot_cycle_hov(axs[0], data=m_early, amp=0.015)\n",
    "plot_cycle_hov(axs[0], data=m_late, amp=0.015, is_filled=False)\n",
    "\n",
    "## plot difference\n",
    "cp2 = plot_cycle_hov(axs[1], data=m_late - m_early, amp=0.0075)\n",
    "\n",
    "## make it look nicer\n",
    "axs[1].set_yticks([])\n",
    "axs[0].set_yticks([1, 5, 9, 12], labels=[\"Jan\", \"May\", \"Sep\", \"Dec\"])\n",
    "axs[0].set_ylabel(\"Month\")\n",
    "axs[0].set_title(r\"$\\tau_x$-SST coupling\")\n",
    "axs[1].set_title(\"Change\")\n",
    "\n",
    "plt.show()"
   ]
  },
  {
   "cell_type": "markdown",
   "id": "d1c4aefd-895c-440d-9aa7-40cae6dba3e3",
   "metadata": {},
   "source": [
    "##### Explained variance"
   ]
  },
  {
   "cell_type": "code",
   "execution_count": null,
   "id": "6c2b0ed0-040d-4a49-8697-d1f27e62faf4",
   "metadata": {},
   "outputs": [],
   "source": [
    "def regress_helper(data):\n",
    "    \"\"\"helper function for regression\"\"\"\n",
    "\n",
    "    ## stack data\n",
    "    data_stack = data.stack(sample=[\"member\", \"time\"])\n",
    "\n",
    "    ## kwargs for regression\n",
    "    kwargs = dict(X=data_stack[\"nino3\"], Y=data_stack[\"taux\"], dim=\"sample\")\n",
    "\n",
    "    return src.utils.regress_core(**kwargs)\n",
    "\n",
    "\n",
    "def get_recon_skill(data):\n",
    "    \"\"\"get reconstruction error\"\"\"\n",
    "\n",
    "    ## get coefficients\n",
    "    m = regress_helper(data)\n",
    "\n",
    "    ## get reconstruction\n",
    "    recon = data[\"nino3\"] * m\n",
    "\n",
    "    ## reconstruct correlation\n",
    "    cov = src.utils.reconstruct_cov_da(\n",
    "        V_x=recon,\n",
    "        V_y=data[\"taux\"],\n",
    "        U_x=data[\"taux_comp\"],\n",
    "        U_y=data[\"taux_comp\"],\n",
    "    )\n",
    "    var = src.utils.reconstruct_var(\n",
    "        scores=data[\"taux\"],\n",
    "        components=data[\"taux_comp\"],\n",
    "    )\n",
    "\n",
    "    return cov / var\n",
    "\n",
    "\n",
    "## function to get correlation\n",
    "get_skill = lambda x: x.groupby(\"time.month\").map(get_recon_skill)\n",
    "\n",
    "## then, reconstruct regression coefficient\n",
    "r_early = get_skill(anom_early)\n",
    "r_late = get_skill(anom_late)"
   ]
  },
  {
   "cell_type": "code",
   "execution_count": null,
   "id": "ec19bac4-5f1a-4e74-8694-18e3a4c70f6c",
   "metadata": {},
   "outputs": [],
   "source": [
    "fig, axs = plt.subplots(1, 2, figsize=(4, 2.5), layout=\"constrained\")\n",
    "\n",
    "## plot data\n",
    "cp0 = plot_cycle_hov(axs[0], data=r_early, amp=0.8)\n",
    "plot_cycle_hov(axs[0], data=r_late, amp=0.8, is_filled=False)\n",
    "\n",
    "## plot difference\n",
    "cp2 = plot_cycle_hov(axs[1], data=r_late - r_early, amp=0.4)\n",
    "\n",
    "## make it look nicer\n",
    "axs[1].set_yticks([])\n",
    "axs[0].set_yticks([1, 5, 9, 12], labels=[\"Jan\", \"May\", \"Sep\", \"Dec\"])\n",
    "axs[0].set_ylabel(\"Month\")\n",
    "axs[0].set_title(r\"Correlation\")\n",
    "axs[1].set_title(\"Change\")\n",
    "\n",
    "plt.show()"
   ]
  },
  {
   "cell_type": "markdown",
   "id": "206b4692-dd3a-42c1-af8f-e58400d26188",
   "metadata": {},
   "source": [
    "#### Heat flux"
   ]
  },
  {
   "cell_type": "code",
   "execution_count": null,
   "id": "11832d4f-e4af-4a33-941b-234ac14cff22",
   "metadata": {},
   "outputs": [],
   "source": [
    "## shared kwargs\n",
    "kwargs = dict(x_var=\"sst\", y_var=\"nhf\", fn_x=src.utils.get_nino34)\n",
    "\n",
    "## function to get slope\n",
    "get_slope = lambda x: x.groupby(\"time.month\").map(src.utils.regress_proj, **kwargs)\n",
    "\n",
    "## then, reconstruct regression coefficient\n",
    "m_early = get_slope(anom_early)\n",
    "m_late = get_slope(anom_late)"
   ]
  },
  {
   "cell_type": "code",
   "execution_count": null,
   "id": "94ad912c-e4ba-42da-95f8-87a3c58e4207",
   "metadata": {},
   "outputs": [],
   "source": [
    "fig, axs = plt.subplots(1, 2, figsize=(4, 2.5), layout=\"constrained\")\n",
    "\n",
    "## plot data\n",
    "cp0 = plot_cycle_hov(axs[0], data=m_early, amp=40)\n",
    "plot_cycle_hov(axs[0], data=m_late, amp=40, is_filled=False)\n",
    "\n",
    "## plot difference\n",
    "cp2 = plot_cycle_hov(axs[1], data=m_late - m_early, amp=20)\n",
    "\n",
    "## make it look nicer\n",
    "axs[1].set_yticks([])\n",
    "axs[0].set_yticks([1, 5, 9, 12], labels=[\"Jan\", \"May\", \"Sep\", \"Dec\"])\n",
    "axs[0].set_ylabel(\"Month\")\n",
    "axs[0].set_title(r\"NHF-SST coupling\")\n",
    "axs[1].set_title(\"Change\")\n",
    "\n",
    "plt.show()"
   ]
  },
  {
   "cell_type": "markdown",
   "id": "e582f715-b65f-46d9-8055-1839d9da2538",
   "metadata": {},
   "source": [
    "#### SST-SSH"
   ]
  },
  {
   "cell_type": "code",
   "execution_count": null,
   "id": "5ff13084-2ad1-4fa5-b511-8de17c9a8019",
   "metadata": {},
   "outputs": [],
   "source": [
    "## shared kwargs\n",
    "kwargs = dict(x_var=\"ssh\", y_var=\"sst\")\n",
    "\n",
    "## function to get slope\n",
    "get_slope = lambda x: x.groupby(\"time.month\").map(src.utils.regress_proj, **kwargs)\n",
    "\n",
    "## then, reconstruct regression coefficient\n",
    "m_early = get_slope(anom_early)\n",
    "m_late = get_slope(anom_late)"
   ]
  },
  {
   "cell_type": "code",
   "execution_count": null,
   "id": "10098f44-cbd6-4cb5-bc3d-5bc43aec25ec",
   "metadata": {},
   "outputs": [],
   "source": [
    "fig, axs = plt.subplots(1, 2, figsize=(4, 2.5), layout=\"constrained\")\n",
    "\n",
    "## plot data\n",
    "cp0 = plot_cycle_hov(axs[0], data=m_early, amp=0.3)\n",
    "plot_cycle_hov(axs[0], data=m_late, amp=0.3, is_filled=False)\n",
    "\n",
    "## plot difference\n",
    "cp2 = plot_cycle_hov(axs[1], data=m_late - m_early, amp=0.15)\n",
    "\n",
    "## make it look nicer\n",
    "axs[1].set_yticks([])\n",
    "axs[0].set_yticks([1, 5, 9, 12], labels=[\"Jan\", \"May\", \"Sep\", \"Dec\"])\n",
    "axs[0].set_ylabel(\"Month\")\n",
    "axs[0].set_title(r\"SST-SSH coupling\")\n",
    "axs[1].set_title(\"Change\")\n",
    "\n",
    "plt.show()"
   ]
  },
  {
   "cell_type": "markdown",
   "id": "3b214b57-584e-467c-918b-419172ab75e3",
   "metadata": {},
   "source": [
    "#### $\\tau_x$-SST asymmetry"
   ]
  },
  {
   "cell_type": "code",
   "execution_count": null,
   "id": "6f6a41fb-47ef-4a82-a79d-6582743a5024",
   "metadata": {},
   "outputs": [],
   "source": [
    "def regress_relu(data, is_pos=True):\n",
    "    \"\"\"regress on function for positive values of nino3\"\"\"\n",
    "\n",
    "    ## stack data\n",
    "    data = data.stack(sample=[\"member\", \"time\"])\n",
    "\n",
    "    ## find which indices to keep\n",
    "    if is_pos:\n",
    "        idx = data[\"nino3\"] > 0\n",
    "    else:\n",
    "        idx = data[\"nino3\"] < 0\n",
    "\n",
    "    ## select valid values of idx\n",
    "    data_idx = data.where(idx, other=0)\n",
    "\n",
    "    ## do regression\n",
    "    return src.utils.regress_core(Y=data_idx[\"taux\"], X=data_idx[\"nino3\"], dim=\"sample\")\n",
    "\n",
    "\n",
    "def regress_relu_wrapper(data, eofs):\n",
    "    \"\"\"wrapper function\"\"\"\n",
    "\n",
    "    ## get nino3\n",
    "    nino3 = src.utils.reconstruct_fn(\n",
    "        components=eofs[\"sst\"].components(), scores=data[\"sst\"], fn=src.utils.get_nino3\n",
    "    )\n",
    "\n",
    "    ## new array\n",
    "    taux = xr.merge([data[\"taux\"], nino3.rename(\"nino3\")])\n",
    "\n",
    "    ## compute regression coefs\n",
    "    m_pos = eofs[\"taux\"].inverse_transform(\n",
    "        taux.groupby(\"time.month\").map(regress_relu, is_pos=True)\n",
    "    )\n",
    "\n",
    "    m_neg = eofs[\"taux\"].inverse_transform(\n",
    "        taux.groupby(\"time.month\").map(regress_relu, is_pos=False)\n",
    "    )\n",
    "\n",
    "    return m_pos - m_neg"
   ]
  },
  {
   "cell_type": "markdown",
   "id": "93531998-7892-458e-9c47-c2ea745978f1",
   "metadata": {},
   "source": [
    "Compute"
   ]
  },
  {
   "cell_type": "code",
   "execution_count": null,
   "id": "ef4d784d-95d0-4e28-8cbb-f248e0f3f8e2",
   "metadata": {},
   "outputs": [],
   "source": [
    "asym_early = regress_relu_wrapper(anom_early, eofs)\n",
    "asym_late = regress_relu_wrapper(anom_late, eofs)"
   ]
  },
  {
   "cell_type": "markdown",
   "id": "20061f0f-8165-477d-8b93-b19a6b306ad4",
   "metadata": {},
   "source": [
    "Plot"
   ]
  },
  {
   "cell_type": "code",
   "execution_count": null,
   "id": "77cdd821-d7e5-4e6f-9be6-3bca4d184c41",
   "metadata": {},
   "outputs": [],
   "source": [
    "fig, axs = plt.subplots(1, 2, figsize=(4, 2.5), layout=\"constrained\")\n",
    "\n",
    "## plot data\n",
    "cp0 = plot_cycle_hov(axs[0], data=asym_early, amp=0.0075)\n",
    "# plot_cycle_hov(axs[0], data=asym_late, amp=0.0075, is_filled=False)\n",
    "cp2 = plot_cycle_hov(axs[1], data=asym_late, amp=0.0075)\n",
    "\n",
    "## make it look nicer\n",
    "axs[1].set_yticks([])\n",
    "axs[0].set_yticks([1, 5, 9, 12], labels=[\"Jan\", \"May\", \"Sep\", \"Dec\"])\n",
    "axs[0].set_ylabel(\"Month\")\n",
    "\n",
    "axs[0].set_title(\"Early asym.\")\n",
    "axs[1].set_title(\"Late asym.\")\n",
    "\n",
    "plt.show()"
   ]
  },
  {
   "cell_type": "markdown",
   "id": "d5e17aae-1fa4-470c-a388-a5f26a98c01f",
   "metadata": {},
   "source": [
    "## Change in zonal gradient"
   ]
  },
  {
   "cell_type": "markdown",
   "id": "cb8a907d-788b-41de-b0ab-b7f4dd06c5f6",
   "metadata": {},
   "source": [
    "### Compute zonal gradient"
   ]
  },
  {
   "cell_type": "code",
   "execution_count": null,
   "id": "f528fb22-209a-4b96-b244-bcfd9c09cef5",
   "metadata": {},
   "outputs": [],
   "source": [
    "def get_zonal_grad(x):\n",
    "    \"\"\"\n",
    "    Function to compute zonal gradient. Ref: Fig 7 in Maher et al, 2023.\n",
    "    \"\"\"\n",
    "\n",
    "    ## outlines for boxes\n",
    "    ebox_coords = dict(longitude=slice(210, 270), latitude=slice(-5, 5))\n",
    "    wbox_coords = dict(longitude=slice(120, 180), latitude=slice(-5, 5))\n",
    "\n",
    "    ## compute box averages\n",
    "    ebox_avg = src.utils.spatial_avg(x.sel(ebox_coords))\n",
    "    wbox_avg = src.utils.spatial_avg(x.sel(wbox_coords))\n",
    "\n",
    "    return ebox_avg - wbox_avg"
   ]
  },
  {
   "cell_type": "code",
   "execution_count": null,
   "id": "a3873738-3075-4f30-babe-2f48c84ca961",
   "metadata": {},
   "outputs": [],
   "source": [
    "## compute zonal gradient\n",
    "zonal_grad_forced = src.utils.reconstruct_fn(components, forced, fn=get_zonal_grad)\n",
    "\n",
    "## sep. time into year and month\n",
    "zonal_grad_forced_bymonth = src.utils.unstack_month_and_year(zonal_grad_forced)\n",
    "\n",
    "## get change from initial climatology\n",
    "clim = zonal_grad_forced_bymonth.isel(year=slice(None, 30)).mean(\"year\")\n",
    "zonal_grad_change = zonal_grad_forced_bymonth - clim"
   ]
  },
  {
   "cell_type": "code",
   "execution_count": null,
   "id": "317c8238-1fe5-4696-9a7b-16b9b4f92035",
   "metadata": {},
   "outputs": [],
   "source": [
    "## setup plot\n",
    "fig, ax = plt.subplots(figsize=(2, 4), layout=\"constrained\")\n",
    "\n",
    "## plot data\n",
    "kwargs = dict(levels=src.utils.make_cb_range(2, 0.2), cmap=\"cmo.balance\")\n",
    "plot_data = ax.contourf(\n",
    "    zonal_grad_change.month, zonal_grad_change.year, zonal_grad_change[\"sst\"], **kwargs\n",
    ")\n",
    "\n",
    "## label\n",
    "ax.set_ylabel(\"Year\")\n",
    "ax.set_xlabel(\"Month\")\n",
    "ax.set_xticks([1, 6, 12])\n",
    "ax.set_title(r\"$\\Delta \\left(\\partial_x T\\right)$\")\n",
    "ax.set_ylim([1950, None])\n",
    "\n",
    "plt.show()"
   ]
  },
  {
   "cell_type": "markdown",
   "id": "0a556474-13c3-4652-83e6-aff23e6b5a27",
   "metadata": {},
   "source": [
    "## Look at mean state-dependence"
   ]
  },
  {
   "cell_type": "markdown",
   "id": "25986b01-a732-4b02-a4a0-f5d04649e72f",
   "metadata": {},
   "source": [
    "### Compare Bjerknes growth rate to zonal gradient"
   ]
  },
  {
   "cell_type": "markdown",
   "id": "00ae78fc-a54f-4a71-b868-90f7c4dec086",
   "metadata": {},
   "source": [
    "#### Load $T,h$ data"
   ]
  },
  {
   "cell_type": "code",
   "execution_count": null,
   "id": "db26b568-b788-48f4-b8f7-0142f843ffd2",
   "metadata": {},
   "outputs": [],
   "source": [
    "## MPI data\n",
    "mpi_load_fp = pathlib.Path(DATA_FP, \"mpi_Th\", \"Th.nc\")\n",
    "Th = xr.open_dataset(mpi_load_fp)"
   ]
  },
  {
   "cell_type": "markdown",
   "id": "91daca80-e87d-4a47-9684-a7748773ef08",
   "metadata": {},
   "source": [
    "#### Fit RO to $T,h$ data"
   ]
  },
  {
   "cell_type": "code",
   "execution_count": null,
   "id": "c5e178bd-5d7b-4366-aae0-f1ac23695c77",
   "metadata": {},
   "outputs": [],
   "source": [
    "## get subset of data\n",
    "Th_sub = Th.sel(time=slice(\"1979\", \"2024\"))\n",
    "\n",
    "## initialize model\n",
    "model = XRO(ncycle=12, ac_order=3, is_forward=True)\n",
    "\n",
    "## fit to individual ensemble members\n",
    "kwargs = dict(model=model, T_var=\"T_3\", h_var=\"h_w\", verbose=True)\n",
    "_, fits = src.utils.get_RO_ensemble(Th_sub, **kwargs)\n",
    "\n",
    "## extract parameters\n",
    "params = model.get_RO_parameters(fits)"
   ]
  },
  {
   "cell_type": "markdown",
   "id": "63b7349f-a686-411f-8145-7d10004e42f1",
   "metadata": {},
   "source": [
    "#### Look at intra-ensemble spread\n",
    "$\\partial_x T$ vs. BJ index  \n",
    "Compare to Maher et al (2023)"
   ]
  },
  {
   "cell_type": "code",
   "execution_count": null,
   "id": "af512f0f-d889-441d-b57b-aef55c39b783",
   "metadata": {},
   "outputs": [],
   "source": [
    "## get subset of data to look at\n",
    "anom_ = anom.sel(time=slice(\"1979\", \"2024\"))\n",
    "\n",
    "## compute zonal gradient at every time step\n",
    "zonal_grad = src.utils.reconstruct_fn(components, anom_, fn=get_zonal_grad)\n",
    "\n",
    "## get monthly avg\n",
    "zonal_grad_by_month = zonal_grad.groupby(\"time.month\").mean()\n",
    "\n",
    "fig, ax = plt.subplots(figsize=(2, 2))\n",
    "ax.scatter(zonal_grad_by_month[\"sst\"].mean(\"month\"), params[\"R\"].mean(\"cycle\"), s=10)\n",
    "ax.set_xlabel(\"Zonal SST gradient\")\n",
    "ax.set_ylabel(\"Bjerknes feedback\")\n",
    "plt.show()"
   ]
  }
 ],
 "metadata": {
  "kernelspec": {
   "display_name": "Python [conda env:envs]",
   "language": "python",
   "name": "conda-env-envs-py"
  },
  "language_info": {
   "codemirror_mode": {
    "name": "ipython",
    "version": 3
   },
   "file_extension": ".py",
   "mimetype": "text/x-python",
   "name": "python",
   "nbconvert_exporter": "python",
   "pygments_lexer": "ipython3",
   "version": "3.13.5"
  }
 },
 "nbformat": 4,
 "nbformat_minor": 5
}
