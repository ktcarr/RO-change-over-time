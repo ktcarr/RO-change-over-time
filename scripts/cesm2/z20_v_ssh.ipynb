{
 "cells": [
  {
   "cell_type": "markdown",
   "id": "0cffaa09-f61f-44a9-8f9c-39a313b53ca1",
   "metadata": {},
   "source": [
    "# $Z_{20}$ vs ssh"
   ]
  },
  {
   "cell_type": "markdown",
   "id": "b4cfc937-2770-4d2e-b2d0-a2b24308af7f",
   "metadata": {},
   "source": [
    "## Imports"
   ]
  },
  {
   "cell_type": "code",
   "execution_count": null,
   "id": "d69bd16a-c170-4809-a442-b56c3e2d76e8",
   "metadata": {},
   "outputs": [],
   "source": [
    "import matplotlib.pyplot as plt\n",
    "import matplotlib as mpl\n",
    "import numpy as np\n",
    "import seaborn as sns\n",
    "import xarray as xr\n",
    "import tqdm\n",
    "import pathlib\n",
    "import cmocean\n",
    "import os\n",
    "import copy\n",
    "import time\n",
    "\n",
    "# Import custom modules\n",
    "import src.utils\n",
    "\n",
    "## set plotting specs\n",
    "sns.set(rc={\"axes.facecolor\": \"white\", \"axes.grid\": False})\n",
    "\n",
    "## bump up DPI\n",
    "mpl.rcParams[\"figure.dpi\"] = 100\n",
    "\n",
    "## get filepaths\n",
    "DATA_FP = pathlib.Path(os.environ[\"DATA_FP\"])\n",
    "SAVE_FP = pathlib.Path(os.environ[\"SAVE_FP\"])"
   ]
  },
  {
   "cell_type": "markdown",
   "id": "e9ff1895-da38-4cf4-8c64-d1df114ba5e0",
   "metadata": {},
   "source": [
    "## funcs"
   ]
  },
  {
   "cell_type": "markdown",
   "id": "805d84bb-2715-4d6e-aa1a-d172de19bbbb",
   "metadata": {},
   "source": [
    "## Load data"
   ]
  },
  {
   "cell_type": "code",
   "execution_count": null,
   "id": "1431b3c4-2f57-46f0-af15-cf2b09e52d1c",
   "metadata": {},
   "outputs": [],
   "source": [
    "## load spatial data\n",
    "forced, anom = src.utils.load_consolidated()\n",
    "\n",
    "## subset\n",
    "anom = anom[[\"ssh\", \"ssh_comp\", \"z20\", \"z20_comp\", \"nhf\", \"nhf_comp\"]]"
   ]
  },
  {
   "cell_type": "markdown",
   "id": "c6ad5ce2-36b2-4ba9-9027-725b4b9ee9d2",
   "metadata": {},
   "source": [
    "Data seems to not be aligned...check this:"
   ]
  },
  {
   "cell_type": "markdown",
   "id": "f1d85b90-ad81-4afa-86fc-930a63ca01ea",
   "metadata": {},
   "source": [
    "## Compute indices"
   ]
  },
  {
   "cell_type": "code",
   "execution_count": null,
   "id": "8858215d-a550-453b-a44e-1d3b09ad057e",
   "metadata": {},
   "outputs": [],
   "source": [
    "## times not aligned??\n",
    "# anom[\"z20\"].isel(time=0).values"
   ]
  },
  {
   "cell_type": "code",
   "execution_count": null,
   "id": "4f5d50a3-99c1-43a4-8ac7-0d353524a50b",
   "metadata": {},
   "outputs": [],
   "source": [
    "idxs = src.utils.reconstruct_wrapper(\n",
    "    anom,\n",
    "    fn=src.utils.get_RO_hw,\n",
    ")\n",
    "\n",
    "idxs = src.utils.get_windowed(idxs)\n",
    "idxs0 = idxs.isel(year=0).transpose(\"time\", \"member\")"
   ]
  },
  {
   "cell_type": "markdown",
   "id": "1ff9ebb7-b8ab-42d9-9af2-d9281df0f66c",
   "metadata": {},
   "source": [
    "Look at correlation with NHF"
   ]
  },
  {
   "cell_type": "code",
   "execution_count": null,
   "id": "e10bb186-031b-4586-804c-0e7f348ee49d",
   "metadata": {},
   "outputs": [],
   "source": [
    "import scipy.stats\n",
    "\n",
    "r = lambda x, y: scipy.stats.pearsonr(x, y)[0].item()"
   ]
  },
  {
   "cell_type": "code",
   "execution_count": null,
   "id": "15bfcaf5-dfe2-49f9-996b-7f96aed7ba85",
   "metadata": {},
   "outputs": [],
   "source": [
    "fig, ax = plt.subplots(figsize=(4, 4))\n",
    "ax.scatter(\n",
    "    idxs0[\"ssh\"].values,\n",
    "    idxs0[\"z20\"].values,\n",
    "    s=1,\n",
    ")"
   ]
  }
 ],
 "metadata": {
  "kernelspec": {
   "display_name": "Python [conda env:envs]",
   "language": "python",
   "name": "conda-env-envs-py"
  },
  "language_info": {
   "codemirror_mode": {
    "name": "ipython",
    "version": 3
   },
   "file_extension": ".py",
   "mimetype": "text/x-python",
   "name": "python",
   "nbconvert_exporter": "python",
   "pygments_lexer": "ipython3",
   "version": "3.13.5"
  }
 },
 "nbformat": 4,
 "nbformat_minor": 5
}
