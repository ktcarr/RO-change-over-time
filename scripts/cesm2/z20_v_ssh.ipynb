{
 "cells": [
  {
   "cell_type": "markdown",
   "id": "0cffaa09-f61f-44a9-8f9c-39a313b53ca1",
   "metadata": {},
   "source": [
    "# $Z_{20}$ vs ssh"
   ]
  },
  {
   "cell_type": "markdown",
   "id": "b4cfc937-2770-4d2e-b2d0-a2b24308af7f",
   "metadata": {},
   "source": [
    "## Imports"
   ]
  },
  {
   "cell_type": "code",
   "execution_count": null,
   "id": "d69bd16a-c170-4809-a442-b56c3e2d76e8",
   "metadata": {},
   "outputs": [],
   "source": [
    "import matplotlib.pyplot as plt\n",
    "import matplotlib as mpl\n",
    "import numpy as np\n",
    "import seaborn as sns\n",
    "import xarray as xr\n",
    "import tqdm\n",
    "import pathlib\n",
    "import cmocean\n",
    "import os\n",
    "import copy\n",
    "import time\n",
    "\n",
    "# Import custom modules\n",
    "import src.utils\n",
    "\n",
    "## set plotting specs\n",
    "sns.set(rc={\"axes.facecolor\": \"white\", \"axes.grid\": False})\n",
    "\n",
    "## bump up DPI\n",
    "mpl.rcParams[\"figure.dpi\"] = 100\n",
    "\n",
    "## get filepaths\n",
    "DATA_FP = pathlib.Path(os.environ[\"DATA_FP\"])\n",
    "SAVE_FP = pathlib.Path(os.environ[\"SAVE_FP\"])"
   ]
  },
  {
   "cell_type": "markdown",
   "id": "e9ff1895-da38-4cf4-8c64-d1df114ba5e0",
   "metadata": {},
   "source": [
    "## funcs"
   ]
  },
  {
   "cell_type": "markdown",
   "id": "805d84bb-2715-4d6e-aa1a-d172de19bbbb",
   "metadata": {},
   "source": [
    "## Load data"
   ]
  },
  {
   "cell_type": "code",
   "execution_count": null,
   "id": "1431b3c4-2f57-46f0-af15-cf2b09e52d1c",
   "metadata": {},
   "outputs": [],
   "source": [
    "## load spatial data\n",
    "forced, anom = src.utils.load_consolidated()\n",
    "\n",
    "## subset\n",
    "anom = anom[[\"ssh\", \"ssh_comp\", \"z20\", \"z20_comp\", \"nhf\", \"nhf_comp\"]]\n",
    "\n",
    "## load custom h\n",
    "_, therm_anom = src.utils.load_h_data()"
   ]
  },
  {
   "cell_type": "markdown",
   "id": "f1d85b90-ad81-4afa-86fc-930a63ca01ea",
   "metadata": {},
   "source": [
    "## Compute indices"
   ]
  },
  {
   "cell_type": "code",
   "execution_count": null,
   "id": "699fbcf1-7e6d-4f83-9ca0-4d34135a7c07",
   "metadata": {},
   "outputs": [],
   "source": [
    "## compute indices\n",
    "idxs = src.utils.reconstruct_wrapper(\n",
    "    anom,\n",
    "    fn=src.utils.get_RO_hw,\n",
    ")\n",
    "\n",
    "## custom h\n",
    "idxs[\"h_cust\"] = therm_anom.sel(longitude=slice(120, 210)).mean(\"longitude\")\n",
    "\n",
    "## subset by time\n",
    "idxs = src.utils.get_windowed(idxs)\n",
    "idxs = src.utils.get_ddt(idxs)"
   ]
  },
  {
   "cell_type": "markdown",
   "id": "796b0de3-73e2-4043-879f-662a0dfccfe7",
   "metadata": {},
   "source": [
    "### Plot $Z_{20}$ vs custom $h$"
   ]
  },
  {
   "cell_type": "code",
   "execution_count": null,
   "id": "4f374bbc-891b-45f5-9f93-c9bdfc7a6fd6",
   "metadata": {},
   "outputs": [],
   "source": [
    "sel = lambda x: src.utils.sel_month(x, months=1)\n",
    "\n",
    "fig, axs = plt.subplots(1, 2, figsize=(7, 3), layout=\"constrained\")\n",
    "\n",
    "for ax, i in zip(axs, [0, -1]):\n",
    "    ax.scatter(\n",
    "        sel(idxs[\"z20\"]).isel(year=i),\n",
    "        sel(idxs[\"h_cust\"]).isel(year=i),\n",
    "        s=2,\n",
    "    )\n",
    "\n",
    "    axis_kwargs = dict(ls=\"--\", c=\"k\", lw=0.8)\n",
    "    ax.axhline(0, **axis_kwargs)\n",
    "    ax.axvline(0, **axis_kwargs)\n",
    "\n",
    "    ## 1-1 line\n",
    "    zz = np.linspace(-40, 40)\n",
    "    ax.plot(zz, zz, c=\"k\", lw=1, ls=\"--\")\n",
    "    ax.plot(zz, 1.3 * zz, c=\"gray\", lw=1)\n",
    "\n",
    "## format\n",
    "src.utils.set_lims(axs)\n",
    "\n",
    "plt.show()"
   ]
  },
  {
   "cell_type": "markdown",
   "id": "1ff9ebb7-b8ab-42d9-9af2-d9281df0f66c",
   "metadata": {},
   "source": [
    "## Plot $Z_{20}$ vs. ssh"
   ]
  },
  {
   "cell_type": "code",
   "execution_count": null,
   "id": "15bfcaf5-dfe2-49f9-996b-7f96aed7ba85",
   "metadata": {},
   "outputs": [],
   "source": [
    "sel = lambda x: src.utils.sel_month(x, months=1)\n",
    "\n",
    "fig, axs = plt.subplots(1, 2, figsize=(7, 3), layout=\"constrained\")\n",
    "\n",
    "for ax, i in zip(axs, [0, -1]):\n",
    "    ax.scatter(\n",
    "        sel(idxs[\"z20\"]).isel(year=i),\n",
    "        sel(idxs[\"ssh\"]).isel(year=i),\n",
    "        s=2,\n",
    "    )\n",
    "\n",
    "    axis_kwargs = dict(ls=\"--\", c=\"k\", lw=0.8)\n",
    "    ax.axhline(0, **axis_kwargs)\n",
    "    ax.axvline(0, **axis_kwargs)\n",
    "\n",
    "## format\n",
    "src.utils.set_lims(axs)\n",
    "\n",
    "plt.show()"
   ]
  },
  {
   "cell_type": "markdown",
   "id": "b9dfe2da-1bb5-4ce9-8728-f31ea8d0b8a4",
   "metadata": {},
   "source": [
    "## tendency correlation with NHF"
   ]
  },
  {
   "cell_type": "code",
   "execution_count": null,
   "id": "2b94064a-6f36-4a4a-87d5-f275e7912e1e",
   "metadata": {},
   "outputs": [],
   "source": [
    "sel = lambda x: src.utils.sel_month(x, months=1)\n",
    "\n",
    "fig, axs = plt.subplots(1, 2, figsize=(7, 3), layout=\"constrained\")\n",
    "\n",
    "for ax, i in zip(axs, [0, -1]):\n",
    "    ax.scatter(\n",
    "        sel(idxs[\"nhf\"]).isel(year=i),\n",
    "        sel(idxs[\"ddt_ssh\"]).isel(year=i),\n",
    "        s=4,\n",
    "    )\n",
    "\n",
    "    axis_kwargs = dict(ls=\"--\", c=\"k\", lw=0.8)\n",
    "    ax.axhline(0, **axis_kwargs)\n",
    "    ax.axvline(0, **axis_kwargs)\n",
    "\n",
    "## format\n",
    "src.utils.set_lims(axs)\n",
    "\n",
    "plt.show()"
   ]
  }
 ],
 "metadata": {
  "kernelspec": {
   "display_name": "Python [conda env:envs]",
   "language": "python",
   "name": "conda-env-envs-py"
  },
  "language_info": {
   "codemirror_mode": {
    "name": "ipython",
    "version": 3
   },
   "file_extension": ".py",
   "mimetype": "text/x-python",
   "name": "python",
   "nbconvert_exporter": "python",
   "pygments_lexer": "ipython3",
   "version": "3.13.5"
  }
 },
 "nbformat": 4,
 "nbformat_minor": 5
}
