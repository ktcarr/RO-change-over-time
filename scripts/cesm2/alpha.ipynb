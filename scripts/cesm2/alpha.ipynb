{
 "cells": [
  {
   "cell_type": "markdown",
   "id": "f9ff6fab-7e67-403f-abf3-c08376db7cca",
   "metadata": {},
   "source": [
    "# Changes in thermal expansion coefficient"
   ]
  },
  {
   "cell_type": "markdown",
   "id": "5141b536-c7fc-4798-86e4-ec0f3f06bc7d",
   "metadata": {},
   "source": [
    "## Imports"
   ]
  },
  {
   "cell_type": "code",
   "execution_count": null,
   "id": "776100e4-65ae-4e6c-b78b-bd49fdd9e025",
   "metadata": {},
   "outputs": [],
   "source": [
    "import matplotlib.pyplot as plt\n",
    "import matplotlib as mpl\n",
    "import numpy as np\n",
    "import seaborn as sns\n",
    "import xarray as xr\n",
    "import tqdm\n",
    "import pathlib\n",
    "import cmocean\n",
    "import os\n",
    "import copy\n",
    "import time\n",
    "import gsw\n",
    "\n",
    "# Import custom modules\n",
    "import src.utils\n",
    "\n",
    "## set plotting specs\n",
    "sns.set(rc={\"axes.facecolor\": \"white\", \"axes.grid\": False})\n",
    "\n",
    "## bump up DPI\n",
    "mpl.rcParams[\"figure.dpi\"] = 100\n",
    "\n",
    "## get filepaths\n",
    "DATA_FP = pathlib.Path(os.environ[\"DATA_FP\"])\n",
    "SAVE_FP = pathlib.Path(os.environ[\"SAVE_FP\"])"
   ]
  },
  {
   "cell_type": "markdown",
   "id": "55462c3e-6f92-47e1-8beb-60806ed3f5bf",
   "metadata": {},
   "source": [
    "## funcs"
   ]
  },
  {
   "cell_type": "code",
   "execution_count": null,
   "id": "7efdc163-f8d1-4382-9749-6f9855dec7de",
   "metadata": {},
   "outputs": [],
   "source": [
    "def avg_upper_ocn(T, H=70, lon_range=[140, 280]):\n",
    "    \"\"\"average upper ocean above threshold\"\"\"\n",
    "    T_ = T.sel(z_t=slice(None, H), longitude=slice(*lon_range))\n",
    "\n",
    "    return T_.mean([\"z_t\", \"longitude\"])"
   ]
  },
  {
   "cell_type": "markdown",
   "id": "ce725d10-ac03-4329-8256-d85a28bb3541",
   "metadata": {},
   "source": [
    "## Load data"
   ]
  },
  {
   "cell_type": "code",
   "execution_count": null,
   "id": "72e268bd-c9f1-432b-99e7-9b14121e3273",
   "metadata": {},
   "outputs": [],
   "source": [
    "## load data\n",
    "forced, _ = src.utils.load_consolidated()\n",
    "\n",
    "## subset for temperature\n",
    "T = forced[[\"T\", \"T_comp\"]]\n",
    "\n",
    "## get windowed T\n",
    "T = src.utils.get_windowed(T, stride=120)"
   ]
  },
  {
   "cell_type": "markdown",
   "id": "dfd08e12-20bb-41a0-a5ef-334f935e7fb3",
   "metadata": {},
   "source": [
    "## Compute"
   ]
  },
  {
   "cell_type": "markdown",
   "id": "e8b26185-fddb-41e9-a985-15b773bc955f",
   "metadata": {},
   "source": [
    "### Avg. temperature over near-surface layer"
   ]
  },
  {
   "cell_type": "code",
   "execution_count": null,
   "id": "1b0f0a6a-9693-4668-ab15-a80a106af9d7",
   "metadata": {},
   "outputs": [],
   "source": [
    "T_upper = src.utils.reconstruct_clim(T, fn=avg_upper_ocn)[\"T\"]\n",
    "T_upper_mean = T_upper.mean(\"month\")"
   ]
  },
  {
   "cell_type": "markdown",
   "id": "b711453b-e2e6-4d70-af0a-9e9297394d28",
   "metadata": {},
   "source": [
    "### Compute thermal expansion"
   ]
  },
  {
   "cell_type": "code",
   "execution_count": null,
   "id": "b98b784e-1116-400f-8c10-670115bfbd6c",
   "metadata": {},
   "outputs": [],
   "source": [
    "## specify reference values\n",
    "SA = 35  # g/kg\n",
    "P = 35  # dbar\n",
    "H = 70  # m\n",
    "\n",
    "## reference values for salinity, pressure\n",
    "nyear = len(T_upper.year)\n",
    "sa = SA * np.ones(nyear)\n",
    "p = P * np.ones(nyear)\n",
    "\n",
    "## compute alpha\n",
    "alpha = xr.ones_like(T_upper_mean)\n",
    "alpha.values = gsw.alpha(SA=sa, CT=T_upper_mean.values, p=p)\n",
    "\n",
    "## get fractional change\n",
    "delta_a = src.utils.frac_change(alpha, inv=False)"
   ]
  },
  {
   "cell_type": "markdown",
   "id": "ab3e4908-4bff-4f6a-b792-5cb436018520",
   "metadata": {},
   "source": [
    "### Plot"
   ]
  },
  {
   "cell_type": "code",
   "execution_count": null,
   "id": "36dcc1e5-a7af-400a-b079-569189cd8df0",
   "metadata": {},
   "outputs": [],
   "source": [
    "fig, ax = plt.subplots(figsize=(4, 3))\n",
    "ax.plot(T_upper.year, delta_a)\n",
    "ax.set_ylabel(\"Frac. change\")\n",
    "plt.show()"
   ]
  }
 ],
 "metadata": {
  "kernelspec": {
   "display_name": "Python [conda env:envs]",
   "language": "python",
   "name": "conda-env-envs-py"
  },
  "language_info": {
   "codemirror_mode": {
    "name": "ipython",
    "version": 3
   },
   "file_extension": ".py",
   "mimetype": "text/x-python",
   "name": "python",
   "nbconvert_exporter": "python",
   "pygments_lexer": "ipython3",
   "version": "3.13.5"
  }
 },
 "nbformat": 4,
 "nbformat_minor": 5
}
