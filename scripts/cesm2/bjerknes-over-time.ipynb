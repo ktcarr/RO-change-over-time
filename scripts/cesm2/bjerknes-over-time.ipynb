{
 "cells": [
  {
   "cell_type": "markdown",
   "id": "22516693-2eb8-45f7-b9d4-4511a195a408",
   "metadata": {},
   "source": [
    "# Bjerknes feedback changes over time"
   ]
  },
  {
   "cell_type": "markdown",
   "id": "0e795c63-4ea6-4623-b0a2-e33656d4c420",
   "metadata": {},
   "source": [
    "## imports"
   ]
  },
  {
   "cell_type": "code",
   "execution_count": null,
   "id": "42d155a1-2906-4d88-9022-b7996ecf7560",
   "metadata": {},
   "outputs": [],
   "source": [
    "import matplotlib.pyplot as plt\n",
    "import matplotlib as mpl\n",
    "import numpy as np\n",
    "import seaborn as sns\n",
    "import xarray as xr\n",
    "import tqdm\n",
    "import pathlib\n",
    "import cmocean\n",
    "import os\n",
    "import copy\n",
    "import time\n",
    "\n",
    "# Import custom modules\n",
    "import src.utils\n",
    "\n",
    "## set plotting specs\n",
    "sns.set(rc={\"axes.facecolor\": \"white\", \"axes.grid\": False})\n",
    "\n",
    "## bump up DPI\n",
    "mpl.rcParams[\"figure.dpi\"] = 100\n",
    "\n",
    "## get filepaths\n",
    "DATA_FP = pathlib.Path(os.environ[\"DATA_FP\"])\n",
    "SAVE_FP = pathlib.Path(os.environ[\"SAVE_FP\"])"
   ]
  },
  {
   "cell_type": "markdown",
   "id": "8382b7b8-eac8-4cf0-8ad1-4632a36727b9",
   "metadata": {},
   "source": [
    "## Funcs"
   ]
  },
  {
   "cell_type": "code",
   "execution_count": null,
   "id": "9874f9c6-8fd1-4c20-abb1-98e3e4962768",
   "metadata": {},
   "outputs": [],
   "source": [
    "def get_dT_sub(Tsub, Hm, delta=25):\n",
    "    \"\"\"\n",
    "    Get temperature difference b/n entrainment zone and mixed layer.\n",
    "    (positive if entrainment zone is warmer than ML)\n",
    "    \"\"\"\n",
    "\n",
    "    ## find indices in ML and entrainment zone (ez)\n",
    "    in_ml = Tsub.z_t <= Hm\n",
    "    in_ez = (Tsub.z_t > Hm) & (Tsub.z_t < (delta + Hm))\n",
    "\n",
    "    ## get Tbar and Tplus (following Frankignoul et al paper)\n",
    "    Tbar = Tsub.where(in_ml).mean(\"z_t\")\n",
    "    Tplus = Tsub.where(in_ez).mean(\"z_t\")\n",
    "\n",
    "    ## get gradient\n",
    "    dT = Tplus - Tbar\n",
    "\n",
    "    return dT\n",
    "\n",
    "\n",
    "def prep(data):\n",
    "    \"\"\"remove sst dependence and compute tendencies\"\"\"\n",
    "\n",
    "    ## remove from h indices\n",
    "    for h_idx in [\"h_w\", \"h\", \"h_w_z20\"]:\n",
    "        data[f\"{h_idx}_hat\"] = src.utils.remove_sst_dependence_v2(\n",
    "            data, h_var=h_idx, T_var=\"T_34\"\n",
    "        )\n",
    "\n",
    "    return data\n",
    "\n",
    "\n",
    "def load_budget_data(t_early, t_late, target_grid):\n",
    "    \"\"\"load ground truth heat budget data\"\"\"\n",
    "\n",
    "    def load_var(varname):\n",
    "        \"\"\"load variable from prepped folder\"\"\"\n",
    "\n",
    "        ## open data\n",
    "        data = xr.open_mfdataset(\n",
    "            sorted(list(pathlib.Path(DATA_FP, \"cesm\", f\"{varname}_temp\").glob(\"*.nc\"))),\n",
    "            concat_dim=\"member\",\n",
    "            combine=\"nested\",\n",
    "            parallel=True,\n",
    "        )\n",
    "\n",
    "        return data.assign_coords({\"member\": np.arange(100)})\n",
    "\n",
    "    ## load data\n",
    "    budget_data = xr.merge([load_var(v) for v in [\"adv\", \"ddt_T\"]])\n",
    "\n",
    "    ## get difference\n",
    "    budget_data[\"diff\"] = budget_data[\"TEND_TEMP\"] - budget_data[\"ADV_3D_TEMP\"]\n",
    "\n",
    "    ## convert z coord from cm to m, and unit from K/s to K/mo\n",
    "    M_PER_CM = 1e-2\n",
    "    SEC_PER_MO = 8.64e4 * 30\n",
    "\n",
    "    ## convert from (i) cm to m and (ii) K/s to K/mo\n",
    "    budget_data = budget_data.assign_coords({\"z_t\": budget_data.z_t * M_PER_CM})\n",
    "    budget_data = budget_data * SEC_PER_MO\n",
    "\n",
    "    ## fix longitude coordinate\n",
    "    budget_data = budget_data.assign_coords({\"nlon\": budget_data.lon.values})\n",
    "    budget_data = budget_data.drop_vars(\"lon\").rename({\"nlon\": \"longitude\"})\n",
    "\n",
    "    ## trim in time\n",
    "    budget_data = xr.concat(\n",
    "        [budget_data.sel(t_early), budget_data.sel(t_late)], dim=\"time\"\n",
    "    )\n",
    "\n",
    "    ## interpolate\n",
    "    budget_data = budget_data.interp_like(target_grid)\n",
    "\n",
    "    # ## separate forced/anomalies\n",
    "    forced_bud, anom_bud = src.utils.separate_forced(budget_data)\n",
    "\n",
    "    return forced_bud, anom_bud\n",
    "\n",
    "\n",
    "def plot_mlds(axs, bar_early, bar_late, month=None):\n",
    "    \"\"\"plot mixed layer depth on pair of axs objects\"\"\"\n",
    "\n",
    "    ## get longitude\n",
    "    lon = src.utils.merimean(bar_early).longitude\n",
    "\n",
    "    ## helper function to get month\n",
    "    if month is None:\n",
    "        sel = lambda x: x.mean(\"month\")\n",
    "    else:\n",
    "        sel = lambda x: x.sel(month=month)\n",
    "\n",
    "    ## plot\n",
    "    axs[0].plot(lon, sel(src.utils.merimean(bar_early[\"mld\"])), c=\"k\")\n",
    "    axs[1].plot(lon, sel(src.utils.merimean(bar_late[\"mld\"])), c=\"k\", ls=\"--\")\n",
    "    axs[2].plot(lon, sel(src.utils.merimean(bar_early[\"mld\"])), c=\"k\")\n",
    "    axs[2].plot(lon, sel(src.utils.merimean(bar_late[\"mld\"])), c=\"k\", ls=\"--\")\n",
    "\n",
    "    return\n",
    "\n",
    "\n",
    "def get_nino3_da(x):\n",
    "    \"\"\"get nino3 on dataarray\"\"\"\n",
    "\n",
    "    if \"latitude\" not in x.dims:\n",
    "        x = x.expand_dims(\"latitude\")\n",
    "\n",
    "    return src.utils.get_nino3(x)\n",
    "\n",
    "\n",
    "def get_nino34_da(x):\n",
    "    \"\"\"get nino3.4 on dataarray\"\"\"\n",
    "\n",
    "    if \"latitude\" not in x.dims:\n",
    "        x = x.expand_dims(\"latitude\")\n",
    "\n",
    "    return src.utils.get_nino34(x)\n",
    "\n",
    "\n",
    "def get_nino4_da(x):\n",
    "    \"\"\"get nino3.4 on dataarray\"\"\"\n",
    "\n",
    "    if \"latitude\" not in x.dims:\n",
    "        x = x.expand_dims(\"latitude\")\n",
    "\n",
    "    return src.utils.get_nino4(x)"
   ]
  },
  {
   "cell_type": "markdown",
   "id": "e7e6f806-7cb2-446a-a9c1-63adc1930685",
   "metadata": {},
   "source": [
    "## Load data"
   ]
  },
  {
   "cell_type": "markdown",
   "id": "8d81b793-263e-47ed-8a47-72859ffcbe5f",
   "metadata": {},
   "source": [
    "### $T$, $h$"
   ]
  },
  {
   "cell_type": "code",
   "execution_count": null,
   "id": "eccc268a-e60d-45bb-b68d-acd3860e5eb0",
   "metadata": {},
   "outputs": [],
   "source": [
    "## open data\n",
    "Th = src.utils.load_cesm_indices(load_z20=True)\n",
    "\n",
    "## rename indices for convenience\n",
    "Th = Th.rename(\n",
    "    {\n",
    "        \"north_tropical_atlantic\": \"natl\",\n",
    "        \"atlantic_nino\": \"nino_atl\",\n",
    "        \"tropical_indian_ocean\": \"iobm\",\n",
    "        \"indian_ocean_dipole\": \"iod\",\n",
    "        \"north_pacific_meridional_mode\": \"npmm\",\n",
    "        \"south_pacific_meridional_mode\": \"spmm\",\n",
    "    }\n",
    ")\n",
    "\n",
    "## load tropical SST avg\n",
    "trop_sst = xr.open_dataset(pathlib.Path(DATA_FP, \"cesm/trop_sst.nc\"))\n",
    "\n",
    "## Load T,h (total)\n",
    "Th_total = xr.open_dataset(DATA_FP / \"cesm\" / \"Th.nc\")\n",
    "\n",
    "## compute relative sst\n",
    "for n in [\"T_3\", \"T_34\", \"T_4\"]:\n",
    "    Th[f\"{n}_rel\"] = Th_total[n] - trop_sst[\"trop_sst_10\"]"
   ]
  },
  {
   "cell_type": "markdown",
   "id": "23f711ba-bc31-42a3-9154-6ef25c986fb3",
   "metadata": {},
   "source": [
    "### Spatial data"
   ]
  },
  {
   "cell_type": "markdown",
   "id": "68218dec-2a10-4157-9706-029462439ac1",
   "metadata": {},
   "source": [
    "#### Load"
   ]
  },
  {
   "cell_type": "code",
   "execution_count": null,
   "id": "d67f1548-0928-4142-b1ce-7e027937464b",
   "metadata": {},
   "outputs": [],
   "source": [
    "## load spatial data\n",
    "forced, anom = src.utils.load_consolidated()\n",
    "\n",
    "## add normalized Th data\n",
    "anom = xr.merge([anom, Th / Th.std()])"
   ]
  },
  {
   "cell_type": "code",
   "execution_count": null,
   "id": "e305d074-2df2-4001-91b8-c326449d12dd",
   "metadata": {},
   "outputs": [],
   "source": [
    "mld = src.utils.get_windowed(forced[[\"mld\", \"mld_comp\"]], stride=120)\n",
    "mld_clim = src.utils.reconstruct_clim(mld)[\"mld\"]"
   ]
  },
  {
   "cell_type": "code",
   "execution_count": null,
   "id": "ec282574-de44-4c0f-bf92-c66efc9a15fd",
   "metadata": {},
   "outputs": [],
   "source": [
    "mld_over_time = (\n",
    "    mld_clim.mean(\"month\")\n",
    "    .sel(latitude=slice(-5, 5), longitude=slice(190, 240))\n",
    "    .mean([\"latitude\", \"longitude\"])\n",
    ")\n",
    "\n",
    "## add buffer zone to capture mixing\n",
    "mld_base = mld_over_time + 25"
   ]
  },
  {
   "cell_type": "markdown",
   "id": "0cce985e-5d04-4e07-bfc0-baadebc41cfc",
   "metadata": {},
   "source": [
    "#### compute $T$ tendency"
   ]
  },
  {
   "cell_type": "code",
   "execution_count": null,
   "id": "9ed7d076-a841-413d-b1d8-26f95973851c",
   "metadata": {},
   "outputs": [],
   "source": [
    "## get sst tendency (and convert from 1/yr to 1/mo)\n",
    "anom[\"ddt_sst\"] = 1 / 12 * src.utils.get_ddt(anom[[\"sst\"]], is_forward=False)[\"ddt_sst\"]\n",
    "anom[\"ddt_T\"] = 1 / 12 * src.utils.get_ddt(anom[[\"T\"]], is_forward=False)[\"ddt_T\"]"
   ]
  },
  {
   "cell_type": "markdown",
   "id": "9b00c177-be50-453c-abef-07ae7c50ecd4",
   "metadata": {},
   "source": [
    "#### Get data"
   ]
  },
  {
   "cell_type": "code",
   "execution_count": null,
   "id": "510f547e-a158-4713-b1e6-734f466a72eb",
   "metadata": {},
   "outputs": [],
   "source": [
    "## specify vars to look at\n",
    "VARNAMES = [\"T_3\", \"T_34\", \"h_w\", \"h_w_z20\", \"ddt_T\", \"nhf\", \"T\", \"w\", \"u\"]\n",
    "VARNAMES += [f\"{v}_comp\" for v in VARNAMES[-4:]]\n",
    "\n",
    "## Get windowed data\n",
    "anom = src.utils.get_windowed(anom[VARNAMES], stride=120).compute()\n",
    "forced = src.utils.get_windowed(forced[VARNAMES[-8:]], stride=120).compute()"
   ]
  },
  {
   "cell_type": "markdown",
   "id": "c9eb60ac-14a0-4eca-9aa8-1814109f4fc3",
   "metadata": {},
   "source": [
    "Get mixed layer $T_3$"
   ]
  },
  {
   "cell_type": "code",
   "execution_count": null,
   "id": "a90c6730-93e2-462c-8546-8d40140f09a3",
   "metadata": {},
   "outputs": [],
   "source": [
    "anom[\"T_3_ml\"] = src.utils.reconstruct_wrapper(\n",
    "    anom[[\"T\", \"T_comp\"]],\n",
    "    fn=lambda x: src.utils.get_ml_avg(get_nino3_da(x), H0=70, Hm=None),\n",
    ")[\"T\"]"
   ]
  },
  {
   "cell_type": "markdown",
   "id": "48512486-f56b-4da3-9037-a3715c2f780a",
   "metadata": {},
   "source": [
    "### Regress subsurface data"
   ]
  },
  {
   "cell_type": "markdown",
   "id": "f22980a8-c3be-49a4-b0b7-f6e9efc1cf49",
   "metadata": {},
   "source": [
    "helper function"
   ]
  },
  {
   "cell_type": "code",
   "execution_count": null,
   "id": "5afbeffd-ca64-43a3-994a-6f34f18e30b9",
   "metadata": {},
   "outputs": [],
   "source": [
    "def fit_wrapper(data, y_vars, x_vars=[\"T_34\", \"h_w_hat\"]):\n",
    "    \"\"\"fit linear regression model to data\"\"\"\n",
    "\n",
    "    ## get coeffs\n",
    "    kwargs = dict(y_vars=y_vars, x_vars=x_vars)\n",
    "    coefs = src.utils.regress_xr_bymonth(data, **kwargs)\n",
    "\n",
    "    return coefs"
   ]
  },
  {
   "cell_type": "markdown",
   "id": "29d13256-39e2-440c-82a7-811569d60a07",
   "metadata": {},
   "source": [
    "Compute"
   ]
  },
  {
   "cell_type": "code",
   "execution_count": null,
   "id": "8d15810a-4463-4f3f-a004-758e32cb46e4",
   "metadata": {},
   "outputs": [],
   "source": [
    "## do regression\n",
    "fit_kwargs = dict(\n",
    "    y_vars=[\"ddt_T\", \"nhf\", \"T\", \"w\", \"u\"],\n",
    "    # x_vars=[\"T_34\", \"h_w_z20\"],\n",
    "    # x_vars=[\"T_3_ml\", \"h_w_z20\"],\n",
    "    x_vars=[\"T_3\", \"h_w_z20\"],\n",
    ")\n",
    "\n",
    "## save filepath\n",
    "SAVE_FP = pathlib.Path(\n",
    "    os.environ[\"SAVE_FP\"],\n",
    "    \"bjerknes\",\n",
    "    f\"{fit_kwargs[\"x_vars\"][0]}_{fit_kwargs[\"x_vars\"][1]}_coefs_ddt_T.nc\",\n",
    ")\n",
    "\n",
    "if SAVE_FP.is_file():\n",
    "    coefs = xr.open_dataset(SAVE_FP)\n",
    "\n",
    "else:\n",
    "\n",
    "    ## empty array to hold coefficients\n",
    "    coefs = []\n",
    "    for y in tqdm.tqdm(anom.year):\n",
    "        coefs.append(fit_wrapper(anom.sel(year=y), **fit_kwargs))\n",
    "\n",
    "    ## put in xr.Dataarray\n",
    "    coefs = xr.concat(coefs, dim=anom.year)\n",
    "\n",
    "    coefs.to_netcdf(SAVE_FP)"
   ]
  },
  {
   "cell_type": "markdown",
   "id": "48baf4d8-8d92-4ba3-b935-404a5fd2dd09",
   "metadata": {},
   "source": [
    "### regress budget data"
   ]
  },
  {
   "cell_type": "code",
   "execution_count": null,
   "id": "1b04accd-709a-4dff-a490-828a33532e17",
   "metadata": {},
   "outputs": [],
   "source": [
    "## save filepath\n",
    "SAVE_FP = pathlib.Path(\n",
    "    os.environ[\"SAVE_FP\"],\n",
    "    \"bjerknes\",\n",
    "    f\"{fit_kwargs[\"x_vars\"][0]}_{fit_kwargs[\"x_vars\"][1]}_budget.nc\",\n",
    ")\n",
    "\n",
    "if SAVE_FP.is_file():\n",
    "    coefs_bud = xr.open_dataset(SAVE_FP)\n",
    "\n",
    "else:\n",
    "\n",
    "    # load budget data\n",
    "    budg_anom = src.utils.load_budget_data()[1]\n",
    "\n",
    "    ## add normalized Th data\n",
    "    budg_anom = xr.merge([budg_anom, Th / Th.std()])\n",
    "\n",
    "    ## get windowed data\n",
    "    budg_anom = src.utils.get_windowed(budg_anom, stride=120)\n",
    "\n",
    "    ## empty array to hold coefficients\n",
    "    coefs_bud = []\n",
    "    for y in tqdm.tqdm(budg_anom.year):\n",
    "\n",
    "        ## empty dataset to hold result\n",
    "        coefs_bud_y = xr.Dataset()\n",
    "\n",
    "        ## compute coefficients for each variable\n",
    "        for n in [\"TEND_TEMP\", \"ADV_3D_TEMP\"]:\n",
    "\n",
    "            ## regression coefficients\n",
    "            kwargs = dict(x_vars=fit_kwargs[\"x_vars\"], y_var=n)\n",
    "            coefs_ = src.utils.regress_bymonth(budg_anom.sel(year=y), **kwargs)\n",
    "            coefs_bud_y[n] = coefs_.to_dataarray(dim=\"j\")\n",
    "\n",
    "        ## append result\n",
    "        coefs_bud.append(coefs_bud_y)\n",
    "\n",
    "    ## put in xr.Dataarray\n",
    "    coefs_bud = xr.concat(coefs_bud, dim=budg_anom.year)\n",
    "\n",
    "    ## save\n",
    "    coefs_bud.to_netcdf(SAVE_FP)\n",
    "\n",
    "## get residual and SST tendency\n",
    "coefs_bud[\"diff\"] = coefs_bud[\"TEND_TEMP\"] - coefs_bud[\"ADV_3D_TEMP\"]\n",
    "coefs_bud[\"ddt_sst\"] = coefs_bud[\"TEND_TEMP\"].isel(z_t=0)"
   ]
  },
  {
   "cell_type": "markdown",
   "id": "1a6f2ded-97a2-4600-9074-335e98e9b3a3",
   "metadata": {},
   "source": [
    "### merge data"
   ]
  },
  {
   "cell_type": "code",
   "execution_count": null,
   "id": "92af94aa-fafc-4d7d-b8a3-1dd9acb6e4fd",
   "metadata": {},
   "outputs": [],
   "source": [
    "coefs = xr.merge([coefs, coefs_bud])"
   ]
  },
  {
   "cell_type": "markdown",
   "id": "7f9e8b36-79c9-4164-9516-16b7d6c56279",
   "metadata": {},
   "source": [
    "### Integrate over ML"
   ]
  },
  {
   "cell_type": "code",
   "execution_count": null,
   "id": "fa4475bb-e24e-4ea5-841d-34abed255233",
   "metadata": {},
   "outputs": [],
   "source": [
    "## get climatology\n",
    "bar = src.utils.reconstruct_clim(forced)\n",
    "\n",
    "## get feedbacks\n",
    "feedbacks = src.utils.get_feedbacks(bar=bar, prime=coefs)\n",
    "\n",
    "## merge with other results\n",
    "coefs = xr.merge([coefs, feedbacks])\n",
    "coefs_v2 = copy.deepcopy(coefs)\n",
    "\n",
    "## specify mixed layer kwargs\n",
    "ml_kwargs = dict(H0=70, Hm=None)\n",
    "\n",
    "## Integrate over mixed layer\n",
    "coefs = src.utils.get_ml_avg_ds(coefs, **ml_kwargs)\n",
    "coefs_v2 = src.utils.get_ml_avg_ds(coefs_v2, H0=mld_base, Hm=None)\n",
    "\n",
    "\n",
    "## get NHF in units of K/mo\n",
    "sec_per_mo = 8.64e4 * 30\n",
    "rho = 1.02e3\n",
    "Cp = 4.2e3\n",
    "coefs[\"Q\"] = coefs[\"nhf\"] * sec_per_mo / (rho * Cp * ml_kwargs[\"H0\"])\n",
    "coefs_v2[\"Q\"] = coefs_v2[\"nhf\"] * sec_per_mo / (rho * Cp * mld_base)"
   ]
  },
  {
   "cell_type": "markdown",
   "id": "171dc450-f2c9-442a-9218-4c4125b3774a",
   "metadata": {},
   "source": [
    "## Plot feedback hovmollers \n",
    "E.g., thermocline ($\\overline{w}~\\frac{\\partial T'}{\\partial z}$) and Ekman feedback ($w'~\\frac{\\partial \\overline{T}}{\\partial z}$)"
   ]
  },
  {
   "cell_type": "code",
   "execution_count": null,
   "id": "9b593e5b-6c8b-4376-966f-d16a203c8a1c",
   "metadata": {},
   "outputs": [],
   "source": [
    "## why is last year 2090?\n",
    "# m_early = coefs.sel(year=1870).isel(j=0)\n",
    "# m_late = coefs.sel(year=2030).isel(j=0)\n",
    "m_early = coefs.sel(year=2030).isel(j=0)\n",
    "m_late = coefs.sel(year=2090).isel(j=0)"
   ]
  },
  {
   "cell_type": "markdown",
   "id": "e675e54e-f080-4906-9092-4b27037d453e",
   "metadata": {},
   "source": [
    "### Plot mixed layer integral"
   ]
  },
  {
   "cell_type": "code",
   "execution_count": null,
   "id": "01cdf37b-ce4f-4561-8254-3c97e7774f9a",
   "metadata": {},
   "outputs": [],
   "source": [
    "## specify plot amplitude\n",
    "amp = 1.0\n",
    "amp_diff = 0.5\n",
    "\n",
    "# for n in [\"THF_ml\", \"EKM_ml\", \"ZAF_ml\", \"DD_ml\", \"Q\", \"ADV_ml\", \"ddt_T_ml\"]:\n",
    "for n in [\"ADV_ml\", \"ADV_3D_TEMP_ml\", \"ddt_T_ml\", \"TEND_TEMP_ml\", \"ddt_sst\", \"diff_ml\"]:\n",
    "\n",
    "    print(f\"\\n{n}\")\n",
    "    fig, axs = plt.subplots(1, 3, figsize=(7, 2.5), layout=\"constrained\")\n",
    "\n",
    "    ## plot data\n",
    "    cp0 = src.utils.make_cycle_hov(axs[0], data=m_early[n], amp=amp)\n",
    "    cp1 = src.utils.make_cycle_hov(axs[1], data=m_late[n], amp=amp)\n",
    "    cp2 = src.utils.make_cycle_hov(axs[2], data=(m_late - m_early)[n], amp=amp_diff)\n",
    "\n",
    "    ## make it look nicer\n",
    "    cb01 = fig.colorbar(\n",
    "        cp0,\n",
    "        ax=axs[1],\n",
    "        ticks=[-amp, 0, amp],\n",
    "    )\n",
    "    cb02 = fig.colorbar(\n",
    "        cp2,\n",
    "        ax=axs[2],\n",
    "        ticks=[-amp_diff, 0, amp_diff],\n",
    "        label=r\"$K~\\left(\\text{month}\\right)^{-1}$\",\n",
    "    )\n",
    "    src.utils.format_hov_axs(axs)\n",
    "    for ax in axs:\n",
    "        ax.axhline(5, ls=\"--\", c=\"k\", lw=1)\n",
    "        ax.set_xlim([None, 270])\n",
    "\n",
    "    plt.show()"
   ]
  },
  {
   "cell_type": "code",
   "execution_count": null,
   "id": "efba980d-e718-49f5-9be1-6e333cd56a9c",
   "metadata": {
    "jupyter": {
     "source_hidden": true
    }
   },
   "outputs": [],
   "source": [
    "def plot_hovs(varname, amp0, amp1, month=1, annual_mean=False, delta=False):\n",
    "    \"\"\"plot data on hovmoller\"\"\"\n",
    "\n",
    "    ## get data for plot\n",
    "    plot_data = coefs[varname].isel(j=0)\n",
    "\n",
    "    ## make sure latitude is a dimension\n",
    "    if \"latitude\" not in plot_data.dims:\n",
    "        plot_data = plot_data.expand_dims(\"latitude\")\n",
    "\n",
    "    ## get data for plots\n",
    "    if annual_mean:\n",
    "        x0 = plot_data.mean(\"month\")\n",
    "    else:\n",
    "        x0 = plot_data.sel(month=month)\n",
    "    x0 = x0.sel(latitude=slice(-5, 5)).mean(\"latitude\").transpose(\"year\", ...)\n",
    "    x1 = src.utils.get_nino34(plot_data).transpose(\"year\", ...)\n",
    "\n",
    "    ## get delta if necessary\n",
    "    if delta:\n",
    "        x0 = x0 - x0.isel(year=0)\n",
    "        x1 = x1 - x1.isel(year=0)\n",
    "\n",
    "    fig, axs = plt.subplots(1, 2, figsize=(6, 3.5), layout=\"constrained\")\n",
    "\n",
    "    ## longitude on x-axis\n",
    "    axs[0].contourf(\n",
    "        x0.longitude,\n",
    "        x0.year,\n",
    "        x0,\n",
    "        cmap=\"cmo.balance\",\n",
    "        levels=src.utils.make_cb_range(amp0, amp0 / 10),\n",
    "        extend=\"both\",\n",
    "    )\n",
    "\n",
    "    ## month on x-axis\n",
    "    axs[1].contourf(\n",
    "        plot_data.month,\n",
    "        plot_data.year,\n",
    "        x1,\n",
    "        cmap=\"cmo.balance\",\n",
    "        levels=src.utils.make_cb_range(amp1, amp1 / 10),\n",
    "        extend=\"both\",\n",
    "    )\n",
    "\n",
    "    axs[0].set_xlim([140, 280])\n",
    "    axs[0].axvline(210, ls=\"--\", c=\"k\", lw=0.8)\n",
    "    axs[0].axvline(270, ls=\"--\", c=\"k\", lw=0.8)\n",
    "    axs[0].set_xticks([160, 210, 270])\n",
    "    axs[0].set_yticks([1870, 1980, 2090])\n",
    "    axs[1].set_xticks([2, 7, 12])\n",
    "    axs[1].set_yticks([])\n",
    "\n",
    "    return fig, axs"
   ]
  },
  {
   "cell_type": "code",
   "execution_count": null,
   "id": "8eef1b1b-77dc-4c15-84f5-c7041cf1ff08",
   "metadata": {},
   "outputs": [],
   "source": [
    "for VARNAME in [\"ADV_3D_TEMP_ml\", \"TEND_TEMP_ml\", \"ddt_sst\"]:\n",
    "    # for VARNAME in [\"ddt_T_ml\", \"THF_ml\", \"EKM_ml\", \"ZAF_ml\", \"DD_ml\", \"Q\"]:\n",
    "\n",
    "    print(f\"\\n\\n{VARNAME}\")\n",
    "    fig, axs = plot_hovs(\n",
    "        varname=VARNAME, amp0=0.15, amp1=0.25, annual_mean=True, delta=True\n",
    "    )\n",
    "    plt.show()"
   ]
  },
  {
   "cell_type": "code",
   "execution_count": null,
   "id": "e4f8c4ec-ef90-45fb-9550-a3b19333b7fc",
   "metadata": {},
   "outputs": [],
   "source": [
    "## func to select data\n",
    "sel = lambda x: (x - x.isel(year=0)).isel(j=0).mean(\"month\")\n",
    "\n",
    "fig, axs = plt.subplots(1, 2, figsize=(7, 3))\n",
    "\n",
    "\n",
    "## positive feedbacks\n",
    "# for f in [\"EKM\", \"THF\", \"ZAF\", \"ADV\", \"ddt_T\"]:\n",
    "# for f in [\"ADV\", \"ddt_T\"]:\n",
    "for f in [\"ADV_3D_TEMP_ml\", \"TEND_TEMP_ml\", \"diff_ml\", \"ddt_sst\"]:\n",
    "    axs[0].plot(coefs.year, sel(get_nino3_da(coefs[f\"{f}\"])), label=f)\n",
    "\n",
    "## negative feedbacks\n",
    "for f in [\"DD_ml\", \"Q\"]:\n",
    "    axs[1].plot(coefs.year, sel(get_nino3_da(coefs[f\"{f}\"])), label=f)\n",
    "\n",
    "## legends\n",
    "axs[0].legend(prop=dict(size=8))\n",
    "axs[1].legend(prop=dict(size=8))\n",
    "\n",
    "for ax in axs:\n",
    "    ax.axhline(0, ls=\"--\", c=\"k\", lw=0.8)\n",
    "    ax.axvline(2030, ls=\"--\", c=\"k\", lw=0.8)\n",
    "\n",
    "src.utils.set_lims(axs)\n",
    "\n",
    "\n",
    "plt.show()"
   ]
  },
  {
   "cell_type": "code",
   "execution_count": null,
   "id": "dd010ace-8cdd-41b2-a7e8-8225fced4f7c",
   "metadata": {},
   "outputs": [],
   "source": []
  }
 ],
 "metadata": {
  "kernelspec": {
   "display_name": "Python 3 (ipykernel)",
   "language": "python",
   "name": "python3"
  },
  "language_info": {
   "codemirror_mode": {
    "name": "ipython",
    "version": 3
   },
   "file_extension": ".py",
   "mimetype": "text/x-python",
   "name": "python",
   "nbconvert_exporter": "python",
   "pygments_lexer": "ipython3",
   "version": "3.13.3"
  }
 },
 "nbformat": 4,
 "nbformat_minor": 5
}
