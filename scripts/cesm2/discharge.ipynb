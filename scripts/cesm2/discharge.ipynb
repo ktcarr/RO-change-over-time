{
 "cells": [
  {
   "cell_type": "markdown",
   "id": "22516693-2eb8-45f7-b9d4-4511a195a408",
   "metadata": {},
   "source": [
    "# Discharge efficiency change over time"
   ]
  },
  {
   "cell_type": "markdown",
   "id": "0e795c63-4ea6-4623-b0a2-e33656d4c420",
   "metadata": {},
   "source": [
    "## imports"
   ]
  },
  {
   "cell_type": "code",
   "execution_count": null,
   "id": "42d155a1-2906-4d88-9022-b7996ecf7560",
   "metadata": {},
   "outputs": [],
   "source": [
    "import matplotlib.pyplot as plt\n",
    "import matplotlib as mpl\n",
    "import numpy as np\n",
    "import seaborn as sns\n",
    "import xarray as xr\n",
    "import tqdm\n",
    "import pathlib\n",
    "import cmocean\n",
    "import os\n",
    "import copy\n",
    "import time\n",
    "\n",
    "# Import custom modules\n",
    "import src.utils\n",
    "\n",
    "## set plotting specs\n",
    "sns.set(rc={\"axes.facecolor\": \"white\", \"axes.grid\": False})\n",
    "\n",
    "## bump up DPI\n",
    "mpl.rcParams[\"figure.dpi\"] = 100\n",
    "\n",
    "## get filepaths\n",
    "DATA_FP = pathlib.Path(os.environ[\"DATA_FP\"])\n",
    "SAVE_FP = pathlib.Path(os.environ[\"SAVE_FP\"])"
   ]
  },
  {
   "cell_type": "markdown",
   "id": "8382b7b8-eac8-4cf0-8ad1-4632a36727b9",
   "metadata": {},
   "source": [
    "## Funcs"
   ]
  },
  {
   "cell_type": "code",
   "execution_count": null,
   "id": "9874f9c6-8fd1-4c20-abb1-98e3e4962768",
   "metadata": {},
   "outputs": [],
   "source": [
    "def prep(data, is_forward=True, T_var=\"T_3\"):\n",
    "    \"\"\"remove sst dependence and compute tendencies\"\"\"\n",
    "\n",
    "    ## remove SST dependence from SSH field\n",
    "    if \"ssh\" in list(data):\n",
    "        data[\"ssh_hat\"] = src.utils.remove_sst_dependence_v2(\n",
    "            data,\n",
    "            h_var=\"ssh\",\n",
    "            T_var=T_var,\n",
    "        )\n",
    "        data[\"ssh_hat_comp\"] = data[\"ssh_comp\"]\n",
    "\n",
    "    ## remove from h indices\n",
    "    for h_idx in [\"h_w\", \"h\"]:\n",
    "        data[f\"{h_idx}_hat\"] = src.utils.remove_sst_dependence_v2(\n",
    "            data,\n",
    "            h_var=h_idx,\n",
    "            T_var=T_var,\n",
    "        )\n",
    "\n",
    "    ## get sst tendencies (and convert from 1/yr to 1/mo)\n",
    "    for v in [\"sst\", \"ssh\", \"ssh_hat\"]:\n",
    "        data[f\"ddt_{v}\"] = (\n",
    "            1 / 12 * src.utils.get_ddt(data[[v]], is_forward=is_forward)[f\"ddt_{v}\"]\n",
    "        )\n",
    "\n",
    "    return data"
   ]
  },
  {
   "cell_type": "markdown",
   "id": "e7e6f806-7cb2-446a-a9c1-63adc1930685",
   "metadata": {},
   "source": [
    "## Load data"
   ]
  },
  {
   "cell_type": "markdown",
   "id": "8d81b793-263e-47ed-8a47-72859ffcbe5f",
   "metadata": {},
   "source": [
    "### $T$, $h$"
   ]
  },
  {
   "cell_type": "code",
   "execution_count": null,
   "id": "eccc268a-e60d-45bb-b68d-acd3860e5eb0",
   "metadata": {},
   "outputs": [],
   "source": [
    "## open data\n",
    "Th = src.utils.load_cesm_indices()\n",
    "\n",
    "## rename indices for convenience\n",
    "Th = Th.rename(\n",
    "    {\n",
    "        \"north_tropical_atlantic\": \"natl\",\n",
    "        \"atlantic_nino\": \"nino_atl\",\n",
    "        \"tropical_indian_ocean\": \"iobm\",\n",
    "        \"indian_ocean_dipole\": \"iod\",\n",
    "        \"north_pacific_meridional_mode\": \"npmm\",\n",
    "        \"south_pacific_meridional_mode\": \"spmm\",\n",
    "    }\n",
    ")\n",
    "\n",
    "## load tropical SST avg\n",
    "trop_sst = xr.open_dataset(pathlib.Path(DATA_FP, \"cesm/trop_sst.nc\"))\n",
    "\n",
    "## Load T,h (total)\n",
    "Th_total = xr.open_dataset(DATA_FP / \"cesm\" / \"Th.nc\")\n",
    "\n",
    "## compute relative sst\n",
    "for n in [\"T_3\", \"T_34\", \"T_4\"]:\n",
    "    Th[f\"{n}_rel\"] = Th_total[n] - trop_sst[\"trop_sst_10\"]"
   ]
  },
  {
   "cell_type": "markdown",
   "id": "23f711ba-bc31-42a3-9154-6ef25c986fb3",
   "metadata": {},
   "source": [
    "### Spatial data"
   ]
  },
  {
   "cell_type": "markdown",
   "id": "68218dec-2a10-4157-9706-029462439ac1",
   "metadata": {},
   "source": [
    "#### Load"
   ]
  },
  {
   "cell_type": "code",
   "execution_count": null,
   "id": "d67f1548-0928-4142-b1ce-7e027937464b",
   "metadata": {},
   "outputs": [],
   "source": [
    "## load spatial data\n",
    "CONS_DIR = pathlib.Path(DATA_FP, \"cesm\", \"consolidated\")\n",
    "forced = xr.open_dataset(CONS_DIR / \"forced.nc\")\n",
    "anom = xr.open_dataset(CONS_DIR / \"anom.nc\")\n",
    "\n",
    "## add T,h information\n",
    "for n in [\"T_3\", \"T_34\", \"T_4\", \"h\", \"h_w\"]:\n",
    "    anom[n] = Th[n]"
   ]
  },
  {
   "cell_type": "markdown",
   "id": "b3e1c3dd-5c48-42cf-993d-ac44516ab62d",
   "metadata": {},
   "source": [
    "#### early/late split"
   ]
  },
  {
   "cell_type": "code",
   "execution_count": null,
   "id": "93d3ba4c-0e7e-4bb0-8a2a-89b8fceb52ae",
   "metadata": {},
   "outputs": [],
   "source": [
    "## split into early/late periods\n",
    "t_early = dict(time=slice(\"1851\", \"1880\"))\n",
    "t_late = dict(time=slice(\"2071\", \"2100\"))\n",
    "\n",
    "## split surface data\n",
    "anom_early = anom.sel(t_early)\n",
    "anom_late = anom.sel(t_late)\n",
    "\n",
    "## preprocess\n",
    "anom_early = prep(anom_early, is_forward=False)\n",
    "anom_late = prep(anom_late, is_forward=False)\n",
    "\n",
    "## load to memory\n",
    "anom_early.load()\n",
    "anom_late.load();"
   ]
  },
  {
   "cell_type": "markdown",
   "id": "48512486-f56b-4da3-9037-a3715c2f780a",
   "metadata": {},
   "source": [
    "#### Regression on $T_{34}$ and $\\hat{h}_w$"
   ]
  },
  {
   "cell_type": "markdown",
   "id": "f22980a8-c3be-49a4-b0b7-f6e9efc1cf49",
   "metadata": {},
   "source": [
    "helper function"
   ]
  },
  {
   "cell_type": "code",
   "execution_count": null,
   "id": "5afbeffd-ca64-43a3-994a-6f34f18e30b9",
   "metadata": {},
   "outputs": [],
   "source": [
    "def fit_wrapper(data, y_vars, x_vars=[\"T_34\", \"h_w_hat\"]):\n",
    "    \"\"\"fit linear regression model to data\"\"\"\n",
    "\n",
    "    ## get coeffs\n",
    "    kwargs = dict(y_vars=y_vars, x_vars=x_vars)\n",
    "    coefs = src.utils.regress_xr_bymonth(data, **kwargs)\n",
    "\n",
    "    ## get first coefficient\n",
    "    return coefs"
   ]
  },
  {
   "cell_type": "markdown",
   "id": "29d13256-39e2-440c-82a7-811569d60a07",
   "metadata": {},
   "source": [
    "Compute"
   ]
  },
  {
   "cell_type": "code",
   "execution_count": null,
   "id": "8d15810a-4463-4f3f-a004-758e32cb46e4",
   "metadata": {},
   "outputs": [],
   "source": [
    "## specify: should we use h or h_hat?\n",
    "USE_HAT = True\n",
    "\n",
    "## set variables for rest of script\n",
    "if USE_HAT:\n",
    "    fit_kwargs = dict(x_vars=[\"T_3\", \"h_w_hat\"], y_vars=[\"ddt_ssh_hat\", \"ssh_hat\"])\n",
    "    H_VAR = \"ssh_hat\"\n",
    "else:\n",
    "    fit_kwargs = dict(x_vars=[\"T_3\", \"h_w\"], y_vars=[\"ddt_ssh\", \"ssh\"])\n",
    "    H_VAR = \"ssh\"\n",
    "\n",
    "## keep track of time\n",
    "t0 = time.time()\n",
    "\n",
    "## do regression\n",
    "m_early = fit_wrapper(anom_early, **fit_kwargs)\n",
    "m_late = fit_wrapper(anom_late, **fit_kwargs)\n",
    "\n",
    "## print out elapsed time\n",
    "t1 = time.time()\n",
    "print(f\"Elapsed time: {t1-t0:.1f} seconds\")"
   ]
  },
  {
   "cell_type": "markdown",
   "id": "0b876dc0-c8b9-4c9d-bdf4-a09fc60bac78",
   "metadata": {},
   "source": [
    "## Plot feedbacks"
   ]
  },
  {
   "cell_type": "markdown",
   "id": "164c0c25-5647-49ef-be19-54199002ff12",
   "metadata": {},
   "source": [
    "### $F_2$"
   ]
  },
  {
   "cell_type": "markdown",
   "id": "fe5d606b-2893-4cb1-90d9-0664b7c14536",
   "metadata": {},
   "source": [
    "##### Hovmoller"
   ]
  },
  {
   "cell_type": "code",
   "execution_count": null,
   "id": "2571ce3f-0153-4e46-998b-740f95882302",
   "metadata": {},
   "outputs": [],
   "source": [
    "## specify which ssh variable to use\n",
    "LABEL = r\"$m~\\left(K \\cdot \\text{month}\\right)^{-1}$\"\n",
    "\n",
    "## function to select data\n",
    "sel = lambda x: x[f\"ddt_{H_VAR}\"].sel(j=\"T_3\")\n",
    "\n",
    "## shared args\n",
    "kwargs = dict(amp=2, lat_bound=1.5)\n",
    "\n",
    "fig, axs = plt.subplots(1, 3, figsize=(6, 2.5), layout=\"constrained\")\n",
    "\n",
    "## plot data\n",
    "cp0 = src.utils.make_cycle_hov(axs[0], data=sel(m_early), **kwargs)\n",
    "cp1 = src.utils.make_cycle_hov(axs[1], data=sel(m_late), **kwargs)\n",
    "cp2 = src.utils.make_cycle_hov(axs[2], data=sel(m_late - m_early), **kwargs)\n",
    "\n",
    "## make it look nicer\n",
    "cb = fig.colorbar(\n",
    "    cp0,\n",
    "    ax=axs[2],\n",
    "    ticks=[-kwargs[\"amp\"], 0, kwargs[\"amp\"]],\n",
    "    label=LABEL,\n",
    ")\n",
    "src.utils.format_hov_axs(axs)\n",
    "for ax in axs:\n",
    "    ax.axhline(7, ls=\"--\", c=\"k\", lw=1)\n",
    "\n",
    "plt.show()"
   ]
  },
  {
   "cell_type": "markdown",
   "id": "2f672bd9-84f3-4b54-b5c5-d37f1d4bba6e",
   "metadata": {},
   "source": [
    "##### Spatial plot"
   ]
  },
  {
   "cell_type": "code",
   "execution_count": null,
   "id": "fedde1e8-8755-4c70-ac65-ef5d0f010266",
   "metadata": {},
   "outputs": [],
   "source": [
    "## select month\n",
    "sel = lambda x: x[f\"ddt_{H_VAR}\"].sel(j=\"T_3\", month=6)\n",
    "\n",
    "## set up plot\n",
    "fig = plt.figure(figsize=(7, 3.9), layout=\"constrained\")\n",
    "format_func = lambda ax,: src.utils.plot_setup_pac(ax, max_lat=20)\n",
    "axs = src.utils.subplots_with_proj(fig, nrows=3, ncols=1, format_func=format_func)\n",
    "\n",
    "contour_kwargs = dict(amp=5, sel=sel)\n",
    "cp0 = src.utils.make_contour_plot(axs[0, 0], m_early, **contour_kwargs)\n",
    "cp1 = src.utils.make_contour_plot(axs[1, 0], m_late, **contour_kwargs)\n",
    "cp2 = src.utils.make_contour_plot(axs[2, 0], m_late - m_early, **contour_kwargs)\n",
    "\n",
    "## colorbar\n",
    "cb_kwargs = dict(label=LABEL, ticks=[-contour_kwargs[\"amp\"], 0, contour_kwargs[\"amp\"]])\n",
    "cb0 = fig.colorbar(cp0, ax=axs[:2], **cb_kwargs)\n",
    "cb2 = fig.colorbar(cp2, ax=axs[-1], **cb_kwargs)\n",
    "\n",
    "## Niño 3 box\n",
    "box_kwargs = dict(c=\"k\", linewidth=0.9, alpha=0.5)\n",
    "for ax in axs.flatten():\n",
    "    src.utils.plot_hw_box(ax, **box_kwargs)\n",
    "\n",
    "plt.show()"
   ]
  },
  {
   "cell_type": "markdown",
   "id": "474560e4-adaa-4d18-b77d-073185fca925",
   "metadata": {},
   "source": [
    "##### Scatter plot"
   ]
  },
  {
   "cell_type": "code",
   "execution_count": null,
   "id": "09ee95d0-0655-4261-aa29-4fe50bbbae91",
   "metadata": {},
   "outputs": [],
   "source": [
    "## kwargs for plotting\n",
    "kwargs = dict(\n",
    "    months=[6],\n",
    "    x_var=\"T_3\",\n",
    "    y_var=f\"ddt_{H_VAR}\",\n",
    "    fn_y=src.utils.get_RO_hw,\n",
    ")\n",
    "\n",
    "## set up plot\n",
    "fig, axs = plt.subplots(1, 2, figsize=(5, 2.5), layout=\"constrained\")\n",
    "m0 = src.utils.make_scatter2(axs[0], anom_early, **kwargs)\n",
    "m1 = src.utils.make_scatter2(axs[1], anom_late, **kwargs)\n",
    "\n",
    "## label\n",
    "axs[0].set_title(f\"{m0:.2f} \" + LABEL)\n",
    "axs[1].set_title(f\"{m1:.2f} \" + LABEL)\n",
    "axs[1].set_yticks([])\n",
    "\n",
    "src.utils.set_lims(axs)"
   ]
  },
  {
   "cell_type": "markdown",
   "id": "e2176461-e94b-4385-b04f-7e0c9b9849d8",
   "metadata": {},
   "source": [
    "### SSH"
   ]
  },
  {
   "cell_type": "markdown",
   "id": "7ca35a78-6e2f-458e-a383-baaf3ae2e97f",
   "metadata": {},
   "source": [
    "#### Hovmoller"
   ]
  },
  {
   "cell_type": "code",
   "execution_count": null,
   "id": "253628a2-4f49-4993-848e-55e2b83c9e88",
   "metadata": {},
   "outputs": [],
   "source": [
    "## specify which ssh variable to use\n",
    "LABEL = r\"$m~\\left(K\\right)^{-1}$\"\n",
    "\n",
    "## functin to select data\n",
    "sel = lambda x: x[H_VAR].sel(j=\"T_3\")\n",
    "\n",
    "## shared args\n",
    "kwargs = dict(amp=8, lat_bound=5)\n",
    "\n",
    "fig, axs = plt.subplots(1, 3, figsize=(6, 2.5), layout=\"constrained\")\n",
    "\n",
    "## plot data\n",
    "cp0 = src.utils.make_cycle_hov(axs[0], data=sel(m_early), **kwargs)\n",
    "cp1 = src.utils.make_cycle_hov(axs[1], data=sel(m_late), **kwargs)\n",
    "cp2 = src.utils.make_cycle_hov(axs[2], data=2 * sel(m_late - m_early), **kwargs)\n",
    "\n",
    "## make it look nicer\n",
    "cb = fig.colorbar(\n",
    "    cp0,\n",
    "    ax=axs[2],\n",
    "    ticks=[-kwargs[\"amp\"], 0, kwargs[\"amp\"]],\n",
    "    label=LABEL,\n",
    ")\n",
    "src.utils.format_hov_axs(axs)\n",
    "for ax in axs:\n",
    "    ax.axhline(7, ls=\"--\", c=\"k\", lw=1)\n",
    "\n",
    "plt.show()"
   ]
  },
  {
   "cell_type": "markdown",
   "id": "703a9496-1846-4ea0-aed7-865e368860f9",
   "metadata": {},
   "source": [
    "#### Spatial"
   ]
  },
  {
   "cell_type": "code",
   "execution_count": null,
   "id": "19d59085-1536-4212-a312-a43ebdaae51e",
   "metadata": {},
   "outputs": [],
   "source": [
    "## select month\n",
    "sel = lambda x: x[H_VAR].sel(j=\"T_3\", month=5)\n",
    "\n",
    "## set up plot\n",
    "fig = plt.figure(figsize=(7, 3.9), layout=\"constrained\")\n",
    "format_func = lambda ax,: src.utils.plot_setup_pac(ax, max_lat=20)\n",
    "axs = src.utils.subplots_with_proj(fig, nrows=3, ncols=1, format_func=format_func)\n",
    "\n",
    "contour_kwargs = dict(amp=8, sel=sel)\n",
    "cp0 = src.utils.make_contour_plot(axs[0, 0], m_early, **contour_kwargs)\n",
    "cp1 = src.utils.make_contour_plot(axs[1, 0], m_late, **contour_kwargs)\n",
    "cp2 = src.utils.make_contour_plot(axs[2, 0], 2 * (m_late - m_early), **contour_kwargs)\n",
    "\n",
    "## colorbar\n",
    "cb_kwargs = dict(label=LABEL, ticks=[-contour_kwargs[\"amp\"], 0, contour_kwargs[\"amp\"]])\n",
    "cb0 = fig.colorbar(cp0, ax=axs[:2], **cb_kwargs)\n",
    "cb2 = fig.colorbar(cp2, ax=axs[-1], **cb_kwargs)\n",
    "\n",
    "## Niño 3 box\n",
    "box_kwargs = dict(c=\"k\", linewidth=0.9, alpha=0.5)\n",
    "for ax in axs.flatten():\n",
    "    src.utils.plot_hw_box(ax, **box_kwargs)\n",
    "\n",
    "plt.show()"
   ]
  },
  {
   "cell_type": "markdown",
   "id": "250769fb-63b0-4aa1-9b04-36ca9480bb1f",
   "metadata": {},
   "source": [
    "### $\\varepsilon$"
   ]
  },
  {
   "cell_type": "code",
   "execution_count": null,
   "id": "b74f22d4-a43f-4f92-976b-a7144599dae3",
   "metadata": {},
   "outputs": [],
   "source": [
    "## specify which ssh variable to use\n",
    "LABEL = r\"$\\left(\\text{month}\\right)^{-1}$\"\n",
    "\n",
    "## function to select data\n",
    "sel = lambda x: x[f\"ddt_{H_VAR}\"].isel(j=1)\n",
    "\n",
    "## shared args\n",
    "kwargs = dict(amp=80, lat_bound=1.5)\n",
    "\n",
    "fig, axs = plt.subplots(1, 3, figsize=(6, 2.5), layout=\"constrained\")\n",
    "\n",
    "## plot data\n",
    "cp0 = src.utils.make_cycle_hov(axs[0], data=sel(m_early), **kwargs)\n",
    "cp1 = src.utils.make_cycle_hov(axs[1], data=sel(m_late), **kwargs)\n",
    "cp2 = src.utils.make_cycle_hov(axs[2], data=2 * sel(m_late - m_early), **kwargs)\n",
    "\n",
    "## make it look nicer\n",
    "cb = fig.colorbar(\n",
    "    cp0,\n",
    "    ax=axs[2],\n",
    "    ticks=[-kwargs[\"amp\"], 0, kwargs[\"amp\"]],\n",
    "    label=LABEL,\n",
    ")\n",
    "src.utils.format_hov_axs(axs)\n",
    "for ax in axs:\n",
    "    ax.axhline(7, ls=\"--\", c=\"k\", lw=1)\n",
    "\n",
    "plt.show()"
   ]
  },
  {
   "cell_type": "code",
   "execution_count": null,
   "id": "6c1246af-c3cc-4823-96ca-92c7133a25f8",
   "metadata": {},
   "outputs": [],
   "source": [
    "## select month\n",
    "sel = lambda x: x[f\"ddt_{H_VAR}\"].isel(j=1).sel(month=6)\n",
    "\n",
    "## set up plot\n",
    "fig = plt.figure(figsize=(7, 3.9), layout=\"constrained\")\n",
    "format_func = lambda ax,: src.utils.plot_setup_pac(ax, max_lat=20)\n",
    "axs = src.utils.subplots_with_proj(fig, nrows=3, ncols=1, format_func=format_func)\n",
    "\n",
    "contour_kwargs = dict(amp=80, sel=sel)\n",
    "cp0 = src.utils.make_contour_plot(axs[0, 0], m_early, **contour_kwargs)\n",
    "cp1 = src.utils.make_contour_plot(axs[1, 0], m_late, **contour_kwargs)\n",
    "cp2 = src.utils.make_contour_plot(axs[2, 0], 2 * (m_late - m_early), **contour_kwargs)\n",
    "\n",
    "## colorbar\n",
    "cb_kwargs = dict(label=LABEL, ticks=[-contour_kwargs[\"amp\"], 0, contour_kwargs[\"amp\"]])\n",
    "cb0 = fig.colorbar(cp0, ax=axs[:2], **cb_kwargs)\n",
    "cb2 = fig.colorbar(cp2, ax=axs[-1], **cb_kwargs)\n",
    "\n",
    "## Niño 3 box\n",
    "box_kwargs = dict(c=\"k\", linewidth=0.9, alpha=0.5)\n",
    "for ax in axs.flatten():\n",
    "    src.utils.plot_hw_box(ax, **box_kwargs)\n",
    "\n",
    "plt.show()"
   ]
  }
 ],
 "metadata": {
  "kernelspec": {
   "display_name": "Python 3 (ipykernel)",
   "language": "python",
   "name": "python3"
  },
  "language_info": {
   "codemirror_mode": {
    "name": "ipython",
    "version": 3
   },
   "file_extension": ".py",
   "mimetype": "text/x-python",
   "name": "python",
   "nbconvert_exporter": "python",
   "pygments_lexer": "ipython3",
   "version": "3.13.3"
  }
 },
 "nbformat": 4,
 "nbformat_minor": 5
}
