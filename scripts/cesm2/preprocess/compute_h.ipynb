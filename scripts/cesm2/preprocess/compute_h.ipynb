{
 "cells": [
  {
   "cell_type": "markdown",
   "id": "962597f8-cc26-478d-be97-ac82d0e01cf3",
   "metadata": {},
   "source": [
    "# Compute $h$\n",
    "Compute thermocline depth from subsurface temperature profiles"
   ]
  },
  {
   "cell_type": "markdown",
   "id": "7ab3d46c-fd8c-4d23-801b-0909a4b81509",
   "metadata": {},
   "source": [
    "## Imports"
   ]
  },
  {
   "cell_type": "code",
   "execution_count": null,
   "id": "06d5f434-32e8-4139-9235-671ee8bc74f2",
   "metadata": {},
   "outputs": [],
   "source": [
    "import matplotlib.pyplot as plt\n",
    "import matplotlib as mpl\n",
    "import numpy as np\n",
    "import seaborn as sns\n",
    "import xarray as xr\n",
    "import tqdm\n",
    "import pathlib\n",
    "import cmocean\n",
    "import os\n",
    "import copy\n",
    "import time\n",
    "import pandas as pd\n",
    "\n",
    "# Import custom modules\n",
    "import src.utils\n",
    "\n",
    "## set plotting specs\n",
    "sns.set(rc={\"axes.facecolor\": \"white\", \"axes.grid\": False})\n",
    "\n",
    "## bump up DPI\n",
    "mpl.rcParams[\"figure.dpi\"] = 100\n",
    "\n",
    "## get filepaths\n",
    "DATA_FP = pathlib.Path(os.environ[\"DATA_FP\"])\n",
    "SAVE_FP = pathlib.Path(os.environ[\"SAVE_FP\"])"
   ]
  },
  {
   "cell_type": "markdown",
   "id": "04ac39ad-f915-4cd9-a8aa-11a79d9e5474",
   "metadata": {},
   "source": [
    "## cluster"
   ]
  },
  {
   "cell_type": "markdown",
   "id": "76b24db9-3e90-4c20-ab22-2fe277b8b5ad",
   "metadata": {},
   "source": [
    "Note: need lots of memory to load data: ~16 GB / worker"
   ]
  },
  {
   "cell_type": "code",
   "execution_count": null,
   "id": "1028965f-9d8f-4177-b11a-42c62c2452c8",
   "metadata": {
    "scrolled": true
   },
   "outputs": [],
   "source": [
    "from dask.distributed import LocalCluster, Client\n",
    "\n",
    "cluster = LocalCluster(n_workers=6)\n",
    "client = Client(cluster)\n",
    "client"
   ]
  },
  {
   "cell_type": "markdown",
   "id": "d4f6d2e0-7122-4422-910a-82309be64ed6",
   "metadata": {},
   "source": [
    "## Load data"
   ]
  },
  {
   "cell_type": "code",
   "execution_count": null,
   "id": "a240e13e-5681-4c57-b1ce-215a6352af4c",
   "metadata": {},
   "outputs": [],
   "source": [
    "## load spatial data\n",
    "forced, anom = src.utils.load_consolidated()\n",
    "T_scores = forced[\"T\"] + anom[\"T\"]\n",
    "T = xr.merge([T_scores, forced[\"T_comp\"]])\n",
    "\n",
    "## chunk the data (for dask\n",
    "T = T.chunk({\"member\": 1, \"time\": 120})"
   ]
  },
  {
   "cell_type": "markdown",
   "id": "a54a80d7-8995-4267-8f37-7255b891bcbe",
   "metadata": {},
   "source": [
    "## Compute"
   ]
  },
  {
   "cell_type": "markdown",
   "id": "66dda441-3e9c-4012-b118-3b628fd7ec42",
   "metadata": {},
   "source": [
    "### threshold-version"
   ]
  },
  {
   "cell_type": "code",
   "execution_count": null,
   "id": "6332b46f-a261-4c3d-9c3e-0dc48385f5ce",
   "metadata": {},
   "outputs": [],
   "source": [
    "## set threshold for thermocline depth\n",
    "THRESH = 0.04\n",
    "\n",
    "## get save filepath\n",
    "save_fp = pathlib.Path(SAVE_FP, \"h_ests\", f\"h_int_{int(THRESH*1e3)}.nc\")\n",
    "\n",
    "if save_fp.is_file():\n",
    "    print(\"File exists!\")\n",
    "    H = xr.open_dataarray(save_fp)\n",
    "\n",
    "else:\n",
    "\n",
    "    print(\"Computing\")\n",
    "    T_vals = src.utils.reconstruct_wrapper(T)\n",
    "    H = src.utils.get_H_int(T_vals[\"T\"], thresh=THRESH)\n",
    "\n",
    "    ## save\n",
    "    H.to_netcdf(save_fp)"
   ]
  },
  {
   "cell_type": "markdown",
   "id": "35470cd5-c672-4139-b9c8-363f44760173",
   "metadata": {},
   "source": [
    "### Contour version"
   ]
  },
  {
   "cell_type": "markdown",
   "id": "c057acc0-df08-4156-a587-5a6346091e2a",
   "metadata": {},
   "source": [
    "#### Func to compute"
   ]
  },
  {
   "cell_type": "code",
   "execution_count": null,
   "id": "43f356b0-2a63-4bec-8556-872124ae9eda",
   "metadata": {},
   "outputs": [],
   "source": [
    "def find_level(T_recon, level=20):\n",
    "    \"\"\"function to find depth of thermocline\"\"\"\n",
    "\n",
    "    ## find index of closest vertical level\n",
    "    level_idx = np.abs(T_recon - level).fillna(1e20).argmin(\"z_t\")\n",
    "\n",
    "    ## get corresponding depth\n",
    "    level_est = T_recon.z_t.isel(z_t=level_idx)\n",
    "\n",
    "    ## add back NaNs\n",
    "    level_est = level_est.where(~np.isnan(T_recon.isel(z_t=0)), other=np.nan)\n",
    "\n",
    "    return level_est\n",
    "\n",
    "\n",
    "def load_level(T_recon, lev):\n",
    "    \"\"\"wrapper function: try loading thermocline depth; otherwise compute and save\"\"\"\n",
    "\n",
    "    ## get save filepath\n",
    "    save_fp = pathlib.Path(SAVE_FP, \"h_ests\", f\"z_{lev}.nc\")\n",
    "\n",
    "    if save_fp.is_file():\n",
    "\n",
    "        print(\"File exists!\")\n",
    "        H = xr.open_dataarray(save_fp)\n",
    "\n",
    "    else:\n",
    "\n",
    "        ## compute\n",
    "        H = find_level(T_recon, level=lev)\n",
    "\n",
    "        ## save\n",
    "        H.to_netcdf(save_fp)\n",
    "\n",
    "    return H"
   ]
  },
  {
   "cell_type": "markdown",
   "id": "57115581-8632-43cc-8be7-abe61e3b93c1",
   "metadata": {},
   "source": [
    "#### Test func"
   ]
  },
  {
   "cell_type": "code",
   "execution_count": null,
   "id": "70a6966e-d7e6-4cef-a349-ffdf27c932a3",
   "metadata": {},
   "outputs": [],
   "source": [
    "## get data\n",
    "T_recon = src.utils.reconstruct_wrapper(T.isel(time=300, member=30))[\"T\"].compute()\n",
    "\n",
    "## find thermocline\n",
    "z20_est = find_level(T_recon)"
   ]
  },
  {
   "cell_type": "code",
   "execution_count": null,
   "id": "3bd230e4-5c22-475b-8726-b094e3d2a64d",
   "metadata": {},
   "outputs": [],
   "source": [
    "fig, ax = plt.subplots(figsize=(4, 3))\n",
    "ax.contourf(\n",
    "    T_recon.longitude,\n",
    "    T_recon.z_t,\n",
    "    T_recon,\n",
    "    cmap=\"cmo.thermal\",\n",
    "    levels=np.arange(10, 34, 2),\n",
    "    extend=\"both\",\n",
    ")\n",
    "ax.contour(\n",
    "    T_recon.longitude,\n",
    "    T_recon.z_t,\n",
    "    T_recon,\n",
    "    colors=\"w\",\n",
    "    levels=[20],\n",
    ")\n",
    "ax.plot(z20_est.longitude, z20_est, ls=\"--\", c=\"magenta\")\n",
    "\n",
    "ax.set_ylim([200, 5])\n",
    "ax.set_xlim([120, 280])\n",
    "plt.show()"
   ]
  },
  {
   "cell_type": "markdown",
   "id": "ab771417-e7bc-40ce-8535-3ec2b7751819",
   "metadata": {},
   "source": [
    "#### Compute"
   ]
  },
  {
   "cell_type": "markdown",
   "id": "81d5ca99-f20b-4c85-9f73-05488937b4d1",
   "metadata": {},
   "source": [
    "Load to memory (this part takes the longest)"
   ]
  },
  {
   "cell_type": "code",
   "execution_count": null,
   "id": "3567f2b2-b8bc-4e66-954e-24cfcf61a93b",
   "metadata": {},
   "outputs": [],
   "source": [
    "T_recon = src.utils.reconstruct_wrapper(T)[\"T\"].compute()"
   ]
  },
  {
   "cell_type": "code",
   "execution_count": null,
   "id": "72a6ccbe-76a0-42e1-9634-bfc358bb2507",
   "metadata": {},
   "outputs": [],
   "source": [
    "for lev in tqdm.tqdm(np.arange(20, 25)):\n",
    "    load_level(T_recon, lev=lev)\n",
    "\n",
    "# z20_est = find_level(T_recon, level=20)\n",
    "# z21_est = find_level(T_recon, level=21)\n",
    "# z22_est = find_level(T_recon, level=22)\n",
    "# z23_est = find_level(T_recon, level=23)"
   ]
  },
  {
   "cell_type": "markdown",
   "id": "22672ec0-25c7-490e-9d32-d6fee069dbf2",
   "metadata": {},
   "source": [
    "#### Plot results to make sure they look ok"
   ]
  },
  {
   "cell_type": "code",
   "execution_count": null,
   "id": "25dcf43c-7c4b-4a79-8144-d69cbdc857a1",
   "metadata": {},
   "outputs": [],
   "source": [
    "z20 = xr.open_dataarray(pathlib.Path(SAVE_FP, \"h_ests\", f\"z_20.nc\"))\n",
    "z22 = xr.open_dataarray(pathlib.Path(SAVE_FP, \"h_ests\", f\"z_22.nc\"))\n",
    "Z = xr.merge([z20.rename(\"z20\"), z22.rename(\"z22\")])"
   ]
  },
  {
   "cell_type": "code",
   "execution_count": null,
   "id": "9f25dc66-a882-422e-bc0d-ed16749a56e2",
   "metadata": {},
   "outputs": [],
   "source": [
    "sel = lambda x: x.isel(time=40, member=60)\n",
    "\n",
    "fig, ax = plt.subplots(figsize=(4, 3))\n",
    "ax.contourf(\n",
    "    T_recon.longitude,\n",
    "    T_recon.z_t,\n",
    "    sel(T_recon),\n",
    "    cmap=\"cmo.thermal\",\n",
    "    levels=np.arange(10, 34, 2),\n",
    "    extend=\"both\",\n",
    ")\n",
    "ax.contour(\n",
    "    T_recon.longitude,\n",
    "    T_recon.z_t,\n",
    "    sel(T_recon),\n",
    "    colors=\"w\",\n",
    "    levels=[20],\n",
    ")\n",
    "ax.plot(Z.longitude, sel(Z[\"z20\"]), ls=\"--\", c=\"magenta\")\n",
    "ax.plot(Z.longitude, sel(Z[\"z22\"]), ls=\"--\", c=\"magenta\")\n",
    "\n",
    "ax.set_ylim([250, 5])\n",
    "ax.set_xlim([120, 280])\n",
    "plt.show()"
   ]
  },
  {
   "cell_type": "markdown",
   "id": "f6d7b8dc-d0c1-4609-94d2-2fd2ec3aa725",
   "metadata": {},
   "source": [
    "### max-grad version"
   ]
  },
  {
   "cell_type": "markdown",
   "id": "86307e95-fa5b-488d-b430-e75a9814e70f",
   "metadata": {},
   "source": [
    "#### function to find max gradient"
   ]
  },
  {
   "cell_type": "code",
   "execution_count": null,
   "id": "c907a613-33e0-459d-8d82-1152f2236975",
   "metadata": {},
   "outputs": [],
   "source": [
    "def find_maxgrad(T_recon):\n",
    "    \"\"\"function to find depth of thermocline\"\"\"\n",
    "\n",
    "    ## find index of max gradient\n",
    "    idx = T_recon.differentiate(\"z_t\").fillna(1e20).argmin(\"z_t\")\n",
    "\n",
    "    ## get thermocline depth\n",
    "    h = T_recon.z_t.isel(z_t=idx)\n",
    "\n",
    "    ## fill in NaN values\n",
    "    h = h.where(~np.isnan(T_recon.isel(z_t=0)), other=np.nan)\n",
    "\n",
    "    return h"
   ]
  },
  {
   "cell_type": "markdown",
   "id": "498c644f-cdf6-4f49-ac6c-c9af21be7e26",
   "metadata": {},
   "source": [
    "#### Compute"
   ]
  },
  {
   "cell_type": "code",
   "execution_count": null,
   "id": "b67371f9-b19f-419e-ac1a-55ec41cff85c",
   "metadata": {},
   "outputs": [],
   "source": [
    "## get save filepath\n",
    "save_fp = pathlib.Path(SAVE_FP, \"h_ests\", f\"h_max-grad.nc\")\n",
    "\n",
    "if save_fp.is_file():\n",
    "    print(\"File exists!\")\n",
    "    h = xr.open_dataarray(save_fp)\n",
    "\n",
    "else:\n",
    "\n",
    "    print(\"Computing\")\n",
    "    T_recon = src.utils.reconstruct_wrapper(T)[\"T\"].compute()\n",
    "    h = find_maxgrad(T_recon)\n",
    "\n",
    "    ## save\n",
    "    h.to_netcdf(save_fp)"
   ]
  },
  {
   "cell_type": "code",
   "execution_count": null,
   "id": "e64d68c2-25cf-41c8-982b-2379b00da7b2",
   "metadata": {},
   "outputs": [],
   "source": [
    "h"
   ]
  },
  {
   "cell_type": "markdown",
   "id": "9c28b756-edee-48e1-8b67-25bd94ba4e1e",
   "metadata": {},
   "source": [
    "#### Test it makes sense"
   ]
  },
  {
   "cell_type": "code",
   "execution_count": null,
   "id": "2f34da45-a634-4dc2-908b-19dae7fdbab2",
   "metadata": {},
   "outputs": [],
   "source": [
    "idx = dict(time=100, member=6)\n",
    "\n",
    "## get data\n",
    "T_ = src.utils.reconstruct_wrapper(T.isel(idx))[\"T\"].compute()\n",
    "\n",
    "## get h\n",
    "h_ = h.isel(idx)\n",
    "\n",
    "fig, ax = plt.subplots(figsize=(4, 3))\n",
    "ax.contourf(\n",
    "    T_.longitude,\n",
    "    T_.z_t,\n",
    "    T_,\n",
    "    cmap=\"cmo.thermal\",\n",
    "    levels=np.arange(10, 34, 2),\n",
    "    extend=\"both\",\n",
    ")\n",
    "\n",
    "## plot 20 deg isotherm\n",
    "ax.contour(T_.longitude, T_.z_t, T_, colors=\"w\", levels=[20])\n",
    "\n",
    "## plot max grad thermocline\n",
    "ax.plot(h_.longitude, h_, c=\"k\")\n",
    "\n",
    "ax.set_ylim([250, 5])\n",
    "ax.set_xlim([120, 270])\n",
    "plt.show()"
   ]
  },
  {
   "cell_type": "markdown",
   "id": "1b9a2e61-7123-4413-a0d5-6a866c6bd52a",
   "metadata": {},
   "source": [
    "### threshold max-grad version"
   ]
  },
  {
   "cell_type": "code",
   "execution_count": null,
   "id": "fb96af97-7537-4cb0-8097-e06d97d59f37",
   "metadata": {},
   "outputs": [],
   "source": [
    "# def find_maxgrad(T_recon):\n",
    "#     \"\"\"function to find depth of thermocline\"\"\"\n",
    "\n",
    "#     ## find index of max gradient\n",
    "#     idx = T_recon.differentiate(\"z_t\").fillna(1e20).argmin(\"z_t\")\n",
    "\n",
    "#     ## get thermocline depth\n",
    "#     h = T_recon.z_t.isel(z_t=idx)\n",
    "\n",
    "#     ## fill in NaN values\n",
    "#     h = h.where(~np.isnan(T_recon.isel(z_t=0)), other=np.nan)\n",
    "\n",
    "#     return h"
   ]
  },
  {
   "cell_type": "markdown",
   "id": "bd075655-a5cd-4cb7-adb1-cf954cd2a06b",
   "metadata": {},
   "source": [
    "### Plot results"
   ]
  },
  {
   "cell_type": "markdown",
   "id": "deaa22f1-c967-4ef1-88c3-66fd64b232e7",
   "metadata": {},
   "source": [
    "#### Load $Z_{20}$ (validation data)"
   ]
  },
  {
   "cell_type": "code",
   "execution_count": null,
   "id": "9bd00c3d-144f-4673-8e91-ce300c88327b",
   "metadata": {},
   "outputs": [],
   "source": [
    "## load spatial data\n",
    "forced, anom = src.utils.load_consolidated()\n",
    "z20_scores = forced[\"z20\"] + anom[\"z20\"]\n",
    "z20 = xr.merge([z20_scores, forced[\"z20_comp\"]])\n",
    "\n",
    "## chunk it\n",
    "z20 = z20.chunk({\"member\": 1, \"time\": 180})\n",
    "\n",
    "## get value on equator\n",
    "z20_eq = src.utils.reconstruct_wrapper(\n",
    "    z20, fn=lambda x: x.sel(latitude=slice(-1.5, 1.5)).mean(\"latitude\")\n",
    ")\n",
    "\n",
    "## load into memory\n",
    "z20_eq.load();"
   ]
  },
  {
   "cell_type": "code",
   "execution_count": null,
   "id": "3171357e-cd32-42e5-98cc-19b85e6a7576",
   "metadata": {},
   "outputs": [],
   "source": [
    "sel = lambda x: x.isel(time=slice(None, 360)).mean([\"member\", \"time\"])\n",
    "\n",
    "hbar = sel(H)\n",
    "hbar1 = H.isel(time=slice(-360, None)).mean([\"member\", \"time\"])\n",
    "z20_bar = sel(z20_eq)"
   ]
  },
  {
   "cell_type": "code",
   "execution_count": null,
   "id": "79da8f96-6a72-4a2b-8e9e-d2a9671dc45d",
   "metadata": {},
   "outputs": [],
   "source": [
    "fig, ax = plt.subplots(figsize=(4, 3))\n",
    "ax.plot(hbar.longitude, hbar)\n",
    "ax.plot(z20_bar.longitude, z20_bar[\"z20\"])\n",
    "# plt.plot(hbar.longitude, hbar0)\n",
    "# plt.plot(hbar.longitude, hbar1)\n",
    "ax.set_ylim([200, 40])\n",
    "plt.show()"
   ]
  },
  {
   "cell_type": "markdown",
   "id": "33d7b636-a49c-484b-983c-810b0ba30924",
   "metadata": {},
   "source": [
    "### Spatial plot"
   ]
  },
  {
   "cell_type": "code",
   "execution_count": null,
   "id": "f348272c-c498-414b-856d-cef35a650dec",
   "metadata": {},
   "outputs": [],
   "source": [
    "z_ = z20.isel(time=slice(None, 360)).mean([\"time\", \"member\"]).compute()\n",
    "z = src.utils.reconstruct_wrapper(z_)"
   ]
  },
  {
   "cell_type": "code",
   "execution_count": null,
   "id": "3f5602a3-c952-4dc0-b668-c7cdd84dbf1f",
   "metadata": {},
   "outputs": [],
   "source": [
    "coslat_weights = src.utils.get_coslat_weights(z_.z20_comp)\n",
    "\n",
    "## evaluate function on spatial components\n",
    "fn_eval = z_.z20_comp * 1 / coslat_weights"
   ]
  },
  {
   "cell_type": "code",
   "execution_count": null,
   "id": "c6245f1f-7403-4c0f-814f-e0f1ea622ad9",
   "metadata": {},
   "outputs": [],
   "source": [
    "import cartopy.crs as ccrs\n",
    "\n",
    "fig = plt.figure(figsize=(5, 2.5), layout=\"constrained\")\n",
    "format_func = lambda ax,: src.utils.plot_setup_pac(ax, max_lat=20)\n",
    "axs = src.utils.subplots_with_proj(fig, nrows=1, ncols=1, format_func=format_func)\n",
    "\n",
    "axs[0, 0].contourf(\n",
    "    z.longitude,\n",
    "    z.latitude,\n",
    "    z[\"z20\"],\n",
    "    cmap=\"cmo.thermal\",\n",
    "    transform=ccrs.PlateCarree(),\n",
    ")\n",
    "\n",
    "plt.show()"
   ]
  }
 ],
 "metadata": {
  "kernelspec": {
   "display_name": "Python [conda env:envs]",
   "language": "python",
   "name": "conda-env-envs-py"
  },
  "language_info": {
   "codemirror_mode": {
    "name": "ipython",
    "version": 3
   },
   "file_extension": ".py",
   "mimetype": "text/x-python",
   "name": "python",
   "nbconvert_exporter": "python",
   "pygments_lexer": "ipython3",
   "version": "3.13.5"
  }
 },
 "nbformat": 4,
 "nbformat_minor": 5
}
