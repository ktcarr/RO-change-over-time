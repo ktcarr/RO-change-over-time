{
 "cells": [
  {
   "cell_type": "markdown",
   "id": "962597f8-cc26-478d-be97-ac82d0e01cf3",
   "metadata": {},
   "source": [
    "# Compute $h$\n",
    "Compute thermocline depth from subsurface temperature profiles"
   ]
  },
  {
   "cell_type": "markdown",
   "id": "7ab3d46c-fd8c-4d23-801b-0909a4b81509",
   "metadata": {},
   "source": [
    "## Imports"
   ]
  },
  {
   "cell_type": "code",
   "execution_count": null,
   "id": "06d5f434-32e8-4139-9235-671ee8bc74f2",
   "metadata": {},
   "outputs": [],
   "source": [
    "import matplotlib.pyplot as plt\n",
    "import matplotlib as mpl\n",
    "import numpy as np\n",
    "import seaborn as sns\n",
    "import xarray as xr\n",
    "import tqdm\n",
    "import pathlib\n",
    "import cmocean\n",
    "import os\n",
    "import copy\n",
    "import time\n",
    "import pandas as pd\n",
    "\n",
    "# Import custom modules\n",
    "import src.utils\n",
    "\n",
    "## set plotting specs\n",
    "sns.set(rc={\"axes.facecolor\": \"white\", \"axes.grid\": False})\n",
    "\n",
    "## bump up DPI\n",
    "mpl.rcParams[\"figure.dpi\"] = 100\n",
    "\n",
    "## get filepaths\n",
    "DATA_FP = pathlib.Path(os.environ[\"DATA_FP\"])\n",
    "SAVE_FP = pathlib.Path(os.environ[\"SAVE_FP\"])"
   ]
  },
  {
   "cell_type": "markdown",
   "id": "04ac39ad-f915-4cd9-a8aa-11a79d9e5474",
   "metadata": {},
   "source": [
    "## cluster"
   ]
  },
  {
   "cell_type": "code",
   "execution_count": null,
   "id": "1028965f-9d8f-4177-b11a-42c62c2452c8",
   "metadata": {},
   "outputs": [],
   "source": [
    "from dask.distributed import LocalCluster, Client\n",
    "\n",
    "cluster = LocalCluster(n_workers=6)\n",
    "client = Client(cluster)\n",
    "client"
   ]
  },
  {
   "cell_type": "markdown",
   "id": "d4f6d2e0-7122-4422-910a-82309be64ed6",
   "metadata": {},
   "source": [
    "## Load data"
   ]
  },
  {
   "cell_type": "code",
   "execution_count": null,
   "id": "a240e13e-5681-4c57-b1ce-215a6352af4c",
   "metadata": {},
   "outputs": [],
   "source": [
    "## load spatial data\n",
    "forced, anom = src.utils.load_consolidated()\n",
    "T_scores = forced[\"T\"] + anom[\"T\"]\n",
    "T = xr.merge([T_scores, forced[\"T_comp\"]])\n",
    "\n",
    "## chunk the data (for dask\n",
    "T = T.chunk({\"member\": 1, \"time\": 180})"
   ]
  },
  {
   "cell_type": "markdown",
   "id": "a54a80d7-8995-4267-8f37-7255b891bcbe",
   "metadata": {},
   "source": [
    "## Compute"
   ]
  },
  {
   "cell_type": "markdown",
   "id": "66dda441-3e9c-4012-b118-3b628fd7ec42",
   "metadata": {},
   "source": [
    "### threshold-version"
   ]
  },
  {
   "cell_type": "code",
   "execution_count": null,
   "id": "6332b46f-a261-4c3d-9c3e-0dc48385f5ce",
   "metadata": {},
   "outputs": [],
   "source": [
    "## set threshold for thermocline depth\n",
    "THRESH = 0.04\n",
    "\n",
    "## get save filepath\n",
    "save_fp = pathlib.Path(SAVE_FP, \"h_ests\", f\"h_int_{int(THRESH*1e3)}.nc\")\n",
    "\n",
    "if save_fp.is_file():\n",
    "    print(\"File exists!\")\n",
    "    H = xr.open_dataarray(save_fp)\n",
    "\n",
    "else:\n",
    "\n",
    "    print(\"Computing\")\n",
    "    T_vals = src.utils.reconstruct_wrapper(T)\n",
    "    H = src.utils.get_H_int(T_vals[\"T\"], thresh=THRESH)\n",
    "\n",
    "    ## save\n",
    "    H.to_netcdf(save_fp)"
   ]
  },
  {
   "cell_type": "markdown",
   "id": "f6d7b8dc-d0c1-4609-94d2-2fd2ec3aa725",
   "metadata": {},
   "source": [
    "### max-grad version"
   ]
  },
  {
   "cell_type": "markdown",
   "id": "86307e95-fa5b-488d-b430-e75a9814e70f",
   "metadata": {},
   "source": [
    "Need more memory for this..."
   ]
  },
  {
   "cell_type": "code",
   "execution_count": null,
   "id": "96ae0c0c-7af7-4ea6-aaeb-0d636f32b7e4",
   "metadata": {},
   "outputs": [],
   "source": [
    "np.isnan(T_vals[\"T\"]).all([\"z_t\"])"
   ]
  },
  {
   "cell_type": "code",
   "execution_count": null,
   "id": "f9e6d2c3-4798-4fe4-89cf-ec887c486aaa",
   "metadata": {},
   "outputs": [],
   "source": [
    "## get save filepath\n",
    "save_fp = pathlib.Path(SAVE_FP, \"h_ests\", f\"h_max-grad.nc\")\n",
    "\n",
    "if save_fp.is_file():\n",
    "    print(\"File exists!\")\n",
    "    H = xr.open_dataarray(save_fp)\n",
    "\n",
    "else:\n",
    "\n",
    "    print(\"Computing\")\n",
    "    T_vals = src.utils.reconstruct_wrapper(T).compute()\n",
    "    H = src.utils.get_H(T_vals[\"T\"])\n",
    "\n",
    "    ## save\n",
    "    H.to_netcdf(save_fp)"
   ]
  },
  {
   "cell_type": "markdown",
   "id": "bd075655-a5cd-4cb7-adb1-cf954cd2a06b",
   "metadata": {},
   "source": [
    "### Plot results"
   ]
  },
  {
   "cell_type": "markdown",
   "id": "deaa22f1-c967-4ef1-88c3-66fd64b232e7",
   "metadata": {},
   "source": [
    "#### Load $Z_{20}$ (validation data)"
   ]
  },
  {
   "cell_type": "code",
   "execution_count": null,
   "id": "9bd00c3d-144f-4673-8e91-ce300c88327b",
   "metadata": {},
   "outputs": [],
   "source": [
    "## load spatial data\n",
    "forced, anom = src.utils.load_consolidated()\n",
    "z20_scores = forced[\"z20\"] + anom[\"z20\"]\n",
    "z20 = xr.merge([z20_scores, forced[\"z20_comp\"]])\n",
    "\n",
    "## chunk it\n",
    "z20 = z20.chunk({\"member\": 1, \"time\": 180})\n",
    "\n",
    "## get value on equator\n",
    "z20_eq = src.utils.reconstruct_wrapper(\n",
    "    z20, fn=lambda x: x.sel(latitude=slice(-1.5, 1.5)).mean(\"latitude\")\n",
    ")\n",
    "\n",
    "## load into memory\n",
    "z20_eq.load();"
   ]
  },
  {
   "cell_type": "code",
   "execution_count": null,
   "id": "3171357e-cd32-42e5-98cc-19b85e6a7576",
   "metadata": {},
   "outputs": [],
   "source": [
    "sel = lambda x: x.isel(time=slice(None, 360)).mean([\"member\", \"time\"])\n",
    "\n",
    "hbar = sel(H)\n",
    "hbar1 = H.isel(time=slice(-360, None)).mean([\"member\", \"time\"])\n",
    "z20_bar = sel(z20_eq)"
   ]
  },
  {
   "cell_type": "code",
   "execution_count": null,
   "id": "79da8f96-6a72-4a2b-8e9e-d2a9671dc45d",
   "metadata": {},
   "outputs": [],
   "source": [
    "fig, ax = plt.subplots(figsize=(4, 3))\n",
    "ax.plot(hbar.longitude, hbar)\n",
    "ax.plot(z20_bar.longitude, z20_bar[\"z20\"])\n",
    "# plt.plot(hbar.longitude, hbar0)\n",
    "# plt.plot(hbar.longitude, hbar1)\n",
    "ax.set_ylim([200, 40])\n",
    "plt.show()"
   ]
  },
  {
   "cell_type": "markdown",
   "id": "33d7b636-a49c-484b-983c-810b0ba30924",
   "metadata": {},
   "source": [
    "### Spatial plot"
   ]
  },
  {
   "cell_type": "code",
   "execution_count": null,
   "id": "f348272c-c498-414b-856d-cef35a650dec",
   "metadata": {},
   "outputs": [],
   "source": [
    "z_ = z20.isel(time=slice(None, 360)).mean([\"time\", \"member\"]).compute()\n",
    "z = src.utils.reconstruct_wrapper(z_)"
   ]
  },
  {
   "cell_type": "code",
   "execution_count": null,
   "id": "3f5602a3-c952-4dc0-b668-c7cdd84dbf1f",
   "metadata": {},
   "outputs": [],
   "source": [
    "coslat_weights = src.utils.get_coslat_weights(z_.z20_comp)\n",
    "\n",
    "## evaluate function on spatial components\n",
    "fn_eval = z_.z20_comp * 1 / coslat_weights"
   ]
  },
  {
   "cell_type": "code",
   "execution_count": null,
   "id": "c6245f1f-7403-4c0f-814f-e0f1ea622ad9",
   "metadata": {},
   "outputs": [],
   "source": [
    "import cartopy.crs as ccrs\n",
    "\n",
    "fig = plt.figure(figsize=(5, 2.5), layout=\"constrained\")\n",
    "format_func = lambda ax,: src.utils.plot_setup_pac(ax, max_lat=20)\n",
    "axs = src.utils.subplots_with_proj(fig, nrows=1, ncols=1, format_func=format_func)\n",
    "\n",
    "axs[0, 0].contourf(\n",
    "    z.longitude,\n",
    "    z.latitude,\n",
    "    z[\"z20\"],\n",
    "    cmap=\"cmo.thermal\",\n",
    "    transform=ccrs.PlateCarree(),\n",
    ")\n",
    "\n",
    "plt.show()"
   ]
  }
 ],
 "metadata": {
  "kernelspec": {
   "display_name": "Python [conda env:envs]",
   "language": "python",
   "name": "conda-env-envs-py"
  },
  "language_info": {
   "codemirror_mode": {
    "name": "ipython",
    "version": 3
   },
   "file_extension": ".py",
   "mimetype": "text/x-python",
   "name": "python",
   "nbconvert_exporter": "python",
   "pygments_lexer": "ipython3",
   "version": "3.13.5"
  }
 },
 "nbformat": 4,
 "nbformat_minor": 5
}
