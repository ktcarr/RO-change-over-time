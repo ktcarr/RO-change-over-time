{
 "cells": [
  {
   "cell_type": "markdown",
   "id": "f9ff6fab-7e67-403f-abf3-c08376db7cca",
   "metadata": {},
   "source": [
    "# Changes in thermal expansion coefficient"
   ]
  },
  {
   "cell_type": "markdown",
   "id": "5141b536-c7fc-4798-86e4-ec0f3f06bc7d",
   "metadata": {},
   "source": [
    "## Imports"
   ]
  },
  {
   "cell_type": "code",
   "execution_count": null,
   "id": "776100e4-65ae-4e6c-b78b-bd49fdd9e025",
   "metadata": {},
   "outputs": [],
   "source": [
    "import matplotlib.pyplot as plt\n",
    "import matplotlib as mpl\n",
    "import numpy as np\n",
    "import seaborn as sns\n",
    "import xarray as xr\n",
    "import tqdm\n",
    "import pathlib\n",
    "import cmocean\n",
    "import os\n",
    "import copy\n",
    "import time\n",
    "import gsw\n",
    "\n",
    "# Import custom modules\n",
    "import src.utils\n",
    "\n",
    "## set plotting specs\n",
    "sns.set(rc={\"axes.facecolor\": \"white\", \"axes.grid\": False})\n",
    "\n",
    "## bump up DPI\n",
    "mpl.rcParams[\"figure.dpi\"] = 100\n",
    "\n",
    "## get filepaths\n",
    "DATA_FP = pathlib.Path(os.environ[\"DATA_FP\"])\n",
    "SAVE_FP = pathlib.Path(os.environ[\"SAVE_FP\"])"
   ]
  },
  {
   "cell_type": "markdown",
   "id": "55462c3e-6f92-47e1-8beb-60806ed3f5bf",
   "metadata": {},
   "source": [
    "## funcs"
   ]
  },
  {
   "cell_type": "code",
   "execution_count": null,
   "id": "7efdc163-f8d1-4382-9749-6f9855dec7de",
   "metadata": {},
   "outputs": [],
   "source": [
    "def avg_upper_ocn(T, H=70, lon_range=[140, 280]):\n",
    "    \"\"\"average upper ocean above threshold\"\"\"\n",
    "    T_ = T.sel(z_t=slice(None, H), longitude=slice(*lon_range))\n",
    "\n",
    "    return T_.mean([\"z_t\", \"longitude\"])"
   ]
  },
  {
   "cell_type": "markdown",
   "id": "ce725d10-ac03-4329-8256-d85a28bb3541",
   "metadata": {},
   "source": [
    "## Load data"
   ]
  },
  {
   "cell_type": "code",
   "execution_count": null,
   "id": "72e268bd-c9f1-432b-99e7-9b14121e3273",
   "metadata": {},
   "outputs": [],
   "source": [
    "## load data\n",
    "forced, _ = src.utils.load_consolidated()\n",
    "\n",
    "## subset for temperature\n",
    "T = forced[[\"T\", \"T_comp\"]].sel(time=slice(\"1851\", None))\n",
    "\n",
    "## get windowed T\n",
    "T = src.utils.get_windowed(T, stride=120)"
   ]
  },
  {
   "cell_type": "markdown",
   "id": "dfd08e12-20bb-41a0-a5ef-334f935e7fb3",
   "metadata": {},
   "source": [
    "## $\\alpha$"
   ]
  },
  {
   "cell_type": "markdown",
   "id": "e8b26185-fddb-41e9-a985-15b773bc955f",
   "metadata": {},
   "source": [
    "#### Avg. temperature over near-surface layer"
   ]
  },
  {
   "cell_type": "code",
   "execution_count": null,
   "id": "1b0f0a6a-9693-4668-ab15-a80a106af9d7",
   "metadata": {},
   "outputs": [],
   "source": [
    "T_upper = src.utils.reconstruct_clim(T, fn=avg_upper_ocn)[\"T\"]\n",
    "T_upper_mean = T_upper.mean(\"month\")"
   ]
  },
  {
   "cell_type": "markdown",
   "id": "b711453b-e2e6-4d70-af0a-9e9297394d28",
   "metadata": {},
   "source": [
    "#### Compute thermal expansion"
   ]
  },
  {
   "cell_type": "code",
   "execution_count": null,
   "id": "b98b784e-1116-400f-8c10-670115bfbd6c",
   "metadata": {},
   "outputs": [],
   "source": [
    "## specify reference values\n",
    "SA = 25  # g/kg\n",
    "P = 35  # dbar\n",
    "H = 70  # m\n",
    "\n",
    "## reference values for salinity, pressure\n",
    "nyear = len(T_upper.year)\n",
    "sa = SA * np.ones(nyear)\n",
    "p = P * np.ones(nyear)\n",
    "\n",
    "## compute alpha\n",
    "alpha = xr.ones_like(T_upper_mean)\n",
    "alpha.values = gsw.alpha(SA=sa, CT=T_upper_mean.values, p=p)\n",
    "\n",
    "## get fractional change\n",
    "delta_a = src.utils.frac_change(alpha, inv=False)\n",
    "\n",
    "## get scaling factor for RO\n",
    "alpha_scale = alpha.isel(year=0) / alpha\n",
    "\n",
    "## save to file\n",
    "save_fp = pathlib.Path(os.environ[\"SAVE_FP\"], \"cesm_alpha_scale.nc\")\n",
    "if save_fp.is_file():\n",
    "    pass\n",
    "else:\n",
    "    alpha_scale.to_netcdf(save_fp)"
   ]
  },
  {
   "cell_type": "markdown",
   "id": "ab3e4908-4bff-4f6a-b792-5cb436018520",
   "metadata": {},
   "source": [
    "### Plot"
   ]
  },
  {
   "cell_type": "code",
   "execution_count": null,
   "id": "36dcc1e5-a7af-400a-b079-569189cd8df0",
   "metadata": {},
   "outputs": [],
   "source": [
    "fig, ax = plt.subplots(figsize=(4, 3))\n",
    "ax.plot(T_upper.year, delta_a)\n",
    "ax.set_ylabel(\"Frac. change\")\n",
    "plt.show()"
   ]
  },
  {
   "cell_type": "markdown",
   "id": "6f2f1280-3295-417c-bd00-89b3f23e98fc",
   "metadata": {},
   "source": [
    "## $h_w$"
   ]
  },
  {
   "cell_type": "markdown",
   "id": "76a54b65-b041-4a48-8286-da8c75c86d24",
   "metadata": {},
   "source": [
    "### funcs"
   ]
  },
  {
   "cell_type": "code",
   "execution_count": null,
   "id": "c38a66e6-a06e-4e74-bee6-e752e84f0c44",
   "metadata": {},
   "outputs": [],
   "source": [
    "def lon_avg(x, lon_range):\n",
    "    return x.sel(longitude=slice(*lon_range)).mean(\"longitude\")\n",
    "\n",
    "\n",
    "def get_H_metrics(x, lons_e, lons_w):\n",
    "    \"\"\"compute metrics for thermocline\"\"\"\n",
    "\n",
    "    metrics = xr.merge(\n",
    "        [\n",
    "            lon_avg(x, lons_w).rename(\"Hw\"),\n",
    "            lon_avg(x, lons_e).rename(\"He\"),\n",
    "            lon_avg(x, (lons_w[0], lons_e[1])).rename(\"Hbar\"),\n",
    "        ]\n",
    "    )\n",
    "    metrics[\"dHdx\"] = metrics[\"He\"] - metrics[\"Hw\"]\n",
    "\n",
    "    return metrics\n",
    "\n",
    "\n",
    "def frac_change(x, inv=False):\n",
    "    \"\"\"get fractional change\"\"\"\n",
    "\n",
    "    if inv:\n",
    "        x_ = 1 / x\n",
    "    else:\n",
    "        x_ = x\n",
    "\n",
    "    return x_ / x_.isel(year=0) - 1"
   ]
  },
  {
   "cell_type": "markdown",
   "id": "16d484b4-b8e7-4944-bdd8-6f8ac8a039cf",
   "metadata": {},
   "source": [
    "### Load and compute"
   ]
  },
  {
   "cell_type": "code",
   "execution_count": null,
   "id": "eaae11e4-1b7d-40a8-91a6-9d57943c18a2",
   "metadata": {},
   "outputs": [],
   "source": [
    "## specify longitude ranges\n",
    "LONS_W = (140, 210)\n",
    "LONS_E = (210, 270)\n",
    "\n",
    "## get maximum gradient of thermocline data\n",
    "H_mg_forced, _ = src.utils.load_h_data(max_grad=True)\n",
    "\n",
    "## remove first timestep for consistency with other data\n",
    "## (don't do this for v2)\n",
    "# H_mg_forced = H_mg_forced.sel(time=slice(\"1851\", None))\n",
    "\n",
    "## get windowed\n",
    "H_mg_forced = src.utils.get_windowed(H_mg_forced, stride=120)\n",
    "\n",
    "## get metrics\n",
    "H_mg_forced = get_H_metrics(H_mg_forced, lons_w=LONS_W, lons_e=LONS_E)\n",
    "\n",
    "## compute Hbar (use this for scaling)\n",
    "Hbar = H_mg_forced[\"Hbar\"].mean(\"time\")\n",
    "Hbar_scale = Hbar / Hbar.isel(year=0)\n",
    "\n",
    "## load ssh data\n",
    "ssh_w = src.utils.load_cesm_indices()[\"h_w\"].sel(time=slice(\"1851\", None))\n",
    "ssh_w = src.utils.get_windowed(ssh_w, stride=120)\n",
    "\n",
    "## save to file\n",
    "save_fp = pathlib.Path(os.environ[\"SAVE_FP\"], \"cesm_Hbar_scale_v2.nc\")\n",
    "if save_fp.is_file():\n",
    "    pass\n",
    "else:\n",
    "    Hbar_scale.to_netcdf(save_fp)"
   ]
  },
  {
   "cell_type": "code",
   "execution_count": null,
   "id": "baf9c1c5-e451-49b9-84b5-45bed76f8cec",
   "metadata": {},
   "outputs": [],
   "source": [
    "fig, ax = plt.subplots(figsize=(3, 2.5))\n",
    "\n",
    "## plot fractional change in h\n",
    "ax.plot(H_mg_forced.year, frac_change(H_mg_forced[\"Hw\"].mean(\"time\"), inv=True))\n",
    "ax.plot(H_mg_forced.year, frac_change(Hbar, inv=True))\n",
    "\n",
    "## plot change in sigma\n",
    "ax.plot(ssh_w.year, frac_change(ssh_w.std([\"time\", \"member\"])))\n",
    "\n",
    "plt.show()"
   ]
  }
 ],
 "metadata": {
  "kernelspec": {
   "display_name": "Python 3 (ipykernel)",
   "language": "python",
   "name": "python3"
  },
  "language_info": {
   "codemirror_mode": {
    "name": "ipython",
    "version": 3
   },
   "file_extension": ".py",
   "mimetype": "text/x-python",
   "name": "python",
   "nbconvert_exporter": "python",
   "pygments_lexer": "ipython3",
   "version": "3.13.3"
  }
 },
 "nbformat": 4,
 "nbformat_minor": 5
}
