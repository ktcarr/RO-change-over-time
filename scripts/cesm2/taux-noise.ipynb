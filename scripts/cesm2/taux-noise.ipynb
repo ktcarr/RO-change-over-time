{
 "cells": [
  {
   "cell_type": "markdown",
   "id": "deb94a67-76a8-45cf-8184-60be99b5a317",
   "metadata": {},
   "source": [
    "# Diagnose changes-over time in $\\tau_x$ predictability"
   ]
  },
  {
   "cell_type": "markdown",
   "id": "c715b324-dfa7-4e7c-ad95-f48a913d8db3",
   "metadata": {},
   "source": [
    "## Imports"
   ]
  },
  {
   "cell_type": "code",
   "execution_count": null,
   "id": "60ec2f3b-3116-4468-993d-a64c77b7979b",
   "metadata": {},
   "outputs": [],
   "source": [
    "import pandas as pd\n",
    "import matplotlib.pyplot as plt\n",
    "import matplotlib as mpl\n",
    "import cartopy.crs as ccrs\n",
    "import numpy as np\n",
    "import scipy.stats\n",
    "import seaborn as sns\n",
    "import xarray as xr\n",
    "import tqdm\n",
    "import pathlib\n",
    "import cmocean\n",
    "import os\n",
    "import cartopy.util\n",
    "import copy\n",
    "\n",
    "# Import custom modules\n",
    "import src.utils\n",
    "from src.XRO import XRO, xcorr\n",
    "\n",
    "## set plotting specs\n",
    "sns.set(rc={\"axes.facecolor\": \"white\", \"axes.grid\": False})\n",
    "\n",
    "## bump up DPI\n",
    "mpl.rcParams[\"figure.dpi\"] = 100\n",
    "\n",
    "## get filepaths\n",
    "DATA_FP = pathlib.Path(os.environ[\"DATA_FP\"])\n",
    "SAVE_FP = pathlib.Path(os.environ[\"SAVE_FP\"])"
   ]
  },
  {
   "cell_type": "markdown",
   "id": "f83cb084-9afd-4147-a713-457ea62516f9",
   "metadata": {},
   "source": [
    "## Funcs"
   ]
  },
  {
   "cell_type": "code",
   "execution_count": null,
   "id": "db911184-7ebd-4339-bceb-fc81e6fb3f54",
   "metadata": {},
   "outputs": [],
   "source": [
    "def merimean(x):\n",
    "    return x.sel(longitude=slice(130, 280), latitude=slice(-5, 5)).mean(\"latitude\")\n",
    "\n",
    "\n",
    "def plot_cycle_hov(ax, data, amp, is_filled=True, xticks=[190, 240]):\n",
    "    \"\"\"plot data on ax object\"\"\"\n",
    "\n",
    "    ## specify shared kwargs\n",
    "    shared_kwargs = dict(levels=src.utils.make_cb_range(amp, amp / 5), extend=\"both\")\n",
    "\n",
    "    ## specify kwargs\n",
    "    if is_filled:\n",
    "        plot_fn = ax.contourf\n",
    "        kwargs = dict(cmap=\"cmo.balance\")\n",
    "\n",
    "    else:\n",
    "        plot_fn = ax.contour\n",
    "        kwargs = dict(colors=\"k\", linewidths=0.8)\n",
    "\n",
    "    ## average over latitudes (if necessary)\n",
    "    if \"latitude\" in data.coords:\n",
    "        plot_data = merimean(data)\n",
    "    else:\n",
    "        plot_data = data\n",
    "\n",
    "    ## do the plotting\n",
    "    cp = plot_fn(\n",
    "        plot_data.longitude,\n",
    "        plot_data.month,\n",
    "        plot_data,\n",
    "        **kwargs,\n",
    "        **shared_kwargs,\n",
    "    )\n",
    "\n",
    "    ## format ax object\n",
    "    kwargs = dict(c=\"w\", ls=\"--\", lw=1)\n",
    "    ax.set_xlim([130, 280])\n",
    "    ax.set_xlabel(\"Lon\")\n",
    "    ax.set_xticks(xticks)\n",
    "    for tick in xticks:\n",
    "        ax.axvline(tick, **kwargs)\n",
    "\n",
    "    return cp"
   ]
  },
  {
   "cell_type": "markdown",
   "id": "173b2698-8a1c-4796-9bc6-31cbb2ca0fae",
   "metadata": {},
   "source": [
    "## Load data"
   ]
  },
  {
   "cell_type": "code",
   "execution_count": null,
   "id": "6d010e7c-4d6b-44d2-88f3-b9272b897fa9",
   "metadata": {},
   "outputs": [],
   "source": [
    "## T, h\n",
    "Th = src.utils.load_cesm_indices(load_z20=True)\n",
    "\n",
    "## spatial\n",
    "_, anom = src.utils.load_consolidated()\n",
    "anom = anom[[\"taux\", \"taux_comp\"]]\n",
    "\n",
    "## combine data\n",
    "anom = xr.merge([anom, Th]).sel(time=slice(\"1851\", None))\n",
    "\n",
    "## get \"windowed\" data\n",
    "anom = src.utils.get_windowed(anom, stride=120).compute()"
   ]
  },
  {
   "cell_type": "markdown",
   "id": "d642e986-2b51-4002-8159-b41e552c86b2",
   "metadata": {},
   "source": [
    "## Analysis"
   ]
  },
  {
   "cell_type": "markdown",
   "id": "216bf2d7-3bbb-42f9-b103-278192793b64",
   "metadata": {},
   "source": [
    "### Compute skill"
   ]
  },
  {
   "cell_type": "markdown",
   "id": "a2b68169-1f8e-443a-9f8f-37861226a4a2",
   "metadata": {},
   "source": [
    "#### Funcs"
   ]
  },
  {
   "cell_type": "code",
   "execution_count": null,
   "id": "b52c86b8-d3e1-4935-affc-864abb4482b6",
   "metadata": {},
   "outputs": [],
   "source": [
    "def get_recon_error(data):\n",
    "    \"\"\"get reconstruction skill\"\"\"\n",
    "\n",
    "    ## reconstruct correlation\n",
    "    std = src.utils.reconstruct_std(\n",
    "        scores=data[\"taux_recon\"] - data[\"taux\"],\n",
    "        components=data[\"taux_comp\"],\n",
    "    )\n",
    "\n",
    "    return std\n",
    "\n",
    "\n",
    "def get_recon_error_bymonth(data, x_vars=[\"nino34\"], max_order=None):\n",
    "    return eval_metric_bymonth(\n",
    "        data=data, fn=get_recon_error, x_vars=x_vars, max_order=max_order\n",
    "    )\n",
    "\n",
    "\n",
    "def get_recon_skill(data):\n",
    "    \"\"\"get reconstruction skill\"\"\"\n",
    "\n",
    "    ## reconstruct correlation\n",
    "    cov = src.utils.reconstruct_cov_da(\n",
    "        V_x=data[\"taux_recon\"],\n",
    "        V_y=data[\"taux\"],\n",
    "        U_x=data[\"taux_comp\"],\n",
    "        U_y=data[\"taux_comp\"],\n",
    "    )\n",
    "    var = src.utils.reconstruct_var(\n",
    "        scores=data[\"taux\"],\n",
    "        components=data[\"taux_comp\"],\n",
    "    )\n",
    "\n",
    "    return cov / var\n",
    "\n",
    "\n",
    "def eval_metric_bymonth(data, fn, x_vars=[\"nino34\"], max_order=None):\n",
    "    \"\"\"evaluate function by month\"\"\"\n",
    "\n",
    "    ## first, get recon\n",
    "    data[\"taux_recon\"] = get_recon(data, x_vars=x_vars, max_order=max_order)\n",
    "\n",
    "    return data.groupby(\"time.month\").map(fn)\n",
    "\n",
    "\n",
    "def get_recon_skill_bymonth(data, x_vars=[\"nino34\"], max_order=None):\n",
    "    \"\"\"get reconstruction skill by month\"\"\"\n",
    "\n",
    "    return eval_metric_bymonth(\n",
    "        data=data, fn=get_recon_skill, x_vars=x_vars, max_order=max_order\n",
    "    )\n",
    "\n",
    "\n",
    "def regress_helper(data, x_vars=[\"nino34\"]):\n",
    "    \"\"\"fit linear regression model to data\"\"\"\n",
    "\n",
    "    ## get coefficients\n",
    "    coefs = src.utils.regress_xr_proj(data, x_vars=x_vars, y_vars=[\"taux\"])\n",
    "\n",
    "    ## rename variables for mappting\n",
    "    coefs = coefs[\"taux\"].to_dataset(\"j\")\n",
    "\n",
    "    return coefs\n",
    "\n",
    "\n",
    "def regress_helper_harm(data, max_order=3, x_vars=[\"nino34\"]):\n",
    "    \"\"\"do linear regression using harmonics\"\"\"\n",
    "\n",
    "    ## get coefficiennts\n",
    "    coefs = src.utils.regress_harm_wrapper(\n",
    "        data,\n",
    "        y_vars=[\"taux\"],\n",
    "        x_vars=x_vars,\n",
    "        max_order=max_order,\n",
    "    )\n",
    "\n",
    "    ## rename\n",
    "    coefs = coefs[\"taux\"].to_dataset(\"ell\")\n",
    "\n",
    "    return coefs\n",
    "\n",
    "\n",
    "def get_recon(data, x_vars=[\"nino34\"], max_order=None):\n",
    "    \"\"\"Get taux reconstruction.\"\"\"\n",
    "\n",
    "    ## get reconstruction coefficients\n",
    "    if max_order is None:\n",
    "        ## by-month version\n",
    "        m = data.groupby(\"time.month\").map(regress_helper, x_vars=x_vars)\n",
    "\n",
    "    else:\n",
    "        ## harmonic version\n",
    "        m = regress_helper_harm(data, x_vars=x_vars, max_order=max_order)\n",
    "\n",
    "    ## get reconstruction\n",
    "    recon_ = data[x_vars].groupby(\"time.month\") * m\n",
    "    recon = recon_.to_dataarray(dim=\"k\").sum(\"k\")\n",
    "\n",
    "    return recon"
   ]
  },
  {
   "cell_type": "markdown",
   "id": "160b4943-0256-459b-9a27-d86c21c2d9d9",
   "metadata": {},
   "source": [
    "#### Compute"
   ]
  },
  {
   "cell_type": "code",
   "execution_count": null,
   "id": "e3b6f26a-5abf-46d5-bea9-9c186106bcbc",
   "metadata": {},
   "outputs": [],
   "source": [
    "## specify predictor variables to use\n",
    "kwargs = dict(x_vars=[\"T_3\", \"T_34\", \"T_4\"], max_order=3)\n",
    "\n",
    "## set save filepath\n",
    "save_fp = pathlib.Path(\n",
    "    os.environ[\"SAVE_FP\"], f\"taux_skill_ac_order{kwargs['max_order']}.nc\"\n",
    ")\n",
    "\n",
    "if save_fp.is_file():\n",
    "\n",
    "    ## load existing file\n",
    "    res = xr.open_dataset(save_fp)\n",
    "\n",
    "else:\n",
    "    ## empty lists to hold results\n",
    "    r_vals = []\n",
    "    sigma_vals = []\n",
    "\n",
    "    ## loop thru years\n",
    "    for y in tqdm.tqdm(anom.year):\n",
    "\n",
    "        ## get data subset\n",
    "        anom_ = anom.sel(year=y)\n",
    "\n",
    "        ## get skill\n",
    "        r_vals.append(get_recon_skill_bymonth(anom_, **kwargs))\n",
    "\n",
    "        ## get sigma\n",
    "        sigma_vals.append(get_recon_error_bymonth(anom_, **kwargs))\n",
    "\n",
    "    ## append into xr.DataArrays; then merge\n",
    "    sigma_vals = xr.concat(sigma_vals, dim=anom.year)\n",
    "    r_vals = xr.concat(r_vals, dim=anom.year)\n",
    "    res = xr.merge([sigma_vals.rename(\"sigma\"), r_vals.rename(\"r\")])\n",
    "\n",
    "    ## save to file\n",
    "    res.to_netcdf(save_fp)"
   ]
  },
  {
   "cell_type": "markdown",
   "id": "678938f3-5d36-465e-a7dc-a18c00c9d802",
   "metadata": {},
   "source": [
    "### Plot skill"
   ]
  },
  {
   "cell_type": "code",
   "execution_count": null,
   "id": "d0cb7872-b058-4358-a834-e54a9057bb86",
   "metadata": {},
   "outputs": [],
   "source": [
    "## specify years to plot\n",
    "y0 = 1871\n",
    "y1 = 1971"
   ]
  },
  {
   "cell_type": "markdown",
   "id": "ba344be7-526b-4a8f-8432-e83dc96b4e74",
   "metadata": {},
   "source": [
    "#### Hovmollers"
   ]
  },
  {
   "cell_type": "markdown",
   "id": "74a14e54-cf7e-4434-a435-1fcff787af9b",
   "metadata": {},
   "source": [
    "Correlation"
   ]
  },
  {
   "cell_type": "code",
   "execution_count": null,
   "id": "ef172072-71f3-4ac7-b74a-9118d26070e9",
   "metadata": {},
   "outputs": [],
   "source": [
    "## get correlations to plot\n",
    "r0 = res[\"r\"].sel(year=y0)\n",
    "r1 = res[\"r\"].sel(year=y1)\n",
    "DIFF_SCALE = 8\n",
    "\n",
    "## shared args\n",
    "kwargs = dict(amp=0.8, lat_bound=5)\n",
    "\n",
    "fig, axs = plt.subplots(1, 3, figsize=(6, 2.5), layout=\"constrained\")\n",
    "\n",
    "## plot data\n",
    "cp0 = src.utils.make_cycle_hov(axs[0], data=r0, **kwargs)\n",
    "cp1 = src.utils.make_cycle_hov(axs[1], data=r1, **kwargs)\n",
    "cp2 = src.utils.make_cycle_hov(axs[2], data=DIFF_SCALE * (r1 - r0), **kwargs)\n",
    "\n",
    "## make it look nicer\n",
    "cb = fig.colorbar(\n",
    "    cp0,\n",
    "    ax=axs[2],\n",
    "    ticks=[-kwargs[\"amp\"], 0, kwargs[\"amp\"]],\n",
    "    label=\"Corr.\",\n",
    ")\n",
    "src.utils.format_hov_axs(axs)\n",
    "\n",
    "plt.show()"
   ]
  },
  {
   "cell_type": "markdown",
   "id": "2da2700c-bb51-4287-a4d8-372a6a0df162",
   "metadata": {},
   "source": [
    "Error"
   ]
  },
  {
   "cell_type": "code",
   "execution_count": null,
   "id": "dc8d69b4-4d85-4bf7-bb5a-f316d3027386",
   "metadata": {},
   "outputs": [],
   "source": [
    "## get correlations to plot\n",
    "sigma0 = res[\"sigma\"].sel(year=y0)\n",
    "sigma1 = res[\"sigma\"].sel(year=y1)\n",
    "DIFF_SCALE = 8\n",
    "\n",
    "## shared args\n",
    "kwargs = dict(amp=1.2e-2, lat_bound=5)\n",
    "\n",
    "fig, axs = plt.subplots(1, 3, figsize=(6, 2.5), layout=\"constrained\")\n",
    "\n",
    "## plot data\n",
    "cp0 = src.utils.make_cycle_hov(axs[0], data=sigma0, **kwargs)\n",
    "cp1 = src.utils.make_cycle_hov(axs[1], data=sigma1, **kwargs)\n",
    "cp2 = src.utils.make_cycle_hov(axs[2], data=DIFF_SCALE * (sigma0 - sigma1), **kwargs)\n",
    "\n",
    "## make it look nicer\n",
    "cb = fig.colorbar(\n",
    "    cp0,\n",
    "    ax=axs[2],\n",
    "    ticks=[-kwargs[\"amp\"], 0, kwargs[\"amp\"]],\n",
    "    label=\"Pa\",\n",
    ")\n",
    "src.utils.format_hov_axs(axs)\n",
    "\n",
    "plt.show()"
   ]
  },
  {
   "cell_type": "markdown",
   "id": "61a12f21-f1bb-4176-a49f-eeb789446a07",
   "metadata": {},
   "source": [
    "#### Spatial"
   ]
  },
  {
   "cell_type": "code",
   "execution_count": null,
   "id": "1c29b424-c596-4421-8aec-8c7fab1b82c6",
   "metadata": {},
   "outputs": [],
   "source": [
    "## select month\n",
    "sel = lambda x: x[\"r\"].sel(month=5)\n",
    "\n",
    "## set up plot\n",
    "fig = plt.figure(figsize=(7, 3.9), layout=\"constrained\")\n",
    "format_func = lambda ax,: src.utils.plot_setup_pac(ax, max_lat=20)\n",
    "axs = src.utils.subplots_with_proj(fig, nrows=3, ncols=1, format_func=format_func)\n",
    "\n",
    "contour_kwargs = dict(amp=0.8, sel=sel)\n",
    "cp0 = src.utils.make_contour_plot(axs[0, 0], res.sel(year=y0), **contour_kwargs)\n",
    "cp1 = src.utils.make_contour_plot(axs[1, 0], res.sel(year=y1), **contour_kwargs)\n",
    "cp2 = src.utils.make_contour_plot(\n",
    "    axs[2, 0], res.sel(year=y1) - res.sel(year=y0), **dict(contour_kwargs, amp=0.2)\n",
    ")"
   ]
  },
  {
   "cell_type": "code",
   "execution_count": null,
   "id": "d236f678-8cbd-4500-bff3-0e7c264bbf51",
   "metadata": {},
   "outputs": [],
   "source": [
    "## select month\n",
    "sel = lambda x: x[\"sigma\"].sel(month=5)\n",
    "\n",
    "## set up plot\n",
    "fig = plt.figure(figsize=(7, 1.5), layout=\"constrained\")\n",
    "format_func = lambda ax,: src.utils.plot_setup_pac(ax, max_lat=5)\n",
    "axs = src.utils.subplots_with_proj(fig, nrows=3, ncols=1, format_func=format_func)\n",
    "\n",
    "contour_kwargs = dict(amp=1.5e-2, sel=sel)\n",
    "cp0 = src.utils.make_contour_plot(axs[0, 0], res.sel(year=y0), **contour_kwargs)\n",
    "cp1 = src.utils.make_contour_plot(axs[1, 0], res.sel(year=y1), **contour_kwargs)\n",
    "cp2 = src.utils.make_contour_plot(\n",
    "    axs[2, 0], res.sel(year=y0) - res.sel(year=y1), **dict(contour_kwargs, amp=3.75e-3)\n",
    ")"
   ]
  }
 ],
 "metadata": {
  "kernelspec": {
   "display_name": "Python 3 (ipykernel)",
   "language": "python",
   "name": "python3"
  },
  "language_info": {
   "codemirror_mode": {
    "name": "ipython",
    "version": 3
   },
   "file_extension": ".py",
   "mimetype": "text/x-python",
   "name": "python",
   "nbconvert_exporter": "python",
   "pygments_lexer": "ipython3",
   "version": "3.13.3"
  }
 },
 "nbformat": 4,
 "nbformat_minor": 5
}
