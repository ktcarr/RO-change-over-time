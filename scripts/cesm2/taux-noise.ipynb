{
 "cells": [
  {
   "cell_type": "markdown",
   "id": "deb94a67-76a8-45cf-8184-60be99b5a317",
   "metadata": {},
   "source": [
    "# Diagnose changes-over time in $\\tau_x$ predictability"
   ]
  },
  {
   "cell_type": "markdown",
   "id": "c715b324-dfa7-4e7c-ad95-f48a913d8db3",
   "metadata": {},
   "source": [
    "## Imports"
   ]
  },
  {
   "cell_type": "code",
   "execution_count": null,
   "id": "60ec2f3b-3116-4468-993d-a64c77b7979b",
   "metadata": {},
   "outputs": [],
   "source": [
    "import pandas as pd\n",
    "import matplotlib.pyplot as plt\n",
    "import matplotlib as mpl\n",
    "import cartopy.crs as ccrs\n",
    "import numpy as np\n",
    "import scipy.stats\n",
    "import seaborn as sns\n",
    "import xarray as xr\n",
    "import tqdm\n",
    "import pathlib\n",
    "import cmocean\n",
    "import os\n",
    "import cartopy.util\n",
    "import copy\n",
    "\n",
    "# Import custom modules\n",
    "import src.utils\n",
    "from src.XRO import XRO, xcorr\n",
    "\n",
    "## set plotting specs\n",
    "sns.set(rc={\"axes.facecolor\": \"white\", \"axes.grid\": False})\n",
    "\n",
    "## bump up DPI\n",
    "mpl.rcParams[\"figure.dpi\"] = 100\n",
    "\n",
    "## get filepaths\n",
    "DATA_FP = pathlib.Path(os.environ[\"DATA_FP\"])\n",
    "SAVE_FP = pathlib.Path(os.environ[\"SAVE_FP\"])"
   ]
  },
  {
   "cell_type": "markdown",
   "id": "f83cb084-9afd-4147-a713-457ea62516f9",
   "metadata": {},
   "source": [
    "## Funcs"
   ]
  },
  {
   "cell_type": "code",
   "execution_count": null,
   "id": "db911184-7ebd-4339-bceb-fc81e6fb3f54",
   "metadata": {},
   "outputs": [],
   "source": [
    "def merimean(x):\n",
    "    return x.sel(longitude=slice(140, 285), latitude=slice(-5, 5)).mean(\"latitude\")\n",
    "\n",
    "\n",
    "def plot_cycle_hov(ax, data, amp, is_filled=True, xticks=[190, 240]):\n",
    "    \"\"\"plot data on ax object\"\"\"\n",
    "\n",
    "    ## specify shared kwargs\n",
    "    shared_kwargs = dict(levels=src.utils.make_cb_range(amp, amp / 5), extend=\"both\")\n",
    "\n",
    "    ## specify kwargs\n",
    "    if is_filled:\n",
    "        plot_fn = ax.contourf\n",
    "        kwargs = dict(cmap=\"cmo.balance\")\n",
    "\n",
    "    else:\n",
    "        plot_fn = ax.contour\n",
    "        kwargs = dict(colors=\"k\", linewidths=0.8)\n",
    "\n",
    "    ## average over latitudes (if necessary)\n",
    "    if \"latitude\" in data.coords:\n",
    "        plot_data = merimean(data)\n",
    "    else:\n",
    "        plot_data = data\n",
    "\n",
    "    ## do the plotting\n",
    "    cp = plot_fn(\n",
    "        plot_data.longitude,\n",
    "        plot_data.month,\n",
    "        plot_data,\n",
    "        **kwargs,\n",
    "        **shared_kwargs,\n",
    "    )\n",
    "\n",
    "    ## format ax object\n",
    "    kwargs = dict(c=\"w\", ls=\"--\", lw=1)\n",
    "    ax.set_xlim([145, 280])\n",
    "    ax.set_xlabel(\"Lon\")\n",
    "    ax.set_xticks(xticks)\n",
    "    for tick in xticks:\n",
    "        ax.axvline(tick, **kwargs)\n",
    "\n",
    "    return cp"
   ]
  },
  {
   "cell_type": "markdown",
   "id": "173b2698-8a1c-4796-9bc6-31cbb2ca0fae",
   "metadata": {},
   "source": [
    "## Load data"
   ]
  },
  {
   "cell_type": "code",
   "execution_count": null,
   "id": "6d010e7c-4d6b-44d2-88f3-b9272b897fa9",
   "metadata": {},
   "outputs": [],
   "source": [
    "## T, h\n",
    "Th = src.utils.load_cesm_indices(load_z20=True)\n",
    "\n",
    "## spatial\n",
    "_, anom = src.utils.load_consolidated()\n",
    "anom = anom[[\"taux\", \"taux_comp\"]]\n",
    "\n",
    "## combine data\n",
    "anom = xr.merge([anom, Th]).sel(time=slice(\"1851\", None))\n",
    "\n",
    "## get \"windowed\" data\n",
    "anom = src.utils.get_windowed(anom, stride=120).compute()"
   ]
  },
  {
   "cell_type": "markdown",
   "id": "d642e986-2b51-4002-8159-b41e552c86b2",
   "metadata": {},
   "source": [
    "## Analysis"
   ]
  },
  {
   "cell_type": "markdown",
   "id": "216bf2d7-3bbb-42f9-b103-278192793b64",
   "metadata": {},
   "source": [
    "### Compute skill"
   ]
  },
  {
   "cell_type": "markdown",
   "id": "a2b68169-1f8e-443a-9f8f-37861226a4a2",
   "metadata": {},
   "source": [
    "#### Funcs"
   ]
  },
  {
   "cell_type": "code",
   "execution_count": null,
   "id": "b52c86b8-d3e1-4935-affc-864abb4482b6",
   "metadata": {},
   "outputs": [],
   "source": [
    "def regress_helper(data, x_vars=[\"nino34\"]):\n",
    "    \"\"\"fit linear regression model to data\"\"\"\n",
    "\n",
    "    ## get coefficients\n",
    "    coefs = src.utils.regress_xr_proj(data, x_vars=x_vars, y_vars=[\"taux\"])\n",
    "\n",
    "    ## rename variables for mappting\n",
    "    coefs = coefs[\"taux\"].to_dataset(\"j\")\n",
    "\n",
    "    return coefs\n",
    "\n",
    "\n",
    "def get_recon_skill(data, x_vars=[\"nino34\"]):\n",
    "    \"\"\"get reconstruction error\"\"\"\n",
    "\n",
    "    ## get coefficients\n",
    "    m = regress_helper(data, x_vars=x_vars)\n",
    "\n",
    "    ## get reconstruction\n",
    "    recon = (data[x_vars] * m).to_dataarray(dim=\"k\").sum(\"k\")\n",
    "\n",
    "    ## reconstruct correlation\n",
    "    cov = src.utils.reconstruct_cov_da(\n",
    "        V_x=recon,\n",
    "        V_y=data[\"taux\"],\n",
    "        U_x=data[\"taux_comp\"],\n",
    "        U_y=data[\"taux_comp\"],\n",
    "    )\n",
    "    var = src.utils.reconstruct_var(\n",
    "        scores=data[\"taux\"],\n",
    "        components=data[\"taux_comp\"],\n",
    "    )\n",
    "\n",
    "    return cov / var"
   ]
  },
  {
   "cell_type": "markdown",
   "id": "160b4943-0256-459b-9a27-d86c21c2d9d9",
   "metadata": {},
   "source": [
    "#### Compute"
   ]
  },
  {
   "cell_type": "code",
   "execution_count": null,
   "id": "fa4913cc-9061-433a-80e1-57cfd9204fa3",
   "metadata": {},
   "outputs": [],
   "source": [
    "## function to get correlation\n",
    "get_skill = lambda x: x.groupby(\"time.month\").map(get_recon_skill)\n",
    "\n",
    "## then, reconstruct regression coefficient\n",
    "r_early = get_skill(anom.isel(year=0))\n",
    "r_late = get_skill(anom.isel(year=-1))"
   ]
  },
  {
   "cell_type": "markdown",
   "id": "678938f3-5d36-465e-a7dc-a18c00c9d802",
   "metadata": {},
   "source": [
    "### Plot skill"
   ]
  },
  {
   "cell_type": "code",
   "execution_count": null,
   "id": "4f0269da-2423-4432-985b-bca8f8ea3988",
   "metadata": {},
   "outputs": [],
   "source": [
    "fig, axs = plt.subplots(1, 2, figsize=(4, 2.5), layout=\"constrained\")\n",
    "\n",
    "## plot data\n",
    "cp0 = plot_cycle_hov(axs[0], data=r_early, amp=0.8)\n",
    "plot_cycle_hov(axs[0], data=r_late, amp=0.8, is_filled=False)\n",
    "\n",
    "## plot difference\n",
    "cp2 = plot_cycle_hov(axs[1], data=r_late - r_early, amp=0.4)\n",
    "\n",
    "## make it look nicer\n",
    "axs[1].set_yticks([])\n",
    "axs[0].set_yticks([1, 5, 9, 12], labels=[\"Jan\", \"May\", \"Sep\", \"Dec\"])\n",
    "axs[0].set_ylabel(\"Month\")\n",
    "axs[0].set_title(r\"Correlation\")\n",
    "axs[1].set_title(\"Change\")\n",
    "\n",
    "plt.show()"
   ]
  }
 ],
 "metadata": {
  "kernelspec": {
   "display_name": "Python 3 (ipykernel)",
   "language": "python",
   "name": "python3"
  },
  "language_info": {
   "codemirror_mode": {
    "name": "ipython",
    "version": 3
   },
   "file_extension": ".py",
   "mimetype": "text/x-python",
   "name": "python",
   "nbconvert_exporter": "python",
   "pygments_lexer": "ipython3",
   "version": "3.13.3"
  }
 },
 "nbformat": 4,
 "nbformat_minor": 5
}
