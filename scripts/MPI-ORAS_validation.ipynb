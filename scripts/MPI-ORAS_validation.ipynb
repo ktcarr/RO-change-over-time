{
 "cells": [
  {
   "cell_type": "markdown",
   "id": "3b0773d1-0f15-49cf-bd99-88c7602c1671",
   "metadata": {},
   "source": [
    "# MPI–ORAS validation\n",
    "Comparison between MPI climate model and ORAS5"
   ]
  },
  {
   "cell_type": "markdown",
   "id": "ddc9e9a6-847c-4c1c-8746-23d1d8a35ddf",
   "metadata": {},
   "source": [
    "## Imports"
   ]
  },
  {
   "cell_type": "code",
   "execution_count": null,
   "id": "12e41cee-9dc6-4386-b7fa-a7e8c0876353",
   "metadata": {},
   "outputs": [],
   "source": [
    "import warnings\n",
    "import datetime\n",
    "import matplotlib\n",
    "import matplotlib.pyplot as plt\n",
    "import matplotlib as mpl\n",
    "import cartopy.crs as ccrs\n",
    "import numpy as np\n",
    "import seaborn as sns\n",
    "import xarray as xr\n",
    "import tqdm\n",
    "import pathlib\n",
    "import cmocean\n",
    "import pandas as pd\n",
    "import os\n",
    "import scipy.stats\n",
    "import calendar\n",
    "\n",
    "# import cartopy.util\n",
    "\n",
    "# Import custom modules\n",
    "from src.XRO import XRO, xcorr\n",
    "import src.XRO_utils\n",
    "import src.utils\n",
    "\n",
    "## set plotting specs\n",
    "sns.set(rc={\"axes.facecolor\": \"white\", \"axes.grid\": False})\n",
    "\n",
    "## bump up DPI\n",
    "mpl.rcParams[\"figure.dpi\"] = 100\n",
    "\n",
    "## get filepaths\n",
    "DATA_FP = pathlib.Path(os.environ[\"DATA_FP\"])\n",
    "SAVE_FP = pathlib.Path(os.environ[\"SAVE_FP\"])"
   ]
  },
  {
   "cell_type": "markdown",
   "id": "5f6733d1-39c4-4dbc-9fbe-76771bb16315",
   "metadata": {},
   "source": [
    "## $T, h$ metrics"
   ]
  },
  {
   "cell_type": "markdown",
   "id": "f13a3905-0610-41c1-9e2e-a57c99b14d04",
   "metadata": {},
   "source": [
    "### Load data"
   ]
  },
  {
   "cell_type": "code",
   "execution_count": null,
   "id": "f94e7f0e-840b-4164-90cf-2c41881db6a3",
   "metadata": {},
   "outputs": [],
   "source": [
    "## MPI data\n",
    "mpi_load_fp = pathlib.Path(DATA_FP, \"mpi_Th\", \"Th.nc\")\n",
    "Th_mpi = xr.open_dataset(mpi_load_fp)\n",
    "\n",
    "## ORAS5 reanalysis (use as benchmark)\n",
    "oras_load_fp = pathlib.Path(DATA_FP, \"XRO_indices_oras5.nc\")\n",
    "Th_oras = xr.open_dataset(oras_load_fp)\n",
    "\n",
    "## rename variables for consistency and trim so time periods covered are the same\n",
    "Th_mpi = Th_mpi.sel(time=slice(\"1979\", \"2024\"))\n",
    "Th_oras = Th_oras[[\"Nino34\", \"WWV\"]].rename({\"Nino34\": \"T_34\", \"WWV\": \"h\"})"
   ]
  },
  {
   "cell_type": "markdown",
   "id": "c32d1579-62b8-422a-9464-da9c06de44fd",
   "metadata": {},
   "source": [
    "### Diagnostics"
   ]
  },
  {
   "cell_type": "markdown",
   "id": "151ed97b-c925-4fee-bf2b-781a80a9bca7",
   "metadata": {},
   "source": [
    "#### Seasonal synchronization"
   ]
  },
  {
   "cell_type": "code",
   "execution_count": null,
   "id": "004c49c2-0b89-47f1-b4d8-1f9dcb714829",
   "metadata": {},
   "outputs": [],
   "source": [
    "## specify which \"T\" variable to use for MPI\n",
    "T_var_mpi = \"T_34\"\n",
    "\n",
    "## func to compute std dev as a function of month\n",
    "get_std = lambda x: x.groupby(\"time.month\").std(\"time\")\n",
    "\n",
    "## compute std for each dataset\n",
    "oras_std = get_std(Th_oras[\"T_34\"])\n",
    "mpi_std = get_std(Th_mpi[T_var_mpi])\n",
    "mpi_std_plot = src.utils.get_ensemble_stats(mpi_std)\n",
    "\n",
    "## months (x-coordinate for plotting\n",
    "months = np.arange(1, 13)\n",
    "\n",
    "### Set up plot\n",
    "fig, ax = plt.subplots(figsize=(4, 3))\n",
    "\n",
    "## plot for ORAS5\n",
    "oras_plot = ax.plot(months, oras_std, label=\"ORAS5\")\n",
    "\n",
    "## plot MPI ensemble mean\n",
    "mpi_plot = ax.plot(months, mpi_std_plot.sel(posn=\"center\"), label=\"MPI\")\n",
    "\n",
    "## plot MPI bounds\n",
    "kwargs = dict(c=mpi_plot[0].get_color(), ls=\"--\", lw=1)\n",
    "for bound in [\"upper\", \"lower\"]:\n",
    "    ax.plot(months, mpi_std_plot.sel(posn=bound), **kwargs)\n",
    "\n",
    "## adjust limits and label\n",
    "ax.set_ylim([0.4, None])\n",
    "ax.set_yticks([0.5, 1])\n",
    "ax.set_xticks([1, 5, 12], labels=[\"Jan\", \"May\", \"Dec\"])\n",
    "ax.set_xlabel(\"Month\")\n",
    "ax.set_ylabel(f\"$\\\\sigma(T)$\")\n",
    "ax.set_title(\"Seasonal synchronization (Niño 3.4)\")\n",
    "ax.legend()\n",
    "plt.show()"
   ]
  },
  {
   "cell_type": "markdown",
   "id": "845741ff-7c3b-467d-8ca3-bba5198a8995",
   "metadata": {},
   "source": [
    "#### $T,h$ cross-correlation"
   ]
  },
  {
   "cell_type": "markdown",
   "id": "fd32fe27-141a-46b4-85e4-74b9d34934ed",
   "metadata": {},
   "source": [
    "Plotting funcs"
   ]
  },
  {
   "cell_type": "code",
   "execution_count": null,
   "id": "9481d0cc-0abc-4f27-b895-ce4dc3bbb21f",
   "metadata": {},
   "outputs": [],
   "source": [
    "def format_axs(axs):\n",
    "    ## add axis lines to plots\n",
    "    axis_kwargs = dict(c=\"k\", lw=0.5, alpha=0.5)\n",
    "    for ax in axs.flatten():\n",
    "        ax.axhline(0, **axis_kwargs)\n",
    "        ax.axvline(0, **axis_kwargs)\n",
    "        ax.set_ylim([-0.7, 1.1])\n",
    "\n",
    "    #### label plots\n",
    "\n",
    "    ## bottom row\n",
    "    for ax in axs[1]:\n",
    "        ax.set_xlabel(\"Lag (years)\")\n",
    "        ax.set_xticks([-12, 0, 12], labels=[-1, 0, 1])\n",
    "\n",
    "    ## top row\n",
    "    for ax in axs[0]:\n",
    "        ax.set_xticks([])\n",
    "\n",
    "    ## left col\n",
    "    for ax in axs[:, 0]:\n",
    "        ax.set_ylabel(\"Correlation\")\n",
    "\n",
    "    ## right col\n",
    "    for ax in axs[:, 1]:\n",
    "        ax.set_yticks([])\n",
    "\n",
    "    return axs\n",
    "\n",
    "\n",
    "def plot_oras(ax, data, color, label=None):\n",
    "    \"\"\"Plot curve for oras\"\"\"\n",
    "\n",
    "    ax.plot(data.lag, data, c=color, label=label, ls=\"--\")\n",
    "\n",
    "    return\n",
    "\n",
    "\n",
    "def plot_mpi(ax, data, color, label=None):\n",
    "    \"\"\"plot mean and bounds for MPI\"\"\"\n",
    "\n",
    "    ## center\n",
    "    ax.plot(\n",
    "        data.lag,\n",
    "        data.sel(posn=\"center\"),\n",
    "        c=color,\n",
    "        label=label,\n",
    "    )\n",
    "\n",
    "    ## bounds\n",
    "    ax.fill_between(\n",
    "        data.lag, data.sel(posn=\"upper\"), data.sel(posn=\"lower\"), color=color, alpha=0.2\n",
    "    )\n",
    "\n",
    "    return"
   ]
  },
  {
   "cell_type": "markdown",
   "id": "58ceac1c-79cf-4f53-8c0a-b1d715956dd6",
   "metadata": {},
   "source": [
    "Compute stats"
   ]
  },
  {
   "cell_type": "code",
   "execution_count": null,
   "id": "5bb8fdf4-846a-48b7-b37f-56523041088b",
   "metadata": {},
   "outputs": [],
   "source": [
    "## specify which \"T\" variable to use for MPI\n",
    "T_var_mpi = \"T_34\"\n",
    "h_var_mpi = \"h\"\n",
    "\n",
    "## compute cross-correlation\n",
    "xcorr_oras = xcorr(Th_oras, Th_oras[\"T_34\"], maxlags=18)\n",
    "xcorr_mpi = xcorr(Th_mpi, Th_mpi[T_var_mpi], maxlags=18)\n",
    "\n",
    "## compute MPI stats\n",
    "xcorr_mpi_stats = src.utils.get_ensemble_stats(xcorr_mpi)"
   ]
  },
  {
   "cell_type": "markdown",
   "id": "db2e4fe1-81cc-4baf-a126-313183c5382d",
   "metadata": {},
   "source": [
    "Make plot"
   ]
  },
  {
   "cell_type": "code",
   "execution_count": null,
   "id": "545c37e0-63b0-4040-bfb0-74ab56527b0f",
   "metadata": {},
   "outputs": [],
   "source": [
    "## specify plot properties for legend\n",
    "legend_prop = dict(size=7)\n",
    "\n",
    "fig, axs = plt.subplots(2, 2, figsize=(6, 5), layout=\"constrained\")\n",
    "\n",
    "## plot <T,T>\n",
    "axs[0, 0].set_title(r\"$<T, T>$\")\n",
    "plot_oras(axs[0, 0], xcorr_oras[\"T_34\"], color=\"r\", label=\"ORAS5\")\n",
    "plot_mpi(axs[0, 0], xcorr_mpi_stats[T_var_mpi], color=\"r\", label=\"MPI\")\n",
    "\n",
    "## plot <T,h>\n",
    "axs[0, 1].set_title(r\"$<T, h>$\")\n",
    "plot_oras(axs[0, 1], xcorr_oras[\"h\"], color=\"k\", label=\"ORAS5\")\n",
    "plot_mpi(axs[0, 1], xcorr_mpi_stats[h_var_mpi], color=\"k\", label=\"MPI\")\n",
    "\n",
    "## plot for ORAS5\n",
    "axs[1, 0].set_title(\"ORAS5\")\n",
    "plot_oras(axs[1, 0], xcorr_oras[\"T_34\"], color=\"r\", label=\"$<T, T>$\")\n",
    "plot_oras(axs[1, 0], xcorr_oras[\"h\"], color=\"k\", label=\"$<T, h>$\")\n",
    "\n",
    "## plot for MPI\n",
    "axs[1, 1].set_title(\"MPI\")\n",
    "plot_mpi(axs[1, 1], xcorr_mpi_stats[T_var_mpi], color=\"r\", label=\"$<T, T>$\")\n",
    "plot_mpi(axs[1, 1], xcorr_mpi_stats[h_var_mpi], color=\"k\", label=\"$<T, h>$\")\n",
    "\n",
    "## clean up axes\n",
    "axs = format_axs(axs)\n",
    "\n",
    "for ax in axs.flatten():\n",
    "    ax.legend(prop=dict(size=7))\n",
    "\n",
    "plt.show()"
   ]
  },
  {
   "cell_type": "markdown",
   "id": "b6c41bee-94bb-4185-8128-9b11157096cc",
   "metadata": {},
   "source": [
    "#### Power spectrum"
   ]
  },
  {
   "cell_type": "markdown",
   "id": "6487bfe0-f5f4-47ed-b6f0-2eb399674e95",
   "metadata": {},
   "source": [
    "Compute"
   ]
  },
  {
   "cell_type": "code",
   "execution_count": null,
   "id": "baf6b85d-55c3-4008-b5fe-a4fde7ec5500",
   "metadata": {},
   "outputs": [],
   "source": [
    "## specify which variable to use\n",
    "varname = \"T_34\"\n",
    "\n",
    "## specify args for psd\n",
    "psd_kwargs = dict(dim=\"time\", dt=1 / 12, nw=5)\n",
    "\n",
    "## compute PSD\n",
    "compute_psd = lambda x: src.XRO_utils.pmtm(x[varname], **psd_kwargs)\n",
    "psd_oras = compute_psd(Th_oras)\n",
    "psd_mpi = compute_psd(Th_mpi)"
   ]
  },
  {
   "cell_type": "markdown",
   "id": "57391fc7-0c8b-476c-89d0-0d3c2bf84c9f",
   "metadata": {},
   "source": [
    "Make plot"
   ]
  },
  {
   "cell_type": "code",
   "execution_count": null,
   "id": "da3ad682-4cc0-47b1-9334-54250ce18f6c",
   "metadata": {},
   "outputs": [],
   "source": [
    "fig, ax = plt.subplots(figsize=(3, 2.5), layout=\"constrained\")\n",
    "\n",
    "## plot data\n",
    "src.utils.plot_psd(ax, psd_oras, label=\"ORAS5\")\n",
    "src.utils.plot_psd(ax, psd_mpi, label=\"MPI\")\n",
    "\n",
    "## label\n",
    "ax.set_ylabel(r\"PSD ($^{\\circ}$C$^2$/cpm)\")\n",
    "ax.legend(prop=dict(size=6))\n",
    "\n",
    "\n",
    "plt.show()"
   ]
  },
  {
   "cell_type": "markdown",
   "id": "85ccd28b-3ca7-43e1-9f7c-a4b59a2ea8ef",
   "metadata": {},
   "source": [
    "#### PDF / Skewness"
   ]
  },
  {
   "cell_type": "code",
   "execution_count": null,
   "id": "5e265ca4-6c8f-44b3-bf6e-ac76af03d324",
   "metadata": {},
   "outputs": [],
   "source": [
    "## select variables to compare\n",
    "time_idx = dict(time=slice(None, None, None))\n",
    "mpi_var = \"T_34\"\n",
    "oras_var = \"T_34\"\n",
    "\n",
    "## edges for PDF\n",
    "edges = np.arange(-3.4, 3.8, 0.4)\n",
    "\n",
    "## extract relevant data\n",
    "x_mpi = Th_mpi[mpi_var].isel(time_idx).values.flatten()\n",
    "x_oras = Th_oras[oras_var].isel(time_idx).values.flatten()\n",
    "\n",
    "## compute and plot pdf\n",
    "pdf_mpi, _ = src.utils.get_empirical_pdf(x_mpi, edges=edges)\n",
    "pdf_oras, _ = src.utils.get_empirical_pdf(x_oras, edges=edges)\n",
    "\n",
    "## compute skewness\n",
    "skew_mpi = scipy.stats.skew(x_mpi)\n",
    "skew_oras = scipy.stats.skew(x_oras)\n",
    "\n",
    "## get gaussian best fit to obs.\n",
    "pdf_gauss, pdf_gauss_pts = src.utils.get_gaussian_best_fit(x_oras)\n",
    "\n",
    "## set up plot\n",
    "fig, ax = plt.subplots(figsize=(4, 3))\n",
    "\n",
    "## plot pdf\n",
    "ax.stairs(pdf_mpi, edges, fill=True, alpha=0.3, label=f\"MPI (skew = {skew_mpi:.2f})\")\n",
    "ax.stairs(pdf_oras, edges, color=\"r\", lw=1.5, label=f\"ORAS (skew = {skew_oras:.2f})\")\n",
    "\n",
    "## plot gaussian best fit\n",
    "ax.plot(pdf_gauss_pts, pdf_gauss, c=\"k\", lw=1)\n",
    "\n",
    "## label\n",
    "ax.legend(prop=dict(size=8))\n",
    "ax.set_xlabel(r\"$^{\\circ}C$\")\n",
    "ax.set_ylabel(\"Prob. density\")\n",
    "\n",
    "plt.show()"
   ]
  },
  {
   "cell_type": "markdown",
   "id": "6ada2502-4858-4b96-b542-52297995097a",
   "metadata": {},
   "source": [
    "### RO-based diagnostics\n",
    "Note: need to non-dimensionalize $T$ and $h$ data to compare $F_1$ and $F_2$ parameters to each other and to $R$ and $\\epsilon$"
   ]
  },
  {
   "cell_type": "code",
   "execution_count": null,
   "id": "20304ec5-7d5f-4f18-bbad-342932cc8b22",
   "metadata": {},
   "outputs": [],
   "source": [
    "## get non-dimensional scale for each variable (specific to each dataset)\n",
    "scale_oras = Th_oras.std()\n",
    "scale_mpi = Th_mpi.std()\n",
    "\n",
    "## non-dimensionalize\n",
    "Th_oras_nondim = Th_oras / scale_oras\n",
    "Th_mpi_nondim = Th_mpi / scale_mpi"
   ]
  },
  {
   "cell_type": "code",
   "execution_count": null,
   "id": "05fe03a6-1a83-434e-b8b1-03ecc757da79",
   "metadata": {},
   "outputs": [],
   "source": [
    "def plot_param_ensemble(ax, param, label=None):\n",
    "    \"\"\"plot ensemble of parameters on given ax object\"\"\"\n",
    "\n",
    "    ## specify plot style for ensemble mean v. members\n",
    "    mean_kwargs = dict(c=\"k\", lw=3, label=label)\n",
    "    mem_kwargs = dict(c=\"k\", lw=0.5, alpha=0.2)\n",
    "\n",
    "    ## plot ensemble mean\n",
    "    ax.plot(param.cycle, param.mean(\"member\"), **mean_kwargs)\n",
    "\n",
    "    ## plot individual members\n",
    "    for m in param.member:\n",
    "        ax.plot(param.cycle, param.sel(member=m), **mem_kwargs)\n",
    "\n",
    "    return\n",
    "\n",
    "\n",
    "def plot_param(ax, param, **plot_kwargs):\n",
    "    \"\"\"plot parameter on given ax object\"\"\"\n",
    "\n",
    "    ax.plot(param.cycle, param, **plot_kwargs)\n",
    "\n",
    "\n",
    "def label_ac_ax(ax):\n",
    "    \"\"\"add labels to growth rate annual cycle plot (ax object)\"\"\"\n",
    "\n",
    "    ax.set_ylabel(r\"Growth rate (yr$^{-1}$)\")\n",
    "    ax.axhline(0, c=\"k\", ls=\"-\", lw=0.5)\n",
    "    ax.set_xticks([1, 8, 12], labels=[\"Jan\", \"Aug\", \"Dec\"])\n",
    "\n",
    "    return"
   ]
  },
  {
   "cell_type": "markdown",
   "id": "67dbe61c-5e20-4afb-9433-47c53f58a586",
   "metadata": {},
   "source": [
    "#### Growth rate / periodicity"
   ]
  },
  {
   "cell_type": "markdown",
   "id": "c928ca30-246e-4f83-9f1b-ad3e401ef9ab",
   "metadata": {},
   "source": [
    "Do the computation"
   ]
  },
  {
   "cell_type": "code",
   "execution_count": null,
   "id": "3956efa4-890f-4df5-8eb6-dcd354441468",
   "metadata": {},
   "outputs": [],
   "source": [
    "## specify T and h variables to use for MPI\n",
    "T_var_mpi = \"T_34\"\n",
    "h_var_mpi = \"h\"\n",
    "\n",
    "## specify order of annual cycle\n",
    "ac_order = 3\n",
    "\n",
    "## specify which parameters to mask annual cycle out for [(y_idx0, x_idx0), ...]\n",
    "ac_mask_idx = [(1, 1)]\n",
    "# ac_mask_idx = None\n",
    "\n",
    "## initialize model\n",
    "model = XRO(ncycle=12, ac_order=ac_order, is_forward=True)\n",
    "\n",
    "## get fit for reanalysis\n",
    "fit_oras = model.fit_matrix(Th_oras_nondim[[\"T_34\", \"h\"]], ac_mask_idx=ac_mask_idx)\n",
    "\n",
    "## get fit for MPI (ensemble-of-RO method)\n",
    "_, fit_mpi = src.utils.get_RO_ensemble(\n",
    "    Th_mpi_nondim,\n",
    "    model=model,\n",
    "    T_var=T_var_mpi,\n",
    "    h_var=h_var_mpi,\n",
    "    ac_mask_idx=ac_mask_idx,\n",
    ")\n",
    "\n",
    "## get fit for MPI (ensemble fit)\n",
    "fit_mpi_all = model.fit_matrix(\n",
    "    Th_mpi_nondim[[T_var_mpi, h_var_mpi]],\n",
    "    ac_mask_idx=ac_mask_idx,  # , maskNT=['T2', 'TH'],\n",
    ")\n",
    "\n",
    "## compute timescales for each\n",
    "bj_oras, period_oras = src.utils.get_timescales(model, fit_oras)\n",
    "bj_mpi, period_mpi = src.utils.get_timescales_ensemble(model, fit_mpi)\n",
    "bj_mpi_all, period_mpi_all = src.utils.get_timescales(model, fit_mpi_all)\n",
    "\n",
    "## get PDF for period\n",
    "pdf, edges = src.utils.get_empirical_pdf(period_mpi, edges=np.arange(2, 8, 1 / 3))"
   ]
  },
  {
   "cell_type": "code",
   "execution_count": null,
   "id": "e2d17d42-2014-4ddb-9662-13b0ba8e07a8",
   "metadata": {},
   "outputs": [],
   "source": [
    "fig, axs = plt.subplots(1, 2, figsize=(7, 3), layout=\"constrained\")\n",
    "\n",
    "### plot seasonal cycle of growth rate\n",
    "# MPI: ensemble and ensemble mean\n",
    "plot_param_ensemble(axs[0], bj_mpi, label=\"MPI (ensemble mean)\")\n",
    "\n",
    "# MPI: fit to all ensemble members\n",
    "plot_kwargs = dict(c=\"r\", ls=\"-\", lw=2, label=\"MPI (ensemble fit)\")\n",
    "plot_param(axs[0], bj_mpi_all, **plot_kwargs)\n",
    "\n",
    "# ORAS5\n",
    "plot_kwargs = dict(c=\"k\", ls=\"--\", lw=2, label=\"ORAS5\")\n",
    "plot_param(axs[0], bj_oras, **plot_kwargs)\n",
    "axs[0].legend(prop=dict(size=8))\n",
    "\n",
    "## label axes\n",
    "label_ac_ax(axs[0])\n",
    "\n",
    "## plot period\n",
    "axs[1].stairs(pdf, edges, color=\"k\", label=\"MPI (PDF)\")\n",
    "axs[1].axvline(period_oras, c=\"k\", ls=\"--\", lw=2, label=\"ORAS5\")\n",
    "axs[1].axvline(period_mpi_all, c=\"r\", ls=\"-\", lw=2, label=\"MPI (ensemble fit)\")\n",
    "axs[1].axvline(period_mpi.mean(), c=\"k\", lw=2, label=\"MPI (PDF mean)\")\n",
    "axs[1].set_xlim([2, None])\n",
    "axs[1].set_yticks([])\n",
    "axs[1].set_xlabel(\"Period (yrs)\")\n",
    "axs[1].legend(prop=dict(size=8))\n",
    "\n",
    "plt.show()"
   ]
  },
  {
   "cell_type": "markdown",
   "id": "864fafdd-dfa2-457e-80d1-f143b78c89b6",
   "metadata": {},
   "source": [
    "#### Parameters"
   ]
  },
  {
   "cell_type": "code",
   "execution_count": null,
   "id": "a2ea0faa-26b3-46b2-b06d-c50807d591a1",
   "metadata": {},
   "outputs": [],
   "source": [
    "## Get parameters for ORAS and MPI\n",
    "params_oras = model.get_RO_parameters(fit_oras)\n",
    "params_mpi = model.get_RO_parameters(fit_mpi)\n",
    "params_mpi_all = model.get_RO_parameters(fit_mpi_all)\n",
    "\n",
    "## get labels of parameters for plotting\n",
    "labels = [r\"$R$\", r\"$F_1$\", r\"$F_2$\", r\"$\\epsilon$\"]\n",
    "var_names = [\"R\", \"F1\", \"F2\", \"epsilon\"]\n",
    "\n",
    "## set up plot\n",
    "fig, axs = plt.subplots(2, 2, figsize=(7, 6), layout=\"constrained\")\n",
    "\n",
    "## separate plo for each set of parameters\n",
    "for i, (ax, label, n) in enumerate(zip(axs.flatten(), labels, var_names)):\n",
    "\n",
    "    ### plot seasonal cycle parameter for each\n",
    "    plot_param_ensemble(ax, params_mpi[n], label=\"MPI (ensemble mean)\")\n",
    "    plot_param(ax, params_mpi_all[n], c=\"r\", lw=2, label=\"MPI (ensemble fit)\")\n",
    "    plot_param(ax, params_oras[n], c=\"k\", ls=\"--\", lw=2, label=\"ORAS\")\n",
    "    ax.set_title(label)\n",
    "    ax.set_ylim([-3, 5])\n",
    "    label_ac_ax(ax)\n",
    "\n",
    "## make plot less clustered\n",
    "for ax in axs[0, :]:\n",
    "    ax.set_xlabel(None)\n",
    "    ax.set_xticks([])\n",
    "for ax in axs[:, 1]:\n",
    "    ax.set_ylabel(None)\n",
    "    ax.set_yticks([])\n",
    "for ax in axs[:, 0]:\n",
    "    ax.set_yticks([-2, 0, 2, 4])\n",
    "\n",
    "axs[0, 0].legend(prop=dict(size=8))\n",
    "plt.show()"
   ]
  },
  {
   "cell_type": "markdown",
   "id": "8f8fb858-7276-43d3-b789-1f3d8890fcb7",
   "metadata": {},
   "source": [
    "## Spatial data"
   ]
  },
  {
   "cell_type": "markdown",
   "id": "59a52d3b-cfb6-437d-a724-c5a7a9a11118",
   "metadata": {},
   "source": [
    "#### Load ORAS5 data and compute anomalies"
   ]
  },
  {
   "cell_type": "code",
   "execution_count": null,
   "id": "37879476-3519-4084-a22f-38112a23282a",
   "metadata": {},
   "outputs": [],
   "source": [
    "## load data\n",
    "data_oras = src.utils.load_oras_spatial_extended(\n",
    "    DATA_FP / \"oras5\", varnames=[\"tos\", \"ssh\"]\n",
    ")\n",
    "\n",
    "## Convert ssh in ORAS from m to cm\n",
    "data_oras[\"ssh\"].values *= 100\n",
    "\n",
    "## estimate forced signal by removing 2nd-order polynomial from each calendar month\n",
    "detrend_fn = lambda x: src.utils.detrend_dim(x, dim=\"time\", deg=2)\n",
    "oras_anom = data_oras.groupby(\"time.month\").map(detrend_fn)\n",
    "oras_forced = data_oras - oras_anom"
   ]
  },
  {
   "cell_type": "markdown",
   "id": "769655cd-2268-42a5-b68a-cb6900d3a49d",
   "metadata": {},
   "source": [
    "### Load MPI data and compute anomalies"
   ]
  },
  {
   "cell_type": "code",
   "execution_count": null,
   "id": "0a908461-98f7-4006-a992-1d6a2415c8f2",
   "metadata": {},
   "outputs": [],
   "source": [
    "## Load EOF data\n",
    "eofs_fp = pathlib.Path(DATA_FP, \"mpi\", \"eofs300\")\n",
    "eofs_sst = src.utils.load_eofs(eofs_fp / \"ts.nc\")\n",
    "eofs_ssh = src.utils.load_eofs(eofs_fp / \"ssh.nc\")\n",
    "\n",
    "## for convenience, put spatial patterns in single dataset\n",
    "components = xr.merge(\n",
    "    [eofs_sst.components().rename(\"sst\"), eofs_ssh.components().rename(\"ssh\")]\n",
    ")\n",
    "\n",
    "## for convenience, put PC data into single dataset\n",
    "pc_data = xr.merge([eofs_sst.scores().rename(\"sst\"), eofs_ssh.scores().rename(\"ssh\")])\n",
    "\n",
    "## trim to same period as ORAS\n",
    "yr_range = data_oras.time.dt.year.values[[0, -1]]\n",
    "pc_data = pc_data.sel(time=slice(str(yr_range[0]), str(yr_range[1])))\n",
    "pc_data[\"time\"] = oras_anom.time\n",
    "\n",
    "## estimate forced signal\n",
    "forced = pc_data.mean(\"member\")\n",
    "anom = pc_data - forced"
   ]
  },
  {
   "cell_type": "markdown",
   "id": "067db301-4c46-45a3-a374-faa80b30649b",
   "metadata": {},
   "source": [
    "### Mean"
   ]
  },
  {
   "cell_type": "markdown",
   "id": "0162a59a-f269-415f-b85c-6258e5d142a4",
   "metadata": {},
   "source": [
    "#### Compute"
   ]
  },
  {
   "cell_type": "code",
   "execution_count": null,
   "id": "bd12bd54-2dec-4424-9ac3-35923c303fcc",
   "metadata": {},
   "outputs": [],
   "source": [
    "## compute time-mean for ORAS\n",
    "mean_oras = oras_forced.mean(\"time\")\n",
    "\n",
    "## compute time-mean for MPI\n",
    "mean_mpi = forced.mean(\"time\")\n",
    "mean_mpi_spatial = xr.merge(\n",
    "    [\n",
    "        eofs_sst.inverse_transform(mean_mpi[\"sst\"]).rename(\"sst\"),\n",
    "        eofs_ssh.inverse_transform(mean_mpi[\"ssh\"]).rename(\"ssh\"),\n",
    "    ]\n",
    ")\n",
    "\n",
    "## interpolate to match ORAS grid\n",
    "mean_mpi_spatial = mean_mpi_spatial.interp_like(mean_oras)\n",
    "\n",
    "## compute absolute bias\n",
    "bias = mean_mpi_spatial - mean_oras"
   ]
  },
  {
   "cell_type": "markdown",
   "id": "a083149a-0a15-476a-bda3-9470d2439c6a",
   "metadata": {},
   "source": [
    "#### Plot"
   ]
  },
  {
   "cell_type": "code",
   "execution_count": null,
   "id": "8585f78f-0f46-420e-a077-a9028f1addfd",
   "metadata": {},
   "outputs": [],
   "source": [
    "## get lon and lat for convenience\n",
    "lon = mean_oras.longitude\n",
    "lat = mean_oras.latitude\n",
    "\n",
    "## specify plotting styles for bias and ground truth\n",
    "bias_kwargs = dict(\n",
    "    cmap=\"cmo.balance\",\n",
    "    levels=src.utils.make_cb_range(3, 0.3),\n",
    "    transform=ccrs.PlateCarree(),\n",
    "    extend=\"both\",\n",
    "    alpha=1,\n",
    ")\n",
    "\n",
    "truth_kwargs = dict(\n",
    "    levels=10,\n",
    "    transform=ccrs.PlateCarree(),\n",
    "    extend=\"both\",\n",
    "    linewidths=0.7,\n",
    "    colors=\"k\",\n",
    "    alpha=0.5,\n",
    ")\n",
    "\n",
    "## set up the plot\n",
    "fig = plt.figure(figsize=(5, 1.5), layout=\"constrained\")\n",
    "ax = src.utils.plot_setup(fig, lon_range=[100, 300], lat_range=[-30, 30])\n",
    "ax.set_title(\"SST bias\")\n",
    "\n",
    "## plot bias\n",
    "plot_data = ax.contourf(lon, lat, bias[\"sst\"], **bias_kwargs)\n",
    "cb = fig.colorbar(plot_data, ticks=[-3, 0, 3], label=r\"$^{\\circ}$C\")\n",
    "\n",
    "## plot \"true\" mean state\n",
    "plot_data = ax.contour(lon, lat, mean_oras[\"sst\"], **truth_kwargs)\n",
    "\n",
    "plt.show()"
   ]
  },
  {
   "cell_type": "markdown",
   "id": "3b6b885c-3b48-462e-b207-049d57eba1f9",
   "metadata": {},
   "source": [
    "### Spatial variance"
   ]
  },
  {
   "cell_type": "markdown",
   "id": "1bdeaff3-6ac9-48af-9b76-17b772927574",
   "metadata": {},
   "source": [
    "#### Compute"
   ]
  },
  {
   "cell_type": "code",
   "execution_count": null,
   "id": "e46ca819-df07-48c3-bb23-7976098dd2d7",
   "metadata": {},
   "outputs": [],
   "source": [
    "## subset for month if desired\n",
    "months = None\n",
    "\n",
    "## subset data\n",
    "oras_anom_ = src.utils.sel_month(oras_anom, months)\n",
    "anom_ = src.utils.sel_month(anom, months)\n",
    "\n",
    "## compute for ORAS\n",
    "var_oras = oras_anom_.var(\"time\")\n",
    "\n",
    "## compute for MPI\n",
    "var_mpi = src.utils.reconstruct_var(scores=anom_, components=components)\n",
    "\n",
    "## interpolate to same grid\n",
    "var_mpi = var_mpi.interp_like(var_oras)\n",
    "\n",
    "## compute bias\n",
    "bias = var_mpi - var_oras"
   ]
  },
  {
   "cell_type": "markdown",
   "id": "e96bf11e-47b8-43b2-8e18-efc645101ded",
   "metadata": {},
   "source": [
    "#### Plot (large scale)"
   ]
  },
  {
   "cell_type": "code",
   "execution_count": null,
   "id": "e041821e-04fd-420c-ad34-6d4fdcd17723",
   "metadata": {},
   "outputs": [],
   "source": [
    "def plot_var(x0, x1, amp, amp_diff, label):\n",
    "    \"\"\"plot variance comparison\"\"\"\n",
    "\n",
    "    ## set up paneled subplot\n",
    "    fig = plt.figure(figsize=(6, 5), layout=\"constrained\")\n",
    "    axs = src.utils.subplots_with_proj(\n",
    "        fig, nrows=3, ncols=1, format_func=src.utils.plot_setup_pac\n",
    "    )\n",
    "\n",
    "    ## plot data\n",
    "    kwargs = dict(\n",
    "        var0=x0,\n",
    "        var1=x1,\n",
    "        amp=amp,\n",
    "        amp_diff=amp_diff,\n",
    "        show_colorbars=True,\n",
    "        cbar_label=label,\n",
    "    )\n",
    "    fig, axs = src.utils.make_variance_subplots(fig, axs, **kwargs)\n",
    "\n",
    "    plt.show()"
   ]
  },
  {
   "cell_type": "markdown",
   "id": "e5718df3-190c-4f54-aeae-cf0bcf3351cd",
   "metadata": {},
   "source": [
    "SST"
   ]
  },
  {
   "cell_type": "code",
   "execution_count": null,
   "id": "76d9e037-ce15-472e-b018-f3fa434069df",
   "metadata": {},
   "outputs": [],
   "source": [
    "plot_var(\n",
    "    x0=var_oras[\"sst\"], x1=var_mpi[\"sst\"], amp=2, amp_diff=1, label=r\"$^{\\circ}$C$^2$\"\n",
    ")"
   ]
  },
  {
   "cell_type": "markdown",
   "id": "49686a1a-9028-4f5a-a4db-3a418373e2cc",
   "metadata": {},
   "source": [
    "SSH"
   ]
  },
  {
   "cell_type": "code",
   "execution_count": null,
   "id": "da619b7f-d9fe-4b53-8fae-995930a42535",
   "metadata": {},
   "outputs": [],
   "source": [
    "plot_var(x0=var_oras[\"ssh\"], x1=var_mpi[\"ssh\"], amp=100, amp_diff=50, label=r\"$cm^2$\")"
   ]
  },
  {
   "cell_type": "markdown",
   "id": "1b320d7b-c35b-49ef-b2f2-64ac68ff7674",
   "metadata": {},
   "source": [
    "SSH pattern bias (normalize by mean variance)"
   ]
  },
  {
   "cell_type": "code",
   "execution_count": null,
   "id": "8725c225-b03c-4599-b21c-fbc729abe346",
   "metadata": {},
   "outputs": [],
   "source": [
    "plot_var(\n",
    "    x0=var_oras[\"ssh\"] / var_oras[\"ssh\"].mean(),\n",
    "    x1=var_mpi[\"ssh\"] / var_mpi[\"ssh\"].mean(),\n",
    "    amp=4,\n",
    "    amp_diff=2,\n",
    "    label=r\"nondim\",\n",
    ")"
   ]
  },
  {
   "cell_type": "markdown",
   "id": "ac54c6c6-0a51-411c-95e7-179ed8344e5e",
   "metadata": {},
   "source": [
    "#### Plot (zoom in on Niño regions)"
   ]
  },
  {
   "cell_type": "code",
   "execution_count": null,
   "id": "13d96c7c-2e77-4195-ba6b-38cc78529b3f",
   "metadata": {},
   "outputs": [],
   "source": [
    "def plot_setup_zoom(ax):\n",
    "    \"\"\"Plot Pacific region\"\"\"\n",
    "\n",
    "    ## trim and add coastlines\n",
    "    ax.coastlines(linewidth=0.3)\n",
    "    ax.set_extent([160, 285, -10, 10], crs=ccrs.PlateCarree())\n",
    "\n",
    "    return ax\n",
    "\n",
    "\n",
    "## set up paneled subplot\n",
    "fig = plt.figure(figsize=(5, 3.5), layout=\"constrained\")\n",
    "axs = src.utils.subplots_with_proj(fig, nrows=3, ncols=1, format_func=plot_setup_zoom)\n",
    "\n",
    "## plot data\n",
    "kwargs = dict(\n",
    "    var0=var_oras[\"sst\"], var1=var_mpi[\"sst\"], amp=2, amp_diff=1, show_colorbars=True\n",
    ")\n",
    "fig, axs = src.utils.make_variance_subplots(fig, axs, **kwargs)\n",
    "\n",
    "## plot boxes\n",
    "for ax in axs.flatten():\n",
    "    kwargs = dict(linewidth=0.9, alpha=0.8)\n",
    "    src.utils.plot_nino34_box(ax, c=\"w\", **kwargs)\n",
    "    src.utils.plot_nino3_box(ax, c=\"k\", ls=\"--\", **kwargs)\n",
    "\n",
    "axs[1, 0].axvline(275, c=\"yellow\", lw=5)\n",
    "\n",
    "plt.show()"
   ]
  },
  {
   "cell_type": "markdown",
   "id": "54ba7428-6eb3-40eb-bb9a-f25022022d62",
   "metadata": {},
   "source": [
    "### Seasonal cycle"
   ]
  },
  {
   "cell_type": "markdown",
   "id": "3ab52bc5-c591-442b-b8a3-f356a9f8884b",
   "metadata": {},
   "source": [
    "#### SST mean"
   ]
  },
  {
   "cell_type": "code",
   "execution_count": null,
   "id": "ea4f3934-7c0e-4a3c-99a8-c5097400a7db",
   "metadata": {},
   "outputs": [],
   "source": [
    "def plot_cycle_hov(ax, data, **kwargs):\n",
    "    \"\"\"plot hovmoller of SST on the equator\"\"\"\n",
    "\n",
    "    ## make sure month is first\n",
    "    data = data.transpose(\"month\", ...)\n",
    "\n",
    "    ## Get cyclic point for plotting\n",
    "    data_cyclic, month_cyclic = cartopy.util.add_cyclic_point(data, data.month, axis=0)\n",
    "\n",
    "    ## plot data\n",
    "    plot_data = ax.contourf(data.longitude, month_cyclic, data_cyclic, **kwargs)\n",
    "\n",
    "    ## plot Niño 3.4 region\n",
    "    kwargs = dict(ls=\"--\", c=\"w\", lw=0.85)\n",
    "    ax.axvline(190, **kwargs)\n",
    "    ax.axvline(240, **kwargs)\n",
    "\n",
    "    ## labels/style\n",
    "    ax.set_yticks([1, 5, 9, 13], labels=[\"Jan\", \"May\", \"Sep\", \"Jan\"])\n",
    "    ax.set_ylabel(\"Month\")\n",
    "    ax.set_xticks([])\n",
    "    ax.set_xlim([130, 280])\n",
    "\n",
    "    return plot_data"
   ]
  },
  {
   "cell_type": "markdown",
   "id": "3e99e116-254d-4b3d-b162-da3f64c37604",
   "metadata": {},
   "source": [
    "Compute"
   ]
  },
  {
   "cell_type": "code",
   "execution_count": null,
   "id": "5d4c9602-5cca-4bc4-bdf2-c9cc81c68066",
   "metadata": {},
   "outputs": [],
   "source": [
    "## function to compute equatorial mean\n",
    "equatorial_mean = lambda x: x.sel(latitude=slice(-2, 2)).mean(\"latitude\")\n",
    "\n",
    "## Get clim for reanalysis\n",
    "clim_oras = equatorial_mean(oras_forced[\"sst\"].groupby(\"time.month\").mean())\n",
    "\n",
    "## get reconstruction for MPI\n",
    "monthly_clim = forced.groupby(\"time.month\").mean()\n",
    "recon = src.utils.reconstruct_fn(\n",
    "    components[\"sst\"], monthly_clim[\"sst\"], fn=equatorial_mean\n",
    ")\n",
    "recon.values[recon.values == 0] = np.nan\n",
    "\n",
    "## compute bias\n",
    "bias = recon.interp_like(clim_oras) - clim_oras"
   ]
  },
  {
   "cell_type": "markdown",
   "id": "123d96b1-efb5-4554-9a9d-767362585e3d",
   "metadata": {},
   "source": [
    "Plot"
   ]
  },
  {
   "cell_type": "code",
   "execution_count": null,
   "id": "93477b52-1d99-40c3-b819-ce56043c55e9",
   "metadata": {},
   "outputs": [],
   "source": [
    "## make hövmöllers\n",
    "fig, axs = plt.subplots(3, 1, figsize=(3.5, 5), layout=\"constrained\")\n",
    "\n",
    "## plot renalysis\n",
    "cp0 = src.utils.plot_cycle_hov(\n",
    "    axs[0], clim_oras, cmap=\"cmo.thermal\", levels=np.arange(22, 31)\n",
    ")\n",
    "\n",
    "## plot model data\n",
    "cp1 = src.utils.plot_cycle_hov(\n",
    "    axs[1], recon, cmap=\"cmo.thermal\", levels=np.arange(22, 31)\n",
    ")\n",
    "\n",
    "## plot bias\n",
    "cp2 = src.utils.plot_cycle_hov(\n",
    "    axs[2],\n",
    "    bias,\n",
    "    cmap=\"cmo.balance\",\n",
    "    levels=src.utils.make_cb_range(2, 0.4),\n",
    "    extend=\"both\",\n",
    ")\n",
    "\n",
    "## label\n",
    "axs[0].set_title(\"ORAS5\")\n",
    "axs[1].set_title(\"MPI\")\n",
    "axs[2].set_title(\"Bias\")\n",
    "axs[-1].set_xlabel(\"Longitude\")\n",
    "axs[-1].set_xticks([140, 190, 240])\n",
    "\n",
    "cb0 = fig.colorbar(cp0, ax=axs[0], ticks=[22, 26, 30], label=r\"$^{\\circ}C$\")\n",
    "cb1 = fig.colorbar(cp1, ax=axs[1], ticks=[22, 26, 30], label=r\"$^{\\circ}C$\")\n",
    "cb2 = fig.colorbar(cp2, ax=axs[2], ticks=[-2, 0, 2], label=r\"$^{\\circ}C$\")\n",
    "\n",
    "plt.show()"
   ]
  },
  {
   "cell_type": "markdown",
   "id": "240962d2-1ce9-45cb-9a7c-31195ab8d59f",
   "metadata": {},
   "source": [
    "#### SST variance"
   ]
  },
  {
   "cell_type": "markdown",
   "id": "3822563c-51ac-4cd1-a947-734d669ed31e",
   "metadata": {},
   "source": [
    "Compute"
   ]
  },
  {
   "cell_type": "code",
   "execution_count": null,
   "id": "28ed437a-2ce7-47b0-b957-460367dc3dac",
   "metadata": {},
   "outputs": [],
   "source": [
    "## compute for ORAS\n",
    "var_oras = equatorial_mean(oras_anom[\"sst\"].groupby(\"time.month\").var(\"time\"))\n",
    "\n",
    "## compute for MPI\n",
    "get_var = lambda x: equatorial_mean(\n",
    "    src.utils.reconstruct_var(scores=x, components=components[\"sst\"])\n",
    ")\n",
    "var_mpi = anom[\"sst\"].groupby(\"time.month\").map(get_var)\n",
    "\n",
    "## get difference\n",
    "diff = var_mpi.interp_like(var_oras) - var_oras"
   ]
  },
  {
   "cell_type": "code",
   "execution_count": null,
   "id": "4a246652-8772-496a-9b29-9a94b049a881",
   "metadata": {},
   "outputs": [],
   "source": [
    "## shared args for plotting\n",
    "plot_kwargs = dict(cmap=\"cmo.amp\", extend=\"max\")\n",
    "\n",
    "## make hövmöllers\n",
    "fig, axs = plt.subplots(3, 1, figsize=(3.5, 5), layout=\"constrained\")\n",
    "\n",
    "## plot renalysis\n",
    "cp0 = src.utils.plot_cycle_hov(\n",
    "    axs[0], var_oras, levels=np.arange(0, 3.3, 0.3), **plot_kwargs\n",
    ")\n",
    "\n",
    "## plot model data\n",
    "cp1 = src.utils.plot_cycle_hov(\n",
    "    axs[1], var_mpi, levels=np.arange(0, 3.3, 0.3), **plot_kwargs\n",
    ")\n",
    "\n",
    "## plot difference\n",
    "cp2 = src.utils.plot_cycle_hov(\n",
    "    axs[2],\n",
    "    diff,\n",
    "    levels=src.utils.make_cb_range(2, 0.2),\n",
    "    cmap=\"cmo.balance\",\n",
    "    extend=\"both\",\n",
    ")\n",
    "\n",
    "## label\n",
    "axs[0].set_title(\"ORAS5\")\n",
    "axs[1].set_title(\"MPI\")\n",
    "axs[2].set_title(\"Bias\")\n",
    "axs[-1].set_xlabel(\"Longitude\")\n",
    "axs[-1].set_xticks([140, 190, 240])\n",
    "\n",
    "## add colorbars\n",
    "kwargs = dict(ticks=[0, 1, 2, 3], label=r\"$^{\\circ}\\text{C}^2$\")\n",
    "cb0 = fig.colorbar(cp0, ax=axs[0], **kwargs)\n",
    "cb1 = fig.colorbar(cp1, ax=axs[1], **kwargs)\n",
    "cb2 = fig.colorbar(cp2, ax=axs[2], **dict(kwargs, ticks=[-2, 0, 2]))\n",
    "\n",
    "plt.show()"
   ]
  },
  {
   "cell_type": "markdown",
   "id": "e18746a1-3ea7-4acb-bc0e-f5fee8d2c97a",
   "metadata": {},
   "source": [
    "## ENSO composites"
   ]
  },
  {
   "cell_type": "markdown",
   "id": "348a6c88-8978-4c6a-82a3-1940944d27fe",
   "metadata": {},
   "source": [
    "Get indices for composite"
   ]
  },
  {
   "cell_type": "code",
   "execution_count": null,
   "id": "29341c6f-54b4-4a06-833b-01c9f2074629",
   "metadata": {},
   "outputs": [],
   "source": [
    "## specify function for composite\n",
    "idx_fn = src.utils.get_nino34\n",
    "\n",
    "## which month to composite on?\n",
    "peak_month = 12\n",
    "\n",
    "## quantile for composite\n",
    "q = 0.85\n",
    "\n",
    "## get ORAS index\n",
    "idx_oras = idx_fn(oras_anom[\"sst\"])\n",
    "\n",
    "## get MPI index\n",
    "idx_mpi = src.utils.reconstruct_fn(\n",
    "    components=components[\"sst\"], scores=anom[\"sst\"], fn=idx_fn\n",
    ")"
   ]
  },
  {
   "cell_type": "markdown",
   "id": "92f8ad26-a256-41ca-b400-33fa3dfbda12",
   "metadata": {},
   "source": [
    "Create composite"
   ]
  },
  {
   "cell_type": "code",
   "execution_count": null,
   "id": "02092abf-68e1-4fc5-9939-4c3d4689c543",
   "metadata": {},
   "outputs": [],
   "source": [
    "## kwargs for composite\n",
    "kwargs = dict(peak_month=peak_month, q=q)\n",
    "\n",
    "## ORAS\n",
    "comp_oras = src.utils.make_composite(\n",
    "    idx=idx_oras,\n",
    "    data=oras_anom,\n",
    "    **kwargs,\n",
    ")\n",
    "\n",
    "## MPI\n",
    "comp_mpi_proj = src.utils.make_composite(\n",
    "    idx=idx_mpi,\n",
    "    data=anom,\n",
    "    **kwargs,\n",
    ")\n",
    "\n",
    "## fn to get meridional mean\n",
    "lat = dict(latitude=slice(-5, 5))\n",
    "get_merimean = lambda x: x.sel(lat).mean(\"latitude\")\n",
    "\n",
    "## meridional mean for ORAS\n",
    "comp_merimean_oras = get_merimean(comp_oras)\n",
    "\n",
    "## meridional mean for MPI\n",
    "comp_merimean_mpi = src.utils.reconstruct_fn(\n",
    "    components=components, scores=comp_mpi_proj, fn=get_merimean\n",
    ").transpose(\"lag\", ...)"
   ]
  },
  {
   "cell_type": "markdown",
   "id": "e419ab25-32c7-47d7-9fa8-82630d58518f",
   "metadata": {},
   "source": [
    "Plot"
   ]
  },
  {
   "cell_type": "code",
   "execution_count": null,
   "id": "1c92f21e-94d0-4b20-8fe1-812c589b9078",
   "metadata": {},
   "outputs": [],
   "source": [
    "## set up plot\n",
    "fig, axs = plt.subplots(1, 2, figsize=(6, 3), layout=\"constrained\")\n",
    "\n",
    "for ax, merimean in zip(axs, [comp_merimean_oras, comp_merimean_mpi]):\n",
    "\n",
    "    ## SST\n",
    "    ax.contourf(\n",
    "        merimean.longitude,\n",
    "        merimean.lag,\n",
    "        merimean[\"sst\"],\n",
    "        cmap=\"cmo.balance\",\n",
    "        levels=src.utils.make_cb_range(3, 0.3),\n",
    "        extend=\"both\",\n",
    "    )\n",
    "\n",
    "    ## thermocline\n",
    "    ax.contour(\n",
    "        merimean.longitude,\n",
    "        merimean.lag,\n",
    "        merimean[\"ssh\"],\n",
    "        colors=\"k\",\n",
    "        levels=src.utils.make_cb_range(15, 3),\n",
    "        extend=\"both\",\n",
    "        linewidths=1,\n",
    "    )\n",
    "\n",
    "    ## label x axis\n",
    "    ax.set_xlabel(\"Longitude\")\n",
    "    ax.set_xticks([190, 240])\n",
    "    ax.axvline(190, lw=0.5, c=\"w\", ls=\"--\")\n",
    "    ax.axvline(240, lw=0.5, c=\"w\", ls=\"--\")\n",
    "\n",
    "## label\n",
    "axs[0].set_title(\"ORAS5\")\n",
    "axs[1].set_title(\"MPI\")\n",
    "mon_name = calendar.month_name[peak_month][:3]\n",
    "axs[0].set_ylabel(\"Lag\")\n",
    "axs[0].set_yticks(\n",
    "    [-12, 0, 12], labels=[f\"{mon_name}(-1)\", f\"{mon_name}(0)\", f\"{mon_name}(+1)\"]\n",
    ")\n",
    "axs[1].set_yticks([])\n",
    "\n",
    "plt.show()"
   ]
  }
 ],
 "metadata": {
  "kernelspec": {
   "display_name": "Python 3 (ipykernel)",
   "language": "python",
   "name": "python3"
  },
  "language_info": {
   "codemirror_mode": {
    "name": "ipython",
    "version": 3
   },
   "file_extension": ".py",
   "mimetype": "text/x-python",
   "name": "python",
   "nbconvert_exporter": "python",
   "pygments_lexer": "ipython3",
   "version": "3.13.3"
  }
 },
 "nbformat": 4,
 "nbformat_minor": 5
}
