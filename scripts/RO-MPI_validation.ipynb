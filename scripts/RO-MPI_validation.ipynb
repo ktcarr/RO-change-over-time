{
 "cells": [
  {
   "cell_type": "markdown",
   "id": "5a687365-6441-4125-9782-8cc9bf63cd34",
   "metadata": {
    "execution": {
     "iopub.execute_input": "2025-03-10T15:32:54.159739Z",
     "iopub.status.busy": "2025-03-10T15:32:54.159478Z",
     "iopub.status.idle": "2025-03-10T15:32:54.177370Z",
     "shell.execute_reply": "2025-03-10T15:32:54.176877Z",
     "shell.execute_reply.started": "2025-03-10T15:32:54.159723Z"
    }
   },
   "source": [
    "# RO-MPI validation"
   ]
  },
  {
   "cell_type": "markdown",
   "id": "456ab79f-ce80-4180-b71a-68ef2269a112",
   "metadata": {},
   "source": [
    "Should we shut off seasonal variation of noise term in equation for $\\frac{dh}{dt}$? Maybe not, because it would remove seasonal predictability barrier for $h$ (note even though $\\varepsilon$ has no seasonal cycle, $F_2$ *does*)."
   ]
  },
  {
   "cell_type": "markdown",
   "id": "d6b14ab1-a3c4-4274-b502-80d368c2ebfd",
   "metadata": {
    "execution": {
     "iopub.execute_input": "2024-02-19T10:56:12.001434Z",
     "iopub.status.busy": "2024-02-19T10:56:12.001117Z",
     "iopub.status.idle": "2024-02-19T10:56:12.424735Z",
     "shell.execute_reply": "2024-02-19T10:56:12.424085Z",
     "shell.execute_reply.started": "2024-02-19T10:56:12.001406Z"
    }
   },
   "source": [
    "## Imports"
   ]
  },
  {
   "cell_type": "code",
   "execution_count": null,
   "id": "285085cd-be8e-4811-a893-ca82043b7dad",
   "metadata": {},
   "outputs": [],
   "source": [
    "import matplotlib\n",
    "import matplotlib.pyplot as plt\n",
    "import matplotlib as mpl\n",
    "import numpy as np\n",
    "import seaborn as sns\n",
    "import xarray as xr\n",
    "import warnings\n",
    "import tqdm\n",
    "import pathlib\n",
    "import cmocean\n",
    "import os\n",
    "\n",
    "# Import custom modules\n",
    "import src.utils\n",
    "from src.XRO import XRO, xcorr\n",
    "import src.XRO_utils\n",
    "\n",
    "## set plotting specs\n",
    "sns.set(rc={\"axes.facecolor\": \"white\", \"axes.grid\": False})\n",
    "\n",
    "## bump up DPI\n",
    "mpl.rcParams[\"figure.dpi\"] = 100\n",
    "\n",
    "## get filepaths\n",
    "DATA_FP = pathlib.Path(os.environ[\"DATA_FP\"])\n",
    "SAVE_FP = pathlib.Path(os.environ[\"SAVE_FP\"])"
   ]
  },
  {
   "cell_type": "markdown",
   "id": "dddfe37e-9d16-4d80-916a-0e206581b61d",
   "metadata": {},
   "source": [
    "## Functions"
   ]
  },
  {
   "cell_type": "code",
   "execution_count": null,
   "id": "1c629f85-2995-4aa2-8e68-b988210cb5f4",
   "metadata": {},
   "outputs": [],
   "source": [
    "def fit_RO_to_ensemble(\n",
    "    model, Th_data, T_var, h_var, fit_to_members=False, **fit_kwargs\n",
    "):\n",
    "    \"\"\"Fit RO parameters to ensemble\"\"\"\n",
    "\n",
    "    ## fit model and generate synthetic ensemble\n",
    "    if fit_to_members:\n",
    "\n",
    "        ## fit to individual ensemble members\n",
    "        kwargs = dict(model=model, T_var=T_var, h_var=h_var, verbose=True)\n",
    "        _, params = src.utils.get_RO_ensemble(Th_data, **kwargs)\n",
    "\n",
    "    else:\n",
    "\n",
    "        ## fit to all ensemble members simultaneously\n",
    "        params = model.fit_matrix(\n",
    "            Th_data[[T_var, h_var]], **fit_kwargs\n",
    "        )  # ac_mask_idx=ac_mask_idx, maskNT=[])\n",
    "\n",
    "    return params\n",
    "\n",
    "\n",
    "def generate_RO_ensemble(model, params, fit_to_members=False, **simulation_kwargs):\n",
    "    \"\"\"generate RO ensemble using given model and parameters\"\"\"\n",
    "\n",
    "    if fit_to_members:\n",
    "\n",
    "        RO_ensemble = src.utils.generate_ensemble(model, params, **simulation_kwargs)\n",
    "\n",
    "    else:\n",
    "\n",
    "        RO_ensemble = model.simulate(fit_ds=params, **simulation_kwargs)\n",
    "\n",
    "    return RO_ensemble\n",
    "\n",
    "\n",
    "def format_axs_cyc(axs):\n",
    "    \"\"\"add formatting to paneled subplot of seasonal cycle\"\"\"\n",
    "\n",
    "    axs[0].set_yticks([0, 1, 2, 3])\n",
    "    axs[0].set_ylabel(r\"$^{\\circ}$C\")\n",
    "    axs[0].set_title(r\"1850-1889\")\n",
    "    axs[1].set_title(r\"2051-2100\")\n",
    "    axs[2].set_title(r\"Early vs. Late (model)\")\n",
    "    axs[2].set_yticks([0, 1, 2, 3])\n",
    "    axs[2].yaxis.set_ticks_position(\"right\")\n",
    "    axs[0].legend(prop=dict(size=8))\n",
    "    axs[1].legend(prop=dict(size=8))\n",
    "    axs[2].legend(prop=dict(size=8))\n",
    "    return\n",
    "\n",
    "\n",
    "def format_axs_autocorr(axs):\n",
    "    \"\"\"make axes nice for plot\"\"\"\n",
    "\n",
    "    for ax in axs[1, :]:\n",
    "        ax.set_xticks([-12, 0, 12], labels=[-1, 0, 1])\n",
    "        ax.set_xlabel(\"Lag (years)\")\n",
    "    for ax in axs[:, 0]:\n",
    "        ax.set_yticks([0, 0.5, 1])\n",
    "    axs[0, 0].set_title(r\"1850-1889\")\n",
    "    axs[0, 1].set_title(r\"2051-2100\")\n",
    "    axs[0, 2].set_title(r\"Early vs. Late (MPI)\")\n",
    "    axs[0, 0].set_ylabel(r\"Corr$(T,T)$ \")\n",
    "    axs[1, 0].set_ylabel(r\"Corr$(T,h)$ \")\n",
    "    return\n",
    "\n",
    "\n",
    "def plot_xcorr2(axs, xcorr_eval, T_var=\"T_3\", h_var=\"h_w\", **plot_kwargs):\n",
    "    \"\"\"plot <T,T> and <h,T> correlation on set of axs\"\"\"\n",
    "\n",
    "    ## compute cross correlation and get ensemble stats\n",
    "    xcorr_stats = src.utils.get_ensemble_stats(xcorr_eval)\n",
    "\n",
    "    ## plot autocorrelation/cross correlation on separate axes\n",
    "    src.utils.plot_xcorr(axs[0], xcorr_stats[T_var], **plot_kwargs)\n",
    "    src.utils.plot_xcorr(axs[1], xcorr_stats[h_var], **plot_kwargs)\n",
    "\n",
    "    return"
   ]
  },
  {
   "cell_type": "markdown",
   "id": "c520c8f4-45ba-4e30-9a32-e831db67ef5d",
   "metadata": {},
   "source": [
    "## Load data"
   ]
  },
  {
   "cell_type": "code",
   "execution_count": null,
   "id": "b7dd8298-d98f-409e-9b70-653bd4c200e1",
   "metadata": {},
   "outputs": [],
   "source": [
    "## open data\n",
    "Th = src.utils.load_cesm_indices()\n",
    "\n",
    "## rename indices for convenience\n",
    "\n",
    "Th = Th.rename(\n",
    "    {\n",
    "        \"north_tropical_atlantic\": \"natl\",\n",
    "        \"atlantic_nino\": \"nino_atl\",\n",
    "        \"tropical_indian_ocean\": \"iobm\",\n",
    "        \"indian_ocean_dipole\": \"iod\",\n",
    "        \"north_pacific_meridional_mode\": \"npmm\",\n",
    "        \"south_pacific_meridional_mode\": \"spmm\",\n",
    "    }\n",
    ")"
   ]
  },
  {
   "cell_type": "markdown",
   "id": "7a15cc93-ac0a-4166-a069-b9d3e4979354",
   "metadata": {},
   "source": [
    "## Diagnose variance issues"
   ]
  },
  {
   "cell_type": "markdown",
   "id": "2c9d4bf8-614d-41b2-8040-da4268c6ec24",
   "metadata": {},
   "source": [
    "### Model fitting"
   ]
  },
  {
   "cell_type": "code",
   "execution_count": null,
   "id": "8c5ea70d-d5f1-4432-bb68-9358d7a4fc3b",
   "metadata": {},
   "outputs": [],
   "source": [
    "# specify variables to use in RO and order of annual cycle\n",
    "# varnames = [\"T_34\", \"h\", \"iobm\",\"iod\",\"npmm\",\"spmm\",\"natl\",\"nino_atl\"]\n",
    "varnames = [\"T_34\", \"h\"]\n",
    "ac_order = 3\n",
    "\n",
    "# specify whether to fit parameters to each ens. member individually\n",
    "# if False, fit single set of parameters to all ensemble members\n",
    "fit_to_members = False\n",
    "\n",
    "# specify fit kwargs\n",
    "fit_kwargs = dict(ac_mask_idx=None, maskNT=[])\n",
    "\n",
    "# get first ~50ish years of data\n",
    "# X = Th[varnames].isel(time=slice(12, 612))\n",
    "X = Th[varnames].isel(time=slice(-612, -12))\n",
    "\n",
    "# initialize model\n",
    "model = XRO(ncycle=12, ac_order=ac_order, is_forward=True)\n",
    "\n",
    "## fit model\n",
    "fit = model.fit_matrix(X[varnames], **fit_kwargs)\n",
    "\n",
    "## get parameters\n",
    "p = model.get_RO_parameters(fit)\n",
    "\n",
    "## generate ensemble\n",
    "## specify arguments for simulation\n",
    "simulation_kwargs = dict(\n",
    "    nyear=49,\n",
    "    ncopy=1000,\n",
    "    seed=1000,\n",
    "    X0_ds=X.isel(member=0, time=0),\n",
    "    is_xi_stdac=True,\n",
    ")\n",
    "X_sim = model.simulate(fit_ds=fit, **simulation_kwargs)"
   ]
  },
  {
   "cell_type": "markdown",
   "id": "f1a6fa49-24e2-4b1a-88f6-617c5ba0b78c",
   "metadata": {},
   "source": [
    "### Diagnostics"
   ]
  },
  {
   "cell_type": "markdown",
   "id": "2de4fa6c-5821-4c8f-bca0-3db34da959de",
   "metadata": {},
   "source": [
    "#### Seasonal synch"
   ]
  },
  {
   "cell_type": "code",
   "execution_count": null,
   "id": "0a849787-7140-4796-af2f-fddf122a42a6",
   "metadata": {},
   "outputs": [],
   "source": [
    "### Set up plot\n",
    "fig, ax = plt.subplots(figsize=(2.5, 2), layout=\"constrained\")\n",
    "\n",
    "## plot MPI vs. RO (early period)\n",
    "plot_data_early = src.utils.plot_seasonal_comp(\n",
    "    ax,\n",
    "    x0=X,\n",
    "    x1=X_sim,\n",
    "    plot_kwargs0=dict(label=\"CESM\"),\n",
    "    plot_kwargs1=dict(label=\"RO\"),\n",
    "    varname=\"T_34\",\n",
    ")\n",
    "ax.set_ylim([None, 2])\n",
    "\n",
    "plt.show()"
   ]
  },
  {
   "cell_type": "markdown",
   "id": "f3d7dbed-50db-4d1c-adfd-8ebb8ae551a7",
   "metadata": {},
   "source": [
    "#### PSD"
   ]
  },
  {
   "cell_type": "markdown",
   "id": "aaf64631-0957-4963-977a-4eb642f27734",
   "metadata": {},
   "source": [
    "Compute"
   ]
  },
  {
   "cell_type": "code",
   "execution_count": null,
   "id": "61382c59-d74b-40cb-b7e7-bc020c7d6440",
   "metadata": {},
   "outputs": [],
   "source": [
    "## specify which variable to use\n",
    "varname = \"T_3\"\n",
    "\n",
    "## specify args for psd\n",
    "psd_kwargs = dict(dim=\"time\", dt=1 / 12, nw=5)\n",
    "\n",
    "## compute PSD\n",
    "compute_psd = lambda x: src.XRO_utils.pmtm(x[varname], **psd_kwargs)\n",
    "psd = compute_psd(X)\n",
    "psd_RO = compute_psd(X_sim)"
   ]
  },
  {
   "cell_type": "markdown",
   "id": "70e98a2c-0185-46aa-a741-0fe63aa410c8",
   "metadata": {},
   "source": [
    "Plot"
   ]
  },
  {
   "cell_type": "code",
   "execution_count": null,
   "id": "3c9b9634-16a8-481b-9794-942df61c3388",
   "metadata": {},
   "outputs": [],
   "source": [
    "fig, ax = plt.subplots(figsize=(3.5, 2.5), layout=\"constrained\")\n",
    "\n",
    "## plot early\n",
    "src.utils.plot_psd(ax, psd, label=\"CESM\")\n",
    "src.utils.plot_psd(ax, psd_RO, label=\"RO\")\n",
    "\n",
    "## label\n",
    "ax.set_ylabel(r\"PSD ($^{\\circ}$C$^2$/cpm)\")\n",
    "ax.legend(prop=dict(size=6))\n",
    "ax.legend(prop=dict(size=6))\n",
    "\n",
    "plt.show()"
   ]
  },
  {
   "cell_type": "markdown",
   "id": "dd50a981-d006-4099-99d7-fdce4421613f",
   "metadata": {},
   "source": [
    "#### Autocorrelation"
   ]
  },
  {
   "cell_type": "markdown",
   "id": "65e28b20-b446-4124-8043-3320c3b686c3",
   "metadata": {},
   "source": [
    "Compute"
   ]
  },
  {
   "cell_type": "code",
   "execution_count": null,
   "id": "39bb3ddf-e55b-43ee-8791-b63955792665",
   "metadata": {},
   "outputs": [],
   "source": [
    "## specify T variable to use\n",
    "T_var = \"T_3\"\n",
    "\n",
    "## function to compute cross-corr\n",
    "get_xcorr = lambda x: src.XRO.xcorr(x, x[T_var], maxlags=18)\n",
    "\n",
    "## compute\n",
    "xcorr = get_xcorr(X)\n",
    "xcorr_sim = get_xcorr(X_sim)"
   ]
  },
  {
   "cell_type": "markdown",
   "id": "f9806d32-42d4-45fd-9de3-eb76696f4de7",
   "metadata": {},
   "source": [
    "Plot"
   ]
  },
  {
   "cell_type": "code",
   "execution_count": null,
   "id": "69782e34-2998-43b0-9667-eda8a757cd2b",
   "metadata": {},
   "outputs": [],
   "source": [
    "fig, axs = plt.subplots(2, 1, figsize=(2.33, 4.5), layout=\"constrained\")\n",
    "\n",
    "plot_xcorr2(axs, xcorr, label=\"CESM\")\n",
    "plot_xcorr2(axs, xcorr_sim, label=\"RO\")\n",
    "\n",
    "## label\n",
    "axs[0].legend(prop=dict(size=8))\n",
    "axs[1].set_ylim([-0.9, 0.9])\n",
    "axs[0].set_title(r\"$T$\")\n",
    "axs[1].set_title(r\"$h$\")\n",
    "\n",
    "plt.show()"
   ]
  },
  {
   "cell_type": "markdown",
   "id": "970725fc-e3b2-4845-bee3-cf55c03f95fc",
   "metadata": {},
   "source": [
    "## (old) Fit RO to ensemble data"
   ]
  },
  {
   "cell_type": "code",
   "execution_count": null,
   "id": "7729573c-e4b0-4e52-a591-c63879aa7836",
   "metadata": {},
   "outputs": [],
   "source": [
    "# specify variables to use in RO fit order of annual cycle\n",
    "T_var = \"T_3\"\n",
    "h_var = \"h_w\"\n",
    "ac_order = 5\n",
    "\n",
    "# specify whether to fit parameters to each ens. member individually\n",
    "# if False, fit single set of parameters to all ensemble members\n",
    "fit_to_members = False\n",
    "\n",
    "# specify fit kwargs\n",
    "# ac_mask_idx: which indices to mask annual cycle out for.\n",
    "# maskNT: which nonlinear terms to include for dT/dt\n",
    "# fit_kwargs = dict(ac_mask_idx=[(1, 1)], maskNT=[\"T2\",\"T3\"])\n",
    "linear_fit_kwargs = dict(ac_mask_idx=[(1, 1)], maskNT=[])\n",
    "# fit_kwargs = dict(ac_mask_idx=[(1,1)], maskNT=[])\n",
    "fit_kwargs = dict(ac_mask_idx=None, maskNT=[])\n",
    "# fit_kwargs = dict(ac_mask_idx=None, maskNT=[\"T2\",\"TH\",\"T3\"])\n",
    "\n",
    "# get data for early/late period\n",
    "Th_early = Th.isel(time=slice(12, 612))\n",
    "Th_late = Th.isel(time=slice(-588, None))\n",
    "\n",
    "# specify model to use\n",
    "model = XRO(ncycle=12, ac_order=ac_order, is_forward=True)\n",
    "\n",
    "# fit models to early/late periods\n",
    "RO_params_early = fit_RO_to_ensemble(\n",
    "    model,\n",
    "    Th_data=Th_early,\n",
    "    T_var=T_var,\n",
    "    h_var=h_var,\n",
    "    fit_to_members=False,\n",
    "    **fit_kwargs\n",
    ")\n",
    "\n",
    "# fit models to early/late periods\n",
    "RO_params_linear = fit_RO_to_ensemble(\n",
    "    model,\n",
    "    Th_data=Th_early,\n",
    "    T_var=T_var,\n",
    "    h_var=h_var,\n",
    "    fit_to_members=False,\n",
    "    **linear_fit_kwargs\n",
    ")\n",
    "\n",
    "RO_params_late = fit_RO_to_ensemble(\n",
    "    model, Th_data=Th_late, T_var=T_var, h_var=h_var, fit_to_members=False, **fit_kwargs\n",
    ")"
   ]
  },
  {
   "cell_type": "markdown",
   "id": "f5dbf2e9-693b-4c31-8899-f61a954ba35d",
   "metadata": {},
   "source": [
    "## Get ensemble of RO simulations"
   ]
  },
  {
   "cell_type": "code",
   "execution_count": null,
   "id": "4ce5d1ff-2304-42e9-be89-e31af5d81b2f",
   "metadata": {},
   "outputs": [],
   "source": [
    "## specify arguments for simulation\n",
    "simulation_kwargs = dict(\n",
    "    nyear=49,\n",
    "    ncopy=1000,\n",
    "    seed=1000,\n",
    "    X0_ds=Th[[T_var, h_var]].isel(member=0, time=0),\n",
    "    is_xi_stdac=True,\n",
    ")\n",
    "\n",
    "## perform simulations\n",
    "RO_ensemble_early = generate_RO_ensemble(\n",
    "    model, RO_params_early, fit_to_members=fit_to_members, **simulation_kwargs\n",
    ")\n",
    "RO_ensemble_linear = generate_RO_ensemble(\n",
    "    model, RO_params_linear, fit_to_members=fit_to_members, **simulation_kwargs\n",
    ")\n",
    "RO_ensemble_late = generate_RO_ensemble(\n",
    "    model, RO_params_late, fit_to_members=fit_to_members, **simulation_kwargs\n",
    ")\n",
    "\n",
    "\n",
    "def filter_sim(output, T_var):\n",
    "\n",
    "    ## find simulations which blow up\n",
    "    bad_sim = (np.abs(output[T_var]) > 5).any(\"time\")\n",
    "\n",
    "    return output.isel(member=~bad_sim)\n",
    "\n",
    "\n",
    "## filter outsimulations which blow up\n",
    "RO_ensemble_early = filter_sim(RO_ensemble_early, T_var)\n",
    "RO_ensemble_late = filter_sim(RO_ensemble_late, T_var)"
   ]
  },
  {
   "cell_type": "markdown",
   "id": "ed6ad38d-be45-4d6a-a47a-3c3478a52a7d",
   "metadata": {},
   "source": [
    "## Diagnostics"
   ]
  },
  {
   "cell_type": "markdown",
   "id": "cc160bbd-3582-4e30-b534-db3230e25b4c",
   "metadata": {},
   "source": [
    "### Seasonality"
   ]
  },
  {
   "cell_type": "code",
   "execution_count": null,
   "id": "2987b2f3-a106-4596-8f4a-6bd54b4c9aab",
   "metadata": {},
   "outputs": [],
   "source": [
    "### Set up plot\n",
    "fig, axs = plt.subplots(1, 3, figsize=(7, 2), layout=\"constrained\")\n",
    "\n",
    "## plot MPI vs. RO (early period)\n",
    "plot_data_early = src.utils.plot_seasonal_comp(\n",
    "    axs[0],\n",
    "    x0=Th_early,\n",
    "    x1=RO_ensemble_early,\n",
    "    plot_kwargs0=dict(label=\"MPI\"),\n",
    "    plot_kwargs1=dict(label=\"RO\"),\n",
    "    varname=T_var,\n",
    ")\n",
    "\n",
    "## Plot MPI vs RO (late period)\n",
    "plot_data_late = src.utils.plot_seasonal_comp(\n",
    "    axs[1],\n",
    "    x0=Th_late,\n",
    "    x1=RO_ensemble_late,\n",
    "    plot_kwargs0=dict(label=\"MPI\"),\n",
    "    plot_kwargs1=dict(label=\"RO\"),\n",
    "    varname=T_var,\n",
    ")\n",
    "\n",
    "## Plot early vs late (MPI)\n",
    "plot_data_delta = src.utils.plot_seasonal_comp(\n",
    "    axs[2],\n",
    "    x0=RO_ensemble_early,\n",
    "    x1=RO_ensemble_late,\n",
    "    # x0=Th_early,\n",
    "    # x1=Th_late,\n",
    "    plot_kwargs0=dict(label=\"1850-1889\", c=\"k\"),\n",
    "    plot_kwargs1=dict(label=\"2051-2100\", c=\"r\"),\n",
    "    varname=T_var,\n",
    ")\n",
    "\n",
    "## label plot\n",
    "format_axs_cyc(axs)\n",
    "\n",
    "for ax in axs:\n",
    "    ax.set_ylim([None, 2])\n",
    "\n",
    "plt.show()"
   ]
  },
  {
   "cell_type": "code",
   "execution_count": null,
   "id": "b3aeaede-8994-4444-ae60-7297bbcfb78e",
   "metadata": {},
   "outputs": [],
   "source": [
    "Th_ = Th_early\n",
    "\n",
    "m = 12\n",
    "t_idx = dict(time=Th_.time.dt.month == m)\n",
    "\n",
    "fig, ax = plt.subplots(figsize=(3, 3))\n",
    "ax.scatter(\n",
    "    Th_[\"h\"].isel(t_idx) - Th_[\"h_w\"].isel(t_idx),\n",
    "    Th_[\"T_3\"].isel(t_idx),\n",
    "    s=1,\n",
    "    # -idx[\"h_w\"].isel(t_idx), idx[\"T_3\"].isel(t_idx)\n",
    ")\n",
    "\n",
    "\n",
    "## label\n",
    "ax.set_xlabel(r\"$\\overline{h}-h_w$\")\n",
    "ax.set_ylabel(r\"$T_e$\")\n",
    "kwargs = dict(c=\"k\", lw=0.8, zorder=0.5)\n",
    "ax.axvline(0, **kwargs)\n",
    "ax.axhline(0, **kwargs)\n",
    "plt.show()"
   ]
  },
  {
   "cell_type": "code",
   "execution_count": null,
   "id": "c19b9d4a-7b75-4b3c-acd4-bd1d04d2c061",
   "metadata": {},
   "outputs": [],
   "source": [
    "p0 = model.get_RO_parameters(RO_params_early)\n",
    "p1 = model.get_RO_parameters(RO_params_late)"
   ]
  },
  {
   "cell_type": "code",
   "execution_count": null,
   "id": "7d6c7493-4669-4318-9301-8f989f074c90",
   "metadata": {},
   "outputs": [],
   "source": [
    "c = sns.color_palette()\n",
    "\n",
    "months = np.arange(1, 13)\n",
    "fig, ax = plt.subplots(figsize=(4, 3))\n",
    "\n",
    "\n",
    "ax.plot(months, RO_params_early[\"normxi_stdac\"].isel(ranky=0), c=c[0])\n",
    "ax.plot(months, RO_params_late[\"normxi_stdac\"].isel(ranky=0), c=c[0], ls=\"--\")\n",
    "\n",
    "ax.plot(months, p0[\"R\"], c=c[1])\n",
    "ax.plot(months, p1[\"R\"], c=c[1], ls=\"--\")\n",
    "\n",
    "ax.plot(months, -p0[\"epsilon\"], c=c[2])\n",
    "ax.plot(months, -p1[\"epsilon\"], c=c[2], ls=\"--\")\n",
    "\n",
    "ax.plot(months, p0[\"BJ_ac\"], c=\"k\")\n",
    "ax.plot(months, p1[\"BJ_ac\"], c=\"k\", ls=\"--\")\n",
    "\n",
    "ax.axhline(0, ls=\"--\", c=\"k\", lw=1)"
   ]
  },
  {
   "cell_type": "markdown",
   "id": "81a10e20-f509-46ce-ad9b-a310d2279921",
   "metadata": {},
   "source": [
    "### $T$, $h$ cross-correlation"
   ]
  },
  {
   "cell_type": "markdown",
   "id": "7556504f-810a-4756-a751-26d2d8b72493",
   "metadata": {},
   "source": [
    "Plotting functions"
   ]
  },
  {
   "cell_type": "markdown",
   "id": "a1df39b9-06cf-4bf9-be49-1b004eee7333",
   "metadata": {},
   "source": [
    "Compute cross-correlation stats"
   ]
  },
  {
   "cell_type": "code",
   "execution_count": null,
   "id": "3a3554e5-074e-4e36-9e01-6df47b4b8c6a",
   "metadata": {},
   "outputs": [],
   "source": [
    "## specify T variable to use\n",
    "T_var = \"T_3\"\n",
    "\n",
    "## function to compute cross-corr\n",
    "get_xcorr = lambda x: src.XRO.xcorr(x, x[T_var], maxlags=18)\n",
    "\n",
    "## compute\n",
    "xcorr_Th_early = get_xcorr(Th_early)\n",
    "xcorr_Th_late = get_xcorr(Th_late)\n",
    "xcorr_RO_early = get_xcorr(RO_ensemble_early)\n",
    "xcorr_RO_late = get_xcorr(RO_ensemble_late)"
   ]
  },
  {
   "cell_type": "markdown",
   "id": "b670da78-7284-4b5e-afac-f5527853b371",
   "metadata": {},
   "source": [
    "Make plot"
   ]
  },
  {
   "cell_type": "code",
   "execution_count": null,
   "id": "1c60c66f-1ce6-4383-b538-c91ef9ae8e9f",
   "metadata": {},
   "outputs": [],
   "source": [
    "fig, axs = plt.subplots(2, 3, figsize=(7, 4.5), layout=\"constrained\")\n",
    "\n",
    "plot_xcorr2(axs[:, 0], xcorr_Th_early, label=\"model\")\n",
    "plot_xcorr2(axs[:, 0], xcorr_RO_early, label=\"RO\")\n",
    "\n",
    "plot_xcorr2(axs[:, 1], xcorr_Th_late)\n",
    "plot_xcorr2(axs[:, 1], xcorr_RO_late)\n",
    "\n",
    "plot_xcorr2(axs[:, 2], xcorr_Th_early, c=\"k\", label=\"1850-1889\")\n",
    "plot_xcorr2(axs[:, 2], xcorr_Th_late, c=\"r\", label=\"2051-2100\")\n",
    "\n",
    "## label axes\n",
    "format_axs_autocorr(axs)\n",
    "axs[0, 0].legend(prop=dict(size=8))\n",
    "axs[0, 2].legend(prop=dict(size=8))\n",
    "\n",
    "for ax in axs[1, :]:\n",
    "    ax.set_ylim([-1, None])\n",
    "    ax.set_yticks([-0.8, 0, 0.8])\n",
    "    ax.axhline(-0.8)\n",
    "\n",
    "plt.show()"
   ]
  },
  {
   "cell_type": "markdown",
   "id": "e47da32c-d8f5-4eff-be2c-56eb5a8a6eba",
   "metadata": {},
   "source": [
    "### Power spectrum"
   ]
  },
  {
   "cell_type": "markdown",
   "id": "bdd77d34-7084-47f7-9c23-450d153438aa",
   "metadata": {},
   "source": [
    "Plotting functions"
   ]
  },
  {
   "cell_type": "markdown",
   "id": "5f8f169f-c54c-4c87-bc86-44613465ba9e",
   "metadata": {},
   "source": [
    "Compute PSD"
   ]
  },
  {
   "cell_type": "code",
   "execution_count": null,
   "id": "b6db3b90-29d6-419e-9523-47833486b372",
   "metadata": {},
   "outputs": [],
   "source": [
    "## specify which variable to use\n",
    "varname = \"T_3\"\n",
    "\n",
    "## specify args for psd\n",
    "psd_kwargs = dict(dim=\"time\", dt=1 / 12, nw=5)\n",
    "\n",
    "## compute PSD\n",
    "compute_psd = lambda x: src.XRO_utils.pmtm(x[varname], **psd_kwargs)\n",
    "psd_mpi_early = compute_psd(Th_early)\n",
    "psd_RO_early = compute_psd(RO_ensemble_early)\n",
    "psd_mpi_late = compute_psd(Th_late)\n",
    "psd_RO_late = compute_psd(RO_ensemble_late)"
   ]
  },
  {
   "cell_type": "markdown",
   "id": "49e2e6a7-8de0-44cd-a505-33e1e1e17837",
   "metadata": {},
   "source": [
    "Plot PSD"
   ]
  },
  {
   "cell_type": "code",
   "execution_count": null,
   "id": "b41d73ec-989c-4d0c-8e64-1b7f3f144acb",
   "metadata": {},
   "outputs": [],
   "source": [
    "fig, axs = plt.subplots(1, 3, figsize=(7, 2.5), layout=\"constrained\")\n",
    "\n",
    "## plot early\n",
    "src.utils.plot_psd(axs[0], psd_mpi_early, label=\"MPI\")\n",
    "src.utils.plot_psd(axs[0], psd_RO_early, label=\"RO\")\n",
    "\n",
    "# ## plot late\n",
    "src.utils.plot_psd(axs[1], psd_mpi_late, label=\"MPI\")\n",
    "src.utils.plot_psd(axs[1], psd_RO_late, label=\"RO\")\n",
    "\n",
    "# ## plot late\n",
    "src.utils.plot_psd(axs[2], psd_mpi_early, label=\"1850-1889\", color=\"k\")\n",
    "src.utils.plot_psd(axs[2], psd_mpi_late, label=\"2051-2100\", color=\"r\")\n",
    "\n",
    "\n",
    "## label\n",
    "axs[0].set_ylabel(r\"PSD ($^{\\circ}$C$^2$/cpm)\")\n",
    "axs[0].legend(prop=dict(size=6))\n",
    "axs[2].legend(prop=dict(size=6))\n",
    "for ax in axs[1:]:\n",
    "    ax.set_yticks([])\n",
    "\n",
    "\n",
    "plt.show()"
   ]
  }
 ],
 "metadata": {
  "kernelspec": {
   "display_name": "Python [conda env:envs]",
   "language": "python",
   "name": "conda-env-envs-py"
  },
  "language_info": {
   "codemirror_mode": {
    "name": "ipython",
    "version": 3
   },
   "file_extension": ".py",
   "mimetype": "text/x-python",
   "name": "python",
   "nbconvert_exporter": "python",
   "pygments_lexer": "ipython3",
   "version": "3.13.5"
  }
 },
 "nbformat": 4,
 "nbformat_minor": 5
}
