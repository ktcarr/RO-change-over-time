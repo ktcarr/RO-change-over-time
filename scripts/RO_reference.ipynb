{
 "cells": [
  {
   "cell_type": "markdown",
   "id": "597e1a27-e24f-4652-810f-2e88f33276d0",
   "metadata": {},
   "source": [
    "# RO reference\n",
    "Fit RO on observations to get \"ground truth\" behavior"
   ]
  },
  {
   "cell_type": "markdown",
   "id": "c7c7fa21-6df5-4876-925c-a3cb75e71a54",
   "metadata": {},
   "source": [
    "## Imports"
   ]
  },
  {
   "cell_type": "code",
   "execution_count": null,
   "id": "df1ac922-8f5c-4019-9893-e5a8bcf434f0",
   "metadata": {},
   "outputs": [],
   "source": [
    "import warnings\n",
    "import datetime\n",
    "import matplotlib\n",
    "import matplotlib.pyplot as plt\n",
    "import matplotlib as mpl\n",
    "import cartopy.crs as ccrs\n",
    "import numpy as np\n",
    "import seaborn as sns\n",
    "import xarray as xr\n",
    "import tqdm\n",
    "import pathlib\n",
    "import cmocean\n",
    "import pandas as pd\n",
    "import os\n",
    "import scipy.stats\n",
    "\n",
    "# Import custom modules\n",
    "import src.XRO\n",
    "import src.XRO_utils\n",
    "import src.utils\n",
    "\n",
    "## set plotting specs\n",
    "sns.set(rc={\"axes.facecolor\": \"white\", \"axes.grid\": False})\n",
    "\n",
    "## bump up DPI\n",
    "mpl.rcParams[\"figure.dpi\"] = 100\n",
    "\n",
    "## get filepaths\n",
    "DATA_FP = pathlib.Path(os.environ[\"DATA_FP\"])\n",
    "SAVE_FP = pathlib.Path(os.environ[\"SAVE_FP\"])"
   ]
  },
  {
   "cell_type": "markdown",
   "id": "f62138e3-f1a9-4c9d-9536-e0290c8b6abd",
   "metadata": {},
   "source": [
    "## Load data"
   ]
  },
  {
   "cell_type": "code",
   "execution_count": null,
   "id": "9d98cfcc-5875-49cb-9e2e-062107df355d",
   "metadata": {},
   "outputs": [],
   "source": [
    "## specify filepaths\n",
    "oras_fp = DATA_FP / \"oras5\"\n",
    "sst_fp = oras_fp / \"tos_control_monthly_highres_2D_1958-2020_CONS_v0.1.nc\"\n",
    "ssh_fp = oras_fp / \"ssh_control_monthly_highres_2D_1958-2020_CONS_v0.1_global.nc\"\n",
    "\n",
    "## load data\n",
    "data = src.utils.load_oras_spatial(sst_fp, ssh_fp, extended_record=True)\n",
    "\n",
    "## compute indices\n",
    "idx = src.utils.get_RO_indices(data)"
   ]
  },
  {
   "cell_type": "markdown",
   "id": "692d5539-8130-4f46-bd98-bc5b2d09aea8",
   "metadata": {},
   "source": [
    "## Detrend / pre-process"
   ]
  },
  {
   "cell_type": "code",
   "execution_count": null,
   "id": "9e619b75-1d6c-4fd2-8924-33cf757b8ace",
   "metadata": {},
   "outputs": [],
   "source": [
    "## estimate forced signal by removing 2nd-order polynomial from each calendar month\n",
    "detrend_fn = lambda x: src.utils.detrend_dim(x, dim=\"time\", deg=3)\n",
    "idx_anom = idx.groupby(\"time.month\").map(detrend_fn)\n",
    "idx_forced = idx - idx_anom\n",
    "\n",
    "## standardize for convenience\n",
    "idx_anom /= idx_anom.std()"
   ]
  },
  {
   "cell_type": "markdown",
   "id": "d9cd5635-cd60-4f5d-b57a-8a0e42c073e5",
   "metadata": {},
   "source": [
    "## Cross correlation stats"
   ]
  },
  {
   "cell_type": "markdown",
   "id": "d1a765ef-b10b-48a6-bdcc-edfdf0320fb1",
   "metadata": {},
   "source": [
    "Plotting function"
   ]
  },
  {
   "cell_type": "code",
   "execution_count": null,
   "id": "34ba43a6-f0ea-4835-9069-02e1c52f9b0e",
   "metadata": {},
   "outputs": [],
   "source": [
    "def format_xcorr_ax(ax):\n",
    "    \"\"\"make xcorr plot look nice\"\"\"\n",
    "\n",
    "    axis_kwargs = dict(c=\"k\", lw=0.5, alpha=0.5)\n",
    "    ax.axhline(0, **axis_kwargs)\n",
    "    ax.axvline(0, **axis_kwargs)\n",
    "    ax.set_ylim([-0.7, 1.1])\n",
    "    ax.set_xlabel(\"Lag (years)\")\n",
    "    ax.set_xticks([-24, -12, 0, 12, 24], labels=[-2, -1, 0, 1, 2])\n",
    "    ax.set_yticks([-0.5, 0, 0.5, 1])\n",
    "    ax.set_ylabel(\"Correlation\")\n",
    "    return"
   ]
  },
  {
   "cell_type": "markdown",
   "id": "20f66150-10ec-4af0-8d55-0f3f483a9412",
   "metadata": {},
   "source": [
    "Make the plot"
   ]
  },
  {
   "cell_type": "code",
   "execution_count": null,
   "id": "c6c3864f-ffd9-46e8-8ce9-9702fea10f91",
   "metadata": {},
   "outputs": [],
   "source": [
    "## compute cross-corr\n",
    "xcorr = src.XRO.xcorr(idx_anom, idx_anom[\"T_3\"], maxlags=24)\n",
    "\n",
    "## plot result\n",
    "fig, ax = plt.subplots(figsize=(5, 3.5))\n",
    "\n",
    "## plot data\n",
    "ax.plot(xcorr.lag, xcorr[\"T_3\"], label=r\"$T_3$\", c=\"k\")\n",
    "ax.plot(xcorr.lag, xcorr[\"T_34\"], label=r\"$T_{3.4}$\", c=\"k\", ls=\"--\")\n",
    "ax.plot(xcorr.lag, xcorr[\"h\"], label=r\"$h$\")\n",
    "ax.plot(xcorr.lag, xcorr[\"h_w\"], label=r\"$h_w$\")\n",
    "\n",
    "## format plot\n",
    "ax.set_title(\"Corr. with Niño 3\")\n",
    "ax.legend()\n",
    "format_xcorr_ax(ax)\n",
    "\n",
    "plt.show()"
   ]
  },
  {
   "cell_type": "markdown",
   "id": "93348d38-4b72-4629-9de9-527ecd090d63",
   "metadata": {},
   "source": [
    "## Fit RO models"
   ]
  },
  {
   "cell_type": "code",
   "execution_count": null,
   "id": "39a7f537-f562-47e9-bb2c-eecaed29821b",
   "metadata": {},
   "outputs": [],
   "source": [
    "## specify order of annual cycle, mask parameters\n",
    "ac_order = 3\n",
    "ac_mask_idx = [(1, 1)]  # epsilon\n",
    "# ac_mask_idx = [(1,0), (1, 1)] # epsilon and F2\n",
    "# ac_mask_idx = [(0,1),(1,0),(1, 1)] # all except R\n",
    "# ac_mask_idx = None\n",
    "\n",
    "## initialize model\n",
    "model = src.XRO.XRO(ncycle=12, ac_order=ac_order, is_forward=True)\n",
    "\n",
    "## get fit for reanalysis\n",
    "fit_h = model.fit_matrix(idx_anom[[\"T_34\", \"h\"]], ac_mask_idx=ac_mask_idx)\n",
    "fit_hw = model.fit_matrix(idx_anom[[\"T_3\", \"h_w\"]], ac_mask_idx=ac_mask_idx)\n",
    "\n",
    "## extract params\n",
    "p_h = model.get_RO_parameters(fit_h)\n",
    "p_hw = model.get_RO_parameters(fit_hw)"
   ]
  },
  {
   "cell_type": "code",
   "execution_count": null,
   "id": "61aa096f-e3bc-4a2b-a607-5722b4b15a81",
   "metadata": {},
   "outputs": [],
   "source": [
    "fig, axs = plt.subplots(1, 2, figsize=(4.5, 2), layout=\"constrained\")\n",
    "\n",
    "for i, (ax, n) in enumerate(zip(axs, [\"R\", \"BJ_ac\"])):\n",
    "    ax.plot(p_h.cycle, p_h[n], label=r\"$h$\")\n",
    "    ax.plot(p_hw.cycle, p_hw[n], label=r\"$h_w$\")\n",
    "\n",
    "    ## format\n",
    "    ax.axhline(0, ls=\"-\", c=\"k\", lw=0.5)\n",
    "    ax.set_xticks([1, 7, 12], labels=[\"Jan\", \"Jul\", \"Dec\"])\n",
    "\n",
    "## label\n",
    "axs[1].set_yticks([])\n",
    "axs[0].set_yticks([-4, -2, 0, 2])\n",
    "axs[0].set_title(r\"$R$\")\n",
    "axs[1].set_title(r\"$2\\left(R-\\varepsilon\\right)$\")\n",
    "axs[0].legend(prop=dict(size=8))\n",
    "axs[0].set_ylim([-6, 2])\n",
    "axs[1].set_ylim(0.5 * np.array(axs[0].get_ylim()))\n",
    "\n",
    "plt.show()"
   ]
  },
  {
   "cell_type": "code",
   "execution_count": null,
   "id": "521ca6a3-4cc7-4e1f-9564-6e50c2909065",
   "metadata": {},
   "outputs": [],
   "source": [
    "## specify grid for plotting\n",
    "zz = np.linspace(-3, 3)\n",
    "xx, yy = np.meshgrid(zz, zz)\n",
    "\n",
    "## funcs to get dTdt and dhdt\n",
    "# get_t_idx = lambda x, m = x.isel(time= (x.time.dt.month==m))\n",
    "dTdt = (\n",
    "    lambda p, m, T, h: p[\"R\"].sel(cycle=m).values * T + p[\"F1\"].sel(cycle=m).values * h\n",
    ")\n",
    "dhdt = (\n",
    "    lambda p, m, T, h: -p[\"F2\"].sel(cycle=m).values * T\n",
    "    - p[\"epsilon\"].sel(cycle=m).values * h\n",
    ")\n",
    "\n",
    "dTdt_grid = lambda p, m: dTdt(p, m, T=xx, h=yy)\n",
    "dhdt_grid = lambda p, m: dhdt(p, m, T=xx, h=yy)\n",
    "\n",
    "\n",
    "## func to plot data on ax object\n",
    "def plot_tend(ax, p, m, lev, show_h=False):\n",
    "    \"\"\"plot tendency on given ax object\"\"\"\n",
    "\n",
    "    ax.set_aspect(\"equal\")\n",
    "    cp = ax.contourf(xx, yy, dTdt_grid(p=p, m=m), cmap=\"cmo.balance\", levels=lev)\n",
    "\n",
    "    if show_h:\n",
    "        cs = ax.contour(xx, yy, dhdt_grid(p=p, m=m), colors=\"k\", levels=lev)\n",
    "\n",
    "    return cp"
   ]
  },
  {
   "cell_type": "code",
   "execution_count": null,
   "id": "fcca03eb-1019-40da-b046-ae2ba3fc8590",
   "metadata": {},
   "outputs": [],
   "source": [
    "## specify which month to plot\n",
    "month = 4\n",
    "\n",
    "## get time index\n",
    "t_idx = dict(time=idx.time.dt.month == month)\n",
    "\n",
    "## specify contour levels\n",
    "lev = src.utils.make_cb_range(20, 2)\n",
    "\n",
    "## set up plot\n",
    "fig, axs = plt.subplots(1, 2, figsize=(5, 2.5), layout=\"constrained\")\n",
    "\n",
    "## plot first\n",
    "cp = plot_tend(axs[0], p=p_h, m=month, lev=lev)\n",
    "axs[0].scatter(idx_anom[\"T_34\"].isel(t_idx), idx_anom[\"h\"].isel(t_idx), c=\"k\", s=5)\n",
    "\n",
    "## plot second\n",
    "cp2 = plot_tend(axs[1], p=p_hw, m=month, lev=lev)\n",
    "axs[1].scatter(idx_anom[\"T_3\"].isel(t_idx), idx_anom[\"h_w\"].isel(t_idx), c=\"k\", s=5)\n",
    "\n",
    "## label\n",
    "cb = fig.colorbar(cp2, ticks=[lev.min(), lev.max()])\n",
    "axs[1].set_yticks([])\n",
    "axs[0].set_ylabel(r\"$h$\")\n",
    "axs[0].set_title(\"$h$\")\n",
    "axs[1].set_title(\"$h_w$\")\n",
    "\n",
    "for ax in axs:\n",
    "    ax.set_xlabel(r\"$T_e$\")\n",
    "\n",
    "plt.show()"
   ]
  },
  {
   "cell_type": "markdown",
   "id": "4f6f0b08-821f-407a-b9b0-7916827db6bd",
   "metadata": {},
   "source": [
    "Look at relationship between $T_e$ and $\\overline{h}-h_w$"
   ]
  },
  {
   "cell_type": "code",
   "execution_count": null,
   "id": "5ca30886-b6ac-4169-8c23-64ff13fe8e1c",
   "metadata": {},
   "outputs": [],
   "source": [
    "m = 4\n",
    "t_idx = dict(time=idx.time.dt.month == m)\n",
    "\n",
    "fig, ax = plt.subplots(figsize=(3, 3))\n",
    "ax.scatter(\n",
    "    idx_anom[\"h\"].isel(t_idx) - idx_anom[\"h_w\"].isel(t_idx), idx_anom[\"T_3\"].isel(t_idx)\n",
    ")\n",
    "\n",
    "\n",
    "## label\n",
    "ax.set_xlabel(r\"$\\overline{h}-h_w$\")\n",
    "ax.set_ylabel(r\"$T_e$\")\n",
    "kwargs = dict(c=\"k\", lw=0.8, zorder=0.5)\n",
    "ax.axvline(0, **kwargs)\n",
    "ax.axhline(0, **kwargs)\n",
    "plt.show()"
   ]
  }
 ],
 "metadata": {
  "kernelspec": {
   "display_name": "Python 3 (ipykernel)",
   "language": "python",
   "name": "python3"
  },
  "language_info": {
   "codemirror_mode": {
    "name": "ipython",
    "version": 3
   },
   "file_extension": ".py",
   "mimetype": "text/x-python",
   "name": "python",
   "nbconvert_exporter": "python",
   "pygments_lexer": "ipython3",
   "version": "3.13.3"
  }
 },
 "nbformat": 4,
 "nbformat_minor": 5
}
