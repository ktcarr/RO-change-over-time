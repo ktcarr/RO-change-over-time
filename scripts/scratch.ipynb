{
 "cells": [
  {
   "cell_type": "markdown",
   "id": "0c1c631c-a27b-4a71-adef-4b52a86580ac",
   "metadata": {},
   "source": [
    "# Scratch\n",
    "Code scraps which might be useful later..."
   ]
  },
  {
   "cell_type": "markdown",
   "id": "b9a077d9-7449-424f-9641-212ad59dfb43",
   "metadata": {},
   "source": [
    "## Imports"
   ]
  },
  {
   "cell_type": "code",
   "execution_count": null,
   "id": "1601fb6c-2b57-4e92-b2fe-be5daae467af",
   "metadata": {},
   "outputs": [],
   "source": [
    "import importlib.util\n",
    "import subprocess\n",
    "import sys\n",
    "import warnings\n",
    "import datetime\n",
    "import matplotlib\n",
    "import matplotlib.pyplot as plt\n",
    "import numpy as np\n",
    "import seaborn as sns\n",
    "import xarray as xr\n",
    "from climpred import HindcastEnsemble\n",
    "from dateutil.relativedelta import *\n",
    "from matplotlib.ticker import AutoMinorLocator\n",
    "import warnings\n",
    "import tqdm\n",
    "import pathlib\n",
    "import cmocean\n",
    "\n",
    "## set plotting specs\n",
    "sns.set(rc={\"axes.facecolor\": \"white\", \"axes.grid\": False})\n",
    "\n",
    "## bump up DPI\n",
    "import matplotlib as mpl\n",
    "\n",
    "mpl.rcParams[\"figure.dpi\"] = 100\n",
    "\n",
    "# Import necessary modules after ensuring files are available\n",
    "from src.XRO import XRO, xcorr\n",
    "from src.XRO_utils import (\n",
    "    SkewAccessor,\n",
    "    plot_above_below_shading,\n",
    "    plot_fill_between,\n",
    "    pmtm,\n",
    ")\n",
    "\n",
    "print(\"All required libraries are installed and imported successfully!\")"
   ]
  },
  {
   "attachments": {},
   "cell_type": "markdown",
   "id": "8da0328e-f86e-4c37-9673-1f01be51190f",
   "metadata": {},
   "source": [
    "## Observed ENSO properties related to RO\n",
    "\n",
    "Two indices are used to describe the oscillatory behaviour of ENSO. \n",
    " - **$T$**: Sea surface temperature (SST) anomalies averaged over the Niño3.4 region 170°–120° W, 5° S–5° N\n",
    " - **$h$** Thermocline depth anomalies averaged over the equatorial Pacific 120° E–80° W, 5° S–5° N, that is, the WWV index (with a constant factor of the area it covers).\n"
   ]
  },
  {
   "cell_type": "code",
   "execution_count": null,
   "id": "c6d4dcf5-3ac1-4584-9f9b-e3434fc51f9d",
   "metadata": {},
   "outputs": [],
   "source": [
    "# load observed state vectors of XRO: which include ENSO, WWV, and other modes SST indices\n",
    "# the order of variables is important, with first two must be ENSO SST and WWV;\n",
    "obs_file = \"../data/XRO_indices_oras5.nc\"\n",
    "\n",
    "obs_ds = xr.open_dataset(obs_file).sel(time=slice(\"1979-01\", \"2024-12\"))\n",
    "obs_RO_ds = obs_ds[[\"Nino34\", \"WWV\"]]\n",
    "print(obs_RO_ds)"
   ]
  },
  {
   "cell_type": "markdown",
   "id": "806ed9f2-6ccf-48c8-ba63-e4d5f765fef0",
   "metadata": {},
   "source": [
    "### 1 ENSO time series"
   ]
  },
  {
   "cell_type": "code",
   "execution_count": null,
   "id": "2b288079-2cfa-48ef-8393-c662709c931a",
   "metadata": {
    "editable": true,
    "slideshow": {
     "slide_type": ""
    },
    "tags": []
   },
   "outputs": [],
   "source": [
    "fig, ax = plt.subplots(1, 1, figsize=(6, 4))\n",
    "\n",
    "plot_above_below_shading(\n",
    "    obs_RO_ds[\"Nino34\"],\n",
    "    xtime=obs_RO_ds.time,\n",
    "    c=\"black\",\n",
    "    lw=0.5,\n",
    "    above=0.5,\n",
    "    above_c=\"orangered\",\n",
    "    below=-0.5,\n",
    "    below_c=\"deepskyblue\",\n",
    "    ax=ax,\n",
    ")\n",
    "# obs_RO_ds['Nino34'].plot(ax=ax, c='black', )\n",
    "ax.set_ylim([-3, 3])\n",
    "ax.set_ylabel(\"Nino34 SSTA [degC]\")\n",
    "\n",
    "axR = ax.twinx()\n",
    "obs_RO_ds[\"WWV\"].plot(ax=axR, c=\"blue\", lw=1.5)\n",
    "axR.set_ylim([-30, 30])\n",
    "axR.axhline(0, ls=\"--\", c=\"gray\", lw=0.5)\n",
    "\n",
    "ax.set_xlim([datetime.datetime(1979, 1, 1), datetime.datetime(2026, 1, 1)])\n",
    "ax.set_title(\"ORAS5 Nino3.4 and WWV indices\")"
   ]
  },
  {
   "cell_type": "markdown",
   "id": "7f659a18-e169-4da6-be93-5d7a80f262d0",
   "metadata": {},
   "source": [
    "## Look at parameter variation over time"
   ]
  },
  {
   "cell_type": "markdown",
   "id": "ebb82f33-d133-4dbb-8b3c-548fd09cbb3e",
   "metadata": {},
   "source": [
    "#### Fit model to 20-yr rolling windows"
   ]
  },
  {
   "cell_type": "code",
   "execution_count": null,
   "id": "34cef0df-e6e5-4136-bd11-e382f899fab4",
   "metadata": {},
   "outputs": [],
   "source": [
    "## Get number of timesteps in data\n",
    "n = len(obs_RO_ds.time)\n",
    "\n",
    "## specify number of samples to use in each window\n",
    "window_size = 240  # units: months\n",
    "\n",
    "## empty list to hold results and dates\n",
    "params_by_year = []\n",
    "start_dates = []\n",
    "\n",
    "## loop through rolling windows\n",
    "with warnings.catch_warnings(action=\"ignore\"):\n",
    "    for i in np.arange(0, n - 12, 12):\n",
    "\n",
    "        ## make sure there's enough samples for robust estimate\n",
    "        if (n - i) > (0.7 * window_size):\n",
    "\n",
    "            ## get subset of data for fitting model\n",
    "            data_subset = obs_RO_ds.isel(time=slice(i, i + window_size))\n",
    "\n",
    "            ## Get start date for subset\n",
    "            start_dates.append(data_subset.time.isel(time=0))\n",
    "\n",
    "            ## initialize model\n",
    "            model = XRO(ncycle=12, ac_order=1, is_forward=True)\n",
    "\n",
    "            ## fit matrix and get parameters\n",
    "            fit_LRO = model.fit_matrix(data_subset, maskNT=[], maskNH=[])\n",
    "            params_by_year.append(model.get_RO_parameters(fit_LRO))\n",
    "\n",
    "## convert from list to xarray\n",
    "start_dates = xr.concat(start_dates, dim=\"time\")\n",
    "params_by_year = xr.concat(params_by_year, dim=start_dates)"
   ]
  },
  {
   "cell_type": "markdown",
   "id": "2a7fa586-d076-4ef8-a444-6655429adefa",
   "metadata": {},
   "source": [
    "#### Plot change over time in annual-mean $R$ and seasonal cycle"
   ]
  },
  {
   "cell_type": "code",
   "execution_count": null,
   "id": "1eb079a4-514e-4f61-997f-a3f672e8ef39",
   "metadata": {},
   "outputs": [],
   "source": [
    "## plot annual mean growth rate\n",
    "fig, axs = plt.subplots(1, 2, figsize=(9, 3.5))\n",
    "axs[0].plot(params_by_year.time, params_by_year[\"BJ_ac\"].mean(\"cycle\"))\n",
    "axs[0].set_ylabel(r\"$R$\")\n",
    "\n",
    "## plot mean annual cycle\n",
    "axs[1].plot(params_by_year[\"BJ_ac\"].mean(\"time\"))\n",
    "axs[1].axhline(0, c=\"k\", ls=\"--\")\n",
    "\n",
    "plt.show()"
   ]
  }
 ],
 "metadata": {
  "kernelspec": {
   "display_name": "Python 3 (ipykernel)",
   "language": "python",
   "name": "python3"
  },
  "language_info": {
   "codemirror_mode": {
    "name": "ipython",
    "version": 3
   },
   "file_extension": ".py",
   "mimetype": "text/x-python",
   "name": "python",
   "nbconvert_exporter": "python",
   "pygments_lexer": "ipython3",
   "version": "3.13.2"
  }
 },
 "nbformat": 4,
 "nbformat_minor": 5
}
