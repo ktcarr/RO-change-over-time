{
 "cells": [
  {
   "cell_type": "markdown",
   "id": "3b0773d1-0f15-49cf-bd99-88c7602c1671",
   "metadata": {},
   "source": [
    "# MPI validation\n",
    "Comparison between MPI climate model and ORAS5"
   ]
  },
  {
   "cell_type": "markdown",
   "id": "ddc9e9a6-847c-4c1c-8746-23d1d8a35ddf",
   "metadata": {},
   "source": [
    "## Imports"
   ]
  },
  {
   "cell_type": "code",
   "execution_count": null,
   "id": "12e41cee-9dc6-4386-b7fa-a7e8c0876353",
   "metadata": {},
   "outputs": [],
   "source": [
    "import warnings\n",
    "import datetime\n",
    "import matplotlib\n",
    "import matplotlib.pyplot as plt\n",
    "import matplotlib as mpl\n",
    "import numpy as np\n",
    "import seaborn as sns\n",
    "import xarray as xr\n",
    "from climpred import HindcastEnsemble\n",
    "from dateutil.relativedelta import *\n",
    "from matplotlib.ticker import AutoMinorLocator\n",
    "import warnings\n",
    "import tqdm\n",
    "import pathlib\n",
    "import cmocean\n",
    "import pandas as pd\n",
    "\n",
    "# Import custom modules\n",
    "from src.XRO import XRO, xcorr\n",
    "import src.utils\n",
    "\n",
    "## set plotting specs\n",
    "sns.set(rc={\"axes.facecolor\": \"white\", \"axes.grid\": False})\n",
    "\n",
    "## bump up DPI\n",
    "mpl.rcParams[\"figure.dpi\"] = 100"
   ]
  },
  {
   "cell_type": "markdown",
   "id": "f13a3905-0610-41c1-9e2e-a57c99b14d04",
   "metadata": {},
   "source": [
    "## Load data"
   ]
  },
  {
   "cell_type": "code",
   "execution_count": null,
   "id": "f94e7f0e-840b-4164-90cf-2c41881db6a3",
   "metadata": {},
   "outputs": [],
   "source": [
    "## MPI data\n",
    "mpi_load_fp = pathlib.Path(\"/Users/theo/research/enso2025_xro/data/mpi_Th/Th.nc\")\n",
    "Th_mpi = xr.open_dataset(mpi_load_fp)\n",
    "\n",
    "## ORAS5 reanalysis (use as benchmark)\n",
    "oras_load_fp = pathlib.Path(\"../data/XRO_indices_oras5.nc\")\n",
    "Th_oras = xr.open_dataset(oras_load_fp)\n",
    "\n",
    "## rename variables for consistency and trim so time periods covered are the same\n",
    "Th_mpi = Th_mpi.sel(time=slice(\"1979\", \"2024\"))\n",
    "Th_oras = Th_oras[[\"Nino34\", \"WWV\"]].rename({\"Nino34\": \"T_34\", \"WWV\": \"h\"})"
   ]
  },
  {
   "cell_type": "markdown",
   "id": "c32d1579-62b8-422a-9464-da9c06de44fd",
   "metadata": {},
   "source": [
    "## Diagnostics"
   ]
  },
  {
   "cell_type": "markdown",
   "id": "151ed97b-c925-4fee-bf2b-781a80a9bca7",
   "metadata": {},
   "source": [
    "### Seasonal synchronization"
   ]
  },
  {
   "cell_type": "code",
   "execution_count": null,
   "id": "004c49c2-0b89-47f1-b4d8-1f9dcb714829",
   "metadata": {},
   "outputs": [],
   "source": [
    "## specify which \"T\" variable to use for MPI\n",
    "T_var_mpi = \"T_3\"\n",
    "\n",
    "## func to compute std dev as a function of month\n",
    "get_std = lambda x: x.groupby(\"time.month\").std(\"time\")\n",
    "\n",
    "## compute std for each dataset\n",
    "oras_std = get_std(Th_oras[\"T_34\"])\n",
    "mpi_std = get_std(Th_mpi[T_var_mpi])\n",
    "mpi_std_plot = src.utils.get_ensemble_stats(mpi_std)\n",
    "\n",
    "## months (x-coordinate for plotting\n",
    "months = np.arange(1, 13)\n",
    "\n",
    "### Set up plot\n",
    "fig, ax = plt.subplots(figsize=(4, 3))\n",
    "\n",
    "## plot for ORAS5\n",
    "oras_plot = ax.plot(months, oras_std, label=\"ORAS5\")\n",
    "\n",
    "## plot MPI ensemble mean\n",
    "mpi_plot = ax.plot(months, mpi_std_plot.sel(posn=\"center\"), label=\"MPI\")\n",
    "\n",
    "## plot MPI bounds\n",
    "kwargs = dict(c=mpi_plot[0].get_color(), ls=\"--\", lw=1)\n",
    "for bound in [\"upper\", \"lower\"]:\n",
    "    ax.plot(months, mpi_std_plot.sel(posn=bound), **kwargs)\n",
    "\n",
    "## adjust limits and label\n",
    "ax.set_ylim([0.4, None])\n",
    "ax.set_yticks([0.5, 1])\n",
    "ax.set_xticks([1, 5, 12], labels=[\"Jan\", \"May\", \"Dec\"])\n",
    "ax.set_xlabel(\"Month\")\n",
    "ax.set_ylabel(f\"$\\\\sigma(T)$\")\n",
    "ax.set_title(\"Seasonal synchronization (Niño 3.4)\")\n",
    "ax.legend()\n",
    "plt.show()"
   ]
  },
  {
   "cell_type": "markdown",
   "id": "845741ff-7c3b-467d-8ca3-bba5198a8995",
   "metadata": {},
   "source": [
    "### $T,h$ cross-correlation"
   ]
  },
  {
   "cell_type": "markdown",
   "id": "fd32fe27-141a-46b4-85e4-74b9d34934ed",
   "metadata": {},
   "source": [
    "Plotting funcs"
   ]
  },
  {
   "cell_type": "code",
   "execution_count": null,
   "id": "9481d0cc-0abc-4f27-b895-ce4dc3bbb21f",
   "metadata": {},
   "outputs": [],
   "source": [
    "def format_axs(axs):\n",
    "    ## add axis lines to plots\n",
    "    axis_kwargs = dict(c=\"k\", lw=0.5, alpha=0.5)\n",
    "    for ax in axs.flatten():\n",
    "        ax.axhline(0, **axis_kwargs)\n",
    "        ax.axvline(0, **axis_kwargs)\n",
    "        ax.set_ylim([-0.7, 1.1])\n",
    "\n",
    "    #### label plots\n",
    "\n",
    "    ## bottom row\n",
    "    for ax in axs[1]:\n",
    "        ax.set_xlabel(\"Lag (years)\")\n",
    "        ax.set_xticks([-12, 0, 12], labels=[-1, 0, 1])\n",
    "\n",
    "    ## top row\n",
    "    for ax in axs[0]:\n",
    "        ax.set_xticks([])\n",
    "\n",
    "    ## left col\n",
    "    for ax in axs[:, 0]:\n",
    "        ax.set_ylabel(\"Correlation\")\n",
    "\n",
    "    ## right col\n",
    "    for ax in axs[:, 1]:\n",
    "        ax.set_yticks([])\n",
    "\n",
    "    return axs\n",
    "\n",
    "\n",
    "def plot_oras(ax, data, color, label=None):\n",
    "    \"\"\"Plot curve for oras\"\"\"\n",
    "\n",
    "    ax.plot(data.lag, data, c=color, label=label, ls=\"--\")\n",
    "\n",
    "    return\n",
    "\n",
    "\n",
    "def plot_mpi(ax, data, color, label=None):\n",
    "    \"\"\"plot mean and bounds for MPI\"\"\"\n",
    "\n",
    "    ## center\n",
    "    ax.plot(\n",
    "        data.lag,\n",
    "        data.sel(posn=\"center\"),\n",
    "        c=color,\n",
    "        label=label,\n",
    "    )\n",
    "\n",
    "    ## bounds\n",
    "    ax.fill_between(\n",
    "        data.lag, data.sel(posn=\"upper\"), data.sel(posn=\"lower\"), color=color, alpha=0.2\n",
    "    )\n",
    "\n",
    "    return"
   ]
  },
  {
   "cell_type": "markdown",
   "id": "58ceac1c-79cf-4f53-8c0a-b1d715956dd6",
   "metadata": {},
   "source": [
    "Compute stats"
   ]
  },
  {
   "cell_type": "code",
   "execution_count": null,
   "id": "5bb8fdf4-846a-48b7-b37f-56523041088b",
   "metadata": {},
   "outputs": [],
   "source": [
    "## specify which \"T\" variable to use for MPI\n",
    "T_var_mpi = \"T_3\"\n",
    "h_var_mpi = \"h_w\"\n",
    "\n",
    "## compute cross-correlation\n",
    "xcorr_oras = xcorr(Th_oras, Th_oras[\"T_34\"], maxlags=18)\n",
    "xcorr_mpi = xcorr(Th_mpi, Th_mpi[T_var_mpi], maxlags=18)\n",
    "\n",
    "## compute MPI stats\n",
    "xcorr_mpi_stats = src.utils.get_ensemble_stats(xcorr_mpi)"
   ]
  },
  {
   "cell_type": "markdown",
   "id": "db2e4fe1-81cc-4baf-a126-313183c5382d",
   "metadata": {},
   "source": [
    "Make plot"
   ]
  },
  {
   "cell_type": "code",
   "execution_count": null,
   "id": "545c37e0-63b0-4040-bfb0-74ab56527b0f",
   "metadata": {},
   "outputs": [],
   "source": [
    "## specify plot properties for legend\n",
    "legend_prop = dict(size=7)\n",
    "\n",
    "fig, axs = plt.subplots(2, 2, figsize=(6, 5), layout=\"constrained\")\n",
    "\n",
    "## plot <T,T>\n",
    "axs[0, 0].set_title(r\"$<T, T>$\")\n",
    "plot_oras(axs[0, 0], xcorr_oras[\"T_34\"], color=\"r\", label=\"ORAS5\")\n",
    "plot_mpi(axs[0, 0], xcorr_mpi_stats[T_var_mpi], color=\"r\", label=\"MPI\")\n",
    "\n",
    "## plot <T,h>\n",
    "axs[0, 1].set_title(r\"$<T, h>$\")\n",
    "plot_oras(axs[0, 1], xcorr_oras[\"h\"], color=\"k\", label=\"ORAS5\")\n",
    "plot_mpi(axs[0, 1], xcorr_mpi_stats[h_var_mpi], color=\"k\", label=\"MPI\")\n",
    "\n",
    "## plot for ORAS5\n",
    "axs[1, 0].set_title(\"ORAS5\")\n",
    "plot_oras(axs[1, 0], xcorr_oras[\"T_34\"], color=\"r\", label=\"$<T, T>$\")\n",
    "plot_oras(axs[1, 0], xcorr_oras[\"h\"], color=\"k\", label=\"$<T, h>$\")\n",
    "\n",
    "## plot for MPI\n",
    "axs[1, 1].set_title(\"MPI\")\n",
    "plot_mpi(axs[1, 1], xcorr_mpi_stats[T_var_mpi], color=\"r\", label=\"$<T, T>$\")\n",
    "plot_mpi(axs[1, 1], xcorr_mpi_stats[h_var_mpi], color=\"k\", label=\"$<T, h>$\")\n",
    "\n",
    "## clean up axes\n",
    "axs = format_axs(axs)\n",
    "\n",
    "for ax in axs.flatten():\n",
    "    ax.legend(prop=dict(size=7))\n",
    "\n",
    "plt.show()"
   ]
  },
  {
   "cell_type": "markdown",
   "id": "6ada2502-4858-4b96-b542-52297995097a",
   "metadata": {},
   "source": [
    "## RO-based diagnostics\n",
    "Note: need to non-dimensionalize $T$ and $h$ data to compare $F_1$ and $F_2$ parameters to each other and to $R$ and $\\epsilon$"
   ]
  },
  {
   "cell_type": "code",
   "execution_count": null,
   "id": "20304ec5-7d5f-4f18-bbad-342932cc8b22",
   "metadata": {},
   "outputs": [],
   "source": [
    "## get non-dimensional scale for each variable (specific to each dataset)\n",
    "scale_oras = Th_oras.std()\n",
    "scale_mpi = Th_mpi.std()\n",
    "\n",
    "## non-dimensionalize\n",
    "Th_oras_nondim = Th_oras / scale_oras\n",
    "Th_mpi_nondim = Th_mpi / scale_mpi"
   ]
  },
  {
   "cell_type": "code",
   "execution_count": null,
   "id": "05fe03a6-1a83-434e-b8b1-03ecc757da79",
   "metadata": {},
   "outputs": [],
   "source": [
    "def plot_param_comparison(ax, param_oras, param_mpi):\n",
    "    \"\"\"plot comparison of parameters as a func of seasonal cycle\"\"\"\n",
    "\n",
    "    ## plot for ORAS\n",
    "    ax.plot(param_oras.cycle, param_oras, label=r\"ORAS5\", c=\"k\", ls=\"--\", lw=2)\n",
    "\n",
    "    ## plot for MPI\n",
    "    ax.plot(\n",
    "        param_mpi.cycle,\n",
    "        param_mpi.mean(\"member\"),\n",
    "        c=\"k\",\n",
    "        lw=3,\n",
    "        label=r\"MPI (ensemble mean)\",\n",
    "    )\n",
    "    for m in param_mpi.member:\n",
    "        ax.plot(param_mpi.cycle, param_mpi.sel(member=m), lw=0.5, c=\"k\", alpha=0.2)\n",
    "\n",
    "    ## label plot\n",
    "    ax.set_ylabel(r\"Growth rate (yr$^{-1}$)\")\n",
    "    ax.axhline(0, c=\"k\", ls=\"-\", lw=0.5)\n",
    "    ax.set_xticks([1, 8, 12], labels=[\"Jan\", \"Aug\", \"Dec\"])\n",
    "\n",
    "    return ax"
   ]
  },
  {
   "cell_type": "markdown",
   "id": "67dbe61c-5e20-4afb-9433-47c53f58a586",
   "metadata": {},
   "source": [
    "### Growth rate / periodicity"
   ]
  },
  {
   "cell_type": "markdown",
   "id": "c928ca30-246e-4f83-9f1b-ad3e401ef9ab",
   "metadata": {},
   "source": [
    "Do the computation"
   ]
  },
  {
   "cell_type": "code",
   "execution_count": null,
   "id": "3956efa4-890f-4df5-8eb6-dcd354441468",
   "metadata": {},
   "outputs": [],
   "source": [
    "## specify T and h variables to use for MPI\n",
    "T_var_mpi = \"T_3\"\n",
    "h_var_mpi = \"h_w\"\n",
    "\n",
    "## specify order of annual cycle\n",
    "ac_order = 3\n",
    "\n",
    "## initialize model\n",
    "model = XRO(ncycle=12, ac_order=ac_order, is_forward=True)\n",
    "\n",
    "## get fit for reanalysis and model\n",
    "fit_oras = model.fit_matrix(Th_oras_nondim[[\"T_34\", \"h\"]])\n",
    "_, fit_mpi = src.utils.get_RO_ensemble(\n",
    "    Th_mpi_nondim, model=model, T_var=T_var_mpi, h_var=h_var_mpi\n",
    ")\n",
    "\n",
    "## compute timescales for each\n",
    "bj_oras, period_oras = src.utils.get_timescales(model, fit_oras)\n",
    "bj_mpi, period_mpi = src.utils.get_timescales_ensemble(model, fit_mpi)\n",
    "\n",
    "## get PDF for period\n",
    "pdf, edges = src.utils.get_empirical_pdf(period_mpi, edges=np.arange(3, 19))"
   ]
  },
  {
   "cell_type": "code",
   "execution_count": null,
   "id": "e2d17d42-2014-4ddb-9662-13b0ba8e07a8",
   "metadata": {},
   "outputs": [],
   "source": [
    "fig, axs = plt.subplots(1, 2, figsize=(7, 3), layout=\"constrained\")\n",
    "\n",
    "### plot seasonal cycle of growth rate\n",
    "axs[0] = plot_param_comparison(axs[0], bj_oras, bj_mpi)\n",
    "axs[0].legend(prop=dict(size=8))\n",
    "\n",
    "## plot period\n",
    "axs[1].stairs(pdf, edges, color=\"k\", label=\"MPI (PDF)\")\n",
    "axs[1].axvline(period_oras, c=\"k\", ls=\"--\", lw=2, label=\"ORAS5\")\n",
    "axs[1].set_xlim([2, None])\n",
    "axs[1].set_yticks([])\n",
    "axs[1].set_xlabel(\"Period (yrs)\")\n",
    "axs[1].legend(prop=dict(size=8))\n",
    "\n",
    "plt.show()"
   ]
  },
  {
   "cell_type": "markdown",
   "id": "864fafdd-dfa2-457e-80d1-f143b78c89b6",
   "metadata": {},
   "source": [
    "### Parameters"
   ]
  },
  {
   "cell_type": "code",
   "execution_count": null,
   "id": "a2ea0faa-26b3-46b2-b06d-c50807d591a1",
   "metadata": {},
   "outputs": [],
   "source": [
    "## Get parameters for ORAS and MPI\n",
    "params_oras = model.get_RO_parameters(fit_oras)\n",
    "params_mpi = model.get_RO_parameters(fit_mpi)\n",
    "\n",
    "## get labels of parameters for plotting\n",
    "labels = [r\"$R$\", r\"$F_1$\", r\"$F_2$\", r\"$\\epsilon$\"]\n",
    "var_names = [\"R\", \"F1\", \"F2\", \"epsilon\"]\n",
    "\n",
    "## set up plot\n",
    "fig, axs = plt.subplots(2, 2, figsize=(7, 6), layout=\"constrained\")\n",
    "\n",
    "## separate plo for each set of parameters\n",
    "for i, (ax, label, n) in enumerate(zip(axs.flatten(), labels, var_names)):\n",
    "\n",
    "    ### plot seasonal cycle parameter for each\n",
    "    ax = plot_param_comparison(ax, params_oras[n], params_mpi[n])\n",
    "    ax.set_title(label)\n",
    "    ax.set_ylim([-3, 5])\n",
    "\n",
    "## make plot less clustered\n",
    "for ax in axs[0, :]:\n",
    "    ax.set_xlabel(None)\n",
    "    ax.set_xticks([])\n",
    "for ax in axs[:, 1]:\n",
    "    ax.set_ylabel(None)\n",
    "    ax.set_yticks([])\n",
    "for ax in axs[:, 0]:\n",
    "    ax.set_yticks([-2, 0, 2, 4])\n",
    "\n",
    "axs[0,0].legend(prop=dict(size=8))\n",
    "plt.show()"
   ]
  },
  {
   "cell_type": "markdown",
   "id": "b677fb61-7d11-4dcd-97d9-890b1ecdc7a1",
   "metadata": {},
   "source": [
    "### Plot parameter uncertainty"
   ]
  },
  {
   "cell_type": "code",
   "execution_count": null,
   "id": "1ed1da0b-9963-4c1a-bce4-4a66658e56cf",
   "metadata": {},
   "outputs": [],
   "source": [
    "## coordinates to select \"R\" parameter\n",
    "R_idx = dict(rankx=0, ranky=0)\n",
    "N = len(fit_mpi.member)\n",
    "\n",
    "fig, ax = plt.subplots(figsize=(4, 3))\n",
    "for j in fit_oras.Lcoef.cossin:\n",
    "    ax.scatter(j, fit_oras.Lcoef.isel(**R_idx, cossin=j), zorder=10, s=50, c=\"r\")\n",
    "    ax.boxplot(\n",
    "        fit_mpi.Lcoef.isel(**R_idx, cossin=j),\n",
    "        positions=[j],\n",
    "        medianprops=dict(color=\"k\"),\n",
    "    )\n",
    "\n",
    "ax.set_ylim([None, None])\n",
    "\n",
    "plt.show()"
   ]
  }
 ],
 "metadata": {
  "kernelspec": {
   "display_name": "Python 3 (ipykernel)",
   "language": "python",
   "name": "python3"
  },
  "language_info": {
   "codemirror_mode": {
    "name": "ipython",
    "version": 3
   },
   "file_extension": ".py",
   "mimetype": "text/x-python",
   "name": "python",
   "nbconvert_exporter": "python",
   "pygments_lexer": "ipython3",
   "version": "3.13.2"
  }
 },
 "nbformat": 4,
 "nbformat_minor": 5
}
