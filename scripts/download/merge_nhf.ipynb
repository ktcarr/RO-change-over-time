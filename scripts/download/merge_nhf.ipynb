{
 "cells": [
  {
   "cell_type": "code",
   "execution_count": null,
   "id": "e54fb75b-417e-4f12-abe6-a79f78ad05d5",
   "metadata": {},
   "outputs": [],
   "source": [
    "import xarray as xr\n",
    "import os\n",
    "import pathlib\n",
    "import numpy as np\n",
    "import xesmf as xe"
   ]
  },
  {
   "cell_type": "code",
   "execution_count": null,
   "id": "80960c8d-53fe-4977-8674-475835f55146",
   "metadata": {},
   "outputs": [],
   "source": [
    "def sel_tropics(x):\n",
    "    \"\"\"subset for data in tropics\"\"\"\n",
    "\n",
    "    ## find grid points in tropics\n",
    "    in_tropics = (x.lat < 20) & (x.lat > -20)\n",
    "    in_tropics.load()\n",
    "\n",
    "    ## get index to select\n",
    "    y_idx = in_tropics.any(\"x\")\n",
    "\n",
    "    return x.isel(y=y_idx)\n",
    "\n",
    "\n",
    "def regrid(x):\n",
    "    \"\"\"regrid data to match other oras data\"\"\"\n",
    "\n",
    "    ## load ref grid\n",
    "    grid = xr.open_dataset(\n",
    "        ORAS_FP / \"tos_control_monthly_highres_2D_1958-2020_CONS_v0.1.nc\"\n",
    "    )\n",
    "    grid = grid.isel(time_counter=0).drop_vars(\"time_counter\").compute()\n",
    "\n",
    "    ## regrid\n",
    "    regridder = xe.Regridder(x, grid, \"bilinear\")\n",
    "    return regridder(x)"
   ]
  },
  {
   "cell_type": "markdown",
   "id": "86cf5b49-acb4-4652-8b34-ff791cf3c829",
   "metadata": {},
   "source": [
    "#### load data"
   ]
  },
  {
   "cell_type": "code",
   "execution_count": null,
   "id": "971cf249-d2ae-4c80-9e0c-50c3862c7dbc",
   "metadata": {},
   "outputs": [],
   "source": [
    "## path to data\n",
    "ORAS_FP = pathlib.Path(os.environ[\"DATA_FP\"], \"oras5\")\n",
    "nhf_fp = ORAS_FP / \"nhf\"\n",
    "\n",
    "## open data\n",
    "data_cons = xr.open_mfdataset(np.sort(list(nhf_fp.glob(\"*CONS*.nc\"))))\n",
    "data_oper = xr.open_mfdataset(np.sort(list(nhf_fp.glob(\"*OPER*.nc\"))))\n",
    "\n",
    "## update coords\n",
    "data_cons[\"lat\"] = data_cons[\"nav_lat\"].isel(time_counter=0)\n",
    "data_cons[\"lon\"] = data_cons[\"nav_lon\"].isel(time_counter=0)\n",
    "data_cons = data_cons.drop_vars([\"nav_lat\", \"nav_lon\"])\n",
    "data_oper = data_oper.rename({\"nav_lat\": \"lat\", \"nav_lon\": \"lon\"})\n",
    "\n",
    "## trim\n",
    "data_cons = sel_tropics(data_cons)\n",
    "data_oper = sel_tropics(data_oper)\n",
    "\n",
    "print(\"Loading\")\n",
    "data_cons.load()\n",
    "data_oper.load();"
   ]
  },
  {
   "cell_type": "markdown",
   "id": "8b01c4dc-6f8a-4198-9e16-28aba9f417ce",
   "metadata": {},
   "source": [
    "#### regrid"
   ]
  },
  {
   "cell_type": "code",
   "execution_count": null,
   "id": "8b560f12-9167-468e-9aed-5b3c6473d385",
   "metadata": {},
   "outputs": [],
   "source": [
    "## regrid consolidated\n",
    "data_cons_regrid = regrid(data_cons)\n",
    "data_oper_regrid = regrid(data_oper)"
   ]
  },
  {
   "cell_type": "markdown",
   "id": "756454f1-08d6-4812-afda-fd2f6e3c0de9",
   "metadata": {},
   "source": [
    "#### Merge and save to file"
   ]
  },
  {
   "cell_type": "code",
   "execution_count": null,
   "id": "4418381c-976e-4f32-89e6-58a057d0be6d",
   "metadata": {},
   "outputs": [],
   "source": [
    "## concatenate and add attributes\n",
    "data = xr.concat([data_cons_regrid, data_oper_regrid], dim=\"time_counter\")\n",
    "data.attrs = data_cons[\"sohefldo\"].attrs\n",
    "\n",
    "## save\n",
    "data.to_netcdf(ORAS_FP / \"nhf_1958-2020.nc\")"
   ]
  }
 ],
 "metadata": {
  "kernelspec": {
   "display_name": "Python 3 (ipykernel)",
   "language": "python",
   "name": "python3"
  },
  "language_info": {
   "codemirror_mode": {
    "name": "ipython",
    "version": 3
   },
   "file_extension": ".py",
   "mimetype": "text/x-python",
   "name": "python",
   "nbconvert_exporter": "python",
   "pygments_lexer": "ipython3",
   "version": "3.13.3"
  }
 },
 "nbformat": 4,
 "nbformat_minor": 5
}
