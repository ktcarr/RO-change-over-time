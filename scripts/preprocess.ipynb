{
 "cells": [
  {
   "cell_type": "markdown",
   "id": "287d082a-1ad3-4544-b5d8-25ad7a9da4e9",
   "metadata": {},
   "source": [
    "## Imports"
   ]
  },
  {
   "cell_type": "code",
   "execution_count": null,
   "id": "3a6a29b8-4a30-45c8-99c2-7822bb9738b7",
   "metadata": {},
   "outputs": [],
   "source": [
    "import xarray as xr\n",
    "import pathlib\n",
    "import numpy as np\n",
    "\n",
    "## specify filepath for data\n",
    "DATA_FP = pathlib.Path(\"../data/mpi\")"
   ]
  },
  {
   "cell_type": "markdown",
   "id": "ae8ee97b-5871-40d3-b923-bbf84af00c1a",
   "metadata": {},
   "source": [
    "## Functions"
   ]
  },
  {
   "cell_type": "code",
   "execution_count": null,
   "id": "83c1197f-1557-42b0-8ab7-29fe2b11f77d",
   "metadata": {},
   "outputs": [],
   "source": [
    "def file_pattern(name, sim, n):\n",
    "    \"\"\"\n",
    "    Function to get file pattern. Args:\n",
    "        - name: \"ts\" or \"ssh\"\n",
    "        - simulation type: one of \"historical\" or \"ssp585\"\n",
    "        - n: ensemble member ID, ranging from 1 to 50\n",
    "    \"\"\"\n",
    "    return (DATA_FP / name).glob(f\"*{sim}*r{n}i*.nc\")\n",
    "\n",
    "\n",
    "def load_member(name, sim, n):\n",
    "    \"\"\"load ensemble member. Args:\n",
    "    - name: \"ts\" or \"ssh\"\n",
    "    - simulation type: one of \"historical\" or \"ssp585\"\n",
    "    - n: ensemble member ID, ranging from 1 to 50\n",
    "    \"\"\"\n",
    "    return xr.open_mfdataset(file_pattern(name, sim, n))\n",
    "\n",
    "\n",
    "def spatial_avg(data):\n",
    "    \"\"\"get spatial average, weighting by cos of latitude\"\"\"\n",
    "\n",
    "    ## get weighted data\n",
    "    weights = np.cos(np.deg2rad(data.latitude))\n",
    "\n",
    "    return data.weighted(weights).mean([\"latitude\", \"longitude\"])\n",
    "\n",
    "\n",
    "class eof:\n",
    "    def __init__(self, data):\n",
    "\n",
    "        ## stack latitude and longitude into one dimension\n",
    "        data_stacked = data.stack(posn=[\"latitude\", \"longitude\"])\n",
    "\n",
    "        ## find nan values\n",
    "        nan_mask = np.isnan(data_stacked.isel(time=0))\n",
    "\n",
    "        ## filter out NaNs and compute SVD\n",
    "        data_nonan = data_stacked.isel(posn=~nan_mask.values)\n",
    "\n",
    "        ## compute SVD\n",
    "        self.u, self.s, self.vt = np.linalg.svd(data_nonan.values, full_matrices=False)\n",
    "\n",
    "        return"
   ]
  },
  {
   "cell_type": "markdown",
   "id": "d26ae136-59b4-4ea4-914f-7e589447c20d",
   "metadata": {},
   "source": [
    "Preprocessing steps\n",
    "1. Compute spatial patterns\n",
    "2. Compress data\n",
    "3. Check compression (compare recon of random ensemble to actual)\n",
    "4. Remove ensemble mean (external forcing)\n",
    "5. Check ho"
   ]
  },
  {
   "cell_type": "markdown",
   "id": "fb515825-a6ca-4dd1-be1b-a8b05ab52a78",
   "metadata": {},
   "source": [
    "#### compute EOFs"
   ]
  },
  {
   "cell_type": "code",
   "execution_count": null,
   "id": "af47a970-288e-4dbd-bfc5-a1bb53cbb3f1",
   "metadata": {},
   "outputs": [],
   "source": [
    "## load single member\n",
    "data = xr.concat(\n",
    "    [load_member(\"ts\", \"historical\", 1), load_member(\"ts\", \"ssp585\", 1)], dim=\"time\"\n",
    ")\n",
    "data.load()\n",
    "\n",
    "## initialize EOF object\n",
    "e = eof(data[\"sst\"])"
   ]
  }
 ],
 "metadata": {
  "kernelspec": {
   "display_name": "Python 3 (ipykernel)",
   "language": "python",
   "name": "python3"
  },
  "language_info": {
   "codemirror_mode": {
    "name": "ipython",
    "version": 3
   },
   "file_extension": ".py",
   "mimetype": "text/x-python",
   "name": "python",
   "nbconvert_exporter": "python",
   "pygments_lexer": "ipython3",
   "version": "3.13.2"
  }
 },
 "nbformat": 4,
 "nbformat_minor": 5
}
